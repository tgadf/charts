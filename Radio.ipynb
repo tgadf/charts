{
 "cells": [
  {
   "cell_type": "code",
   "execution_count": 1,
   "metadata": {},
   "outputs": [
    {
     "data": {
      "text/html": [
       "<style>.container { width:100% !important; }</style>"
      ],
      "text/plain": [
       "<IPython.core.display.HTML object>"
      ]
     },
     "metadata": {},
     "output_type": "display_data"
    },
    {
     "data": {
      "text/html": [
       "<style>div.output_area{max-height:10000px;overflow:scroll;}</style>"
      ],
      "text/plain": [
       "<IPython.core.display.HTML object>"
      ]
     },
     "metadata": {},
     "output_type": "display_data"
    },
    {
     "name": "stderr",
     "output_type": "stream",
     "text": [
      "/Users/tgadfort/opt/anaconda3/envs/py37/lib/python3.7/site-packages/sklearn/externals/joblib/__init__.py:15: FutureWarning: sklearn.externals.joblib is deprecated in 0.21 and will be removed in 0.23. Please import this functionality directly from joblib, which can be installed with: pip install joblib. If this warning is raised when loading pickled models, you may need to re-serialize those models with scikit-learn 0.21+.\n",
      "  warnings.warn(msg, category=FutureWarning)\n"
     ]
    },
    {
     "name": "stdout",
     "output_type": "stream",
     "text": [
      "Python: 3.7.7 (default, Mar 26 2020, 10:32:53) \n",
      "[Clang 4.0.1 (tags/RELEASE_401/final)]\n",
      "Notebook Last Run Initiated: 2021-02-13 21:46:08.859339\n"
     ]
    }
   ],
   "source": [
    "######################################################\n",
    "# Juypter\n",
    "######################################################\n",
    "%load_ext autoreload\n",
    "%autoreload\n",
    "from IPython.core.display import display, HTML\n",
    "display(HTML(\"<style>.container { width:100% !important; }</style>\"))\n",
    "display(HTML(\"\"\"<style>div.output_area{max-height:10000px;overflow:scroll;}</style>\"\"\"))\n",
    "\n",
    "from ioUtils import getFile, saveFile\n",
    "import urllib\n",
    "from webUtils import getHTML\n",
    "from fsUtils import setFile, isFile\n",
    "from fileUtils import getBaseFilename\n",
    "from time import sleep\n",
    "from searchUtils import findExt\n",
    "\n",
    "\n",
    "######################################################\n",
    "# Versions\n",
    "######################################################\n",
    "import sys\n",
    "print(\"Python: {0}\".format(sys.version))\n",
    "import datetime as dt\n",
    "start = dt.datetime.now()\n",
    "print(\"Notebook Last Run Initiated: \"+str(start))"
   ]
  },
  {
   "cell_type": "code",
   "execution_count": 3,
   "metadata": {},
   "outputs": [],
   "source": [
    "def downloadURL(url):\n",
    "    user_agent = 'Mozilla/5.0 (Windows; U; Windows NT 5.1; en-US; rv:1.9.0.7) Gecko/2009021910 Firefox/3.0.7'\n",
    "    headers={'User-Agent':user_agent,} \n",
    "\n",
    "    print(\"Now Downloading {0}\".format(url))\n",
    "\n",
    "    request=urllib.request.Request(url,None,headers) #The assembled request\n",
    "    response = urllib.request.urlopen(request)\n",
    "    data = response.read() # The data u need\n",
    "        \n",
    "    return data, response.getcode()"
   ]
  },
  {
   "cell_type": "markdown",
   "metadata": {},
   "source": [
    "# Radio"
   ]
  },
  {
   "cell_type": "code",
   "execution_count": 20,
   "metadata": {},
   "outputs": [
    {
     "name": "stdout",
     "output_type": "stream",
     "text": [
      "Now Downloading https://kworb.net/radio/archives/20150630.html\n",
      "  --> This file is 10.3kB.\n",
      "Now Downloading https://kworb.net/radio/archives/20160213.html\n",
      "  --> This file is 10.1kB.\n",
      "Now Downloading https://kworb.net/radio/archives/20201103.html\n",
      "  --> This file is 12.4kB.\n",
      "Now Downloading https://kworb.net/radio/archives/20120922.html\n",
      "  --> This file is 10.5kB.\n",
      "Now Downloading https://kworb.net/radio/archives/20180428.html\n",
      "  --> This file is 11.5kB.\n",
      "Now Downloading https://kworb.net/radio/archives/20131212.html\n",
      "  --> This file is 9.5kB.\n",
      "Now Downloading https://kworb.net/radio/archives/20181104.html\n",
      "  --> This file is 12.3kB.\n",
      "Now Downloading https://kworb.net/radio/archives/20140807.html\n",
      "  --> This file is 10.2kB.\n",
      "Now Downloading https://kworb.net/radio/archives/20170603.html\n",
      "  --> This file is 10.9kB.\n",
      "Now Downloading https://kworb.net/radio/archives/20120903.html\n",
      "  --> This file is 11.2kB.\n",
      "Now Downloading https://kworb.net/radio/archives/20161002.html\n",
      "  --> This file is 10.6kB.\n",
      "Now Downloading https://kworb.net/radio/archives/20201021.html\n",
      "  --> This file is 12.3kB.\n",
      "Now Downloading https://kworb.net/radio/archives/20150710.html\n",
      "  --> This file is 10.1kB.\n",
      "Now Downloading https://kworb.net/radio/archives/20170805.html\n",
      "  --> This file is 11.1kB.\n",
      "Now Downloading https://kworb.net/radio/archives/20150312.html\n",
      "  --> This file is 10.1kB.\n",
      "Now Downloading https://kworb.net/radio/archives/20191220.html\n",
      "  --> This file is 11.0kB.\n",
      "Now Downloading https://kworb.net/radio/archives/20170714.html\n",
      "  --> This file is 11.4kB.\n",
      "Now Downloading https://kworb.net/radio/archives/20161206.html\n",
      "  --> This file is 10.0kB.\n",
      "Now Downloading https://kworb.net/radio/archives/20141030.html\n",
      "  --> This file is 10.1kB.\n",
      "Now Downloading https://kworb.net/radio/archives/20140124.html\n",
      "  --> This file is 9.6kB.\n",
      "Now Downloading https://kworb.net/radio/archives/20160216.html\n",
      "  --> This file is 10.1kB.\n"
     ]
    }
   ],
   "source": [
    "from time import sleep\n",
    "from random import choice, randint\n",
    "from fileUtils import getBaseFilename\n",
    "from webUtils import getHTML\n",
    "\n",
    "chartNames=[\"radio\"]\n",
    "for chartName in chartNames:\n",
    "    ifile=\"{0}.p\".format(chartName)\n",
    "    bsdata = getHTML(ifile)\n",
    "    refs = bsdata.findAll(\"a\")    \n",
    "    for rnd in range(25):\n",
    "        ref  = choice(refs[1:])\n",
    "        url  = \"https://kworb.net/{0}/archives/{1}\".format(chartName, ref.text)\n",
    "        savename = \"itunes/{0}_{1}.p\".format(chartName, getBaseFilename(ref.text))\n",
    "        if isFile(savename):\n",
    "            continue\n",
    "\n",
    "        data, code = downloadURL(url)\n",
    "        saveFile(idata=data, ifile=savename)\n",
    "        sleep(2)"
   ]
  },
  {
   "cell_type": "markdown",
   "metadata": {},
   "source": [
    "# iTunes"
   ]
  },
  {
   "cell_type": "code",
   "execution_count": 18,
   "metadata": {},
   "outputs": [
    {
     "name": "stdout",
     "output_type": "stream",
     "text": [
      "========================= eu =========================\n",
      "Now Downloading https://kworb.net/eu/archive/20180425.html\n",
      "  --> This file is 20.4kB.\n",
      "Now Downloading https://kworb.net/eu/archive/20190209.html\n",
      "  --> This file is 19.1kB.\n",
      "Now Downloading https://kworb.net/eu/archive/20190607.html\n",
      "  --> This file is 19.3kB.\n",
      "Now Downloading https://kworb.net/eu/archive/20191223.html\n",
      "  --> This file is 19.2kB.\n",
      "Now Downloading https://kworb.net/eu/archive/20200121.html\n",
      "  --> This file is 19.3kB.\n",
      "========================= ww =========================\n",
      "Now Downloading https://kworb.net/ww/archive/20170609.html\n",
      "  --> This file is 35.9kB.\n",
      "Now Downloading https://kworb.net/ww/archive/20140406.html\n",
      "  --> This file is 44.7kB.\n",
      "Now Downloading https://kworb.net/ww/archive/20140419.html\n",
      "  --> This file is 45.0kB.\n",
      "Now Downloading https://kworb.net/ww/archive/20140326.html\n",
      "  --> This file is 44.7kB.\n",
      "Now Downloading https://kworb.net/ww/archive/20170407.html\n",
      "  --> This file is 36.4kB.\n",
      "========================= eua =========================\n",
      "Now Downloading https://kworb.net/eua/archive/20140209.html\n",
      "  --> This file is 24.7kB.\n",
      "Now Downloading https://kworb.net/eua/archive/20200906.html\n",
      "  --> This file is 20.5kB.\n",
      "Now Downloading https://kworb.net/eua/archive/20150503.html\n",
      "  --> This file is 23.2kB.\n",
      "Now Downloading https://kworb.net/eua/archive/20160506.html\n",
      "  --> This file is 23.5kB.\n",
      "========================= aww =========================\n",
      "Now Downloading https://kworb.net/aww/archive/20190117.html\n",
      "  --> This file is 24.7kB.\n",
      "Now Downloading https://kworb.net/aww/archive/20150627.html\n",
      "  --> This file is 36.8kB.\n",
      "Now Downloading https://kworb.net/aww/archive/20171128.html\n",
      "  --> This file is 35.1kB.\n",
      "Now Downloading https://kworb.net/aww/archive/20150904.html\n",
      "  --> This file is 35.0kB.\n",
      "Now Downloading https://kworb.net/aww/archive/20120415.html\n",
      "  --> This file is 16.5kB.\n"
     ]
    }
   ],
   "source": [
    "from time import sleep\n",
    "from random import choice, randint\n",
    "from fileUtils import getBaseFilename\n",
    "from fsUtils import isFile\n",
    "\n",
    "\n",
    "chartSource=\"itunes\"\n",
    "chartNames=[\"eu\", \"ww\", \"eua\", \"aww\"]\n",
    "for chartName in chartNames:\n",
    "    print('='*25,chartName,'='*25)\n",
    "    ifile=\"{0}_{1}.p\".format(chartSource, chartName)\n",
    "    bsdata = getHTML(ifile)\n",
    "    refs = bsdata.findAll(\"a\")\n",
    "    for rnd in range(5):\n",
    "        ref  = choice(refs[1:])\n",
    "        url = \"https://kworb.net/{0}/archive/{1}\".format(chartName, ref.text)\n",
    "        savename = \"{0}/{1}_{2}_{3}.p\".format(chartSource, chartSource, chartName, ref.text)\n",
    "        if isFile(savename):\n",
    "            continue\n",
    "\n",
    "        data, code = downloadURL(url)\n",
    "        saveFile(idata=data, ifile=savename)\n",
    "        sleep(2)"
   ]
  },
  {
   "cell_type": "markdown",
   "metadata": {},
   "source": [
    "# Apple"
   ]
  },
  {
   "cell_type": "code",
   "execution_count": 19,
   "metadata": {},
   "outputs": [
    {
     "name": "stdout",
     "output_type": "stream",
     "text": [
      "========================= songs =========================\n",
      "Now Downloading https://kworb.net/apple_songs/archive/20180701.html\n",
      "  --> This file is 28.5kB.\n",
      "Now Downloading https://kworb.net/apple_songs/archive/20190413.html\n",
      "  --> This file is 27.5kB.\n",
      "Now Downloading https://kworb.net/apple_songs/archive/20200430.html\n",
      "  --> This file is 28.4kB.\n",
      "Now Downloading https://kworb.net/apple_songs/archive/20170824.html\n",
      "  --> This file is 28.2kB.\n",
      "Now Downloading https://kworb.net/apple_songs/archive/20190829.html\n",
      "  --> This file is 29.3kB.\n",
      "========================= albums =========================\n",
      "Now Downloading https://kworb.net/apple_albums/archive/20180913.html\n",
      "  --> This file is 27.4kB.\n",
      "Now Downloading https://kworb.net/apple_albums/archive/20191217.html\n",
      "  --> This file is 27.6kB.\n",
      "Now Downloading https://kworb.net/apple_albums/archive/20190711.html\n",
      "  --> This file is 28.4kB.\n",
      "Now Downloading https://kworb.net/apple_albums/archive/20190321.html\n",
      "  --> This file is 27.3kB.\n",
      "========================= songs_eu =========================\n",
      "Now Downloading https://kworb.net/apple_songs_eu/archive/20181029.html\n",
      "  --> This file is 21.3kB.\n",
      "Now Downloading https://kworb.net/apple_songs_eu/archive/20190318.html\n",
      "  --> This file is 21.0kB.\n",
      "Now Downloading https://kworb.net/apple_songs_eu/archive/20201226.html\n",
      "  --> This file is 22.8kB.\n",
      "Now Downloading https://kworb.net/apple_songs_eu/archive/20190511.html\n",
      "  --> This file is 22.0kB.\n",
      "Now Downloading https://kworb.net/apple_songs_eu/archive/20181105.html\n",
      "  --> This file is 21.4kB.\n",
      "========================= albums_eu =========================\n",
      "Now Downloading https://kworb.net/apple_albums_eu/archive/20190903.html\n",
      "  --> This file is 21.6kB.\n",
      "Now Downloading https://kworb.net/apple_albums_eu/archive/20190111.html\n",
      "  --> This file is 20.7kB.\n",
      "Now Downloading https://kworb.net/apple_albums_eu/archive/20191204.html\n",
      "  --> This file is 21.3kB.\n",
      "Now Downloading https://kworb.net/apple_albums_eu/archive/20181109.html\n",
      "  --> This file is 20.7kB.\n",
      "Now Downloading https://kworb.net/apple_albums_eu/archive/20180620.html\n",
      "  --> This file is 21.1kB.\n"
     ]
    }
   ],
   "source": [
    "from time import sleep\n",
    "from random import choice, randint\n",
    "from fileUtils import getBaseFilename\n",
    "from fsUtils import isFile\n",
    "\n",
    "\n",
    "chartSource=\"apple\"\n",
    "chartNames=[\"songs\", \"albums\", \"songs_eu\", \"albums_eu\"]\n",
    "for chartName in chartNames:\n",
    "    print('='*25,chartName,'='*25)\n",
    "    ifile=\"{0}_{1}.p\".format(chartSource, chartName)\n",
    "    bsdata = getHTML(ifile)\n",
    "    refs = bsdata.findAll(\"a\")\n",
    "    for rnd in range(5):\n",
    "        ref  = choice(refs[1:])\n",
    "        url  = \"https://kworb.net/{0}_{1}/archive/{2}\".format(chartSource, chartName, ref.text)\n",
    "        savename = \"{0}/{1}_{2}_{3}.p\".format(chartSource, chartSource, chartName, getBaseFilename(ref.text))\n",
    "        if isFile(savename):\n",
    "            continue\n",
    "\n",
    "        data, code = downloadURL(url)\n",
    "        saveFile(idata=data, ifile=savename)\n",
    "        sleep(2)"
   ]
  },
  {
   "cell_type": "code",
   "execution_count": null,
   "metadata": {},
   "outputs": [],
   "source": []
  }
 ],
 "metadata": {
  "kernelspec": {
   "display_name": "Python 3",
   "language": "python",
   "name": "python3"
  },
  "language_info": {
   "codemirror_mode": {
    "name": "ipython",
    "version": 3
   },
   "file_extension": ".py",
   "mimetype": "text/x-python",
   "name": "python",
   "nbconvert_exporter": "python",
   "pygments_lexer": "ipython3",
   "version": "3.7.7"
  },
  "toc": {
   "base_numbering": 1,
   "nav_menu": {},
   "number_sections": true,
   "sideBar": true,
   "skip_h1_title": false,
   "title_cell": "Table of Contents",
   "title_sidebar": "Contents",
   "toc_cell": false,
   "toc_position": {},
   "toc_section_display": true,
   "toc_window_display": false
  }
 },
 "nbformat": 4,
 "nbformat_minor": 4
}
