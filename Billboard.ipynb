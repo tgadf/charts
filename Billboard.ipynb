{
 "cells": [
  {
   "cell_type": "markdown",
   "metadata": {},
   "source": [
    "# Billboard Functions"
   ]
  },
  {
   "cell_type": "code",
   "execution_count": 1,
   "metadata": {},
   "outputs": [
    {
     "data": {
      "text/html": [
       "<style>.container { width:100% !important; }</style>"
      ],
      "text/plain": [
       "<IPython.core.display.HTML object>"
      ]
     },
     "metadata": {},
     "output_type": "display_data"
    },
    {
     "data": {
      "text/html": [
       "<style>div.output_area{max-height:10000px;overflow:scroll;}</style>"
      ],
      "text/plain": [
       "<IPython.core.display.HTML object>"
      ]
     },
     "metadata": {},
     "output_type": "display_data"
    },
    {
     "name": "stderr",
     "output_type": "stream",
     "text": [
      "/Users/tgadfort/opt/anaconda3/envs/py37/lib/python3.7/site-packages/sklearn/externals/joblib/__init__.py:15: FutureWarning: sklearn.externals.joblib is deprecated in 0.21 and will be removed in 0.23. Please import this functionality directly from joblib, which can be installed with: pip install joblib. If this warning is raised when loading pickled models, you may need to re-serialize those models with scikit-learn 0.21+.\n",
      "  warnings.warn(msg, category=FutureWarning)\n"
     ]
    },
    {
     "name": "stdout",
     "output_type": "stream",
     "text": [
      "Python: 3.7.7 (default, Mar 26 2020, 10:32:53) \n",
      "[Clang 4.0.1 (tags/RELEASE_401/final)]\n",
      "Notebook Last Run Initiated: 2020-09-20 20:02:22.612170\n"
     ]
    }
   ],
   "source": [
    "## Basic stuff\n",
    "%load_ext autoreload\n",
    "%autoreload\n",
    "from IPython.core.display import display, HTML\n",
    "display(HTML(\"<style>.container { width:100% !important; }</style>\"))\n",
    "display(HTML(\"\"\"<style>div.output_area{max-height:10000px;overflow:scroll;}</style>\"\"\"))\n",
    "\n",
    "## Python Version\n",
    "import sys\n",
    "from glob import glob\n",
    "from os import getcwd\n",
    "from os.path import join\n",
    "import urllib\n",
    "from collections import Counter\n",
    "\n",
    "################################################################################\n",
    "## General Stuff\n",
    "################################################################################\n",
    "from searchUtils import findNearest\n",
    "from searchUtils import findExt\n",
    "from searchUtils import findPatternExt\n",
    "from fileUtils import getBasename, getDirname, getBaseFilename\n",
    "from timeUtils import clock, elapsed\n",
    "from webUtils import getHTML, getWebData\n",
    "from timeUtils import getDateTime, isDate\n",
    "from listUtils import getFlatList\n",
    "from ioUtils import saveJoblib, loadJoblib, saveFile, getFile\n",
    "import urllib\n",
    "from time import sleep\n",
    "\n",
    "################################################################################\n",
    "## Database Stuff\n",
    "################################################################################\n",
    "from dbBase import dbBase\n",
    "from mainDB import mainDB\n",
    "from multiArtist import multiartist\n",
    "from matchAlbums import matchAlbums\n",
    "from masterdb import masterdb\n",
    "\n",
    "\n",
    "\n",
    "from multiArtist import multiartist\n",
    "print(\"Python: {0}\".format(sys.version))\n",
    "\n",
    "import datetime as dt\n",
    "start = dt.datetime.now()\n",
    "print(\"Notebook Last Run Initiated: \"+str(start))"
   ]
  },
  {
   "cell_type": "markdown",
   "metadata": {},
   "source": [
    "# Global Vars"
   ]
  },
  {
   "cell_type": "markdown",
   "metadata": {},
   "source": [
    "# Starter Class Section"
   ]
  },
  {
   "cell_type": "code",
   "execution_count": 2,
   "metadata": {},
   "outputs": [],
   "source": [
    "basedir = \"/Volumes/Piggy/Charts/\"\n",
    "try:\n",
    "    filename = glob(join(basedir, \"data\", \"billboard\", \"starter.html\"))[0]\n",
    "except:\n",
    "    print(\"Could not find starter HTML file!\")\n",
    "fdata = getHTML(filename)"
   ]
  },
  {
   "cell_type": "markdown",
   "metadata": {},
   "source": [
    "#### Extra"
   ]
  },
  {
   "cell_type": "code",
   "execution_count": null,
   "metadata": {},
   "outputs": [],
   "source": [
    "chartData  = {}\n",
    "dirname = None\n",
    "baseURL = \"https://www.billboard.com\"\n",
    "for iul,ul in enumerate(fdata.findAll(\"ul\")):\n",
    "    lis = ul.findAll(\"li\", {\"class\": \"chart-group__item\"})\n",
    "    for j,li in enumerate(lis):  \n",
    "        a = li.find('a')\n",
    "        if a is not None:\n",
    "            href = a['href']\n",
    "            text = a.text\n",
    "            subdir = getDirname(href)[1:]\n",
    "            chartData[text] = [baseURL, subdir, getBasename(href)]"
   ]
  },
  {
   "cell_type": "code",
   "execution_count": null,
   "metadata": {},
   "outputs": [],
   "source": [
    "#chartData"
   ]
  },
  {
   "cell_type": "markdown",
   "metadata": {},
   "source": [
    "# Download Yearly Information"
   ]
  },
  {
   "cell_type": "code",
   "execution_count": null,
   "metadata": {},
   "outputs": [],
   "source": [
    "from time import sleep\n",
    "years = [str(x) for x in range(1958,2014)]\n",
    "years = ['2019']\n",
    "for year in years:\n",
    "    url=\"https://www.billboard.com/archive/charts/{0}\".format(year)\n",
    "    user_agent = 'Mozilla/5.0 (Windows; U; Windows NT 5.1; en-US; rv:1.9.0.7) Gecko/2009021910 Firefox/3.0.7'\n",
    "    headers={'User-Agent':user_agent,}\n",
    "    \n",
    "    savedir = join(basedir, \"data\", \"billboard\", \"yearly\")\n",
    "    savename = join(savedir, \"{0}.p\".format(year))\n",
    "    if isFile(savename):\n",
    "        continue\n",
    "    \n",
    "    request=urllib.request.Request(url,None,headers) #The assembled request\n",
    "    response = urllib.request.urlopen(request)\n",
    "    data = response.read() # The data u need\n",
    "\n",
    "    print(\"Saving {0}\".format(savename))\n",
    "    saveJoblib(data=data, filename=savename, compress=True)\n",
    "    sleep(1)"
   ]
  },
  {
   "cell_type": "markdown",
   "metadata": {},
   "source": [
    "# Parse Yearly Information"
   ]
  },
  {
   "cell_type": "code",
   "execution_count": null,
   "metadata": {},
   "outputs": [],
   "source": [
    "downloads = {}\n",
    "baseURL = \"https://www.billboard.com\"\n",
    "for ifile in sorted(glob(join(basedir, \"data\", \"billboard\", \"yearly\", \"*.p\"))):\n",
    "    year = getBaseFilename(ifile)\n",
    "    if downloads.get(year) is None:\n",
    "        downloads[year] = {}\n",
    "    fdata = getHTML(ifile)\n",
    "    for iul,ul in enumerate(fdata.findAll(\"ul\")):\n",
    "        lis = ul.findAll(\"li\", {\"class\": \"chart-group__item\"})\n",
    "        for j,li in enumerate(lis):  \n",
    "            a = li.find('a')\n",
    "            if a is not None:\n",
    "                href = a['href']\n",
    "                text = a.text\n",
    "                subdir = getDirname(href)[1:]\n",
    "                downloads[year][href] = [baseURL, subdir, getBasename(href)]"
   ]
  },
  {
   "cell_type": "code",
   "execution_count": null,
   "metadata": {},
   "outputs": [],
   "source": [
    "downloads.keys()"
   ]
  },
  {
   "cell_type": "markdown",
   "metadata": {},
   "source": [
    "# Download Category Data"
   ]
  },
  {
   "cell_type": "code",
   "execution_count": null,
   "metadata": {
    "scrolled": false
   },
   "outputs": [],
   "source": [
    "baseURL = \"https://www.billboard.com\"\n",
    "\n",
    "for year, yearData in downloads.items():   \n",
    "    for href, hrefData in yearData.items():\n",
    "        url  = \"{0}/{1}\".format(baseURL, href)\n",
    "        year = getBasename(hrefData[1])\n",
    "        category = hrefData[2]\n",
    "\n",
    "        savedir  = join(basedir, \"data\", \"billboard\", \"categories\")\n",
    "        savename = join(savedir, \"{0}-{1}.p\".format(year, category))\n",
    "\n",
    "        if isFile(savename):\n",
    "            continue\n",
    "\n",
    "        print(\"  Trying to download and save {0}\".format(savename))\n",
    "        try:\n",
    "\n",
    "            user_agent = 'Mozilla/5.0 (Windows; U; Windows NT 5.1; en-US; rv:1.9.0.7) Gecko/2009021910 Firefox/3.0.7'\n",
    "            headers={'User-Agent':user_agent,} \n",
    "\n",
    "            request=urllib.request.Request(url,None,headers) #The assembled request\n",
    "            response = urllib.request.urlopen(request)\n",
    "            data = response.read() # The data u need\n",
    "        except:\n",
    "            continue\n",
    "\n",
    "        print(\"Saving {0}\".format(savename))\n",
    "        saveJoblib(data=data, filename=savename, compress=True)\n",
    "        sleep(1)        "
   ]
  },
  {
   "cell_type": "markdown",
   "metadata": {},
   "source": [
    "# Parse Category Data"
   ]
  },
  {
   "cell_type": "code",
   "execution_count": null,
   "metadata": {},
   "outputs": [],
   "source": [
    "data = {}\n",
    "\n",
    "baseURL = \"https://www.billboard.com\"\n",
    "names = [getBaseFilename(x) for x in sorted(glob(join(basedir, \"data\", \"billboard\", \"categories\", \"*.p\")))]\n",
    "categories = set([x[5:] for x in names])\n",
    "\n",
    "albumCategories  = [x for x in categories if x.endswith(\"albums\")]\n",
    "songCategories   = [x for x in categories if not x.endswith(\"albums\")]\n",
    "\n",
    "\n",
    "names = [getBaseFilename(x) for x in sorted(glob(join(basedir, \"data\", \"billboard\", \"categories\", \"*.p\")))]\n",
    "years = sorted(set([x[:4] for x in names]))\n",
    "\n",
    "print(\"There are {0} years\".format(len(years)))\n",
    "print(\"There are {0} charts\".format(len(categories)))\n",
    "print(\"There are {0} album charts\".format(len(albumCategories)))\n",
    "print(\"There are {0} song charts\".format(len(songCategories)))"
   ]
  },
  {
   "cell_type": "code",
   "execution_count": null,
   "metadata": {},
   "outputs": [],
   "source": [
    "#categories"
   ]
  },
  {
   "cell_type": "code",
   "execution_count": null,
   "metadata": {},
   "outputs": [],
   "source": []
  },
  {
   "cell_type": "code",
   "execution_count": null,
   "metadata": {},
   "outputs": [],
   "source": [
    "def parseBillboardFile(ifile):\n",
    "    fdata = getHTML(ifile)\n",
    "    data  = {}\n",
    "    for i,table in enumerate(fdata.findAll('table')):\n",
    "        ths = table.findAll(\"th\")\n",
    "        trs = table.findAll(\"tr\")\n",
    "\n",
    "        headers = [x.text for x in ths]\n",
    "        for j,tr in enumerate(trs[1:]):\n",
    "            tds  = tr.findAll('td')\n",
    "            vals = [x.text for x in tds]\n",
    "            #print(headers,vals)\n",
    "\n",
    "            if len(vals) == 3:\n",
    "                date,name,artist = vals\n",
    "                try:\n",
    "                    date = getDateTime(\", \".join([date, year]))\n",
    "                except:\n",
    "                    print(vals)\n",
    "                    print(\", \".join([date, year]))\n",
    "\n",
    "                    1/0\n",
    "            elif len(vals) == 1:\n",
    "                date = vals[0]\n",
    "                try:\n",
    "                    date = getDateTime(\", \".join([date, year]))\n",
    "                except:\n",
    "                    print(vals)\n",
    "                    1/0\n",
    "\n",
    "            if not isDate(date):\n",
    "                raise ValueError(\"Could not form date for {0}\".format(date))\n",
    "\n",
    "            date = printDateTime(date)\n",
    "            if data.get(date) is not None:\n",
    "                raise ValueError(\"Already seen this date!!!\")\n",
    "            data[date] = {\"Artist\": artist, \"Name\": name}\n",
    "            \n",
    "            #print(\"{0: <12}{1}\".format(date, data[date]))\n",
    "            continue\n",
    "            \n",
    "            \n",
    "            if data.get(date) is None:\n",
    "                data[date] = {}\n",
    "            #print(\"{0: <20}{1: <20}{2: <20}{3: <20}\".format(artist, name, category, date))\n",
    "            #continue\n",
    "            if data.get(artist) is None:\n",
    "                data[artist] = {}\n",
    "                #print(\"Artist: {0}\".format(artist))\n",
    "            if data[artist].get(name) is None:\n",
    "                data[artist][name] = {}\n",
    "                #print(\"\\tSong: {0} ({1})\".format(name, len(data[artist])))\n",
    "            if data[artist][name].get(category) is None:\n",
    "                data[artist][name][category] = []\n",
    "            data[artist][name][category].append([date])\n",
    "\n",
    "    return data"
   ]
  },
  {
   "cell_type": "code",
   "execution_count": null,
   "metadata": {},
   "outputs": [],
   "source": [
    "catdir = join(basedir, \"data\", \"billboard\", \"categories\")\n",
    "for year in years:\n",
    "    data  = {}\n",
    "    files = findPatternExt(catdir, pattern=year, ext='.p')    \n",
    "    for ifile in files:\n",
    "        chart   = getBaseFilename(ifile)\n",
    "        chart   = \"-\".join(chart.split('-')[1:])\n",
    "        results = parseBillboardFile(ifile)\n",
    "        data[chart] = results\n",
    "        print(\"{0: <10}{1: <30}{2}\".format(year, chart, len(results)))\n",
    "        \n",
    "    savedir = join(basedir, \"data\", \"billboard\", \"results\")\n",
    "    savename = join(savedir, \"{0}.p\".format(year))\n",
    "    print(\"Saving {0}\".format(savename))\n",
    "    saveJoblib(data=data, filename=savename, compress=True)"
   ]
  },
  {
   "cell_type": "markdown",
   "metadata": {},
   "source": [
    "# Aggregrate Charts"
   ]
  },
  {
   "cell_type": "code",
   "execution_count": 17,
   "metadata": {},
   "outputs": [
    {
     "name": "stdout",
     "output_type": "stream",
     "text": [
      "/Volumes/Piggy/Charts/\n"
     ]
    }
   ],
   "source": [
    "results = {}\n",
    "print(basedir)\n",
    "savedir = join(basedir, \"data\", \"billboard\", \"results\")\n",
    "files = sorted(findExt(savedir, \".p\"))"
   ]
  },
  {
   "cell_type": "code",
   "execution_count": 18,
   "metadata": {},
   "outputs": [],
   "source": [
    "def getArtistRenames():\n",
    "    artistRenames = getFile(\"masterRename.yaml\")\n",
    "    return artistRenames\n",
    "\n",
    "from artistIgnores import getArtistIgnores"
   ]
  },
  {
   "cell_type": "code",
   "execution_count": 19,
   "metadata": {},
   "outputs": [],
   "source": [
    "from collections import Counter\n",
    "def findArtistData(minYear=2019, maxYear=3000, country=None):\n",
    "    artistRenames = getArtistRenames()\n",
    "    renameStats   = Counter()\n",
    "    fullChartData = {}\n",
    "    chartData     = {}\n",
    "    #country       = \"USA\"\n",
    "    country       = country\n",
    "    chartCounter  = Counter()\n",
    "    nonUS = [\"BLU\", \"DSI\", \"CRI\", \"HTA\", \"HTL\", \"LDT\", \"LSS\", \"COA\", \"JPN\", \"JSI\"]\n",
    "    nonUS += [\"regional-mexican-albums\", \"latin-pop-albums\", \"latin-songs\", \"world-albums\", \"tropical-albums\", \"latin-albums\"]\n",
    "    nonUS += ['canadian-albums', 'canadian-hot-100', 'latin-digital-song-sales', 'japan-hot-100', 'latin-streaming-songs', 'china-v-chart', 'billboard-argentina-hot-100']\n",
    "    nonUS += ['latin-airplay', 'latin-pop-songs', 'reggae-albums', 'regional-mexican-songs', \"tropical-songs\"]\n",
    "    \n",
    "    nonMusic = [\"classical-albums\"]\n",
    "\n",
    "    mixMusic = [\"bluegrass-albums\", \"gospel-airplay\", \"new-age-albums\", \"heatseekers-albums\"]\n",
    "\n",
    "    for ifile in files:\n",
    "        print(ifile,end='\\t')\n",
    "        fdata = getFile(ifile)\n",
    "        for chartName, cnameResults in fdata.items():\n",
    "            for date, dResults in cnameResults.items():\n",
    "                if minYear is not None:\n",
    "                    if getDateTime(date).year < int(minYear):\n",
    "                        continue\n",
    "                if maxYear is not None:\n",
    "                    if getDateTime(date).year > int(maxYear):\n",
    "                        continue\n",
    "\n",
    "                if chartName in nonMusic:\n",
    "                    continue        \n",
    "                if chartName in mixMusic:\n",
    "                    continue\n",
    "                if chartName.startswith(\"gospel\"):\n",
    "                    continue\n",
    "                if chartName.startswith(\"bluegrass\"):\n",
    "                    continue\n",
    "                if chartName.startswith(\"classical\"):\n",
    "                    continue\n",
    "                if chartName.startswith(\"jazz\"):\n",
    "                    continue\n",
    "                if chartName.startswith(\"holiday\"):\n",
    "                    continue\n",
    "                if chartName.startswith(\"comedy\"):\n",
    "                    continue\n",
    "                if chartName.startswith(\"soundtracks\"):\n",
    "                    continue\n",
    "                if chartName.startswith(\"new-age\"):\n",
    "                    continue\n",
    "                if chartName.startswith(\"heatseekers\"):\n",
    "                    continue\n",
    "                if chartName.startswith(\"dance\"):\n",
    "                    continue\n",
    "                if chartName.startswith(\"christian\"):\n",
    "                    continue\n",
    "                if chartName.startswith(\"blues\"):\n",
    "                    continue\n",
    "                if chartName.startswith(\"kids\"):\n",
    "                    continue\n",
    "                if country in [\"USA\", \"US\"]:\n",
    "                    if chartName in nonUS:\n",
    "                        continue\n",
    "\n",
    "                artist = dResults[\"Artist\"]\n",
    "\n",
    "                renamedArtist = artist\n",
    "                for testArtist in artistRenames.keys():\n",
    "                    if artist.find(testArtist) != -1:\n",
    "                        tmp = renamedArtist\n",
    "                        renamedArtist = renamedArtist.replace(testArtist, artistRenames.get(testArtist))\n",
    "                        #print(\"{0}  <---- From ---- {1}\".format(renamedArtist, tmp))\n",
    "                        renameStats[renamedArtist] += 1\n",
    "                        artist = renamedArtist   \n",
    "\n",
    "                ignoreStatus = getArtistIgnores(artist)\n",
    "                if ignoreStatus is False:\n",
    "                    continue\n",
    "\n",
    "                    \n",
    "                chartCounter[chartName] += 1\n",
    "\n",
    "                album  = dResults[\"Name\"]\n",
    "                \n",
    "                if chartData.get(artist) is None:\n",
    "                    chartData[artist] = Counter()\n",
    "                chartData[artist][album] += 1\n",
    "\n",
    "\n",
    "                \n",
    "                \n",
    "                if fullChartData.get(artist) is None:\n",
    "                    fullChartData[artist] = {\"Songs\": {}, \"Albums\": {}}\n",
    "                if chartName.endswith(\"Albums\"):\n",
    "                    key = \"Albums\"\n",
    "                else:\n",
    "                    key = \"Songs\"\n",
    "                if fullChartData[artist][key].get(album) is None:\n",
    "                    fullChartData[artist][key][album] = {}\n",
    "                if fullChartData[artist][key][album].get(chartName) is None:\n",
    "                    fullChartData[artist][key][album][chartName] = {}\n",
    "                fullChartData[artist][key][album][chartName][date] = 0\n",
    "        print(len(fullChartData))\n",
    "\n",
    "\n",
    "\n",
    "    artistAlbumData = {artist: list(artistData[\"Songs\"].keys()) + list(artistData[\"Albums\"].keys()) for artist,artistData in fullChartData.items()}        \n",
    "\n",
    "    if artistRenames is not None:\n",
    "        print(\"Renamed {0} artists\".format(len(renameStats)))\n",
    "        print(\"Most Common Artists:\")\n",
    "        for item in renameStats.most_common(5):\n",
    "            print(item)\n",
    "\n",
    "    saveFile(idata=chartCounter, ifile=\"chartCounter.p\", debug=True)\n",
    "    saveFile(idata=chartData, ifile=\"chartData.p\", debug=True)\n",
    "\n",
    "\n",
    "    saveFile(idata=artistAlbumData, ifile=\"currentBillboardArtistAlbumData.p\", debug=True)\n",
    "    saveFile(idata=fullChartData, ifile=\"currentBillboardFullChartArtistAlbumData.p\", debug=True)\n",
    "\n",
    "    _, _ = clock(\"Last Run\")"
   ]
  },
  {
   "cell_type": "code",
   "execution_count": 21,
   "metadata": {},
   "outputs": [
    {
     "name": "stdout",
     "output_type": "stream",
     "text": [
      "/Volumes/Piggy/Charts/data/billboard/results/1958.p\t0\n",
      "/Volumes/Piggy/Charts/data/billboard/results/1959.p\t0\n",
      "/Volumes/Piggy/Charts/data/billboard/results/1960.p\t0\n",
      "/Volumes/Piggy/Charts/data/billboard/results/1961.p\t0\n",
      "/Volumes/Piggy/Charts/data/billboard/results/1962.p\t0\n",
      "/Volumes/Piggy/Charts/data/billboard/results/1963.p\t0\n",
      "/Volumes/Piggy/Charts/data/billboard/results/1964.p\t0\n",
      "/Volumes/Piggy/Charts/data/billboard/results/1965.p\t0\n",
      "/Volumes/Piggy/Charts/data/billboard/results/1966.p\t0\n",
      "/Volumes/Piggy/Charts/data/billboard/results/1967.p\t0\n",
      "/Volumes/Piggy/Charts/data/billboard/results/1968.p\t0\n",
      "/Volumes/Piggy/Charts/data/billboard/results/1969.p\t0\n",
      "/Volumes/Piggy/Charts/data/billboard/results/1970.p\t0\n",
      "/Volumes/Piggy/Charts/data/billboard/results/1971.p\t0\n",
      "/Volumes/Piggy/Charts/data/billboard/results/1972.p\t0\n",
      "/Volumes/Piggy/Charts/data/billboard/results/1973.p\t0\n",
      "/Volumes/Piggy/Charts/data/billboard/results/1974.p\t0\n",
      "/Volumes/Piggy/Charts/data/billboard/results/1975.p\t0\n",
      "/Volumes/Piggy/Charts/data/billboard/results/1976.p\t0\n",
      "/Volumes/Piggy/Charts/data/billboard/results/1977.p\t0\n",
      "/Volumes/Piggy/Charts/data/billboard/results/1978.p\t0\n",
      "/Volumes/Piggy/Charts/data/billboard/results/1979.p\t0\n",
      "/Volumes/Piggy/Charts/data/billboard/results/1980.p\t0\n",
      "/Volumes/Piggy/Charts/data/billboard/results/1981.p\t0\n",
      "/Volumes/Piggy/Charts/data/billboard/results/1982.p\t0\n",
      "/Volumes/Piggy/Charts/data/billboard/results/1983.p\t0\n",
      "/Volumes/Piggy/Charts/data/billboard/results/1984.p\t0\n",
      "/Volumes/Piggy/Charts/data/billboard/results/1985.p\t99\n",
      "/Volumes/Piggy/Charts/data/billboard/results/1986.p\t171\n",
      "/Volumes/Piggy/Charts/data/billboard/results/1987.p\t228\n",
      "/Volumes/Piggy/Charts/data/billboard/results/1988.p\t289\n",
      "/Volumes/Piggy/Charts/data/billboard/results/1989.p\t364\n",
      "/Volumes/Piggy/Charts/data/billboard/results/1990.p\t429\n",
      "/Volumes/Piggy/Charts/data/billboard/results/1991.p\t499\n",
      "/Volumes/Piggy/Charts/data/billboard/results/1992.p\t552\n",
      "/Volumes/Piggy/Charts/data/billboard/results/1993.p\t613\n",
      "/Volumes/Piggy/Charts/data/billboard/results/1994.p\t658\n",
      "/Volumes/Piggy/Charts/data/billboard/results/1995.p\t705\n",
      "/Volumes/Piggy/Charts/data/billboard/results/1996.p\t751\n",
      "/Volumes/Piggy/Charts/data/billboard/results/1997.p\t805\n",
      "/Volumes/Piggy/Charts/data/billboard/results/1998.p\t865\n",
      "/Volumes/Piggy/Charts/data/billboard/results/1999.p\t922\n",
      "/Volumes/Piggy/Charts/data/billboard/results/2000.p\t972\n",
      "/Volumes/Piggy/Charts/data/billboard/results/2001.p\t1040\n",
      "/Volumes/Piggy/Charts/data/billboard/results/2002.p\t1092\n",
      "/Volumes/Piggy/Charts/data/billboard/results/2003.p\t1149\n",
      "/Volumes/Piggy/Charts/data/billboard/results/2004.p\t1208\n",
      "/Volumes/Piggy/Charts/data/billboard/results/2005.p\t1263\n",
      "/Volumes/Piggy/Charts/data/billboard/results/2006.p\t1263\n",
      "/Volumes/Piggy/Charts/data/billboard/results/2007.p\t1263\n",
      "/Volumes/Piggy/Charts/data/billboard/results/2008.p\t1263\n",
      "/Volumes/Piggy/Charts/data/billboard/results/2009.p\t1263\n",
      "/Volumes/Piggy/Charts/data/billboard/results/2010.p\t1263\n",
      "/Volumes/Piggy/Charts/data/billboard/results/2011.p\t1263\n",
      "/Volumes/Piggy/Charts/data/billboard/results/2012.p\t1263\n",
      "/Volumes/Piggy/Charts/data/billboard/results/2013.p\t1263\n",
      "/Volumes/Piggy/Charts/data/billboard/results/2014.p\t1263\n",
      "/Volumes/Piggy/Charts/data/billboard/results/2015.p\t1263\n",
      "/Volumes/Piggy/Charts/data/billboard/results/2016.p\t1263\n",
      "/Volumes/Piggy/Charts/data/billboard/results/2017.p\t1263\n",
      "/Volumes/Piggy/Charts/data/billboard/results/2018.p\t1263\n",
      "/Volumes/Piggy/Charts/data/billboard/results/2019.p\t1263\n",
      "Renamed 229 artists\n",
      "Most Common Artists:\n",
      "('Céline Dion', 161)\n",
      "('Janet Jackson', 153)\n",
      "('Janet Jackson Jackson', 129)\n",
      "('Bob Marley & The Wailers', 106)\n",
      "('Bob Marley', 106)\n",
      "Saving data to chartCounter.p\n",
      "  --> This file is 383B.\n",
      "Saved data to chartCounter.p\n",
      "  --> This file is 383B.\n",
      "Saving data to chartData.p\n",
      "  --> This file is 72.7kB.\n",
      "Saved data to chartData.p\n",
      "  --> This file is 72.7kB.\n",
      "Saving data to currentBillboardArtistAlbumData.p\n",
      "  --> This file is 61.0kB.\n",
      "Saved data to currentBillboardArtistAlbumData.p\n",
      "  --> This file is 61.0kB.\n",
      "Saving data to currentBillboardFullChartArtistAlbumData.p\n",
      "  --> This file is 204.0kB.\n",
      "Saved data to currentBillboardFullChartArtistAlbumData.p\n",
      "  --> This file is 204.0kB.\n",
      "Current Time is Tue Sep 22, 2020 19:23:39 for Last Run\n"
     ]
    }
   ],
   "source": [
    "findArtistData(minYear=1985, maxYear=2005, country=\"US\")"
   ]
  },
  {
   "cell_type": "markdown",
   "metadata": {},
   "source": [
    "# Chart Analysis"
   ]
  },
  {
   "cell_type": "code",
   "execution_count": null,
   "metadata": {},
   "outputs": [],
   "source": [
    "chartCounter = getFile(\"chartCounter.p\")\n",
    "chartCounter.most_common()"
   ]
  },
  {
   "cell_type": "code",
   "execution_count": null,
   "metadata": {},
   "outputs": [],
   "source": [
    "chartData = getFile(\"chartData.p\")"
   ]
  },
  {
   "cell_type": "code",
   "execution_count": null,
   "metadata": {},
   "outputs": [],
   "source": [
    "chartData"
   ]
  },
  {
   "cell_type": "code",
   "execution_count": null,
   "metadata": {},
   "outputs": [],
   "source": []
  },
  {
   "cell_type": "code",
   "execution_count": null,
   "metadata": {},
   "outputs": [],
   "source": []
  },
  {
   "cell_type": "code",
   "execution_count": null,
   "metadata": {},
   "outputs": [],
   "source": []
  },
  {
   "cell_type": "code",
   "execution_count": null,
   "metadata": {},
   "outputs": [],
   "source": []
  },
  {
   "cell_type": "code",
   "execution_count": null,
   "metadata": {},
   "outputs": [],
   "source": []
  },
  {
   "cell_type": "code",
   "execution_count": null,
   "metadata": {},
   "outputs": [],
   "source": []
  },
  {
   "cell_type": "code",
   "execution_count": null,
   "metadata": {},
   "outputs": [],
   "source": []
  },
  {
   "cell_type": "code",
   "execution_count": null,
   "metadata": {},
   "outputs": [],
   "source": []
  },
  {
   "cell_type": "code",
   "execution_count": null,
   "metadata": {},
   "outputs": [],
   "source": []
  },
  {
   "cell_type": "code",
   "execution_count": null,
   "metadata": {},
   "outputs": [],
   "source": []
  },
  {
   "cell_type": "code",
   "execution_count": null,
   "metadata": {},
   "outputs": [],
   "source": []
  },
  {
   "cell_type": "code",
   "execution_count": null,
   "metadata": {},
   "outputs": [],
   "source": []
  },
  {
   "cell_type": "code",
   "execution_count": null,
   "metadata": {},
   "outputs": [],
   "source": []
  },
  {
   "cell_type": "code",
   "execution_count": null,
   "metadata": {},
   "outputs": [],
   "source": []
  },
  {
   "cell_type": "code",
   "execution_count": null,
   "metadata": {},
   "outputs": [],
   "source": []
  },
  {
   "cell_type": "code",
   "execution_count": null,
   "metadata": {},
   "outputs": [],
   "source": []
  },
  {
   "cell_type": "code",
   "execution_count": null,
   "metadata": {},
   "outputs": [],
   "source": []
  },
  {
   "cell_type": "code",
   "execution_count": null,
   "metadata": {},
   "outputs": [],
   "source": []
  },
  {
   "cell_type": "code",
   "execution_count": null,
   "metadata": {},
   "outputs": [],
   "source": []
  },
  {
   "cell_type": "code",
   "execution_count": null,
   "metadata": {},
   "outputs": [],
   "source": []
  },
  {
   "cell_type": "code",
   "execution_count": null,
   "metadata": {},
   "outputs": [],
   "source": []
  },
  {
   "cell_type": "code",
   "execution_count": null,
   "metadata": {},
   "outputs": [],
   "source": [
    "\n",
    "slimResults = Counter()\n",
    "for artist, artistData in results.items():\n",
    "    for key, keyData in artistData.items():\n",
    "        for album, albumData in keyData.items():\n",
    "            slimResults[artist] += sum({k: len(v) for k,v in albumData.items()}.values())"
   ]
  },
  {
   "cell_type": "code",
   "execution_count": null,
   "metadata": {},
   "outputs": [],
   "source": [
    "saveFile(idata = slimResults, ifile=\"billboardCounter.p\", debug=True)\n",
    "saveFile(idata = results,     ifile=\"billboardResults.p\", debug=True)"
   ]
  },
  {
   "cell_type": "markdown",
   "metadata": {},
   "source": [
    "# Get Billboard Results"
   ]
  },
  {
   "cell_type": "code",
   "execution_count": null,
   "metadata": {},
   "outputs": [],
   "source": [
    "slimResults = getFile(ifile=\"billboardCounter.p\", debug=True)\n",
    "fullResults = getFile(ifile=\"billboardResults.p\", debug=True)"
   ]
  },
  {
   "cell_type": "markdown",
   "metadata": {},
   "source": [
    "# Get Discogs"
   ]
  },
  {
   "cell_type": "code",
   "execution_count": null,
   "metadata": {},
   "outputs": [],
   "source": [
    "disc = discogs()\n",
    "discdf = disc.getMasterSlimArtistDiscogsDB()\n",
    "artistIDToName = discdf[\"DiscArtist\"].to_dict()\n",
    "from masterdb import getArtistAlbumsDB, discConv\n",
    "artistAlbumsDB = getArtistAlbumsDB(disc)\n",
    "\n",
    "artistNameToID = {}\n",
    "print(\"Found {0} ID -> Name entries\".format(len(artistIDToName)))\n",
    "for artistID,artistName in artistIDToName.items():\n",
    "    if artistNameToID.get(artistName) is None:\n",
    "        artistNameToID[artistName] = []\n",
    "    artistNameToID[artistName].append(artistID)\n",
    "print(\"Found {0} Name -> ID entries\".format(len(artistNameToID)))\n",
    "mulArts  = multiArtist(cutoff=0.9, discdata=artistNameToID, exact=False)"
   ]
  },
  {
   "cell_type": "markdown",
   "metadata": {},
   "source": [
    "# Check Renames"
   ]
  },
  {
   "cell_type": "code",
   "execution_count": null,
   "metadata": {},
   "outputs": [],
   "source": [
    "singleRenames = getFile(ifile=\"singleRenames.p\", debug=True)\n",
    "multiRenames  = getFile(ifile=\"multiRenames.p\", debug=True)\n",
    "knownArtists  = getFile(ifile=\"artistMap.p\", debug=True)"
   ]
  },
  {
   "cell_type": "code",
   "execution_count": null,
   "metadata": {},
   "outputs": [],
   "source": []
  },
  {
   "cell_type": "markdown",
   "metadata": {},
   "source": [
    "# Near Renames Artists"
   ]
  },
  {
   "cell_type": "code",
   "execution_count": null,
   "metadata": {},
   "outputs": [],
   "source": [
    "from searchUtils import findNearest\n",
    "cutoff = 0.9\n",
    "artistsToGet = {}\n",
    "for i, (artist, cnt) in enumerate(slimResults.most_common()):\n",
    "#for i, (artist, cnt) in enumerate(sorted(slimResults.items(), key=lambda pair: pair[1], reverse=False)):\n",
    "    if i <= 4500:\n",
    "        continue\n",
    "    if i % 250 == 0:\n",
    "        print(\"==>\",i,len(slimResults))\n",
    "    if multiRenames.get(artist) is not None:\n",
    "        artist = multiRenames[artist]\n",
    "    if singleRenames.get(artist) is not None:\n",
    "        idx    = str(singleRenames[artist])\n",
    "        artist = artistIDToName[idx]\n",
    "    if knownArtists.get(artist) is not None:\n",
    "        continue\n",
    "    if manualRenames.get(artist) is not None:\n",
    "        continue\n",
    "\n",
    "    matches = mulArts.getArtistNames(artist)\n",
    "    if len(matches) > 1:\n",
    "        continue\n",
    "\n",
    "    mdata = getMusicData(\"DiscArtist\", artist)\n",
    "    if mdata is None:\n",
    "        results = findNearest(artist, artistNameToID.keys(), num=1, cutoff=cutoff)      \n",
    "        if len(results) > 0:\n",
    "            artistsToGet[artist] = results\n",
    "            print(\"manualRenames[\\\"{0}\\\"] = \\\"{1}\\\"\".format(artist, results[0]))"
   ]
  },
  {
   "cell_type": "code",
   "execution_count": null,
   "metadata": {},
   "outputs": [],
   "source": [
    "findNearest"
   ]
  },
  {
   "cell_type": "code",
   "execution_count": null,
   "metadata": {},
   "outputs": [],
   "source": [
    "for k,v in artistsToGet.items():\n",
    "    print(\"keep[\\\"{0}\\\"] = {1}  #{2}\".format(k, v[0], v[1]))\n",
    "\n"
   ]
  },
  {
   "cell_type": "markdown",
   "metadata": {},
   "source": [
    "# Get Multi Results"
   ]
  },
  {
   "cell_type": "code",
   "execution_count": null,
   "metadata": {},
   "outputs": [],
   "source": [
    "from collections import Counter\n",
    "cutoff = 0.8\n",
    "multiMatchResult = {}\n",
    "for i, (artist, cnt) in enumerate(slimResults.most_common()):\n",
    "    if i > 0 and i % 1000 == 0:\n",
    "        print(\"Passed\",i,'/',len(slimResults))\n",
    "    prevArtist = None\n",
    "    if multiRenames.get(artist) is not None:\n",
    "        prevArtist = artist\n",
    "        artist = multiRenames[artist]\n",
    "    if singleRenames.get(artist) is not None:\n",
    "        idx    = str(singleRenames[artist])\n",
    "        artist = artistIDToName[idx]\n",
    "    if prevArtist is None:\n",
    "        prevArtist = artist\n",
    "    if knownArtists.get(prevArtist) is not None:\n",
    "        continue\n",
    "    if manualRenames.get(prevArtist) is not None:\n",
    "        prevArtist = manualRenames[prevArtist]\n",
    "    mdata = getMusicData(\"DiscArtist\", prevArtist)\n",
    "    if isinstance(mdata, DataFrame):\n",
    "        if mdata.shape[0] <= 1:\n",
    "            continue\n",
    "        matches = mdata[\"Name\"].index\n",
    "        artistAlbums = set(list(fullResults[prevArtist][\"Songs\"].keys()) + list(fullResults[prevArtist][\"Albums\"].keys()))\n",
    "        results = getBestArtistIDMatch(artist, artistAlbums, matches, N=3, cutoff=cutoff)\n",
    "        if results[2] is not None:\n",
    "            if results[2] >= cutoff:\n",
    "                print(i,\"/\",len(slimResults),'  \\t',artist,results)\n",
    "                multiMatchResult[artist] = list(results[:-1])"
   ]
  },
  {
   "cell_type": "code",
   "execution_count": null,
   "metadata": {},
   "outputs": [],
   "source": [
    "len(multiMatchResult)"
   ]
  },
  {
   "cell_type": "code",
   "execution_count": null,
   "metadata": {},
   "outputs": [],
   "source": [
    "print(len(knownArtists))\n",
    "knownArtists.update(multiMatchResult)\n",
    "print(len(knownArtists))\n",
    "saveFile(idata=knownArtists, ifile=\"artistMap.p\", debug=True)"
   ]
  },
  {
   "cell_type": "markdown",
   "metadata": {},
   "source": [
    "# Single Results"
   ]
  },
  {
   "cell_type": "code",
   "execution_count": null,
   "metadata": {},
   "outputs": [],
   "source": [
    "knownArtists[\"The Kingston Trio\"]"
   ]
  },
  {
   "cell_type": "code",
   "execution_count": null,
   "metadata": {},
   "outputs": [],
   "source": [
    "cutoff = 0.60\n",
    "singleResult = {}\n",
    "#for i, (artist, cnt) in enumerate(slimResults.most_common()):\n",
    "for i, (artist, cnt) in enumerate(sorted(slimResults.items(), key=lambda pair: pair[1], reverse=False)):\n",
    "    if i > 0 and i % 100 == 0 or i == 100:\n",
    "        print(\"Passed\",i,'/',len(slimResults))\n",
    "    if cnt < 1:\n",
    "        continue\n",
    "    prevArtist = None\n",
    "    if multiRenames.get(artist) is not None:\n",
    "        prevArtist = artist\n",
    "        artist = multiRenames[artist]\n",
    "    if singleRenames.get(artist) is not None:\n",
    "        idx    = str(singleRenames[artist])\n",
    "        artist = artistIDToName[idx]        \n",
    "    if prevArtist is None:\n",
    "        prevArtist = artist\n",
    "    if manualRenames.get(prevArtist) is not None:\n",
    "        prevArtist = manualRenames[prevArtist]\n",
    "    if knownArtists.get(prevArtist) is not None or knownArtists.get(artist) is not None:\n",
    "        continue\n",
    "    artistAlbums = set(list(fullResults[artist][\"Songs\"].keys()) + list(fullResults[artist][\"Albums\"].keys()))\n",
    "    match = mulArts.getArtistNames(artist                                                     )\n",
    "    if len(match) == 1:\n",
    "        mdata = getMusicData(\"DiscArtist\", list(match.keys())[0])\n",
    "        if not isinstance(mdata, DataFrame):\n",
    "            results = getBestArtistMatch(artist, artistAlbums, N=3, cutoff=cutoff)\n",
    "            if results[2] is not None:\n",
    "                if results[2] >= cutoff:\n",
    "                    print(i,\"/\",len(slimResults),'  \\t',artist,'\\t',results)\n",
    "                    singleResult[artist] = results\n",
    "                    if len(singleResult) > 1000:\n",
    "                        break"
   ]
  },
  {
   "cell_type": "code",
   "execution_count": null,
   "metadata": {},
   "outputs": [],
   "source": [
    "del singleResult[\"Murk vs. Kristine W\"]\n",
    "del singleResult[\"Chris Cox Vs. Happy Clappers\"]\n",
    "del singleResult[\"T.M.Revolution × Nana Mizuki\"]\n",
    "del singleResult[\"Bob Marley Vs. Funkstar De Luxe\"]"
   ]
  },
  {
   "cell_type": "code",
   "execution_count": null,
   "metadata": {},
   "outputs": [],
   "source": [
    "singleResults = {k: v[0] for k,v in singleResult.items()}\n",
    "print(\"Found {0} single results\".format(len(singleResults)))\n",
    "print(\"Found {0} all results\".format(len(knownArtists)))\n",
    "knownArtists.update(singleResults)\n",
    "print(\"Found {0} all results\".format(len(knownArtists)))\n",
    "saveFile(idata=knownArtists, ifile=\"artistMap.p\", debug=True)"
   ]
  },
  {
   "cell_type": "markdown",
   "metadata": {},
   "source": [
    "## Known Results"
   ]
  },
  {
   "cell_type": "code",
   "execution_count": null,
   "metadata": {},
   "outputs": [],
   "source": [
    "from collections import Counter\n",
    "cutoff = 0.8\n",
    "multiMatchResult = {}\n",
    "for i, (artist, cnt) in enumerate(slimResults.most_common()):\n",
    "    if i > 0 and i % 1000 == 0:\n",
    "        print(\"Passed\",i,'/',len(slimResults))\n",
    "    prevArtist = None\n",
    "    if multiRenames.get(artist) is not None:\n",
    "        prevArtist = artist\n",
    "        artist = multiRenames[artist]\n",
    "    if singleRenames.get(artist) is not None:\n",
    "        idx    = str(singleRenames[artist])\n",
    "        artist = artistIDToName[idx]\n",
    "    if prevArtist is None:\n",
    "        prevArtist = artist\n",
    "    if knownArtists.get(prevArtist) is not None:\n",
    "        continue\n",
    "    mdata = getMusicData(\"DiscArtist\", prevArtist)\n",
    "    if isinstance(mdata, DataFrame):\n",
    "        if mdata.shape[0] <= 1:\n",
    "            continue\n",
    "        matches = mdata[\"Name\"].index\n",
    "        artistAlbums = set(list(fullResults[prevArtist][\"Songs\"].keys()) + list(fullResults[prevArtist][\"Albums\"].keys()))\n",
    "        results = getBestArtistIDMatch(artist, artistAlbums, matches, N=3, cutoff=cutoff)\n",
    "        if results[2] is not None:\n",
    "            if results[2] >= cutoff:\n",
    "                print(i,\"/\",len(slimResults),'  \\t',artist,results)\n",
    "                multiMatchResult[artist] = list(results[:-1])"
   ]
  },
  {
   "cell_type": "code",
   "execution_count": null,
   "metadata": {},
   "outputs": [],
   "source": [
    "singleResults = {k: v[0] for k,v in multiMatchResult.items()}\n",
    "print(\"Found {0} single results\".format(len(singleResults)))\n",
    "print(\"Found {0} all results\".format(len(knownArtists)))\n",
    "knownArtists.update(singleResults)\n",
    "print(\"Found {0} all results\".format(len(knownArtists)))"
   ]
  },
  {
   "cell_type": "code",
   "execution_count": null,
   "metadata": {},
   "outputs": [],
   "source": [
    "saveFile(idata=knownArtists, ifile=\"singleRenames.p\")"
   ]
  },
  {
   "cell_type": "code",
   "execution_count": null,
   "metadata": {},
   "outputs": [],
   "source": []
  },
  {
   "cell_type": "code",
   "execution_count": null,
   "metadata": {},
   "outputs": [],
   "source": []
  },
  {
   "cell_type": "code",
   "execution_count": null,
   "metadata": {},
   "outputs": [],
   "source": []
  },
  {
   "cell_type": "code",
   "execution_count": null,
   "metadata": {},
   "outputs": [],
   "source": []
  },
  {
   "cell_type": "code",
   "execution_count": null,
   "metadata": {},
   "outputs": [],
   "source": []
  },
  {
   "cell_type": "code",
   "execution_count": null,
   "metadata": {},
   "outputs": [],
   "source": []
  },
  {
   "cell_type": "code",
   "execution_count": null,
   "metadata": {},
   "outputs": [],
   "source": []
  },
  {
   "cell_type": "code",
   "execution_count": null,
   "metadata": {},
   "outputs": [],
   "source": []
  },
  {
   "cell_type": "code",
   "execution_count": null,
   "metadata": {},
   "outputs": [],
   "source": []
  },
  {
   "cell_type": "code",
   "execution_count": null,
   "metadata": {},
   "outputs": [],
   "source": []
  },
  {
   "cell_type": "markdown",
   "metadata": {},
   "source": [
    "# Check For Misnames"
   ]
  },
  {
   "cell_type": "code",
   "execution_count": null,
   "metadata": {},
   "outputs": [],
   "source": []
  },
  {
   "cell_type": "code",
   "execution_count": null,
   "metadata": {},
   "outputs": [],
   "source": [
    "ma = multiartist(cutoff=0.9, discdata=discdata)"
   ]
  },
  {
   "cell_type": "code",
   "execution_count": null,
   "metadata": {},
   "outputs": [],
   "source": [
    "print(ma.getArtistNames('Lipps, Inc.') == {'Lipps, Inc.': ['159617', '26641', '101850']})\n",
    "print(ma.getArtistNames('Bob Wills & His Texas Playboys') == {'Bob Wills & His Texas Playboys': ['670000','786114','1134146','804668','804679','1004309','935875','935907']})\n",
    "print(ma.getArtistNames('Brad Paisley Duet With Carrie Underwood', debug=False) == {'Carrie Underwood': ['1011680'], 'Brad Paisley': ['313755']})\n",
    "print(ma.getArtistNames('Ray Charles With Willie Nelson', debug=False) == {'Willie Nelson': ['249449'], 'Ray Charles': ['521963', '30552']})"
   ]
  },
  {
   "cell_type": "markdown",
   "metadata": {},
   "source": [
    "# Album Data"
   ]
  },
  {
   "cell_type": "code",
   "execution_count": null,
   "metadata": {},
   "outputs": [],
   "source": [
    "savename = join(savedir, \"billboard.p\")\n",
    "albumData = getFile(join(savedir, \"billboard-album.p\"))\n",
    "#chartdata = getFile(savename, debug=True)"
   ]
  },
  {
   "cell_type": "code",
   "execution_count": null,
   "metadata": {},
   "outputs": [],
   "source": [
    "for artist,artistData in albumData.items():\n",
    "    print(artist)\n",
    "    for album in artistData.keys():\n",
    "        print(\"\\t\",album)"
   ]
  },
  {
   "cell_type": "markdown",
   "metadata": {},
   "source": [
    "# Show Data"
   ]
  },
  {
   "cell_type": "code",
   "execution_count": null,
   "metadata": {
    "scrolled": false
   },
   "outputs": [],
   "source": [
    "togets = {}\n",
    "combos = []\n",
    "\n",
    "savedir  = join(basedir, \"results\")\n",
    "savename = join(savedir, \"billboard.p\")\n",
    "chartdata = getFile(savename, debug=True)\n",
    "chartArtists = sorted(chartdata.keys(), reverse=True)\n",
    "\n",
    "import json\n",
    "prevs = json.load(open(\"prevs.json\", \"r\"))\n",
    "artPrev = json.load(open(\"../discogs/prevs.json\", \"r\"))\n",
    "prevs.update(artPrev)\n",
    "json.dump(prevs, open(\"prevs.json\", \"w\"))\n",
    "print(\"There are {0} artists previously searched.\".format(len(prevs)))\n",
    "\n",
    "ma = multiartist(cutoff=0.9, discdata=discdata, exact=False)\n",
    "\n",
    "from random import shuffle\n",
    "print(\"There are {0} chart artists\".format(len(chartArtists)))\n",
    "shuffle(chartArtists)\n",
    "for i,artist in enumerate(chartArtists):\n",
    "    if prevs.get(artist) is not None:\n",
    "        continue\n",
    "    retval = ma.getArtistNames(artist)\n",
    "    if retval is None:\n",
    "        togets[artist] = artist\n",
    "    else:\n",
    "        for name,value in retval.items():\n",
    "            if prevs.get(name) is not None:\n",
    "                continue\n",
    "            if value is None:\n",
    "                togets[name.upper()] = artist\n",
    "                print(\"{0: <3}{1: <40}{2: <60}{3}\".format(len(togets),name,artist,retval))\n",
    "                print('\\t---->',i,'/',len(chartArtists))\n",
    "\n",
    "    \n",
    "    if len(togets) > 50:\n",
    "        print(\"\\n\\n\\n\\n\")\n",
    "        for name,artist in togets.items():\n",
    "            print(\"art.searchDiscogForArtist(\\\"{0}\\\")  ## {1}\".format(name, artist))\n",
    "        break"
   ]
  },
  {
   "cell_type": "markdown",
   "metadata": {},
   "source": [
    "###### artists = [x.strip() for x in vals.split(\"\\n\")]\n",
    "artists = [x for x in artists if len(x) > 0]"
   ]
  },
  {
   "cell_type": "code",
   "execution_count": null,
   "metadata": {},
   "outputs": [],
   "source": []
  },
  {
   "cell_type": "code",
   "execution_count": null,
   "metadata": {},
   "outputs": [],
   "source": [
    "Pitbull Featuring Ne-Yo, Afrojack & Nayer\n",
    "Drake Featuring Kanye West, Lil Wayne & Eminem"
   ]
  },
  {
   "cell_type": "code",
   "execution_count": null,
   "metadata": {},
   "outputs": [],
   "source": [
    "def testName(name, discdata):\n",
    "    if discdata.get(name) is not None:\n",
    "        return discdata[name]\n",
    "    return name\n",
    "\n",
    "def findName(name, discArtists, threshold):\n",
    "    retval = findNearest(name, discArtists, 1, threshold)\n",
    "    if len(retval) == 0:\n",
    "        return name\n",
    "    return retval\n",
    "    \n",
    "\n",
    "def splitArtist(name):\n",
    "    names = [name]\n",
    "    names = [[x.strip() for x in y.split(\" Featuring \")]\n",
    "results = {}\n",
    "    \n",
    "for name in artists:\n",
    "    if \" & \" in name:\n",
    "        retvals = [testName(x, discdata) for x in \n",
    "        retvals = [findName(x, discArtists, 0.95) if not isinstance(x, list) else x for x in retvals]\n",
    "        results[name] = retvals        "
   ]
  },
  {
   "cell_type": "code",
   "execution_count": null,
   "metadata": {},
   "outputs": [],
   "source": [
    "togets = []\n",
    "for k,v in results.items():\n",
    "    for val in v:\n",
    "        if not isinstance(val, list):\n",
    "            togets.append(\"art.searchDiscogForArtist(\\\"{0}\\\")\".format(val))\n",
    "            \n",
    "for toget in set(togets):\n",
    "    print(toget)"
   ]
  },
  {
   "cell_type": "code",
   "execution_count": null,
   "metadata": {},
   "outputs": [],
   "source": [
    "tmp = [['5070865', '90037', '4135543', '1507065'], ['Katy XXX Perry', ['1201210']]]"
   ]
  },
  {
   "cell_type": "code",
   "execution_count": null,
   "metadata": {},
   "outputs": [],
   "source": [
    "tmp"
   ]
  },
  {
   "cell_type": "code",
   "execution_count": null,
   "metadata": {},
   "outputs": [],
   "source": [
    "nameids = {}\n",
    "namerefs = {}\n",
    "for name,nameid in iddata.items():\n",
    "    artist = name\n",
    "    if name.endswith(\")\"):\n",
    "        artist = None\n",
    "        for x in [-3,-4,-5]:\n",
    "            if artist is not None:\n",
    "                continue\n",
    "            if abs(x) > len(name):\n",
    "                continue\n",
    "            if name[x] == \"(\":\n",
    "                try:\n",
    "                    val = int(name[(x+1):-1])\n",
    "                    artist = name[:x].strip()\n",
    "                except:\n",
    "                    continue\n",
    "          \n",
    "        if artist is None:\n",
    "            artist = name\n",
    "\n",
    "    ref = refdata[name]\n",
    "            \n",
    "    if nameids.get(artist) is None:\n",
    "        nameids[artist] = {}\n",
    "    nameids[artist][nameid] = 1\n",
    "    \n",
    "    if namerefs.get(artist) is None:\n",
    "        namerefs[artist] = {}\n",
    "    namerefs[artist][ref] = 1\n",
    "    \n",
    "\n",
    "nameids = {k: list(v.keys()) for k,v in nameids.items()}\n",
    "namerefs = {k: list(v.keys()) for k,v in namerefs.items()}"
   ]
  }
 ],
 "metadata": {
  "kernelspec": {
   "display_name": "Python 3",
   "language": "python",
   "name": "python3"
  },
  "language_info": {
   "codemirror_mode": {
    "name": "ipython",
    "version": 3
   },
   "file_extension": ".py",
   "mimetype": "text/x-python",
   "name": "python",
   "nbconvert_exporter": "python",
   "pygments_lexer": "ipython3",
   "version": "3.7.7"
  }
 },
 "nbformat": 4,
 "nbformat_minor": 2
}
