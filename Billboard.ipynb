{
 "cells": [
  {
   "cell_type": "markdown",
   "metadata": {},
   "source": [
    "# Billboard Functions"
   ]
  },
  {
   "cell_type": "code",
   "execution_count": 1,
   "metadata": {},
   "outputs": [
    {
     "data": {
      "text/html": [
       "<style>.container { width:100% !important; }</style>"
      ],
      "text/plain": [
       "<IPython.core.display.HTML object>"
      ]
     },
     "metadata": {},
     "output_type": "display_data"
    },
    {
     "data": {
      "text/html": [
       "<style>div.output_area{max-height:10000px;overflow:scroll;}</style>"
      ],
      "text/plain": [
       "<IPython.core.display.HTML object>"
      ]
     },
     "metadata": {},
     "output_type": "display_data"
    },
    {
     "name": "stderr",
     "output_type": "stream",
     "text": [
      "/Users/tgadfort/opt/anaconda3/envs/py37/lib/python3.7/site-packages/sklearn/externals/joblib/__init__.py:15: FutureWarning: sklearn.externals.joblib is deprecated in 0.21 and will be removed in 0.23. Please import this functionality directly from joblib, which can be installed with: pip install joblib. If this warning is raised when loading pickled models, you may need to re-serialize those models with scikit-learn 0.21+.\n",
      "  warnings.warn(msg, category=FutureWarning)\n"
     ]
    },
    {
     "name": "stdout",
     "output_type": "stream",
     "text": [
      "Python: 3.7.7 (default, Mar 26 2020, 10:32:53) \n",
      "[Clang 4.0.1 (tags/RELEASE_401/final)]\n",
      "Notebook Last Run Initiated: 2020-12-10 21:16:40.562526\n"
     ]
    }
   ],
   "source": [
    "## Basic stuff\n",
    "%load_ext autoreload\n",
    "%autoreload\n",
    "\n",
    "from IPython.core.display import display, HTML\n",
    "display(HTML(\"<style>.container { width:100% !important; }</style>\"))\n",
    "display(HTML(\"\"\"<style>div.output_area{max-height:10000px;overflow:scroll;}</style>\"\"\"))\n",
    "#IPython.Cell.options_default.cm_config.lineNumbers = true;\n",
    "\n",
    "################################################################################\n",
    "## Python Version\n",
    "################################################################################\n",
    "import sys\n",
    "\n",
    "\n",
    "################################################################################\n",
    "## General Stuff\n",
    "################################################################################\n",
    "from multiprocessing import Pool\n",
    "from tqdm import tqdm\n",
    "\n",
    "\n",
    "################################################################################\n",
    "## Util Stuff\n",
    "################################################################################\n",
    "from timeUtils import clock, elapsed\n",
    "from ioUtils import saveFile, getFile\n",
    "\n",
    "\n",
    "################################################################################\n",
    "## Music DB\n",
    "################################################################################\n",
    "from mainDB import mainDB\n",
    "from musicDBMap import musicDBMap\n",
    "from masterDBMatchClass import masterDBMatchClass\n",
    "from matchDBArtist import matchDBArtist\n",
    "\n",
    "\n",
    "################################################################################\n",
    "## Music Names\n",
    "################################################################################\n",
    "from masterArtistNameDB import masterArtistNameDB\n",
    "\n",
    "\n",
    "################################################################################\n",
    "## Chart Stuff\n",
    "################################################################################\n",
    "from artistIgnores import getArtistIgnores\n",
    "from billboardData import billboardData\n",
    "from top40Data import top40Data\n",
    "\n",
    "\n",
    "################################################################################\n",
    "## Pandas Stuff\n",
    "################################################################################\n",
    "import pandas as pd\n",
    "pd.set_option('display.max_rows', 500)\n",
    "pd.set_option('display.max_columns', 500)\n",
    "pd.set_option('display.width', 1000)\n",
    "\n",
    "print(\"Python: {0}\".format(sys.version))\n",
    "import datetime as dt\n",
    "start = dt.datetime.now()\n",
    "print(\"Notebook Last Run Initiated: \"+str(start))"
   ]
  },
  {
   "cell_type": "markdown",
   "metadata": {},
   "source": [
    "# Final Aggregation"
   ]
  },
  {
   "cell_type": "code",
   "execution_count": 4,
   "metadata": {},
   "outputs": [
    {
     "name": "stdout",
     "output_type": "stream",
     "text": [
      "The autoreload extension is already loaded. To reload it, use:\n",
      "  %reload_ext autoreload\n",
      "Found 62 files.\n",
      "  Getting Chart For hot\n",
      "  Using 16 Charts\n",
      "  Getting Chart For adult\n",
      "  Using 4 Charts\n",
      "  Getting Chart For top\n",
      "  Using 3 Charts\n",
      "  Using 23 Charts\n",
      "  Getting Chart For alternative\n",
      "  Using 4 Charts\n",
      "  Getting Chart For countryMusic\n",
      "  Using 10 Charts\n",
      "  Getting Chart For rock\n",
      "  Using 14 Charts\n",
      "  Getting Chart For rnb\n",
      "  Using 16 Charts\n",
      "  Using 44 Charts\n",
      "  Getting Chart For christian\n",
      "  Using 21 Charts\n",
      "  Getting Chart For canadian\n",
      "  Using 4 Charts\n",
      "  Getting Chart For comedy\n",
      "  Using 2 Charts\n",
      "  Getting Chart For general\n",
      "  Using 2 Charts\n",
      "  Getting Chart For twitter\n",
      "  Using 5 Charts\n",
      "  Using 34 Charts\n",
      "  Using Charts (None): ['hot-100', 'pop-songs', 'radio-songs', 'streaming-songs', 'rhythmic-40', 'heatseekers-albums', 'billboard-200', 'artist-100', 'top-album-sales', 'TLN', 'HSB', 'HSI', 'TLP', 'TSL', 'TFM', 'ATS', 'adult-contemporary', 'adult-pop-songs', 'ASI', 'ATF', 'billboard-200', 'artist-100', 'top-album-sales', 'alternative-albums', 'alternative-songs', 'MRT', 'ALT', 'country-airplay', 'country-albums', 'country-digital-song-sales', 'country-songs', 'country-streaming-songs', 'CSA', 'CSI', 'CST', 'CLP', 'CDT', 'rock-airplay', 'hot-mainstream-rock-tracks', 'rock-albums', 'rock-digital-song-sales', 'rock-songs', 'rock-streaming-songs', 'hard-rock-albums', 'RCK', 'RKA', 'RKT', 'ROS', 'RTT', 'MTL', 'ARK', 'r-and-b-albums', 'r-and-b-hip-hop-digital-song-sales', 'r-and-b-hip-hop-streaming-songs', 'r-and-b-songs', 'r-b-hip-hop-albums', 'r-b-hip-hop-songs', 'rap-albums', 'rap-song', 'hot-r-and-b-hip-hop-airplay', 'RLP', 'RAP', 'RBL', 'RBM', 'RBS', 'RBT', 'BLP', 'christian-airplay', 'hot-christian-songs', 'christian-albums', 'christian-digital-song-sales', 'christian-songs', 'christian-streaming-songs', 'gospel-airplay', 'gospel-albums', 'gospel-digital-song-sales', 'gospel-songs', 'gospel-streaming-songs', 'CRI', 'CRT', 'ICO', 'ILL', 'SLL', 'GOS', 'GSI', 'GSS', 'CHS', 'GDT', 'canadian-albums', 'canadian-hot-100', 'CAN', 'CNA', 'comedy-albums', 'GIG', 'HDS', 'DLP', 'twitter-emerging-artists', 'twitter-top-tracks', 'social-50', 'STM', 'SOC']\n",
      "Saving 4335 Artist Album Data to currentBillboardArtistAlbumData.p\n",
      "Saving data to currentBillboardArtistAlbumData.p\n",
      "  --> This file is 211.4kB.\n",
      "Saved data to currentBillboardArtistAlbumData.p\n",
      "  --> This file is 211.4kB.\n",
      "Saving 4335 Full Artist Data\n",
      "Saving data to currentBillboardFullChartArtistAlbumData.p\n",
      "  --> This file is 712.0kB.\n",
      "Saved data to currentBillboardFullChartArtistAlbumData.p\n",
      "  --> This file is 712.0kB.\n",
      "Current Time is Thu Dec 10, 2020 23:18:20 for Last Run\n"
     ]
    }
   ],
   "source": [
    "%load_ext autoreload\n",
    "%autoreload\n",
    "from billboardData import billboardData\n",
    "bd = billboardData(minYear=1, maxYear=2021)\n",
    "bd.setChartUsage(rank=[0,1,2])\n",
    "bd.setFullChartData()\n",
    "bd.setArtistAlbumData()\n",
    "\n",
    "bd.saveArtistAlbumData()\n",
    "bd.saveFullChartData()\n",
    "\n",
    "_, _ = clock(\"Last Run\")"
   ]
  },
  {
   "cell_type": "markdown",
   "metadata": {},
   "source": [
    "****\n",
    "****\n",
    "****\n",
    "****"
   ]
  },
  {
   "cell_type": "markdown",
   "metadata": {},
   "source": [
    "# Starter Class Section"
   ]
  },
  {
   "cell_type": "code",
   "execution_count": 2,
   "metadata": {},
   "outputs": [],
   "source": [
    "basedir = \"/Volumes/Piggy/Charts/\"\n",
    "try:\n",
    "    filename = glob(join(basedir, \"data\", \"billboard\", \"starter.html\"))[0]\n",
    "except:\n",
    "    print(\"Could not find starter HTML file!\")\n",
    "fdata = getHTML(filename)"
   ]
  },
  {
   "cell_type": "markdown",
   "metadata": {},
   "source": [
    "#### Extra"
   ]
  },
  {
   "cell_type": "code",
   "execution_count": null,
   "metadata": {},
   "outputs": [],
   "source": [
    "chartData  = {}\n",
    "dirname = None\n",
    "baseURL = \"https://www.billboard.com\"\n",
    "for iul,ul in enumerate(fdata.findAll(\"ul\")):\n",
    "    lis = ul.findAll(\"li\", {\"class\": \"chart-group__item\"})\n",
    "    for j,li in enumerate(lis):  \n",
    "        a = li.find('a')\n",
    "        if a is not None:\n",
    "            href = a['href']\n",
    "            text = a.text\n",
    "            subdir = getDirname(href)[1:]\n",
    "            chartData[text] = [baseURL, subdir, getBasename(href)]"
   ]
  },
  {
   "cell_type": "code",
   "execution_count": null,
   "metadata": {},
   "outputs": [],
   "source": [
    "#chartData"
   ]
  },
  {
   "cell_type": "markdown",
   "metadata": {},
   "source": [
    "# Download Yearly Information"
   ]
  },
  {
   "cell_type": "code",
   "execution_count": null,
   "metadata": {},
   "outputs": [],
   "source": [
    "from time import sleep\n",
    "years = [str(x) for x in range(1958,2014)]\n",
    "years = ['2019']\n",
    "for year in years:\n",
    "    url=\"https://www.billboard.com/archive/charts/{0}\".format(year)\n",
    "    user_agent = 'Mozilla/5.0 (Windows; U; Windows NT 5.1; en-US; rv:1.9.0.7) Gecko/2009021910 Firefox/3.0.7'\n",
    "    headers={'User-Agent':user_agent,}\n",
    "    \n",
    "    savedir = join(basedir, \"data\", \"billboard\", \"yearly\")\n",
    "    savename = join(savedir, \"{0}.p\".format(year))\n",
    "    if isFile(savename):\n",
    "        continue\n",
    "    \n",
    "    request=urllib.request.Request(url,None,headers) #The assembled request\n",
    "    response = urllib.request.urlopen(request)\n",
    "    data = response.read() # The data u need\n",
    "\n",
    "    print(\"Saving {0}\".format(savename))\n",
    "    saveJoblib(data=data, filename=savename, compress=True)\n",
    "    sleep(1)"
   ]
  },
  {
   "cell_type": "markdown",
   "metadata": {},
   "source": [
    "# Parse Yearly Information"
   ]
  },
  {
   "cell_type": "code",
   "execution_count": null,
   "metadata": {},
   "outputs": [],
   "source": [
    "downloads = {}\n",
    "baseURL = \"https://www.billboard.com\"\n",
    "for ifile in sorted(glob(join(basedir, \"data\", \"billboard\", \"yearly\", \"*.p\"))):\n",
    "    year = getBaseFilename(ifile)\n",
    "    if downloads.get(year) is None:\n",
    "        downloads[year] = {}\n",
    "    fdata = getHTML(ifile)\n",
    "    for iul,ul in enumerate(fdata.findAll(\"ul\")):\n",
    "        lis = ul.findAll(\"li\", {\"class\": \"chart-group__item\"})\n",
    "        for j,li in enumerate(lis):  \n",
    "            a = li.find('a')\n",
    "            if a is not None:\n",
    "                href = a['href']\n",
    "                text = a.text\n",
    "                subdir = getDirname(href)[1:]\n",
    "                downloads[year][href] = [baseURL, subdir, getBasename(href)]"
   ]
  },
  {
   "cell_type": "code",
   "execution_count": null,
   "metadata": {},
   "outputs": [],
   "source": [
    "downloads.keys()"
   ]
  },
  {
   "cell_type": "markdown",
   "metadata": {},
   "source": [
    "# Download Category Data"
   ]
  },
  {
   "cell_type": "code",
   "execution_count": null,
   "metadata": {
    "scrolled": false
   },
   "outputs": [],
   "source": [
    "baseURL = \"https://www.billboard.com\"\n",
    "\n",
    "for year, yearData in downloads.items():   \n",
    "    for href, hrefData in yearData.items():\n",
    "        url  = \"{0}/{1}\".format(baseURL, href)\n",
    "        year = getBasename(hrefData[1])\n",
    "        category = hrefData[2]\n",
    "\n",
    "        savedir  = join(basedir, \"data\", \"billboard\", \"categories\")\n",
    "        savename = join(savedir, \"{0}-{1}.p\".format(year, category))\n",
    "\n",
    "        if isFile(savename):\n",
    "            continue\n",
    "\n",
    "        print(\"  Trying to download and save {0}\".format(savename))\n",
    "        try:\n",
    "\n",
    "            user_agent = 'Mozilla/5.0 (Windows; U; Windows NT 5.1; en-US; rv:1.9.0.7) Gecko/2009021910 Firefox/3.0.7'\n",
    "            headers={'User-Agent':user_agent,} \n",
    "\n",
    "            request=urllib.request.Request(url,None,headers) #The assembled request\n",
    "            response = urllib.request.urlopen(request)\n",
    "            data = response.read() # The data u need\n",
    "        except:\n",
    "            continue\n",
    "\n",
    "        print(\"Saving {0}\".format(savename))\n",
    "        saveJoblib(data=data, filename=savename, compress=True)\n",
    "        sleep(1)        "
   ]
  },
  {
   "cell_type": "markdown",
   "metadata": {},
   "source": [
    "# Parse Category Data"
   ]
  },
  {
   "cell_type": "code",
   "execution_count": null,
   "metadata": {},
   "outputs": [],
   "source": [
    "data = {}\n",
    "\n",
    "baseURL = \"https://www.billboard.com\"\n",
    "names = [getBaseFilename(x) for x in sorted(glob(join(basedir, \"data\", \"billboard\", \"categories\", \"*.p\")))]\n",
    "categories = set([x[5:] for x in names])\n",
    "\n",
    "albumCategories  = [x for x in categories if x.endswith(\"albums\")]\n",
    "songCategories   = [x for x in categories if not x.endswith(\"albums\")]\n",
    "\n",
    "\n",
    "names = [getBaseFilename(x) for x in sorted(glob(join(basedir, \"data\", \"billboard\", \"categories\", \"*.p\")))]\n",
    "years = sorted(set([x[:4] for x in names]))\n",
    "\n",
    "print(\"There are {0} years\".format(len(years)))\n",
    "print(\"There are {0} charts\".format(len(categories)))\n",
    "print(\"There are {0} album charts\".format(len(albumCategories)))\n",
    "print(\"There are {0} song charts\".format(len(songCategories)))"
   ]
  },
  {
   "cell_type": "code",
   "execution_count": null,
   "metadata": {},
   "outputs": [],
   "source": [
    "#categories"
   ]
  },
  {
   "cell_type": "code",
   "execution_count": 3,
   "metadata": {},
   "outputs": [],
   "source": [
    "if False:\n",
    "    catdir = join(basedir, \"data\", \"billboard\", \"categories\")\n",
    "    files = findPatternExt(catdir, pattern='2019', ext='.p')    \n",
    "    for ifile in files:\n",
    "        bsdata = getHTML(ifile)\n",
    "        name   = bsdata.find(\"h2\", {\"class\": \"simple-page__title\"})\n",
    "        print(ifile,'\\t',name)"
   ]
  },
  {
   "cell_type": "code",
   "execution_count": null,
   "metadata": {},
   "outputs": [],
   "source": [
    "def parseBillboardFile(ifile):\n",
    "    fdata = getHTML(ifile)\n",
    "    data  = {}\n",
    "    for i,table in enumerate(fdata.findAll('table')):\n",
    "        ths = table.findAll(\"th\")\n",
    "        trs = table.findAll(\"tr\")\n",
    "\n",
    "        headers = [x.text for x in ths]\n",
    "        for j,tr in enumerate(trs[1:]):\n",
    "            tds  = tr.findAll('td')\n",
    "            vals = [x.text for x in tds]\n",
    "            #print(headers,vals)\n",
    "\n",
    "            if len(vals) == 3:\n",
    "                date,name,artist = vals\n",
    "                try:\n",
    "                    date = getDateTime(\", \".join([date, year]))\n",
    "                except:\n",
    "                    print(vals)\n",
    "                    print(\", \".join([date, year]))\n",
    "\n",
    "                    1/0\n",
    "            elif len(vals) == 1:\n",
    "                date = vals[0]\n",
    "                try:\n",
    "                    date = getDateTime(\", \".join([date, year]))\n",
    "                except:\n",
    "                    print(vals)\n",
    "                    1/0\n",
    "\n",
    "            if not isDate(date):\n",
    "                raise ValueError(\"Could not form date for {0}\".format(date))\n",
    "\n",
    "            date = printDateTime(date)\n",
    "            if data.get(date) is not None:\n",
    "                raise ValueError(\"Already seen this date!!!\")\n",
    "            data[date] = {\"Artist\": artist, \"Name\": name}\n",
    "            \n",
    "            #print(\"{0: <12}{1}\".format(date, data[date]))\n",
    "            continue\n",
    "            \n",
    "            \n",
    "            if data.get(date) is None:\n",
    "                data[date] = {}\n",
    "            #print(\"{0: <20}{1: <20}{2: <20}{3: <20}\".format(artist, name, category, date))\n",
    "            #continue\n",
    "            if data.get(artist) is None:\n",
    "                data[artist] = {}\n",
    "                #print(\"Artist: {0}\".format(artist))\n",
    "            if data[artist].get(name) is None:\n",
    "                data[artist][name] = {}\n",
    "                #print(\"\\tSong: {0} ({1})\".format(name, len(data[artist])))\n",
    "            if data[artist][name].get(category) is None:\n",
    "                data[artist][name][category] = []\n",
    "            data[artist][name][category].append([date])\n",
    "\n",
    "    return data"
   ]
  },
  {
   "cell_type": "code",
   "execution_count": null,
   "metadata": {},
   "outputs": [],
   "source": [
    "catdir = join(basedir, \"data\", \"billboard\", \"categories\")\n",
    "for year in years:\n",
    "    data  = {}\n",
    "    files = findPatternExt(catdir, pattern=year, ext='.p')    \n",
    "    for ifile in files:\n",
    "        chart   = getBaseFilename(ifile)\n",
    "        chart   = \"-\".join(chart.split('-')[1:])\n",
    "        results = parseBillboardFile(ifile)\n",
    "        data[chart] = results\n",
    "        print(\"{0: <10}{1: <30}{2}\".format(year, chart, len(results)))\n",
    "        \n",
    "    savedir = join(basedir, \"data\", \"billboard\", \"results\")\n",
    "    savename = join(savedir, \"{0}.p\".format(year))\n",
    "    print(\"Saving {0}\".format(savename))\n",
    "    saveJoblib(data=data, filename=savename, compress=True)"
   ]
  },
  {
   "cell_type": "markdown",
   "metadata": {},
   "source": [
    "# Aggregrate Charts"
   ]
  },
  {
   "cell_type": "code",
   "execution_count": 6,
   "metadata": {},
   "outputs": [
    {
     "name": "stdout",
     "output_type": "stream",
     "text": [
      "Found 62 files.\n",
      "  Getting All Charts\n",
      "  Using 200 Charts\n",
      "  Using Charts (None): ['adult-contemporary', 'adult-pop-songs', 'ASI', 'ATF', 'alternative-albums', 'alternative-songs', 'MRT', 'ALT', 'BLU', 'BGR', 'FLK', 'christian-airplay', 'hot-christian-songs', 'christian-albums', 'christian-digital-song-sales', 'christian-songs', 'christian-streaming-songs', 'gospel-airplay', 'gospel-albums', 'gospel-digital-song-sales', 'gospel-songs', 'gospel-streaming-songs', 'CRI', 'CRT', 'ICO', 'ILL', 'SLL', 'GOS', 'GSI', 'GSS', 'CHS', 'GDT', 'country-airplay', 'country-albums', 'country-digital-song-sales', 'country-songs', 'country-streaming-songs', 'CSA', 'CSI', 'CST', 'CLP', 'CDT', 'dance-club-play-songs', 'dance-electronic-albums', 'dance-electronic-digital-song-sales', 'dance-electronic-songs', 'dance-electronic-streaming-songs', 'DAN', 'DAS', 'DDT', 'BSI', 'BST', 'DSI', 'ELP', 'hot-100', 'pop-songs', 'radio-songs', 'streaming-songs', 'rhythmic-40', 'heatseekers-albums', 'billboard-200', 'artist-100', 'top-album-sales', 'TLN', 'HSB', 'HSI', 'TLP', 'TSL', 'TFM', 'ATS', 'billboard-200', 'artist-100', 'top-album-sales', 'r-and-b-albums', 'r-and-b-hip-hop-digital-song-sales', 'r-and-b-hip-hop-streaming-songs', 'r-and-b-songs', 'r-b-hip-hop-albums', 'r-b-hip-hop-songs', 'rap-albums', 'rap-song', 'hot-r-and-b-hip-hop-airplay', 'RLP', 'RAP', 'RBL', 'RBM', 'RBS', 'RBT', 'BLP', 'rock-airplay', 'hot-mainstream-rock-tracks', 'rock-albums', 'rock-digital-song-sales', 'rock-songs', 'rock-streaming-songs', 'hard-rock-albums', 'RCK', 'RKA', 'RKT', 'ROS', 'RTT', 'MTL', 'ARK', 'canadian-albums', 'canadian-hot-100', 'CAN', 'CNA', 'latin-airplay', 'latin-albums', 'latin-digital-song-sales', 'latin-pop-albums', 'latin-pop-songs', 'latin-songs', 'latin-streaming-songs', 'HTA', 'HTL', 'LSS', 'LDT', 'LPO', 'LPP', 'LCM', 'regional-mexican-albums', 'regional-mexican-songs', 'LRM', 'LMX', 'china-v-chart', 'japan-hot-100', 'tropical-albums', 'tropical-songs', 'world-albums', 'reggae-albums', 'LSA', 'LTS', 'JPN', 'WLP', 'JAH', 'ARG', 'holiday-albums', 'holiday-season-digital-song-sales', 'holiday-songs', 'holiday-streaming-songs', 'XSS', 'XML', 'XDT', 'ASX', 'classical-albums', 'COA', 'jazz-albums', 'jazz-songs', 'JLS', 'JSI', 'comedy-albums', 'GIG', 'new-age-albums', 'NLP', 'HDS', 'DLP', 'kids-albums', 'KID', 'twitter-emerging-artists', 'twitter-top-tracks', 'social-50', 'STM', 'SOC', 'vinyl-albums', 'catalog-albums', 'tastemaker-albums', 'TAS', 'VNL', 'TLC', 'independent-albums', 'IND', 'soundtracks', 'STX', 'adult', 'alternative', 'folkblue', 'christian', 'countryMusic', 'electronic', 'hot', 'top', 'rnb', 'rock', 'canadian', 'latin', 'mexican', 'world', 'holiday', 'classical', 'jazz', 'comedy', 'newage', 'general', 'kids', 'twitter', 'vinyl', 'rare', 'soundtrack', 'chartNames']\n"
     ]
    },
    {
     "ename": "NameError",
     "evalue": "name 'Counter' is not defined",
     "output_type": "error",
     "traceback": [
      "\u001b[0;31m---------------------------------------------------------------------------\u001b[0m",
      "\u001b[0;31mNameError\u001b[0m                                 Traceback (most recent call last)",
      "\u001b[0;32m<ipython-input-6-04506d1c82d2>\u001b[0m in \u001b[0;36m<module>\u001b[0;34m\u001b[0m\n\u001b[1;32m      5\u001b[0m \u001b[0;31m#bd.setDBRenames(getDBRenames())\u001b[0m\u001b[0;34m\u001b[0m\u001b[0;34m\u001b[0m\u001b[0;34m\u001b[0m\u001b[0m\n\u001b[1;32m      6\u001b[0m \u001b[0mbd\u001b[0m\u001b[0;34m.\u001b[0m\u001b[0msetChartUsage\u001b[0m\u001b[0;34m(\u001b[0m\u001b[0;34m)\u001b[0m\u001b[0;34m\u001b[0m\u001b[0;34m\u001b[0m\u001b[0m\n\u001b[0;32m----> 7\u001b[0;31m \u001b[0mbd\u001b[0m\u001b[0;34m.\u001b[0m\u001b[0msetFullChartData\u001b[0m\u001b[0;34m(\u001b[0m\u001b[0;34m)\u001b[0m\u001b[0;34m\u001b[0m\u001b[0;34m\u001b[0m\u001b[0m\n\u001b[0m\u001b[1;32m      8\u001b[0m \u001b[0mbd\u001b[0m\u001b[0;34m.\u001b[0m\u001b[0msetArtistAlbumData\u001b[0m\u001b[0;34m(\u001b[0m\u001b[0;34m)\u001b[0m\u001b[0;34m\u001b[0m\u001b[0;34m\u001b[0m\u001b[0m\n\u001b[1;32m      9\u001b[0m \u001b[0;34m\u001b[0m\u001b[0m\n",
      "\u001b[0;32m~/Documents/code/charts/billboardData.py\u001b[0m in \u001b[0;36msetFullChartData\u001b[0;34m(self)\u001b[0m\n\u001b[1;32m     83\u001b[0m \u001b[0;34m\u001b[0m\u001b[0m\n\u001b[1;32m     84\u001b[0m     \u001b[0;32mdef\u001b[0m \u001b[0msetFullChartData\u001b[0m\u001b[0;34m(\u001b[0m\u001b[0mself\u001b[0m\u001b[0;34m)\u001b[0m\u001b[0;34m:\u001b[0m\u001b[0;34m\u001b[0m\u001b[0;34m\u001b[0m\u001b[0m\n\u001b[0;32m---> 85\u001b[0;31m         \u001b[0mrenameStats\u001b[0m  \u001b[0;34m=\u001b[0m \u001b[0mCounter\u001b[0m\u001b[0;34m(\u001b[0m\u001b[0;34m)\u001b[0m\u001b[0;34m\u001b[0m\u001b[0;34m\u001b[0m\u001b[0m\n\u001b[0m\u001b[1;32m     86\u001b[0m         \u001b[0mchartCounter\u001b[0m \u001b[0;34m=\u001b[0m \u001b[0mCounter\u001b[0m\u001b[0;34m(\u001b[0m\u001b[0;34m)\u001b[0m\u001b[0;34m\u001b[0m\u001b[0;34m\u001b[0m\u001b[0m\n\u001b[1;32m     87\u001b[0m \u001b[0;34m\u001b[0m\u001b[0m\n",
      "\u001b[0;31mNameError\u001b[0m: name 'Counter' is not defined"
     ]
    }
   ],
   "source": []
  },
  {
   "cell_type": "markdown",
   "metadata": {},
   "source": [
    "****"
   ]
  },
  {
   "cell_type": "markdown",
   "metadata": {},
   "source": [
    "# Chart Analysis"
   ]
  },
  {
   "cell_type": "code",
   "execution_count": 6,
   "metadata": {},
   "outputs": [
    {
     "data": {
      "text/plain": [
       "['ATS',\n",
       " 'HSB',\n",
       " 'HSI',\n",
       " 'TFM',\n",
       " 'TLN',\n",
       " 'TLP',\n",
       " 'TSL',\n",
       " 'artist-100',\n",
       " 'billboard-200',\n",
       " 'heatseekers-albums',\n",
       " 'hot-100',\n",
       " 'pop-songs',\n",
       " 'radio-songs',\n",
       " 'rhythmic-40',\n",
       " 'streaming-songs',\n",
       " 'top-album-sales']"
      ]
     },
     "execution_count": 6,
     "metadata": {},
     "output_type": "execute_result"
    }
   ],
   "source": [
    "chartCounter = getFile(\"chartCounter.p\")\n",
    "keys = chartCounter.keys()\n",
    "sorted(keys)\n",
    "#chartCounter.most_common()"
   ]
  },
  {
   "cell_type": "code",
   "execution_count": 78,
   "metadata": {},
   "outputs": [],
   "source": [
    "\n",
    "slimResults = Counter()\n",
    "for artist, artistData in results.items():\n",
    "    for key, keyData in artistData.items():\n",
    "        for album, albumData in keyData.items():\n",
    "            slimResults[artist] += sum({k: len(v) for k,v in albumData.items()}.values())"
   ]
  },
  {
   "cell_type": "code",
   "execution_count": null,
   "metadata": {},
   "outputs": [],
   "source": [
    "saveFile(idata = slimResults, ifile=\"billboardCounter.p\", debug=True)\n",
    "saveFile(idata = results,     ifile=\"billboardResults.p\", debug=True)"
   ]
  },
  {
   "cell_type": "markdown",
   "metadata": {},
   "source": [
    "# Get Billboard Results"
   ]
  },
  {
   "cell_type": "code",
   "execution_count": null,
   "metadata": {},
   "outputs": [],
   "source": [
    "slimResults = getFile(ifile=\"billboardCounter.p\", debug=True)\n",
    "fullResults = getFile(ifile=\"billboardResults.p\", debug=True)"
   ]
  },
  {
   "cell_type": "markdown",
   "metadata": {},
   "source": [
    "# Get Discogs"
   ]
  },
  {
   "cell_type": "code",
   "execution_count": null,
   "metadata": {},
   "outputs": [],
   "source": [
    "disc = discogs()\n",
    "discdf = disc.getMasterSlimArtistDiscogsDB()\n",
    "artistIDToName = discdf[\"DiscArtist\"].to_dict()\n",
    "from masterdb import getArtistAlbumsDB, discConv\n",
    "artistAlbumsDB = getArtistAlbumsDB(disc)\n",
    "\n",
    "artistNameToID = {}\n",
    "print(\"Found {0} ID -> Name entries\".format(len(artistIDToName)))\n",
    "for artistID,artistName in artistIDToName.items():\n",
    "    if artistNameToID.get(artistName) is None:\n",
    "        artistNameToID[artistName] = []\n",
    "    artistNameToID[artistName].append(artistID)\n",
    "print(\"Found {0} Name -> ID entries\".format(len(artistNameToID)))\n",
    "mulArts  = multiArtist(cutoff=0.9, discdata=artistNameToID, exact=False)"
   ]
  },
  {
   "cell_type": "markdown",
   "metadata": {},
   "source": [
    "# Check Renames"
   ]
  },
  {
   "cell_type": "code",
   "execution_count": null,
   "metadata": {},
   "outputs": [],
   "source": [
    "singleRenames = getFile(ifile=\"singleRenames.p\", debug=True)\n",
    "multiRenames  = getFile(ifile=\"multiRenames.p\", debug=True)\n",
    "knownArtists  = getFile(ifile=\"artistMap.p\", debug=True)"
   ]
  },
  {
   "cell_type": "code",
   "execution_count": null,
   "metadata": {},
   "outputs": [],
   "source": []
  },
  {
   "cell_type": "markdown",
   "metadata": {},
   "source": [
    "# Near Renames Artists"
   ]
  },
  {
   "cell_type": "code",
   "execution_count": null,
   "metadata": {},
   "outputs": [],
   "source": [
    "from searchUtils import findNearest\n",
    "cutoff = 0.9\n",
    "artistsToGet = {}\n",
    "for i, (artist, cnt) in enumerate(slimResults.most_common()):\n",
    "#for i, (artist, cnt) in enumerate(sorted(slimResults.items(), key=lambda pair: pair[1], reverse=False)):\n",
    "    if i <= 4500:\n",
    "        continue\n",
    "    if i % 250 == 0:\n",
    "        print(\"==>\",i,len(slimResults))\n",
    "    if multiRenames.get(artist) is not None:\n",
    "        artist = multiRenames[artist]\n",
    "    if singleRenames.get(artist) is not None:\n",
    "        idx    = str(singleRenames[artist])\n",
    "        artist = artistIDToName[idx]\n",
    "    if knownArtists.get(artist) is not None:\n",
    "        continue\n",
    "    if manualRenames.get(artist) is not None:\n",
    "        continue\n",
    "\n",
    "    matches = mulArts.getArtistNames(artist)\n",
    "    if len(matches) > 1:\n",
    "        continue\n",
    "\n",
    "    mdata = getMusicData(\"DiscArtist\", artist)\n",
    "    if mdata is None:\n",
    "        results = findNearest(artist, artistNameToID.keys(), num=1, cutoff=cutoff)      \n",
    "        if len(results) > 0:\n",
    "            artistsToGet[artist] = results\n",
    "            print(\"manualRenames[\\\"{0}\\\"] = \\\"{1}\\\"\".format(artist, results[0]))"
   ]
  },
  {
   "cell_type": "code",
   "execution_count": null,
   "metadata": {},
   "outputs": [],
   "source": [
    "findNearest"
   ]
  },
  {
   "cell_type": "code",
   "execution_count": null,
   "metadata": {},
   "outputs": [],
   "source": [
    "for k,v in artistsToGet.items():\n",
    "    print(\"keep[\\\"{0}\\\"] = {1}  #{2}\".format(k, v[0], v[1]))\n",
    "\n"
   ]
  },
  {
   "cell_type": "markdown",
   "metadata": {},
   "source": [
    "# Get Multi Results"
   ]
  },
  {
   "cell_type": "code",
   "execution_count": null,
   "metadata": {},
   "outputs": [],
   "source": [
    "from collections import Counter\n",
    "cutoff = 0.8\n",
    "multiMatchResult = {}\n",
    "for i, (artist, cnt) in enumerate(slimResults.most_common()):\n",
    "    if i > 0 and i % 1000 == 0:\n",
    "        print(\"Passed\",i,'/',len(slimResults))\n",
    "    prevArtist = None\n",
    "    if multiRenames.get(artist) is not None:\n",
    "        prevArtist = artist\n",
    "        artist = multiRenames[artist]\n",
    "    if singleRenames.get(artist) is not None:\n",
    "        idx    = str(singleRenames[artist])\n",
    "        artist = artistIDToName[idx]\n",
    "    if prevArtist is None:\n",
    "        prevArtist = artist\n",
    "    if knownArtists.get(prevArtist) is not None:\n",
    "        continue\n",
    "    if manualRenames.get(prevArtist) is not None:\n",
    "        prevArtist = manualRenames[prevArtist]\n",
    "    mdata = getMusicData(\"DiscArtist\", prevArtist)\n",
    "    if isinstance(mdata, DataFrame):\n",
    "        if mdata.shape[0] <= 1:\n",
    "            continue\n",
    "        matches = mdata[\"Name\"].index\n",
    "        artistAlbums = set(list(fullResults[prevArtist][\"Songs\"].keys()) + list(fullResults[prevArtist][\"Albums\"].keys()))\n",
    "        results = getBestArtistIDMatch(artist, artistAlbums, matches, N=3, cutoff=cutoff)\n",
    "        if results[2] is not None:\n",
    "            if results[2] >= cutoff:\n",
    "                print(i,\"/\",len(slimResults),'  \\t',artist,results)\n",
    "                multiMatchResult[artist] = list(results[:-1])"
   ]
  },
  {
   "cell_type": "code",
   "execution_count": null,
   "metadata": {},
   "outputs": [],
   "source": [
    "len(multiMatchResult)"
   ]
  },
  {
   "cell_type": "code",
   "execution_count": null,
   "metadata": {},
   "outputs": [],
   "source": [
    "print(len(knownArtists))\n",
    "knownArtists.update(multiMatchResult)\n",
    "print(len(knownArtists))\n",
    "saveFile(idata=knownArtists, ifile=\"artistMap.p\", debug=True)"
   ]
  },
  {
   "cell_type": "markdown",
   "metadata": {},
   "source": [
    "# Single Results"
   ]
  },
  {
   "cell_type": "code",
   "execution_count": null,
   "metadata": {},
   "outputs": [],
   "source": [
    "knownArtists[\"The Kingston Trio\"]"
   ]
  },
  {
   "cell_type": "code",
   "execution_count": null,
   "metadata": {},
   "outputs": [],
   "source": [
    "cutoff = 0.60\n",
    "singleResult = {}\n",
    "#for i, (artist, cnt) in enumerate(slimResults.most_common()):\n",
    "for i, (artist, cnt) in enumerate(sorted(slimResults.items(), key=lambda pair: pair[1], reverse=False)):\n",
    "    if i > 0 and i % 100 == 0 or i == 100:\n",
    "        print(\"Passed\",i,'/',len(slimResults))\n",
    "    if cnt < 1:\n",
    "        continue\n",
    "    prevArtist = None\n",
    "    if multiRenames.get(artist) is not None:\n",
    "        prevArtist = artist\n",
    "        artist = multiRenames[artist]\n",
    "    if singleRenames.get(artist) is not None:\n",
    "        idx    = str(singleRenames[artist])\n",
    "        artist = artistIDToName[idx]        \n",
    "    if prevArtist is None:\n",
    "        prevArtist = artist\n",
    "    if manualRenames.get(prevArtist) is not None:\n",
    "        prevArtist = manualRenames[prevArtist]\n",
    "    if knownArtists.get(prevArtist) is not None or knownArtists.get(artist) is not None:\n",
    "        continue\n",
    "    artistAlbums = set(list(fullResults[artist][\"Songs\"].keys()) + list(fullResults[artist][\"Albums\"].keys()))\n",
    "    match = mulArts.getArtistNames(artist                                                     )\n",
    "    if len(match) == 1:\n",
    "        mdata = getMusicData(\"DiscArtist\", list(match.keys())[0])\n",
    "        if not isinstance(mdata, DataFrame):\n",
    "            results = getBestArtistMatch(artist, artistAlbums, N=3, cutoff=cutoff)\n",
    "            if results[2] is not None:\n",
    "                if results[2] >= cutoff:\n",
    "                    print(i,\"/\",len(slimResults),'  \\t',artist,'\\t',results)\n",
    "                    singleResult[artist] = results\n",
    "                    if len(singleResult) > 1000:\n",
    "                        break"
   ]
  },
  {
   "cell_type": "code",
   "execution_count": null,
   "metadata": {},
   "outputs": [],
   "source": [
    "del singleResult[\"Murk vs. Kristine W\"]\n",
    "del singleResult[\"Chris Cox Vs. Happy Clappers\"]\n",
    "del singleResult[\"T.M.Revolution × Nana Mizuki\"]\n",
    "del singleResult[\"Bob Marley Vs. Funkstar De Luxe\"]"
   ]
  },
  {
   "cell_type": "code",
   "execution_count": null,
   "metadata": {},
   "outputs": [],
   "source": [
    "singleResults = {k: v[0] for k,v in singleResult.items()}\n",
    "print(\"Found {0} single results\".format(len(singleResults)))\n",
    "print(\"Found {0} all results\".format(len(knownArtists)))\n",
    "knownArtists.update(singleResults)\n",
    "print(\"Found {0} all results\".format(len(knownArtists)))\n",
    "saveFile(idata=knownArtists, ifile=\"artistMap.p\", debug=True)"
   ]
  },
  {
   "cell_type": "markdown",
   "metadata": {},
   "source": [
    "## Known Results"
   ]
  },
  {
   "cell_type": "code",
   "execution_count": null,
   "metadata": {},
   "outputs": [],
   "source": [
    "from collections import Counter\n",
    "cutoff = 0.8\n",
    "multiMatchResult = {}\n",
    "for i, (artist, cnt) in enumerate(slimResults.most_common()):\n",
    "    if i > 0 and i % 1000 == 0:\n",
    "        print(\"Passed\",i,'/',len(slimResults))\n",
    "    prevArtist = None\n",
    "    if multiRenames.get(artist) is not None:\n",
    "        prevArtist = artist\n",
    "        artist = multiRenames[artist]\n",
    "    if singleRenames.get(artist) is not None:\n",
    "        idx    = str(singleRenames[artist])\n",
    "        artist = artistIDToName[idx]\n",
    "    if prevArtist is None:\n",
    "        prevArtist = artist\n",
    "    if knownArtists.get(prevArtist) is not None:\n",
    "        continue\n",
    "    mdata = getMusicData(\"DiscArtist\", prevArtist)\n",
    "    if isinstance(mdata, DataFrame):\n",
    "        if mdata.shape[0] <= 1:\n",
    "            continue\n",
    "        matches = mdata[\"Name\"].index\n",
    "        artistAlbums = set(list(fullResults[prevArtist][\"Songs\"].keys()) + list(fullResults[prevArtist][\"Albums\"].keys()))\n",
    "        results = getBestArtistIDMatch(artist, artistAlbums, matches, N=3, cutoff=cutoff)\n",
    "        if results[2] is not None:\n",
    "            if results[2] >= cutoff:\n",
    "                print(i,\"/\",len(slimResults),'  \\t',artist,results)\n",
    "                multiMatchResult[artist] = list(results[:-1])"
   ]
  },
  {
   "cell_type": "code",
   "execution_count": null,
   "metadata": {},
   "outputs": [],
   "source": [
    "singleResults = {k: v[0] for k,v in multiMatchResult.items()}\n",
    "print(\"Found {0} single results\".format(len(singleResults)))\n",
    "print(\"Found {0} all results\".format(len(knownArtists)))\n",
    "knownArtists.update(singleResults)\n",
    "print(\"Found {0} all results\".format(len(knownArtists)))"
   ]
  },
  {
   "cell_type": "code",
   "execution_count": null,
   "metadata": {},
   "outputs": [],
   "source": [
    "saveFile(idata=knownArtists, ifile=\"singleRenames.p\")"
   ]
  },
  {
   "cell_type": "code",
   "execution_count": null,
   "metadata": {},
   "outputs": [],
   "source": []
  },
  {
   "cell_type": "code",
   "execution_count": null,
   "metadata": {},
   "outputs": [],
   "source": []
  },
  {
   "cell_type": "code",
   "execution_count": null,
   "metadata": {},
   "outputs": [],
   "source": []
  },
  {
   "cell_type": "code",
   "execution_count": null,
   "metadata": {},
   "outputs": [],
   "source": []
  },
  {
   "cell_type": "code",
   "execution_count": null,
   "metadata": {},
   "outputs": [],
   "source": []
  },
  {
   "cell_type": "code",
   "execution_count": null,
   "metadata": {},
   "outputs": [],
   "source": []
  },
  {
   "cell_type": "code",
   "execution_count": null,
   "metadata": {},
   "outputs": [],
   "source": []
  },
  {
   "cell_type": "code",
   "execution_count": null,
   "metadata": {},
   "outputs": [],
   "source": []
  },
  {
   "cell_type": "code",
   "execution_count": null,
   "metadata": {},
   "outputs": [],
   "source": []
  },
  {
   "cell_type": "code",
   "execution_count": null,
   "metadata": {},
   "outputs": [],
   "source": []
  },
  {
   "cell_type": "markdown",
   "metadata": {},
   "source": [
    "# Check For Misnames"
   ]
  },
  {
   "cell_type": "code",
   "execution_count": null,
   "metadata": {},
   "outputs": [],
   "source": []
  },
  {
   "cell_type": "code",
   "execution_count": null,
   "metadata": {},
   "outputs": [],
   "source": [
    "ma = multiartist(cutoff=0.9, discdata=discdata)"
   ]
  },
  {
   "cell_type": "code",
   "execution_count": null,
   "metadata": {},
   "outputs": [],
   "source": [
    "print(ma.getArtistNames('Lipps, Inc.') == {'Lipps, Inc.': ['159617', '26641', '101850']})\n",
    "print(ma.getArtistNames('Bob Wills & His Texas Playboys') == {'Bob Wills & His Texas Playboys': ['670000','786114','1134146','804668','804679','1004309','935875','935907']})\n",
    "print(ma.getArtistNames('Brad Paisley Duet With Carrie Underwood', debug=False) == {'Carrie Underwood': ['1011680'], 'Brad Paisley': ['313755']})\n",
    "print(ma.getArtistNames('Ray Charles With Willie Nelson', debug=False) == {'Willie Nelson': ['249449'], 'Ray Charles': ['521963', '30552']})"
   ]
  },
  {
   "cell_type": "markdown",
   "metadata": {},
   "source": [
    "# Album Data"
   ]
  },
  {
   "cell_type": "code",
   "execution_count": null,
   "metadata": {},
   "outputs": [],
   "source": [
    "savename = join(savedir, \"billboard.p\")\n",
    "albumData = getFile(join(savedir, \"billboard-album.p\"))\n",
    "#chartdata = getFile(savename, debug=True)"
   ]
  },
  {
   "cell_type": "code",
   "execution_count": null,
   "metadata": {},
   "outputs": [],
   "source": [
    "for artist,artistData in albumData.items():\n",
    "    print(artist)\n",
    "    for album in artistData.keys():\n",
    "        print(\"\\t\",album)"
   ]
  },
  {
   "cell_type": "markdown",
   "metadata": {},
   "source": [
    "# Show Data"
   ]
  },
  {
   "cell_type": "code",
   "execution_count": null,
   "metadata": {
    "scrolled": false
   },
   "outputs": [],
   "source": [
    "togets = {}\n",
    "combos = []\n",
    "\n",
    "savedir  = join(basedir, \"results\")\n",
    "savename = join(savedir, \"billboard.p\")\n",
    "chartdata = getFile(savename, debug=True)\n",
    "chartArtists = sorted(chartdata.keys(), reverse=True)\n",
    "\n",
    "import json\n",
    "prevs = json.load(open(\"prevs.json\", \"r\"))\n",
    "artPrev = json.load(open(\"../discogs/prevs.json\", \"r\"))\n",
    "prevs.update(artPrev)\n",
    "json.dump(prevs, open(\"prevs.json\", \"w\"))\n",
    "print(\"There are {0} artists previously searched.\".format(len(prevs)))\n",
    "\n",
    "ma = multiartist(cutoff=0.9, discdata=discdata, exact=False)\n",
    "\n",
    "from random import shuffle\n",
    "print(\"There are {0} chart artists\".format(len(chartArtists)))\n",
    "shuffle(chartArtists)\n",
    "for i,artist in enumerate(chartArtists):\n",
    "    if prevs.get(artist) is not None:\n",
    "        continue\n",
    "    retval = ma.getArtistNames(artist)\n",
    "    if retval is None:\n",
    "        togets[artist] = artist\n",
    "    else:\n",
    "        for name,value in retval.items():\n",
    "            if prevs.get(name) is not None:\n",
    "                continue\n",
    "            if value is None:\n",
    "                togets[name.upper()] = artist\n",
    "                print(\"{0: <3}{1: <40}{2: <60}{3}\".format(len(togets),name,artist,retval))\n",
    "                print('\\t---->',i,'/',len(chartArtists))\n",
    "\n",
    "    \n",
    "    if len(togets) > 50:\n",
    "        print(\"\\n\\n\\n\\n\")\n",
    "        for name,artist in togets.items():\n",
    "            print(\"art.searchDiscogForArtist(\\\"{0}\\\")  ## {1}\".format(name, artist))\n",
    "        break"
   ]
  },
  {
   "cell_type": "markdown",
   "metadata": {},
   "source": [
    "###### artists = [x.strip() for x in vals.split(\"\\n\")]\n",
    "artists = [x for x in artists if len(x) > 0]"
   ]
  },
  {
   "cell_type": "code",
   "execution_count": null,
   "metadata": {},
   "outputs": [],
   "source": []
  },
  {
   "cell_type": "code",
   "execution_count": null,
   "metadata": {},
   "outputs": [],
   "source": [
    "Pitbull Featuring Ne-Yo, Afrojack & Nayer\n",
    "Drake Featuring Kanye West, Lil Wayne & Eminem"
   ]
  },
  {
   "cell_type": "code",
   "execution_count": null,
   "metadata": {},
   "outputs": [],
   "source": [
    "def testName(name, discdata):\n",
    "    if discdata.get(name) is not None:\n",
    "        return discdata[name]\n",
    "    return name\n",
    "\n",
    "def findName(name, discArtists, threshold):\n",
    "    retval = findNearest(name, discArtists, 1, threshold)\n",
    "    if len(retval) == 0:\n",
    "        return name\n",
    "    return retval\n",
    "    \n",
    "\n",
    "def splitArtist(name):\n",
    "    names = [name]\n",
    "    names = [[x.strip() for x in y.split(\" Featuring \")]\n",
    "results = {}\n",
    "    \n",
    "for name in artists:\n",
    "    if \" & \" in name:\n",
    "        retvals = [testName(x, discdata) for x in \n",
    "        retvals = [findName(x, discArtists, 0.95) if not isinstance(x, list) else x for x in retvals]\n",
    "        results[name] = retvals        "
   ]
  },
  {
   "cell_type": "code",
   "execution_count": null,
   "metadata": {},
   "outputs": [],
   "source": [
    "togets = []\n",
    "for k,v in results.items():\n",
    "    for val in v:\n",
    "        if not isinstance(val, list):\n",
    "            togets.append(\"art.searchDiscogForArtist(\\\"{0}\\\")\".format(val))\n",
    "            \n",
    "for toget in set(togets):\n",
    "    print(toget)"
   ]
  },
  {
   "cell_type": "code",
   "execution_count": null,
   "metadata": {},
   "outputs": [],
   "source": [
    "tmp = [['5070865', '90037', '4135543', '1507065'], ['Katy XXX Perry', ['1201210']]]"
   ]
  },
  {
   "cell_type": "code",
   "execution_count": null,
   "metadata": {},
   "outputs": [],
   "source": [
    "tmp"
   ]
  },
  {
   "cell_type": "code",
   "execution_count": null,
   "metadata": {},
   "outputs": [],
   "source": [
    "nameids = {}\n",
    "namerefs = {}\n",
    "for name,nameid in iddata.items():\n",
    "    artist = name\n",
    "    if name.endswith(\")\"):\n",
    "        artist = None\n",
    "        for x in [-3,-4,-5]:\n",
    "            if artist is not None:\n",
    "                continue\n",
    "            if abs(x) > len(name):\n",
    "                continue\n",
    "            if name[x] == \"(\":\n",
    "                try:\n",
    "                    val = int(name[(x+1):-1])\n",
    "                    artist = name[:x].strip()\n",
    "                except:\n",
    "                    continue\n",
    "          \n",
    "        if artist is None:\n",
    "            artist = name\n",
    "\n",
    "    ref = refdata[name]\n",
    "            \n",
    "    if nameids.get(artist) is None:\n",
    "        nameids[artist] = {}\n",
    "    nameids[artist][nameid] = 1\n",
    "    \n",
    "    if namerefs.get(artist) is None:\n",
    "        namerefs[artist] = {}\n",
    "    namerefs[artist][ref] = 1\n",
    "    \n",
    "\n",
    "nameids = {k: list(v.keys()) for k,v in nameids.items()}\n",
    "namerefs = {k: list(v.keys()) for k,v in namerefs.items()}"
   ]
  }
 ],
 "metadata": {
  "kernelspec": {
   "display_name": "Python 3",
   "language": "python",
   "name": "python3"
  },
  "language_info": {
   "codemirror_mode": {
    "name": "ipython",
    "version": 3
   },
   "file_extension": ".py",
   "mimetype": "text/x-python",
   "name": "python",
   "nbconvert_exporter": "python",
   "pygments_lexer": "ipython3",
   "version": "3.7.7"
  }
 },
 "nbformat": 4,
 "nbformat_minor": 2
}
