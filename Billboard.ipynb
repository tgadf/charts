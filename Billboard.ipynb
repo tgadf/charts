{
 "cells": [
  {
   "cell_type": "markdown",
   "metadata": {},
   "source": [
    "# Billboard Functions"
   ]
  },
  {
   "cell_type": "code",
   "execution_count": 14,
   "metadata": {},
   "outputs": [
    {
     "name": "stdout",
     "output_type": "stream",
     "text": [
      "The autoreload extension is already loaded. To reload it, use:\n",
      "  %reload_ext autoreload\n"
     ]
    },
    {
     "data": {
      "text/html": [
       "<style>.container { width:100% !important; }</style>"
      ],
      "text/plain": [
       "<IPython.core.display.HTML object>"
      ]
     },
     "metadata": {},
     "output_type": "display_data"
    },
    {
     "data": {
      "text/html": [
       "<style>div.output_area{max-height:10000px;overflow:scroll;}</style>"
      ],
      "text/plain": [
       "<IPython.core.display.HTML object>"
      ]
     },
     "metadata": {},
     "output_type": "display_data"
    },
    {
     "name": "stdout",
     "output_type": "stream",
     "text": [
      "Python: 3.7.3 (default, Mar 27 2019, 16:54:48) \n",
      "[Clang 4.0.1 (tags/RELEASE_401/final)]\n",
      "Notebook Last Run Initiated: 2020-01-21 19:30:36.438020\n"
     ]
    }
   ],
   "source": [
    "## Basic stuff\n",
    "%load_ext autoreload\n",
    "%autoreload\n",
    "from IPython.core.display import display, HTML\n",
    "display(HTML(\"<style>.container { width:100% !important; }</style>\"))\n",
    "display(HTML(\"\"\"<style>div.output_area{max-height:10000px;overflow:scroll;}</style>\"\"\"))\n",
    "\n",
    "## Python Version\n",
    "import sys\n",
    "from glob import glob\n",
    "from os import getcwd\n",
    "from os.path import join\n",
    "from fileUtils import getBasename, getDirname, getBaseFilename\n",
    "from fsUtils import isFile, isDir, moveFile, removeFile\n",
    "from webUtils import getHTML, getWebData\n",
    "from timeUtils import getDateTime, isDate, printDateTime\n",
    "from ioUtils import saveJoblib, loadJoblib, saveFile, getFile\n",
    "import urllib\n",
    "from searchUtils import findNearest\n",
    "from collections import Counter\n",
    "\n",
    "\n",
    "\n",
    "from discogsBase import discogs\n",
    "from multiArtist import multiArtist\n",
    "print(\"Python: {0}\".format(sys.version))\n",
    "\n",
    "import datetime as dt\n",
    "start = dt.datetime.now()\n",
    "print(\"Notebook Last Run Initiated: \"+str(start))"
   ]
  },
  {
   "cell_type": "markdown",
   "metadata": {},
   "source": [
    "# Global Vars"
   ]
  },
  {
   "cell_type": "code",
   "execution_count": 2,
   "metadata": {},
   "outputs": [],
   "source": [
    "basedir = getcwd()\n",
    "savedir  = join(basedir, \"results\")"
   ]
  },
  {
   "cell_type": "code",
   "execution_count": 3,
   "metadata": {},
   "outputs": [],
   "source": [
    "from pandas import DataFrame\n",
    "def getMusicData(key, artist):\n",
    "    retval = discdf[discdf[key] == artist]\n",
    "    if retval.shape[0] > 0:\n",
    "        return retval\n",
    "    else:\n",
    "        return None\n",
    "    \n",
    "from difflib import SequenceMatcher\n",
    "\n",
    "def getRowByIndex(pdf, idx):\n",
    "    return pdf.loc[idx]"
   ]
  },
  {
   "cell_type": "code",
   "execution_count": 13,
   "metadata": {},
   "outputs": [],
   "source": [
    "from searchUtils import findNearest\n",
    "from collections import Counter\n",
    "def getBestArtistIDMatch(artistName, artistResults, possibleMatches, N=3, cutoff=0.7, debug=False):\n",
    "    myAlbumNames = list(artistResults)\n",
    "    idxResults = {}\n",
    "    matchValue = {}\n",
    "    for idx in possibleMatches:\n",
    "        idxResults[idx] = 0\n",
    "        matchValue[idx] = artistName\n",
    "\n",
    "        artistAlbumsData = getRowByIndex(artistAlbumsDB, idx)\n",
    "        artistAlbums     = artistAlbumsData[\"Albums\"]\n",
    "\n",
    "        for myAlbumName in myAlbumNames:\n",
    "            maxRatio = 0\n",
    "            for albumType, albumTypeData in artistAlbums.items():\n",
    "                for albumID, dbAlbumName in albumTypeData.items():\n",
    "                    s = SequenceMatcher(None, myAlbumName, dbAlbumName)\n",
    "                    ratio = s.ratio()\n",
    "                    if ratio > maxRatio:\n",
    "                        maxRatio = ratio\n",
    "\n",
    "            if maxRatio > cutoff:\n",
    "                idxResults[idx] += maxRatio\n",
    "\n",
    "        if debug:\n",
    "            print(\"\\t{0: <5}{1: <15}{2}\".format(idxResults[idx], idx, matchValue[idx]))\n",
    "            \n",
    "    if len(idxResults) > 0:\n",
    "        mc     = Counter(idxResults)\n",
    "        best   = mc.most_common(1)[0]\n",
    "        idx    = best[0]\n",
    "        ratio  = round(best[1],2)\n",
    "        artist = matchValue[idx]\n",
    "        return (idx, artist, ratio)\n",
    "    else:\n",
    "        return (None, None, None)\n",
    "    \n",
    "\n",
    "\n",
    "def getBestArtistMatch(artistName, artistResults, N=3, cutoff=0.7, debug=False):\n",
    "    myAlbumNames = list(artistResults)\n",
    "    if debug:\n",
    "        print(artistName)\n",
    "\n",
    "    idxResults = {}\n",
    "    matchValue = {}\n",
    "\n",
    "    \n",
    "    for artist in findNearest(artistName, artistNameToID.keys(), N, cutoff):\n",
    "        for idx in artistNameToID[artist]:\n",
    "            idxResults[idx] = 0\n",
    "            matchValue[idx] = artist\n",
    "            \n",
    "            artistAlbumsData = getRowByIndex(artistAlbumsDB, idx)\n",
    "            artistAlbums     = artistAlbumsData[\"Albums\"]\n",
    "            \n",
    "            for myAlbumName in myAlbumNames:\n",
    "                maxRatio = 0\n",
    "                for albumType, albumTypeData in artistAlbums.items():\n",
    "                    for albumID, dbAlbumName in albumTypeData.items():\n",
    "                        s = SequenceMatcher(None, myAlbumName, dbAlbumName)\n",
    "                        ratio = s.ratio()\n",
    "                        if ratio > maxRatio:\n",
    "                            maxRatio = ratio\n",
    "                            \n",
    "                if maxRatio > cutoff:\n",
    "                    idxResults[idx] += maxRatio\n",
    "            \n",
    "            if debug:\n",
    "                print(\"\\t{0: <5}{1: <15}{2}\".format(idxResults[idx], idx, matchValue[idx]))\n",
    "\n",
    "    if len(idxResults) > 0:\n",
    "        mc     = Counter(idxResults)\n",
    "        best   = mc.most_common(1)[0]\n",
    "        idx    = best[0]\n",
    "        ratio  = round(best[1],2)\n",
    "        artist = matchValue[idx]\n",
    "        return (idx, artist, ratio)\n",
    "    else:\n",
    "        return (None, None, None)"
   ]
  },
  {
   "cell_type": "markdown",
   "metadata": {},
   "source": [
    "# Starter Class Section"
   ]
  },
  {
   "cell_type": "code",
   "execution_count": null,
   "metadata": {},
   "outputs": [],
   "source": [
    "\n",
    "try:\n",
    "    filename = glob(join(basedir, \"data\", \"billboard\", \"starter.html\"))[0]\n",
    "except:\n",
    "    print(\"Could not find starter HTML file!\")\n",
    "fdata = getHTML(filename)"
   ]
  },
  {
   "cell_type": "code",
   "execution_count": null,
   "metadata": {},
   "outputs": [],
   "source": [
    "chartData  = {}\n",
    "dirname = None\n",
    "baseURL = \"https://www.billboard.com\"\n",
    "for iul,ul in enumerate(fdata.findAll(\"ul\")):\n",
    "    lis = ul.findAll(\"li\", {\"class\": \"chart-group__item\"})\n",
    "    for j,li in enumerate(lis):  \n",
    "        a = li.find('a')\n",
    "        if a is not None:\n",
    "            href = a['href']\n",
    "            text = a.text\n",
    "            subdir = getDirname(href)[1:]\n",
    "            chartData[text] = [baseURL, subdir, getBasename(href)]"
   ]
  },
  {
   "cell_type": "markdown",
   "metadata": {},
   "source": [
    "# Download Yearly Information"
   ]
  },
  {
   "cell_type": "code",
   "execution_count": null,
   "metadata": {},
   "outputs": [],
   "source": [
    "from time import sleep\n",
    "years = [str(x) for x in range(1958,2014)]\n",
    "years = ['2019']\n",
    "for year in years:\n",
    "    url=\"https://www.billboard.com/archive/charts/{0}\".format(year)\n",
    "    user_agent = 'Mozilla/5.0 (Windows; U; Windows NT 5.1; en-US; rv:1.9.0.7) Gecko/2009021910 Firefox/3.0.7'\n",
    "    headers={'User-Agent':user_agent,}\n",
    "    \n",
    "    savedir = join(basedir, \"data\", \"billboard\", \"yearly\")\n",
    "    savename = join(savedir, \"{0}.p\".format(year))\n",
    "    if isFile(savename):\n",
    "        continue\n",
    "    \n",
    "    request=urllib.request.Request(url,None,headers) #The assembled request\n",
    "    response = urllib.request.urlopen(request)\n",
    "    data = response.read() # The data u need\n",
    "\n",
    "    print(\"Saving {0}\".format(savename))\n",
    "    saveJoblib(data=data, filename=savename, compress=True)\n",
    "    sleep(1)"
   ]
  },
  {
   "cell_type": "markdown",
   "metadata": {},
   "source": [
    "# Parse Yearly Information"
   ]
  },
  {
   "cell_type": "code",
   "execution_count": null,
   "metadata": {},
   "outputs": [],
   "source": [
    "downloads = {}\n",
    "baseURL = \"https://www.billboard.com\"\n",
    "for ifile in sorted(glob(join(basedir, \"data\", \"billboard\", \"yearly\", \"*.p\"))):\n",
    "    year = getBaseFilename(ifile)\n",
    "    if downloads.get(year) is None:\n",
    "        downloads[year] = {}\n",
    "    fdata = getHTML(ifile)\n",
    "    for iul,ul in enumerate(fdata.findAll(\"ul\")):\n",
    "        lis = ul.findAll(\"li\", {\"class\": \"chart-group__item\"})\n",
    "        for j,li in enumerate(lis):  \n",
    "            a = li.find('a')\n",
    "            if a is not None:\n",
    "                href = a['href']\n",
    "                text = a.text\n",
    "                subdir = getDirname(href)[1:]\n",
    "                downloads[year][href] = [baseURL, subdir, getBasename(href)]"
   ]
  },
  {
   "cell_type": "markdown",
   "metadata": {},
   "source": [
    "# Download Category Data"
   ]
  },
  {
   "cell_type": "code",
   "execution_count": null,
   "metadata": {
    "scrolled": false
   },
   "outputs": [],
   "source": [
    "baseURL = \"https://www.billboard.com\"\n",
    "\n",
    "for year, yearData in downloads.items():   \n",
    "    for href, hrefData in yearData.items():\n",
    "        url  = \"{0}/{1}\".format(baseURL, href)\n",
    "        year = getBasename(hrefData[1])\n",
    "        category = hrefData[2]\n",
    "\n",
    "        savedir  = join(basedir, \"data\", \"billboard\", \"categories\")\n",
    "        savename = join(savedir, \"{0}-{1}.p\".format(year, category))\n",
    "\n",
    "        if isFile(savename):\n",
    "            continue\n",
    "\n",
    "        print(\"  Trying to download and save {0}\".format(savename))\n",
    "        try:\n",
    "\n",
    "            user_agent = 'Mozilla/5.0 (Windows; U; Windows NT 5.1; en-US; rv:1.9.0.7) Gecko/2009021910 Firefox/3.0.7'\n",
    "            headers={'User-Agent':user_agent,} \n",
    "\n",
    "            request=urllib.request.Request(url,None,headers) #The assembled request\n",
    "            response = urllib.request.urlopen(request)\n",
    "            data = response.read() # The data u need\n",
    "        except:\n",
    "            continue\n",
    "\n",
    "        print(\"Saving {0}\".format(savename))\n",
    "        saveJoblib(data=data, filename=savename, compress=True)\n",
    "        sleep(1)        "
   ]
  },
  {
   "cell_type": "markdown",
   "metadata": {},
   "source": [
    "# Parse Category Data"
   ]
  },
  {
   "cell_type": "code",
   "execution_count": null,
   "metadata": {},
   "outputs": [],
   "source": [
    "data = {}\n",
    "\n",
    "baseURL = \"https://www.billboard.com\"\n",
    "names = [getBaseFilename(x) for x in sorted(glob(join(basedir, \"data\", \"billboard\", \"categories\", \"*.p\")))]\n",
    "categories = set([x[5:] for x in names])\n",
    "\n",
    "albumCategories  = [x for x in categories if x.endswith(\"albums\")]\n",
    "songCategories   = [x for x in categories if not x.endswith(\"albums\")]\n",
    "\n",
    "\n",
    "names = [getBaseFilename(x) for x in sorted(glob(join(basedir, \"data\", \"billboard\", \"categories\", \"*.p\")))]\n",
    "years = sorted(set([x[:4] for x in names]))\n",
    "\n",
    "print(\"There are {0} years\".format(len(years)))\n",
    "print(\"There are {0} charts\".format(len(categories)))\n",
    "print(\"There are {0} album charts\".format(len(albumCategories)))\n",
    "print(\"There are {0} song charts\".format(len(songCategories)))"
   ]
  },
  {
   "cell_type": "code",
   "execution_count": null,
   "metadata": {},
   "outputs": [],
   "source": [
    "#categories"
   ]
  },
  {
   "cell_type": "code",
   "execution_count": null,
   "metadata": {},
   "outputs": [],
   "source": [
    "from searchUtils import findPatternExt"
   ]
  },
  {
   "cell_type": "code",
   "execution_count": null,
   "metadata": {},
   "outputs": [],
   "source": [
    "def parseBillboardFile(ifile):\n",
    "    fdata = getHTML(ifile)\n",
    "    data  = {}\n",
    "    for i,table in enumerate(fdata.findAll('table')):\n",
    "        ths = table.findAll(\"th\")\n",
    "        trs = table.findAll(\"tr\")\n",
    "\n",
    "        headers = [x.text for x in ths]\n",
    "        for j,tr in enumerate(trs[1:]):\n",
    "            tds  = tr.findAll('td')\n",
    "            vals = [x.text for x in tds]\n",
    "            #print(headers,vals)\n",
    "\n",
    "            if len(vals) == 3:\n",
    "                date,name,artist = vals\n",
    "                try:\n",
    "                    date = getDateTime(\", \".join([date, year]))\n",
    "                except:\n",
    "                    print(vals)\n",
    "                    print(\", \".join([date, year]))\n",
    "\n",
    "                    1/0\n",
    "            elif len(vals) == 1:\n",
    "                date = vals[0]\n",
    "                try:\n",
    "                    date = getDateTime(\", \".join([date, year]))\n",
    "                except:\n",
    "                    print(vals)\n",
    "                    1/0\n",
    "\n",
    "            if not isDate(date):\n",
    "                raise ValueError(\"Could not form date for {0}\".format(date))\n",
    "\n",
    "            date = printDateTime(date)\n",
    "            if data.get(date) is not None:\n",
    "                raise ValueError(\"Already seen this date!!!\")\n",
    "            data[date] = {\"Artist\": artist, \"Name\": name}\n",
    "            \n",
    "            #print(\"{0: <12}{1}\".format(date, data[date]))\n",
    "            continue\n",
    "            \n",
    "            \n",
    "            if data.get(date) is None:\n",
    "                data[date] = {}\n",
    "            #print(\"{0: <20}{1: <20}{2: <20}{3: <20}\".format(artist, name, category, date))\n",
    "            #continue\n",
    "            if data.get(artist) is None:\n",
    "                data[artist] = {}\n",
    "                #print(\"Artist: {0}\".format(artist))\n",
    "            if data[artist].get(name) is None:\n",
    "                data[artist][name] = {}\n",
    "                #print(\"\\tSong: {0} ({1})\".format(name, len(data[artist])))\n",
    "            if data[artist][name].get(category) is None:\n",
    "                data[artist][name][category] = []\n",
    "            data[artist][name][category].append([date])\n",
    "\n",
    "    return data"
   ]
  },
  {
   "cell_type": "code",
   "execution_count": null,
   "metadata": {},
   "outputs": [],
   "source": [
    "catdir = join(basedir, \"data\", \"billboard\", \"categories\")\n",
    "for year in years:\n",
    "    data  = {}\n",
    "    files = findPatternExt(catdir, pattern=year, ext='.p')    \n",
    "    for ifile in files:\n",
    "        chart   = getBaseFilename(ifile)\n",
    "        chart   = \"-\".join(chart.split('-')[1:])\n",
    "        results = parseBillboardFile(ifile)\n",
    "        data[chart] = results\n",
    "        print(\"{0: <10}{1: <30}{2}\".format(year, chart, len(results)))\n",
    "        \n",
    "    savedir = join(basedir, \"results\", \"billboard\")\n",
    "    savename = join(savedir, \"{0}.p\".format(year))\n",
    "    print(\"Saving {0}\".format(savename))\n",
    "    saveJoblib(data=data, filename=savename, compress=True)"
   ]
  },
  {
   "cell_type": "markdown",
   "metadata": {},
   "source": [
    "# Aggregrate Charts"
   ]
  },
  {
   "cell_type": "code",
   "execution_count": null,
   "metadata": {},
   "outputs": [],
   "source": [
    "results = {}\n",
    "from searchUtils import findExt\n",
    "savedir = join(basedir, \"results\", \"billboard\")\n",
    "files = sorted(findExt(savedir, \".p\"))\n",
    "for ifile in files:\n",
    "    print(ifile)\n",
    "    fdata = getFile(ifile)\n",
    "    for cname, cnameResults in fdata.items():\n",
    "        print('\\t',cname)\n",
    "        for date, dResults in cnameResults.items():\n",
    "            artist = dResults[\"Artist\"]\n",
    "            if multiRenames.get(artist) is not None:\n",
    "                prevArtist = artist\n",
    "                artist = multiRenames[artist]\n",
    "            if singleRenames.get(artist) is not None:\n",
    "                idx    = str(singleRenames[artist])\n",
    "                artist = artistIDToName[idx]\n",
    "            if manualRenames.get(artist) is not None:\n",
    "                artist = manualRenames[artist]\n",
    "            album  = dResults[\"Name\"]\n",
    "            if results.get(artist) is None:\n",
    "                results[artist] = {\"Songs\": {}, \"Albums\": {}}\n",
    "            if cname.endswith(\"albums\"):\n",
    "                key = \"Albums\"\n",
    "            else:\n",
    "                key = \"Songs\"\n",
    "            if results[artist][key].get(album) is None:\n",
    "                results[artist][key][album] = {}\n",
    "            if results[artist][key][album].get(cname) is None:\n",
    "                results[artist][key][album][cname] = {}\n",
    "            results[artist][key][album][cname][date] = 0"
   ]
  },
  {
   "cell_type": "code",
   "execution_count": null,
   "metadata": {},
   "outputs": [],
   "source": [
    "from collections import Counter\n",
    "slimResults = Counter()\n",
    "for artist, artistData in results.items():\n",
    "    for key, keyData in artistData.items():\n",
    "        for album, albumData in keyData.items():\n",
    "            slimResults[artist] += sum({k: len(v) for k,v in albumData.items()}.values())"
   ]
  },
  {
   "cell_type": "code",
   "execution_count": null,
   "metadata": {},
   "outputs": [],
   "source": [
    "saveFile(idata = slimResults, ifile=\"billboardCounter.p\", debug=True)\n",
    "saveFile(idata = results,     ifile=\"billboardResults.p\", debug=True)"
   ]
  },
  {
   "cell_type": "markdown",
   "metadata": {},
   "source": [
    "# Get Billboard Results"
   ]
  },
  {
   "cell_type": "code",
   "execution_count": 5,
   "metadata": {},
   "outputs": [
    {
     "name": "stdout",
     "output_type": "stream",
     "text": [
      "Loading data from billboardCounter.p\n",
      "  --> This file is 96.0kB.\n",
      "Loading billboardCounter.p\n",
      "Loading data from billboardResults.p\n",
      "  --> This file is 1.2MB.\n",
      "Loading billboardResults.p\n"
     ]
    }
   ],
   "source": [
    "slimResults = getFile(ifile=\"billboardCounter.p\", debug=True)\n",
    "fullResults = getFile(ifile=\"billboardResults.p\", debug=True)"
   ]
  },
  {
   "cell_type": "markdown",
   "metadata": {},
   "source": [
    "# Get Discogs"
   ]
  },
  {
   "cell_type": "code",
   "execution_count": 6,
   "metadata": {},
   "outputs": [
    {
     "name": "stdout",
     "output_type": "stream",
     "text": [
      "Saved Discog Directory /Volumes/Music/Discog is Available\n",
      "Local Discog Directory /Users/tgadfort/Music/Discog is Available\n",
      "/Volumes/Music/Discog/collections exists\n",
      "/Volumes/Music/Discog/artists exists\n",
      "/Volumes/Music/Discog/albums exists\n",
      "/Volumes/Music/Discog/collections-db exists\n",
      "/Volumes/Music/Discog/artists-db exists\n",
      "/Volumes/Music/Discog/albums-db exists\n",
      "/Volumes/Music/Discog/artists-db/metadata exists\n",
      "/Volumes/Music/Discog/albums-db/metadata exists\n",
      "/Volumes/Music/Discog/diagnostic exists\n",
      "/Volumes/Music/Discog/db exists\n",
      "Loading data from /Volumes/Music/Discog/db/MasterSlimArtistDB.p\n",
      "  --> This file is 53.5MB.\n",
      "Loading /Volumes/Music/Discog/db/MasterSlimArtistDB.p\n",
      "Current Time is Tue Jan 21, 2020 19:24:37 for \n",
      "=================================== Creating Artist Albums DB ===================================\n",
      "Loading ArtistID Data\n",
      "Loading data from /Volumes/Music/Discog/db/ArtistIDToAlbumNames.p\n",
      "  --> This file is 180.4MB.\n",
      "Loading /Volumes/Music/Discog/db/ArtistIDToAlbumNames.p\n",
      "Creating Pandas DataFrame for 669087 Artists\n",
      "\tShape --> (669087, 1)\n",
      "DataFrame Shape is (669087, 1)\n",
      "Current Time is Tue Jan 21, 2020 19:26:11 for Done with \n",
      "=================================== Creating Artist Albums DB ===================================\n",
      "Process [{0}] took 1.6 minutes.\n",
      "Found 669087 ID -> Name entries\n",
      "Found 616547 Name -> ID entries\n"
     ]
    }
   ],
   "source": [
    "disc = discogs()\n",
    "discdf = disc.getMasterSlimArtistDiscogsDB()\n",
    "artistIDToName = discdf[\"DiscArtist\"].to_dict()\n",
    "from masterdb import getArtistAlbumsDB, discConv\n",
    "artistAlbumsDB = getArtistAlbumsDB(disc)\n",
    "\n",
    "artistNameToID = {}\n",
    "print(\"Found {0} ID -> Name entries\".format(len(artistIDToName)))\n",
    "for artistID,artistName in artistIDToName.items():\n",
    "    if artistNameToID.get(artistName) is None:\n",
    "        artistNameToID[artistName] = []\n",
    "    artistNameToID[artistName].append(artistID)\n",
    "print(\"Found {0} Name -> ID entries\".format(len(artistNameToID)))\n",
    "mulArts  = multiArtist(cutoff=0.9, discdata=artistNameToID, exact=False)"
   ]
  },
  {
   "cell_type": "markdown",
   "metadata": {},
   "source": [
    "# Check Renames"
   ]
  },
  {
   "cell_type": "code",
   "execution_count": 7,
   "metadata": {},
   "outputs": [
    {
     "name": "stdout",
     "output_type": "stream",
     "text": [
      "Loading data from singleRenames.p\n",
      "  --> This file is 107.3kB.\n",
      "Loading singleRenames.p\n",
      "Loading data from multiRenames.p\n",
      "  --> This file is 622B.\n",
      "Loading multiRenames.p\n",
      "Loading data from artistMap.p\n",
      "  --> This file is 158.8kB.\n",
      "Loading artistMap.p\n"
     ]
    }
   ],
   "source": [
    "singleRenames = getFile(ifile=\"singleRenames.p\", debug=True)\n",
    "multiRenames  = getFile(ifile=\"multiRenames.p\", debug=True)\n",
    "knownArtists  = getFile(ifile=\"artistMap.p\", debug=True)"
   ]
  },
  {
   "cell_type": "code",
   "execution_count": 8,
   "metadata": {},
   "outputs": [],
   "source": [
    "manualRenames = {}\n",
    "manualRenames[\"Michael Buble\"] = \"Michael Bublé\"\n",
    "manualRenames[\"Celine Dion\"] = \"Céline Dion\"\n",
    "manualRenames[\"Los Tigres del Norte\"] = \"Los Tigres Del Norte\"\n",
    "manualRenames[\"Marco Antonio Solis\"] = \"Marco Antonio Solís\"\n",
    "manualRenames[\"Banda El Recodo de Cruz Lizarraga\"] = \"Banda El Recodo De Crúz Lizárraga\"\n",
    "manualRenames[\"Alejandro Fernandez\"] = \"Alejandro Fernández\"\n",
    "manualRenames[\"Juan Luis Guerra 440\"] = \"Juan Luis Guerra 4.40\"\n",
    "manualRenames[\"Banda Sinaloense MS de Sergio Lizarraga\"] = \"Banda Sinaloense MS De Sergio Lizárraga\"\n",
    "manualRenames[\"J Balvin\"] = \"J. Balvin\"\n",
    "manualRenames[\"Los Tucanes de Tijuana\"] = \"Los Tucanes De Tijuana\"\n",
    "manualRenames[\"M.C. Hammer\"] = \"MC Hammer\"\n",
    "manualRenames[\"Ke$ha\"] = \"Ke$$ha\"\n",
    "manualRenames[\"Grupo Montez de Durango\"] = \"Grupo Montez De Durango\"\n",
    "manualRenames[\"Jose Feliciano\"] = \"José Feliciano\"\n",
    "manualRenames[\"Jennifer Pena\"] = \"Jennifer Peña\"\n",
    "manualRenames[\"Louie DeVito\"] = \"Louie Devito\"\n",
    "manualRenames[\"John Mellencamp\"] = \"John Mellencamp*\"\n",
    "manualRenames[\"Michel Telo\"] = \"Michel Teló\"\n",
    "manualRenames[\"La Adictiva Banda San Jose de Mesillas\"] = \"La Adictiva Banda San José De Mesillas\"\n",
    "manualRenames[\"VaShawn Mitchell\"] = \"Vashawn Mitchell\"\n",
    "manualRenames[\"Los Huracanes del Norte\"] = \"Los Huracanes Del Norte\"\n",
    "manualRenames[\"Daryl Hall John Oates\"] = \"Daryl Hall & John Oates\"\n",
    "manualRenames[\"A$AP Rocky\"] = \"ASAP Rocky\"\n",
    "manualRenames[\"Los Rieleros del Norte\"] = \"Los Rieleros Del Norte\"\n",
    "manualRenames[\"Gente de Zona\"] = \"Gente De Zona\"\n",
    "manualRenames[\"Los Horoscopos de Durango\"] = \"Los Horóscopos de Durango\"\n",
    "manualRenames[\"Jeff Lorber Fusion\"] = \"The Jeff Lorber Fusion\"\n",
    "manualRenames[\"Grupo Mania\"] = \"Grupo Manía\"\n",
    "manualRenames[\"Voz de Mando\"] = \"Voz De Mando\"\n",
    "manualRenames[\"La Maquinaria Nortena\"] = \"La Maquinaria Norteña\"\n",
    "manualRenames[\"Wang Qing\"] = \"Wang Qiang\"\n",
    "manualRenames[\"A Boogie Wit da Hoodie\"] = \"A Boogie Wit Da Hoodie\"\n",
    "manualRenames[\"Los Yonic's\"] = \"Los Yonics\"\n",
    "manualRenames[\"Sinead O'Connor\"] = \"Sinéad O'Connor\"\n",
    "manualRenames[\"VeggieTales\"] = \"Veggietales\"\n",
    "manualRenames[\"ScHoolboy Q\"] = \"Schoolboy Q\"\n",
    "manualRenames[\"Sergio Mendes\"] = \"Sérgio Mendes\"\n",
    "manualRenames[\"The B-52s\"] = \"The B-52's\"\n",
    "manualRenames[\"Franco de Vita\"] = \"Franco De Vita\"\n",
    "manualRenames[\"Ultra Nate\"] = \"Ultra Naté\"\n",
    "manualRenames[\"Alejandra Guzman\"] = \"Alejandra Guzmán\"\n",
    "manualRenames[\"Dareyes de La Sierra\"] = \"Dareyes De La Sierra\"\n",
    "\n",
    "manualRenames[\"Ray Charles and his Orchestra\"] = \"Ray Charles And His Orchestra\"\n",
    "manualRenames[\"Angelique Kidjo\"] = \"Angélique Kidjo\"\n",
    "manualRenames[\"Alegres de La Sierra\"] = \"Alegres De La Sierra\"\n",
    "manualRenames[\"Ray LaMontagne\"] = \"Ray Lamontagne\"\n",
    "manualRenames[\"La Original Banda el Limon de Salvador Lizarraga\"] = \"La Original Banda Limon De Salvador Lizarraga\"\n",
    "manualRenames[\"Mac DeMarco\"] = \"Mac Demarco\"\n",
    "manualRenames[\"N.W.A\"] = \"N.W.A.\"\n",
    "manualRenames[\"El Trono de Mexico\"] = \"El Trono De Mexico\"\n",
    "\n",
    "manualRenames[\"The Chi-lites\"] = \"The Chi-Lites\"\n",
    "manualRenames[\"Janie Frickie\"] = \"Janie Fricke\"\n",
    "manualRenames[\"CeCe Peniston\"] = \"Ce Ce Peniston\"\n",
    "manualRenames[\"J Moss\"] = \"J. Moss\"\n",
    "manualRenames[\"Los Pikadientes de Caborca\"] = \"Los Pikadientes De Caborca\"\n",
    "manualRenames[\"Chaz Jankel\"] = \"Chas Jankel\"\n",
    "\n",
    "manualRenames[\"David Crowder Band\"] = \"David Crowder*Band\"\n",
    "manualRenames['Hector \"El Father\"'] = \"Hector El Father\"\n",
    "manualRenames[\"Pedro Fernandez\"] = \"Pedro Fernández\"\n",
    "manualRenames[\"La Septima Banda\"] = \"La Séptima Banda\"\n",
    "manualRenames[\"Adan Chalino Sanchez\"] = \"Adan Chalino Sánchez\"\n",
    "              \n",
    "manualRenames[\"LuHan\"] = \"Lu Han\"\n",
    "manualRenames[\"Paul and Paula\"] = \"Paul Und Paula\"\n",
    "manualRenames[\"Sisters Of Mercy\"] = \"Sisters Of No Mercy\"\n",
    "manualRenames[\"Bell Biv DeVoe\"] = \"Bell Biv Devoe\"\n",
    "manualRenames[\"Kid 'N Play\"] = \"Kid 'N' Play\"\n",
    "manualRenames[\"SoulDecision\"] = \"soulDecision\"\n",
    "manualRenames['Hector Acosta \"El Torito\"'] = 'Héctor Acosta \"El Torito\"'\n",
    "manualRenames[\"El Chaval de la Bachata\"] = \"El Chaval De La Bachata\"\n",
    "\n",
    "manualRenames[\"Sixx: A.M.\"] = \"Sixx:A.M.\"\n",
    "manualRenames[\"Andre Rieu\"] = \"André Rieu\"\n",
    "manualRenames[\"Kany Garcia\"] = \"Kany García\"\n",
    "manualRenames[\"Lloyd Price and His Orchestra\"] = \"Lloyd Price And His Orchestra\"\n",
    "manualRenames[\"New Vaudeville Band\"] = \"The New Vaudeville Band\"\n",
    "manualRenames['Billy \"Crash\" Craddock'] = \"Billy 'Crash' Craddock\"\n",
    "manualRenames[\"Lipps Inc.\"] = \"Lipps, Inc.\"\n",
    "manualRenames[\"Wreckx-N-Effect\"] = \"Wrecks-N-Effect\"\n",
    "manualRenames[\"49-ers\"] = \"49ers\"\n",
    "manualRenames[\"Father M.C.\"] = \"Father MC\"\n",
    "\n",
    "manualRenames[\"Los Fantasmas del Caribe\"] = \"Los Fantasmas Del Caribe\"\n",
    "manualRenames[\"St. Germain\"] = \"St Germain\"\n",
    "manualRenames[\"Lil Bow Wow\"] = \"Lil' Bow Wow\"\n",
    "manualRenames[\"Marie-Elaine Thibert\"] = \"Marie Élaine Thibert\"\n",
    "manualRenames[\"DragonForce\"] = \"Dragonforce\"\n",
    "manualRenames[\"Bettye LaVette\"] = \"Bettye Lavette\"\n",
    "manualRenames[\"El Chapo de Sinaloa\"] = \"El Chapo De Sinaloa\"\n",
    "manualRenames[\"Renee Fleming\"] = \"Renée Fleming\"\n",
    "manualRenames[\"Mr. Children\"] = \"Mr.Children\"\n",
    "manualRenames[\"Los Inquietos del Norte\"] = \"Los Inquietos Del Norte\"\n",
    "manualRenames[\"Chase Rice\"] = \"Casey Rice\"\n",
    "manualRenames[\"BrockHampton\"] = \"Brockhampton\"\n",
    "\n",
    "manualRenames[\"Kenny Ball and his Jazzmen\"] = \"Kenny Ball And His Jazzmen\"\n",
    "manualRenames[\"Mary Macgregor\"] = \"Mary MacGregor\"\n",
    "manualRenames['Richard \"Dimples\" Fields'] = \"Richard 'Dimples' Fields\"\n",
    "manualRenames[\"Camper van Beethoven\"] = \"Camper Van Beethoven\"\n",
    "manualRenames[\"The Sounds Of Blackness\"] = \"Sounds Of Blackness\"\n",
    "manualRenames[\"Tiranos del Norte\"] = \"Tiranos Del Norte\"\n",
    "manualRenames[\"Jaguares\"] = \"Jaguars\"\n",
    "\n",
    "manualRenames[\"Pierre LaPointe\"] = \"Pierre Lapointe\"\n",
    "manualRenames[\"La Energia Nortena\"] = \"La Energia Norteña\"\n",
    "manualRenames[\"Jon Batiste\"] = \"John Baptiste\"\n",
    "manualRenames[\"Sebastian Yatra\"] = \"Sebastián Yatra\"\n",
    "\n",
    "manualRenames[\"Four80East\"] = \"Four 80 East\"\n",
    "manualRenames['Little\" Jimmy Dickens'] = \"Little Jimmy Dickens\"\n",
    "manualRenames[\"Michael Murphey\"] = \"Michael Murphy\"\n",
    "manualRenames[\"USA-European Connection\"] = \"USA-European connection\"\n",
    "manualRenames[\"ConFunkShun\"] = \"Con Funk Shun\"\n",
    "manualRenames[\"Randy VanWarmer\"] = \"Randy Vanwarmer\"\n",
    "manualRenames[\"Blue Oyster Cult\"] = \"Blue Öyster Cult\"\n",
    "manualRenames[\"Andrae Crouch\"] = \"Andraé Crouch\"\n",
    "manualRenames[\"Jean Carne\"] = \"Jean Carn\"\n",
    "manualRenames[\"Force M.D.'s\"] = \"Force MD's\"\n",
    "manualRenames[\"Samuelle\"] = \"Samuele\"\n",
    "\n",
    "manualRenames[\"M.C. Brains\"] = \"M.C. Brain\"\n",
    "manualRenames[\"Del The Funky Homosapien\"] = \"Del The Funkee Homosapien\"\n",
    "manualRenames[\"Domingo Quinones\"] = \"Domingo Quiñones\"\n",
    "manualRenames[\"Los Angeles de Charly\"] = \"Los Angeles De Charly\"\n",
    "manualRenames[\"Josh Gracin\"] = \"Joshua Gracin\"\n",
    "manualRenames[\"Africanism All Stars\"] = \"African All Stars\"\n",
    "manualRenames[\"Pepper MaShay\"] = \"Pepper Mashay\"\n",
    "manualRenames[\"Trick-Trick\"] = \"Trick - Trick\"\n",
    "manualRenames[\"Graciela Beltran\"] = \"Graciela Beltrán\"\n",
    "\n",
    "manualRenames[\"PeeWee\"] = \"Pee-Wee\"\n",
    "manualRenames[\"blessthefall\"] = \"Blessthefall\"\n",
    "manualRenames[\"Arcangel\"] = \"Archangel\"\n",
    "\n",
    "manualRenames[\"La Tribu de Abrante\"] = \"La Tribu De Abrante\"\n",
    "manualRenames[\"The Turnpike Troubadours\"] = \"Turnpike Troubadours\"\n",
    "manualRenames[\"Ricky Duran\"] = \"Ricky Doran\"\n",
    "manualRenames[\"David Rose and His Orchestra\"] = \"David Rose & His Orchestra\"\n",
    "manualRenames[\"Cannonball Adderley Quintet\"] = \"The Cannonball Adderley Quintet\"\n",
    "\n",
    "manualRenames[\"Charlie Mccoy\"] = \"Charlie McCoy\"\n",
    "manualRenames[\"Edgar Winter Group\"] = \"The Edgar Winter Group\"\n",
    "manualRenames[\"Peoples Choice\"] = \"People's Choice\"\n",
    "manualRenames[\"Christy Lane\"] = \"Cristy Lane\"\n",
    "manualRenames[\"Rocker's Revenge\"] = \"Rockers Revenge\"\n",
    "manualRenames[\"Dexy's Midnight Runners\"] = \"Dexys Midnight Runners\"\n",
    "manualRenames[\"Todd Terry Project\"] = \"The Todd Terry Project\"\n",
    "\n",
    "manualRenames[\"Timmy T.\"] = \"Timmy T\"\n",
    "manualRenames[\"Queensryche\"] = \"Queensrÿche\"\n",
    "manualRenames[\"Industria del Amor\"] = \"Industria Del Amor\"\n",
    "manualRenames[\"Lil' Mo' Yin Yang\"] = \"Lil Mo' Yin Yang\"\n",
    "manualRenames[\"C.J. Bolland\"] = \"CJ Bolland\"\n",
    "\n",
    "manualRenames[\"Lil Troy\"] = \"Lil' Troy\"\n",
    "manualRenames[\"Lo Fidelity Allstars\"] = \"Lo-Fidelity Allstars\"\n",
    "manualRenames[\"Mr. Serv-on\"] = \"Mr. Serv-On\"\n",
    "manualRenames[\"DJ Blass\"] = \"DJ Blas\"\n",
    "manualRenames[\"Killa Beez\"] = \"Killa Benz\"\n",
    "manualRenames['Kierra \"KiKi\" Sheard'] = 'Kierra \"Kiki\" Sheard'\n",
    "\n",
    "manualRenames['Hector \"El Bambino\"'] = \"Hector El Bambino\"\n",
    "manualRenames[\"Reggaeton Ninos\"] = \"Reggaeton Niños\"\n",
    "manualRenames[\"Jose Alfredo Jimenez\"] = \"José Alfredo Jiménez\"\n",
    "manualRenames[\"Eric Lapointe\"] = \"Éric Lapointe\"\n",
    "manualRenames[\"Gaither Vocal Band\"] = \"The Gaither Vocal Band\"\n",
    "manualRenames[\"iwrestledabearonce\"] = \"Iwrestledabearonce\"\n",
    "manualRenames[\"Paul Van Dyk\"] = \"Paul van Dyk\"\n",
    "manualRenames[\"Tercer Cielo\"] = \"tercer Cielo\"\n",
    "\n",
    "manualRenames[\"Los Titanes de Durango\"] = \"Los Titanes De Durango\"\n",
    "manualRenames[\"The Devin Townsend Project\"] = \"Devin Townsend Project\"\n",
    "manualRenames[\"Godspeed You! Black Emperor\"] = \"Godspeed You Black Emperor!\"\n",
    "              \n",
    "manualRenames[\"Mayra Veronica\"] = \"Mayra Verónica\"\n",
    "manualRenames[\"R.A The Rugged Man\"] = \"R.A. The Rugged Man\"\n",
    "manualRenames[\"Super Junior-M\"] = \"Super Junior M\"\n",
    "manualRenames[\"Rokia Traore\"] = \"Rokia Traoré\"\n",
    "manualRenames[\"brentalfloss\"] = \"Brentalfloss\"\n",
    "manualRenames[\"The Dead Rabbitts\"] = \"The Dead Rabbits\"\n",
    "manualRenames[\"Pablo Alboran\"] = \"Pablo Alborán\"\n",
    "manualRenames[\"Anthony Santos\"] = \"Antony Santos\"\n",
    "              \n",
    "manualRenames[\"Malea\"] = \"Malena\"\n",
    "manualRenames[\"Houndmouth.\"] = \"Houndmouth\"\n",
    "manualRenames[\"Solido\"] = \"Solid\"\n",
    "manualRenames[\"Phora\"] = \"Phoera\"\n",
    "manualRenames[\"Steve'N'Seagulls\"] = \"Steve'n'Seagulls\"\n",
    "manualRenames[\"Livre\"] = \"Livrer\"\n",
    "manualRenames[\"Deon Kipping\"] = \"Dion Kipping\"\n",
    "              \n",
    "manualRenames[\"Royce da 5'9\"] = \"Royce Da 5'9\"\n",
    "manualRenames[\"Gord Downie\"] = \"Gordon Downie\"\n",
    "manualRenames[\"Dominican Sisters Of Mary - Mother Of The Eucharist\"] = \"Dominican Sisters Of Mary, Mother Of The Eucharist\"\n",
    "manualRenames[\"Roy Woods\"] = \"Roy Wood\"\n",
    "manualRenames[\"Satsang\"] = \"Satsangi\"\n",
    "              \n",
    "manualRenames[\"Seven Sense \"] = \"Seven Sense\"\n",
    "manualRenames[\"Andrew Schulz\"] = \"Andrew Schultz\"\n",
    "manualRenames[\"$uicideBoy$\"] = \"$uicideboy$\"\n",
    "manualRenames[\"Janelle Monae\"] = \"Janelle Monáe\"\n",
    "manualRenames[\"Lonesome River Band\"] = \"The Lonesome River Band\"\n",
    "manualRenames[\"Claypool Lennon Delirium\"] = \"The Claypool Lennon Delirium\"\n",
    "manualRenames[\"half alive\"] = \"half•alive\""
   ]
  },
  {
   "cell_type": "markdown",
   "metadata": {},
   "source": [
    "# Near Renames Artists"
   ]
  },
  {
   "cell_type": "code",
   "execution_count": null,
   "metadata": {},
   "outputs": [],
   "source": [
    "from searchUtils import findNearest\n",
    "cutoff = 0.9\n",
    "artistsToGet = {}\n",
    "for i, (artist, cnt) in enumerate(slimResults.most_common()):\n",
    "#for i, (artist, cnt) in enumerate(sorted(slimResults.items(), key=lambda pair: pair[1], reverse=False)):\n",
    "    if i <= 4500:\n",
    "        continue\n",
    "    if i % 250 == 0:\n",
    "        print(\"==>\",i,len(slimResults))\n",
    "    if multiRenames.get(artist) is not None:\n",
    "        artist = multiRenames[artist]\n",
    "    if singleRenames.get(artist) is not None:\n",
    "        idx    = str(singleRenames[artist])\n",
    "        artist = artistIDToName[idx]\n",
    "    if knownArtists.get(artist) is not None:\n",
    "        continue\n",
    "    if manualRenames.get(artist) is not None:\n",
    "        continue\n",
    "\n",
    "    matches = mulArts.getArtistNames(artist)\n",
    "    if len(matches) > 1:\n",
    "        continue\n",
    "\n",
    "    mdata = getMusicData(\"DiscArtist\", artist)\n",
    "    if mdata is None:\n",
    "        results = findNearest(artist, artistNameToID.keys(), num=1, cutoff=cutoff)      \n",
    "        if len(results) > 0:\n",
    "            artistsToGet[artist] = results\n",
    "            print(\"manualRenames[\\\"{0}\\\"] = \\\"{1}\\\"\".format(artist, results[0]))"
   ]
  },
  {
   "cell_type": "code",
   "execution_count": null,
   "metadata": {},
   "outputs": [],
   "source": [
    "findNearest"
   ]
  },
  {
   "cell_type": "code",
   "execution_count": null,
   "metadata": {},
   "outputs": [],
   "source": [
    "for k,v in artistsToGet.items():\n",
    "    print(\"keep[\\\"{0}\\\"] = {1}  #{2}\".format(k, v[0], v[1]))\n",
    "\n"
   ]
  },
  {
   "cell_type": "markdown",
   "metadata": {},
   "source": [
    "# Get Multi Results"
   ]
  },
  {
   "cell_type": "code",
   "execution_count": null,
   "metadata": {},
   "outputs": [],
   "source": [
    "from collections import Counter\n",
    "cutoff = 0.8\n",
    "multiMatchResult = {}\n",
    "for i, (artist, cnt) in enumerate(slimResults.most_common()):\n",
    "    if i > 0 and i % 1000 == 0:\n",
    "        print(\"Passed\",i,'/',len(slimResults))\n",
    "    prevArtist = None\n",
    "    if multiRenames.get(artist) is not None:\n",
    "        prevArtist = artist\n",
    "        artist = multiRenames[artist]\n",
    "    if singleRenames.get(artist) is not None:\n",
    "        idx    = str(singleRenames[artist])\n",
    "        artist = artistIDToName[idx]\n",
    "    if prevArtist is None:\n",
    "        prevArtist = artist\n",
    "    if knownArtists.get(prevArtist) is not None:\n",
    "        continue\n",
    "    if manualRenames.get(prevArtist) is not None:\n",
    "        prevArtist = manualRenames[prevArtist]\n",
    "    mdata = getMusicData(\"DiscArtist\", prevArtist)\n",
    "    if isinstance(mdata, DataFrame):\n",
    "        if mdata.shape[0] <= 1:\n",
    "            continue\n",
    "        matches = mdata[\"Name\"].index\n",
    "        artistAlbums = set(list(fullResults[prevArtist][\"Songs\"].keys()) + list(fullResults[prevArtist][\"Albums\"].keys()))\n",
    "        results = getBestArtistIDMatch(artist, artistAlbums, matches, N=3, cutoff=cutoff)\n",
    "        if results[2] is not None:\n",
    "            if results[2] >= cutoff:\n",
    "                print(i,\"/\",len(slimResults),'  \\t',artist,results)\n",
    "                multiMatchResult[artist] = list(results[:-1])"
   ]
  },
  {
   "cell_type": "code",
   "execution_count": null,
   "metadata": {},
   "outputs": [],
   "source": [
    "len(multiMatchResult)"
   ]
  },
  {
   "cell_type": "code",
   "execution_count": null,
   "metadata": {},
   "outputs": [],
   "source": [
    "print(len(knownArtists))\n",
    "knownArtists.update(multiMatchResult)\n",
    "print(len(knownArtists))\n",
    "saveFile(idata=knownArtists, ifile=\"artistMap.p\", debug=True)"
   ]
  },
  {
   "cell_type": "markdown",
   "metadata": {},
   "source": [
    "# Single Results"
   ]
  },
  {
   "cell_type": "code",
   "execution_count": null,
   "metadata": {},
   "outputs": [],
   "source": [
    "knownArtists[\"The Kingston Trio\"]"
   ]
  },
  {
   "cell_type": "code",
   "execution_count": 16,
   "metadata": {},
   "outputs": [
    {
     "name": "stdout",
     "output_type": "stream",
     "text": [
      "Passed 100 / 6870\n",
      "Passed 200 / 6870\n",
      "Passed 300 / 6870\n",
      "Passed 400 / 6870\n",
      "Passed 500 / 6870\n",
      "Passed 600 / 6870\n",
      "Passed 700 / 6870\n",
      "Passed 800 / 6870\n",
      "Passed 900 / 6870\n",
      "Passed 1000 / 6870\n",
      "Passed 1100 / 6870\n",
      "1121 / 6870   \t 24 Hrs \t ('5245200', '24hrs', 0.62)\n",
      "Passed 1200 / 6870\n",
      "Passed 1300 / 6870\n",
      "Passed 1400 / 6870\n",
      "Passed 1500 / 6870\n",
      "Passed 1600 / 6870\n",
      "Passed 1700 / 6870\n",
      "Passed 1800 / 6870\n",
      "1841 / 6870   \t Bryan Bautista \t ('3388076', 'Juan Bautista', 0.62)\n",
      "Passed 1900 / 6870\n",
      "Passed 2000 / 6870\n",
      "Passed 2100 / 6870\n",
      "Passed 2200 / 6870\n",
      "Passed 2300 / 6870\n",
      "Passed 2400 / 6870\n",
      "Passed 2500 / 6870\n",
      "Passed 2600 / 6870\n",
      "Passed 2700 / 6870\n",
      "Passed 2800 / 6870\n",
      "Passed 2900 / 6870\n",
      "Passed 3000 / 6870\n",
      "3011 / 6870   \t VASSY \t ('40430', 'VAST', 0.64)\n",
      "Passed 3100 / 6870\n",
      "Passed 3200 / 6870\n",
      "Passed 3300 / 6870\n",
      "Passed 3400 / 6870\n",
      "Passed 3500 / 6870\n",
      "Passed 3600 / 6870\n",
      "Passed 3700 / 6870\n",
      "Passed 3800 / 6870\n",
      "Passed 3900 / 6870\n",
      "3943 / 6870   \t Phil Collins and Marilyn Martin \t ('253972', 'Marilyn Martin', 0.94)\n",
      "Passed 4000 / 6870\n",
      "Passed 4100 / 6870\n",
      "Passed 4200 / 6870\n",
      "Passed 4300 / 6870\n",
      "Passed 4400 / 6870\n",
      "Passed 4500 / 6870\n",
      "4530 / 6870   \t Brooke Simpson \t ('323461', 'Bob Simpson', 0.61)\n",
      "Passed 4600 / 6870\n",
      "Passed 4700 / 6870\n",
      "Passed 4800 / 6870\n",
      "Passed 4900 / 6870\n",
      "4920 / 6870   \t 3BallMTY \t ('2892441', '3Ballmty', 0.84)\n",
      "Passed 5000 / 6870\n",
      "Passed 5100 / 6870\n",
      "Passed 5200 / 6870\n",
      "Passed 5300 / 6870\n",
      "5370 / 6870   \t Michael Jackson (all cuts) \t ('15885', 'Michael Jackson', 0.62)\n",
      "Passed 5400 / 6870\n",
      "Passed 5500 / 6870\n",
      "Passed 5600 / 6870\n",
      "Passed 5700 / 6870\n",
      "Passed 5800 / 6870\n",
      "Passed 5900 / 6870\n",
      "Passed 6000 / 6870\n",
      "Passed 6100 / 6870\n",
      "Passed 6200 / 6870\n",
      "6276 / 6870   \t Jackson 5 \t ('4203455', 'Jackson', 0.65)\n",
      "Passed 6300 / 6870\n",
      "Passed 6400 / 6870\n",
      "6457 / 6870   \t El Gran Combo de Puerto Rico \t ('459316', 'El Gran Combo', 4.4)\n",
      "Passed 6500 / 6870\n",
      "Passed 6600 / 6870\n",
      "Passed 6700 / 6870\n",
      "6735 / 6870   \t JAY-Z \t ('21742', 'Jay-Z', 12.81)\n",
      "Passed 6800 / 6870\n"
     ]
    }
   ],
   "source": [
    "cutoff = 0.60\n",
    "singleResult = {}\n",
    "#for i, (artist, cnt) in enumerate(slimResults.most_common()):\n",
    "for i, (artist, cnt) in enumerate(sorted(slimResults.items(), key=lambda pair: pair[1], reverse=False)):\n",
    "    if i > 0 and i % 100 == 0 or i == 100:\n",
    "        print(\"Passed\",i,'/',len(slimResults))\n",
    "    if cnt < 1:\n",
    "        continue\n",
    "    prevArtist = None\n",
    "    if multiRenames.get(artist) is not None:\n",
    "        prevArtist = artist\n",
    "        artist = multiRenames[artist]\n",
    "    if singleRenames.get(artist) is not None:\n",
    "        idx    = str(singleRenames[artist])\n",
    "        artist = artistIDToName[idx]        \n",
    "    if prevArtist is None:\n",
    "        prevArtist = artist\n",
    "    if manualRenames.get(prevArtist) is not None:\n",
    "        prevArtist = manualRenames[prevArtist]\n",
    "    if knownArtists.get(prevArtist) is not None or knownArtists.get(artist) is not None:\n",
    "        continue\n",
    "    artistAlbums = set(list(fullResults[artist][\"Songs\"].keys()) + list(fullResults[artist][\"Albums\"].keys()))\n",
    "    match = mulArts.getArtistNames(artist                                                     )\n",
    "    if len(match) == 1:\n",
    "        mdata = getMusicData(\"DiscArtist\", list(match.keys())[0])\n",
    "        if not isinstance(mdata, DataFrame):\n",
    "            results = getBestArtistMatch(artist, artistAlbums, N=3, cutoff=cutoff)\n",
    "            if results[2] is not None:\n",
    "                if results[2] >= cutoff:\n",
    "                    print(i,\"/\",len(slimResults),'  \\t',artist,'\\t',results)\n",
    "                    singleResult[artist] = results\n",
    "                    if len(singleResult) > 1000:\n",
    "                        break"
   ]
  },
  {
   "cell_type": "code",
   "execution_count": null,
   "metadata": {},
   "outputs": [],
   "source": [
    "del singleResult[\"Murk vs. Kristine W\"]\n",
    "del singleResult[\"Chris Cox Vs. Happy Clappers\"]\n",
    "del singleResult[\"T.M.Revolution × Nana Mizuki\"]\n",
    "del singleResult[\"Bob Marley Vs. Funkstar De Luxe\"]"
   ]
  },
  {
   "cell_type": "code",
   "execution_count": 20,
   "metadata": {},
   "outputs": [
    {
     "name": "stdout",
     "output_type": "stream",
     "text": [
      "Found 5 single results\n",
      "Found 6041 all results\n",
      "Found 6046 all results\n",
      "Saving data to artistMap.p\n",
      "  --> This file is 158.9kB.\n",
      "Saved data to artistMap.p\n",
      "  --> This file is 158.9kB.\n"
     ]
    }
   ],
   "source": [
    "singleResults = {k: v[0] for k,v in singleResult.items()}\n",
    "print(\"Found {0} single results\".format(len(singleResults)))\n",
    "print(\"Found {0} all results\".format(len(knownArtists)))\n",
    "knownArtists.update(singleResults)\n",
    "print(\"Found {0} all results\".format(len(knownArtists)))\n",
    "saveFile(idata=knownArtists, ifile=\"artistMap.p\", debug=True)"
   ]
  },
  {
   "cell_type": "markdown",
   "metadata": {},
   "source": [
    "## Known Results"
   ]
  },
  {
   "cell_type": "code",
   "execution_count": null,
   "metadata": {},
   "outputs": [],
   "source": [
    "from collections import Counter\n",
    "cutoff = 0.8\n",
    "multiMatchResult = {}\n",
    "for i, (artist, cnt) in enumerate(slimResults.most_common()):\n",
    "    if i > 0 and i % 1000 == 0:\n",
    "        print(\"Passed\",i,'/',len(slimResults))\n",
    "    prevArtist = None\n",
    "    if multiRenames.get(artist) is not None:\n",
    "        prevArtist = artist\n",
    "        artist = multiRenames[artist]\n",
    "    if singleRenames.get(artist) is not None:\n",
    "        idx    = str(singleRenames[artist])\n",
    "        artist = artistIDToName[idx]\n",
    "    if prevArtist is None:\n",
    "        prevArtist = artist\n",
    "    if knownArtists.get(prevArtist) is not None:\n",
    "        continue\n",
    "    mdata = getMusicData(\"DiscArtist\", prevArtist)\n",
    "    if isinstance(mdata, DataFrame):\n",
    "        if mdata.shape[0] <= 1:\n",
    "            continue\n",
    "        matches = mdata[\"Name\"].index\n",
    "        artistAlbums = set(list(fullResults[prevArtist][\"Songs\"].keys()) + list(fullResults[prevArtist][\"Albums\"].keys()))\n",
    "        results = getBestArtistIDMatch(artist, artistAlbums, matches, N=3, cutoff=cutoff)\n",
    "        if results[2] is not None:\n",
    "            if results[2] >= cutoff:\n",
    "                print(i,\"/\",len(slimResults),'  \\t',artist,results)\n",
    "                multiMatchResult[artist] = list(results[:-1])"
   ]
  },
  {
   "cell_type": "code",
   "execution_count": null,
   "metadata": {},
   "outputs": [],
   "source": [
    "singleResults = {k: v[0] for k,v in multiMatchResult.items()}\n",
    "print(\"Found {0} single results\".format(len(singleResults)))\n",
    "print(\"Found {0} all results\".format(len(knownArtists)))\n",
    "knownArtists.update(singleResults)\n",
    "print(\"Found {0} all results\".format(len(knownArtists)))"
   ]
  },
  {
   "cell_type": "code",
   "execution_count": null,
   "metadata": {},
   "outputs": [],
   "source": [
    "saveFile(idata=knownArtists, ifile=\"singleRenames.p\")"
   ]
  },
  {
   "cell_type": "code",
   "execution_count": null,
   "metadata": {},
   "outputs": [],
   "source": []
  },
  {
   "cell_type": "code",
   "execution_count": null,
   "metadata": {},
   "outputs": [],
   "source": []
  },
  {
   "cell_type": "code",
   "execution_count": null,
   "metadata": {},
   "outputs": [],
   "source": []
  },
  {
   "cell_type": "code",
   "execution_count": null,
   "metadata": {},
   "outputs": [],
   "source": []
  },
  {
   "cell_type": "code",
   "execution_count": null,
   "metadata": {},
   "outputs": [],
   "source": []
  },
  {
   "cell_type": "code",
   "execution_count": null,
   "metadata": {},
   "outputs": [],
   "source": []
  },
  {
   "cell_type": "code",
   "execution_count": null,
   "metadata": {},
   "outputs": [],
   "source": []
  },
  {
   "cell_type": "code",
   "execution_count": null,
   "metadata": {},
   "outputs": [],
   "source": []
  },
  {
   "cell_type": "code",
   "execution_count": null,
   "metadata": {},
   "outputs": [],
   "source": []
  },
  {
   "cell_type": "code",
   "execution_count": null,
   "metadata": {},
   "outputs": [],
   "source": []
  },
  {
   "cell_type": "markdown",
   "metadata": {},
   "source": [
    "# Check For Misnames"
   ]
  },
  {
   "cell_type": "code",
   "execution_count": null,
   "metadata": {},
   "outputs": [],
   "source": []
  },
  {
   "cell_type": "code",
   "execution_count": null,
   "metadata": {},
   "outputs": [],
   "source": [
    "ma = multiartist(cutoff=0.9, discdata=discdata)"
   ]
  },
  {
   "cell_type": "code",
   "execution_count": null,
   "metadata": {},
   "outputs": [],
   "source": [
    "print(ma.getArtistNames('Lipps, Inc.') == {'Lipps, Inc.': ['159617', '26641', '101850']})\n",
    "print(ma.getArtistNames('Bob Wills & His Texas Playboys') == {'Bob Wills & His Texas Playboys': ['670000','786114','1134146','804668','804679','1004309','935875','935907']})\n",
    "print(ma.getArtistNames('Brad Paisley Duet With Carrie Underwood', debug=False) == {'Carrie Underwood': ['1011680'], 'Brad Paisley': ['313755']})\n",
    "print(ma.getArtistNames('Ray Charles With Willie Nelson', debug=False) == {'Willie Nelson': ['249449'], 'Ray Charles': ['521963', '30552']})"
   ]
  },
  {
   "cell_type": "markdown",
   "metadata": {},
   "source": [
    "# Album Data"
   ]
  },
  {
   "cell_type": "code",
   "execution_count": null,
   "metadata": {},
   "outputs": [],
   "source": [
    "savename = join(savedir, \"billboard.p\")\n",
    "albumData = getFile(join(savedir, \"billboard-album.p\"))\n",
    "#chartdata = getFile(savename, debug=True)"
   ]
  },
  {
   "cell_type": "code",
   "execution_count": null,
   "metadata": {},
   "outputs": [],
   "source": [
    "for artist,artistData in albumData.items():\n",
    "    print(artist)\n",
    "    for album in artistData.keys():\n",
    "        print(\"\\t\",album)"
   ]
  },
  {
   "cell_type": "markdown",
   "metadata": {},
   "source": [
    "# Show Data"
   ]
  },
  {
   "cell_type": "code",
   "execution_count": null,
   "metadata": {
    "scrolled": false
   },
   "outputs": [],
   "source": [
    "togets = {}\n",
    "combos = []\n",
    "\n",
    "savedir  = join(basedir, \"results\")\n",
    "savename = join(savedir, \"billboard.p\")\n",
    "chartdata = getFile(savename, debug=True)\n",
    "chartArtists = sorted(chartdata.keys(), reverse=True)\n",
    "\n",
    "import json\n",
    "prevs = json.load(open(\"prevs.json\", \"r\"))\n",
    "artPrev = json.load(open(\"../discogs/prevs.json\", \"r\"))\n",
    "prevs.update(artPrev)\n",
    "json.dump(prevs, open(\"prevs.json\", \"w\"))\n",
    "print(\"There are {0} artists previously searched.\".format(len(prevs)))\n",
    "\n",
    "ma = multiartist(cutoff=0.9, discdata=discdata, exact=False)\n",
    "\n",
    "from random import shuffle\n",
    "print(\"There are {0} chart artists\".format(len(chartArtists)))\n",
    "shuffle(chartArtists)\n",
    "for i,artist in enumerate(chartArtists):\n",
    "    if prevs.get(artist) is not None:\n",
    "        continue\n",
    "    retval = ma.getArtistNames(artist)\n",
    "    if retval is None:\n",
    "        togets[artist] = artist\n",
    "    else:\n",
    "        for name,value in retval.items():\n",
    "            if prevs.get(name) is not None:\n",
    "                continue\n",
    "            if value is None:\n",
    "                togets[name.upper()] = artist\n",
    "                print(\"{0: <3}{1: <40}{2: <60}{3}\".format(len(togets),name,artist,retval))\n",
    "                print('\\t---->',i,'/',len(chartArtists))\n",
    "\n",
    "    \n",
    "    if len(togets) > 50:\n",
    "        print(\"\\n\\n\\n\\n\")\n",
    "        for name,artist in togets.items():\n",
    "            print(\"art.searchDiscogForArtist(\\\"{0}\\\")  ## {1}\".format(name, artist))\n",
    "        break"
   ]
  },
  {
   "cell_type": "markdown",
   "metadata": {},
   "source": [
    "###### artists = [x.strip() for x in vals.split(\"\\n\")]\n",
    "artists = [x for x in artists if len(x) > 0]"
   ]
  },
  {
   "cell_type": "code",
   "execution_count": null,
   "metadata": {},
   "outputs": [],
   "source": []
  },
  {
   "cell_type": "code",
   "execution_count": null,
   "metadata": {},
   "outputs": [],
   "source": [
    "Pitbull Featuring Ne-Yo, Afrojack & Nayer\n",
    "Drake Featuring Kanye West, Lil Wayne & Eminem"
   ]
  },
  {
   "cell_type": "code",
   "execution_count": null,
   "metadata": {},
   "outputs": [],
   "source": [
    "def testName(name, discdata):\n",
    "    if discdata.get(name) is not None:\n",
    "        return discdata[name]\n",
    "    return name\n",
    "\n",
    "def findName(name, discArtists, threshold):\n",
    "    retval = findNearest(name, discArtists, 1, threshold)\n",
    "    if len(retval) == 0:\n",
    "        return name\n",
    "    return retval\n",
    "    \n",
    "\n",
    "def splitArtist(name):\n",
    "    names = [name]\n",
    "    names = [[x.strip() for x in y.split(\" Featuring \")]\n",
    "results = {}\n",
    "    \n",
    "for name in artists:\n",
    "    if \" & \" in name:\n",
    "        retvals = [testName(x, discdata) for x in \n",
    "        retvals = [findName(x, discArtists, 0.95) if not isinstance(x, list) else x for x in retvals]\n",
    "        results[name] = retvals        "
   ]
  },
  {
   "cell_type": "code",
   "execution_count": null,
   "metadata": {},
   "outputs": [],
   "source": [
    "togets = []\n",
    "for k,v in results.items():\n",
    "    for val in v:\n",
    "        if not isinstance(val, list):\n",
    "            togets.append(\"art.searchDiscogForArtist(\\\"{0}\\\")\".format(val))\n",
    "            \n",
    "for toget in set(togets):\n",
    "    print(toget)"
   ]
  },
  {
   "cell_type": "code",
   "execution_count": null,
   "metadata": {},
   "outputs": [],
   "source": [
    "tmp = [['5070865', '90037', '4135543', '1507065'], ['Katy XXX Perry', ['1201210']]]"
   ]
  },
  {
   "cell_type": "code",
   "execution_count": null,
   "metadata": {},
   "outputs": [],
   "source": [
    "tmp"
   ]
  },
  {
   "cell_type": "code",
   "execution_count": null,
   "metadata": {},
   "outputs": [],
   "source": [
    "nameids = {}\n",
    "namerefs = {}\n",
    "for name,nameid in iddata.items():\n",
    "    artist = name\n",
    "    if name.endswith(\")\"):\n",
    "        artist = None\n",
    "        for x in [-3,-4,-5]:\n",
    "            if artist is not None:\n",
    "                continue\n",
    "            if abs(x) > len(name):\n",
    "                continue\n",
    "            if name[x] == \"(\":\n",
    "                try:\n",
    "                    val = int(name[(x+1):-1])\n",
    "                    artist = name[:x].strip()\n",
    "                except:\n",
    "                    continue\n",
    "          \n",
    "        if artist is None:\n",
    "            artist = name\n",
    "\n",
    "    ref = refdata[name]\n",
    "            \n",
    "    if nameids.get(artist) is None:\n",
    "        nameids[artist] = {}\n",
    "    nameids[artist][nameid] = 1\n",
    "    \n",
    "    if namerefs.get(artist) is None:\n",
    "        namerefs[artist] = {}\n",
    "    namerefs[artist][ref] = 1\n",
    "    \n",
    "\n",
    "nameids = {k: list(v.keys()) for k,v in nameids.items()}\n",
    "namerefs = {k: list(v.keys()) for k,v in namerefs.items()}"
   ]
  }
 ],
 "metadata": {
  "kernelspec": {
   "display_name": "Python 3",
   "language": "python",
   "name": "python3"
  },
  "language_info": {
   "codemirror_mode": {
    "name": "ipython",
    "version": 3
   },
   "file_extension": ".py",
   "mimetype": "text/x-python",
   "name": "python",
   "nbconvert_exporter": "python",
   "pygments_lexer": "ipython3",
   "version": "3.7.3"
  }
 },
 "nbformat": 4,
 "nbformat_minor": 2
}
