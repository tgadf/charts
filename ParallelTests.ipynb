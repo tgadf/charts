{
 "cells": [
  {
   "cell_type": "markdown",
   "metadata": {},
   "source": [
    "## Examples 1"
   ]
  },
  {
   "cell_type": "code",
   "execution_count": 2,
   "metadata": {},
   "outputs": [],
   "source": [
    "# multiprocess_examples_1.py\n",
    "\n",
    "from tqdm import tqdm\n",
    "from multiprocessing import Pool\n",
    "from functools import partial\n",
    "import time\n",
    "import random\n",
    "\n",
    "def func_single_argument(n):\n",
    "    \n",
    "    time.sleep(0.5)\n",
    "    \n",
    "    return n\n",
    "\n",
    "def func_multiple_argument(n, m, *args, **kwargs):\n",
    "    \n",
    "    time.sleep(0.5)\n",
    "\n",
    "    return n, m\n",
    "\n",
    "def run_imap_multiprocessing(func, argument_list, num_processes):\n",
    "\n",
    "    pool = Pool(processes=num_processes)\n",
    "\n",
    "    result_list_tqdm = []\n",
    "    for result in tqdm(pool.imap(func=func, iterable=argument_list), total=len(argument_list)):\n",
    "        result_list_tqdm.append(result)\n",
    "\n",
    "    return result_list_tqdm\n",
    "\n",
    "def run_imap_unordered_multiprocessing(func, argument_list, num_processes):\n",
    "\n",
    "    pool = Pool(processes=num_processes)\n",
    "\n",
    "    result_list_tqdm = []\n",
    "    for result in tqdm(pool.imap_unordered(func=func, iterable=argument_list), total=len(argument_list)):\n",
    "        result_list_tqdm.append(result)\n",
    "\n",
    "    return result_list_tqdm\n",
    "\n",
    "def run_apply_async_multiprocessing(func, argument_list, num_processes):\n",
    "\n",
    "    pool = Pool(processes=num_processes)\n",
    "\n",
    "    jobs = [pool.apply_async(func=func, args=(*argument,)) if isinstance(argument, tuple) else pool.apply_async(func=func, args=(argument,)) for argument in argument_list]\n",
    "    pool.close()\n",
    "    result_list_tqdm = []\n",
    "    for job in tqdm(jobs):\n",
    "        result_list_tqdm.append(job.get())\n",
    "\n",
    "    return result_list_tqdm\n",
    "\n",
    "def main():\n",
    "\n",
    "    num_processes = 10\n",
    "    num_jobs = 100\n",
    "    random_seed = 0\n",
    "    random.seed(random_seed) \n",
    "\n",
    "    # imap, imap_unordered\n",
    "    # It only support functions with one dynamic argument\n",
    "    func = func_single_argument\n",
    "    argument_list = [random.randint(0, 100) for _ in range(num_jobs)]\n",
    "    print(\"Running imap multiprocessing for single-argument functions ...\")\n",
    "    result_list = run_imap_multiprocessing(func=func, argument_list=argument_list, num_processes=num_processes)\n",
    "    assert result_list == argument_list\n",
    "    print(\"Running imap_unordered multiprocessing for single-argument functions ...\")\n",
    "    result_list = run_imap_unordered_multiprocessing(func=func, argument_list=argument_list, num_processes=num_processes)\n",
    "    # partial functions (one dynamic argument, one or more than one fixed arguments)\n",
    "    partial_func = partial(func_multiple_argument, m=10)\n",
    "    print(\"Running imap multiprocessing for single-argument partial functions ...\")\n",
    "    result_list = run_imap_multiprocessing(func=partial_func, argument_list=argument_list, num_processes=num_processes)\n",
    "    print(\"Running imap_unordered multiprocessing for single-argument partial functions ...\")\n",
    "    result_list = run_imap_unordered_multiprocessing(func=partial_func, argument_list=argument_list, num_processes=num_processes)\n",
    "    # Since it is unordered, this assertion might not be valid\n",
    "    # assert result_list == argument_list\n",
    "\n",
    "    # apply_async\n",
    "    # One dynamic argument\n",
    "    func = func_single_argument\n",
    "    argument_list = [random.randint(0, 100) for _ in range(num_jobs)]\n",
    "    print(\"Running apply_async multiprocessing for single-argument functions ...\")\n",
    "    result_list = run_apply_async_multiprocessing(func=func, argument_list=argument_list, num_processes=num_processes)\n",
    "    assert result_list == argument_list\n",
    "    # More than one dynamic arguments\n",
    "    func = func_multiple_argument\n",
    "    argument_list = [(random.randint(0, 100), random.randint(0, 100)) for _ in range(num_jobs)]\n",
    "    print(\"Running apply_async multiprocessing for multi-argument functions ...\")\n",
    "    result_list = run_apply_async_multiprocessing(func=func, argument_list=argument_list, num_processes=num_processes)\n",
    "    assert result_list == argument_list\n",
    "    # partial functions (multiple dynamic arguments, one or more than one fixed arguments)\n",
    "    partial_func = partial(func_multiple_argument, x=1, y=2, z=3) # Giving some arguments for kwargs\n",
    "    print(\"Running apply_async multiprocessing for multi-argument partial functions ...\")\n",
    "    result_list = run_apply_async_multiprocessing(func=partial_func, argument_list=argument_list, num_processes=num_processes)\n",
    "    assert result_list == argument_list\n"
   ]
  },
  {
   "cell_type": "code",
   "execution_count": 3,
   "metadata": {},
   "outputs": [
    {
     "name": "stdout",
     "output_type": "stream",
     "text": [
      "Running imap multiprocessing for single-argument functions ...\n"
     ]
    },
    {
     "name": "stderr",
     "output_type": "stream",
     "text": [
      "100%|██████████| 100/100 [00:05<00:00, 19.98it/s]"
     ]
    },
    {
     "name": "stdout",
     "output_type": "stream",
     "text": [
      "Running imap_unordered multiprocessing for single-argument functions ...\n"
     ]
    },
    {
     "name": "stderr",
     "output_type": "stream",
     "text": [
      "\n",
      "100%|██████████| 100/100 [00:05<00:00, 19.98it/s]"
     ]
    },
    {
     "name": "stdout",
     "output_type": "stream",
     "text": [
      "Running imap multiprocessing for single-argument partial functions ...\n"
     ]
    },
    {
     "name": "stderr",
     "output_type": "stream",
     "text": [
      "\n",
      "100%|██████████| 100/100 [00:05<00:00, 19.97it/s]"
     ]
    },
    {
     "name": "stdout",
     "output_type": "stream",
     "text": [
      "Running imap_unordered multiprocessing for single-argument partial functions ...\n"
     ]
    },
    {
     "name": "stderr",
     "output_type": "stream",
     "text": [
      "\n",
      "100%|██████████| 100/100 [00:05<00:00, 19.97it/s]"
     ]
    },
    {
     "name": "stdout",
     "output_type": "stream",
     "text": [
      "Running apply_async multiprocessing for single-argument functions ...\n"
     ]
    },
    {
     "name": "stderr",
     "output_type": "stream",
     "text": [
      "\n",
      "100%|██████████| 100/100 [00:05<00:00, 19.98it/s]"
     ]
    },
    {
     "name": "stdout",
     "output_type": "stream",
     "text": [
      "Running apply_async multiprocessing for multi-argument functions ...\n"
     ]
    },
    {
     "name": "stderr",
     "output_type": "stream",
     "text": [
      "\n",
      "100%|██████████| 100/100 [00:05<00:00, 19.98it/s]"
     ]
    },
    {
     "name": "stdout",
     "output_type": "stream",
     "text": [
      "Running apply_async multiprocessing for multi-argument partial functions ...\n"
     ]
    },
    {
     "name": "stderr",
     "output_type": "stream",
     "text": [
      "\n",
      "100%|██████████| 100/100 [00:05<00:00, 19.98it/s]\n"
     ]
    }
   ],
   "source": [
    "main()"
   ]
  },
  {
   "cell_type": "markdown",
   "metadata": {},
   "source": [
    "# Examples 2"
   ]
  },
  {
   "cell_type": "code",
   "execution_count": null,
   "metadata": {},
   "outputs": [],
   "source": [
    "import time\n",
    "import random\n",
    "from tqdm import tqdm\n",
    "from multiprocessing import Pool, freeze_support, RLock\n",
    "\n",
    "def func(pid, n):\n",
    "\n",
    "    tqdm_text = \"#\" + \"{}\".format(pid).zfill(3)\n",
    "\n",
    "    current_sum = 0\n",
    "    with tqdm(total=n, desc=tqdm_text, position=pid+1) as pbar:\n",
    "        for i in range(1, n+1):\n",
    "            current_sum += i\n",
    "            time.sleep(0.05)\n",
    "            pbar.update(1)\n",
    "    \n",
    "    return current_sum\n",
    "\n",
    "def main():\n",
    "\n",
    "    freeze_support() # For Windows support\n",
    "\n",
    "    num_processes = 10\n",
    "    num_jobs = 30\n",
    "    random_seed = 0\n",
    "    random.seed(random_seed) \n",
    "\n",
    "    pool = Pool(processes=num_processes, initargs=(RLock(),), initializer=tqdm.set_lock)\n",
    "\n",
    "    argument_list = [random.randint(0, 100) for _ in range(num_jobs)]\n",
    "\n",
    "    jobs = [pool.apply_async(func, args=(i,n,)) for i, n in enumerate(argument_list)]\n",
    "    pool.close()\n",
    "    result_list = [job.get() for job in jobs]\n",
    "\n",
    "    # Important to print these blanks\n",
    "    print(\"\\n\" * (len(argument_list) + 1))\n",
    "\n",
    "if __name__ == \"__main__\":\n",
    "\n",
    "    main()"
   ]
  },
  {
   "cell_type": "code",
   "execution_count": null,
   "metadata": {},
   "outputs": [],
   "source": []
  }
 ],
 "metadata": {
  "kernelspec": {
   "display_name": "Python 3",
   "language": "python",
   "name": "python3"
  },
  "language_info": {
   "codemirror_mode": {
    "name": "ipython",
    "version": 3
   },
   "file_extension": ".py",
   "mimetype": "text/x-python",
   "name": "python",
   "nbconvert_exporter": "python",
   "pygments_lexer": "ipython3",
   "version": "3.7.7"
  }
 },
 "nbformat": 4,
 "nbformat_minor": 4
}
