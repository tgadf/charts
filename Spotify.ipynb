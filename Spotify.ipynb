{
 "cells": [
  {
   "cell_type": "code",
   "execution_count": 11,
   "metadata": {},
   "outputs": [
    {
     "name": "stdout",
     "output_type": "stream",
     "text": [
      "The autoreload extension is already loaded. To reload it, use:\n",
      "  %reload_ext autoreload\n"
     ]
    },
    {
     "data": {
      "text/html": [
       "<style>.container { width:100% !important; }</style>"
      ],
      "text/plain": [
       "<IPython.core.display.HTML object>"
      ]
     },
     "metadata": {},
     "output_type": "display_data"
    },
    {
     "data": {
      "text/html": [
       "<style>div.output_area{max-height:10000px;overflow:scroll;}</style>"
      ],
      "text/plain": [
       "<IPython.core.display.HTML object>"
      ]
     },
     "metadata": {},
     "output_type": "display_data"
    }
   ],
   "source": [
    "## Basic stuff\n",
    "%load_ext autoreload\n",
    "%autoreload\n",
    "\n",
    "from IPython.core.display import display, HTML\n",
    "display(HTML(\"<style>.container { width:100% !important; }</style>\"))\n",
    "display(HTML(\"\"\"<style>div.output_area{max-height:10000px;overflow:scroll;}</style>\"\"\"))\n",
    "#IPython.Cell.options_default.cm_config.lineNumbers = true;\n",
    "\n",
    "################################################################################\n",
    "## Python Version\n",
    "################################################################################\n",
    "import sys\n",
    "\n",
    "\n",
    "################################################################################\n",
    "## General Stuff\n",
    "################################################################################\n",
    "from multiprocessing import Pool\n",
    "from tqdm import tqdm\n",
    "\n",
    "\n",
    "################################################################################\n",
    "## Music DB\n",
    "################################################################################\n",
    "from mainDB import mainDB\n",
    "from musicDBMap import musicDBMap\n",
    "from masterDBMatchClass import masterDBMatchClass\n",
    "from matchDBArtist import matchDBArtist\n",
    "\n",
    "\n",
    "################################################################################\n",
    "## Music Names\n",
    "################################################################################\n",
    "from masterArtistNameDB import masterArtistNameDB\n",
    "\n",
    "\n",
    "\n",
    "################################################################################\n",
    "## Util Stuff\n",
    "################################################################################\n",
    "from timeUtils import clock, elapsed\n",
    "from ioUtils import saveFile, getFile\n",
    "from pandas import read_csv\n",
    "from searchUtils import findPatternExt"
   ]
  },
  {
   "cell_type": "code",
   "execution_count": 29,
   "metadata": {},
   "outputs": [
    {
     "name": "stdout",
     "output_type": "stream",
     "text": [
      "The autoreload extension is already loaded. To reload it, use:\n",
      "  %reload_ext autoreload\n"
     ]
    }
   ],
   "source": [
    "%load_ext autoreload\n",
    "%autoreload\n",
    "from spotifyData import spotifyData\n",
    "from spotifyCharts import spotifyCharts"
   ]
  },
  {
   "cell_type": "code",
   "execution_count": 6,
   "metadata": {},
   "outputs": [
    {
     "name": "stdout",
     "output_type": "stream",
     "text": [
      "/Volumes/Piggy/Charts/data/spotify/categories\n",
      "Found 539 files.\n",
      "Saving data to /Volumes/Piggy/Charts/data/spotify/results/regional-us-weekly.p\n",
      "  --> This file is 1.2MB.\n",
      "Saved data to /Volumes/Piggy/Charts/data/spotify/results/regional-us-weekly.p\n",
      "  --> This file is 1.2MB.\n",
      "Saving data to /Volumes/Piggy/Charts/data/spotify/results/regional-dk-weekly.p\n",
      "  --> This file is 364.5kB.\n",
      "Saved data to /Volumes/Piggy/Charts/data/spotify/results/regional-dk-weekly.p\n",
      "  --> This file is 364.5kB.\n",
      "Saving data to /Volumes/Piggy/Charts/data/spotify/results/regional-gb-weekly.p\n",
      "  --> This file is 191.4kB.\n",
      "Saved data to /Volumes/Piggy/Charts/data/spotify/results/regional-gb-weekly.p\n",
      "  --> This file is 191.4kB.\n",
      "Saving data to /Volumes/Piggy/Charts/data/spotify/results/regional-global-weekly.p\n",
      "  --> This file is 325.5kB.\n",
      "Saved data to /Volumes/Piggy/Charts/data/spotify/results/regional-global-weekly.p\n",
      "  --> This file is 325.5kB.\n",
      "Saving data to /Volumes/Piggy/Charts/data/spotify/results/regional-in-weekly.p\n",
      "  --> This file is 164.0kB.\n",
      "Saved data to /Volumes/Piggy/Charts/data/spotify/results/regional-in-weekly.p\n",
      "  --> This file is 164.0kB.\n",
      "Saving data to /Volumes/Piggy/Charts/data/spotify/results/regional-jp-weekly.p\n",
      "  --> This file is 278.8kB.\n",
      "Saved data to /Volumes/Piggy/Charts/data/spotify/results/regional-jp-weekly.p\n",
      "  --> This file is 278.8kB.\n",
      "Saving data to /Volumes/Piggy/Charts/data/spotify/results/regional-mx-weekly.p\n",
      "  --> This file is 317.8kB.\n",
      "Saved data to /Volumes/Piggy/Charts/data/spotify/results/regional-mx-weekly.p\n",
      "  --> This file is 317.8kB.\n",
      "Saving data to /Volumes/Piggy/Charts/data/spotify/results/regional-br-weekly.p\n",
      "  --> This file is 329.4kB.\n",
      "Saved data to /Volumes/Piggy/Charts/data/spotify/results/regional-br-weekly.p\n",
      "  --> This file is 329.4kB.\n",
      "Saving data to /Volumes/Piggy/Charts/data/spotify/results/regional-za-weekly.p\n",
      "  --> This file is 241.6kB.\n",
      "Saved data to /Volumes/Piggy/Charts/data/spotify/results/regional-za-weekly.p\n",
      "  --> This file is 241.6kB.\n"
     ]
    }
   ],
   "source": [
    "sd = spotifyData(minYear=1, maxYear=2021)\n",
    "sd.parse()\n",
    "sd.saveChartData()"
   ]
  },
  {
   "cell_type": "code",
   "execution_count": 30,
   "metadata": {},
   "outputs": [
    {
     "name": "stdout",
     "output_type": "stream",
     "text": [
      "  Getting Chart For world\n",
      "name = world\n",
      "  Using 1 Charts\n",
      "  Using 1 Charts\n"
     ]
    },
    {
     "data": {
      "text/plain": [
       "['regional-global-weekly']"
      ]
     },
     "execution_count": 30,
     "metadata": {},
     "output_type": "execute_result"
    }
   ],
   "source": [
    "sc = spotifyCharts()\n",
    "sc.getChartsByRank(2)"
   ]
  },
  {
   "cell_type": "code",
   "execution_count": 13,
   "metadata": {},
   "outputs": [
    {
     "name": "stdout",
     "output_type": "stream",
     "text": [
      "========================= masterArtistNameDB =========================\n",
      "  Loading data from /Users/tgadfort/opt/anaconda3/envs/py37/musicnames/mainArtistNameDB.p\n",
      "  There are currently 7127 artist keys.\n",
      "  There are currently 8303 renamed artist keys.\n",
      "========================= masterArtistNameDB =========================\n",
      "  Loading data from /Users/tgadfort/opt/anaconda3/envs/py37/musicnames/multiArtistNameDB.p\n",
      "  There are currently 127 artist keys.\n",
      "  There are currently 133 renamed artist keys.\n"
     ]
    }
   ],
   "source": [
    "manDB      = masterArtistNameDB(\"main\", init=False)\n",
    "multimanDB = masterArtistNameDB(\"multi\", init=False)"
   ]
  },
  {
   "cell_type": "code",
   "execution_count": 33,
   "metadata": {},
   "outputs": [
    {
     "name": "stdout",
     "output_type": "stream",
     "text": [
      "  Getting Chart For us\n",
      "name = us\n",
      "  Using 1 Charts\n",
      "  Using 1 Charts\n",
      "  Getting Chart For england\n",
      "name = england\n",
      "  Using 1 Charts\n",
      "  Using 1 Charts\n",
      "  Using Charts (None): ['regional-us-weekly', 'regional-gb-weekly']\n"
     ]
    }
   ],
   "source": [
    "sd = spotifyData(minYear=1, maxYear=2021)\n",
    "sd.setDBRenames(manDB)\n",
    "sd.setMultiDBRenames(multimanDB)\n",
    "sd.setChartUsage(rank=[0,1])\n",
    "sd.setFullChartData()\n",
    "sd.setArtistAlbumData()\n",
    "sd.saveArtistAlbumData()\n",
    "sd.saveFullChartData()"
   ]
  },
  {
   "cell_type": "code",
   "execution_count": 34,
   "metadata": {},
   "outputs": [
    {
     "name": "stdout",
     "output_type": "stream",
     "text": [
      "Found 9 summary files\n",
      "Using regional-us-weekly\n",
      "Using regional-gb-weekly\n",
      "Renamed 2983 single artists\n",
      "Renamed 20 multi artists\n",
      "Saving 838 Artist Album Data to currentSpotifyArtistAlbumData.p\n",
      "Saving data to currentSpotifyArtistAlbumData.p\n",
      "  --> This file is 76.7kB.\n",
      "Saved data to currentSpotifyArtistAlbumData.p\n",
      "  --> This file is 76.7kB.\n",
      "Saving 838 Full Artist Data\n",
      "Saving data to currentSpotifyFullChartArtistAlbumData.p\n",
      "  --> This file is 118.5kB.\n",
      "Saved data to currentSpotifyFullChartArtistAlbumData.p\n",
      "  --> This file is 118.5kB.\n"
     ]
    }
   ],
   "source": []
  },
  {
   "cell_type": "code",
   "execution_count": 40,
   "metadata": {},
   "outputs": [
    {
     "name": "stdout",
     "output_type": "stream",
     "text": [
      "/Volumes/Piggy/Charts/data/spotify/categories\n",
      "Found 209 files.\n"
     ]
    }
   ],
   "source": [
    "sptfy.parse()"
   ]
  },
  {
   "cell_type": "code",
   "execution_count": 41,
   "metadata": {},
   "outputs": [
    {
     "name": "stdout",
     "output_type": "stream",
     "text": [
      "Saving data to /Volumes/Piggy/Charts/data/spotify/results/regional-us-weekly.p\n",
      "  --> This file is 1.3MB.\n",
      "Saved data to /Volumes/Piggy/Charts/data/spotify/results/regional-us-weekly.p\n",
      "  --> This file is 1.3MB.\n"
     ]
    }
   ],
   "source": [
    "sptfy.saveChartData()"
   ]
  },
  {
   "cell_type": "code",
   "execution_count": 65,
   "metadata": {},
   "outputs": [
    {
     "name": "stdout",
     "output_type": "stream",
     "text": [
      "Found 1 summary files\n",
      "Renamed 0 single artists\n"
     ]
    }
   ],
   "source": [
    "sptfy.setFullChartData()"
   ]
  },
  {
   "cell_type": "code",
   "execution_count": null,
   "metadata": {},
   "outputs": [],
   "source": []
  },
  {
   "cell_type": "code",
   "execution_count": null,
   "metadata": {},
   "outputs": [],
   "source": [
    "from timeUtils import getDateTime, isDate\n",
    "from fileUtils import getBaseFilename\n",
    "from listUtils import isIn\n",
    "from collections import Counter\n",
    "from os.path import join\n",
    "from ioUtils import getFile, saveFile\n",
    "from searchUtils import findExt\n",
    "\n",
    "from artistIgnores import getArtistIgnores\n",
    "\n",
    "class top40Data:\n",
    "    def __init__(self, minYear=None, maxYear=None, debug=False):\n",
    "        self.debug  = False\n",
    "        \n",
    "        self.basedir  = \"/Volumes/Piggy/Charts/\"\n",
    "        self.basename = \"Spotify\"\n",
    "                \n",
    "        self.tc     = top40Charts()\n",
    "        self.charts = []\n",
    "        \n",
    "        self.minYear   = minYear\n",
    "        self.maxYear   = maxYear\n",
    "        \n",
    "        self.dbRenames       = None\n",
    "        self.multirenameDB   = None\n",
    "\n",
    "        self.fullChartData   = {}\n",
    "        self.artistAlbumData = {}\n",
    "        \n",
    "        \n",
    "    def getFullChartDataFilename(self):\n",
    "        ifile=\"current{0}FullChartArtistAlbumData.p\".format(self.basename)\n",
    "        return ifile\n",
    "\n",
    "    def getFullChartData(self):\n",
    "        return getFile(self.getFullChartDataFilename())\n",
    "        \n",
    "    def saveFullChartData(self):\n",
    "        print(\"Saving {0} Full Artist Data\".format(len(self.fullChartData)))\n",
    "        saveFile(idata=self.fullChartData, ifile=self.getFullChartDataFilename(), debug=True)        \n",
    "        \n",
    "        \n",
    "    def getArtistAlbumDataFilename(self):\n",
    "        ifile=\"current{0}ArtistAlbumData.p\".format(self.basename)\n",
    "        return ifile\n",
    "    \n",
    "    def getArtistAlbumData(self):\n",
    "        return getFile(self.getArtistAlbumDataFilename())\n",
    "        \n",
    "    def saveArtistAlbumData(self):\n",
    "        print(\"Saving {0} Artist Album Data to {1}\".format(len(self.artistAlbumData), self.getArtistAlbumDataFilename()))\n",
    "        saveFile(idata=self.artistAlbumData, ifile=self.getArtistAlbumDataFilename(), debug=True)\n",
    "        \n",
    "    def getArtists(self):\n",
    "        return list(self.artistAlbumData.keys())\n",
    "        \n",
    "        \n",
    "        \n",
    "    def setRenames(self, artistRenames):\n",
    "        self.artistRenames = artistRenames\n",
    "        \n",
    "    def setDBRenames(self, dbRenames):\n",
    "        self.dbRenames = dbRenames\n",
    "        \n",
    "    def setMultiDBRenames(self, multirenameDB):\n",
    "        self.multirenameDB = multirenameDB\n",
    "        \n",
    "        \n",
    "    def setArtistAlbumData(self):\n",
    "        self.artistAlbumData = {artist: list(artistData[\"Songs\"].keys()) + list(artistData[\"Albums\"].keys()) for artist,artistData in self.fullChartData.items()}\n",
    "        \n",
    "        \n",
    "    \n",
    "    def setChartUsage(self, name=None, rank=None):\n",
    "        if rank is not None:\n",
    "            if isinstance(rank, list):\n",
    "                for item in rank:\n",
    "                    self.charts += self.tc.getChartsByRank(item)\n",
    "            elif isinstance(rank, int):\n",
    "                self.charts += self.tc.getChartsByRank(rank)\n",
    "        elif name is not None:\n",
    "            self.charts += self.tc.getCharts(name)\n",
    "        else:\n",
    "            self.charts = self.tc.getCharts(None)\n",
    "        if name is None:\n",
    "            name = \"None\"\n",
    "        print(\"  Using Charts ({0}): {1}\".format(name, self.charts))\n",
    "        \n",
    "        \n",
    "    def findFiles(self):\n",
    "        savedir = join(self.basedir, \"data\", \"top40\")\n",
    "        self.files   = findExt(savedir, ext='.p')         \n",
    "        print(\"Found {0} files.\".format(len(self.files)))\n",
    "        \n",
    "        \n",
    "        \n",
    "    def setFullChartData(self):   \n",
    "        dbRenameStats     = 0    \n",
    "        multiRenameStats  = 0\n",
    "\n",
    "        fullChartData = {}\n",
    "\n",
    "        \n",
    "        self.findFiles()\n",
    "        if len(self.files) == 0:\n",
    "            raise ValueError(\"There are no files. Something is wrong...\")\n",
    "        self.files = {getBaseFilename(x).replace(\"/\", \" \"): x for x in self.files}\n",
    "        \n",
    "        for chartName, ifile in self.files.items():\n",
    "            if chartName not in self.charts:\n",
    "                continue\n",
    "            print(\"==> {0: <40}\".format(chartName), end=\"\\t\")\n",
    "            #t40chart = top40chart(chartID, chartName, chartURL)\n",
    "            chartResults = getFile(ifile)\n",
    "\n",
    "            for date, values in chartResults.items():\n",
    "                if self.minYear is not None:\n",
    "                    if getDateTime(date).year < int(self.minYear):\n",
    "                        continue\n",
    "                if self.maxYear is not None:\n",
    "                    if getDateTime(date).year > int(self.maxYear):\n",
    "                        continue\n",
    "\n",
    "                        \n",
    "                for i,item in enumerate(values):\n",
    "                    artistName = item[\"Artist\"]\n",
    "                    \n",
    "\n",
    "                    ## Test for rename\n",
    "                    renamedArtistName = artistName\n",
    "                    if self.dbRenames is not None:\n",
    "                        tmpName = self.dbRenames.renamed(renamedArtistName)\n",
    "                        if tmpName != renamedArtistName:\n",
    "                            dbRenameStats += 1\n",
    "                        renamedArtistName = tmpName\n",
    "\n",
    "                    ## Test for multi rename\n",
    "                    #renamedArtistName = artistName\n",
    "                    if self.multirenameDB is not None:\n",
    "                        tmpName = self.multirenameDB.renamed(renamedArtistName)\n",
    "                        if tmpName != renamedArtistName:\n",
    "                            multiRenameStats += 1\n",
    "                        renamedArtistName = tmpName\n",
    "\n",
    "                    artist = renamedArtistName\n",
    "\n",
    "                    renamedArtistName = artist\n",
    "                    renamedArtistName = renamedArtistName.replace(\"\\r\", \"\").strip()\n",
    "                    if renamedArtistName != artist:\n",
    "                        dbRenameStats += 1\n",
    "                    artist = renamedArtistName\n",
    "\n",
    "                    ignoreStatus = getArtistIgnores(artist)\n",
    "                    if ignoreStatus is False:\n",
    "                        continue\n",
    "                        \n",
    "                                            \n",
    "                    album  = item[\"Album\"]\n",
    "                    if album in [\"Soundtrack\"]:\n",
    "                        continue\n",
    "\n",
    "                    if fullChartData.get(artist) is None:\n",
    "                        fullChartData[artist] = {\"Songs\": {}, \"Albums\": {}}\n",
    "                    if chartName.endswith(\"Albums\"):\n",
    "                        key = \"Albums\"\n",
    "                    else:\n",
    "                        key = \"Songs\"\n",
    "                    if fullChartData[artist][key].get(album) is None:\n",
    "                        fullChartData[artist][key][album] = {}\n",
    "                    if fullChartData[artist][key][album].get(chartName) is None:\n",
    "                        fullChartData[artist][key][album][chartName] = {}\n",
    "                    fullChartData[artist][key][album][chartName][date] = i\n",
    "            print(len(fullChartData))\n",
    "        self.fullChartData = fullChartData\n",
    "                \n",
    "        print(\"Renamed {0} single artists\".format(dbRenameStats))\n",
    "        print(\"Renamed {0} multi artists\".format(multiRenameStats))"
   ]
  },
  {
   "cell_type": "code",
   "execution_count": 25,
   "metadata": {},
   "outputs": [],
   "source": [
    "df = read_csv(ifile, skiprows=1)"
   ]
  },
  {
   "cell_type": "code",
   "execution_count": 26,
   "metadata": {},
   "outputs": [
    {
     "data": {
      "text/html": [
       "<div>\n",
       "<style scoped>\n",
       "    .dataframe tbody tr th:only-of-type {\n",
       "        vertical-align: middle;\n",
       "    }\n",
       "\n",
       "    .dataframe tbody tr th {\n",
       "        vertical-align: top;\n",
       "    }\n",
       "\n",
       "    .dataframe thead th {\n",
       "        text-align: right;\n",
       "    }\n",
       "</style>\n",
       "<table border=\"1\" class=\"dataframe\">\n",
       "  <thead>\n",
       "    <tr style=\"text-align: right;\">\n",
       "      <th></th>\n",
       "      <th>Position</th>\n",
       "      <th>Track Name</th>\n",
       "      <th>Artist</th>\n",
       "      <th>Streams</th>\n",
       "      <th>URL</th>\n",
       "    </tr>\n",
       "  </thead>\n",
       "  <tbody>\n",
       "    <tr>\n",
       "      <th>0</th>\n",
       "      <td>1</td>\n",
       "      <td>Bad and Boujee (feat. Lil Uzi Vert)</td>\n",
       "      <td>Migos</td>\n",
       "      <td>9212016</td>\n",
       "      <td>https://open.spotify.com/track/4Km5HrUvYTaSUfi...</td>\n",
       "    </tr>\n",
       "    <tr>\n",
       "      <th>1</th>\n",
       "      <td>2</td>\n",
       "      <td>Fake Love</td>\n",
       "      <td>Drake</td>\n",
       "      <td>8402709</td>\n",
       "      <td>https://open.spotify.com/track/343YBumqHu19cGo...</td>\n",
       "    </tr>\n",
       "    <tr>\n",
       "      <th>2</th>\n",
       "      <td>3</td>\n",
       "      <td>Starboy</td>\n",
       "      <td>The Weeknd</td>\n",
       "      <td>7634586</td>\n",
       "      <td>https://open.spotify.com/track/5aAx2yezTd8zXrk...</td>\n",
       "    </tr>\n",
       "    <tr>\n",
       "      <th>3</th>\n",
       "      <td>4</td>\n",
       "      <td>Closer</td>\n",
       "      <td>The Chainsmokers</td>\n",
       "      <td>6384465</td>\n",
       "      <td>https://open.spotify.com/track/7BKLCZ1jbUBVqRi...</td>\n",
       "    </tr>\n",
       "    <tr>\n",
       "      <th>4</th>\n",
       "      <td>5</td>\n",
       "      <td>Black Beatles</td>\n",
       "      <td>Rae Sremmurd</td>\n",
       "      <td>5745384</td>\n",
       "      <td>https://open.spotify.com/track/6fujklziTHa8uoM...</td>\n",
       "    </tr>\n",
       "    <tr>\n",
       "      <th>...</th>\n",
       "      <td>...</td>\n",
       "      <td>...</td>\n",
       "      <td>...</td>\n",
       "      <td>...</td>\n",
       "      <td>...</td>\n",
       "    </tr>\n",
       "    <tr>\n",
       "      <th>195</th>\n",
       "      <td>196</td>\n",
       "      <td>She's Mine Pt. 2</td>\n",
       "      <td>J. Cole</td>\n",
       "      <td>978401</td>\n",
       "      <td>https://open.spotify.com/track/5rmcjZTrE9JR1Yr...</td>\n",
       "    </tr>\n",
       "    <tr>\n",
       "      <th>196</th>\n",
       "      <td>197</td>\n",
       "      <td>Seven Million (feat. Future)</td>\n",
       "      <td>Lil Uzi Vert</td>\n",
       "      <td>976118</td>\n",
       "      <td>https://open.spotify.com/track/6j0teRL3WdExzqm...</td>\n",
       "    </tr>\n",
       "    <tr>\n",
       "      <th>197</th>\n",
       "      <td>198</td>\n",
       "      <td>Miss You</td>\n",
       "      <td>James Hersey</td>\n",
       "      <td>973546</td>\n",
       "      <td>https://open.spotify.com/track/7of1slAJIWrXxP8...</td>\n",
       "    </tr>\n",
       "    <tr>\n",
       "      <th>198</th>\n",
       "      <td>199</td>\n",
       "      <td>Hello</td>\n",
       "      <td>Adele</td>\n",
       "      <td>970330</td>\n",
       "      <td>https://open.spotify.com/track/4sPmO7WMQUAf45k...</td>\n",
       "    </tr>\n",
       "    <tr>\n",
       "      <th>199</th>\n",
       "      <td>200</td>\n",
       "      <td>H.O.L.Y.</td>\n",
       "      <td>Florida Georgia Line</td>\n",
       "      <td>968095</td>\n",
       "      <td>https://open.spotify.com/track/0BCy325UZyR9z0t...</td>\n",
       "    </tr>\n",
       "  </tbody>\n",
       "</table>\n",
       "<p>200 rows × 5 columns</p>\n",
       "</div>"
      ],
      "text/plain": [
       "     Position                           Track Name                Artist  \\\n",
       "0           1  Bad and Boujee (feat. Lil Uzi Vert)                 Migos   \n",
       "1           2                            Fake Love                 Drake   \n",
       "2           3                              Starboy            The Weeknd   \n",
       "3           4                               Closer      The Chainsmokers   \n",
       "4           5                        Black Beatles          Rae Sremmurd   \n",
       "..        ...                                  ...                   ...   \n",
       "195       196                     She's Mine Pt. 2               J. Cole   \n",
       "196       197         Seven Million (feat. Future)          Lil Uzi Vert   \n",
       "197       198                             Miss You          James Hersey   \n",
       "198       199                                Hello                 Adele   \n",
       "199       200                             H.O.L.Y.  Florida Georgia Line   \n",
       "\n",
       "     Streams                                                URL  \n",
       "0    9212016  https://open.spotify.com/track/4Km5HrUvYTaSUfi...  \n",
       "1    8402709  https://open.spotify.com/track/343YBumqHu19cGo...  \n",
       "2    7634586  https://open.spotify.com/track/5aAx2yezTd8zXrk...  \n",
       "3    6384465  https://open.spotify.com/track/7BKLCZ1jbUBVqRi...  \n",
       "4    5745384  https://open.spotify.com/track/6fujklziTHa8uoM...  \n",
       "..       ...                                                ...  \n",
       "195   978401  https://open.spotify.com/track/5rmcjZTrE9JR1Yr...  \n",
       "196   976118  https://open.spotify.com/track/6j0teRL3WdExzqm...  \n",
       "197   973546  https://open.spotify.com/track/7of1slAJIWrXxP8...  \n",
       "198   970330  https://open.spotify.com/track/4sPmO7WMQUAf45k...  \n",
       "199   968095  https://open.spotify.com/track/0BCy325UZyR9z0t...  \n",
       "\n",
       "[200 rows x 5 columns]"
      ]
     },
     "execution_count": 26,
     "metadata": {},
     "output_type": "execute_result"
    }
   ],
   "source": [
    "df"
   ]
  },
  {
   "cell_type": "code",
   "execution_count": null,
   "metadata": {},
   "outputs": [],
   "source": []
  }
 ],
 "metadata": {
  "kernelspec": {
   "display_name": "Python 3",
   "language": "python",
   "name": "python3"
  },
  "language_info": {
   "codemirror_mode": {
    "name": "ipython",
    "version": 3
   },
   "file_extension": ".py",
   "mimetype": "text/x-python",
   "name": "python",
   "nbconvert_exporter": "python",
   "pygments_lexer": "ipython3",
   "version": "3.7.7"
  }
 },
 "nbformat": 4,
 "nbformat_minor": 4
}
