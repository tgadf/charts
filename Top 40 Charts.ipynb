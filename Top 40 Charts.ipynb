{
 "cells": [
  {
   "cell_type": "markdown",
   "metadata": {},
   "source": [
    "# Top 40 Charts Functions"
   ]
  },
  {
   "cell_type": "code",
   "execution_count": 1,
   "metadata": {},
   "outputs": [
    {
     "data": {
      "text/html": [
       "<style>.container { width:100% !important; }</style>"
      ],
      "text/plain": [
       "<IPython.core.display.HTML object>"
      ]
     },
     "metadata": {},
     "output_type": "display_data"
    },
    {
     "data": {
      "text/html": [
       "<style>div.output_area{max-height:10000px;overflow:scroll;}</style>"
      ],
      "text/plain": [
       "<IPython.core.display.HTML object>"
      ]
     },
     "metadata": {},
     "output_type": "display_data"
    },
    {
     "name": "stderr",
     "output_type": "stream",
     "text": [
      "/Users/tgadfort/opt/anaconda3/envs/py37/lib/python3.7/site-packages/sklearn/externals/joblib/__init__.py:15: FutureWarning: sklearn.externals.joblib is deprecated in 0.21 and will be removed in 0.23. Please import this functionality directly from joblib, which can be installed with: pip install joblib. If this warning is raised when loading pickled models, you may need to re-serialize those models with scikit-learn 0.21+.\n",
      "  warnings.warn(msg, category=FutureWarning)\n"
     ]
    },
    {
     "name": "stdout",
     "output_type": "stream",
     "text": [
      "Python: 3.7.7 (default, Mar 26 2020, 10:32:53) \n",
      "[Clang 4.0.1 (tags/RELEASE_401/final)]\n",
      "Basedir = /Users/tgadfort/Documents/code/charts\n",
      "Notebook Last Run Initiated: 2020-10-02 21:37:20.264491\n"
     ]
    }
   ],
   "source": [
    "## Basic stuff\n",
    "%load_ext autoreload\n",
    "%autoreload\n",
    "from IPython.core.display import display, HTML\n",
    "display(HTML(\"<style>.container { width:100% !important; }</style>\"))\n",
    "display(HTML(\"\"\"<style>div.output_area{max-height:10000px;overflow:scroll;}</style>\"\"\"))\n",
    "\n",
    "## Python Version\n",
    "import sys\n",
    "from glob import glob\n",
    "from os import getcwd\n",
    "from os.path import join\n",
    "from fileUtils import getBasename, getDirname, getBaseFilename\n",
    "from fsUtils import isFile, isDir, moveFile, removeFile, mkDir, setFile, moveFile\n",
    "from searchUtils import findDirs, findExt, findNearest\n",
    "\n",
    "################################################################################\n",
    "## General Stuff\n",
    "################################################################################\n",
    "from timeUtils import clock, elapsed\n",
    "from webUtils import getHTML, getWebData\n",
    "from timeUtils import getDateTime, isDate\n",
    "from ioUtils import saveJoblib, loadJoblib, saveFile, getFile\n",
    "import urllib\n",
    "from time import sleep\n",
    "\n",
    "################################################################################\n",
    "## Database Stuff\n",
    "################################################################################\n",
    "from dbBase import dbBase\n",
    "from mainDB import mainDB\n",
    "from multiArtist import multiartist\n",
    "from matchAlbums import matchAlbums\n",
    "from masterdb import masterdb\n",
    "\n",
    "\n",
    "\n",
    "################################################################################\n",
    "## Music Stuff\n",
    "################################################################################\n",
    "from myMusicDBMap import myMusicDBMap\n",
    "from musicBase import myMusicBase\n",
    "from matchMyMusic import matchMyMusic\n",
    "from matchMusicName import myMusicName\n",
    "from mergeDB import searchForMutualDBEntries, searchForMutualArtistDBEntries\n",
    "\n",
    "\n",
    "################################################################################\n",
    "## Chart Stuff\n",
    "################################################################################\n",
    "from top40charts import top40, top40chart, top40starter\n",
    "from matchChartMusic import matchChartMusic\n",
    "from fullCharts import fullCharts\n",
    "\n",
    "################################################################################\n",
    "## Pandas Stuff\n",
    "################################################################################\n",
    "import pandas as pd\n",
    "pd.set_option('display.max_rows', 500)\n",
    "pd.set_option('display.max_columns', 500)\n",
    "pd.set_option('display.width', 1000)\n",
    "\n",
    "print(\"Python: {0}\".format(sys.version))\n",
    "\n",
    "from pandas import date_range\n",
    "basedir = getcwd()\n",
    "print(\"Basedir = {0}\".format(basedir))\n",
    "\n",
    "import datetime as dt\n",
    "start = dt.datetime.now()\n",
    "print(\"Notebook Last Run Initiated: \"+str(start))"
   ]
  },
  {
   "cell_type": "markdown",
   "metadata": {},
   "source": [
    "# Global Paramters"
   ]
  },
  {
   "cell_type": "code",
   "execution_count": 2,
   "metadata": {},
   "outputs": [],
   "source": [
    "download = False"
   ]
  },
  {
   "cell_type": "markdown",
   "metadata": {},
   "source": [
    "### Find Charts"
   ]
  },
  {
   "cell_type": "code",
   "execution_count": 3,
   "metadata": {},
   "outputs": [
    {
     "data": {
      "text/plain": [
       "{'USA Singles Top 40': {'ID': 27,\n",
       "  'URL': 'https://top40-charts.com/chart.php?cid=27'},\n",
       " 'UK Singles Top 40': {'ID': 25,\n",
       "  'URL': 'https://top40-charts.com/chart.php?cid=25'},\n",
       " 'Top40-Charts.com Web Top 100': {'ID': 39,\n",
       "  'URL': 'https://top40-charts.com/chart.php?cid=39'},\n",
       " 'China Top 20': {'ID': 42,\n",
       "  'URL': 'https://top40-charts.com/chart.php?cid=42'},\n",
       " 'German Top 40': {'ID': 12,\n",
       "  'URL': 'https://top40-charts.com/chart.php?cid=12'},\n",
       " 'Japan Top 20': {'ID': 16,\n",
       "  'URL': 'https://top40-charts.com/chart.php?cid=16'},\n",
       " 'Australia Top 20': {'ID': 4,\n",
       "  'URL': 'https://top40-charts.com/chart.php?cid=4'},\n",
       " 'Brazil Top 20': {'ID': 8, 'URL': 'https://top40-charts.com/chart.php?cid=8'},\n",
       " 'Greece Top 20': {'ID': 2, 'URL': 'https://top40-charts.com/chart.php?cid=2'},\n",
       " 'New Zealand Top 20': {'ID': 17,\n",
       "  'URL': 'https://top40-charts.com/chart.php?cid=17'},\n",
       " 'Bulgaria Top 20': {'ID': 49,\n",
       "  'URL': 'https://top40-charts.com/chart.php?cid=49'},\n",
       " 'Portugal Top 20': {'ID': 20,\n",
       "  'URL': 'https://top40-charts.com/chart.php?cid=20'}}"
      ]
     },
     "execution_count": 3,
     "metadata": {},
     "output_type": "execute_result"
    }
   ],
   "source": [
    "t40 = top40()\n",
    "t40starter = top40starter()\n",
    "t40starter.parse()\n",
    "t40starter.chartIDs"
   ]
  },
  {
   "cell_type": "markdown",
   "metadata": {},
   "source": [
    "### Download Chart Starter Files"
   ]
  },
  {
   "cell_type": "code",
   "execution_count": 4,
   "metadata": {},
   "outputs": [],
   "source": [
    "for chartName, chartData in t40starter.chartIDs.items():\n",
    "    chartURL = chartData[\"URL\"]\n",
    "    chartID  = chartData[\"ID\"]\n",
    "    \n",
    "    ## Uncomment to run\n",
    "    if download:\n",
    "        t40chart = top40chart(chartID, chartName, chartURL)\n",
    "        t40chart.downloadStarterChart()"
   ]
  },
  {
   "cell_type": "markdown",
   "metadata": {},
   "source": [
    "### Download Chart Data"
   ]
  },
  {
   "cell_type": "code",
   "execution_count": 5,
   "metadata": {},
   "outputs": [],
   "source": [
    "for chartName, chartData in t40starter.chartIDs.items():\n",
    "    chartURL = chartData[\"URL\"]\n",
    "    chartID  = chartData[\"ID\"]\n",
    "    if download:\n",
    "        t40chart = top40chart(chartID, chartName, chartURL)\n",
    "        t40chart.downloadChartDates()"
   ]
  },
  {
   "cell_type": "markdown",
   "metadata": {},
   "source": [
    "### Get Charts Not Previously Known"
   ]
  },
  {
   "cell_type": "code",
   "execution_count": 12,
   "metadata": {},
   "outputs": [
    {
     "name": "stdout",
     "output_type": "stream",
     "text": [
      "Found 48 new charts\n"
     ]
    }
   ],
   "source": [
    "for chartName, chartData in t40starter.chartIDs.items():\n",
    "    chartURL  = chartData[\"URL\"]\n",
    "    chartID   = chartData[\"ID\"]\n",
    "    t40chart  = top40chart(chartID, chartName, chartURL)\n",
    "    newCharts = t40chart.getCharts()\n",
    "    break\n",
    "print(\"Found {0} new charts\".format(len(newCharts)))\n",
    "\n",
    "for chartName, chartData in newCharts.items():\n",
    "    chartURL  = chartData[\"URL\"]\n",
    "    chartID   = chartData[\"ID\"]\n",
    "    t40chart  = top40chart(chartID, chartName, chartURL)\n",
    "    if download:\n",
    "        t40chart.downloadStarterChart()\n",
    "            \n",
    "if download:\n",
    "    for chartName, chartData in newCharts.items():\n",
    "        chartURL = chartData[\"URL\"]\n",
    "        chartID  = chartData[\"ID\"]\n",
    "        t40chart = top40chart(chartID, chartName, chartURL)\n",
    "        t40chart.downloadChartDates()\n",
    "            \n",
    "    for chartName, chartData in newCharts.items():\n",
    "        chartURL = chartData[\"URL\"]\n",
    "        chartID  = chartData[\"ID\"]\n",
    "        t40chart = top40chart(chartID, chartName, chartURL)\n",
    "        t40chart.downloadChartDates()\n",
    "        \n",
    "    t40Charts = {**t40starter.chartIDs, **newCharts}\n",
    "    len(t40Charts)"
   ]
  },
  {
   "cell_type": "markdown",
   "metadata": {},
   "source": [
    "### Combine All Charts"
   ]
  },
  {
   "cell_type": "code",
   "execution_count": 15,
   "metadata": {},
   "outputs": [
    {
     "name": "stdout",
     "output_type": "stream",
     "text": [
      "Found 12 old charts\n",
      "Found 48 new charts\n",
      "Found 48 all charts\n"
     ]
    }
   ],
   "source": [
    "print(\"Found {0} old charts\".format(len(t40starter.chartIDs)))\n",
    "print(\"Found {0} new charts\".format(len(newCharts)))\n",
    "t40Charts = {**t40starter.chartIDs, **newCharts}\n",
    "print(\"Found {0} all charts\".format(len(t40Charts)))"
   ]
  },
  {
   "cell_type": "markdown",
   "metadata": {},
   "source": [
    "### Parse Chart Data"
   ]
  },
  {
   "cell_type": "code",
   "execution_count": 16,
   "metadata": {},
   "outputs": [],
   "source": [
    "if download:\n",
    "    for chartName, chartData in t40Charts.items():\n",
    "        print(\"==> {0}\".format(chartName))\n",
    "        chartURL = chartData[\"URL\"]\n",
    "        chartID  = chartData[\"ID\"]\n",
    "        t40chart = top40chart(chartID, chartName, chartURL)\n",
    "        t40chart.parseCharts()"
   ]
  },
  {
   "cell_type": "markdown",
   "metadata": {},
   "source": [
    "***\n",
    "****"
   ]
  },
  {
   "cell_type": "markdown",
   "metadata": {},
   "source": [
    "# Match and Flag Artists"
   ]
  },
  {
   "cell_type": "code",
   "execution_count": 19,
   "metadata": {},
   "outputs": [],
   "source": [
    "def getArtistRenames():\n",
    "    artistRenames = getFile(\"masterRename.yaml\")\n",
    "    return artistRenames"
   ]
  },
  {
   "cell_type": "code",
   "execution_count": 22,
   "metadata": {},
   "outputs": [
    {
     "name": "stdout",
     "output_type": "stream",
     "text": [
      "The autoreload extension is already loaded. To reload it, use:\n",
      "  %reload_ext autoreload\n",
      "==> USA Singles Top 40                      \t1741\n",
      "==> UK Singles Top 40                       \t3523\n",
      "==> Top40-Charts.com Web Top 100            \t5218\n",
      "==> China Top 20                            \t5395\n",
      "==> German Top 40                           \t5940\n",
      "==> Japan Top 20                            \t6690\n",
      "==> Australia Top 20                        \t7110\n",
      "==> Brazil Top 20                           \t7511\n",
      "==> Greece Top 20                           \t8015\n",
      "==> New Zealand Top 20                      \t8294\n",
      "==> Bulgaria Top 20                         \t8660\n",
      "==> Portugal Top 20                         \t8931\n",
      "==> Airplay World Official Top 100          \t9861\n",
      "==> Argentina Top 20                        \t10135\n",
      "==> Austria Top 20                          \t10552\n",
      "==> Belgium Top 20                          \t10939\n",
      "==> Canada Top 20                           \t11192\n",
      "==> Chile Top 20                            \t11487\n",
      "==> Denmark Top 20                          \t11972\n",
      "==> Digital Sales Top 100                   \t12036\n",
      "==> Europe Official Top 100                 \t13433\n",
      "==> Finland Top 20                          \t14050\n",
      "==> France Top 20                           \t14464\n",
      "==> HeatSeekers Radio Tracks                \t14640\n",
      "==> Hispanic America Top 40                 \t14655\n",
      "==> India Top 20                            \t14736\n",
      "==> Ireland Top 20                          \t14889\n",
      "==> Italy Top 20                            \t15043\n",
      "==> Muchmusic Top 30                        \t15161\n",
      "==> Netherlands Top 20                      \t15675\n",
      "==> Norway Top 20                           \t15929\n",
      "==> Russia Top 20                           \t16066\n",
      "==> Spain Top 20                            \t16378\n",
      "==> Sweden Top 20                           \t16898\n",
      "==> Switzerland Top 20                      \t16973\n",
      "==> Taiwan Top 10                           \t17082\n",
      "==> UK Top 20 Albums                        \t17208\n",
      "==> Ukraine Top 20                          \t17521\n",
      "==> USA Albums                              \t18252\n",
      "==> World Adult Top 20 Singles              \t18316\n",
      "==> World Country Top 20 Singles            \t18384\n",
      "==> World Dance / Trance Top 30 Singles     \t18710\n",
      "==> World Jazz Top 20 Singles               \t19121\n",
      "==> World Latin Top 30 Singles              \t19224\n",
      "==> World Modern Rock Top 30 Singles        \t19307\n",
      "==> World RnB Top 30 Singles                \t19423\n",
      "==> World Singles Official Top 100          \t19441\n",
      "==> World Soundtracks / OST Top 20 Singles  \t19613\n",
      "Renamed 1192 artists\n",
      "Most Common Artists:\n",
      "('P!NK', 6084)\n",
      "('Beyoncé', 4159)\n",
      "('Beyonce', 4154)\n",
      "('The Weeknd', 2348)\n",
      "('Kesha', 2145)\n",
      "Saving data to currentTop40ArtistAlbumData.p\n",
      "  --> This file is 903.7kB.\n",
      "Saved data to currentTop40ArtistAlbumData.p\n",
      "  --> This file is 903.7kB.\n",
      "Saving data to currentTop40FullChartArtistAlbumData.p\n",
      "  --> This file is 5.8MB.\n",
      "Saved data to currentTop40FullChartArtistAlbumData.p\n",
      "  --> This file is 5.8MB.\n",
      "Current Time is Fri Oct 02, 2020 22:16:11 for Last Run\n"
     ]
    }
   ],
   "source": [
    "%load_ext autoreload\n",
    "%autoreload\n",
    "\n",
    "artistRenames = getArtistRenames()\n",
    "from fullCharts import fullCharts\n",
    "fCharts = fullCharts(t40Charts, ctype=None, country=None, minYear=1, maxYear=20100) \n",
    "fCharts.setRenames(artistRenames)\n",
    "fCharts.setFullChartData()\n",
    "fCharts.setArtistAlbumData()\n",
    "artistAlbumData = fCharts.getArtistAlbumData()\n",
    "saveFile(idata=artistAlbumData, ifile=\"currentTop40ArtistAlbumData.p\", debug=True)\n",
    "fullChartData = fCharts.getFullChartData()\n",
    "saveFile(idata=fullChartData, ifile=\"currentTop40FullChartArtistAlbumData.p\", debug=True)\n",
    "\n",
    "_, _ = clock(\"Last Run\")"
   ]
  },
  {
   "cell_type": "markdown",
   "metadata": {},
   "source": [
    "***\n",
    "***\n",
    "***"
   ]
  },
  {
   "cell_type": "code",
   "execution_count": null,
   "metadata": {},
   "outputs": [],
   "source": []
  },
  {
   "cell_type": "code",
   "execution_count": null,
   "metadata": {},
   "outputs": [],
   "source": []
  }
 ],
 "metadata": {
  "kernelspec": {
   "display_name": "Python 3",
   "language": "python",
   "name": "python3"
  },
  "language_info": {
   "codemirror_mode": {
    "name": "ipython",
    "version": 3
   },
   "file_extension": ".py",
   "mimetype": "text/x-python",
   "name": "python",
   "nbconvert_exporter": "python",
   "pygments_lexer": "ipython3",
   "version": "3.7.7"
  }
 },
 "nbformat": 4,
 "nbformat_minor": 2
}
