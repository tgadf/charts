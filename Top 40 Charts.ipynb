{
 "cells": [
  {
   "cell_type": "markdown",
   "metadata": {},
   "source": [
    "# Top 40 Charts Functions"
   ]
  },
  {
   "cell_type": "code",
   "execution_count": 15,
   "metadata": {},
   "outputs": [
    {
     "name": "stdout",
     "output_type": "stream",
     "text": [
      "The autoreload extension is already loaded. To reload it, use:\n",
      "  %reload_ext autoreload\n"
     ]
    },
    {
     "data": {
      "text/html": [
       "<style>.container { width:100% !important; }</style>"
      ],
      "text/plain": [
       "<IPython.core.display.HTML object>"
      ]
     },
     "metadata": {},
     "output_type": "display_data"
    },
    {
     "data": {
      "text/html": [
       "<style>div.output_area{max-height:10000px;overflow:scroll;}</style>"
      ],
      "text/plain": [
       "<IPython.core.display.HTML object>"
      ]
     },
     "metadata": {},
     "output_type": "display_data"
    },
    {
     "name": "stdout",
     "output_type": "stream",
     "text": [
      "Python: 3.7.7 (default, Mar 26 2020, 10:32:53) \n",
      "[Clang 4.0.1 (tags/RELEASE_401/final)]\n",
      "Basedir = /Users/tgadfort/Documents/code/charts\n",
      "Notebook Last Run Initiated: 2020-08-27 21:17:11.179438\n"
     ]
    }
   ],
   "source": [
    "## Basic stuff\n",
    "%load_ext autoreload\n",
    "%autoreload\n",
    "from IPython.core.display import display, HTML\n",
    "display(HTML(\"<style>.container { width:100% !important; }</style>\"))\n",
    "display(HTML(\"\"\"<style>div.output_area{max-height:10000px;overflow:scroll;}</style>\"\"\"))\n",
    "\n",
    "## Python Version\n",
    "import sys\n",
    "from glob import glob\n",
    "from os import getcwd\n",
    "from os.path import join\n",
    "from fileUtils import getBasename, getDirname, getBaseFilename\n",
    "from fsUtils import isFile, isDir, moveFile, removeFile, mkDir, setFile, moveFile\n",
    "from searchUtils import findDirs, findExt, findNearest\n",
    "\n",
    "################################################################################\n",
    "## General Stuff\n",
    "################################################################################\n",
    "from timeUtils import clock, elapsed\n",
    "from webUtils import getHTML, getWebData\n",
    "from timeUtils import getDateTime, isDate\n",
    "from ioUtils import saveJoblib, loadJoblib, saveFile, getFile\n",
    "import urllib\n",
    "from time import sleep\n",
    "\n",
    "################################################################################\n",
    "## Database Stuff\n",
    "################################################################################\n",
    "from dbBase import dbBase\n",
    "from mainDB import mainDB\n",
    "from multiArtist import multiartist\n",
    "from matchAlbums import matchAlbums\n",
    "from masterdb import masterdb\n",
    "\n",
    "\n",
    "\n",
    "################################################################################\n",
    "## Music Stuff\n",
    "################################################################################\n",
    "from myMusicDBMap import myMusicDBMap\n",
    "from musicBase import myMusicBase\n",
    "from matchMyMusic import matchMyMusic\n",
    "from matchMusicName import myMusicName\n",
    "from mergeDB import searchForMutualDBEntries, searchForMutualArtistDBEntries\n",
    "\n",
    "\n",
    "################################################################################\n",
    "## Chart Stuff\n",
    "################################################################################\n",
    "from top40charts import top40, top40chart, top40starter\n",
    "from matchChartMusic import matchChartMusic\n",
    "from fullCharts import fullCharts\n",
    "\n",
    "################################################################################\n",
    "## Pandas Stuff\n",
    "################################################################################\n",
    "import pandas as pd\n",
    "pd.set_option('display.max_rows', 500)\n",
    "pd.set_option('display.max_columns', 500)\n",
    "pd.set_option('display.width', 1000)\n",
    "\n",
    "print(\"Python: {0}\".format(sys.version))\n",
    "\n",
    "from pandas import date_range\n",
    "basedir = getcwd()\n",
    "print(\"Basedir = {0}\".format(basedir))\n",
    "\n",
    "import datetime as dt\n",
    "start = dt.datetime.now()\n",
    "print(\"Notebook Last Run Initiated: \"+str(start))"
   ]
  },
  {
   "cell_type": "markdown",
   "metadata": {},
   "source": [
    "### Find Charts"
   ]
  },
  {
   "cell_type": "code",
   "execution_count": 16,
   "metadata": {},
   "outputs": [
    {
     "data": {
      "text/plain": [
       "{'USA Singles Top 40': {'ID': 27,\n",
       "  'URL': 'https://top40-charts.com/chart.php?cid=27'},\n",
       " 'UK Singles Top 40': {'ID': 25,\n",
       "  'URL': 'https://top40-charts.com/chart.php?cid=25'},\n",
       " 'Top40-Charts.com Web Top 100': {'ID': 39,\n",
       "  'URL': 'https://top40-charts.com/chart.php?cid=39'},\n",
       " 'China Top 20': {'ID': 42,\n",
       "  'URL': 'https://top40-charts.com/chart.php?cid=42'},\n",
       " 'German Top 40': {'ID': 12,\n",
       "  'URL': 'https://top40-charts.com/chart.php?cid=12'},\n",
       " 'Japan Top 20': {'ID': 16,\n",
       "  'URL': 'https://top40-charts.com/chart.php?cid=16'},\n",
       " 'Australia Top 20': {'ID': 4,\n",
       "  'URL': 'https://top40-charts.com/chart.php?cid=4'},\n",
       " 'Brazil Top 20': {'ID': 8, 'URL': 'https://top40-charts.com/chart.php?cid=8'},\n",
       " 'Greece Top 20': {'ID': 2, 'URL': 'https://top40-charts.com/chart.php?cid=2'},\n",
       " 'New Zealand Top 20': {'ID': 17,\n",
       "  'URL': 'https://top40-charts.com/chart.php?cid=17'},\n",
       " 'Bulgaria Top 20': {'ID': 49,\n",
       "  'URL': 'https://top40-charts.com/chart.php?cid=49'},\n",
       " 'Portugal Top 20': {'ID': 20,\n",
       "  'URL': 'https://top40-charts.com/chart.php?cid=20'}}"
      ]
     },
     "execution_count": 16,
     "metadata": {},
     "output_type": "execute_result"
    }
   ],
   "source": [
    "t40 = top40()\n",
    "t40starter = top40starter()\n",
    "t40starter.parse()\n",
    "t40starter.chartIDs"
   ]
  },
  {
   "cell_type": "markdown",
   "metadata": {},
   "source": [
    "### Download Chart Starter Files"
   ]
  },
  {
   "cell_type": "code",
   "execution_count": 17,
   "metadata": {},
   "outputs": [],
   "source": [
    "for chartName, chartData in t40starter.chartIDs.items():\n",
    "    chartURL = chartData[\"URL\"]\n",
    "    chartID  = chartData[\"ID\"]\n",
    "    ## Uncomment to run\n",
    "    # t40chart = top40chart(chartID, chartName, chartURL)\n",
    "    # t40chart.downloadStarterChart()"
   ]
  },
  {
   "cell_type": "markdown",
   "metadata": {},
   "source": [
    "### Download Chart Data"
   ]
  },
  {
   "cell_type": "code",
   "execution_count": 18,
   "metadata": {},
   "outputs": [],
   "source": [
    "for chartName, chartData in t40starter.chartIDs.items():\n",
    "    chartURL = chartData[\"URL\"]\n",
    "    chartID  = chartData[\"ID\"]\n",
    "    ## Uncomment to run\n",
    "    #t40chart = top40chart(chartID, chartName, chartURL)\n",
    "    #t40chart.downloadChartDates()"
   ]
  },
  {
   "cell_type": "markdown",
   "metadata": {},
   "source": [
    "### Get Charts Not Previously Known"
   ]
  },
  {
   "cell_type": "code",
   "execution_count": 19,
   "metadata": {},
   "outputs": [
    {
     "name": "stdout",
     "output_type": "stream",
     "text": [
      "Found 48 new charts\n"
     ]
    }
   ],
   "source": [
    "for chartName, chartData in t40starter.chartIDs.items():\n",
    "    chartURL  = chartData[\"URL\"]\n",
    "    chartID   = chartData[\"ID\"]\n",
    "    t40chart  = top40chart(chartID, chartName, chartURL)\n",
    "    newCharts = t40chart.getCharts()\n",
    "    break\n",
    "print(\"Found {0} new charts\".format(len(newCharts)))"
   ]
  },
  {
   "cell_type": "code",
   "execution_count": 20,
   "metadata": {},
   "outputs": [],
   "source": [
    "for chartName, chartData in newCharts.items():\n",
    "    chartURL  = chartData[\"URL\"]\n",
    "    chartID   = chartData[\"ID\"]\n",
    "    ## Uncomment to run\n",
    "    # t40chart  = top40chart(chartID, chartName, chartURL)\n",
    "    # t40chart.downloadStarterChart()"
   ]
  },
  {
   "cell_type": "code",
   "execution_count": 21,
   "metadata": {},
   "outputs": [],
   "source": [
    "for chartName, chartData in newCharts.items():\n",
    "    chartURL = chartData[\"URL\"]\n",
    "    chartID  = chartData[\"ID\"]\n",
    "    ## Uncomment to run\n",
    "    #t40chart = top40chart(chartID, chartName, chartURL)\n",
    "    #t40chart.downloadChartDates()"
   ]
  },
  {
   "cell_type": "markdown",
   "metadata": {},
   "source": [
    "### Combine All Charts"
   ]
  },
  {
   "cell_type": "code",
   "execution_count": 22,
   "metadata": {},
   "outputs": [
    {
     "data": {
      "text/plain": [
       "48"
      ]
     },
     "execution_count": 22,
     "metadata": {},
     "output_type": "execute_result"
    }
   ],
   "source": [
    "t40Charts = {**t40starter.chartIDs, **newCharts}\n",
    "len(t40Charts)"
   ]
  },
  {
   "cell_type": "markdown",
   "metadata": {},
   "source": [
    "### Parse Chart Data"
   ]
  },
  {
   "cell_type": "code",
   "execution_count": 23,
   "metadata": {},
   "outputs": [
    {
     "name": "stdout",
     "output_type": "stream",
     "text": [
      "==> USA Singles Top 40\n",
      "==> UK Singles Top 40\n",
      "==> Top40-Charts.com Web Top 100\n",
      "==> China Top 20\n",
      "==> German Top 40\n",
      "==> Japan Top 20\n",
      "==> Australia Top 20\n",
      "==> Brazil Top 20\n",
      "==> Greece Top 20\n",
      "==> New Zealand Top 20\n",
      "==> Bulgaria Top 20\n",
      "==> Portugal Top 20\n",
      "==> Airplay World Official Top 100\n",
      "==> Argentina Top 20\n",
      "==> Austria Top 20\n",
      "==> Belgium Top 20\n",
      "==> Canada Top 20\n",
      "==> Chile Top 20\n",
      "==> Denmark Top 20\n",
      "==> Digital Sales Top 100\n",
      "==> Europe Official Top 100\n",
      "==> Finland Top 20\n",
      "==> France Top 20\n",
      "==> HeatSeekers Radio Tracks\n",
      "==> Hispanic America Top 40\n",
      "==> India Top 20\n",
      "==> Ireland Top 20\n",
      "==> Italy Top 20\n",
      "==> Muchmusic Top 30\n",
      "==> Netherlands Top 20\n",
      "==> Norway Top 20\n",
      "==> Russia Top 20\n",
      "==> Spain Top 20\n",
      "==> Sweden Top 20\n",
      "==> Switzerland Top 20\n",
      "==> Taiwan Top 10\n",
      "==> UK Top 20 Albums\n",
      "==> Ukraine Top 20\n",
      "==> USA Albums\n",
      "==> World Adult Top 20 Singles\n",
      "==> World Country Top 20 Singles\n",
      "==> World Dance / Trance Top 30 Singles\n",
      "==> World Jazz Top 20 Singles\n",
      "==> World Latin Top 30 Singles\n",
      "==> World Modern Rock Top 30 Singles\n",
      "==> World RnB Top 30 Singles\n",
      "==> World Singles Official Top 100\n",
      "==> World Soundtracks / OST Top 20 Singles\n"
     ]
    }
   ],
   "source": [
    "for chartName, chartData in t40Charts.items():\n",
    "    print(\"==> {0}\".format(chartName))\n",
    "    chartURL = chartData[\"URL\"]\n",
    "    chartID  = chartData[\"ID\"]\n",
    "    ## Uncomment to run\n",
    "    #t40chart = top40chart(chartID, chartName, chartURL)\n",
    "    #t40chart.parseCharts()"
   ]
  },
  {
   "cell_type": "markdown",
   "metadata": {},
   "source": [
    "***\n",
    "****"
   ]
  },
  {
   "cell_type": "markdown",
   "metadata": {},
   "source": [
    "# Match and Flag Artists"
   ]
  },
  {
   "cell_type": "code",
   "execution_count": 26,
   "metadata": {},
   "outputs": [],
   "source": [
    "def getArtistRenames():\n",
    "    artistRenames = getFile(\"masterRename.yaml\")\n",
    "    return artistRenames"
   ]
  },
  {
   "cell_type": "code",
   "execution_count": 28,
   "metadata": {},
   "outputs": [
    {
     "name": "stdout",
     "output_type": "stream",
     "text": [
      "The autoreload extension is already loaded. To reload it, use:\n",
      "  %reload_ext autoreload\n",
      "==> USA Singles Top 40                      \t289\n",
      "==> UK Singles Top 40                       \t527\n",
      "==> Top40-Charts.com Web Top 100            \t974\n",
      "==> China Top 20                            \t1010\n",
      "==> German Top 40                           \t1194\n",
      "==> Japan Top 20                            \t1239\n",
      "==> Australia Top 20                        \t1262\n",
      "==> Brazil Top 20                           \t1347\n",
      "==> Greece Top 20                           \t1367\n",
      "==> New Zealand Top 20                      \t1418\n",
      "==> Bulgaria Top 20                         \t1487\n",
      "==> Portugal Top 20                         \t1533\n",
      "==> Airplay World Official Top 100          \t1774\n",
      "==> Argentina Top 20                        \t1863\n",
      "==> Austria Top 20                          \t1879\n",
      "==> Belgium Top 20                          \t1918\n",
      "==> Canada Top 20                           \t1925\n",
      "==> Chile Top 20                            \t2008\n",
      "==> Denmark Top 20                          \t2125\n",
      "==> Digital Sales Top 100                   \t2125\n",
      "==> Europe Official Top 100                 \t2310\n",
      "==> Finland Top 20                          \t2447\n",
      "==> France Top 20                           \t2499\n",
      "==> HeatSeekers Radio Tracks                \t2549\n",
      "==> Hispanic America Top 40                 \t2549\n",
      "==> India Top 20                            \t2549\n",
      "==> Ireland Top 20                          \t2557\n",
      "==> Italy Top 20                            \t2589\n",
      "==> Muchmusic Top 30                        \t2589\n",
      "==> Netherlands Top 20                      \t2636\n",
      "==> Norway Top 20                           \t2691\n",
      "==> Russia Top 20                           \t2691\n",
      "==> Spain Top 20                            \t2726\n",
      "==> Sweden Top 20                           \t2826\n",
      "==> Switzerland Top 20                      \t2853\n",
      "==> Taiwan Top 10                           \t2922\n",
      "==> UK Top 20 Albums                        \t2922\n",
      "==> Ukraine Top 20                          \t3053\n",
      "==> USA Albums                              \t3311\n",
      "==> World Adult Top 20 Singles              \t3325\n",
      "==> World Country Top 20 Singles            \t3330\n",
      "==> World Dance / Trance Top 30 Singles     \t3349\n",
      "==> World Jazz Top 20 Singles               \t3382\n",
      "==> World Latin Top 30 Singles              \t3392\n",
      "==> World Modern Rock Top 30 Singles        \t3406\n",
      "==> World RnB Top 30 Singles                \t3420\n",
      "==> World Singles Official Top 100          \t3421\n",
      "==> World Soundtracks / OST Top 20 Singles  \t3436\n",
      "Renamed 285 artists\n",
      "Most Common Artists:\n",
      "('Nicky Jam & J. Balvin', 654)\n",
      "('Juice Wrld', 527)\n",
      "('The Weeknd', 505)\n",
      "('DJ DJ Snake, Ozuna, Selena Gomez & Cardi B', 431)\n",
      "('DJ Snake, Ozuna, Selena Gomez & Cardi B', 431)\n",
      "Saving data to currentTop40ArtistAlbumData.p\n",
      "  --> This file is 120.7kB.\n",
      "Saved data to currentTop40ArtistAlbumData.p\n",
      "  --> This file is 120.7kB.\n",
      "Saving data to currentTop40FullChartArtistAlbumData.p\n",
      "  --> This file is 635.4kB.\n",
      "Saved data to currentTop40FullChartArtistAlbumData.p\n",
      "  --> This file is 635.4kB.\n",
      "Current Time is Thu Aug 27, 2020 23:49:51 for Last Run\n"
     ]
    }
   ],
   "source": [
    "%load_ext autoreload\n",
    "%autoreload\n",
    "\n",
    "artistRenames = getArtistRenames()\n",
    "from fullCharts import fullCharts\n",
    "fCharts = fullCharts(t40Charts, ctype=None, country=None, minYear=2018)\n",
    "fCharts.setRenames(artistRenames)\n",
    "fCharts.setFullChartData()\n",
    "fCharts.setArtistAlbumData()\n",
    "artistAlbumData = fCharts.getArtistAlbumData()\n",
    "saveFile(idata=artistAlbumData, ifile=\"currentTop40ArtistAlbumData.p\", debug=True)\n",
    "fullChartData = fCharts.getFullChartData()\n",
    "saveFile(idata=fullChartData, ifile=\"currentTop40FullChartArtistAlbumData.p\", debug=True)\n",
    "\n",
    "_, _ = clock(\"Last Run\")"
   ]
  },
  {
   "cell_type": "markdown",
   "metadata": {},
   "source": [
    "***\n",
    "***\n",
    "***"
   ]
  },
  {
   "cell_type": "code",
   "execution_count": null,
   "metadata": {},
   "outputs": [],
   "source": []
  },
  {
   "cell_type": "code",
   "execution_count": null,
   "metadata": {},
   "outputs": [],
   "source": []
  }
 ],
 "metadata": {
  "kernelspec": {
   "display_name": "Python 3",
   "language": "python",
   "name": "python3"
  },
  "language_info": {
   "codemirror_mode": {
    "name": "ipython",
    "version": 3
   },
   "file_extension": ".py",
   "mimetype": "text/x-python",
   "name": "python",
   "nbconvert_exporter": "python",
   "pygments_lexer": "ipython3",
   "version": "3.7.7"
  }
 },
 "nbformat": 4,
 "nbformat_minor": 2
}
