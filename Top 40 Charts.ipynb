{
 "cells": [
  {
   "cell_type": "markdown",
   "metadata": {},
   "source": [
    "# Top 40 Charts Functions"
   ]
  },
  {
   "cell_type": "code",
   "execution_count": 4,
   "metadata": {},
   "outputs": [
    {
     "name": "stdout",
     "output_type": "stream",
     "text": [
      "The autoreload extension is already loaded. To reload it, use:\n",
      "  %reload_ext autoreload\n"
     ]
    },
    {
     "data": {
      "text/html": [
       "<style>.container { width:100% !important; }</style>"
      ],
      "text/plain": [
       "<IPython.core.display.HTML object>"
      ]
     },
     "metadata": {},
     "output_type": "display_data"
    },
    {
     "data": {
      "text/html": [
       "<style>div.output_area{max-height:10000px;overflow:scroll;}</style>"
      ],
      "text/plain": [
       "<IPython.core.display.HTML object>"
      ]
     },
     "metadata": {},
     "output_type": "display_data"
    },
    {
     "name": "stdout",
     "output_type": "stream",
     "text": [
      "Python: 3.7.7 (default, Mar 26 2020, 10:32:53) \n",
      "[Clang 4.0.1 (tags/RELEASE_401/final)]\n",
      "Notebook Last Run Initiated: 2020-12-12 16:08:27.781433\n"
     ]
    }
   ],
   "source": [
    "## Basic stuff\n",
    "%load_ext autoreload\n",
    "%autoreload\n",
    "\n",
    "from IPython.core.display import display, HTML\n",
    "display(HTML(\"<style>.container { width:100% !important; }</style>\"))\n",
    "display(HTML(\"\"\"<style>div.output_area{max-height:10000px;overflow:scroll;}</style>\"\"\"))\n",
    "#IPython.Cell.options_default.cm_config.lineNumbers = true;\n",
    "\n",
    "################################################################################\n",
    "## Python Version\n",
    "################################################################################\n",
    "import sys\n",
    "\n",
    "\n",
    "################################################################################\n",
    "## General Stuff\n",
    "################################################################################\n",
    "from multiprocessing import Pool\n",
    "from tqdm import tqdm\n",
    "\n",
    "\n",
    "################################################################################\n",
    "## Util Stuff\n",
    "################################################################################\n",
    "from timeUtils import clock, elapsed\n",
    "from ioUtils import saveFile, getFile\n",
    "\n",
    "\n",
    "################################################################################\n",
    "## Music DB\n",
    "################################################################################\n",
    "from mainDB import mainDB\n",
    "from musicDBMap import musicDBMap\n",
    "from masterDBMatchClass import masterDBMatchClass\n",
    "from matchDBArtist import matchDBArtist\n",
    "\n",
    "\n",
    "################################################################################\n",
    "## Music Names\n",
    "################################################################################\n",
    "from masterArtistNameDB import masterArtistNameDB\n",
    "\n",
    "\n",
    "################################################################################\n",
    "## Chart Stuff\n",
    "################################################################################\n",
    "from artistIgnores import getArtistIgnores\n",
    "from billboardData import billboardData\n",
    "from top40Data import top40Data\n",
    "\n",
    "\n",
    "################################################################################\n",
    "## Pandas Stuff\n",
    "################################################################################\n",
    "import pandas as pd\n",
    "pd.set_option('display.max_rows', 500)\n",
    "pd.set_option('display.max_columns', 500)\n",
    "pd.set_option('display.width', 1000)\n",
    "\n",
    "print(\"Python: {0}\".format(sys.version))\n",
    "import datetime as dt\n",
    "start = dt.datetime.now()\n",
    "print(\"Notebook Last Run Initiated: \"+str(start))"
   ]
  },
  {
   "cell_type": "markdown",
   "metadata": {},
   "source": [
    "# Final Aggregation"
   ]
  },
  {
   "cell_type": "code",
   "execution_count": 5,
   "metadata": {},
   "outputs": [
    {
     "name": "stdout",
     "output_type": "stream",
     "text": [
      "The autoreload extension is already loaded. To reload it, use:\n",
      "  %reload_ext autoreload\n",
      "  Getting Chart For usa\n",
      "  Using 2 Charts\n",
      "  Using 2 Charts\n",
      "  Using Charts (None): ['USA Singles Top 40', 'USA Albums']\n",
      "Found 49 files.\n",
      "==> USA Singles Top 40                      \t1755\n",
      "==> USA Albums                              \t2926\n",
      "Renamed 0 artists\n",
      "Most Common Artists:\n",
      "Saving 2926 Artist Album Data to currentTop40ArtistAlbumData.p\n",
      "Saving data to currentTop40ArtistAlbumData.p\n",
      "  --> This file is 149.7kB.\n",
      "Saved data to currentTop40ArtistAlbumData.p\n",
      "  --> This file is 149.7kB.\n",
      "Saving 2926 Full Artist Data\n",
      "Saving data to currentTop40FullChartArtistAlbumData.p\n",
      "  --> This file is 489.6kB.\n",
      "Saved data to currentTop40FullChartArtistAlbumData.p\n",
      "  --> This file is 489.6kB.\n",
      "Current Time is Sat Dec 12, 2020 16:08:34 for Last Run\n"
     ]
    }
   ],
   "source": [
    "%load_ext autoreload\n",
    "%autoreload\n",
    "from top40Data import top40Data\n",
    "td = top40Data(minYear=1, maxYear=2021)\n",
    "td.setChartUsage(rank=[0])\n",
    "td.setFullChartData()\n",
    "td.setArtistAlbumData()\n",
    "td.saveArtistAlbumData()\n",
    "td.saveFullChartData()\n",
    "\n",
    "_, _ = clock(\"Last Run\")"
   ]
  },
  {
   "cell_type": "code",
   "execution_count": null,
   "metadata": {},
   "outputs": [],
   "source": []
  },
  {
   "cell_type": "markdown",
   "metadata": {},
   "source": [
    "# Global Paramters"
   ]
  },
  {
   "cell_type": "code",
   "execution_count": 4,
   "metadata": {},
   "outputs": [],
   "source": [
    "download = False"
   ]
  },
  {
   "cell_type": "markdown",
   "metadata": {},
   "source": [
    "### Find Charts"
   ]
  },
  {
   "cell_type": "code",
   "execution_count": 5,
   "metadata": {},
   "outputs": [
    {
     "data": {
      "text/plain": [
       "{'USA Singles Top 40': {'ID': 27,\n",
       "  'URL': 'https://top40-charts.com/chart.php?cid=27'},\n",
       " 'UK Singles Top 40': {'ID': 25,\n",
       "  'URL': 'https://top40-charts.com/chart.php?cid=25'},\n",
       " 'Top40-Charts.com Web Top 100': {'ID': 39,\n",
       "  'URL': 'https://top40-charts.com/chart.php?cid=39'},\n",
       " 'China Top 20': {'ID': 42,\n",
       "  'URL': 'https://top40-charts.com/chart.php?cid=42'},\n",
       " 'German Top 40': {'ID': 12,\n",
       "  'URL': 'https://top40-charts.com/chart.php?cid=12'},\n",
       " 'Japan Top 20': {'ID': 16,\n",
       "  'URL': 'https://top40-charts.com/chart.php?cid=16'},\n",
       " 'Australia Top 20': {'ID': 4,\n",
       "  'URL': 'https://top40-charts.com/chart.php?cid=4'},\n",
       " 'Brazil Top 20': {'ID': 8, 'URL': 'https://top40-charts.com/chart.php?cid=8'},\n",
       " 'Greece Top 20': {'ID': 2, 'URL': 'https://top40-charts.com/chart.php?cid=2'},\n",
       " 'New Zealand Top 20': {'ID': 17,\n",
       "  'URL': 'https://top40-charts.com/chart.php?cid=17'},\n",
       " 'Bulgaria Top 20': {'ID': 49,\n",
       "  'URL': 'https://top40-charts.com/chart.php?cid=49'},\n",
       " 'Portugal Top 20': {'ID': 20,\n",
       "  'URL': 'https://top40-charts.com/chart.php?cid=20'}}"
      ]
     },
     "execution_count": 5,
     "metadata": {},
     "output_type": "execute_result"
    }
   ],
   "source": [
    "t40 = top40()\n",
    "t40starter = top40starter()\n",
    "t40starter.parse()\n",
    "t40starter.chartIDs"
   ]
  },
  {
   "cell_type": "markdown",
   "metadata": {},
   "source": [
    "### Download Chart Starter Files"
   ]
  },
  {
   "cell_type": "code",
   "execution_count": 6,
   "metadata": {},
   "outputs": [],
   "source": [
    "for chartName, chartData in t40starter.chartIDs.items():\n",
    "    chartURL = chartData[\"URL\"]\n",
    "    chartID  = chartData[\"ID\"]\n",
    "    \n",
    "    ## Uncomment to run\n",
    "    if download:\n",
    "        t40chart = top40chart(chartID, chartName, chartURL)\n",
    "        t40chart.downloadStarterChart()"
   ]
  },
  {
   "cell_type": "markdown",
   "metadata": {},
   "source": [
    "### Download Chart Data"
   ]
  },
  {
   "cell_type": "code",
   "execution_count": 7,
   "metadata": {},
   "outputs": [],
   "source": [
    "for chartName, chartData in t40starter.chartIDs.items():\n",
    "    chartURL = chartData[\"URL\"]\n",
    "    chartID  = chartData[\"ID\"]\n",
    "    if download:\n",
    "        t40chart = top40chart(chartID, chartName, chartURL)\n",
    "        t40chart.downloadChartDates()"
   ]
  },
  {
   "cell_type": "markdown",
   "metadata": {},
   "source": [
    "### Get Charts Not Previously Known"
   ]
  },
  {
   "cell_type": "code",
   "execution_count": 8,
   "metadata": {},
   "outputs": [
    {
     "name": "stdout",
     "output_type": "stream",
     "text": [
      "Found 48 new charts\n"
     ]
    }
   ],
   "source": [
    "for chartName, chartData in t40starter.chartIDs.items():\n",
    "    chartURL  = chartData[\"URL\"]\n",
    "    chartID   = chartData[\"ID\"]\n",
    "    t40chart  = top40chart(chartID, chartName, chartURL)\n",
    "    newCharts = t40chart.getCharts()\n",
    "    break\n",
    "print(\"Found {0} new charts\".format(len(newCharts)))\n",
    "\n",
    "for chartName, chartData in newCharts.items():\n",
    "    chartURL  = chartData[\"URL\"]\n",
    "    chartID   = chartData[\"ID\"]\n",
    "    t40chart  = top40chart(chartID, chartName, chartURL)\n",
    "    if download:\n",
    "        t40chart.downloadStarterChart()\n",
    "            \n",
    "if download:\n",
    "    for chartName, chartData in newCharts.items():\n",
    "        chartURL = chartData[\"URL\"]\n",
    "        chartID  = chartData[\"ID\"]\n",
    "        t40chart = top40chart(chartID, chartName, chartURL)\n",
    "        t40chart.downloadChartDates()\n",
    "            \n",
    "    for chartName, chartData in newCharts.items():\n",
    "        chartURL = chartData[\"URL\"]\n",
    "        chartID  = chartData[\"ID\"]\n",
    "        t40chart = top40chart(chartID, chartName, chartURL)\n",
    "        t40chart.downloadChartDates()\n",
    "        \n",
    "    t40Charts = {**t40starter.chartIDs, **newCharts}\n",
    "    len(t40Charts)"
   ]
  },
  {
   "cell_type": "markdown",
   "metadata": {},
   "source": [
    "### Combine All Charts"
   ]
  },
  {
   "cell_type": "code",
   "execution_count": 9,
   "metadata": {},
   "outputs": [
    {
     "name": "stdout",
     "output_type": "stream",
     "text": [
      "Found 12 old charts\n",
      "Found 48 new charts\n",
      "Found 48 all charts\n"
     ]
    }
   ],
   "source": [
    "print(\"Found {0} old charts\".format(len(t40starter.chartIDs)))\n",
    "print(\"Found {0} new charts\".format(len(newCharts)))\n",
    "t40Charts = {**t40starter.chartIDs, **newCharts}\n",
    "print(\"Found {0} all charts\".format(len(t40Charts)))"
   ]
  },
  {
   "cell_type": "markdown",
   "metadata": {},
   "source": [
    "### Parse Chart Data"
   ]
  },
  {
   "cell_type": "code",
   "execution_count": 10,
   "metadata": {
    "scrolled": false
   },
   "outputs": [],
   "source": [
    "if download:\n",
    "    for chartName, chartData in t40Charts.items():\n",
    "        print(\"==> {0}\".format(chartName))\n",
    "        chartURL = chartData[\"URL\"]\n",
    "        chartID  = chartData[\"ID\"]\n",
    "        t40chart = top40chart(chartID, chartName, chartURL)\n",
    "        t40chart.parseCharts()"
   ]
  },
  {
   "cell_type": "code",
   "execution_count": 23,
   "metadata": {},
   "outputs": [
    {
     "data": {
      "text/plain": [
       "{'USA Singles Top 40': {'ID': '27',\n",
       "  'URL': 'https://top40-charts.com/chart.php?cid=27'},\n",
       " 'UK Singles Top 40': {'ID': '25',\n",
       "  'URL': 'https://top40-charts.com/chart.php?cid=25'},\n",
       " 'Top40-Charts.com Web Top 100': {'ID': '39',\n",
       "  'URL': 'https://top40-charts.com/chart.php?cid=39'},\n",
       " 'China Top 20': {'ID': '42',\n",
       "  'URL': 'https://top40-charts.com/chart.php?cid=42'},\n",
       " 'German Top 40': {'ID': '12',\n",
       "  'URL': 'https://top40-charts.com/chart.php?cid=12'},\n",
       " 'Japan Top 20': {'ID': '16',\n",
       "  'URL': 'https://top40-charts.com/chart.php?cid=16'},\n",
       " 'Australia Top 20': {'ID': '4',\n",
       "  'URL': 'https://top40-charts.com/chart.php?cid=4'},\n",
       " 'Brazil Top 20': {'ID': '8',\n",
       "  'URL': 'https://top40-charts.com/chart.php?cid=8'},\n",
       " 'Greece Top 20': {'ID': '2',\n",
       "  'URL': 'https://top40-charts.com/chart.php?cid=2'},\n",
       " 'New Zealand Top 20': {'ID': '17',\n",
       "  'URL': 'https://top40-charts.com/chart.php?cid=17'},\n",
       " 'Bulgaria Top 20': {'ID': '49',\n",
       "  'URL': 'https://top40-charts.com/chart.php?cid=49'},\n",
       " 'Portugal Top 20': {'ID': '20',\n",
       "  'URL': 'https://top40-charts.com/chart.php?cid=20'},\n",
       " 'Airplay World Official Top 100': {'ID': '36',\n",
       "  'URL': 'https://top40-charts.com/chart.php?cid=36'},\n",
       " 'Argentina Top 20': {'ID': '3',\n",
       "  'URL': 'https://top40-charts.com/chart.php?cid=3'},\n",
       " 'Austria Top 20': {'ID': '6',\n",
       "  'URL': 'https://top40-charts.com/chart.php?cid=6'},\n",
       " 'Belgium Top 20': {'ID': '7',\n",
       "  'URL': 'https://top40-charts.com/chart.php?cid=7'},\n",
       " 'Canada Top 20': {'ID': '9',\n",
       "  'URL': 'https://top40-charts.com/chart.php?cid=9'},\n",
       " 'Chile Top 20': {'ID': '37',\n",
       "  'URL': 'https://top40-charts.com/chart.php?cid=37'},\n",
       " 'Denmark Top 20': {'ID': '32',\n",
       "  'URL': 'https://top40-charts.com/chart.php?cid=32'},\n",
       " 'Digital Sales Top 100': {'ID': '5',\n",
       "  'URL': 'https://top40-charts.com/chart.php?cid=5'},\n",
       " 'Europe Official Top 100': {'ID': '31',\n",
       "  'URL': 'https://top40-charts.com/chart.php?cid=31'},\n",
       " 'Finland Top 20': {'ID': '10',\n",
       "  'URL': 'https://top40-charts.com/chart.php?cid=10'},\n",
       " 'France Top 20': {'ID': '11',\n",
       "  'URL': 'https://top40-charts.com/chart.php?cid=11'},\n",
       " 'HeatSeekers Radio Tracks': {'ID': '48',\n",
       "  'URL': 'https://top40-charts.com/chart.php?cid=48'},\n",
       " 'Hispanic America Top 40': {'ID': '46',\n",
       "  'URL': 'https://top40-charts.com/chart.php?cid=46'},\n",
       " 'India Top 20': {'ID': '43',\n",
       "  'URL': 'https://top40-charts.com/chart.php?cid=43'},\n",
       " 'Ireland Top 20': {'ID': '15',\n",
       "  'URL': 'https://top40-charts.com/chart.php?cid=15'},\n",
       " 'Italy Top 20': {'ID': '18',\n",
       "  'URL': 'https://top40-charts.com/chart.php?cid=18'},\n",
       " 'Muchmusic Top 30': {'ID': '24',\n",
       "  'URL': 'https://top40-charts.com/chart.php?cid=24'},\n",
       " 'Netherlands Top 20': {'ID': '13',\n",
       "  'URL': 'https://top40-charts.com/chart.php?cid=13'},\n",
       " 'Norway Top 20': {'ID': '19',\n",
       "  'URL': 'https://top40-charts.com/chart.php?cid=19'},\n",
       " 'Russia Top 20': {'ID': '45',\n",
       "  'URL': 'https://top40-charts.com/chart.php?cid=45'},\n",
       " 'Spain Top 20': {'ID': '21',\n",
       "  'URL': 'https://top40-charts.com/chart.php?cid=21'},\n",
       " 'Sweden Top 20': {'ID': '22',\n",
       "  'URL': 'https://top40-charts.com/chart.php?cid=22'},\n",
       " 'Switzerland Top 20': {'ID': '23',\n",
       "  'URL': 'https://top40-charts.com/chart.php?cid=23'},\n",
       " 'Taiwan Top 10': {'ID': '14',\n",
       "  'URL': 'https://top40-charts.com/chart.php?cid=14'},\n",
       " 'UK Top 20 Albums': {'ID': '26',\n",
       "  'URL': 'https://top40-charts.com/chart.php?cid=26'},\n",
       " 'Ukraine Top 20': {'ID': '47',\n",
       "  'URL': 'https://top40-charts.com/chart.php?cid=47'},\n",
       " 'USA Albums': {'ID': '28',\n",
       "  'URL': 'https://top40-charts.com/chart.php?cid=28'},\n",
       " 'World Adult Top 20 Singles': {'ID': '29',\n",
       "  'URL': 'https://top40-charts.com/chart.php?cid=29'},\n",
       " 'World Country Top 20 Singles': {'ID': '30',\n",
       "  'URL': 'https://top40-charts.com/chart.php?cid=30'},\n",
       " 'World Dance / Trance Top 30 Singles': {'ID': '40',\n",
       "  'URL': 'https://top40-charts.com/chart.php?cid=40'},\n",
       " 'World Jazz Top 20 Singles': {'ID': '1',\n",
       "  'URL': 'https://top40-charts.com/chart.php?cid=1'},\n",
       " 'World Latin Top 30 Singles': {'ID': '34',\n",
       "  'URL': 'https://top40-charts.com/chart.php?cid=34'},\n",
       " 'World Modern Rock Top 30 Singles': {'ID': '41',\n",
       "  'URL': 'https://top40-charts.com/chart.php?cid=41'},\n",
       " 'World RnB Top 30 Singles': {'ID': '33',\n",
       "  'URL': 'https://top40-charts.com/chart.php?cid=33'},\n",
       " 'World Singles Official Top 100': {'ID': '35',\n",
       "  'URL': 'https://top40-charts.com/chart.php?cid=35'},\n",
       " 'World Soundtracks / OST Top 20 Singles': {'ID': '44',\n",
       "  'URL': 'https://top40-charts.com/chart.php?cid=44'}}"
      ]
     },
     "execution_count": 23,
     "metadata": {},
     "output_type": "execute_result"
    }
   ],
   "source": [
    "t40Charts"
   ]
  },
  {
   "cell_type": "markdown",
   "metadata": {},
   "source": [
    "***\n",
    "****"
   ]
  },
  {
   "cell_type": "markdown",
   "metadata": {},
   "source": [
    "# Match and Flag Artists"
   ]
  },
  {
   "cell_type": "code",
   "execution_count": 9,
   "metadata": {},
   "outputs": [],
   "source": [
    "def getArtistRenames():\n",
    "    artistRenames = getFile(\"masterRename.yaml\")\n",
    "    return artistRenames\n",
    "\n",
    "def getDBRenames():\n",
    "    dbRenames = getFile(\"../music/dbRenames.yaml\")\n",
    "    return dbRenames"
   ]
  },
  {
   "cell_type": "code",
   "execution_count": 13,
   "metadata": {},
   "outputs": [],
   "source": []
  },
  {
   "cell_type": "code",
   "execution_count": 33,
   "metadata": {},
   "outputs": [],
   "source": []
  },
  {
   "cell_type": "code",
   "execution_count": 34,
   "metadata": {},
   "outputs": [],
   "source": [
    "#from top40Data import top40Data\n",
    "td = top40Data(minYear=1, maxYear=2021)"
   ]
  },
  {
   "cell_type": "code",
   "execution_count": 35,
   "metadata": {},
   "outputs": [
    {
     "name": "stdout",
     "output_type": "stream",
     "text": [
      "  Getting Chart For usa\n",
      "  Using 2 Charts\n",
      "  Using 2 Charts\n",
      "  Using Charts (None): ['USA Singles Top 40', 'USA Albums']\n",
      "Found 49 files.\n",
      "Found 49 files.\n",
      "==> USA Singles Top 40                      \t1755\n",
      "==> USA Albums                              \t2926\n",
      "Renamed 0 artists\n",
      "Most Common Artists:\n"
     ]
    }
   ],
   "source": [
    "td.setChartUsage(rank=0)\n",
    "td.findFiles()\n",
    "td.setFullChartData()"
   ]
  },
  {
   "cell_type": "code",
   "execution_count": 36,
   "metadata": {},
   "outputs": [
    {
     "name": "stdout",
     "output_type": "stream",
     "text": [
      "The autoreload extension is already loaded. To reload it, use:\n",
      "  %reload_ext autoreload\n",
      "  Getting Chart For usa\n",
      "  Using 2 Charts\n",
      "  Using 2 Charts\n",
      "  Getting Chart For uk\n",
      "  Using 3 Charts\n",
      "  Using 3 Charts\n",
      "  Using Charts (None): ['USA Singles Top 40', 'USA Albums', 'UK Singles Top 40', 'UK Top 20 Albums', 'Canada Top 20']\n",
      "Found 49 files.\n",
      "==> USA Singles Top 40                      \t1755\n",
      "==> UK Singles Top 40                       \t3543\n",
      "==> Canada Top 20                           \t3917\n",
      "==> UK Top 20 Albums                        \t4114\n",
      "==> USA Albums                              \t5035\n",
      "Renamed 0 artists\n",
      "Most Common Artists:\n",
      "Saving 5035 Artist Album Data to currentTop40ArtistAlbumData.p\n",
      "Saving data to currentTop40ArtistAlbumData.p\n",
      "  --> This file is 252.1kB.\n",
      "Saved data to currentTop40ArtistAlbumData.p\n",
      "  --> This file is 252.1kB.\n",
      "Saving 5035 Full Artist Data\n",
      "Saving data to currentTop40FullChartArtistAlbumData.p\n",
      "  --> This file is 954.6kB.\n",
      "Saved data to currentTop40FullChartArtistAlbumData.p\n",
      "  --> This file is 954.6kB.\n",
      "Current Time is Mon Dec 07, 2020 10:35:45 for Last Run\n"
     ]
    }
   ],
   "source": []
  },
  {
   "cell_type": "code",
   "execution_count": 10,
   "metadata": {},
   "outputs": [
    {
     "name": "stdout",
     "output_type": "stream",
     "text": [
      "The autoreload extension is already loaded. To reload it, use:\n",
      "  %reload_ext autoreload\n",
      "==> USA Singles Top 40                      \t1754\n",
      "==> UK Singles Top 40                       \t3542\n",
      "==> Top40-Charts.com Web Top 100            \t5239\n",
      "==> China Top 20                            \t5417\n",
      "==> German Top 40                           \t5962\n",
      "==> Japan Top 20                            \t6719\n",
      "==> Australia Top 20                        \t7142\n",
      "==> Brazil Top 20                           \t7547\n",
      "==> Greece Top 20                           \t8053\n",
      "==> New Zealand Top 20                      \t8333\n",
      "==> Bulgaria Top 20                         \t8699\n",
      "==> Portugal Top 20                         \t8970\n",
      "==> Airplay World Official Top 100          \t9901\n",
      "==> Argentina Top 20                        \t10175\n",
      "==> Austria Top 20                          \t10593\n",
      "==> Belgium Top 20                          \t10981\n",
      "==> Canada Top 20                           \t11235\n",
      "==> Chile Top 20                            \t11532\n",
      "==> Denmark Top 20                          \t12017\n",
      "==> Digital Sales Top 100                   \t12081\n",
      "==> Europe Official Top 100                 \t13483\n",
      "==> Finland Top 20                          \t14103\n",
      "==> France Top 20                           \t14518\n",
      "==> HeatSeekers Radio Tracks                \t14695\n",
      "==> Hispanic America Top 40                 \t14710\n",
      "==> India Top 20                            \t14791\n",
      "==> Ireland Top 20                          \t14944\n",
      "==> Italy Top 20                            \t15099\n",
      "==> Muchmusic Top 30                        \t15217\n",
      "==> Netherlands Top 20                      \t15732\n",
      "==> Norway Top 20                           \t15987\n",
      "==> Russia Top 20                           \t16127\n",
      "==> Spain Top 20                            \t16439\n",
      "==> Sweden Top 20                           \t16961\n",
      "==> Switzerland Top 20                      \t17036\n",
      "==> Taiwan Top 10                           \t17149\n",
      "==> UK Top 20 Albums                        \t17278\n",
      "==> Ukraine Top 20                          \t17597\n",
      "==> USA Albums                              \t18340\n",
      "==> World Adult Top 20 Singles              \t18405\n",
      "==> World Country Top 20 Singles            \t18473\n",
      "==> World Dance / Trance Top 30 Singles     \t18801\n",
      "==> World Jazz Top 20 Singles               \t19212\n",
      "==> World Latin Top 30 Singles              \t19315\n",
      "==> World Modern Rock Top 30 Singles        \t19399\n",
      "==> World RnB Top 30 Singles                \t19516\n",
      "==> World Singles Official Top 100          \t19535\n",
      "==> World Soundtracks / OST Top 20 Singles  \t19707\n",
      "Renamed 181 artists\n",
      "Most Common Artists:\n",
      "('The Black Eyed Peas', 7047)\n",
      "('Lady Antebellumntebellum', 1032)\n",
      "('Psy', 917)\n",
      "('B.O.B', 844)\n",
      "('Amy MacDonald', 637)\n",
      "Saving data to currentTop40ArtistAlbumData.p\n",
      "  --> This file is 906.2kB.\n",
      "Saved data to currentTop40ArtistAlbumData.p\n",
      "  --> This file is 906.2kB.\n",
      "Saving data to currentTop40FullChartArtistAlbumData.p\n",
      "  --> This file is 5.8MB.\n",
      "Saved data to currentTop40FullChartArtistAlbumData.p\n",
      "  --> This file is 5.8MB.\n",
      "Current Time is Sat Nov 21, 2020 21:27:37 for Last Run\n"
     ]
    }
   ],
   "source": [
    "%load_ext autoreload\n",
    "%autoreload\n",
    "\n",
    "artistRenames = getArtistRenames()\n",
    "dbRenames     = getDBRenames()\n",
    "\n",
    "from fullCharts import fullCharts\n",
    "#fCharts = fullCharts(t40Charts, ctype=None, country=None, minYear=2000, maxYear=2005) \n",
    "fCharts = fullCharts(t40Charts, ctype=None, country=None, minYear=1, maxYear=2021) \n",
    "fCharts.setRenames(artistRenames)\n",
    "fCharts.setRenames(dbRenames)\n",
    "fCharts.setFullChartData()\n",
    "fCharts.setArtistAlbumData()\n",
    "artistAlbumData = fCharts.getArtistAlbumData()\n",
    "saveFile(idata=artistAlbumData, ifile=\"currentTop40ArtistAlbumData.p\", debug=True)\n",
    "fullChartData = fCharts.getFullChartData()\n",
    "saveFile(idata=fullChartData, ifile=\"currentTop40FullChartArtistAlbumData.p\", debug=True)\n",
    "\n",
    "_, _ = clock(\"Last Run\")"
   ]
  },
  {
   "cell_type": "markdown",
   "metadata": {},
   "source": [
    "***\n",
    "***\n",
    "***"
   ]
  }
 ],
 "metadata": {
  "kernelspec": {
   "display_name": "Python 3",
   "language": "python",
   "name": "python3"
  },
  "language_info": {
   "codemirror_mode": {
    "name": "ipython",
    "version": 3
   },
   "file_extension": ".py",
   "mimetype": "text/x-python",
   "name": "python",
   "nbconvert_exporter": "python",
   "pygments_lexer": "ipython3",
   "version": "3.7.7"
  }
 },
 "nbformat": 4,
 "nbformat_minor": 2
}
