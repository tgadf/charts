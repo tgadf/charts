{
 "cells": [
  {
   "cell_type": "markdown",
   "metadata": {},
   "source": [
    "# Chart Analysis Functions"
   ]
  },
  {
   "cell_type": "code",
   "execution_count": 1,
   "metadata": {},
   "outputs": [
    {
     "data": {
      "text/html": [
       "<style>.container { width:100% !important; }</style>"
      ],
      "text/plain": [
       "<IPython.core.display.HTML object>"
      ]
     },
     "metadata": {},
     "output_type": "display_data"
    },
    {
     "data": {
      "text/html": [
       "<style>div.output_area{max-height:10000px;overflow:scroll;}</style>"
      ],
      "text/plain": [
       "<IPython.core.display.HTML object>"
      ]
     },
     "metadata": {},
     "output_type": "display_data"
    },
    {
     "name": "stderr",
     "output_type": "stream",
     "text": [
      "/Users/tgadfort/opt/anaconda3/envs/py37/lib/python3.7/site-packages/sklearn/externals/joblib/__init__.py:15: FutureWarning: sklearn.externals.joblib is deprecated in 0.21 and will be removed in 0.23. Please import this functionality directly from joblib, which can be installed with: pip install joblib. If this warning is raised when loading pickled models, you may need to re-serialize those models with scikit-learn 0.21+.\n",
      "  warnings.warn(msg, category=FutureWarning)\n"
     ]
    },
    {
     "name": "stdout",
     "output_type": "stream",
     "text": [
      "Python: 3.7.7 (default, Mar 26 2020, 10:32:53) \n",
      "[Clang 4.0.1 (tags/RELEASE_401/final)]\n",
      "Basedir = /Users/tgadfort/Documents/code/charts\n",
      "Notebook Last Run Initiated: 2020-08-31 19:43:45.406107\n"
     ]
    }
   ],
   "source": [
    "## Basic stuff\n",
    "%load_ext autoreload\n",
    "%autoreload\n",
    "from IPython.core.display import display, HTML\n",
    "display(HTML(\"<style>.container { width:100% !important; }</style>\"))\n",
    "display(HTML(\"\"\"<style>div.output_area{max-height:10000px;overflow:scroll;}</style>\"\"\"))\n",
    "\n",
    "## Python Version\n",
    "import sys\n",
    "from glob import glob\n",
    "from os import getcwd\n",
    "from os.path import join\n",
    "from fileUtils import getBasename, getDirname, getBaseFilename\n",
    "from fsUtils import isFile, isDir, moveFile, removeFile, mkDir, setFile, moveFile\n",
    "from searchUtils import findDirs, findExt, findNearest\n",
    "\n",
    "################################################################################\n",
    "## General Stuff\n",
    "################################################################################\n",
    "from timeUtils import clock, elapsed\n",
    "from webUtils import getHTML, getWebData\n",
    "from timeUtils import getDateTime, isDate\n",
    "from listUtils import getFlatList\n",
    "from ioUtils import saveJoblib, loadJoblib, saveFile, getFile\n",
    "import urllib\n",
    "from time import sleep\n",
    "\n",
    "################################################################################\n",
    "## Database Stuff\n",
    "################################################################################\n",
    "from dbBase import dbBase\n",
    "from mainDB import mainDB\n",
    "from multiArtist import multiartist\n",
    "from matchAlbums import matchAlbums\n",
    "from masterdb import masterdb\n",
    "\n",
    "\n",
    "\n",
    "################################################################################\n",
    "## Music Stuff\n",
    "################################################################################\n",
    "from myMusicDBMap import myMusicDBMap\n",
    "from musicBase import myMusicBase\n",
    "from matchMyMusic import matchMyMusic\n",
    "from matchMusicName import myMusicName\n",
    "from mergeDB import searchForMutualDBEntries, searchForMutualArtistDBEntries\n",
    "\n",
    "################################################################################\n",
    "## Chart Stuff\n",
    "################################################################################\n",
    "from top40charts import top40, top40chart, top40starter\n",
    "from fullCharts import fullCharts\n",
    "from matchChartMusic import matchChartMusic\n",
    "\n",
    "################################################################################\n",
    "## Pandas Stuff\n",
    "################################################################################\n",
    "import pandas as pd\n",
    "pd.set_option('display.max_rows', 500)\n",
    "pd.set_option('display.max_columns', 500)\n",
    "pd.set_option('display.width', 1000)\n",
    "\n",
    "print(\"Python: {0}\".format(sys.version))\n",
    "\n",
    "from pandas import date_range, DataFrame\n",
    "basedir = getcwd()\n",
    "print(\"Basedir = {0}\".format(basedir))\n",
    "\n",
    "import datetime as dt\n",
    "start = dt.datetime.now()\n",
    "print(\"Notebook Last Run Initiated: \"+str(start))"
   ]
  },
  {
   "cell_type": "code",
   "execution_count": 2,
   "metadata": {},
   "outputs": [],
   "source": [
    "chartType = \"Top40\"\n",
    "#chartType = \"Billboard\""
   ]
  },
  {
   "cell_type": "code",
   "execution_count": 31,
   "metadata": {},
   "outputs": [],
   "source": []
  },
  {
   "cell_type": "code",
   "execution_count": 52,
   "metadata": {},
   "outputs": [],
   "source": [
    "from multiArtist import multiartist\n",
    "from myMusicDBMap import myMusicDBMap\n",
    "from matchChartMusic import matchChartMusic\n",
    "\n",
    "from multiprocessing import Pool    \n",
    "from time import sleep\n",
    "from copy import deepcopy\n",
    "\n",
    "\n",
    "class matchedChartArtists:\n",
    "    def __init__(self, chartType, debug=False):\n",
    "        self.chartType = chartType\n",
    "        self.debug = debug\n",
    "        \n",
    "        self.savename = \"matched{0}ChartArtists.p\".format(self.chartType)\n",
    "        self.matchedChartResults = getFile(ifile=self.savename, debug=True)\n",
    "        \n",
    "    \n",
    "    def saveMatchedChartArtists(self, matchedChartResults=None):\n",
    "        if matchedChartResults is None:\n",
    "            matchedChartResults = self.matchedChartResults\n",
    "        print(\"Saving {0} artists to {1}\".format(len(matchedChartResults), self.savename))\n",
    "        saveFile(idata=matchedChartResults, ifile=self.savename, debug=True)\n",
    "\n",
    "\n",
    "    def getMatchedChartArtists(self, init=False):\n",
    "        if init is True:\n",
    "            return {}\n",
    "        return self.matchedChartResults\n",
    "    \n",
    "\n",
    "class artistAlbumData:\n",
    "    def __init__(self, chartType, debug=False):\n",
    "        self.chartType = chartType\n",
    "        self.debug = debug\n",
    "        \n",
    "        self.savename = \"current{0}ArtistAlbumData.p\".format(self.chartType)\n",
    "        self.artistAlbumData = getFile(ifile=self.savename, debug=True)\n",
    "        \n",
    "    \n",
    "    def saveArtistAlbumData(self):\n",
    "        print(\"Saving {0} artists to {1}\".format(len(self.artistAlbumData), self.savename))\n",
    "        saveFile(idata=self.artistAlbumData, ifile=self.savename, debug=True)\n",
    "\n",
    "\n",
    "    def getArtistAlbumData(self, init=False):\n",
    "        if init is True:\n",
    "            return {}\n",
    "        return self.artistAlbumData\n",
    "    \n",
    "\n",
    "class fullChartArtistAlbumData:\n",
    "    def __init__(self, chartType, debug=False):\n",
    "        self.chartType = chartType\n",
    "        self.debug = debug\n",
    "        \n",
    "        self.savename = \"current{0}FullChartArtistAlbumData.p\".format(self.chartType)\n",
    "        self.fullChartData = getFile(ifile=self.savename, debug=True)\n",
    "        \n",
    "    \n",
    "    def saveFullChartData(self):\n",
    "        print(\"Saving {0} artists to {1}\".format(len(self.fullChartData), self.savename))\n",
    "        saveFile(idata=self.fullChartData, ifile=self.savename, debug=True)\n",
    "\n",
    "\n",
    "    def getFullChartData(self, init=False):\n",
    "        if init is True:\n",
    "            return {}\n",
    "        return self.fullChartData\n",
    "\n",
    "\n",
    "class masterRename:\n",
    "    def __init__(self, debug=False):\n",
    "        self.debug = False\n",
    "        self.savename = \"masterRename.yaml\"\n",
    "        self.artistRenames = getFile(self.savename, debug=True)\n",
    "\n",
    "    def getArtistRenames(self):\n",
    "        return self.artistRenames\n",
    "\n",
    "    def saveArtistRenames(self):\n",
    "        saveFile(idata=self.artistRenames, ifile=self.savename, debug=True)\n",
    "\n",
    "class chartAnalysis:\n",
    "    def __init__(self, full=False, debug=False):\n",
    "        self.debug = debug\n",
    "        \n",
    "        self.mdb     = None\n",
    "        self.mularts = None\n",
    "        self.mcm     = None\n",
    "        \n",
    "        self.chartType = None\n",
    "        self.fullDB    = False\n",
    "        \n",
    "        \n",
    "        self.setMA()\n",
    "        self.setMDB(full=full)\n",
    "        self.setMCM(full=False, mdb=self.mdb)\n",
    "        \n",
    "        self.aad = None\n",
    "        self.fcd = None\n",
    "        self.mca = None\n",
    "        self.mr  = masterRename()\n",
    "        self.artistRenames = self.mr.getArtistRenames()\n",
    "        \n",
    "        self.init = False\n",
    "\n",
    "\n",
    "\n",
    "        self.allArtists       = None\n",
    "        self.singleArtists    = None\n",
    "        self.manyArtists      = None\n",
    "        self.manyArtistAlbums = None\n",
    "\n",
    "        self.unMatchedSingleArtists     = None\n",
    "        self.singleArtistAlbums         = None\n",
    "        self.unMatchedSingleManyArtists = None\n",
    "        self.manySingleArtistAlbums     = None\n",
    "        \n",
    "        \n",
    "        \n",
    "    def setChartType(self, chartType):\n",
    "        self.chartType = chartType\n",
    "        if self.aad is None:\n",
    "            self.aad = artistAlbumData(self.chartType)\n",
    "        if self.fcd is None:\n",
    "            self.fcd = fullChartArtistAlbumData(self.chartType)\n",
    "        if self.mca is None:\n",
    "            self.mca = matchedChartArtists(self.chartType)\n",
    "\n",
    "            \n",
    "    def isFullDB(self):\n",
    "        return self.fullDB\n",
    "\n",
    "    def setMDB(self, full=False):\n",
    "        self.mdb = myMusicDBMap(debug=False)\n",
    "        if full:\n",
    "            self.mdb.getFullDBData()\n",
    "            self.fullDB = True\n",
    "\n",
    "    def setMA(self):\n",
    "        multiDelimArtists=open(\"../multiartist/multiDelimArtists.dat\").readlines()\n",
    "        multiDelimArtists = [x.replace(\"\\n\", \"\") for x in multiDelimArtists]\n",
    "        multiDelimArtists[:3]\n",
    "\n",
    "        self.mularts  = multiartist(cutoff=0.9, discdata=None, exact=False)\n",
    "        self.mularts.setKnownMultiDelimArtists(multiDelimArtists)\n",
    "\n",
    "    def setMCM(self, full=False, mdb=None):\n",
    "        if mdb is None:\n",
    "            self.mdb = self.getMDB(full=full)\n",
    "        self.mcm = matchChartMusic(mdb)\n",
    "    \n",
    "    \n",
    "    \n",
    "    \n",
    "    \n",
    "    def loadChartData(self):\n",
    "        if self.aad is None:\n",
    "            self.aad = artistAlbumData(self.chartType)\n",
    "        artistAlbumData = self.aad.getArtistAlbumData()\n",
    "\n",
    "        if self.fcd is None:\n",
    "            self.fcd = fullChartArtistAlbumData(self.chartType)\n",
    "        fullChartData = self.fcd.getFullChartData()\n",
    "\n",
    "        \n",
    "        allArtists      = list(artistAlbumData.keys())\n",
    "        print(\"There are {0} artist album entries\".format(len(allArtists)))\n",
    "\n",
    "        manyArtists   = [artist for artist in list(artistAlbumData.keys()) if len(self.mularts.getArtistNames(artist)) > 1]\n",
    "        manyArtistAlbums = {artist: {\"Artists\": self.mularts.getArtistNames(artist)} for artist in manyArtists}\n",
    "        print(\"There are {0} many artist entries\".format(len(manyArtists)))\n",
    "\n",
    "        singleArtists   = [artist for artist in list(artistAlbumData.keys()) if len(self.mularts.getArtistNames(artist)) == 1]\n",
    "        print(\"There are {0} single artist entries\".format(len(singleArtists)))\n",
    "\n",
    "        self.artistAlbumData  = artistAlbumData\n",
    "        self.fullChartData    = fullChartData\n",
    "        self.allArtists       = allArtists        \n",
    "        self.singleArtists    = singleArtists\n",
    "        self.manyArtists      = manyArtists\n",
    "        self.manyArtistAlbums = manyArtistAlbums\n",
    "\n",
    "\n",
    "\n",
    "\n",
    "    def loadMatchedChartData(self, init=False):\n",
    "        self.init = init\n",
    "        if self.mca is None:\n",
    "            self.mca = matchedChartArtists(self.chartType)\n",
    "        matchedChartResults = self.mca.getMatchedChartArtists(init=init)\n",
    "        \n",
    "            \n",
    "        print(\"=\"*100)\n",
    "        print(\"There are {0} matched chart artists\".format(len(matchedChartResults)))\n",
    "        print(\"=\"*50,\"Single\",\"=\"*50)\n",
    "\n",
    "        singleArtistStatus     = {singleArtist: matchedChartResults.get(singleArtist) is not None for singleArtist in self.singleArtists}\n",
    "        singleArtistAlbums     = {}\n",
    "        for singleArtist in self.singleArtists:\n",
    "            singleArtistAlbums[singleArtist] = self.artistAlbumData[singleArtist]\n",
    "        matchedSingleArtists   = [singleArtist for singleArtist,isMatched in singleArtistStatus.items() if isMatched is True]\n",
    "        unMatchedSingleArtists = [singleArtist for singleArtist,isMatched in singleArtistStatus.items() if isMatched is False]\n",
    "        print(\"There are {0} single Artists\".format(len(singleArtistStatus)))\n",
    "        print(\"There are {0} matched Artists\".format(len(matchedSingleArtists)))\n",
    "        print(\"There are {0} unMatched Artists\".format(len(unMatchedSingleArtists)))\n",
    "        print(\"=\"*50,\"Many\",\"=\"*50)\n",
    "\n",
    "        \n",
    "        manySingleArtists      = {manyArtist: list(self.mularts.getArtistNames(manyArtist).keys()) for manyArtist in self.manyArtists}\n",
    "        manySingleArtistStatus = {}\n",
    "        manySingleArtistAlbums = {}\n",
    "        for manyArtist, manySingleArtistValues in manySingleArtists.items():\n",
    "            for manySingleArtist in manySingleArtistValues:\n",
    "                if len(manySingleArtist) == 0:\n",
    "                    continue\n",
    "                renamedManySingleArtist = self.artistRenames.get(manySingleArtist)\n",
    "                if renamedManySingleArtist is not None:\n",
    "                    print(\"\\t{0}  <---- From ---- {1}\".format(renamedManySingleArtist, manySingleArtist))\n",
    "                    manySingleArtist = renamedManySingleArtist\n",
    "\n",
    "                if self.artistAlbumData.get(manySingleArtist) is None:\n",
    "                    self.artistAlbumData[manySingleArtist] = []\n",
    "                self.artistAlbumData[manySingleArtist] += self.artistAlbumData[manyArtist]                \n",
    "                \n",
    "                if manySingleArtistStatus.get(manySingleArtist) is None:\n",
    "                    manySingleArtistStatus[manySingleArtist] = matchedChartResults.get(manySingleArtist) is not None\n",
    "                    manySingleArtistAlbums[manySingleArtist] = {}\n",
    "                manySingleArtistAlbums[manySingleArtist][manyArtist] = self.artistAlbumData[manyArtist]\n",
    "\n",
    "        matchedSingleManyArtists   = [singleArtist for singleArtist,isMatched in manySingleArtistStatus.items() if isMatched is True]\n",
    "        unMatchedSingleManyArtists = [singleArtist for singleArtist,isMatched in manySingleArtistStatus.items() if isMatched is False]\n",
    "\n",
    "        print(\"There are {0} many Artists\".format(len(manySingleArtists)))\n",
    "        print(\"There are {0} many single Artists\".format(len(manySingleArtistStatus)))\n",
    "        print(\"There are {0} matched many single Artists\".format(len(matchedSingleManyArtists)))\n",
    "        print(\"There are {0} unMatched many single Artists\".format(len(unMatchedSingleManyArtists)))\n",
    "        print(\"=\"*100)\n",
    "\n",
    "        self.unMatchedSingleArtists     = unMatchedSingleArtists\n",
    "        self.singleArtistAlbums         = singleArtistAlbums\n",
    "        self.unMatchedSingleManyArtists = unMatchedSingleManyArtists        \n",
    "        self.manySingleArtistAlbums     = manySingleArtistAlbums\n",
    "        \n",
    "        \n",
    "\n",
    "    def updateMatchChartResults(self, latestResults):\n",
    "        if self.mca is None:\n",
    "            self.mca = matchedChartArtists(self.chartType)\n",
    "        matchedChartResults = self.mca.getMatchedChartArtists(init=self.init)\n",
    "        \n",
    "        nAdded=0\n",
    "        for latestArtist,latestArtistResults in DataFrame(latestResults).to_dict().items():\n",
    "            matches = sum([True for x in latestArtistResults.values() if x is not None])\n",
    "            if matches == 0:\n",
    "                continue\n",
    "            if matchedChartResults.get(latestArtist) is None:\n",
    "                pass\n",
    "                update = True\n",
    "                nAdded += 1\n",
    "                #print(\"   Adding artist {0}\".format(latestArtist))\n",
    "                matchedChartResults[latestArtist] = latestArtistResults\n",
    "            else:\n",
    "                for db,dbID in latestArtistResults.items():\n",
    "                    if dbID is not None:\n",
    "                        if matchedChartResults[latestArtist].get(db) is None:\n",
    "                            pass\n",
    "                            update = True\n",
    "                            print(latestArtist)\n",
    "                            print(\"      Setting {0} ID to {1}\".format(db,dbID))\n",
    "                            matchedChartResults[latestArtist][db] = str(dbID)\n",
    "                        else:\n",
    "                            if str(matchedChartResults[latestArtist][db]) != str(dbID):\n",
    "                                raise ValueError(\"Error with db {0} for artist {1}, possibles [{2},{3}]\".format(db, latestArtist, dbID, dbID, matchedChartResults[latestArtist][db]))\n",
    "\n",
    "        print(\"Added {0} new artists to the chart results\".format(nAdded))\n",
    "        self.mca.saveMatchedChartArtists(matchedChartResults)\n",
    "        self.loadMatchedChartData(init=False)\n",
    "        \n",
    "        \n",
    "        \n",
    "    def showMatched(self):\n",
    "        print(\"=\"*150)\n",
    "        print(\"=\"*50,\"Single Artists\",\"=\"*50)\n",
    "        for i,artist in enumerate(self.unMatchedSingleArtists):\n",
    "            print(i,'\\t',artist)\n",
    "            print(\"\\t---> \",self.singleArtistAlbums[artist])\n",
    "        print(\"=\"*150)\n",
    "\n",
    "\n",
    "        print(\"\\n\")\n",
    "        print(\"=\"*150)\n",
    "        print(\"=\"*50,\"Many Artists\",\"=\"*50)\n",
    "        for i,artist in enumerate(self.unMatchedSingleManyArtists):\n",
    "            print(i,'\\t',artist)\n",
    "            print(\"\\t\",self.manySingleArtistAlbums[artist])\n",
    "        print(\"=\"*150)"
   ]
  },
  {
   "cell_type": "markdown",
   "metadata": {},
   "source": [
    "# Load Chart Analysis"
   ]
  },
  {
   "cell_type": "code",
   "execution_count": 53,
   "metadata": {},
   "outputs": [
    {
     "name": "stdout",
     "output_type": "stream",
     "text": [
      "The autoreload extension is already loaded. To reload it, use:\n",
      "  %reload_ext autoreload\n",
      "Adding 323 known multi delim artists.\n",
      "Counter({'Discogs': 4142, 'AllMusic': 4016, 'MusicBrainz': 3873, 'LastFM': 3250, 'CDandLP': 758, 'DatPiff': 547, 'RockCorner': 498, 'AceBootlegs': 179, 'RateYourMusic': 68, 'MusicStack': 5, 'MetalStorm': 0})\n",
      "=========================   discogs   =========================\n",
      "Summary Statistics For DB: Discogs\n",
      "    Using Known Artists: False\n",
      "    Found 751847 ID -> Name entries\n",
      "    Found 686646 Name -> ID entries\n",
      "    Found 0 Albums\n",
      "=========================   allmusic   =========================\n",
      "Summary Statistics For DB: AllMusic\n",
      "    Using Known Artists: False\n",
      "    Found 53492 ID -> Name entries\n",
      "    Found 49666 Name -> ID entries\n",
      "    Found 226541 Albums\n",
      "=========================   musicbrainz   =========================\n",
      "Summary Statistics For DB: MusicBrainz\n",
      "    Using Known Artists: False\n",
      "    Found 132888 ID -> Name entries\n",
      "    Found 112142 Name -> ID entries\n",
      "    Found 0 Albums\n",
      "=========================   acebootlegs   =========================\n",
      "Summary Statistics For DB: AceBootlegs\n",
      "    Using Known Artists: False\n",
      "    Found 341 ID -> Name entries\n",
      "    Found 341 Name -> ID entries\n",
      "    Found 2838 Albums\n",
      "=========================   rateyourmusic   =========================\n",
      "Summary Statistics For DB: RateYourMusic\n",
      "    Using Known Artists: False\n",
      "    Found 77 ID -> Name entries\n",
      "    Found 76 Name -> ID entries\n",
      "    Found 0 Albums\n",
      "=========================   lastfm   =========================\n",
      "Summary Statistics For DB: LastFM\n",
      "    Using Known Artists: False\n",
      "    Found 109346 ID -> Name entries\n",
      "    Found 109188 Name -> ID entries\n",
      "    Found 206110 Albums\n",
      "=========================   datpiff   =========================\n",
      "Summary Statistics For DB: DatPiff\n",
      "    Using Known Artists: False\n",
      "    Found 44209 ID -> Name entries\n",
      "    Found 44185 Name -> ID entries\n",
      "    Found 125386 Albums\n",
      "=========================   rockcorner   =========================\n",
      "Summary Statistics For DB: RockCorner\n",
      "    Using Known Artists: False\n",
      "    Found 1262 ID -> Name entries\n",
      "    Found 1262 Name -> ID entries\n",
      "    Found 14481 Albums\n",
      "=========================   cdandlp   =========================\n",
      "Summary Statistics For DB: CDandLP\n",
      "    Using Known Artists: False\n",
      "    Found 4977 ID -> Name entries\n",
      "    Found 4936 Name -> ID entries\n",
      "    Found 39600 Albums\n",
      "=========================   musicstack   =========================\n",
      "Summary Statistics For DB: MusicStack\n",
      "    Using Known Artists: False\n",
      "    Found 187 ID -> Name entries\n",
      "    Found 186 Name -> ID entries\n",
      "    Found 579 Albums\n",
      "=========================   metalstorm   =========================\n",
      "Summary Statistics For DB: MetalStorm\n",
      "    Using Known Artists: False\n",
      "    Found 11 ID -> Name entries\n",
      "    Found 11 Name -> ID entries\n",
      "    Found 43 Albums\n",
      "Loading data from masterRename.yaml\n",
      "  --> This file is 29.0kB.\n",
      "Loading masterRename.yaml\n",
      "Loading data from currentBillboardArtistAlbumData.p\n",
      "  --> This file is 33.8kB.\n",
      "Loading currentBillboardArtistAlbumData.p\n",
      "Loading data from currentBillboardFullChartArtistAlbumData.p\n",
      "  --> This file is 98.0kB.\n",
      "Loading currentBillboardFullChartArtistAlbumData.p\n",
      "Loading data from matchedBillboardChartArtists.p\n",
      "  --> This file is 16.2kB.\n",
      "Loading matchedBillboardChartArtists.p\n",
      "There are 962 artist album entries\n",
      "There are 231 many artist entries\n",
      "There are 731 single artist entries\n",
      "====================================================================================================\n",
      "There are 0 matched chart artists\n",
      "================================================== Single ==================================================\n",
      "There are 731 single Artists\n",
      "There are 0 matched Artists\n",
      "There are 731 unMatched Artists\n",
      "================================================== Many ==================================================\n",
      "There are 231 many Artists\n",
      "There are 358 many single Artists\n",
      "There are 0 matched many single Artists\n",
      "There are 358 unMatched many single Artists\n",
      "====================================================================================================\n",
      "Current Time is Mon Aug 31, 2020 20:04:44 for Last Run\n"
     ]
    }
   ],
   "source": [
    "%load_ext autoreload\n",
    "%autoreload\n",
    "\n",
    "ca = chartAnalysis(full=True)\n",
    "ca.setChartType(\"Billboard\")\n",
    "ca.loadChartData()\n",
    "ca.loadMatchedChartData(init=True)\n",
    "_, _ = clock(\"Last Run\")"
   ]
  },
  {
   "cell_type": "markdown",
   "metadata": {},
   "source": [
    "# Match Artists"
   ]
  },
  {
   "cell_type": "code",
   "execution_count": 54,
   "metadata": {},
   "outputs": [
    {
     "data": {
      "text/plain": [
       "True"
      ]
     },
     "execution_count": 54,
     "metadata": {},
     "output_type": "execute_result"
    }
   ],
   "source": [
    "ca.isFullDB()"
   ]
  },
  {
   "cell_type": "code",
   "execution_count": 61,
   "metadata": {},
   "outputs": [],
   "source": [
    "if ca.isFullDB():\n",
    "    mdb = ca.mdb\n",
    "    mcm = ca.mcm\n",
    "    artistAlbumData = ca.artistAlbumData        \n",
    "else:\n",
    "    mdb = myMusicDBMap(debug=False)\n",
    "    mdb.getFullDBData()\n",
    "    mcm = matchChartMusic(mdb)\n",
    "    raise ValueError(\"Call CA()\")\n",
    "    \n",
    "####################################################################\n",
    "## Match By Artist Only\n",
    "####################################################################\n",
    "def searchByKnown(artist):\n",
    "    mcm.setChartArtistData(artist, artistAlbumData.get(artist))\n",
    "    retval = mcm.matchChartArtistByKnown(ratioCut=0.98, returnData=True)\n",
    "    return retval\n",
    "\n",
    "def poolSearchByKnown(nProc, artists):\n",
    "    pool   = Pool(processes=nProc)\n",
    "    result = pool.map_async(searchByKnown, artists)\n",
    "\n",
    "    while not result.ready():\n",
    "        sleep(10)\n",
    "        print(\"\")\n",
    "        return result.get()\n",
    "\n",
    "####################################################################\n",
    "## Match By Artist Only\n",
    "####################################################################\n",
    "def searchByName(artist):\n",
    "    mcm.setChartArtistData(artist, artistAlbumData.get(artist))\n",
    "    retval = mcm.matchChartArtistByName(ratioCut=0.98, returnData=True)\n",
    "    return retval\n",
    "\n",
    "def poolSearchByName(nProc, artists):\n",
    "    pool   = Pool(processes=nProc)\n",
    "    result = pool.map_async(searchByName, artists)\n",
    "\n",
    "    while not result.ready():\n",
    "        sleep(10)\n",
    "        print(\"\")\n",
    "        return result.get()"
   ]
  },
  {
   "cell_type": "code",
   "execution_count": 62,
   "metadata": {},
   "outputs": [],
   "source": [
    "def findMatches(artists, func=poolProcByName):\n",
    "    nProc = min([7, len(artists)])\n",
    "    start, cmt = clock(\"Trying N={0} and L={1} and matching with {2}\".format(nProc, len(artists), func.__name__))\n",
    "    retval = func(nProc, artists)\n",
    "    elapsed(start, cmt)\n",
    "\n",
    "\n",
    "    ################################\n",
    "    ######### Show Results #########\n",
    "    ################################\n",
    "    if retval is None:\n",
    "        latestResults = {}\n",
    "    else:\n",
    "        if len(retval) > 0:\n",
    "            latestResults = dict(zip(artists, retval))\n",
    "        else:\n",
    "            latestResults = {}\n",
    "    #newSaveData = {**matchedChartResults, **latestResults}\n",
    "    _, _ = clock(\"Last Run\")\n",
    "    return latestResults"
   ]
  },
  {
   "cell_type": "code",
   "execution_count": 63,
   "metadata": {
    "scrolled": true
   },
   "outputs": [
    {
     "name": "stdout",
     "output_type": "stream",
     "text": [
      "Current Time is Mon Aug 31, 2020 20:20:51 for Trying N=7 and L=731 and matching with poolSearchByKnown\n",
      "\n",
      "Current Time is Mon Aug 31, 2020 20:21:01 for Done with Trying N=7 and L=731 and matching with poolSearchByKnown\n",
      "Process [Done with Trying N=7 and L=731 and matching with poolSearchByKnown] took 10 seconds.\n",
      "Current Time is Mon Aug 31, 2020 20:21:01 for Last Run\n",
      "Results for 731 artists\n",
      "      Found 205 artists\n"
     ]
    },
    {
     "data": {
      "text/html": [
       "<div>\n",
       "<style scoped>\n",
       "    .dataframe tbody tr th:only-of-type {\n",
       "        vertical-align: middle;\n",
       "    }\n",
       "\n",
       "    .dataframe tbody tr th {\n",
       "        vertical-align: top;\n",
       "    }\n",
       "\n",
       "    .dataframe thead th {\n",
       "        text-align: right;\n",
       "    }\n",
       "</style>\n",
       "<table border=\"1\" class=\"dataframe\">\n",
       "  <thead>\n",
       "    <tr style=\"text-align: right;\">\n",
       "      <th></th>\n",
       "      <th>AceBootlegs</th>\n",
       "      <th>AllMusic</th>\n",
       "      <th>CDandLP</th>\n",
       "      <th>DatPiff</th>\n",
       "      <th>Discogs</th>\n",
       "      <th>LastFM</th>\n",
       "      <th>MetalStorm</th>\n",
       "      <th>MusicBrainz</th>\n",
       "      <th>MusicStack</th>\n",
       "      <th>RateYourMusic</th>\n",
       "      <th>RockCorner</th>\n",
       "    </tr>\n",
       "  </thead>\n",
       "  <tbody>\n",
       "    <tr>\n",
       "      <th>Sia</th>\n",
       "      <td>None</td>\n",
       "      <td>0000753742</td>\n",
       "      <td>49664487236480</td>\n",
       "      <td>9478665</td>\n",
       "      <td>21991</td>\n",
       "      <td>90699478665</td>\n",
       "      <td>None</td>\n",
       "      <td>78569762612181731477292939420771874987</td>\n",
       "      <td>None</td>\n",
       "      <td>None</td>\n",
       "      <td>None</td>\n",
       "    </tr>\n",
       "    <tr>\n",
       "      <th>P!NK</th>\n",
       "      <td>None</td>\n",
       "      <td>None</td>\n",
       "      <td>None</td>\n",
       "      <td>None</td>\n",
       "      <td>36988</td>\n",
       "      <td>None</td>\n",
       "      <td>None</td>\n",
       "      <td>None</td>\n",
       "      <td>None</td>\n",
       "      <td>None</td>\n",
       "      <td>None</td>\n",
       "    </tr>\n",
       "    <tr>\n",
       "      <th>Ed Sheeran</th>\n",
       "      <td>None</td>\n",
       "      <td>0002639628</td>\n",
       "      <td>None</td>\n",
       "      <td>2327681</td>\n",
       "      <td>2184482</td>\n",
       "      <td>86252327681</td>\n",
       "      <td>None</td>\n",
       "      <td>198029299564082285167630733293420079303</td>\n",
       "      <td>None</td>\n",
       "      <td>None</td>\n",
       "      <td>None</td>\n",
       "    </tr>\n",
       "    <tr>\n",
       "      <th>Taylor Swift</th>\n",
       "      <td>None</td>\n",
       "      <td>0000472102</td>\n",
       "      <td>None</td>\n",
       "      <td>128881</td>\n",
       "      <td>1124645</td>\n",
       "      <td>56520128881</td>\n",
       "      <td>None</td>\n",
       "      <td>45149365906358741461166276060307026263</td>\n",
       "      <td>None</td>\n",
       "      <td>None</td>\n",
       "      <td>None</td>\n",
       "    </tr>\n",
       "    <tr>\n",
       "      <th>Katy Perry</th>\n",
       "      <td>None</td>\n",
       "      <td>0000859589</td>\n",
       "      <td>None</td>\n",
       "      <td>1814790</td>\n",
       "      <td>971243</td>\n",
       "      <td>70185071000</td>\n",
       "      <td>None</td>\n",
       "      <td>311168916161728453618836228674392677517</td>\n",
       "      <td>None</td>\n",
       "      <td>None</td>\n",
       "      <td>None</td>\n",
       "    </tr>\n",
       "  </tbody>\n",
       "</table>\n",
       "</div>"
      ],
      "text/plain": [
       "             AceBootlegs    AllMusic         CDandLP  DatPiff  Discogs       LastFM MetalStorm                              MusicBrainz MusicStack RateYourMusic RockCorner\n",
       "Sia                 None  0000753742  49664487236480  9478665    21991  90699478665       None   78569762612181731477292939420771874987       None          None       None\n",
       "P!NK                None        None            None     None    36988         None       None                                     None       None          None       None\n",
       "Ed Sheeran          None  0002639628            None  2327681  2184482  86252327681       None  198029299564082285167630733293420079303       None          None       None\n",
       "Taylor Swift        None  0000472102            None   128881  1124645  56520128881       None   45149365906358741461166276060307026263       None          None       None\n",
       "Katy Perry          None  0000859589            None  1814790   971243  70185071000       None  311168916161728453618836228674392677517       None          None       None"
      ]
     },
     "execution_count": 63,
     "metadata": {},
     "output_type": "execute_result"
    }
   ],
   "source": [
    "latestResults = {}\n",
    "artistAlbumData = ca.artistAlbumData\n",
    "\n",
    "##########################################################################################\n",
    "## Single Artists\n",
    "##########################################################################################\n",
    "latestResults = findMatches(ca.unMatchedSingleArtists, poolSearchByKnown)\n",
    "#latestResults = findMatches(ca.unMatchedSingleArtists, poolProc)\n",
    "#latestResults = findMatches(unMatchedSingleArtists, poolProcByName)\n",
    "\n",
    "##########################################################################################\n",
    "## Many Artists\n",
    "##########################################################################################\n",
    "#latestResults = findMatches(unMatchedSingleManyArtists, poolProcByKnown)\n",
    "#latestResults = findMatches(unMatchedSingleManyArtists, poolProc)\n",
    "#latestResults = findMatches(unMatchedSingleManyArtists, poolProcByName)\n",
    "\n",
    "\n",
    "\n",
    "df = DataFrame(latestResults).T\n",
    "print(\"Results for {0} artists\".format(df.shape[0]))\n",
    "retval = df[(df.isna() == False).sum(axis=1) > 0]\n",
    "print(\"      Found {0} artists\".format(retval.shape[0]))\n",
    "retval.head()"
   ]
  },
  {
   "cell_type": "code",
   "execution_count": 64,
   "metadata": {},
   "outputs": [
    {
     "name": "stdout",
     "output_type": "stream",
     "text": [
      "Added 205 new artists to the chart results\n",
      "Saving 205 artists to matchedBillboardChartArtists.p\n",
      "Saving data to matchedBillboardChartArtists.p\n",
      "  --> This file is 16.4kB.\n",
      "Saved data to matchedBillboardChartArtists.p\n",
      "  --> This file is 16.4kB.\n",
      "====================================================================================================\n",
      "There are 201 matched chart artists\n",
      "================================================== Single ==================================================\n",
      "There are 731 single Artists\n",
      "There are 201 matched Artists\n",
      "There are 530 unMatched Artists\n",
      "================================================== Many ==================================================\n",
      "There are 231 many Artists\n",
      "There are 358 many single Artists\n",
      "There are 64 matched many single Artists\n",
      "There are 294 unMatched many single Artists\n",
      "====================================================================================================\n"
     ]
    }
   ],
   "source": [
    "ca.updateMatchChartResults(latestResults)"
   ]
  },
  {
   "cell_type": "markdown",
   "metadata": {},
   "source": [
    "***"
   ]
  },
  {
   "cell_type": "code",
   "execution_count": null,
   "metadata": {},
   "outputs": [],
   "source": [
    "if False:\n",
    "    latestResults[\"Zayn Malik\"][\"Discogs\"] = '4852274'\n",
    "    latestResults['Lauren Duski'][\"AllMusic\"] = '0003629407'\n",
    "    latestResults['Dylan Scott'][\"Discogs\"] = '4298619'\n",
    "    latestResults['Dylan Scott'][\"AllMusic\"] = '0003281059'\n",
    "    latestResults['Blueface'][\"Discogs\"] = '7279800'\n",
    "    latestResults['Morgan Wallen'][\"Discogs\"] = '6628105'\n",
    "    latestResults['Morgan Wallen'][\"AllMusic\"] = '0003351348'\n",
    "    latestResults['Trevor Daniel'][\"Discogs\"] = '7662034'\n",
    "    \n",
    "#latestResults['Jxl'][\"Discogs\"] = '5911'\n",
    "for artist in DataFrame(latestResults).T.index:\n",
    "    print(\"latestResults[\\\"{0}\\\"][\\\"AllMusic\\\"] = ''\".format(artist))"
   ]
  },
  {
   "cell_type": "markdown",
   "metadata": {},
   "source": [
    "# Rename Matched Artists"
   ]
  },
  {
   "cell_type": "code",
   "execution_count": null,
   "metadata": {},
   "outputs": [],
   "source": [
    "matchedChartResultsTop40     = getMatchedChartArtists(\"Top40\")\n",
    "matchedChartResultsBillboard = getMatchedChartArtists(\"Billboard\")\n",
    "\n",
    "fullChartArtistAlbumDataTop40     = getFullChartArtistAlbumData(\"Top40\")\n",
    "fullChartArtistAlbumDataBillboard = getFullChartArtistAlbumData(\"Billboard\")\n",
    "\n",
    "matchedChartResults = {\"Top40\": matchedChartResultsTop40, \"Billboard\": matchedChartResultsBillboard}[chartType]"
   ]
  },
  {
   "cell_type": "code",
   "execution_count": null,
   "metadata": {},
   "outputs": [],
   "source": [
    "matchedRenames   = {}\n",
    "bestMatchedNames = []\n",
    "removes          = {}\n",
    "matchedChartResultsIDs = {}\n",
    "\n",
    "matchedChartResults = {\"Top40\": matchedChartResultsTop40, \"Billboard\": matchedChartResultsBillboard}[chartType]\n",
    "\n",
    "for artist,artistData in matchedChartResults.items():\n",
    "    for db,dbmatch in artistData.items():\n",
    "        if matchedChartResultsIDs.get(db) is None:\n",
    "            matchedChartResultsIDs[db] = {}        \n",
    "        if dbmatch is not None:\n",
    "            if not isinstance(db,str) or not isinstance(dbmatch,(str,int)):\n",
    "                print(\"matchedChartResults{0}[\\\"{1}\\\"][\\\"{2}\\\"] = None\".format(chartType, artist, db))\n",
    "                continue\n",
    "                #raise ValueError(\"Error with db {0} or match {1}\".format(db,dbmatch))\n",
    "            if matchedChartResultsIDs[db].get(dbmatch) is None:\n",
    "                matchedChartResultsIDs[db][dbmatch] = artist\n",
    "            else:\n",
    "                prevArtist = matchedChartResultsIDs[db][dbmatch]\n",
    "                #print(\"# Multiple Matches For DB/ID [{0}/{1}] --> [{2}  ;  {3}]\".format(db,dbmatch,artist,prevArtist))\n",
    "                \n",
    "                dbName = mdb.dbdata[db].getArtistNameFromID(dbmatch)\n",
    "\n",
    "\n",
    "                \n",
    "                if dbName == artist:\n",
    "                    print(\"matchedChartResults{0}[\\\"{1}\\\"][\\\"{2}\\\"] = None\".format(chartType, prevArtist, db))\n",
    "                    #print(\"#matchedRenames[\\\"{0}\\\"] = \\\"{1}\\\"\".format(prevArtist, artist))\n",
    "                    #print(\"#del matchedChartResults{0}[\\\"{1}\\\"]\".format(chartType, prevArtist))\n",
    "                    matchedRenames[prevArtist] = artist\n",
    "                elif dbName == prevArtist:\n",
    "                    print(\"matchedChartResults{0}[\\\"{1}\\\"][\\\"{2}\\\"] = None\".format(chartType, artist, db))\n",
    "                    #print(\"#matchedRenames[\\\"{0}\\\"] = \\\"{1}\\\"\".format(artist, prevArtist))\n",
    "                    #print(\"#del matchedChartResults{0}[\\\"{1}\\\"]\".format(chartType, artist))\n",
    "                else:\n",
    "                    bestMatchedNames.append([artist, prevArtist])\n",
    "                #print(\"\")\n",
    "                continue\n",
    "                    \n",
    "\n",
    "                    \n",
    "                \n",
    "                if mdb.isKnown(artist) and not mdb.isKnown(prevArtist):\n",
    "                    print(\"\\tRename {0} --> {1}\".format(prevArtist,artist))\n",
    "                    matchedRenames[prevArtist] = artist\n",
    "                    removes[prevArtist] = True\n",
    "                elif not mdb.isKnown(artist) and mdb.isKnown(prevArtist):\n",
    "                    print(\"\\tRename {0} --> {1}\".format(artist,prevArtist))\n",
    "                    matchedRenames[artist] = prevArtist\n",
    "                    removes[artist] = True\n",
    "                elif mdb.isKnown(artist) and mdb.isKnown(prevArtist):\n",
    "                    print(\"\\tBoth artist names are used...\")\n",
    "                    bestMatchedNames.append([artist, prevArtist])\n",
    "                elif not mdb.isKnown(artist) and not mdb.isKnown(prevArtist):\n",
    "                    print(\"\\tMust look this up to see what we need to use.\")\n",
    "                    bestMatchedNames.append([artist, prevArtist])\n",
    "                    \n",
    "    if len(matchedRenames) > 25000:\n",
    "        break"
   ]
  },
  {
   "cell_type": "code",
   "execution_count": null,
   "metadata": {
    "scrolled": false
   },
   "outputs": [],
   "source": [
    "## Basic stuff\n",
    "%load_ext autoreload\n",
    "%autoreload\n",
    "from matchChartMusic import matchChartMusic\n",
    "mcm     = getMCM(mdb)\n",
    "mcm.setMatchedChartArtists(matchedChartResults)\n",
    "mcm.searchForMutualDBEntries(chartType, maxAdds=10000)"
   ]
  },
  {
   "cell_type": "code",
   "execution_count": null,
   "metadata": {},
   "outputs": [],
   "source": [
    "#matchedRenames[\"David Latour \"] = \"David Latour\"\n",
    "\n",
    "for k,v in matchedRenames.items():\n",
    "    print(\"{0}: {1}\".format(k,v))"
   ]
  },
  {
   "cell_type": "code",
   "execution_count": null,
   "metadata": {},
   "outputs": [],
   "source": [
    "matchedRenames = {}\n",
    "\n",
    "\n",
    "del matchedChartResultsTop40[\"B.o.B\"]\n",
    "del matchedChartResultsTop40[\"Pnb Rock\"]\n",
    "del matchedChartResultsTop40[\"DaBaby\"]\n",
    "del matchedChartResultsTop40[\"Lil Jon & East Side Boyz\"]\n",
    "del matchedChartResultsTop40[\"American Idol Season 2 Finalists\"]\n",
    "del matchedChartResultsTop40[\"American Idol Season 4 Finalists\"]\n",
    "del matchedChartResultsTop40[\"Christina Milan\"]\n",
    "del matchedChartResultsTop40[\"Ll Cool J\"]\n",
    "del matchedChartResultsTop40[\"Lil Boosie\"]\n",
    "del matchedChartResultsTop40[\"Gary Clark Jr..\"]\n",
    "del matchedChartResultsTop40[\"Blackpink\"]\n",
    "del matchedChartResultsTop40[\"Damian `Jr. Gong` Marley\"]\n",
    "del matchedChartResultsTop40[\"Tom Petty & The Heartbreakers\"]\n",
    "del matchedChartResultsTop40[\"Motley Crue\"]"
   ]
  },
  {
   "cell_type": "code",
   "execution_count": null,
   "metadata": {},
   "outputs": [],
   "source": [
    "for k,v in matchedRenames.items():\n",
    "    print(\"{0}: {1}\".format(k,v))"
   ]
  },
  {
   "cell_type": "code",
   "execution_count": null,
   "metadata": {},
   "outputs": [],
   "source": []
  },
  {
   "cell_type": "markdown",
   "metadata": {},
   "source": [
    "# Find Near Matches"
   ]
  },
  {
   "cell_type": "code",
   "execution_count": null,
   "metadata": {},
   "outputs": [],
   "source": [
    "previouslyKnownArtists = getMatchedChartArtists(\"Top40\").keys()\n",
    "result = {}\n",
    "for i,artist in enumerate(unMatchedSingleArtists + unMatchedSingleManyArtists):\n",
    "    print(i,'\\t',artist)\n",
    "    retvals = findNearest(artist, previouslyKnownArtists, num=2, cutoff=0.75)\n",
    "    print('\\t',retvals)\n",
    "    if len(retvals) == 2:\n",
    "        nretvals = [x for x in retvals if x != artist]\n",
    "        num = len(artistAlbumData[artist])\n",
    "        if num >= 2:\n",
    "            print(\"{0: <40}{1: <10}{2}\".format(artist,num,nretvals[0]))\n",
    "            #print(\"renames[\\\"{0}\\\"] = \\\"\\\"\".format(val))\n",
    "            result[artist] = {\"Num\": num, \"Possible\": nretvals[0]}"
   ]
  },
  {
   "cell_type": "code",
   "execution_count": null,
   "metadata": {},
   "outputs": [],
   "source": [
    "results"
   ]
  },
  {
   "cell_type": "code",
   "execution_count": null,
   "metadata": {},
   "outputs": [],
   "source": [
    "saveMatchedChartArtists(matchedChartResultsTop40, \"Top40\")"
   ]
  },
  {
   "cell_type": "code",
   "execution_count": null,
   "metadata": {},
   "outputs": [],
   "source": [
    "saveMatchedChartArtists(matchedChartResultsTop40, \"Top40\")"
   ]
  },
  {
   "cell_type": "code",
   "execution_count": null,
   "metadata": {},
   "outputs": [],
   "source": [
    "for k in removes.keys():\n",
    "    print(\"del matchedChartResultsBillboard[\\\"{0}\\\"]\".format(k))"
   ]
  },
  {
   "cell_type": "code",
   "execution_count": null,
   "metadata": {},
   "outputs": [],
   "source": [
    "saveMatchedChartArtists(matchedChartResultsBillboard, \"Billboard\")"
   ]
  },
  {
   "cell_type": "code",
   "execution_count": null,
   "metadata": {},
   "outputs": [],
   "source": [
    "matchedRenames"
   ]
  },
  {
   "cell_type": "code",
   "execution_count": null,
   "metadata": {},
   "outputs": [],
   "source": [
    "for i,names in enumerate(bestMatchedNames):    \n",
    "    bestRenames = {}\n",
    "\n",
    "    for name in names:\n",
    "        results = mdb.getNearestArtistNames(name)\n",
    "        print(i,'/',len(bestMatchedNames),'\\t',name,\"\\t\",[x for x in results.values() if x is not None]) #[x for x in results.values() if x is not None])\n",
    "        bestRenames[name] = [x for x in results.values() if x is not None]\n",
    "    \n",
    "    for name in names:\n",
    "        try:\n",
    "            print(\"{0} ---> {1}\".format(name,singleArtistAlbums.get(name)))\n",
    "        except:\n",
    "            pass\n",
    "        try:\n",
    "            print(\"{0} ---> {1}\".format(name,manyArtistAlbums.get(name)))\n",
    "        except:\n",
    "            pass\n",
    "\n",
    "        \n",
    "    for name,results in bestRenames.items():\n",
    "        \n",
    "        print(\"del matchedChartResultsBillboard[\\\"{0}\\\"]\".format(name))\n",
    "        for v in [x for x in results if x is not None]:\n",
    "            if name == v:\n",
    "                continue\n",
    "            print(\"del matchedChartResultsBillboard[\\\"{0}\\\"]\".format(v))\n",
    "            print(\"{0}: {1}\".format(v,name))\n",
    "    \n",
    "    print(\"\\n\")"
   ]
  },
  {
   "cell_type": "code",
   "execution_count": null,
   "metadata": {},
   "outputs": [],
   "source": [
    "renames = {}\n",
    "renames[\"Brian Mckight\"] = \"Brian McKnight\"\n",
    "renames[\"Shane Ritchie\"] = \"Shane Richie\"\n",
    "renames[\"Jaime Cullum\"] = \"Jamie Cullum\"\n",
    "renames[\"Supafly INC\"] = \"Supafly\"\n",
    "renames[\"Anitta\"] = \"MC Anitta\"\n",
    "renames[\"Bravery\"] = \"The Bravery\"\n",
    "renames[\"Pornograffitti\"] = \"Porno Graffitti\"\n",
    "renames[\"Tommy Februaryo\"] = \"Tommy February6\"\n",
    "\n",
    "for k,v in renames.items():\n",
    "    artistRenames[k] = v\n",
    "saveArtistRenames(artistRenames)\n",
    "#saveMatchedChartArtists(matchedChartResultsBillboard, \"Billboard\")"
   ]
  },
  {
   "cell_type": "code",
   "execution_count": null,
   "metadata": {},
   "outputs": [],
   "source": [
    "for i in range(100):\n",
    "    print(\"renames[\\\"\\\"] = \\\"\\\"\")\n",
    "    print(\"del matchedChartResultsBillboard[\\\"\\\"]\")"
   ]
  },
  {
   "cell_type": "code",
   "execution_count": null,
   "metadata": {},
   "outputs": [],
   "source": []
  },
  {
   "cell_type": "code",
   "execution_count": null,
   "metadata": {},
   "outputs": [],
   "source": []
  },
  {
   "cell_type": "code",
   "execution_count": null,
   "metadata": {},
   "outputs": [],
   "source": []
  },
  {
   "cell_type": "code",
   "execution_count": null,
   "metadata": {},
   "outputs": [],
   "source": []
  },
  {
   "cell_type": "code",
   "execution_count": null,
   "metadata": {},
   "outputs": [],
   "source": [
    "def loadChartData():\n",
    "    mularts = getMA()\n",
    "    artistAlbumData = getArtistAlbumData()\n",
    "    allArtists      = list(artistAlbumData.keys())\n",
    "    print(\"There are {0} artist album entries\".format(len(artistAlbumData)))\n",
    "\n",
    "    fullChartData = getFullChartArtistAlbumData()\n",
    "\n",
    "    manyArtists   = [artist for artist in list(artistAlbumData.keys()) if len(mularts.getArtistNames(artist)) > 1]\n",
    "    manyArtistAlbums = {artist: {\"Artists\": mularts.getArtistNames(artist)} for artist in manyArtists}\n",
    "    print(\"There are {0} many artist entries\".format(len(manyArtists)))\n",
    "\n",
    "    singleArtists   = [artist for artist in list(artistAlbumData.keys()) if len(mularts.getArtistNames(artist)) == 1]\n",
    "    print(\"There are {0} single artist entries\".format(len(singleArtists)))\n",
    "\n",
    "    _, _ = clock(\"Last Run\")\n",
    "    \n",
    "    return mularts, artistAlbumData, allArtists, fullChartData, manyArtists, manyArtistAlbums, singleArtists\n"
   ]
  },
  {
   "cell_type": "code",
   "execution_count": null,
   "metadata": {},
   "outputs": [],
   "source": [
    "def loadChartData():\n",
    "    mularts = getMA()\n",
    "    artistAlbumData = getArtistAlbumData()\n",
    "    allArtists      = list(artistAlbumData.keys())\n",
    "    print(\"There are {0} artist album entries\".format(len(artistAlbumData)))\n",
    "\n",
    "    fullChartData = getFullChartArtistAlbumData()\n",
    "\n",
    "    manyArtists   = [artist for artist in list(artistAlbumData.keys()) if len(mularts.getArtistNames(artist)) > 1]\n",
    "    manyArtistAlbums = {artist: {\"Artists\": mularts.getArtistNames(artist)} for artist in manyArtists}\n",
    "    print(\"There are {0} many artist entries\".format(len(manyArtists)))\n",
    "\n",
    "    singleArtists   = [artist for artist in list(artistAlbumData.keys()) if len(mularts.getArtistNames(artist)) == 1]\n",
    "    print(\"There are {0} single artist entries\".format(len(singleArtists)))\n",
    "\n",
    "    _, _ = clock(\"Last Run\")\n",
    "    \n",
    "    return mularts, artistAlbumData, allArtists, fullChartData, manyArtists, manyArtistAlbums, singleArtists\n",
    "\n",
    "\n",
    "\n",
    "\n",
    "def loadMatchedChartData(singleArtists, manyArtists, artistAlbumData, mularts, init=False):\n",
    "    matchedChartResults = getMatchedChartArtists(init=init)\n",
    "    print(\"=\"*100)\n",
    "    print(\"There are {0} matched chart artists\".format(len(matchedChartResults)))\n",
    "    print(\"=\"*50,\"Single\",\"=\"*50)\n",
    "\n",
    "    singleArtistStatus     = {singleArtist: matchedChartResults.get(singleArtist) is not None for singleArtist in singleArtists}\n",
    "    singleArtistAlbums     = {}\n",
    "    for singleArtist in singleArtists:\n",
    "        singleArtistAlbums[singleArtist] = artistAlbumData[singleArtist]\n",
    "    matchedSingleArtists   = [singleArtist for singleArtist,isMatched in singleArtistStatus.items() if isMatched is True]\n",
    "    unMatchedSingleArtists = [singleArtist for singleArtist,isMatched in singleArtistStatus.items() if isMatched is False]\n",
    "    print(\"There are {0} single Artists\".format(len(singleArtistStatus)))\n",
    "    print(\"There are {0} matched Artists\".format(len(matchedSingleArtists)))\n",
    "    print(\"There are {0} unMatched Artists\".format(len(unMatchedSingleArtists)))\n",
    "    print(\"=\"*50,\"Many\",\"=\"*50)\n",
    "\n",
    "    artistRenames = getArtistRenames()\n",
    "    manySingleArtists      = {manyArtist: list(mularts.getArtistNames(manyArtist).keys()) for manyArtist in manyArtists}\n",
    "    manySingleArtistStatus = {}\n",
    "    manySingleArtistAlbums = {}\n",
    "    for manyArtist, manySingleArtistValues in manySingleArtists.items():\n",
    "        for manySingleArtist in manySingleArtistValues:\n",
    "            if len(manySingleArtist) == 0:\n",
    "                continue\n",
    "            renamedManySingleArtist = artistRenames.get(manySingleArtist)\n",
    "            if renamedManySingleArtist is not None:\n",
    "                print(\"\\t{0}  <---- From ---- {1}\".format(renamedManySingleArtist, manySingleArtist))\n",
    "                manySingleArtist = renamedManySingleArtist\n",
    "\n",
    "            if artistAlbumData.get(manySingleArtist) is None:\n",
    "                artistAlbumData[manySingleArtist] = []\n",
    "            artistAlbumData[manySingleArtist] += artistAlbumData[manyArtist]\n",
    "            if manySingleArtistStatus.get(manySingleArtist) is None:\n",
    "                manySingleArtistStatus[manySingleArtist] = matchedChartResults.get(manySingleArtist) is not None\n",
    "                manySingleArtistAlbums[manySingleArtist] = {}\n",
    "            manySingleArtistAlbums[manySingleArtist][manyArtist] = artistAlbumData[manyArtist]\n",
    "\n",
    "    matchedSingleManyArtists   = [singleArtist for singleArtist,isMatched in manySingleArtistStatus.items() if isMatched is True]\n",
    "    unMatchedSingleManyArtists = [singleArtist for singleArtist,isMatched in manySingleArtistStatus.items() if isMatched is False]\n",
    "\n",
    "    print(\"There are {0} many Artists\".format(len(manySingleArtists)))\n",
    "    print(\"There are {0} many single Artists\".format(len(manySingleArtistStatus)))\n",
    "    print(\"There are {0} matched many single Artists\".format(len(matchedSingleManyArtists)))\n",
    "    print(\"There are {0} unMatched many single Artists\".format(len(unMatchedSingleManyArtists)))\n",
    "    print(\"=\"*100)\n",
    "    _, _ = clock(\"Last Run\")\n",
    "    \n",
    "    return matchedChartResults, unMatchedSingleArtists, singleArtistAlbums, unMatchedSingleManyArtists, manySingleArtistAlbums"
   ]
  },
  {
   "cell_type": "code",
   "execution_count": null,
   "metadata": {},
   "outputs": [],
   "source": [
    "known = {}\n",
    "for name,results in bestRenames.items():\n",
    "    print(\"del matchedChartResultsBillboard[\\\"{0}\\\"]\".format(name))\n",
    "    for v in results:\n",
    "        if name == v:\n",
    "            continue\n",
    "        if known.get(v) is None:\n",
    "            print(\"newRenames[\\\"{0}\\\"] = \\\"{1}\\\"\".format(v,name))\n",
    "            print(\"del matchedChartResultsBillboard[\\\"{0}\\\"]\".format(v))\n",
    "            if name.startswith(\"The \"):\n",
    "                print(\"newRenames[\\\"The {0}\\\"] = \\\"{0}\\\"\".format(name))\n",
    "            known[v] = True\n",
    "    print(\"\")"
   ]
  },
  {
   "cell_type": "code",
   "execution_count": null,
   "metadata": {},
   "outputs": [],
   "source": []
  },
  {
   "cell_type": "code",
   "execution_count": null,
   "metadata": {},
   "outputs": [],
   "source": []
  },
  {
   "cell_type": "code",
   "execution_count": null,
   "metadata": {},
   "outputs": [],
   "source": []
  },
  {
   "cell_type": "code",
   "execution_count": null,
   "metadata": {},
   "outputs": [],
   "source": []
  },
  {
   "cell_type": "code",
   "execution_count": null,
   "metadata": {},
   "outputs": [],
   "source": [
    "def saveMatchedChartArtists(matchedChartResults, ctype=None):\n",
    "    if ctype is None:\n",
    "        ctype = chartType\n",
    "    if ctype == \"Billboard\":\n",
    "        print(\"Saving {0} artists to {1}\".format(len(matchedChartResults), \"matchedBillboardChartArtists.p\"))\n",
    "        saveFile(idata=matchedChartResults, ifile=\"matchedBillboardChartArtists.p\", debug=True)\n",
    "    elif ctype == \"Top40\":\n",
    "        print(\"Saving {0} artists to {1}\".format(len(matchedChartResults), \"matchedTop40ChartArtists.p\"))\n",
    "        saveFile(idata=matchedChartResults, ifile=\"matchedTop40ChartArtists.p\", debug=True)\n",
    "    else:\n",
    "        raise ValueError(\"Could not find data for chart type: {0}\".format(ctype))\n",
    "\n",
    "\n",
    "def getMatchedChartArtists(ctype=None, init=False):\n",
    "    if ctype is None:\n",
    "        ctype = chartType\n",
    "    if ctype == \"Billboard\":\n",
    "        matchedChartResults = getFile(ifile=\"matchedBillboardChartArtists.p\", debug=True)\n",
    "        print(\"There are {0} previously matched artists\".format(len(matchedChartResults)))\n",
    "    elif ctype == \"Top40\":\n",
    "        matchedChartResults = getFile(ifile=\"matchedTop40ChartArtists.p\", debug=True)\n",
    "        #matchedChartResults = {}\n",
    "        print(\"There are {0} previously matched artists\".format(len(matchedChartResults)))\n",
    "    else:\n",
    "        raise ValueError(\"Could not find data for chart type: {0}\".format(ctype))\n",
    "        \n",
    "    if init is True:\n",
    "        print(\"You are initializing the matched chart artists!!!!\")\n",
    "        matchedChartResults = {}\n",
    "    return matchedChartResults"
   ]
  },
  {
   "cell_type": "code",
   "execution_count": null,
   "metadata": {},
   "outputs": [],
   "source": []
  },
  {
   "cell_type": "code",
   "execution_count": null,
   "metadata": {},
   "outputs": [],
   "source": [
    "def getArtistAlbumData(ctype=None):\n",
    "    if ctype is None:\n",
    "        ctype = chartType\n",
    "    if ctype == \"Billboard\":\n",
    "        artistAlbumData = getFile(ifile=\"currentBillboardArtistAlbumData.p\", debug=True)\n",
    "    elif ctype == \"Top40\":\n",
    "        artistAlbumData = getFile(ifile=\"currentTop40ArtistAlbumData.p\", debug=True)\n",
    "    else:\n",
    "        raise ValueError(\"Could not find data for chart type: {0}\".format(ctype))\n",
    "    return artistAlbumData\n",
    "\n",
    "def getFullChartArtistAlbumData(ctype=None):\n",
    "    if ctype is None:\n",
    "        ctype = chartType\n",
    "    if ctype == \"Billboard\":\n",
    "        fullChartData = getFile(ifile=\"currentBillboardFullChartArtistAlbumData.p\", debug=True)\n",
    "    elif ctype == \"Top40\":\n",
    "        fullChartData = getFile(ifile=\"currentTop40FullChartArtistAlbumData.p\", debug=True)\n",
    "    else:\n",
    "        raise ValueError(\"Could not find data for chart type: {0}\".format(ctype))\n",
    "    return fullChartData"
   ]
  },
  {
   "cell_type": "code",
   "execution_count": null,
   "metadata": {},
   "outputs": [],
   "source": [
    "def updateMatchChartResults(latestResults, matchedChartResults):\n",
    "    update=False\n",
    "    nAdded=0\n",
    "    for latestArtist,latestArtistResults in DataFrame(latestResults).to_dict().items():\n",
    "        matches = sum([True for x in latestArtistResults.values() if x is not None])\n",
    "        if matches == 0:\n",
    "            continue\n",
    "        if matchedChartResults.get(latestArtist) is None:\n",
    "            pass\n",
    "            update = True\n",
    "            nAdded += 1\n",
    "            #print(\"   Adding artist {0}\".format(latestArtist))\n",
    "            matchedChartResults[latestArtist] = latestArtistResults\n",
    "        else:\n",
    "            for db,dbID in latestArtistResults.items():\n",
    "                if dbID is not None:\n",
    "                    if matchedChartResults[latestArtist].get(db) is None:\n",
    "                        pass\n",
    "                        update = True\n",
    "                        print(latestArtist)\n",
    "                        print(\"      Setting {0} ID to {1}\".format(db,dbID))\n",
    "                        matchedChartResults[latestArtist][db] = str(dbID)\n",
    "                    else:\n",
    "                        if str(matchedChartResults[latestArtist][db]) != str(dbID):\n",
    "                            raise ValueError(\"Error with db {0} for artist {1}, possibles [{2},{3}]\".format(db, latestArtist, dbID, dbID, matchedChartResults[latestArtist][db]))\n",
    "                            \n",
    "    print(\"Added {0} new artists to the chart results\".format(nAdded))\n",
    "    return matchedChartResults, update"
   ]
  },
  {
   "cell_type": "code",
   "execution_count": null,
   "metadata": {},
   "outputs": [],
   "source": [
    "for k,v in matchedRenames.items():\n",
    "    print(\"{0}: {1}\".format(k,v))"
   ]
  },
  {
   "cell_type": "code",
   "execution_count": null,
   "metadata": {},
   "outputs": [],
   "source": [
    "del matchedChartResultsTop40[\"The Notorious B.I.G.\"]\n",
    "del Ha Rule\n"
   ]
  },
  {
   "cell_type": "code",
   "execution_count": null,
   "metadata": {},
   "outputs": [],
   "source": [
    "for i in range(100):\n",
    "    print(\"renames[\\\"\\\"] = \"\")"
   ]
  },
  {
   "cell_type": "code",
   "execution_count": null,
   "metadata": {},
   "outputs": [],
   "source": []
  },
  {
   "cell_type": "code",
   "execution_count": null,
   "metadata": {},
   "outputs": [],
   "source": []
  },
  {
   "cell_type": "code",
   "execution_count": null,
   "metadata": {},
   "outputs": [],
   "source": []
  },
  {
   "cell_type": "code",
   "execution_count": null,
   "metadata": {},
   "outputs": [],
   "source": [
    "\n",
    "#    print(artist)\n",
    "dbArtistData"
   ]
  },
  {
   "cell_type": "code",
   "execution_count": null,
   "metadata": {},
   "outputs": [],
   "source": [
    "def updateDataFrame(dictVal):\n",
    "    df = DataFrame(dictVal)\n",
    "    dfT = df.T\n",
    "    dfT[\"Matched\"] = df.count(axis = 0)\n",
    "    artistAlbums   = {artist: {\"Num\": len(artistAlbumData[artist]), \"Albums\": artistAlbumData[artist]} for artist in list(dfT.index)}\n",
    "    artistAlbumsDF = DataFrame(artistAlbums).T\n",
    "    dfT = dfT.join(artistAlbumsDF)\n",
    "    \n",
    "    print(\"Number of Entries in Stuff:         {0}\".format((dfT.shape)))\n",
    "    print(\"Number of Zero Matches in Stuff:    {0}\".format((dfT[dfT[\"Matched\"] == 0].shape)))\n",
    "    print(\"Number of NonZero Matches in Stuff: {0}\".format((dfT[dfT[\"Matched\"] > 0].shape)))    \n",
    "    print(\"\")\n",
    "    return dfT.copy(deep=True)"
   ]
  },
  {
   "cell_type": "code",
   "execution_count": null,
   "metadata": {},
   "outputs": [],
   "source": [
    "def updateArtistAlumData():\n",
    "    artistRenames = {}\n",
    "    artistRenameData = getFile(\"renames2.yaml\")\n",
    "    print(\"There are {0} artist renames\".format(len(artistRenameData)))\n",
    "    \n",
    "    artistAlbumData = getFile(ifile=\"currentArtistAlbumData.p\", debug=True)\n",
    "    print(\"There are {0} artist album entries\".format(len(artistAlbumData)))\n",
    "    \n",
    "    for artist,rename in artistRenameData.items():\n",
    "        if artistAlbumData.get(rename) is None and artistAlbumData.get(artist) is not None:\n",
    "            artistAlbumData[rename] = artistAlbumData[artist]\n",
    "            del artistAlbumData[artist]\n",
    "            continue\n",
    "            \n",
    "        if artistAlbumData.get(rename) is not None and artistAlbumData.get(artist) is None:\n",
    "            continue\n",
    "            \n",
    "        if artistAlbumData.get(rename) is None and artistAlbumData.get(artist) is None:\n",
    "            #print(\"Neither {0} nor {1} exist\".format(rename, artist))\n",
    "            continue\n",
    "\n",
    "        if artistAlbumData.get(rename) is not None and artistAlbumData.get(artist) is not None:\n",
    "            tmp = artistAlbumData[artist] + artistAlbumData[rename]\n",
    "            artistAlbumData[rename] = tmp\n",
    "            print(\"Removing [{0}] and keeping [{1}]\".format(artist, rename))\n",
    "            del artistAlbumData[artist]\n",
    "            \n",
    "    print(\"There are {0} artist album entries\".format(len(artistAlbumData)))    \n",
    "    saveFile(idata=artistAlbumData, ifile=\"currentArtistAlbumData.p\", debug=True)"
   ]
  },
  {
   "cell_type": "code",
   "execution_count": null,
   "metadata": {},
   "outputs": [],
   "source": [
    "def removeUnmatchedEntries():\n",
    "    dels = []\n",
    "    for latestArtist in list(matchedChartResults.keys()):\n",
    "        matches = sum([True for x in matchedChartResults[latestArtist].values() if x is not None])\n",
    "        if matches == 0:\n",
    "            dels.append(latestArtist)\n",
    "\n",
    "    print(len(matchedChartResults))\n",
    "    matchedChartResults = {k: v for k,v in matchedChartResults.items() if k not in dels}\n",
    "    print(len(dels))\n",
    "    print(len(matchedChartResults))\n",
    "    saveFile(idata=matchedChartResults, ifile=\"matchedChartArtists.p\", debug=True)"
   ]
  },
  {
   "cell_type": "code",
   "execution_count": null,
   "metadata": {},
   "outputs": [],
   "source": [
    "for i,artist in enumerate(unMatchedSingleArtists + unMatchedSingleManyArtists):\n",
    "    retvals = findNearest(artist, myArtists, num=2, cutoff=0.9)\n",
    "    print(i,'\\t',artist,'\\t',retvals)"
   ]
  },
  {
   "cell_type": "code",
   "execution_count": null,
   "metadata": {},
   "outputs": [],
   "source": []
  },
  {
   "cell_type": "code",
   "execution_count": null,
   "metadata": {},
   "outputs": [],
   "source": []
  },
  {
   "cell_type": "code",
   "execution_count": null,
   "metadata": {},
   "outputs": [],
   "source": [
    "mularts = getMA()\n",
    "artist = \"Drake And Future\"\n",
    "mularts.getArtistNames(artist)\n",
    "mularts.delims"
   ]
  },
  {
   "cell_type": "code",
   "execution_count": null,
   "metadata": {},
   "outputs": [],
   "source": [
    "\n",
    "print(fullChartData[artist])\n",
    "print(artistAlbumData[artist])"
   ]
  },
  {
   "cell_type": "code",
   "execution_count": null,
   "metadata": {},
   "outputs": [],
   "source": [
    "matchedChartResults[\"\"]"
   ]
  },
  {
   "cell_type": "code",
   "execution_count": null,
   "metadata": {},
   "outputs": [],
   "source": []
  },
  {
   "cell_type": "markdown",
   "metadata": {},
   "source": [
    "# Rank Chart Data"
   ]
  },
  {
   "cell_type": "code",
   "execution_count": null,
   "metadata": {},
   "outputs": [],
   "source": [
    "mmb = myMusicBase(debug=True)\n",
    "mmb.findArtistAlbums(count=False)"
   ]
  },
  {
   "cell_type": "code",
   "execution_count": null,
   "metadata": {},
   "outputs": [],
   "source": [
    "from listUtils import getFlatList\n",
    "from searchUtils import findNearest\n",
    "def getMatchedAlbums(artistName):\n",
    "    artistAlbums = mmb.getArtistAlbumsByArtist(artistName)\n",
    "    if artistAlbums.get(\"Match\") is not None:\n",
    "        matchedAlbums = getFlatList(artistAlbums[\"Match\"].getAlbums().values())\n",
    "        return matchedAlbums\n",
    "    else:\n",
    "        return None\n",
    "\n",
    "def isKnownAlbum(artistName, albumName):\n",
    "    albums  = getMatchedAlbums(artistName)\n",
    "    if albums is None:\n",
    "        return None\n",
    "    matches = findNearest(albumName, albums, num=1, cutoff=0.8)\n",
    "    if len(matches) == 1:\n",
    "        return True\n",
    "    return False\n",
    "\n",
    "def isKnownArtist(artistName):\n",
    "    allArtists = mmb.getArtists()\n",
    "    matches    = findNearest(artistName, allArtists, num=1, cutoff=0.80)    \n",
    "    if len(matches) == 1:\n",
    "        return matches[0]\n",
    "    return None"
   ]
  },
  {
   "cell_type": "code",
   "execution_count": null,
   "metadata": {},
   "outputs": [],
   "source": [
    "from collections import Counter\n",
    "albums = Counter()\n",
    "songs  = Counter()"
   ]
  },
  {
   "cell_type": "code",
   "execution_count": null,
   "metadata": {},
   "outputs": [],
   "source": [
    "def albumKey(artist, album):\n",
    "    key = \"   :::   \".join([artist, album])\n",
    "    return key\n",
    "    \n",
    "def songKey(artist, song):\n",
    "    key = \"   :::   \".join([artist, song])\n",
    "    return key\n",
    "\n",
    "for artist, artistData in fullChartData.items():\n",
    "    artistAlbums = artistData[\"Albums\"]\n",
    "    for album,albumData in artistAlbums.items():\n",
    "        key = albumKey(artist, album)\n",
    "        albums[key] = 0\n",
    "        for chart,albumChartData in albumData.items():\n",
    "            albums[key] += len(albumChartData.values())"
   ]
  },
  {
   "cell_type": "code",
   "execution_count": null,
   "metadata": {},
   "outputs": [],
   "source": [
    "def findArtistRenames(albums):\n",
    "    for item in albums.most_common():\n",
    "        cnt = item[1]\n",
    "        artist,album = item[0].split(\"   :::   \")\n",
    "        knownArtist = isKnownArtist(artist)\n",
    "        if knownArtist is None:\n",
    "            continue\n",
    "        if artist == knownArtist:\n",
    "            continue\n",
    "        print(\": \".join([artist,knownArtist]))\n",
    "findArtistRenames(albums)"
   ]
  },
  {
   "cell_type": "code",
   "execution_count": null,
   "metadata": {},
   "outputs": [],
   "source": [
    "for item in albums.most_common():\n",
    "    cnt = item[1]\n",
    "    if cnt < 2:\n",
    "        continue\n",
    "    artist,album = item[0].split(\"   :::   \")\n",
    "    knownArtist = isKnownArtist(artist)\n",
    "    \n",
    "    known = isKnownAlbum(artist,album)\n",
    "    if known is None:\n",
    "        known = \"Get\"\n",
    "    else:\n",
    "        if known is True:\n",
    "            known = \"\"\n",
    "        else:\n",
    "            known = \"--->\"\n",
    "    if len(known) > 0:\n",
    "        print(\"{0: <5}{1: <8}{2: <35}{3: <50}\".format(cnt,known,artist,album))"
   ]
  },
  {
   "cell_type": "markdown",
   "metadata": {},
   "source": [
    "***\n",
    "***"
   ]
  },
  {
   "cell_type": "code",
   "execution_count": null,
   "metadata": {},
   "outputs": [],
   "source": []
  },
  {
   "cell_type": "code",
   "execution_count": null,
   "metadata": {},
   "outputs": [],
   "source": [
    "for artist in matchedChartResults.keys():\n",
    "    mb = matchedChartResults[artist][\"AllMusic\"]\n",
    "    if mb is not None:\n",
    "        try:\n",
    "            int(mb)\n",
    "        except:\n",
    "            print(artist,mb)\n",
    "            mb = str(mb[2:])\n",
    "            print(artist,mb)\n",
    "            matchedChartResults[artist][\"AllMusic\"] = mb"
   ]
  },
  {
   "cell_type": "code",
   "execution_count": null,
   "metadata": {},
   "outputs": [],
   "source": [
    "print(\"Saving {0} artists to {1}\".format(len(matchedChartResults), \"matchedChartArtists.p\"))\n",
    "saveFile(idata=matchedChartResults, ifile=\"matchedChartArtists.p\", debug=True)"
   ]
  },
  {
   "cell_type": "code",
   "execution_count": null,
   "metadata": {},
   "outputs": [],
   "source": []
  },
  {
   "cell_type": "code",
   "execution_count": null,
   "metadata": {},
   "outputs": [],
   "source": []
  },
  {
   "cell_type": "code",
   "execution_count": null,
   "metadata": {},
   "outputs": [],
   "source": []
  },
  {
   "cell_type": "code",
   "execution_count": null,
   "metadata": {},
   "outputs": [],
   "source": []
  },
  {
   "cell_type": "code",
   "execution_count": null,
   "metadata": {},
   "outputs": [],
   "source": []
  },
  {
   "cell_type": "code",
   "execution_count": null,
   "metadata": {},
   "outputs": [],
   "source": []
  },
  {
   "cell_type": "code",
   "execution_count": null,
   "metadata": {},
   "outputs": [],
   "source": []
  },
  {
   "cell_type": "code",
   "execution_count": null,
   "metadata": {},
   "outputs": [],
   "source": []
  },
  {
   "cell_type": "code",
   "execution_count": null,
   "metadata": {},
   "outputs": [],
   "source": [
    "dfLatest = updateDataFrame(latestResults)\n",
    "dfLatest\n",
    "#dfTnew   = updateDataFrame(newSaveData)\n",
    "#dfTnew"
   ]
  },
  {
   "cell_type": "code",
   "execution_count": null,
   "metadata": {},
   "outputs": [],
   "source": [
    "latestResults"
   ]
  },
  {
   "cell_type": "code",
   "execution_count": null,
   "metadata": {},
   "outputs": [],
   "source": [
    "dfT      = updateDataFrame(matchedChartResults)\n",
    "dfLatest = updateDataFrame(latestResults)\n",
    "dfTnew   = updateDataFrame(newSaveData)\n",
    "_, _ = clock(\"Last Run\")"
   ]
  },
  {
   "cell_type": "code",
   "execution_count": null,
   "metadata": {},
   "outputs": [],
   "source": [
    "print(\"There are {0} updated matched artists\".format(len(newSaveData)))\n",
    "saveFile(idata=newSaveData, ifile=\"matchedChartArtists.p\", debug=True)\n",
    "_, _ = clock(\"Last Run\")"
   ]
  },
  {
   "cell_type": "code",
   "execution_count": null,
   "metadata": {},
   "outputs": [],
   "source": [
    "matchedChartResults = getFile(ifile=\"matchedChartArtists.p\", debug=True)\n",
    "dfT = updateDataFrame(matchedChartResults)\n",
    "\n",
    "results = dfT[dfT[\"Matched\"] == 0]\n",
    "print(\"There are {0} un matched entries.\".format(results.shape[0]))\n",
    "saveFile(idata=results, ifile=\"NoChartMatches.p\", debug=True)\n",
    "results = dfT[dfT[\"Matched\"] > 0]\n",
    "print(\"There are {0} matched entries.\".format(results.shape[0]))\n",
    "saveFile(idata=results, ifile=\"FewChartMatches.p\", debug=True)\n",
    "_, _ = clock(\"Last Run\")"
   ]
  },
  {
   "cell_type": "markdown",
   "metadata": {},
   "source": [
    "***\n",
    "***\n",
    "***"
   ]
  },
  {
   "cell_type": "markdown",
   "metadata": {},
   "source": [
    "# Loop over unmatched artists"
   ]
  },
  {
   "cell_type": "code",
   "execution_count": null,
   "metadata": {},
   "outputs": [],
   "source": [
    "unmatchedArtists = getFile(ifile=\"NoChartMatches.p\", debug=True)\n",
    "print(\"There are {0} previously unmatched artists\".format(unmatchedArtists.shape))\n",
    "unmatchedArtists"
   ]
  },
  {
   "cell_type": "code",
   "execution_count": null,
   "metadata": {},
   "outputs": [],
   "source": [
    "for artist in unmatchedArtists.list:\n",
    "    if artist.count(\"'\") >= 2:\n",
    "        print(artist)"
   ]
  },
  {
   "cell_type": "code",
   "execution_count": null,
   "metadata": {},
   "outputs": [],
   "source": [
    "unmatchedArtistsToMatch = list(unmatchedArtists.index)\n",
    "nProc = 8\n",
    "tmp   = unmatchedArtistsToMatch\n",
    "start, cmt = clock(\"Trying N={0} and L={1}\".format(nProc, len(tmp)))\n",
    "retval = poolProc(nProc, tmp)\n",
    "elapsed(start, cmt)"
   ]
  },
  {
   "cell_type": "code",
   "execution_count": null,
   "metadata": {},
   "outputs": [],
   "source": [
    "if len(retval) > 0:\n",
    "    latestResults = dict(zip(tmp, retval))\n",
    "else:\n",
    "    latestResults = {}\n",
    "newSaveData = {**matchedChartResults, **latestResults}\n",
    "_, _ = clock(\"Last Run\")"
   ]
  },
  {
   "cell_type": "code",
   "execution_count": null,
   "metadata": {},
   "outputs": [],
   "source": []
  },
  {
   "cell_type": "code",
   "execution_count": null,
   "metadata": {},
   "outputs": [],
   "source": [
    "dfT      = updateDataFrame(matchedChartResults)\n",
    "dfLatest = updateDataFrame(latestResults)\n",
    "dfTnew   = updateDataFrame(newSaveData)\n",
    "_, _ = clock(\"Last Run\")"
   ]
  },
  {
   "cell_type": "code",
   "execution_count": null,
   "metadata": {},
   "outputs": [],
   "source": [
    "print(\"There are {0} updated matched artists\".format(len(newSaveData)))\n",
    "saveFile(idata=newSaveData, ifile=\"matchedChartArtists.p\", debug=True)\n",
    "_, _ = clock(\"Last Run\")"
   ]
  },
  {
   "cell_type": "code",
   "execution_count": null,
   "metadata": {},
   "outputs": [],
   "source": [
    "matchedChartResults = getFile(ifile=\"matchedChartArtists.p\", debug=True)\n",
    "dfT      = updateDataFrame(matchedChartResults)\n",
    "results = dfT[dfT[\"Matched\"] == 0]\n",
    "print(\"There are {0} un matched entries.\".format(results.shape[0]))\n",
    "saveFile(idata=results, ifile=\"NoChartMatches.p\", debug=True)\n",
    "results = dfT[dfT[\"Matched\"] > 0]\n",
    "print(\"There are {0} matched entries.\".format(results.shape[0]))\n",
    "saveFile(idata=results, ifile=\"FewChartMatches.p\", debug=True)\n",
    "_, _ = clock(\"Last Run\")"
   ]
  },
  {
   "cell_type": "code",
   "execution_count": null,
   "metadata": {},
   "outputs": [],
   "source": []
  },
  {
   "cell_type": "markdown",
   "metadata": {},
   "source": [
    "***\n",
    "***\n",
    "***"
   ]
  },
  {
   "cell_type": "markdown",
   "metadata": {},
   "source": [
    "# Test 'The'"
   ]
  },
  {
   "cell_type": "code",
   "execution_count": null,
   "metadata": {},
   "outputs": [],
   "source": [
    "unmatchedArtists = getFile(ifile=\"NoChartMatches.p\", debug=True)\n",
    "print(\"There are {0} previously unmatched artists\".format(unmatchedArtists.shape))\n",
    "unmatchedArtists"
   ]
  },
  {
   "cell_type": "code",
   "execution_count": null,
   "metadata": {},
   "outputs": [],
   "source": [
    "nProc = 8\n",
    "tmp   = list(unmatchedArtists.index)\n",
    "start, cmt = clock(\"Trying N={0} and L={1}\".format(nProc, len(tmp)))\n",
    "retval = poolProcThe(nProc, tmp)\n",
    "elapsed(start, cmt)"
   ]
  },
  {
   "cell_type": "code",
   "execution_count": null,
   "metadata": {},
   "outputs": [],
   "source": [
    "df = DataFrame(dict(zip(tmp, retval)))\n",
    "dfT = df.T\n",
    "dfT[\"Matched\"] = df.count(axis = 0)\n",
    "artistAlbums   = {artist: {\"Num\": len(artistAlbumData[artist]), \"Albums\": artistAlbumData[artist]} for artist in list(dfT.index)}\n",
    "artistAlbumsDF = DataFrame(artistAlbums).T\n",
    "dfT = dfT.join(artistAlbumsDF)"
   ]
  },
  {
   "cell_type": "code",
   "execution_count": null,
   "metadata": {},
   "outputs": [],
   "source": [
    "theArtists = list(dfT[dfT[\"Matched\"] > 0].index)\n",
    "vals = {artist: \"The {0}\".format(artist) for artist in theArtists}\n",
    "saveFile(idata=vals, ifile=\"tmp.yaml\")"
   ]
  },
  {
   "cell_type": "code",
   "execution_count": null,
   "metadata": {},
   "outputs": [],
   "source": [
    "# ELO"
   ]
  },
  {
   "cell_type": "code",
   "execution_count": null,
   "metadata": {},
   "outputs": [],
   "source": []
  },
  {
   "cell_type": "code",
   "execution_count": null,
   "metadata": {},
   "outputs": [],
   "source": []
  },
  {
   "cell_type": "code",
   "execution_count": null,
   "metadata": {},
   "outputs": [],
   "source": []
  },
  {
   "cell_type": "code",
   "execution_count": null,
   "metadata": {},
   "outputs": [],
   "source": []
  },
  {
   "cell_type": "markdown",
   "metadata": {},
   "source": [
    "# Rename Code"
   ]
  },
  {
   "cell_type": "code",
   "execution_count": null,
   "metadata": {},
   "outputs": [],
   "source": [
    "renames = {}\n",
    "\n",
    "singleArtists = [artist for artist in list(artistAlbumData.keys()) if len(mularts.getArtistNames(artist)) == 1]\n",
    "result = {}\n",
    "for artist in singleArtists:\n",
    "    retvals = findNearest(artist, artistAlbumData.keys(), num=2, cutoff=0.95)\n",
    "    if len(retvals) == 2:\n",
    "        nretvals = [x for x in retvals if x != artist]\n",
    "        num = len(artistAlbumData[artist])\n",
    "        if num >= 2:\n",
    "            print(\"{0: <40}{1: <10}{2}\".format(artist,num,nretvals[0]))\n",
    "            #print(\"renames[\\\"{0}\\\"] = \\\"\\\"\".format(val))\n",
    "            result[artist] = {\"Num\": num, \"Possible\": nretvals[0]}"
   ]
  },
  {
   "cell_type": "code",
   "execution_count": null,
   "metadata": {},
   "outputs": [],
   "source": [
    "renames = {}\n",
    "for artist in result.keys():\n",
    "    possible = result[artist][\"Possible\"]\n",
    "    if result.get(possible) is not None:\n",
    "        if result[possible][\"Num\"] > result[artist][\"Num\"]:\n",
    "            continue\n",
    "    if renames.get(artist) is None:\n",
    "        renames[artist] = []\n",
    "    if possible not in renames[artist]:\n",
    "        renames[artist].append(possible)\n",
    "    #print(\"renames[\\\"{0}\\\"] = \\\"{1}\\\"\".format(possible, artist))\n",
    "saveFile(idata=renames, ifile=\"renames.yaml\", debug=True)"
   ]
  },
  {
   "cell_type": "code",
   "execution_count": null,
   "metadata": {},
   "outputs": [],
   "source": [
    "matchedChartResults = getFile(ifile=\"matchedChartArtists.p\", debug=True)"
   ]
  },
  {
   "cell_type": "markdown",
   "metadata": {},
   "source": [
    "***\n",
    "***\n",
    "***"
   ]
  },
  {
   "cell_type": "code",
   "execution_count": null,
   "metadata": {},
   "outputs": [],
   "source": []
  },
  {
   "cell_type": "markdown",
   "metadata": {},
   "source": [
    "## Artist Renames"
   ]
  },
  {
   "cell_type": "code",
   "execution_count": null,
   "metadata": {},
   "outputs": [],
   "source": []
  },
  {
   "cell_type": "code",
   "execution_count": null,
   "metadata": {},
   "outputs": [],
   "source": []
  },
  {
   "cell_type": "markdown",
   "metadata": {},
   "source": [
    "# Multi Artists Information"
   ]
  },
  {
   "cell_type": "code",
   "execution_count": null,
   "metadata": {},
   "outputs": [],
   "source": []
  },
  {
   "cell_type": "code",
   "execution_count": null,
   "metadata": {},
   "outputs": [],
   "source": []
  },
  {
   "cell_type": "code",
   "execution_count": null,
   "metadata": {},
   "outputs": [],
   "source": [
    "matchedChartResults = getFile(ifile=\"matchedChartArtists.p\", debug=True)\n",
    "from pandas import DataFrame\n",
    "df = DataFrame(matchedChartResults)\n",
    "dfT = df.T\n",
    "print(\"Size of Artists:                        {0}\".format(dfT.shape))\n",
    "dfT[\"Matched\"] = df.count(axis = 0)\n",
    "\n",
    "results = dfT[dfT[\"Matched\"] == 0]\n",
    "saveFile(idata=results, ifile=\"NoChartMatches.p\", debug=True)\n",
    "results = dfT[dfT[\"Matched\"] == 1]\n",
    "saveFile(idata=results, ifile=\"FewChartMatches.p\", debug=True)\n",
    "\n",
    "print(\"Number of Zero Matches in New Stuff:    {0}\".format((dfT[dfT[\"Matched\"] == 0].shape)))\n",
    "print(\"Number of NonZero Matches in New Stuff: {0}\".format((dfT[dfT[\"Matched\"] > 0].shape)))"
   ]
  },
  {
   "cell_type": "code",
   "execution_count": null,
   "metadata": {},
   "outputs": [],
   "source": [
    "matchedChartResults = getFile(ifile=\"matchedChartArtists.p\", debug=True)\n",
    "from pandas import DataFrame\n",
    "df = DataFrame(matchedChartResults)\n",
    "dfT = df.T\n",
    "dfT[\"Matched\"] = df.count(axis = 0)"
   ]
  },
  {
   "cell_type": "code",
   "execution_count": null,
   "metadata": {},
   "outputs": [],
   "source": [
    "renames = {}\n",
    "\n",
    "singleArtists = [artist for artist in list(artistAlbumData.keys()) if len(mularts.getArtistNames(artist)) == 1]\n",
    "result = {}\n",
    "for artist in singleArtists:\n",
    "    retvals = findNearest(artist, artistAlbumData.keys(), num=2, cutoff=0.95)\n",
    "    if len(retvals) == 2:\n",
    "        nretvals = [x for x in retvals if x != artist]\n",
    "        num = len(artistAlbumData[artist])\n",
    "        if num >= 2:\n",
    "            print(\"{0: <40}{1: <10}{2}\".format(artist,num,nretvals[0]))\n",
    "            #print(\"renames[\\\"{0}\\\"] = \\\"\\\"\".format(val))\n",
    "            result[artist] = {\"Num\": num, \"Possible\": nretvals[0]}"
   ]
  },
  {
   "cell_type": "code",
   "execution_count": null,
   "metadata": {},
   "outputs": [],
   "source": [
    "matchedChartResults = getFile(ifile=\"matchedChartArtists.p\", debug=True)\n",
    "from pandas import DataFrame\n",
    "df = DataFrame(matchedChartResults)\n",
    "dfT = df.T\n",
    "dfT[\"Matched\"] = df.count(axis = 0)\n",
    "\n",
    "\n",
    "artistAlbums   = {artist: {\"Num\": len(artistAlbumData[artist]), \"Albums\": artistAlbumData[artist]} for artist in list(dfT.index)}\n",
    "artistAlbumsDF = DataFrame(artistAlbums).T\n",
    "dfT = dfT.join(artistAlbumsDF)\n",
    "print(\"Size of Chart Aritsts:                  {0}\".format(dfT.shape))\n",
    "\n",
    "\n",
    "results = dfT[dfT[\"Matched\"] == 0]\n",
    "saveFile(idata=results, ifile=\"NoChartMatches.p\", debug=True)\n",
    "results = dfT[dfT[\"Matched\"] == 1]\n",
    "saveFile(idata=results, ifile=\"FewChartMatches.p\", debug=True)\n",
    "\n",
    "print(\"Number of Zero Matches in New Stuff:    {0}\".format((dfT[dfT[\"Matched\"] == 0].shape)))\n",
    "print(\"Number of NonZero Matches in New Stuff: {0}\".format((dfT[dfT[\"Matched\"] > 0].shape)))"
   ]
  },
  {
   "cell_type": "code",
   "execution_count": null,
   "metadata": {},
   "outputs": [],
   "source": [
    "matchedChartResults = getFile(ifile=\"matchedChartArtists.p\", debug=True)\n",
    "from pandas import DataFrame\n",
    "df = DataFrame(matchedChartResults)\n",
    "dfT = df.T\n",
    "dfT[\"Matched\"] = df.count(axis = 0)\n",
    "\n",
    "\n",
    "artistAlbums   = {artist: {\"Num\": len(artistAlbumData[artist]), \"Albums\": artistAlbumData[artist]} for artist in list(dfT.index)}\n",
    "artistAlbumsDF = DataFrame(artistAlbums).T\n",
    "dfT = dfT.join(artistAlbumsDF)\n",
    "print(\"Size of Chart Aritsts:                  {0}\".format(dfT.shape))\n",
    "\n",
    "\n",
    "results = dfT[dfT[\"Matched\"] == 0]\n",
    "saveFile(idata=results, ifile=\"NoChartMatches.p\", debug=True)\n",
    "results = dfT[dfT[\"Matched\"] == 1]\n",
    "saveFile(idata=results, ifile=\"FewChartMatches.p\", debug=True)\n",
    "\n",
    "print(\"Number of Zero Matches in New Stuff:    {0}\".format((dfT[dfT[\"Matched\"] == 0].shape)))\n",
    "print(\"Number of NonZero Matches in New Stuff: {0}\".format((dfT[dfT[\"Matched\"] > 0].shape)))"
   ]
  },
  {
   "cell_type": "code",
   "execution_count": null,
   "metadata": {},
   "outputs": [],
   "source": [
    "notAnArtist = [\"Soundtrack\", 'Various', 'Varios']\n",
    "noMatches = getFile(\"NoChartMatches.p\")\n",
    "noMatches.sort_values(\"Num\", ascending=False, inplace=True)\n",
    "ranking = noMatches[[\"Num\", \"Albums\"]]\n",
    "ranking = ranking[~ranking.index.isin(notAnArtist)]\n",
    "toget = list(ranking[ranking[\"Num\"] > 1].index)\n",
    "print(\"Here are {0} artists to get\".format(len(toget)))\n",
    "saveFile(idata=toget, ifile=\"../discogs/unmatchedArtists4.p\")"
   ]
  },
  {
   "cell_type": "markdown",
   "metadata": {},
   "source": [
    "# Merge No Matches"
   ]
  },
  {
   "cell_type": "code",
   "execution_count": null,
   "metadata": {},
   "outputs": [],
   "source": [
    "noChartMatches = getFile(\"NoChartMatches.p\")\n",
    "len(noChartMatches)"
   ]
  },
  {
   "cell_type": "code",
   "execution_count": null,
   "metadata": {},
   "outputs": [],
   "source": []
  },
  {
   "cell_type": "code",
   "execution_count": null,
   "metadata": {},
   "outputs": [],
   "source": [
    "x = \"The Hello\"\n",
    "x[4:]"
   ]
  },
  {
   "cell_type": "markdown",
   "metadata": {},
   "source": [
    "# Pool/Process"
   ]
  },
  {
   "cell_type": "code",
   "execution_count": null,
   "metadata": {},
   "outputs": [],
   "source": []
  },
  {
   "cell_type": "code",
   "execution_count": null,
   "metadata": {},
   "outputs": [],
   "source": [
    "latestResults = dict(zip(tmp, retval))"
   ]
  },
  {
   "cell_type": "code",
   "execution_count": null,
   "metadata": {},
   "outputs": [],
   "source": [
    "from pandas import DataFrame\n",
    "df = DataFrame(matchedChartResults)\n",
    "dfT = df.T\n",
    "dfT[\"Matched\"] = df.count(axis = 0)\n",
    "print(\"Number of Zero Matches: {0}\".format((dfT[dfT[\"Matched\"] == 0].shape)))\n",
    "\n",
    "dfLatest = DataFrame(latestResults)\n",
    "dfLatestT = dfLatest.T\n",
    "dfLatestT[\"Matched\"] = dfLatest.count(axis = 0)\n",
    "print(\"Number of Zero Matches in New Stuff: {0}\".format((dfLatestT[dfLatestT[\"Matched\"] == 0].shape)))\n",
    "print(\"Number of NonZero Matches in New Stuff: {0}\".format((dfLatestT[dfLatestT[\"Matched\"] > 0].shape)))"
   ]
  },
  {
   "cell_type": "code",
   "execution_count": null,
   "metadata": {},
   "outputs": [],
   "source": [
    "newSaveData = {**matchedChartResults, **latestResults}\n",
    "\n",
    "df = DataFrame(newSaveData)\n",
    "dfT = df.T\n",
    "dfT[\"Matched\"] = df.count(axis = 0)\n",
    "print(\"Number of Zero Matches in Updated Stuff: {0}\".format((dfT[dfT[\"Matched\"] == 0].shape)))\n",
    "print(\"Number of NonZero Matches in Updated Stuff: {0}\".format((dfT[dfT[\"Matched\"] > 0].shape)))\n",
    "\n",
    "results = dfT[dfT[\"Matched\"] == 0]\n",
    "saveFile(idata=results, ifile=\"NoChartMatches.p\", debug=True)\n",
    "results = dfT[dfT[\"Matched\"] == 1]\n",
    "saveFile(idata=results, ifile=\"FewChartMatches.p\", debug=True)\n",
    "\n",
    "print(\"Number of Zero Matches in New Stuff:    {0}\".format((dfT[dfT[\"Matched\"] == 0].shape)))\n",
    "print(\"Number of NonZero Matches in New Stuff: {0}\".format((dfT[dfT[\"Matched\"] > 0].shape)))\n",
    "\n",
    "_, _ = clock(\"Last Run\")"
   ]
  },
  {
   "cell_type": "code",
   "execution_count": null,
   "metadata": {},
   "outputs": [],
   "source": [
    "saveFile(idata=newSaveData, ifile=\"matchedChartArtists.p\", debug=True)\n",
    "_, _ = clock(\"Last Run\")"
   ]
  },
  {
   "cell_type": "markdown",
   "metadata": {},
   "source": [
    "# Multi Artists"
   ]
  },
  {
   "cell_type": "code",
   "execution_count": null,
   "metadata": {},
   "outputs": [],
   "source": [
    "manyArtists   = [artist for artist in list(artistAlbumData.keys()) if len(mularts.getArtistNames(artist)) > 1]\n",
    "manyArtistAlbums = {artist: {\"Artists\": mularts.getArtistNames(artist)} for artist in manyArtists}"
   ]
  },
  {
   "cell_type": "code",
   "execution_count": null,
   "metadata": {},
   "outputs": [],
   "source": [
    "DataFrame(manyArtistAlbums).T.head()"
   ]
  },
  {
   "cell_type": "code",
   "execution_count": null,
   "metadata": {},
   "outputs": [],
   "source": [
    "from collections import Counter\n",
    "cntr = Counter()\n",
    "for k,artists in manyArtistAlbums.items():\n",
    "    for artist in artists[\"Artists\"]:\n",
    "        cntr[artist] += 1"
   ]
  },
  {
   "cell_type": "code",
   "execution_count": null,
   "metadata": {},
   "outputs": [],
   "source": [
    "\n",
    "artistAlbums   = {artist: {\"Num\": len(artistAlbumData[artist]), \"Albums\": artistAlbumData[artist]} for artist in list(dfT.index)}"
   ]
  },
  {
   "cell_type": "code",
   "execution_count": null,
   "metadata": {},
   "outputs": [],
   "source": [
    "from pandas import Series\n",
    "multis = Series(cntr).sort_values(ascending=False).to_dict()\n",
    "multis = {k: {\"Chart Counts\": v, \"Num\": artistAlbumData.get(k)} for k,v in multis.items()}\n",
    "for k in multis.keys():\n",
    "    if multis[k][\"Num\"] is not None:\n",
    "        multis[k][\"Num\"] = len(multis[k][\"Num\"])\n",
    "    else:\n",
    "        multis[k][\"Num\"] = 0\n",
    "\n",
    "multisDF = DataFrame(multis).T\n",
    "noMultis = multisDF[multisDF[\"Num\"] == 0]\n",
    "\n",
    "print(\"Here are {0} artists to get\".format(len(noMultis.index)))\n",
    "saveFile(idata=list(noMultis.index), ifile=\"../discogs/unmatchedArtists_Multi.p\")\n"
   ]
  },
  {
   "cell_type": "code",
   "execution_count": null,
   "metadata": {},
   "outputs": [],
   "source": [
    "noMultis"
   ]
  },
  {
   "cell_type": "code",
   "execution_count": null,
   "metadata": {},
   "outputs": [],
   "source": []
  },
  {
   "cell_type": "code",
   "execution_count": null,
   "metadata": {},
   "outputs": [],
   "source": [
    "singleArtists = [artist for artist in list(artistAlbumData.keys()) if len(mularts.getArtistNames(artist)) == 1]\n",
    "artistAlbums  = {artist: {\"Num\": len(artistAlbumData[artist]), \"Albums\": artistAlbumData[artist]} for artist in singleArtists}\n",
    "len(artistAlbums)"
   ]
  },
  {
   "cell_type": "code",
   "execution_count": null,
   "metadata": {},
   "outputs": [],
   "source": [
    "manyArtists   = [artist for artist in list(artistAlbumData.keys()) if len(mularts.getArtistNames(artist)) > 1]\n",
    "manyArtistAlbums = {artist: {\"Num\": len(artistAlbumData[artist]), \"Albums\": artistAlbumData[artist]} for artist in manyArtists}\n",
    "len(manyArtistAlbums)"
   ]
  },
  {
   "cell_type": "code",
   "execution_count": null,
   "metadata": {},
   "outputs": [],
   "source": [
    "from pandas import DataFrame, Series\n",
    "nAlbumsDF = DataFrame(artistAlbums).T\n",
    "#nAlbumsDF.columns = [\"Albums\"]\n",
    "nAlbumsDF.head()"
   ]
  },
  {
   "cell_type": "markdown",
   "metadata": {},
   "source": [
    "***\n",
    "***"
   ]
  },
  {
   "cell_type": "markdown",
   "metadata": {},
   "source": [
    "# Analyze ManyArtists"
   ]
  },
  {
   "cell_type": "code",
   "execution_count": null,
   "metadata": {},
   "outputs": [],
   "source": [
    "from pandas import DataFrame, Series\n",
    "nManyAlbumsDF = DataFrame(manyArtistAlbums).T\n",
    "nManyAlbumsDF = nManyAlbumsDF.sort_values(\"Num\", ascending=False)\n",
    "#nAlbumsDF.columns = [\"Albums\"]\n",
    "print(\"\\n\".join(list(nManyAlbumsDF[nManyAlbumsDF[\"Num\"] >= 4].index)))"
   ]
  },
  {
   "cell_type": "code",
   "execution_count": null,
   "metadata": {},
   "outputs": [],
   "source": []
  },
  {
   "cell_type": "markdown",
   "metadata": {},
   "source": [
    "# Match The Single Artists"
   ]
  },
  {
   "cell_type": "code",
   "execution_count": null,
   "metadata": {},
   "outputs": [],
   "source": [
    "prevResults = {}\n",
    "prevResults = getFile(ifile=\"matchedChartArtists.p\", debug=True)\n",
    "\n",
    "maxI = 4500\n",
    "if maxI == 0:\n",
    "    prevResults = {}\n",
    "print(\"Found {0} previously matched artists\".format(len(prevResults)))"
   ]
  },
  {
   "cell_type": "code",
   "execution_count": null,
   "metadata": {},
   "outputs": [],
   "source": []
  },
  {
   "cell_type": "code",
   "execution_count": null,
   "metadata": {},
   "outputs": [],
   "source": []
  },
  {
   "cell_type": "code",
   "execution_count": null,
   "metadata": {},
   "outputs": [],
   "source": [
    "nProc = 8\n",
    "tmp   = singleArtists[8000:14000]\n",
    "start, cmt = clock(\"Trying N={0} and L={1}\".format(nProc, len(tmp)))\n",
    "retval = poolProc(nProc, tmp)\n",
    "elapsed(start, cmt)"
   ]
  },
  {
   "cell_type": "code",
   "execution_count": null,
   "metadata": {},
   "outputs": [],
   "source": [
    "savedata2 = dict(zip(tmp, retval))\n",
    "len(savedata2)"
   ]
  },
  {
   "cell_type": "code",
   "execution_count": null,
   "metadata": {},
   "outputs": [],
   "source": [
    "oldSaveData = getFile(ifile=\"matchedChartArtists.p\", debug=True)\n",
    "saveFile(idata=oldSaveData, ifile=\"matchedChartArtists_tmp.p\", debug=True)\n",
    "\n",
    "print(\"Num Old Data:  {0}\".format(len(oldSaveData)))\n",
    "print(\"Num Save Data: {0}\".format(len(savedata2)))\n",
    "newSaveData = {**oldSaveData, **savedata2}\n",
    "print(\"Num New Data:  {0}\".format(len(newSaveData)))"
   ]
  },
  {
   "cell_type": "code",
   "execution_count": null,
   "metadata": {},
   "outputs": [],
   "source": [
    "#saveFile(idata=newSaveData, ifile=\"matchedChartArtists.p\", debug=True)\n",
    "oldSaveData = getFile(ifile=\"matchedChartArtists.p\", debug=True)\n",
    "saveFile(idata=oldSaveData, ifile=\"matchedChartArtists_tmp.p\", debug=True)"
   ]
  },
  {
   "cell_type": "markdown",
   "metadata": {},
   "source": [
    "# Load All Matched Single Chart Artists"
   ]
  },
  {
   "cell_type": "code",
   "execution_count": null,
   "metadata": {},
   "outputs": [],
   "source": [
    "maindb = mainDB(create=False)"
   ]
  },
  {
   "cell_type": "code",
   "execution_count": null,
   "metadata": {},
   "outputs": [],
   "source": [
    "\n",
    "dfT = dfT.join(nAlbumsDF)\n",
    "dfT.head()"
   ]
  },
  {
   "cell_type": "code",
   "execution_count": null,
   "metadata": {},
   "outputs": [],
   "source": []
  },
  {
   "cell_type": "code",
   "execution_count": null,
   "metadata": {},
   "outputs": [],
   "source": [
    "noMatches = getFile(\"NoChartMatches.p\")\n",
    "noMatches.sort_values(\"Num\", ascending=False, inplace=True)\n",
    "ranking = noMatches[[\"Num\", \"Albums\"]]\n",
    "ranking = ranking[~ranking.index.isin(notAnArtist)]mcm\n",
    "toget = list(ranking[ranking[\"Num\"] > 2].index)\n",
    "saveFile(idata=toget, ifile=\"../discogs/unmatchedArtists2.p\")"
   ]
  },
  {
   "cell_type": "code",
   "execution_count": null,
   "metadata": {},
   "outputs": [],
   "source": [
    "ranking[ranking.index.str.contains(\"feat\")]"
   ]
  },
  {
   "cell_type": "code",
   "execution_count": null,
   "metadata": {},
   "outputs": [],
   "source": []
  },
  {
   "cell_type": "code",
   "execution_count": null,
   "metadata": {},
   "outputs": [],
   "source": [
    "mdb = myMusicDBMap(debug=False)\n",
    "mdb.getFullDBData()"
   ]
  },
  {
   "cell_type": "code",
   "execution_count": null,
   "metadata": {},
   "outputs": [],
   "source": [
    "from pandas import DataFrame\n",
    "df = DataFrame(matchedChartResults)\n",
    "dfT = df.T\n",
    "dfT[\"Matched\"] = df.count(axis = 0)\n",
    "dfT.head()"
   ]
  },
  {
   "cell_type": "code",
   "execution_count": null,
   "metadata": {},
   "outputs": [],
   "source": []
  },
  {
   "cell_type": "markdown",
   "metadata": {},
   "source": [
    "# Loop Over The No Matches"
   ]
  },
  {
   "cell_type": "code",
   "execution_count": null,
   "metadata": {},
   "outputs": [],
   "source": [
    "unMatchedArtists = getFile(ifile=\"NoChartMatches.p\", debug=True)\n",
    "\n",
    "from multiprocessing import Pool    \n",
    "from time import sleep\n",
    "from copy import deepcopy\n",
    "\n",
    "mdb = myMusicDBMap(debug=False)\n",
    "mdb.getFullDBData()\n",
    "\n",
    "mcm = matchChartMusic(mdb)\n",
    "mularts  = multiartist(cutoff=0.9, discdata=None, exact=False)\n",
    "multiDelimArtists=open(\"../multiartist/multiDelimArtists.dat\").readlines()\n",
    "multiDelimArtists = [x.replace(\"\\n\", \"\") for x in multiDelimArtists]\n",
    "multiDelimArtists[:10]\n",
    "mularts.setKnownMultiDelimArtists(multiDelimArtists)\n",
    "results = {}"
   ]
  },
  {
   "cell_type": "code",
   "execution_count": null,
   "metadata": {},
   "outputs": [],
   "source": [
    "def process(artist):\n",
    "    albums = artistAlbumData[artist]\n",
    "    mcm.setChartArtistData(artist, albums)\n",
    "    retval = mcm.matchChartArtist(ratioCut=0.8, returnData=True)\n",
    "    return retval\n",
    "\n",
    "def poolProc(nProc, tmp):\n",
    "    pool = Pool(processes=nProc)\n",
    "    result = pool.map_async(process, tmp)\n",
    "\n",
    "    while not result.ready():\n",
    "        sleep(10)\n",
    "        print(\"\")\n",
    "        return result.get()\n",
    "\n",
    "nProc = 8\n",
    "tmp   = unMatchedArtists[:4]\n",
    "start, cmt = clock(\"Trying N={0} and L={1}\".format(nProc, len(tmp)))\n",
    "retval = poolProc(nProc, tmp)\n",
    "elapsed(start, cmt)"
   ]
  },
  {
   "cell_type": "code",
   "execution_count": null,
   "metadata": {},
   "outputs": [],
   "source": [
    "matches = dict(zip(tmp, retval))"
   ]
  },
  {
   "cell_type": "code",
   "execution_count": null,
   "metadata": {},
   "outputs": [],
   "source": [
    "matchedChartResults = getFile(ifile=\"matchedChartArtists.p\", debug=True)"
   ]
  },
  {
   "cell_type": "code",
   "execution_count": null,
   "metadata": {},
   "outputs": [],
   "source": [
    "for artist in matches.keys():\n",
    "    matchedChartResults[artist] = matches[artist]\n",
    "saveFile(idata=matchedChartResults, ifile=\"matchedChartArtists.p\", debug=True)"
   ]
  },
  {
   "cell_type": "code",
   "execution_count": null,
   "metadata": {},
   "outputs": [],
   "source": [
    "\n",
    "\n",
    "from pandas import DataFrame\n",
    "df = DataFrame(matches)\n",
    "df\n",
    "dfT = df.T\n",
    "dfT[\"Matched\"] = df.count(axis = 0)\n",
    "dfT.head()\n",
    "dfT[dfT[\"Matched\"] > 0]"
   ]
  },
  {
   "cell_type": "markdown",
   "metadata": {},
   "source": [
    "# Find Errors and Merge DBs"
   ]
  },
  {
   "cell_type": "code",
   "execution_count": null,
   "metadata": {},
   "outputs": [],
   "source": [
    "errors = {}\n",
    "print(\"{0: <20}{1: <15}{2: <40}{3: <40}\".format(\"Artist\", \"DB\", \"My DB ID\", \"Chart DB ID\", \"ERROR\"))\n",
    "for i,artist in enumerate(list(df.columns)):\n",
    "    print(\"{0: <20}\".format(artist), end=\"\")\n",
    "    retval = mdb.getArtistDataIDs(artist)\n",
    "    firstDB = True\n",
    "    for db,dbID in retval.items():\n",
    "        if firstDB is True:\n",
    "            firstDB = False\n",
    "        else:\n",
    "            print(\"{0: <20}\".format(''), end=\"\")\n",
    "        print(\"{0: <15}\".format(db), end=\"\")\n",
    "            \n",
    "        if dbID is None:\n",
    "            print(\"{0: <40}\".format(''), end=\"\")\n",
    "        else:\n",
    "            print(\"{0: <40}\".format(dbID), end=\"\")\n",
    "\n",
    "        chartDBID = df[artist][db]\n",
    "        if chartDBID is None:\n",
    "            print(\"{0: <40}\".format(''), end=\"\")\n",
    "        else:\n",
    "            print(\"{0: <40}\".format(chartDBID), end=\"\")\n",
    "            \n",
    "        if chartDBID is not None and dbID is None:\n",
    "            mdb.add(artist, db, chartDBID)\n",
    "            \n",
    "        if all([dbID,chartDBID]):\n",
    "            if dbID == chartDBID:\n",
    "                pass\n",
    "            else:\n",
    "                print(dbID==chartDBID, end=\"\")\n",
    "                #mdb.add(artist, db, chartDBID)\n",
    "                if errors.get(artist) is None:\n",
    "                    errors[artist] = {}\n",
    "                errors[artist][db] = {\"Mine\": dbID, \"Chart\": chartDBID}\n",
    "        print(\"\")\n",
    "    print(\"\")\n",
    "    if len(errors) > 50:\n",
    "        break"
   ]
  },
  {
   "cell_type": "code",
   "execution_count": null,
   "metadata": {},
   "outputs": [],
   "source": [
    "#maindb.dbdata[\"LastFM\"][\"Utils\"].getArtistID('Morten Harket')\n",
    "#mdb.add(\"Blackstreet\", \"MusicBrainz\", \"78850123839630113234659525690757885261\")\n",
    "#mdb.add(\"214847928836161113317702378728828431474\n",
    "#mdb.save()"
   ]
  },
  {
   "cell_type": "code",
   "execution_count": null,
   "metadata": {},
   "outputs": [],
   "source": []
  },
  {
   "cell_type": "code",
   "execution_count": null,
   "metadata": {},
   "outputs": [],
   "source": [
    "\n",
    "nProc = 4\n",
    "tmp   = deepcopy(singleArtists[:80])\n",
    "start, cmt = clock(\"Trying N={0} and L={1}\".format(nProc, len(tmp)))\n",
    "retval = poolProc(nProc, tmp)\n",
    "elapsed(start, cmt)"
   ]
  },
  {
   "cell_type": "code",
   "execution_count": null,
   "metadata": {},
   "outputs": [],
   "source": [
    "nProc = 4\n",
    "tmp   = deepcopy(singleArtists[:160])\n",
    "start, cmt = clock(\"Trying N={0} and L={1}\".format(nProc, len(tmp)))\n",
    "retval = poolProc(nProc, tmp)\n",
    "elapsed(start, cmt)"
   ]
  },
  {
   "cell_type": "code",
   "execution_count": null,
   "metadata": {},
   "outputs": [],
   "source": [
    "nProc = 4\n",
    "tmp   = deepcopy(singleArtists[:640])\n",
    "start, cmt = clock(\"Trying N={0} and L={1}\".format(nProc, len(tmp)))\n",
    "retval = poolProc(nProc, tmp)\n",
    "elapsed(start, cmt)"
   ]
  },
  {
   "cell_type": "code",
   "execution_count": null,
   "metadata": {},
   "outputs": [],
   "source": [
    "nProc = 8\n",
    "tmp   = deepcopy(singleArtists[:640])\n",
    "start, cmt = clock(\"Trying N={0} and L={1}\".format(nProc, len(tmp)))\n",
    "retval = poolProc(nProc, tmp)\n",
    "elapsed(start, cmt)"
   ]
  },
  {
   "cell_type": "code",
   "execution_count": null,
   "metadata": {},
   "outputs": [],
   "source": []
  },
  {
   "cell_type": "code",
   "execution_count": null,
   "metadata": {},
   "outputs": [],
   "source": [
    "mcm = matchChartMusic(mdb)\n",
    "mularts  = multiartist(cutoff=0.9, discdata=None, exact=False)\n",
    "results = {}\n",
    "\n",
    "\n",
    "n = len(artistAlbumData)\n",
    "from collections import Counter\n",
    "multiCntr = Counter()\n",
    "multis = {}\n",
    "\n",
    "for i,(artist,albums) in enumerate(artistAlbumData.items()):\n",
    "    if i <= maxI:\n",
    "        continue\n",
    "    matches = mularts.getArtistNames(artist)\n",
    "    if len(matches) > 1:\n",
    "        print(\"{0} -> {1}\".format(artist,matches))\n",
    "        for match in matches:\n",
    "            multiCntr[match] += 1\n",
    "        multiCntr[artist] += 1\n",
    "        continue\n",
    "    #print(\"\\n\")\n",
    "    #print(\"=\"*50)\n",
    "    print(i,'/',n,\"\\t{0: <40}\".format(artist),'\\t',len(albums))\n",
    "    mcm.setChartArtistData(artist, albums)\n",
    "    mcm.matchChartArtist(ratioCut=0.85)\n",
    "    \n",
    "    \n",
    "    if i % 250 == 0:\n",
    "        if len(prevResults) > 0:\n",
    "            results = {**prevResults, **mcm.getResults()}\n",
    "            prevResults = {}\n",
    "        else:\n",
    "            results = mcm.getResults()\n",
    "        print(\"Saving {0} artists\".format(len(results)))\n",
    "        saveFile(idata=results, ifile=\"matchedChartArtists.p\", debug=True)"
   ]
  },
  {
   "cell_type": "code",
   "execution_count": null,
   "metadata": {},
   "outputs": [],
   "source": [
    "list(artistAlbumData.keys())[maxI:]"
   ]
  },
  {
   "cell_type": "code",
   "execution_count": null,
   "metadata": {},
   "outputs": [],
   "source": [
    "\n",
    "def parseArtistsMT(modVal, force=False, doExtra=False):\n",
    "    artsMT.parseArtistModValFiles(modVal, force=force)\n",
    "\n",
    "    \n",
    "def parseArtistsParallel(db, nProcs=3, force=False):\n",
    "    pool = Pool(processes=nProcs)\n",
    "    if db == \"Discogs\":\n",
    "        result = pool.map_async(parseArtistsDC, range(100))\n",
    "    elif db == \"AllMusic\":\n",
    "        result = pool.map_async(parseArtistsAM, range(100))\n",
    "    elif db == \"MusicBrainz\":\n",
    "        result = pool.map_async(parseArtistsMB, range(100))\n",
    "    elif db == \"AceBootlegs\":\n",
    "        result = pool.map_async(parseArtistsAB, [None])\n",
    "    elif db == \"DatPiff\":\n",
    "        result = pool.map_async(parseArtistsDP, [None])\n",
    "    elif db == \"RateYourMusic\":\n",
    "        dbdata[\"RateYourMusic\"][\"Artists\"].parseDownloadedFiles()\n",
    "        result = pool.map_async(parseArtistsRM, range(100))\n",
    "    elif db == \"LastFM\":\n",
    "        result = pool.map_async(parseArtistsLM, range(100))\n",
    "    elif db == \"RockCorner\":\n",
    "        result = pool.map_async(parseArtistsRC, range(100))\n",
    "    elif db == \"CDandLP\":\n",
    "        result = pool.map_async(parseArtistsCL, range(100))\n",
    "        #result = pool.map_async(parseArtistsCL, range(56,72))\n",
    "        #result = pool.map_async(parseArtistsCL, [55,25,26])\n",
    "    elif db == \"MusicStack\":\n",
    "        result = pool.map_async(parseArtistsMS, [None])\n",
    "    elif db == \"MetalStorm\":\n",
    "        result = pool.map_async(parseArtistsMT, range(100))\n",
    "    else:\n",
    "        raise ValueError(\"[{0}] is not recognized as a DB\".format(db))\n",
    "\n",
    "    while not result.ready():\n",
    "        if force is True:\n",
    "            time.sleep(10)\n",
    "        else:\n",
    "            time.sleep(1)\n",
    "    print(\"\")\n",
    "    return result.get()"
   ]
  },
  {
   "cell_type": "code",
   "execution_count": null,
   "metadata": {},
   "outputs": [],
   "source": [
    "multiCntr.most_common()"
   ]
  },
  {
   "cell_type": "code",
   "execution_count": null,
   "metadata": {},
   "outputs": [],
   "source": [
    "from pandas import DataFrame\n",
    "df = DataFrame(results)\n",
    "dfT = df.T\n",
    "dfT[\"Matched\"] = df.count(axis = 0)\n",
    "dfT[dfT[\"Matched\"] == 0]"
   ]
  },
  {
   "cell_type": "code",
   "execution_count": null,
   "metadata": {},
   "outputs": [],
   "source": [
    "for artist,artistData in fullChartData.items(): #[artist][key][album][chartName][date] = i\n",
    "    print(\"\\n\")\n",
    "    print(\"=\"*100)\n",
    "    print(artist)\n",
    "    # Songs\n",
    "    print(\"\\tSongs:\")\n",
    "    for songName,songData in artistData[\"Songs\"].items():\n",
    "        print(\"\\t\",songName,'\\t\\t',end=\"\")\n",
    "        chartWeeks = 0\n",
    "        for chartName,songChartData in songData.items():\n",
    "            weeks = len(songChartData)\n",
    "            chartWeeks += weeks\n",
    "        print(chartWeeks)\n",
    "        \n",
    "    # Albums\n",
    "    print(\"\\tAlbums:\")\n",
    "    for albumName,albumData in artistData[\"Albums\"].items():\n",
    "        print(\"\\t\",albumName,'\\t\\t',end=\"\")\n",
    "        chartWeeks = 0\n",
    "        for chartName,albumChartData in albumData.items():\n",
    "            weeks = len(albumChartData)\n",
    "            chartWeeks += weeks\n",
    "        print(chartWeeks)"
   ]
  },
  {
   "cell_type": "code",
   "execution_count": null,
   "metadata": {},
   "outputs": [],
   "source": [
    "knownArtists"
   ]
  },
  {
   "cell_type": "code",
   "execution_count": null,
   "metadata": {},
   "outputs": [],
   "source": []
  },
  {
   "cell_type": "code",
   "execution_count": null,
   "metadata": {},
   "outputs": [],
   "source": [
    "from fileUtils import getBaseFilename\n",
    "results = {}\n",
    "for ifile in files:\n",
    "    chartData = getFile(ifile)\n",
    "    cname     = getBaseFilename(ifile)\n",
    "    print(\"{0: <40}\".format(cname),end=\"\")\n",
    "    for date, values in chartData.items():\n",
    "        for i,item in enumerate(values):\n",
    "            artist = item[\"Artist\"]\n",
    "            prevArtist = None\n",
    "            if multiRenames.get(artist) is not None:\n",
    "                prevArtist = artist\n",
    "                artist = multiRenames[artist]\n",
    "            if singleRenames.get(artist) is not None:\n",
    "                idx    = str(singleRenames[artist])\n",
    "                artist = artistIDToName[idx]\n",
    "            if prevArtist is None:\n",
    "                prevArtist = artist\n",
    "            album  = item[\"Album\"]\n",
    "            if results.get(artist) is None:\n",
    "                results[artist] = {\"Songs\": {}, \"Albums\": {}}\n",
    "            if cname.endswith(\"Albums\"):\n",
    "                key = \"Albums\"\n",
    "            else:\n",
    "                key = \"Songs\"\n",
    "            if results[artist][key].get(album) is None:\n",
    "                results[artist][key][album] = {}\n",
    "            if results[artist][key][album].get(cname) is None:\n",
    "                results[artist][key][album][cname] = {}\n",
    "            results[artist][key][album][cname][date] = i\n",
    "    print(len(results))"
   ]
  },
  {
   "cell_type": "code",
   "execution_count": null,
   "metadata": {},
   "outputs": [],
   "source": []
  },
  {
   "cell_type": "code",
   "execution_count": null,
   "metadata": {},
   "outputs": [],
   "source": [
    "for chartName, chartData in newCharts.items():\n",
    "    "
   ]
  },
  {
   "cell_type": "code",
   "execution_count": null,
   "metadata": {},
   "outputs": [],
   "source": [
    "def getStarterFiles(charts):\n",
    "    for cid, cname in charts.items():\n",
    "        print(\"{0} --> {1}\".format(cid,cname))\n",
    "        url      = \"https://top40-charts.com/chart.php?cid={0}\".format(cid)\n",
    "        user_agent = 'Mozilla/5.0 (Windows; U; Windows NT 5.1; en-US; rv:1.9.0.7) Gecko/2009021910 Firefox/3.0.7'\n",
    "        headers={'User-Agent':user_agent,}\n",
    "\n",
    "        savedir  = join(basedir, \"data\", \"top40\")\n",
    "        mkDir(savedir)\n",
    "\n",
    "        savename = setFile(savedir, \"{0}.p\".format(cname.replace(\"/\", \" \")))\n",
    "\n",
    "        request=urllib.request.Request(url,None,headers) #The assembled request\n",
    "        response = urllib.request.urlopen(request)\n",
    "        data = response.read() # The data u need\n",
    "\n",
    "        chartsToGet = {}\n",
    "        bsdata = getHTML(data)\n",
    "        select = bsdata.find(\"select\", {\"name\": \"date\"})\n",
    "        if select is None:\n",
    "            raise ValueError(\"No dates!\")\n",
    "        for option in select.findAll(\"option\"):\n",
    "            attr  = option.attrs\n",
    "            value = attr['value']\n",
    "            url   = \"https://top40-charts.com/chart.php?cid={0}&date={1}\".format(cid, value)\n",
    "            chartsToGet[value] = url\n",
    "\n",
    "        savename = setFile(savedir, \"{0}-Dates.p\".format(cname.replace(\"/\", \" \")))\n",
    "        print(\"Saving {0} dates to {1}\".format(len(chartsToGet), savename))\n",
    "        saveFile(idata=chartsToGet, ifile=savename)\n",
    "        sleep(2)"
   ]
  },
  {
   "cell_type": "code",
   "execution_count": null,
   "metadata": {},
   "outputs": [],
   "source": [
    "from datetime import date, timedelta\n",
    "\n",
    "def all_sundays(year):\n",
    "    # January 1st of the given year\n",
    "       dt = date(year, 1, 1)\n",
    "        # First Sunday of the given year       \n",
    "       dt += timedelta(days = 6 - dt.weekday())  \n",
    "       while dt.year == year:\n",
    "          yield dt\n",
    "          dt += timedelta(days = 7)\n",
    "            \n",
    "from pandas import DataFrame\n",
    "def getMusicData(key, artist):\n",
    "    retval = discdf[discdf[key] == artist]\n",
    "    if retval.shape[0] > 0:\n",
    "        return retval\n",
    "    else:\n",
    "        return None\n",
    "    \n",
    "from difflib import SequenceMatcher\n",
    "\n",
    "def getRowByIndex(pdf, idx):\n",
    "    return pdf.loc[idx]"
   ]
  },
  {
   "cell_type": "code",
   "execution_count": null,
   "metadata": {},
   "outputs": [],
   "source": [
    "def getBestArtistIDMatch(artistName, artistResults, possibleMatches, N=3, cutoff=0.7, debug=False):    \n",
    "    myAlbumNames = list(artistResults)\n",
    "    idxResults = {}\n",
    "    matchValue = {}\n",
    "    for idx in possibleMatches:\n",
    "        idxResults[idx] = 0\n",
    "        matchValue[idx] = artistName\n",
    "\n",
    "        artistAlbumsData = getRowByIndex(artistAlbumsDB, idx)\n",
    "        artistAlbums     = artistAlbumsData[\"Albums\"]\n",
    "\n",
    "        for myAlbumName in myAlbumNames:\n",
    "            maxRatio = 0\n",
    "            for albumType, albumTypeData in artistAlbums.items():\n",
    "                for albumID, dbAlbumName in albumTypeData.items():\n",
    "                    s = SequenceMatcher(None, myAlbumName, dbAlbumName)\n",
    "                    ratio = s.ratio()\n",
    "                    if ratio > maxRatio:\n",
    "                        maxRatio = ratio\n",
    "\n",
    "            if maxRatio > cutoff:\n",
    "                idxResults[idx] += maxRatio\n",
    "\n",
    "        if debug:\n",
    "            print(\"\\t{0: <5}{1: <15}{2}\".format(idxResults[idx], idx, matchValue[idx]))\n",
    "            \n",
    "    if len(idxResults) > 0:\n",
    "        mc     = Counter(idxResults)\n",
    "        best   = mc.most_common(1)[0]\n",
    "        idx    = best[0]\n",
    "        ratio  = round(best[1],2)\n",
    "        artist = matchValue[idx]\n",
    "        return (idx, artist, ratio)\n",
    "    else:\n",
    "        return (None, None, None)\n",
    "    \n",
    "\n",
    "\n",
    "def getBestArtistMatch(artistName, artistResults, N=3, cutoff=0.7, debug=False):\n",
    "    myAlbumNames = list(artistResults)\n",
    "    if debug:\n",
    "        print(artistName)\n",
    "\n",
    "    idxResults = {}\n",
    "    matchValue = {}\n",
    "\n",
    "    \n",
    "    for artist in findNearest(artistName, artistNameToID.keys(), N, cutoff):\n",
    "        for idx in artistNameToID[artist]:\n",
    "            idxResults[idx] = 0\n",
    "            matchValue[idx] = artist\n",
    "            \n",
    "            artistAlbumsData = getRowByIndex(artistAlbumsDB, idx)\n",
    "            artistAlbums     = artistAlbumsData[\"Albums\"]\n",
    "            \n",
    "            for myAlbumName in myAlbumNames:\n",
    "                maxRatio = 0\n",
    "                for albumType, albumTypeData in artistAlbums.items():\n",
    "                    for albumID, dbAlbumName in albumTypeData.items():\n",
    "                        s = SequenceMatcher(None, myAlbumName, dbAlbumName)\n",
    "                        ratio = s.ratio()\n",
    "                        if ratio > maxRatio:\n",
    "                            maxRatio = ratio\n",
    "                            \n",
    "                if maxRatio > cutoff:\n",
    "                    idxResults[idx] += maxRatio\n",
    "            \n",
    "            if debug:\n",
    "                print(\"\\t{0: <5}{1: <15}{2}\".format(idxResults[idx], idx, matchValue[idx]))\n",
    "\n",
    "    if len(idxResults) > 0:\n",
    "        mc     = Counter(idxResults)\n",
    "        best   = mc.most_common(1)[0]\n",
    "        idx    = best[0]\n",
    "        ratio  = round(best[1],2)\n",
    "        artist = matchValue[idx]\n",
    "        return (idx, artist, ratio)\n",
    "    else:\n",
    "        return (None, None, None)"
   ]
  },
  {
   "cell_type": "markdown",
   "metadata": {},
   "source": [
    "# Discogs Downloads"
   ]
  },
  {
   "cell_type": "code",
   "execution_count": null,
   "metadata": {},
   "outputs": [],
   "source": [
    "disc = discogs()\n",
    "discdf = disc.getMasterSlimArtistDiscogsDB()\n",
    "artistIDToName = discdf[\"DiscArtist\"].to_dict()\n",
    "from masterdb import getArtistAlbumsDB, discConv\n",
    "artistAlbumsDB = getArtistAlbumsDB(disc)\n",
    "\n",
    "artistNameToID = {}\n",
    "print(\"Found {0} ID -> Name entries\".format(len(artistIDToName)))\n",
    "for artistID,artistName in artistIDToName.items():\n",
    "    if artistNameToID.get(artistName) is None:\n",
    "        artistNameToID[artistName] = []\n",
    "    artistNameToID[artistName].append(artistID)\n",
    "print(\"Found {0} Name -> ID entries\".format(len(artistNameToID)))\n",
    "mulArts  = multiArtist(cutoff=0.9, discdata=artistNameToID, exact=False)\n",
    "\n",
    "    matches = mulArts.getArtistNames(artist)\n",
    "    if len(matches) > 1:\n",
    "        continue"
   ]
  },
  {
   "cell_type": "markdown",
   "metadata": {},
   "source": [
    "# Rename Files"
   ]
  },
  {
   "cell_type": "code",
   "execution_count": null,
   "metadata": {},
   "outputs": [],
   "source": [
    "singleRenames = getFile(ifile=\"singleRenames.p\")\n",
    "multiRenames  = getFile(ifile=\"multiRenames.p\")\n",
    "knownArtists  = getFile(ifile=\"artistMap.p\")\n",
    "\n",
    "for k in singleRenames.keys():\n",
    "    v = singleRenames[k]\n",
    "    if isinstance(v, list):\n",
    "        if len(v) == 2:\n",
    "            singleRenames[k] = v[0]\n",
    "saveFile(idata=singleRenames, ifile=\"singleRenames.p\")"
   ]
  },
  {
   "cell_type": "markdown",
   "metadata": {},
   "source": [
    "# Get Starter File"
   ]
  },
  {
   "cell_type": "code",
   "execution_count": null,
   "metadata": {},
   "outputs": [],
   "source": [
    "savename=join(basedir, \"data\", \"top40\", \"starter.p\")\n",
    "\n",
    "def getStarter(basedir):\n",
    "    url=\"https://top40-charts.com\"\n",
    "    getWebData(base=url, savename=savename, useSafari=False)\n",
    "    \n",
    "if not isFile(savename):\n",
    "    getStarter(basedir)\n",
    "    fdata = getHTML(savename)\n",
    "else:\n",
    "    fdata = getHTML(savename)"
   ]
  },
  {
   "cell_type": "code",
   "execution_count": null,
   "metadata": {},
   "outputs": [],
   "source": [
    "fdata"
   ]
  },
  {
   "cell_type": "code",
   "execution_count": null,
   "metadata": {},
   "outputs": [],
   "source": [
    "charts = {}\n",
    "for iform,formdata in enumerate(fdata.findAll(\"form\")):\n",
    "    print(iform)\n",
    "    for isel,seldata in enumerate(formdata.findAll(\"select\", {\"name\": \"cid\"})):\n",
    "        print(isel)\n",
    "        for iop,opdata in enumerate(seldata.findAll(\"option\")):\n",
    "            attrs  = opdata.attrs\n",
    "            value  = attrs['value']\n",
    "            charts[value] = opdata.text\n",
    "#return charts\n",
    "charts"
   ]
  },
  {
   "cell_type": "code",
   "execution_count": null,
   "metadata": {},
   "outputs": [],
   "source": [
    "chartData  = {}\n",
    "dirname = None\n",
    "baseURL = \"http://top40-charts.com\"\n",
    "\n",
    "## Get Charts\n",
    "def getCharts(fdata):\n",
    "    charts = {}\n",
    "    for iform,formdata in enumerate(fdata.findAll(\"form\")):\n",
    "        for isel,seldata in enumerate(formdata.findAll(\"select\", {\"name\": \"cid\"})):\n",
    "            for iop,opdata in enumerate(seldata.findAll(\"option\")):\n",
    "                attrs  = opdata.attrs\n",
    "                value  = attrs['value']\n",
    "                charts[value] = opdata.text\n",
    "    return charts\n",
    "\n",
    "\n",
    "## Get Dates\n",
    "def getDates(fdata):\n",
    "    dates = []\n",
    "    for iform,formdata in enumerate(fdata.findAll(\"form\")):\n",
    "        for isel,seldata in enumerate(formdata.findAll(\"select\", {\"name\": \"date\"})):\n",
    "            continue\n",
    "            for iop,opdata in enumerate(seldata.findAll(\"option\")):\n",
    "                attrs  = opdata.attrs\n",
    "                value  = attrs['value']\n",
    "                dates.append(value)\n",
    "    dates = sorted(list(set(dates)))\n",
    "    return dates\n",
    "\n",
    "charts = getCharts(fdata)"
   ]
  },
  {
   "cell_type": "code",
   "execution_count": null,
   "metadata": {},
   "outputs": [],
   "source": [
    "charts"
   ]
  },
  {
   "cell_type": "markdown",
   "metadata": {},
   "source": [
    "### Last Downloaded on 5/21/20"
   ]
  },
  {
   "cell_type": "code",
   "execution_count": null,
   "metadata": {},
   "outputs": [],
   "source": [
    "def getStarterFiles(charts):\n",
    "    for cid, cname in charts.items():\n",
    "        print(\"{0} --> {1}\".format(cid,cname))\n",
    "        url      = \"https://top40-charts.com/chart.php?cid={0}\".format(cid)\n",
    "        user_agent = 'Mozilla/5.0 (Windows; U; Windows NT 5.1; en-US; rv:1.9.0.7) Gecko/2009021910 Firefox/3.0.7'\n",
    "        headers={'User-Agent':user_agent,}\n",
    "\n",
    "        savedir  = join(basedir, \"data\", \"top40\")\n",
    "        mkDir(savedir)\n",
    "\n",
    "        savename = setFile(savedir, \"{0}.p\".format(cname.replace(\"/\", \" \")))\n",
    "\n",
    "        request=urllib.request.Request(url,None,headers) #The assembled request\n",
    "        response = urllib.request.urlopen(request)\n",
    "        data = response.read() # The data u need\n",
    "\n",
    "        chartsToGet = {}\n",
    "        bsdata = getHTML(data)\n",
    "        select = bsdata.find(\"select\", {\"name\": \"date\"})\n",
    "        if select is None:\n",
    "            raise ValueError(\"No dates!\")\n",
    "        for option in select.findAll(\"option\"):\n",
    "            attr  = option.attrs\n",
    "            value = attr['value']\n",
    "            url   = \"https://top40-charts.com/chart.php?cid={0}&date={1}\".format(cid, value)\n",
    "            chartsToGet[value] = url\n",
    "\n",
    "        savename = setFile(savedir, \"{0}-Dates.p\".format(cname.replace(\"/\", \" \")))\n",
    "        print(\"Saving {0} dates to {1}\".format(len(chartsToGet), savename))\n",
    "        saveFile(idata=chartsToGet, ifile=savename)\n",
    "        sleep(2)"
   ]
  },
  {
   "cell_type": "code",
   "execution_count": null,
   "metadata": {},
   "outputs": [],
   "source": [
    "getStarterFiles(charts)"
   ]
  },
  {
   "cell_type": "markdown",
   "metadata": {},
   "source": [
    "# Download Chart Data"
   ]
  },
  {
   "cell_type": "code",
   "execution_count": null,
   "metadata": {},
   "outputs": [],
   "source": [
    "for cid, cname in charts.items():\n",
    "    print(\"{0} --> {1}\".format(cid,cname))\n",
    "    \n",
    "    \n",
    "    cidsavedir = join(basedir, \"data\", \"top40\")\n",
    "    savename   = setFile(cidsavedir, \"{0}-Dates.p\".format(cname.replace(\"/\", \" \")))\n",
    "    chartData  = getFile(savename)\n",
    "    \n",
    "    values = sorted(chartData.keys(), reverse=True)\n",
    "    for idts,value in enumerate(values):\n",
    "        if value is None:\n",
    "            continue\n",
    "            \n",
    "        url = chartData[value]\n",
    "        try:\n",
    "            if getDateTime(value).year < 2000:\n",
    "                continue\n",
    "        except:\n",
    "            continue\n",
    "\n",
    "        try:\n",
    "            if getDateTime(value).year < 201:\n",
    "                continue        \n",
    "        except:\n",
    "            continue\n",
    "            \n",
    "        if value is None:\n",
    "            continue\n",
    "            \n",
    "        savedir  = join(basedir, \"data\", \"top40\", cname.replace(\"/\", \" \"))\n",
    "        savename = setFile(savedir, \"{0}.p\".format(value))\n",
    "        if savename is None:\n",
    "            continue\n",
    "            \n",
    "        if isFile(savename):\n",
    "            continue\n",
    "            print(\"Touching {0}\".format(savename))\n",
    "            Path(savename).touch()\n",
    "        else:\n",
    "            user_agent = 'Mozilla/5.0 (Windows; U; Windows NT 5.1; en-US; rv:1.9.0.7) Gecko/2009021910 Firefox/3.0.7'\n",
    "            headers={'User-Agent':user_agent,}\n",
    "    \n",
    "            request=urllib.request.Request(url,None,headers) #The assembled request\n",
    "            response = urllib.request.urlopen(request)\n",
    "            data = response.read() # The data u need\n",
    "\n",
    "            print(\"URL ---> {0}\".format(url))\n",
    "            print(idts,'/',len(values),\"\\tSaving {0}\".format(savename))\n",
    "            saveJoblib(data=data, filename=savename, compress=True)\n",
    "            sleep(2)"
   ]
  },
  {
   "cell_type": "markdown",
   "metadata": {},
   "source": [
    "# Parse Charts"
   ]
  },
  {
   "cell_type": "code",
   "execution_count": null,
   "metadata": {},
   "outputs": [],
   "source": [
    "def getChartData(chartData, debug=False):\n",
    "    results = []\n",
    "    pos = 1\n",
    "    \n",
    "    debVars = None\n",
    "    \n",
    "    for it,table in enumerate(chartData.findAll(\"table\")):\n",
    "        ths = table.findAll(\"th\")\n",
    "        trs = table.findAll(\"tr\")\n",
    "        attrs = table.attrs\n",
    "        if debug:\n",
    "            print(it,len(ths),len(trs),attrs)\n",
    "\n",
    "        if attrs == {'cellpadding': '0', 'cellspacing': '0', 'borer': '0'}:\n",
    "            if len(trs) == 1:\n",
    "                tds = trs[0].findAll(\"td\")\n",
    "                if len(tds) == 3:\n",
    "                    refs = tds[2].findAll(\"a\")\n",
    "                    if len(refs) == 2:\n",
    "                        album  = refs[0].text\n",
    "                        artist = refs[1].text\n",
    "                        results.append({\"Artist\": artist, \"Album\": album})\n",
    "                        if debug:\n",
    "                            print(pos,'\\t',artist,'\\t',album)\n",
    "                        pos += 1\n",
    "\n",
    "    return results"
   ]
  },
  {
   "cell_type": "code",
   "execution_count": null,
   "metadata": {},
   "outputs": [],
   "source": [
    "for cid, cname in charts.items():\n",
    "    print(\"{0} --> {1}\".format(cid,cname))\n",
    "    \n",
    "    \n",
    "    cidsavedir = join(basedir, \"data\", \"top40\")\n",
    "    savename   = setFile(cidsavedir, \"{0}-Dates.p\".format(cname.replace(\"/\", \" \")))\n",
    "    chartData  = getFile(savename)\n",
    "    \n",
    "    values = sorted(chartData.keys(), reverse=True)\n",
    "    chartResults = {}\n",
    "    for idts,value in enumerate(values):\n",
    "        if value is None:\n",
    "            continue\n",
    "            \n",
    "        savedir  = join(basedir, \"data\", \"top40\", cname.replace(\"/\", \" \"))\n",
    "        savename = setFile(savedir, \"{0}.p\".format(value))            \n",
    "        data     = getHTML(savename)\n",
    "        results  = getChartData(data)\n",
    "        chartResults[value] = results\n",
    "        if len(results) == 0:\n",
    "            print('\\t',cname,'\\t\\t',value,'\\t',len(results),\" <<-------\")\n",
    "        else:\n",
    "            print('\\t',cname,'\\t\\t',value,'\\t',len(results))\n",
    "            \n",
    "    savedir = join(basedir, \"results\", \"top40\")\n",
    "    savename = setFile(savedir, \"{0}.p\".format(cname.replace(\"/\", \" \")))\n",
    "    saveJoblib(data=chartResults, filename=savename, compress=True)\n",
    "    #savename = setFile(\"~/Dropbox/charts\", \"{0}.p\".format(cname.replace(\"/\", \" \")))\n",
    "    #saveJoblib(data=chartResults[cid], filename=savename, compress=True)"
   ]
  },
  {
   "cell_type": "markdown",
   "metadata": {},
   "source": [
    "# Aggregate Charts"
   ]
  },
  {
   "cell_type": "code",
   "execution_count": null,
   "metadata": {},
   "outputs": [],
   "source": [
    "from searchUtils import findExt\n",
    "savedir = join(basedir, \"results\", \"top40\")\n",
    "files = findExt(savedir, \".p\")\n",
    "print(\"Found {0} files\".format(len(files)))"
   ]
  },
  {
   "cell_type": "code",
   "execution_count": null,
   "metadata": {},
   "outputs": [],
   "source": [
    "from fileUtils import getBaseFilename\n",
    "results = {}\n",
    "for ifile in files:\n",
    "    chartData = getFile(ifile)\n",
    "    cname     = getBaseFilename(ifile)\n",
    "    print(\"{0: <40}\".format(cname),end=\"\")\n",
    "    for date, values in chartData.items():\n",
    "        for i,item in enumerate(values):\n",
    "            artist = item[\"Artist\"]\n",
    "            prevArtist = None\n",
    "            if multiRenames.get(artist) is not None:\n",
    "                prevArtist = artist\n",
    "                artist = multiRenames[artist]\n",
    "            if singleRenames.get(artist) is not None:\n",
    "                idx    = str(singleRenames[artist])\n",
    "                artist = artistIDToName[idx]\n",
    "            if prevArtist is None:\n",
    "                prevArtist = artist\n",
    "            album  = item[\"Album\"]\n",
    "            if results.get(artist) is None:\n",
    "                results[artist] = {\"Songs\": {}, \"Albums\": {}}\n",
    "            if cname.endswith(\"Albums\"):\n",
    "                key = \"Albums\"\n",
    "            else:\n",
    "                key = \"Songs\"\n",
    "            if results[artist][key].get(album) is None:\n",
    "                results[artist][key][album] = {}\n",
    "            if results[artist][key][album].get(cname) is None:\n",
    "                results[artist][key][album][cname] = {}\n",
    "            results[artist][key][album][cname][date] = i\n",
    "    print(len(results))"
   ]
  },
  {
   "cell_type": "code",
   "execution_count": null,
   "metadata": {},
   "outputs": [],
   "source": [
    "saveFile(ifile=\"chartResults.p\", idata=results, debug=True)"
   ]
  },
  {
   "cell_type": "code",
   "execution_count": null,
   "metadata": {},
   "outputs": [],
   "source": [
    "from collections import Counter\n",
    "slimResults = Counter()\n",
    "for artist, artistData in results.items():\n",
    "    for key, keyData in artistData.items():\n",
    "        for album, albumData in keyData.items():\n",
    "            slimResults[artist] += sum({k: len(v) for k,v in albumData.items()}.values())"
   ]
  },
  {
   "cell_type": "code",
   "execution_count": null,
   "metadata": {},
   "outputs": [],
   "source": [
    "saveFile(ifile=\"chartCounter.p\", idata=slimResults, debug=True)"
   ]
  },
  {
   "cell_type": "code",
   "execution_count": null,
   "metadata": {},
   "outputs": [],
   "source": [
    "for artist, artistData in results.items():\n",
    "    print(artist)\n",
    "    print(\"    Songs:\")\n",
    "    for album, albumData in artistData[\"Songs\"].items():\n",
    "        print('\\t',album,'\\t',len(albumData))\n",
    "        for chart, chartData in albumData.items():\n",
    "            pass\n",
    "            #print('\\t\\t',chart,chartData)\n",
    "    print(\"    Albums:\")\n",
    "    for album, albumData in artistData[\"Albums\"].items():\n",
    "        print('\\t',album,'\\t',len(albumData))\n",
    "        for chart, chartData in albumData.items():\n",
    "            pass\n",
    "            #print('\\t\\t',chart,chartData)\n",
    "    break"
   ]
  },
  {
   "cell_type": "markdown",
   "metadata": {},
   "source": [
    "# Find Missing Artists"
   ]
  },
  {
   "cell_type": "code",
   "execution_count": null,
   "metadata": {},
   "outputs": [],
   "source": [
    "slimResults = getFile(ifile=\"chartCounter.p\", debug=True)\n",
    "fullResults = getFile(ifile=\"chartResults.p\", debug=True)\n",
    "\n",
    "singleRenames = getFile(ifile=\"singleRenames.p\", debug=True)\n",
    "multiRenames  = getFile(ifile=\"multiRenames.p\", debug=True)\n",
    "knownArtists  = getFile(ifile=\"artistMap.p\", debug=True)"
   ]
  },
  {
   "cell_type": "code",
   "execution_count": null,
   "metadata": {},
   "outputs": [],
   "source": [
    "skips = {}"
   ]
  },
  {
   "cell_type": "markdown",
   "metadata": {},
   "source": [
    "# Unknown Artists"
   ]
  },
  {
   "cell_type": "code",
   "execution_count": null,
   "metadata": {},
   "outputs": [],
   "source": [
    "## 5500\n",
    "artistsToGet = {}\n",
    "#for i, (artist, cnt) in enumerate(slimResults.most_common()):\n",
    "for i, (artist, cnt) in enumerate(sorted(slimResults.items(), key=lambda pair: pair[1], reverse=True)):\n",
    "    if i <= 14961:\n",
    "        continue\n",
    "    if i % 250 == 0:\n",
    "        print(\"==>\",i,len(slimResults))\n",
    "    if multiRenames.get(artist) is not None:\n",
    "        artist = multiRenames[artist]\n",
    "    if singleRenames.get(artist) is not None:\n",
    "        idx    = singleRenames[artist]\n",
    "        artist = artistIDToName[idx]\n",
    "    if knownArtists.get(artist) is not None:\n",
    "        continue\n",
    "    if skips.get(artist) is not None:\n",
    "        continue\n",
    "\n",
    "    matches = mulArts.getArtistNames(artist)\n",
    "    if len(matches) > 1:\n",
    "        continue\n",
    "\n",
    "    mdata = getMusicData(\"DiscArtist\", artist)\n",
    "    if mdata is None:\n",
    "        artistsToGet[artist] = cnt\n",
    "        print(\"{0: <6}{1: <40}{2: <6}{3}\".format(i,artist,cnt,len(artistsToGet)))\n",
    "        if len(artistsToGet) > 200:\n",
    "            break\n",
    "    elif isinstance(mdata, DataFrame):\n",
    "        if mdata.shape[0] >= 1:\n",
    "            continue\n",
    "        artistsToGet[artist] = cnt\n",
    "        print(\"{0: <6}{1: <40}{2: <6}{3}\".format(i,artist,cnt,len(artistsToGet)))\n",
    "        if len(artistsToGet) > 200:\n",
    "            break"
   ]
  },
  {
   "cell_type": "code",
   "execution_count": null,
   "metadata": {},
   "outputs": [],
   "source": [
    "from collections import Counter\n",
    "cutoff = 0.7\n",
    "skips = {}\n",
    "possibleResults = {}\n",
    "for i,(artist, cnt) in enumerate(artistsToGet.items()):\n",
    "    print(i,\"/\",len(artistsToGet),'  \\t',artist)\n",
    "    artistAlbums = set(list(fullResults[artist][\"Songs\"].keys()) + list(fullResults[artist][\"Albums\"].keys()))\n",
    "    results      = getBestArtistMatch(artist, artistAlbums, N=3, cutoff=cutoff)\n",
    "    if results[2] is not None:\n",
    "        if results[2] >= cutoff:\n",
    "            print(i,\"/\",len(artistsToGet),'  \\t',artist,results)\n",
    "            possibleResults[artist] = list(results[:-1])\n",
    "        else:\n",
    "            skips[artist] = True\n",
    "    else:\n",
    "        skips[artist] = True"
   ]
  },
  {
   "cell_type": "code",
   "execution_count": null,
   "metadata": {},
   "outputs": [],
   "source": [
    "keep = {}\n",
    "\n",
    "#mdata = getMusicData(\"DiscArtist\", \"Tyrese\")\n",
    "#keep[\"Tyrese\"] = [mdata.index[0], mdata[\"Name\"].values[0]]\n",
    "#keep[\"PPK \\r\"] = [mdata.index[0], mdata[\"Name\"].values[0]]\n",
    "\n",
    "#keep['Sarah Brightman']=['59756', 'Sarah Brightman']\n",
    "\n",
    "for artist,results in possibleResults.items():\n",
    "    keep[artist] = results\n",
    "#keep[\"Lil' Romeo\"] = ['134987', \"Lil' Romeo\"]\n",
    "keep"
   ]
  },
  {
   "cell_type": "code",
   "execution_count": null,
   "metadata": {},
   "outputs": [],
   "source": [
    "singleRenames = getFile(ifile=\"singleRenames.p\", debug=True)\n",
    "for k in keep.keys():\n",
    "    v = keep[k]\n",
    "    if isinstance(v, list):\n",
    "        if len(v) == 2:\n",
    "            singleRenames[k] = v[0]\n",
    "            print(k,v[0])\n",
    "saveFile(idata=singleRenames, ifile=\"singleRenames.p\")"
   ]
  },
  {
   "cell_type": "code",
   "execution_count": null,
   "metadata": {},
   "outputs": [],
   "source": [
    "saveFile(idata=skips, ifile=\"toget11.p\")"
   ]
  },
  {
   "cell_type": "markdown",
   "metadata": {},
   "source": [
    "# Get Multi Results"
   ]
  },
  {
   "cell_type": "code",
   "execution_count": null,
   "metadata": {},
   "outputs": [],
   "source": [
    "from collections import Counter\n",
    "cutoff = 0.8\n",
    "multiMatchResult = {}\n",
    "for i, (artist, cnt) in enumerate(slimResults.most_common()):\n",
    "    if i > 0 and i % 1000 == 0:\n",
    "        print(\"Passed\",i,'/',len(slimResults))\n",
    "    prevArtist = None\n",
    "    if multiRenames.get(artist) is not None:\n",
    "        prevArtist = artist\n",
    "        artist = multiRenames[artist]\n",
    "    if singleRenames.get(artist) is not None:\n",
    "        idx    = str(singleRenames[artist])\n",
    "        artist = artistIDToName[idx]\n",
    "    if prevArtist is None:\n",
    "        prevArtist = artist\n",
    "    if knownArtists.get(prevArtist) is not None:\n",
    "        continue\n",
    "    mdata = getMusicData(\"DiscArtist\", prevArtist)\n",
    "    if isinstance(mdata, DataFrame):\n",
    "        if mdata.shape[0] <= 1:\n",
    "            continue\n",
    "        matches = mdata[\"Name\"].index\n",
    "        artistAlbums = set(list(fullResults[prevArtist][\"Songs\"].keys()) + list(fullResults[prevArtist][\"Albums\"].keys()))\n",
    "        results = getBestArtistIDMatch(artist, artistAlbums, matches, N=3, cutoff=cutoff)\n",
    "        if results[2] is not None:\n",
    "            if results[2] >= cutoff:\n",
    "                print(i,\"/\",len(slimResults),'  \\t',artist,results)\n",
    "                multiMatchResult[artist] = list(results[:-1])"
   ]
  },
  {
   "cell_type": "code",
   "execution_count": null,
   "metadata": {},
   "outputs": [],
   "source": [
    "print(len(knownArtists))\n",
    "knownArtists.update(multiMatchResult)\n",
    "print(len(knownArtists))\n",
    "saveFile(idata=knownArtists, ifile=\"artistMap.p\", debug=True)"
   ]
  },
  {
   "cell_type": "code",
   "execution_count": null,
   "metadata": {},
   "outputs": [],
   "source": [
    "multiMatchResult[artist] = results"
   ]
  },
  {
   "cell_type": "markdown",
   "metadata": {},
   "source": [
    "# Get Multi Artist Results"
   ]
  },
  {
   "cell_type": "code",
   "execution_count": null,
   "metadata": {},
   "outputs": [],
   "source": [
    "cutoff = 0.8\n",
    "multiResult = {}\n",
    "for i, (artist, cnt) in enumerate(slimResults.most_common()):\n",
    "    if i > 0 and i % 1000 == 0 or i == 100:\n",
    "        print(\"Passed\",i,'/',len(slimResults))\n",
    "    prevArtist = None\n",
    "    if multiRenames.get(artist) is not None:\n",
    "        prevArtist = artist\n",
    "        artist = multiRenames[artist]\n",
    "    if singleRenames.get(artist) is not None:\n",
    "        idx    = str(singleRenames[artist])\n",
    "        artist = artistIDToName[idx]\n",
    "    if prevArtist is None:\n",
    "        prevArtist = artist\n",
    "    artistAlbums = set(list(fullResults[prevArtist][\"Songs\"].keys()) + list(fullResults[prevArtist][\"Albums\"].keys()))\n",
    "    matches = mulArts.getArtistNames(artist)\n",
    "    if len(matches) == 1:\n",
    "        continue\n",
    "    for match in matches:\n",
    "        if singleRenames.get(match) is not None:\n",
    "            idx    = str(singleRenames[match])\n",
    "            #print('\\t',match,' --> ',end=\"\")\n",
    "            match  = artistIDToName[idx]  \n",
    "            #print(match)\n",
    "        mdata = getMusicData(\"DiscArtist\", match)\n",
    "        if not isinstance(mdata, DataFrame):\n",
    "            results = getBestArtistMatch(match, artistAlbums, N=3, cutoff=cutoff)\n",
    "            if results[2] is not None:\n",
    "                if results[2] >= cutoff:\n",
    "                    print(i,\"/\",len(slimResults),'  \\t',artist,results)\n",
    "                    if multiResult.get(artist) is None:\n",
    "                        multiResult[artist] = {\"Results\": results, \"Match\": []}\n",
    "                    multiResult[artist][\"Match\"].append(match)\n",
    "\n",
    "    if i > 5000:\n",
    "        break"
   ]
  },
  {
   "cell_type": "code",
   "execution_count": null,
   "metadata": {},
   "outputs": [],
   "source": [
    "for k,v in multiResult.items():\n",
    "    x = k.replace(v[\"Match\"][0], v[\"Results\"][1])\n",
    "    print(\"multiRenames[\\\"{0}\\\"] = \\\"{1}\\\"\".format(k, x))"
   ]
  },
  {
   "cell_type": "code",
   "execution_count": null,
   "metadata": {},
   "outputs": [],
   "source": [
    "multiRenames = getFile(\"multiRenames.p\")\n",
    "print(len(multiRenames))\n",
    "multiRenames[\"Drake, Wizkid & Kyla\"] = \"Drake, WizKid & Kyla\"\n",
    "multiRenames[\"A. R. Rahman & Pussycat Dolls\"] = \"A.R. Rahman & Pussycat Dolls\"\n",
    "multiRenames[\"Calvin Harris, Pharell Williams, Katy Perry & Big Sean\"] = \"Calvin Harris, Pharrell Williams, Katy Perry & Big Sean\"\n",
    "multiRenames[\"Flo Rida, Sage The Gemini & Lookas\"] = \"Flo Rida, Sage The Gemini & LooKas\"\n",
    "multiRenames[\"DJ Snake & Lil Jon\"] = \"DJ Snake & Lil' Jon\"\n",
    "multiRenames[\"Rihanna & Jay-z\"] = \"Rihanna & Jay-Z\"\n",
    "multiRenames[\"Lil Jon & East Side Boyz\"] = \"Lil' Jon & East Side Boyz\"\n",
    "multiRenames[\"Remady & Manu-L\"] = \"DJ Remady & Manu-L\"\n",
    "multiRenames[\"Lil Jon & The East Side Boyz, Usher & Ludacris\"] = \"Lil' Jon & The East Side Boyz, Usher & Ludacris\"\n",
    "multiRenames[\"Jay Sean, Sean Paul & Lil Jon\"] = \"Jay Sean, Sean Paul & Lil' Jon\"\n",
    "multiRenames[\"Brandy & Ray Jay\"] = \"Brandy & Ray J\"\n",
    "multiRenames[\"KitschKrieg, Trettmann, Gringo, Ufo361 & Gzuz\"] = \"Kitschkrieg, Trettmann, Gringo, Ufo361 & Gzuz\"\n",
    "multiRenames[\"Mike WiLL Made-It, Miley Cyrus, Wiz Khalifa & Juicy J\"] = \"Mike WiLL Made It, Miley Cyrus, Wiz Khalifa & Juicy J\"\n",
    "multiRenames[\"DJ Broiler & Ravvel\"] = \"Broiler & Ravvel\"\n",
    "multiRenames[\"Bob Sinclar & Raffaella Carra\"] = \"Bob Sinclar & Raffaella Carrà\"\n",
    "multiRenames[\"Revolverheld & Marta Jandova\"] = \"Revolverheld & Marta Jandová\"\n",
    "multiRenames[\"Parra For Cuva & Anna Naklab\"] = \"Parra for Cuva & Anna Naklab\"\n",
    "multiRenames[\"Patti Labelle & Ron Isley\"] = \"Patti LaBelle & Ron Isley\"\n",
    "print(len(multiRenames))\n",
    "saveFile(idata=multiRenames, ifile=\"multiRenames.p\")"
   ]
  },
  {
   "cell_type": "markdown",
   "metadata": {},
   "source": [
    "# Get Single Results"
   ]
  },
  {
   "cell_type": "code",
   "execution_count": null,
   "metadata": {},
   "outputs": [],
   "source": []
  },
  {
   "cell_type": "code",
   "execution_count": null,
   "metadata": {},
   "outputs": [],
   "source": [
    "sorted(slimResults.items(), key=lambda pair: pair[1], reverse=False)\n",
    "#for i, (artist, cnt) in enumerate(slimResults.most_common()):"
   ]
  },
  {
   "cell_type": "code",
   "execution_count": null,
   "metadata": {},
   "outputs": [],
   "source": [
    "cutoff = 0.8\n",
    "singleResult = {}\n",
    "#for i, (artist, cnt) in enumerate(slimResults.most_common()):\n",
    "for i, (artist, cnt) in enumerate(sorted(slimResults.items(), key=lambda pair: pair[1], reverse=False)):\n",
    "    if i <= 1842:\n",
    "        continue\n",
    "    if i > 0 and i % 100 == 0 or i == 100:\n",
    "        print(\"Passed\",i,'/',len(slimResults))\n",
    "    if cnt < 1:\n",
    "        continue\n",
    "    if multiRenames.get(artist) is not None:\n",
    "        prevArtist = artist\n",
    "        artist = multiRenames[artist]\n",
    "    if singleRenames.get(artist) is not None:\n",
    "        idx    = str(singleRenames[artist])\n",
    "        artist = artistIDToName[idx]\n",
    "    if prevArtist is None:\n",
    "        prevArtist = artist\n",
    "    if knownArtists.get(prevArtist) is not None:\n",
    "        continue\n",
    "    artistAlbums = set(list(fullResults[artist][\"Songs\"].keys()) + list(fullResults[artist][\"Albums\"].keys()))\n",
    "    match = mulArts.getArtistNames(artist                                                     )\n",
    "    if len(match) == 1:\n",
    "        mdata = getMusicData(\"DiscArtist\", list(match.keys())[0])\n",
    "        if not isinstance(mdata, DataFrame):\n",
    "            results = getBestArtistMatch(artist, artistAlbums, N=3, cutoff=cutoff)\n",
    "            if results[2] is not None:\n",
    "                if results[2] >= cutoff:\n",
    "                    print(i,\"/\",len(slimResults),'  \\t',artist,'\\t',results)\n",
    "                    singleResult[artist] = results\n",
    "                    if len(singleResult) > 20:\n",
    "                        break"
   ]
  },
  {
   "cell_type": "code",
   "execution_count": null,
   "metadata": {},
   "outputs": [],
   "source": [
    "for k,v in singleResult.items():\n",
    "    print(\"keep[\\\"{0}\\\"] = {1}  #{2}\".format(k, v[0], v[1]))"
   ]
  },
  {
   "cell_type": "code",
   "execution_count": null,
   "metadata": {},
   "outputs": [],
   "source": [
    "singleResults = {k: v[0] for k,v in singleResult.items()}\n",
    "print(\"Found {0} single results\".format(len(singleResults)))\n",
    "print(\"Found {0} all results\".format(len(knownArtists)))\n",
    "knownArtists.update(singleResults)\n",
    "print(\"Found {0} all results\".format(len(knownArtists)))"
   ]
  },
  {
   "cell_type": "code",
   "execution_count": null,
   "metadata": {},
   "outputs": [],
   "source": [
    "saveFile(idata=knownArtists, ifile=\"artistMap.p\", debug=True)"
   ]
  },
  {
   "cell_type": "markdown",
   "metadata": {},
   "source": [
    "## Manual Fixes"
   ]
  },
  {
   "cell_type": "code",
   "execution_count": null,
   "metadata": {},
   "outputs": [],
   "source": [
    "keep[\"Wizkid\"] = 3292269  #WizKid\n",
    "keep[\"A. R. Rahman\"] = 4459  #A.R. Rahman\n",
    "keep[\"Pharell Williams\"] = 90037  #Pharrell Williams\n",
    "keep[\"Lookas\"] = 3619379  #LooKas\n",
    "keep[\"Lil Jon\"] = 120307  #Lil' Jon\n",
    "keep[\"Jay-z\"] = 21742  #Jay-Z\n",
    "\n",
    "keep[\"Jean Michel Jarre\"] = 209415  #Jean-Michel Jarre\n",
    "keep[\"Puppini Sisters\"] = 663589  #The Puppini Sisters\n",
    "keep[\"Hadouken\"] = 744317  #Hadouken!\n",
    "keep[\"Peter Doherty\"] = 219403  #Pete Doherty\n",
    "keep[\"Dani Konig\"] = 95685  #Dani König\n",
    "keep[\"X-centric Sound System\"] = 177063  #Ex-Centric Sound System\n",
    "keep[\"And You Will Know Us By The T\"] = 80393  #And You Will Know Us By The Trail Of Dead\n",
    "keep[\"Serena Maneesh\"] = 563504  #Serena-Maneesh\n",
    "keep[\"Potatoheadz\"] = 38359  #Potatoheads\n",
    "keep[\"Black Angels\"] = 428135  #The Black Angels\n",
    "keep[\"La Fiancee\"] = 1603916  #La Fiancée\n",
    "keep[\"Knut Anders Sorum\"] = 713971  #Knut Anders Sørum\n",
    "\n",
    "keep[\"Magic Numbers\"] = 245226  #The Magic Numbers\n",
    "keep[\"Melissa M\"] = 952871  #Mélissa M\n",
    "keep[\"Weird Al Yankovic\"] = 259422  #\"Weird Al\" Yankovic\n",
    "keep[\"Star Academy 6\"] = 395756  #Star Academy\n",
    "keep[\"Dj Boozywoozy\"] = 39640  #DJ BoozyWoozy\n",
    "keep[\"Lauri Tahka\"] = 1236855  #Lauri Tähkä\n",
    "keep[\"Finn Brothers\"] = 377361  #The Finn Brothers\n",
    "keep[\"Red Jumpsuit Apparatus\"] = 746639  #The Red Jumpsuit Apparatus\n",
    "keep[\"Katharine Mcphee\"] = 544699  #Katharine McPhee\n",
    "keep[\"Massive Tone\"] = 51650  #Massive Töne\n",
    "keep[\"Soul'd Out\"] = 152449  #Soul'd OUT\n",
    "keep[\"Djames Braun\"] = 3024392  #Djämes Braun\n",
    "keep[\"K-otic\"] = 99126  #K-Otic\n",
    "keep[\"Dr. Kucho\"] = 171326  #Dr. Kucho!\n",
    "keep[\"Sivert Hoyem\"] = 226487  #Sivert Høyem\n",
    "keep[\"DJ's @ Work\"] = 27887  #DJs @ Work\n",
    "keep[\"T.m.revolution\"] = 1367682  #T.M.Revolution\n",
    "keep[\"Suburban Tribe\"] = 294619  #Sub-Urban Tribe\n",
    "keep[\"Peer Gunt\"] = 475654  #Peer Günt\n",
    "keep[\"Acda En De Munnik\"] = 283015  #Acda en de Munnik\n",
    "keep[\"Susanne Sundfor\"] = 747088  #Susanne Sundfør\n",
    "keep[\"Zen Cafe\"] = 264334  #Zen Café\n",
    "keep[\"Lutricia Mcneal\"] = 10896  #Lutricia McNeal\n",
    "keep[\"Soul Decision\"] = 725913  #soulDecision\n",
    "keep[\"MC Anitta\"] = 2807393  #Anitta\n",
    "keep[\"Antonio Jose\"] = 1661452  #Antonio José\n",
    "keep[\"Miguel Angel Silva\"] = 2374710  #Miguel Ángel Silva\n",
    "keep[\"Giant Leap\"] = 55439  #1 Giant Leap\n",
    "keep[\"Stephanie McIntosh\"] = 597377  #Stephanie Mcintosh\n",
    "keep[\"Beautiful South\"] = 171427  #The Beautiful South\n",
    "keep[\"Mars Volta\"] = 96218  #The Mars Volta\n",
    "keep[\"India Arie\"] = 410260  #India.Arie\n",
    "keep[\"Sheepdogs\"] = 1980121  #The Sheepdogs\n",
    "keep[\"Bjorn Rosenstrom\"] = 352899  #Björn Rosenström\n",
    "keep[\"Pretty Reckless\"] = 1773405  #The Pretty Reckless\n",
    "keep[\"Wallflowers\"] = 257714  #The Wallflowers\n",
    "keep[\"Booming People\"] = 440378  #The Booming People\n",
    "keep[\"Tania Mara\"] = 1614077  #Tânia Mara\n",
    "keep[\"Zacharius Carl Group\"] = 329135  #Zacharius Carls Group\n",
    "keep[\"Daniel Lindstrom\"] = 1465965  #Daniel Lindström\n",
    "keep[\"Pigeon Detectives\"] = 481793  #The Pigeon Detectives\n",
    "keep[\"Last Shadow Puppets\"] = 1099843  #The Last Shadow Puppets\n",
    "keep[\"Brian Mckight\"] = 97515  #Brian McKnight\n",
    "keep[\"Mrs. Greenbird\"] = 3134860  #Mrs Greenbird\n",
    "keep[\"Ophelie Winter\"] = 581072  #Ophélie Winter\n",
    "keep[\"Les Deesses\"] = 2392811  #Les Déesses\n",
    "keep[\"Xander De Buisonje\"] = 451325  #Xander De Buisonjé\n",
    "keep[\"Partysquad\"] = 523070  #The Partysquad\n",
    "keep[\"Jose Gonzalez\"] = 190821  #José González\n",
    "keep[\"Ok Go\"] = 219647  #OK Go\n",
    "keep[\"Ladi6\"] = 283432  #Ladi 6\n",
    "keep[\"Sergio Mendes\"] = 27986  #Sérgio Mendes\n",
    "keep[\"Dorothee\"] = 397164  #Dorothée\n",
    "keep[\"Suvi Terasniska\"] = 1032538  #Suvi Teräsniska\n",
    "keep[\"Anna Jarvinen\"] = 937842  #Anna Järvinen\n",
    "keep[\"Kinderen Voor Kinderen\"] = 354362  #Kinderen voor Kinderen\n",
    "keep[\"Rippingtons\"] = 555275  #The Rippingtons\n",
    "keep[\"Flaming Lips\"] = 67156  #The Flaming Lips\n",
    "keep[\"William Balde\"] = 1744946  #William Baldé\n",
    "keep[\"Justice Collective\"] = 3071540  #The Justice Collective\n",
    "keep[\"Ultra Nate\"] = 8099  #Ultra Naté\n",
    "keep[\"Robin S\"] = 66727  #Robin S.\n",
    "keep[\"Trentemoller\"] = 117914  #Trentemøller\n",
    "keep[\"Lene Alexandra\"] = 917923  #Lene Alexandra Øien\n",
    "keep[\"Ready Set\"] = 2183109  #The Ready Set\n",
    "keep[\"Charlatans\"] = 49023  #The Charlatans\n",
    "keep[\"Maximo Park\"] = 384412  #Maxïmo Park\n",
    "keep[\"Mokobe\"] = 392235  #Mokobé\n",
    "keep[\"Paps 'n' Skar\"] = 41801  #Paps N Skar\n",
    "keep[\"ScHoolboy Q\"] = 2353545  #Schoolboy Q\n",
    "keep[\"Nelja Ruusua\"] = 308352  #Neljä Ruusua\n",
    "keep[\"Afro-dite\"] = 296038  #Afro-Dite\n",
    "keep[\"Breaks Co-op\"] = 61311  #Breaks Co-Op\n",
    "keep[\"Laurent Wery\"] = 1310886  #Laurent Wéry\n",
    "keep[\"Proclaimers\"] = 274034  #The Proclaimers\n",
    "keep[\"Courteeners\"] = 971940  #The Courteeners\n",
    "keep[\"No Tone\"] = 841468  #No-Tone\n",
    "keep[\"Mo Things Family\"] = 174410  #Mo Thugs Family\n",
    "keep[\"Sammy Deluxe\"] = 88398  #Samy Deluxe\n",
    "keep[\"LaCrim\"] = 2707062  #Lacrim\n",
    "keep[\"Trancelucent\"] = 55384  #TranceLucent\n",
    "keep[\"Luis Represas\"] = 1237858  #Luís Represas\n",
    "keep[\"Tatsurou Yamashita\"] = 119485  #Tatsuro Yamashita\n",
    "keep[\"Ana Tijoux\"] = 469819  #Anita Tijoux\n",
    "keep[\"Axe Bahia\"] = 427149  #Axé Bahia\n",
    "keep[\"Elakelaiset\"] = 264335  #Eläkeläiset\n",
    "keep[\"Turmion Katilot\"] = 339414  #Turmion Kätilöt\n",
    "keep[\"Jean Claude Ades\"] = 66552  #Jean-Claude Ades\n",
    "keep[\"Hammerfall\"] = 287459  #HammerFall\n",
    "keep[\"Hear'say\"] = 312508  #Hear'Say\n",
    "keep[\"Jack Penate\"] = 747248  #Jack Peñate\n",
    "keep[\"Jeremy Chatelain\"] = 1107704  #Jérémy Chatelain\n",
    "keep[\"Alex Max Band\"] = 413545  #Alex Band\n",
    "keep[\"Falsa Alarma\"] = 1278412  #Falsalarma\n",
    "keep[\"G-spott\"] = 11679  #G-Spott\n",
    "keep[\"Ray LaMontagne\"] = 502002  #Ray Lamontagne\n",
    "keep[\"Chris De Burgh\"] = 151304  #Chris de Burgh\n",
    "keep[\"Verve Pipe\"] = 169539  #The Verve Pipe\n",
    "keep[\"Plusch\"] = 372645  #Plüsch\n",
    "keep[\"Compagnie Creole\"] = 528609  #La Compagnie Créole\n",
    "keep[\"MC Fioti\"] = 5865714  #Mc Fioti\n",
    "keep[\"Sie7te\"] = 1771803  #Sie7e\n",
    "keep[\"Bastard Sons Of Dioniso\"] = 2634291  #The Bastard Sons Of Dioniso\n",
    "keep[\"Baby Blue Sound Crew\"] = 1094228  #Baby Blue Soundcrew\n",
    "keep[\"Stone Roses\"] = 7298  #The Stone Roses\n",
    "keep[\"DJ Matvey Emerson\"] = 2126113  #Matvey Emerson\n",
    "keep[\"Gerald De Palmas\"] = 533880  #Gérald de Palmas\n",
    "keep[\"Oli. P\"] = 296389  #Oli.P\n",
    "keep[\"Andre Hazes Jr.\"] = 4298003  #André Hazes Jr.\n",
    "keep[\"Motorhead\"] = 233658  #Motörhead\n",
    "keep[\"Grateful Dead\"] = 246650  #The Grateful Dead\n",
    "keep[\"Liset Alea\"] = 138872  #Lissette Alea\n",
    "keep[\"Jennie Lofgren\"] = 996876  #Jennie Löfgren\n",
    "keep[\"Cardigans\"] = 39900  #The Cardigans\n",
    "keep[\"Cast Of Rent\"] = 2531774  #The Cast Of Rent\n",
    "keep[\"Saw Doctors\"] = 544713  #The Saw Doctors\n",
    "keep[\"Robert Delong\"] = 1121732  #Robert DeLong\n",
    "keep[\"Huun Huur Tu\"] = 109547  #Huun-Huur-Tu\n",
    "keep[\"Jari Sillanpaa\"] = 713952  #Jari Sillanpää\n",
    "keep[\"Hellacopters\"] = 261426  #The Hellacopters\n",
    "keep[\"Dan Backman\"] = 1106992  #Dan Bäckman\n",
    "keep[\"Artists Stand Up To Cancer\"] = 1350696  #Just Stand Up To Cancer\n",
    "keep[\"Mr.President\"] = 41707  #Mr. President\n",
    "keep[\"Loreena Mckennitt\"] = 213366  #Loreena McKennitt\n",
    "keep[\"Lashun Pace\"] = 824951  #LaShun Pace\n",
    "keep[\"Beach Boys\"] = 70829  #The Beach Boys\n",
    "keep[\"Allstars\"] = 1009547  #TV Allstars\n",
    "keep[\"Raveonettes\"] = 200321  #The Raveonettes\n",
    "keep[\"Body Rox\"] = 269697  #Bodyrox\n",
    "keep[\"Lazytown\"] = 729388  #LazyTown\n",
    "keep[\"Marie Laforet\"] = 462548  #Marie Laforêt\n",
    "keep[\"Dj Lhasa\"] = 196037  #DJ Lhasa\n",
    "keep[\"Robert Cray Band\"] = 292478  #The Robert Cray Band\n",
    "keep[\"Eppu Normaal\"] = 381585  #Eppu Normaali\n",
    "keep[\"Dj Norman\"] = 23243  #DJ Norman\n",
    "keep[\"B-Yentl\"] = 2747976  #BYentl\n",
    "keep[\"Jessica Folker\"] = 28518  #Jessica Folcker\n",
    "keep[\"Brolle\"] = 572997  #Brolle JR\n",
    "keep[\"The Cheetah Girls\"] = 633276  #Cheetah Girls\n",
    "keep[\"Pipettes\"] = 360206  #The Pipettes\n",
    "keep[\"John Dahlback\"] = 20805  #John Dahlbäck\n",
    "keep[\"HollySiz\"] = 2082991  #Hollysiz\n",
    "keep[\"Cassia Eller\"] = 1105685  #Cássia Eller\n",
    "keep[\"Marios Fragoulis\"] = 328042  #Mario Frangoulis\n",
    "keep[\"I Panta Nei\"] = 1138210  #Panta Rei\n",
    "keep[\"Sober\"] = 946450  #Sôber\n",
    "keep[\"Jarjestyshairio\"] = 1931984  #Järjestyshäiriö\n",
    "keep[\"Swingfly\"] = 70432  #Swing-Fly\n",
    "keep[\"Decemberists\"] = 264812  #The Decemberists\n",
    "keep[\"Jean Jacques Goldman\"] = 307094  #Jean-Jacques Goldman\n",
    "keep[\"Star Academy 7\"] = 395756  #Star Academy\n",
    "keep[\"Dj Chuckie\"] = 135575  #DJ Chuckie\n",
    "keep[\"Didrik Solli-tangen\"] = 1818627  #Didrik Solli-Tangen\n",
    "keep[\"Dj Goldfinger\"] = 802185  #DJ Goldfinger\n",
    "keep[\"Overtones\"] = 1443138  #The Overtones\n",
    "keep[\"Vaccines\"] = 2029033  #The Vaccines\n",
    "keep[\"Roshelle\"] = 2321646  #Rochelle\n",
    "keep[\"La Habitacion Roja\"] = 393825  #La Habitación Roja\n",
    "keep[\"Peter Lemarc\"] = 266999  #Peter LeMarc\n",
    "keep[\"Goldie Lookin' Chain\"] = 184984  #Goldie Lookin Chain\n",
    "keep[\"Smashing Pumpkins\"] = 28970  #The Smashing Pumpkins\n",
    "keep[\"Mighty Mighty Bosstones\"] = 275193  #The Mighty Mighty Bosstones\n",
    "keep[\"The Notorious B.I.G.\"] = 65049  #Notorious B.I.G.\n",
    "keep[\"Chante Moore\"] = 455230  #Chanté Moore\n",
    "keep[\"Josh Gracin\"] = 655983  #Joshua Gracin\n",
    "keep[\"Franck Michael\"] = 478419  #Frank Michael\n",
    "keep[\"The Go-betweens\"] = 83077  #The Go-Betweens\n",
    "keep[\"Shakespears Sister\"] = 30318  #Shakespear's Sister\n",
    "keep[\"Piero Pelu\"] = 662395  #Piero Pelù\n",
    "keep[\"Los Delinquentes\"] = 674561  #Los Delinqüentes\n",
    "keep[\"St. Germain\"] = 74  #St Germain\n",
    "keep[\"Zuri West\"] = 188532  #Züri West\n",
    "keep[\"Bustafunk\"] = 16272  #Busta Funk\n",
    "keep[\"Lea Castel\"] = 1153522  #Léa Castel\n",
    "keep[\"De Lillos\"] = 261173  #deLillos\n",
    "keep[\"Dj The Wave\"] = 241825  #DJ The Wave\n",
    "keep[\"The Academy Is\"] = 425277  #The Academy Is...\n",
    "keep[\"Dj S.P.U.D.\"] = 42088  #DJ S.P.U.D.\n",
    "keep[\"Dj Rebel\"] = 209672  #DJ Rebel\n",
    "keep[\"Susana Felix\"] = 1333026  #Susana Félix\n",
    "keep[\"Wildhearts\"] = 293211  #The Wildhearts\n",
    "keep[\"Altern8\"] = 12846  #Altern 8\n",
    "keep[\"Loredana Berte\"] = 366682  #Loredana Bertè\n",
    "keep[\"Bun-B\"] = 185582  #Bun B\n",
    "keep[\"Academia Operacion Triunfo\"] = 1375332  #Academia Operación Triunfo\n",
    "keep[\"Barr Brothers\"] = 2470090  #The Barr Brothers\n",
    "keep[\"Soulvation\"] = 53390  #Soulvation*\n",
    "keep[\"Ritmo Dynamic\"] = 123374  #Ritmo-Dynamic\n",
    "keep[\"Bleeders\"] = 483312  #The Bleeders\n",
    "keep[\"Hearsay\"] = 312508  #Hear'Say\n",
    "keep[\"Dj Shadow\"] = 4478  #DJ Shadow\n",
    "keep[\"Cooper Temple Clause\"] = 138071  #The Cooper Temple Clause\n",
    "keep[\"Maccabees\"] = 499923  #The Maccabees\n",
    "keep[\"Jon B.\"] = 20389  #Jon B\n",
    "keep[\"North American Halloween Prevention Initiative\"] = 1039212  #North American Hallowe'en Prevention Initiative\n",
    "keep[\"Cerena\"] = 1894383  #Cérena\n",
    "keep[\"Ze Pequeno\"] = 4613736  #Ze Pequeño\n",
    "keep[\"Les Muscles\"] = 297430  #Les Musclés\n",
    "keep[\"Teki Latex\"] = 247176  #Tekilatex\n",
    "keep[\"Tommy February6\"] = 1283490  #Tommy february6\n",
    "keep[\"Tommy Februaryo\"] = 1283490  #Tommy february6\n",
    "keep[\"Lovefreekz\"] = 208128  #The Lovefreekz\n",
    "keep[\"Upper Room\"] = 487039  #The Upper Room\n",
    "keep[\"Avett Brothers\"] = 824244  #The Avett Brothers\n",
    "keep[\"Legiao Urbana\"] = 264082  #Legião Urbana\n",
    "keep[\"Whitlams\"] = 254486  #The Whitlams\n",
    "keep[\"Jo Jo\"] = 306427  #JoJo\n",
    "keep[\"Fundacion Tony Manero\"] = 194603  #Fundación Tony Manero\n",
    "keep[\"Ali B.\"] = 234355  #Ali B\n",
    "keep[\"De Toppers\"] = 602723  #Toppers\n",
    "keep[\"Motorhomes\"] = 252568  #The Motorhomes\n",
    "keep[\"Di Leva\"] = 75662  #Di leva\n",
    "keep[\"Timo Raisanen\"] = 277925  #Timo Räisänen\n",
    "keep[\"Sebastien Tellier\"] = 2280  #Sébastien Tellier\n",
    "keep[\"Albatraoz\"] = 1183850  #Alcatraz\n",
    "keep[\"Roisin Murphy\"] = 455520  #Róisín Murphy\n",
    "keep[\"Ha Rule\"] = 51369  #Ja Rule\n",
    "keep[\"Pepper's Ghost\"] = 2364386  #Peppers Ghost\n",
    "keep[\"Waterboys\"] = 125174  #The Waterboys\n",
    "keep[\"Georges-alain Jones\"] = 1940009  #Georges-Alain Jones\n",
    "keep[\"Neg'marrons\"] = 219331  #Neg'Marrons\n",
    "keep[\"Kaleidoscopio\"] = 166678  #Kaleidoscópio\n",
    "keep[\"alt-J\"] = 2830806  #Alt-J\n",
    "keep[\"Tommy February\"] = 1283490  #Tommy february6\n",
    "keep[\"Disco Boys\"] = 196758  #The Disco Boys\n",
    "keep[\"Natalia Jimenez\"] = 2130134  #Natalia Jiménez\n",
    "keep[\"MadMan\"] = 2668959  #Madman\n",
    "keep[\"Aitana Ocana\"] = 6371628  #Aitana Ocaña\n",
    "keep[\"Polyphonic Spree\"] = 79023  #The Polyphonic Spree\n",
    "keep[\"John Mellencamp\"] = 237890  #John Cougar Mellencamp\n",
    "keep[\"White Tie Affair\"] = 1943163  #The White Tie Affair\n",
    "keep[\"Bon Garcon\"] = 458392  #Bon Garçon\n",
    "keep[\"Fu-tourist\"] = 34401  #Fu-Tourist\n",
    "keep[\"Kapteeni A-ni\"] = 85882  #Kapteeni Ä-ni\n",
    "keep[\"Ron Van Den Beuken\"] = 90120  #Ron van den Beuken\n",
    "keep[\"For My Pain\"] = 619891  #For My Pain...\n",
    "keep[\"Jack McManus\"] = 808532  #Jack Mcmanus\n",
    "keep[\"Radio Dept.\"] = 238640  #The Radio Dept.\n",
    "keep[\"Elin Sigvardsson\"] = 1063935  #Elin Ruth Sigvardsson\n",
    "keep[\"Dj Felli Fel\"] = 227465  #Felli Fel\n",
    "keep[\"New Deal\"] = 44720  #The New Deal\n",
    "keep[\"Camera Cafe\"] = 1645853  #Caméra Café\n",
    "keep[\"Ben L`Ocle Soul\"] = 1689692  #Ben L'Oncle Soul\n",
    "keep[\"Veronique Sanson\"] = 394617  #Véronique Sanson\n",
    "keep[\"Dj Schwede\"] = 41815  #DJ Schwede\n",
    "keep[\"Beam Vs. Cyrus\"] = 19442  #Beam vs. Cyrus\n",
    "keep[\"Dj Tocadisco\"] = 424389  #Tocadisco\n",
    "keep[\"De Vrienden Van Meneer Konijn\"] = 4591921  #Vrienden Van Meneer Konijn\n",
    "keep[\"4 Taste\"] = 325990  #Taste\n",
    "keep[\"Shaka Labbits\"] = 1829370  #Shakalabbits\n",
    "keep[\"Elio E Le Storie Tes\"] = 191166  #Elio E Le Storie Tese\n",
    "keep[\"Paco De Lucia\"] = 20184  #Paco De Lucía\n",
    "keep[\"Format B\"] = 263420  #Format: B\n",
    "keep[\"Oceanlab\"] = 427638  #OceanLab\n",
    "keep[\"Motley Crue\"] = 94068  #Mötley Crüe\n",
    "keep[\"Janelle Monae\"] = 445868  #Janelle Monáe\n",
    "keep[\"Civil Wars\"] = 2001094  #The Civil Wars\n",
    "keep[\"Moneybagg Yo\"] = 5197378  #MoneyBagg Yo\n",
    "keep[\"Caleidoscopio\"] = 166678  #Kaleidoscópio\n",
    "keep[\"Zeljko Joksimovic\"] = 473482  #Željko Joksimović\n",
    "keep[\"Mousee T\"] = 8803  #Mousse T.\n",
    "keep[\"Polo Montanes\"] = 483555  #Polo Montañez\n",
    "keep[\"Annette Artani\"] = 1466811  #Annet Artani\n",
    "keep[\"Payo Malo\"] = 613450  #El Payo Malo\n",
    "keep[\"To Die For\"] = 239041  #To-Die-For\n",
    "keep[\"Dj Jurgen\"] = 17260  #DJ Jurgen\n",
    "keep[\"Modesha\"] = 128255  #Nodesha\n",
    "keep[\"Latin Kings\"] = 158482  #The Latin Kings\n",
    "keep[\"Dead Weather\"] = 1391789  #The Dead Weather\n",
    "keep[\"High School Musical Cast\"] = 673607  #The High School Musical Cast\n",
    "keep[\"Dj Mark Farina\"] = 4710  #Mark Farina\n",
    "keep[\"Sandrine Francois\"] = 1446111  #Sandrine François\n",
    "keep[\"Gregori Baquet\"] = 568948  #Grégori Baquet\n",
    "keep[\"Superheavy\"] = 2418975  #SuperHeavy\n",
    "keep[\"Deborah De Corral\"] = 2035021  #Deborah de Corral\n",
    "keep[\"Brilliant Green\"] = 296909  #The Brilliant Green\n",
    "keep[\"Laith Al-deen\"] = 341824  #Laith Al-Deen\n",
    "keep[\"Audiobullys\"] = 50016  #Audio Bullys\n",
    "keep[\"Mr Redz\"] = 21964  #Mr. Reds\n",
    "keep[\"Eye Opener\"] = 138167  #Eyeopener\n",
    "keep[\"Kraftklub\"] = 2028458  #KraftKlub\n",
    "keep[\"Human League\"] = 10383  #The Human League\n",
    "keep[\"Lost Brothers\"] = 158835  #The Lost Brothers\n",
    "keep[\"Young Knives\"] = 470191  #The Young Knives\n",
    "keep[\"Get Cape Wear Cape Fly\"] = 747070  #Get Cape. Wear Cape. Fly\n",
    "keep[\"Starting Line\"] = 355465  #The Starting Line\n",
    "keep[\"The-dream\"] = 1008036  #The-Dream\n",
    "keep[\"Piano Guys\"] = 3507956  #The Piano Guys\n",
    "keep[\"Beyonce\"] = 52835  #Beyoncé\n",
    "keep[\"Amity Affliction\"] = 2446213  #The Amity Affliction\n",
    "keep[\"A$AP Mob\"] = 2898554  #ASAP Mob\n",
    "keep[\"Kelly K\"] = 970192  #Kelly Key\n",
    "keep[\"Blizzard Brothers Inc\"] = 41806  #Blizzard Brothers\n",
    "keep[\"Jade Macrae\"] = 197656  #Jade MacRae\n",
    "keep[\"Herman Dune\"] = 264602  #Herman Düne\n",
    "keep[\"Alex  Britti\"] = 653853  #Alex Britti\n",
    "keep[\"Alfred Garcia\"] = 6371630  #Alfred García\n",
    "keep[\"Rena Dif\"] = 233790  #René Dif\n",
    "keep[\"Flaming Sideburns\"] = 491667  #The Flaming Sideburns\n",
    "keep[\"JS-16\"] = 35833  #JS16\n",
    "keep[\"Lisa Left Eye Lopes\"] = 110359  #Lisa \"Left Eye\" Lopes\n",
    "keep[\"Rosemary' Sons\"] = 285835  #Rosemary's Sons\n",
    "keep[\"K-klass\"] = 36624  #K-Klass\n",
    "keep[\"Drumatic Twins\"] = 14784  #Drumattic Twins\n",
    "keep[\"Crashdiet\"] = 825015  #Crashdïet\n",
    "keep[\"Anne-Lie Ryde\"] = 264170  #Anne-Lie Rydé\n",
    "keep[\"Alex Swing Oskars Sings!\"] = 1442099  #Alex Swings Oscar Sings!\n",
    "keep[\"Adolphson Falk\"] = 119104  #Adolphson-Falk\n",
    "keep[\"Run DMC\"] = 219213  #Run-DMC\n",
    "keep[\"Pj Harvey\"] = 36052  #PJ Harvey\n",
    "keep[\"Journey South\"] = 325103  #Joe South\n",
    "keep[\"Lil Scrappy\"] = 239305  #Lil' Scrappy\n",
    "keep[\"Breeders\"] = 39778  #The Breeders\n",
    "keep[\"Huis Anubis\"] = 2797437  #Het Huis Anubis\n",
    "keep[\"Avalanches\"] = 9130  #The Avalanches\n",
    "keep[\"Dj F.E.X.\"] = 43804  #DJ F.E.X\n",
    "keep[\"Kc Da Rookee\"] = 220984  #KC Da Rookee\n",
    "keep[\"N Trance\"] = 11001  #N-Trance\n",
    "keep[\"Trooper Da Doon\"] = 66144  #Trooper Da Don\n",
    "keep[\"Divine Comedy\"] = 27933  #The Divine Comedy\n",
    "keep[\"Blumchen\"] = 20156  #Blümchen\n",
    "keep[\"Dt8 Project\"] = 34061  #DT8 Project\n",
    "keep[\"Dead 60s\"] = 260915  #The Dead 60s\n",
    "keep[\"Duke Spirit\"] = 275448  #The Duke Spirit\n",
    "keep[\"Airborne Toxic Event\"] = 1311029  #The Airborne Toxic Event\n",
    "keep[\"Big Pink\"] = 1337426  #The Big Pink\n",
    "keep[\"Boyz In Da Hood\"] = 336836  #Boyz N Da Hood\n",
    "keep[\"Devil Wears Prada\"] = 989173  #The Devil Wears Prada\n",
    "keep[\"Sixx: A.M.\"] = 895454  #Sixx:A.M.\n",
    "keep[\"Dirty Heads\"] = 2089008  #The Dirty Heads\n",
    "keep[\"Mac DeMarco\"] = 2568722  #Mac Demarco\n",
    "keep[\"Mauricio Manieri\"] = 1563247  #Maurício Manieri\n",
    "keep[\"Butterfly Effect\"] = 441749  #The Butterfly Effect\n",
    "keep[\"L'aura\"] = 880722  #L'Aura\n",
    "keep[\"Fabula\"] = 210657  #Jabula\n",
    "keep[\"Dj Joe K\"] = 225215  #DJ Joe K.\n",
    "keep[\"Rasmus Nohr\"] = 396235  #Rasmus Nøhr\n",
    "keep[\"Valkyrians\"] = 538336  #The Valkyrians\n",
    "keep[\"Dir En Grey\"] = 348163  #Dir en grey\n",
    "keep[\"Rock'a'trench\"] = 2981100  #Rock'A'Trench\n",
    "keep[\"Wolfe Tones\"] = 1219696  #The Wolfe Tones\n",
    "keep[\"Andre Van Duin\"] = 367055  #André van Duin\n",
    "keep[\"M Hederos M Hellberg\"] = 474515  #Hederos & Hellberg\n",
    "keep[\"Christer Sjogren\"] = 656866  #Christer Sjögren\n",
    "keep[\"Feelstyle\"] = 266896  #Tha Feelstyle\n",
    "keep[\"Beta Band\"] = 3847  #The Beta Band\n",
    "keep[\"Angelis\"] = 251965  #Angelfish\n",
    "keep[\"Dr Hook\"] = 206325  #Dr. Hook\n",
    "keep[\"Royal Scots Dragoon Guards\"] = 595755  #The Royal Scots Dragoon Guards\n",
    "keep[\"Hold Steady\"] = 491197  #The Hold Steady\n",
    "keep[\"SheDaisy\"] = 1479264  #Shedaisy\n",
    "keep[\"Gregoire\"] = 1407221  #Grégoire\n",
    "keep[\"Tragically Hip\"] = 267249  #The Tragically Hip\n",
    "keep[\"Dj Molella\"] = 36544  #Molella\n",
    "keep[\"Facteur X\"] = 334431  #Factor X\n",
    "keep[\"Che Nelle\"] = 1055693  #Che'Nelle\n",
    "keep[\"Jerome Echenoz\"] = 695381  #Jérôme Echenoz\n",
    "keep[\"Svein Ostvik\"] = 3781616  #Svein Østvik\n",
    "keep[\"Dj Taylor\"] = 16567  #DJ Taylor\n",
    "keep[\"Wiener Sangerknaben\"] = 533488  #Die Wiener Sängerknaben\n",
    "keep[\"Zoe Straub\"] = 4767549  #Zoë Straub\n",
    "keep[\"David Latour \"] = 1189620  #David Latour\n",
    "keep[\"Finger Tips\"] = 1663670  #Fingertips\n",
    "keep[\"Kelly Family\"] = 319276  #The Kelly Family\n",
    "keep[\"Jaime Cullum\"] = 194401  #Jamie Cullum\n",
    "keep[\"Queensryche\"] = 255363  #Queensrÿche\n",
    "keep[\"Black Crowes\"] = 262691  #The Black Crowes\n",
    "keep[\"David Crowder Band\"] = 413886  #David Crowder*Band\n",
    "keep[\"Gaslight Anthem\"] = 1167086  #The Gaslight Anthem\n",
    "keep[\"BrockHampton\"] = 4581123  #Brockhampton\n",
    "keep[\"Getaway Plan\"] = 1230298  #The Getaway Plan\n",
    "keep[\"Ener G\"] = 1660398  #Ener.G\n",
    "keep[\"C- Bool\"] = 251008  #C-Bool\n",
    "keep[\"Dublex INC.\"] = 3762  #Dublex Inc.\n",
    "keep[\"R.E.G. Project\"] = 164534  #The R.E.G. Project\n",
    "keep[\"Niccolo Fabi\"] = 329588  #Niccolò Fabi\n",
    "keep[\"Jakkata\"] = 3442  #Jakatta\n",
    "keep[\"Rald Schmitz\"] = 1404551  #Ralf Schmitz\n",
    "keep[\"Bikstok Rogsystem\"] = 272410  #Bikstok Røgsystem\n",
    "keep[\"Sinead O'Connor\"] = 42895  #Sinéad O'Connor\n",
    "keep[\"Dj Slow\"] = 55897  #DJ Slow\n",
    "keep[\"Buck-tick\"] = 69223  #Buck-Tick\n",
    "keep[\"Mahala Rai Banda\"] = 1208659  #Mahala Raï Banda\n",
    "keep[\"SunStroke Project\"] = 1818637  #Sunstroke Project\n",
    "keep[\"Gary Clark Jr\"] = 2699369  #Gary Clark Jr.\n",
    "keep[\"Royal Guardsmen\"] = 290319  #The Royal Guardsmen\n",
    "keep[\"Temptations\"] = 28332  #The Temptations\n",
    "keep[\"Searchers\"] = 277352  #The Searchers\n",
    "keep[\"New Seekers\"] = 93841  #The New Seekers\n",
    "keep[\"Counting Crow\"] = 262643  #Counting Crows\n",
    "keep[\"Louise Attague\"] = 374074  #Louise Attaque\n",
    "keep[\"Osborne Brothers\"] = 1088676  #The Osborne Brothers\n",
    "keep[\"Roman Flugel\"] = 13111  #Roman Flügel\n",
    "keep[\"Rubettes\"] = 240902  #The Rubettes\n",
    "keep[\"Bart Kaell\"] = 446710  #Bart Kaëll\n",
    "keep[\"Slongs Dievanongs \"] = 4435213  #Slongs Dievanongs\n",
    "keep[\"Ez Special\"] = 148110  #EZ Special\n",
    "keep[\"Reelists\"] = 154054  #The Reelists\n",
    "keep[\"King Gidra\"] = 385694  #King Giddra\n",
    "keep[\"Zoe Birkett\"] = 320018  #Zoë Birkett\n",
    "keep[\"D!-Nation\"] = 1599356  #D!Nation\n",
    "keep[\"Von Bondies\"] = 313529  #The Von Bondies\n",
    "keep[\"Weather Girls\"] = 80134  #The Weather Girls\n",
    "keep[\"Levellers\"] = 23672  #The Levellers\n",
    "keep[\"Mj Cole\"] = 1515  #MJ Cole\n",
    "keep[\"Paddingtons\"] = 337981  #The Paddingtons\n",
    "keep[\"Long Blondes\"] = 245214  #The Long Blondes\n",
    "keep[\"Sunshine Underground\"] = 361710  #The Sunshine Underground\n",
    "keep[\"Unklejam\"] = 774556  #UnkleJam\n",
    "keep[\"Dave Clark Five\"] = 329252  #The Dave Clark Five\n",
    "keep[\"Boney M\"] = 235979  #Boney M.\n",
    "keep[\"Trustcompany\"] = 279197  #Trust Company\n",
    "keep[\"K`Jon\"] = 211210  #K'Jon\n",
    "keep[\"New Pornographers\"] = 363443  #The New Pornographers\n",
    "keep[\"Grace Vanderwaal\"] = 5436370  #Grace VanderWaal\n",
    "keep[\"Lil Peep\"] = 5378070  #Lil' Peep\n",
    "keep[\"Superjesus\"] = 273378  #The Superjesus\n",
    "keep[\"Dissociatives\"] = 233572  #The Dissociatives\n",
    "keep[\"Sleepy Jackson\"] = 138068  #The Sleepy Jackson\n",
    "keep[\"McClymonts\"] = 2376183  #The McClymonts\n",
    "keep[\"Jezabels\"] = 1704414  #The Jezabels\n",
    "keep[\"Raining Pleausure\"] = 637513  #Raining Pleasure\n",
    "keep[\"Loredana Berte'\"] = 366682  #Loredana Bertè\n",
    "keep[\"Claduio Baglioni\"] = 638411  #Claudio Baglioni\n",
    "keep[\"Papa Levante\"] = 388519  #Papá Levante\n",
    "keep[\"Dj Marta\"] = 198294  #DJ Marta\n",
    "keep[\"Mendonca Do Rio\"] = 783996  #Mendonça Do Rio\n",
    "keep[\"Epila\"] = 1608899  #Epilä\n",
    "keep[\"Man-Eating Tree\"] = 2289900  #The Man-Eating Tree\n",
    "keep[\"Jon Norgaard\"] = 845262  #Jon Nørgaard\n",
    "keep[\"Black League\"] = 404409  #The Black League\n",
    "keep[\"Pate Mustajarvi\"] = 477874  #Pate Mustajärvi\n",
    "keep[\"Brand New Heavies\"] = 1396  #The Brand New Heavies\n",
    "keep[\"Erik E\"] = 9647  #Erick E\n",
    "keep[\"Dj Mobster\"] = 943953  #DJ Mobster\n",
    "keep[\"Frank Ti-aya\"] = 583397  #Frank Ti-Aya\n",
    "keep[\"Osten Med Resten\"] = 704765  #Östen Med Resten\n",
    "keep[\"Ape\"] = 404433  #Apse\n",
    "keep[\"Tough Alliance\"] = 305005  #The Tough Alliance\n",
    "keep[\"Kristet Utseende\"] = 360021  #The Kristet Utseende\n",
    "keep[\"Kalomoira\"] = 2270989  #Kalomira"
   ]
  },
  {
   "cell_type": "code",
   "execution_count": null,
   "metadata": {},
   "outputs": [],
   "source": [
    "keep[\"Ms Dynamite\"] = 24059  #Ms. Dynamite\n",
    "keep[\"Rene Froger\"] = 283021  #René Froger\n",
    "keep[\"VanVelzen\"] = 702319  #Vanvelzen\n",
    "keep[\"Fratellis\"] = 472288  #The Fratellis\n",
    "keep[\"Andre Hazes\"] = 282287  #André Hazes\n",
    "keep[\"Kat-tun\"] = 2884266  #Kat-Tun\n",
    "keep[\"Jean Roch\"] = 1368909  #Jean-Roch\n",
    "keep[\"TikTak\"] = 383787  #Tiktak\n",
    "keep[\"L.E.J.\"] = 4777768  #L.E.J\n",
    "keep[\"Pablo Lopez\"] = 3465939  #Pablo López\n",
    "keep[\"Agnetha Faltskog\"] = 149038  #Agnetha Fältskog\n",
    "keep[\"Kapten Rod\"] = 1104466  #Kapten Röd\n",
    "keep[\"BBmak\"] = 231074  #BBMak\n",
    "keep[\"Dj Jose\"] = 53783  #DJ Jose\n",
    "keep[\"Gigi D'alessio\"] = 839027  #Gigi D'Alessio\n",
    "keep[\"Terasbetoni\"] = 333752  #Teräsbetoni\n",
    "keep[\"Kim-lian\"] = 323824  #Kim-Lian\n",
    "keep[\"Jose Feliciano\"] = 465889  #José Feliciano\n",
    "keep[\"Asteroids Galaxy Tour\"] = 865897  #The Asteroids Galaxy Tour\n",
    "keep[\"Strumbellas\"] = 3705444  #The Strumbellas\n",
    "keep[\"Pep`s\"] = 701116  #Pep's\n",
    "keep[\"Gue Pequeno\"] = 1216738  #Guè Pequeno\n",
    "keep[\"Dead By April\"] = 1477009  #Dead by April\n",
    "keep[\"Luca Hanni\"] = 2779963  #Luca Hänni\n",
    "keep[\"Noir Desir\"] = 85007  #Noir Désir\n",
    "keep[\"Jean Pascal\"] = 614758  #Jean-Pascal\n",
    "keep[\"Herbert Groenemeyer\"] = 163850  #Herbert Grönemeyer\n",
    "keep[\"Nina Pastori\"] = 925146  #Niña Pastori\n",
    "keep[\"Saddle Club\"] = 2956368  #The Saddle Club\n",
    "keep[\"Pariisin Kevat\"] = 1984505  #Pariisin Kevät\n",
    "keep[\"Barbara Streisand\"] = 53248  #Barbra Streisand\n",
    "keep[\"Bohse Onkelz\"] = 262898  #Böhse Onkelz\n",
    "keep[\"Manolo Garcia\"] = 705504  #Manolo García\n",
    "keep[\"Ordinary Boys\"] = 366147  #The Ordinary Boys\n",
    "keep[\"Dj Tatana\"] = 13864  #DJ Tatana\n",
    "keep[\"Peter Joback\"] = 343362  #Peter Jöback\n",
    "keep[\"Loic Nottet\"] = 4355587  #Loïc Nottet\n",
    "keep[\"Sander Van Doorn\"] = 183267  #Sander van Doorn\n",
    "keep[\"Youngbloodz\"] = 209479  #YoungBloodZ\n",
    "keep[\"A$AP Ferg\"] = 2503395  #ASAP Ferg\n",
    "keep[\"Benassi Bros\"] = 171187  #Benassi Bros.\n",
    "keep[\"Watermat\"] = 3856896  #Watermät\n",
    "keep[\"Asian Kung-fu Generation\"] = 289562  #Asian Kung-Fu Generation\n",
    "keep[\"Hi-Tack\"] = 364150  #Hi_Tack\n",
    "keep[\"Hubert Von Goisern\"] = 446821  #Hubert von Goisern\n",
    "keep[\"Lee Dewyze\"] = 2016926  #Lee DeWyze\n",
    "keep[\"Sofia Essaidi\"] = 1400771  #Sofia Essaïdi\n",
    "keep[\"Elodie Frege\"] = 958245  #Elodie Frégé\n",
    "keep[\"Jurgen Drews\"] = 109458  #Jürgen Drews\n",
    "keep[\"Jorge Vercilo\"] = 1609339  #Jorge Vercillo\n",
    "keep[\"Futureheads\"] = 132795  #The Futureheads\n",
    "keep[\"Jim Stark\"] = 273036  #Jim Stärk\n",
    "keep[\"Andre Sardet\"] = 1324640  #André Sardet\n",
    "keep[\"Mago De Oz\"] = 691599  #Mägo De Oz\n",
    "keep[\"Kapasiteettiyksikko\"] = 264342  #Kapasiteettiyksikkö"
   ]
  },
  {
   "cell_type": "code",
   "execution_count": null,
   "metadata": {},
   "outputs": [],
   "source": [
    "keys = [\"Click Five\", \"Gospellers\", \"Temper Trap\", \"Cranberries\", \"Matthew Good Band\", \"Esmee Denters\", \"David Demaria\",\n",
    "        \"Hoosiers\", \"L'Arc-en-Ciel\", \"Dj Aligator Project\", \"Diana Degarmo\", \"Adelen\", \"Madden Brothers\", \"Grupo Revelacao\",\n",
    "        \"Brolle Jr.\", \"Beatfreakz\", \"Star Academy 2\"]\n",
    "for key in keys:\n",
    "    keep[key] = singleResult[key][0]"
   ]
  },
  {
   "cell_type": "code",
   "execution_count": null,
   "metadata": {},
   "outputs": [],
   "source": [
    "keys = [\"Potbelleez\", \"Los Autenticos Decadentes\", \"Gunther\", \"Star Academy 5\", \"Pedro Capo\", \"Dandy Warhols\",\n",
    "        \"Postal Service\", \"Tea Party\", \"B 3\", \"Dj Tomekk\", \"M-kids\", \"Waldo`s People\", \"Lil Kleine\", \"Laura Narhi\", \"TopGunn\", \n",
    "        \"Joaquin Sabina\", \"Raconteurs\", \"Monica Naranjo\", \"Patrick Sebastien\", \"Molly Sanden\", \"Miguel Bose\"]\n",
    "for key in keys:\n",
    "    keep[key] = singleResult[key][0]"
   ]
  },
  {
   "cell_type": "code",
   "execution_count": null,
   "metadata": {},
   "outputs": [],
   "source": [
    "keys = ['Petri Nygard', 'Blackbear', 'Den Svenska Bjornstammen', 'Baseballs', 'Sandra Van Nieuwland', 'Ian Carey Project',\n",
    "        \"BossHoss\", \"Max Gazze\", \"MoTrip\", \"Les Enfoires\", \"Lil Bow Wow\", \"Frero Delavega\", \"Kumi Kouda\", \"Bjork\", \n",
    "        \"RedFoo\", \"Star Academy 4\", \"John Butler Trio\", \"Gregory Lemarchal\"]\n",
    "for key in keys:\n",
    "    keep[key] = singleResult[key][0]"
   ]
  },
  {
   "cell_type": "code",
   "execution_count": null,
   "metadata": {},
   "outputs": [],
   "source": [
    "keys = ['AronChupa', 'Sexion D`Assaut', 'Die Arzte', \"Bro'sis\", \"Maneskin\", \"Royksopp\", \"Opposites\", \"OpShop\", \n",
    "        \"Jennifer Pena\", \"Paul Van Dyk\", \"La 5ta Estacion\", \"Supermen Lovers\", \"Keshia Chante\", \"Special D\",\n",
    "        \"Kinki Kids\", \"Neighbourhood\", \"No Te Va A Gustar\", \"Ll Cool J\", \"Jeroen Van Der Boom\", \"Star Academy 3\",\n",
    "        \"Miguel Angel Munoz\", \"Tito El Bambino\", \"Andres Calamaro\", \"A$AP Rocky\", \"Boogie Pimps\"]\n",
    "for key in keys:\n",
    "    keep[key] = singleResult[key][0]"
   ]
  },
  {
   "cell_type": "code",
   "execution_count": null,
   "metadata": {},
   "outputs": [],
   "source": [
    "keys = ['DJ Otzi', 'DJ Bobo', 'R.I.O.', 'Chimene Badi', 'Underdog Project', 'Thalia', 'Mr Children', 'Lonely Island', 'Tragedie',\n",
    "        'Burhan G', 'Mans Zelmerlow', 'Christophe Mae', 'Marco Antonio Solis', 'Sohne Mannheims', 'US5', 'Lars Winnerback',\n",
    "        'Alejandro Fernandez', 'Mis-teeq', 'Gestort Aber Geil', 'Herbert Gronemeyer', \"Shy'M\", \"Hakan Hellstrom\",\n",
    "        \"Keen`V\", \"Ting Tings\", \"Frankie J\", \"K 3\", \"Common Linnets\", \"Coeur De Pirate\", \"Julien Dore\", 'Dani Martin', 'Di-rect']\n",
    "for key in keys:\n",
    "    keep[key] = singleResult[key][0]"
   ]
  },
  {
   "cell_type": "code",
   "execution_count": null,
   "metadata": {},
   "outputs": [],
   "source": [
    "keys = ['T.A.T.U.', 'Outkast', 'Mr Probz', 'Michael Buble', 'B.o.B', 'Michel Telo', 'Pablo Alboran', 'O-zone', 'Amy Macdonald',\n",
    "        'Lumineers', 'DJ Tiesto', 'Chainsmokers','MadCon', 'Mylene Farmer', 'XXXTentacion', 'Dj Sammy', 'Sophie Ellis Bextor',\n",
    "        'Veronicas', 'In Grid', 'Chemical Brothers', 'K-Maro', 'Collectif Metisse', 'Matt Pokora', 'White Stripes', 'Bebe Lilly',\n",
    "        'Calling', 'Saturdays', 'Christina Sturmer', 'All-American Rejects', 'Dan Balan', 'J Balvin', 'Elena Paparizou', \n",
    "        'Nadiya', 'Blink 182', 'Rene La Taupe', 'DonkeyBoy', 'Rolling Stones', 'Sigur Ros', 'Israel Kamakawiwoole', 'Armin Van Buuren']\n",
    "for key in keys:\n",
    "    keep[key] = singleResult[key][0]"
   ]
  },
  {
   "cell_type": "code",
   "execution_count": null,
   "metadata": {},
   "outputs": [],
   "source": [
    "print(keep)\n",
    "saveFile(idata=keep, ifile=\"known.p\", debug=True)"
   ]
  },
  {
   "cell_type": "code",
   "execution_count": null,
   "metadata": {},
   "outputs": [],
   "source": [
    "keep = getFile(\"known.p\")\n",
    "saveFile(idata=keep, ifile=\"singleRenames.p\")\n",
    "print(keep)"
   ]
  },
  {
   "cell_type": "code",
   "execution_count": null,
   "metadata": {},
   "outputs": [],
   "source": []
  },
  {
   "cell_type": "code",
   "execution_count": null,
   "metadata": {},
   "outputs": [],
   "source": [
    "multiGet  = {}\n",
    "singleGet = {}\n",
    "matchGet  = {}\n",
    "\n",
    "\n",
    "for i, (artist, cnt) in enumerate(slimResults.most_common()):    \n",
    "    artistAlbums = set(list(fullResults[artist][\"Songs\"].keys()) + list(fullResults[artist][\"Albums\"].keys()))\n",
    "    matches = mulArts.getArtistNames(artist)\n",
    "    for match in matches.keys():\n",
    "        if multiGet.get(match) is not None:\n",
    "            continue\n",
    "        if singleGet.get(match) is not None:\n",
    "            continue\n",
    "        if matchGet.get(match) is not None:\n",
    "            continue\n",
    "        mdata = getMusicData(\"DiscArtist\", match)\n",
    "        if not isinstance(mdata, DataFrame):\n",
    "            if len(matches) == 1:\n",
    "                singleGet[match] = artistAlbums\n",
    "                print(\"{0: <20}{1: <30}{2: <30}{3}\\tSingle\".format(\"{0} / {1}\".format(i,len(slimResults)), match, artist, cnt))\n",
    "            else:\n",
    "                multiGet[match] = artistAlbums\n",
    "                print(\"{0: <20}{1: <30}{2: <30}{3}\\tMulti\".format(\"{0} / {1}\".format(i,len(slimResults)), match, artist, cnt))\n",
    "        else:\n",
    "            if mdata.shape[0] == 1:\n",
    "                continue\n",
    "            else:\n",
    "                matchGet[match] = artistAlbums\n",
    "                print(\"{0: <20}{1: <30}{2: <30}{3}\\tMatch\".format(\"{0} / {1}\".format(i,len(slimResults)), match, artist, cnt))\n",
    "    if i > 1000:\n",
    "        break"
   ]
  },
  {
   "cell_type": "code",
   "execution_count": null,
   "metadata": {},
   "outputs": [],
   "source": [
    "saveFile(idata=multiGet, ifile=\"multiToGet.p\")\n",
    "saveFile(idata=singleGet, ifile=\"singleGet.p\")\n",
    "saveFile(idata=matchGet, ifile=\"matchGet.p\")"
   ]
  },
  {
   "cell_type": "code",
   "execution_count": null,
   "metadata": {},
   "outputs": [],
   "source": [
    "for artistName, artistResults in multiGet.items():\n",
    "    results = getBestArtistMatch(artistName, artistResults, N=10, cutoff=0.6)\n",
    "    print(artistName,'\\t',results)"
   ]
  },
  {
   "cell_type": "code",
   "execution_count": null,
   "metadata": {},
   "outputs": [],
   "source": [
    "%load_ext autoreload\n",
    "%autoreload\n",
    "\n",
    "from artists import artists\n",
    "disc = discogs()\n",
    "arts = artists(disc)\n",
    "for artistName in singleGet.keys():\n",
    "    print(\"===========>\",artistName)\n",
    "    arts.searchDiscogForArtist(artistName)"
   ]
  },
  {
   "cell_type": "code",
   "execution_count": null,
   "metadata": {},
   "outputs": [],
   "source": []
  },
  {
   "cell_type": "code",
   "execution_count": null,
   "metadata": {},
   "outputs": [],
   "source": []
  },
  {
   "cell_type": "code",
   "execution_count": null,
   "metadata": {},
   "outputs": [],
   "source": []
  },
  {
   "cell_type": "code",
   "execution_count": null,
   "metadata": {},
   "outputs": [],
   "source": []
  },
  {
   "cell_type": "code",
   "execution_count": null,
   "metadata": {},
   "outputs": [],
   "source": []
  },
  {
   "cell_type": "code",
   "execution_count": null,
   "metadata": {},
   "outputs": [],
   "source": []
  },
  {
   "cell_type": "code",
   "execution_count": null,
   "metadata": {},
   "outputs": [],
   "source": [
    "from collections import Counter\n",
    "x = Counter({'a': 0, 'b': 0.5, 'c': 0.75})\n",
    "x.most_common(1)"
   ]
  },
  {
   "cell_type": "code",
   "execution_count": null,
   "metadata": {},
   "outputs": [],
   "source": []
  },
  {
   "cell_type": "code",
   "execution_count": null,
   "metadata": {},
   "outputs": [],
   "source": []
  },
  {
   "cell_type": "code",
   "execution_count": null,
   "metadata": {},
   "outputs": [],
   "source": [
    "getBestArtistMatch(\"Beyonce\", {'Crazy In Love', 'Deja Vu', 'Drunk In Love'})"
   ]
  },
  {
   "cell_type": "code",
   "execution_count": null,
   "metadata": {},
   "outputs": [],
   "source": []
  },
  {
   "cell_type": "code",
   "execution_count": null,
   "metadata": {},
   "outputs": [],
   "source": [
    "ratVal = 0.6\n",
    "if len(myMusicNameIDMap) > 0:\n",
    "    ratVal = 0.3\n",
    "artistIDMap = {}\n",
    "for artistName,artistSlimData in multiMap.items():\n",
    "    print(\"\\n\",\"=\"*50)\n",
    "    print(\"ArtistName: {0}\".format(artistName))\n",
    "    print(\"   Albums: {0}\".format(len(artistSlimData[\"Albums\"])))\n",
    "\n",
    "    myAlbumNames = []\n",
    "    for album in artistSlimData[\"Albums\"]:\n",
    "        myAlbumName = album.split(\"/{0}/\".format(artistName))[-1]\n",
    "        #print(\"     {0: <15}{1: <10}{2}\".format(\"\", \"\", myAlbumName))\n",
    "        myAlbumNames.append(myAlbumName)\n",
    "        \n",
    "    for idx,row in artistSlimData[\"DB\"].iterrows():\n",
    "        artistAlbumsData = getRowByIndex(artistAlbumsDB, idx)\n",
    "        artistAlbums     = artistAlbumsData[\"Albums\"]\n",
    "        print(\"   Match: {0}  [{1}]\".format(row[\"DiscArtist\"], row[\"Name\"]))\n",
    "        if isinstance(artistAlbums, dict):\n",
    "            for albumType, albumTypeData in artistAlbums.items():\n",
    "                for albumID, dbAlbumName in albumTypeData.items():\n",
    "                    for myAlbumName in myAlbumNames:\n",
    "                        s = SequenceMatcher(None, myAlbumName, dbAlbumName)\n",
    "                        ratio = s.ratio()\n",
    "                        if ratio > 0.6:\n",
    "                            print(\"     {0: <15}{1: <10}{2: <8}{3}\".format(albumType, albumID, round(ratio,2), dbAlbumName))\n",
    "                            artistIDMap[artistName] = [idx, row[\"Name\"]]"
   ]
  },
  {
   "cell_type": "code",
   "execution_count": null,
   "metadata": {},
   "outputs": [],
   "source": []
  },
  {
   "cell_type": "code",
   "execution_count": null,
   "metadata": {},
   "outputs": [],
   "source": [
    "daytype = {\"USA Albums\": [\"SAT\", \"%Y-%m-%d\"],\n",
    "           \"USA Singles Top 40\": [\"SAT\", \"%Y-%m-%d\"]}\n",
    "daytype = {\"UK Singles Top 40\": [\"SAT\", \"%Y-%m-%d\"]}\n",
    "daytype = {\"Top40-Charts.com Web Top 100\": [\"SAT\", \"%Y-%m-%d\"]}\n",
    "daytype = {\"Airplay World Official Top 100\": [\"SAT\", \"%Y-%m-%d\"]}\n",
    "\n",
    "#daytype = {\"USA Singles Top 40\": [\"SAT\", \"%Y-%m-%d\"]}\n",
    "\n",
    "from pandas import Timestamp\n",
    "def getDates(daytype, cname):\n",
    "    dates = []\n",
    "    if cname == \"USA Singles Top 40\":\n",
    "        dates1 = date_range(start='1997-07-07', end=\"2000-04-01\", freq=\"W-MON\").strftime(\"%Y-%m-%d\")\n",
    "        dates2 = date_range(start=\"2000-04-01\", end=Timestamp.today(), freq=\"W-SAT\").strftime(\"%Y-%m-%d\")\n",
    "        dates = list(dates1) + list(dates2)\n",
    "    if cname == \"UK Singles Top 40\":\n",
    "        dates1 = date_range(start=\"2002-12-08\", end='2011-11-12', freq=\"W-SUN\").strftime(\"%Y-%m-%d\")\n",
    "        dates2 = date_range(start=\"2011-11-12\", end=Timestamp.today(), freq=\"W-SAT\").strftime(\"%Y-%m-%d\")\n",
    "        dates = list(dates1) + list(dates2)        \n",
    "    if cname == \"Top40-Charts.com Web Top 100\":\n",
    "        dates1 = date_range(start=\"2002-10-14\", end='2005-12-26', freq=\"W-MON\").strftime(\"%Y-%m-%d\")\n",
    "        dates2 = date_range(start=\"2009-02-28\", end=Timestamp.today(), freq=\"W-SAT\").strftime(\"%Y-%m-%d\")\n",
    "        dates = list(dates1) + list(dates2)\n",
    "    if cname == \"Airplay World Official Top 100\":\n",
    "        dates1 = date_range(start=\"2002-01-07\", end='2002-01-21', freq=\"W-MON\").strftime(\"%Y-%m-%d\")\n",
    "        dates2 = date_range(start=\"2002-02-02\", end=Timestamp.today(), freq=\"W-SAT\").strftime(\"%Y-%m-%d\")\n",
    "        dates = list(dates1) + list(dates2)\n",
    "    return dates"
   ]
  },
  {
   "cell_type": "code",
   "execution_count": null,
   "metadata": {},
   "outputs": [],
   "source": [
    "def showDates(year, day):\n",
    "    return date_range(start=str(year), end=str(int(year)+1), freq='W-{0}'.format(day))\n",
    "    \n",
    "showDates(2011, 'SUN')"
   ]
  },
  {
   "cell_type": "code",
   "execution_count": null,
   "metadata": {},
   "outputs": [],
   "source": []
  },
  {
   "cell_type": "code",
   "execution_count": null,
   "metadata": {},
   "outputs": [],
   "source": [
    "from time import sleep\n",
    "for cid,cname in charts.items():\n",
    "    if daytype.get(cname) is None:\n",
    "        continue\n",
    "    dates = getDates(daytype, cname)\n",
    "    \n",
    "    ##savedir  = join(basedir, \"data\", \"top40\", \"starters\")\n",
    "    ##savename = join(savedir, \"{0}.p\".format(cname.replace(\"/\", \" \")))\n",
    "    ##starter  = getHTML(savename)\n",
    "    #dates    = getDates(starter)\n",
    "    \n",
    "    for idts,datename in enumerate(dates):\n",
    "        \n",
    "        if idts > 2000:\n",
    "            break\n",
    "        url      = \"https://top40-charts.com/chart.php?cid={0}&date={1}\".format(cid, datename)\n",
    "        user_agent = 'Mozilla/5.0 (Windows; U; Windows NT 5.1; en-US; rv:1.9.0.7) Gecko/2009021910 Firefox/3.0.7'\n",
    "        headers={'User-Agent':user_agent,}\n",
    "    \n",
    "        savedir  = join(basedir, \"data\", \"top40\", cname.replace(\"/\", \" \"))\n",
    "        mkDir(savedir)\n",
    "\n",
    "        savename = setFile(savedir, \"{0}.p\".format(datename))\n",
    "        if isFile(savename):\n",
    "            continue\n",
    "\n",
    "        request=urllib.request.Request(url,None,headers) #The assembled request\n",
    "        response = urllib.request.urlopen(request)\n",
    "        data = response.read() # The data u need\n",
    "\n",
    "        print(\"URL ---> {0}\".format(url))\n",
    "        print(idts,'/',len(dates),\"\\tSaving {0}\".format(savename))\n",
    "        saveJoblib(data=data, filename=savename, compress=True)\n",
    "        sleep(3)\n",
    "        \n",
    "\n",
    "#list(all_sundays(2001))"
   ]
  },
  {
   "cell_type": "code",
   "execution_count": null,
   "metadata": {},
   "outputs": [],
   "source": [
    "from time import sleep\n",
    "for cid,cname in charts.items():\n",
    "    if daytype.get(cname) is None:\n",
    "        continue    \n",
    "    dates = getDates(daytype, cname)\n",
    "    \n",
    "    for idts,datename in enumerate(dates):\n",
    "        savedir  = join(basedir, \"data\", \"top40\", cname.replace(\"/\", \" \"))\n",
    "        savename = setFile(savedir, \"{0}.p\".format(datename))\n",
    "\n",
    "        chartData = getHTML(savename)\n",
    "        results = getChartData(chartData, debug=False)\n",
    "        if len(results) == 0:\n",
    "            print(cname,'\\t\\t',datename,'\\t',len(results),\" <<-------\")\n",
    "        else:\n",
    "            print(cname,'\\t\\t',datename,'\\t',len(results))"
   ]
  },
  {
   "cell_type": "code",
   "execution_count": null,
   "metadata": {},
   "outputs": [],
   "source": []
  },
  {
   "cell_type": "code",
   "execution_count": null,
   "metadata": {},
   "outputs": [],
   "source": []
  },
  {
   "cell_type": "code",
   "execution_count": null,
   "metadata": {},
   "outputs": [],
   "source": []
  },
  {
   "cell_type": "markdown",
   "metadata": {},
   "source": [
    "# Process Chart Data"
   ]
  },
  {
   "cell_type": "code",
   "execution_count": null,
   "metadata": {},
   "outputs": [],
   "source": [
    "savedir  = join(basedir, \"data\", \"top40\")\n",
    "dirnames = [x for x in findDirs(savedir) if x.endswith(\"starters\") == False]\n",
    "for dirname in dirnames:\n",
    "    files = findExt(dirname, ext=\"*\")\n",
    "    for ifile in files:\n",
    "        src = ifile\n",
    "        dst = \"{0}.p\".format(ifile)\n",
    "        moveFile(src, dst)\n"
   ]
  },
  {
   "cell_type": "code",
   "execution_count": null,
   "metadata": {},
   "outputs": [],
   "source": [
    "savedir  = join(basedir, \"data\", \"top40\")\n",
    "dirnames = [x for x in findDirs(savedir) if x.endswith(\"starters\") == False]\n",
    "for dirname in dirnames:\n",
    "    files = findExt(dirname, ext=\"*.p\")\n",
    "    for ifile in files:\n",
    "        chartData = getHTML(ifile)\n",
    "        break"
   ]
  },
  {
   "cell_type": "code",
   "execution_count": null,
   "metadata": {},
   "outputs": [],
   "source": [
    "chartData"
   ]
  },
  {
   "cell_type": "code",
   "execution_count": null,
   "metadata": {},
   "outputs": [],
   "source": [
    "chartData = getHTML(\"/Users/tgadfort/Documents/code/charts/data/top40/test.html\")"
   ]
  },
  {
   "cell_type": "code",
   "execution_count": null,
   "metadata": {},
   "outputs": [],
   "source": [
    "def getChartData(chartData):\n",
    "    artists = []\n",
    "    titles = []\n",
    "    \n",
    "    trs = chartData.findAll(\"tr\", {\"class\": \"latc_song\"})    \n",
    "    for xs in [x.findAll(\"a\", {\"title\": \"View song details\"}) for x in trs]:\n",
    "        titles.append([x.text for x in xs if x.find(\"img\") == None][0])\n",
    "\n",
    "    for xs in [x.findAll(\"a\", {\"style\": \"text-decoration: none; \"}) for x in trs]:\n",
    "        artists.append(xs[0].text)\n",
    "    \n",
    "    retval = dict(zip(artists, titles))\n",
    "    return retval"
   ]
  },
  {
   "cell_type": "code",
   "execution_count": null,
   "metadata": {},
   "outputs": [],
   "source": []
  },
  {
   "cell_type": "code",
   "execution_count": null,
   "metadata": {},
   "outputs": [],
   "source": [
    "\n",
    "len(chartData.findAll('table'))"
   ]
  },
  {
   "cell_type": "code",
   "execution_count": null,
   "metadata": {},
   "outputs": [],
   "source": [
    "from searchUtils import findExt"
   ]
  },
  {
   "cell_type": "code",
   "execution_count": null,
   "metadata": {},
   "outputs": [],
   "source": [
    "files = findExt(\"data/top40/World Singles Official Top 100/\", ext=\".p\")"
   ]
  },
  {
   "cell_type": "code",
   "execution_count": null,
   "metadata": {},
   "outputs": [],
   "source": [
    "for ifile in files[:5]:\n",
    "    print(ifile)\n",
    "    chartData = getHTML(ifile)\n",
    "    \n",
    "    for it,x in enumerate(chartData.findAll(\"table\")):\n",
    "        trs = x.findAll(\"tr\", {\"class\": \"latc_song\"})\n",
    "        for itr,tr in enumerate(trs):\n",
    "            tds = tr.findAll(\"td\")\n",
    "            for itd,td in enumerate(tds):\n",
    "                hrefs = td.findAll(\"a\")\n",
    "                for ihref,href in enumerate(hrefs):\n",
    "                    print(it,'\\t',itr,'\\t',itd,'\\t',ihref,'\\t',href.text)"
   ]
  },
  {
   "cell_type": "code",
   "execution_count": null,
   "metadata": {},
   "outputs": [],
   "source": [
    "for it,x in enumerate(chartData.findAll(\"table\")):\n",
    "    print(it,len(x))"
   ]
  },
  {
   "cell_type": "code",
   "execution_count": null,
   "metadata": {},
   "outputs": [],
   "source": [
    "chartData.findAll(\"table\")[8]"
   ]
  },
  {
   "cell_type": "code",
   "execution_count": null,
   "metadata": {},
   "outputs": [],
   "source": [
    "files = findExt(\"data/top40/World Singles Official Top 100/\", ext=\".p\")"
   ]
  },
  {
   "cell_type": "code",
   "execution_count": null,
   "metadata": {},
   "outputs": [],
   "source": [
    "files[0]"
   ]
  },
  {
   "cell_type": "code",
   "execution_count": null,
   "metadata": {
    "scrolled": true
   },
   "outputs": [],
   "source": [
    "getHTML(files[0])"
   ]
  },
  {
   "cell_type": "code",
   "execution_count": null,
   "metadata": {},
   "outputs": [],
   "source": [
    "def all_sundays(year):\n",
    "# January 1st of the given year\n",
    "       dt = date(year, 1, 1)\n",
    "# First Sunday of the given year       \n",
    "       dt += timedelta(days = 6 - dt.weekday())  \n",
    "       while dt.year == year:\n",
    "            yield dt\n",
    "            dt += timedelta(days = 7)\n",
    "            \n",
    "for s in all_sundays(2020):\n",
    "    m = s.month\n",
    "    d = s.day\n",
    "    y = s.year\n",
    "    print(s.strftime(\"%d-%m-%Y\"))\n",
    "    print(type(s))"
   ]
  },
  {
   "cell_type": "code",
   "execution_count": null,
   "metadata": {},
   "outputs": [],
   "source": [
    "d = \"2002-01-07\""
   ]
  },
  {
   "cell_type": "code",
   "execution_count": null,
   "metadata": {},
   "outputs": [],
   "source": [
    "files = findExt(\"data/top40/old/World Singles Official Top 100/\", ext=\".p\")"
   ]
  },
  {
   "cell_type": "code",
   "execution_count": null,
   "metadata": {},
   "outputs": [],
   "source": [
    "bs = getHTML(files[0])"
   ]
  },
  {
   "cell_type": "code",
   "execution_count": null,
   "metadata": {},
   "outputs": [],
   "source": [
    "bs.find(\"Iglesias\")"
   ]
  },
  {
   "cell_type": "code",
   "execution_count": null,
   "metadata": {},
   "outputs": [],
   "source": [
    "url = \"https://top40-charts.com/chart.php?cid=35&date=2002-01-07\""
   ]
  },
  {
   "cell_type": "code",
   "execution_count": null,
   "metadata": {},
   "outputs": [],
   "source": [
    "user_agent = 'Mozilla/5.0 (Windows; U; Windows NT 5.1; en-US; rv:1.9.0.7) Gecko/2009021910 Firefox/3.0.7'\n",
    "headers={'User-Agent':user_agent,}\n",
    "\n",
    "savename = setFile(savedir, \"mytest.p\")\n",
    "\n",
    "request=urllib.request.Request(url,None,headers) #The assembled request\n",
    "response = urllib.request.urlopen(request)\n",
    "data = response.read() # The data u need\n",
    "\n",
    "print(idts,'/',len(dates),\"\\tSaving {0}\".format(savename))\n",
    "saveJoblib(data=data, filename=savename, compress=True)"
   ]
  },
  {
   "cell_type": "code",
   "execution_count": null,
   "metadata": {},
   "outputs": [],
   "source": [
    "str(data).find(\"Enya\")"
   ]
  },
  {
   "cell_type": "code",
   "execution_count": null,
   "metadata": {},
   "outputs": [],
   "source": [
    "N   = 28\n",
    "obs = 0.5\n",
    "r   = obs\n",
    "Nmc = 250000"
   ]
  },
  {
   "cell_type": "code",
   "execution_count": null,
   "metadata": {},
   "outputs": [],
   "source": [
    "import random\n",
    "from numpy import corrcoef\n",
    "from pandas import Series"
   ]
  },
  {
   "cell_type": "code",
   "execution_count": null,
   "metadata": {},
   "outputs": [],
   "source": [
    "corrs = []\n",
    "for i in range(Nmc):\n",
    "    x1 = [random.random() for x in range(N)]\n",
    "    x2 = [random.random() for x in range(N)]\n",
    "    corrs.append(corrcoef(x1,x2)[0][1])"
   ]
  },
  {
   "cell_type": "code",
   "execution_count": null,
   "metadata": {},
   "outputs": [],
   "source": [
    "sc = Series(corrs)\n",
    "sc.hist(bins=100)\n",
    "Nabove = len(sc[sc >= obs])\n",
    "pvalue = Nabove / Nmc\n",
    "import scipy.stats as st\n",
    "print(\"{0} / {1}\".format(Nabove,Nmc))\n",
    "print(\"N --> {0}\".format(N))\n",
    "print(\"r --> {0}\".format(r))\n",
    "\n",
    "tscore = r*sqrt(N-2)/sqrt(1-r**2)\n",
    "print(\"t --> {0}\".format(t))\n",
    "p  = 1 - stats.t.cdf(tscore,df=N-2)\n",
    "print(\"p --> {0}\".format(p))\n",
    "\n",
    "\n",
    "from scipy.stats import norm\n",
    "for x in linspace(0,5,500):\n",
    "    p = 2*(1 - norm.cdf(x))\n",
    "    if p <= pvalue:\n",
    "        print(\"p-value  --> {0}\".format(pvalue))\n",
    "        print(\"# of std --> {0}\".format(x))\n",
    "        break"
   ]
  },
  {
   "cell_type": "code",
   "execution_count": null,
   "metadata": {},
   "outputs": [],
   "source": []
  },
  {
   "cell_type": "code",
   "execution_count": null,
   "metadata": {},
   "outputs": [],
   "source": []
  },
  {
   "cell_type": "code",
   "execution_count": null,
   "metadata": {},
   "outputs": [],
   "source": [
    "from numpy import linspace\n",
    "rcorrs = {}\n",
    "for rho in linspace(-1,1,100):\n",
    "    rcorrs[rho] = rho*sqrt(N-2)/sqrt(1-rho**2)\n",
    "Series(rcorrs).plot()"
   ]
  },
  {
   "cell_type": "code",
   "execution_count": null,
   "metadata": {},
   "outputs": [],
   "source": []
  }
 ],
 "metadata": {
  "kernelspec": {
   "display_name": "Python 3",
   "language": "python",
   "name": "python3"
  },
  "language_info": {
   "codemirror_mode": {
    "name": "ipython",
    "version": 3
   },
   "file_extension": ".py",
   "mimetype": "text/x-python",
   "name": "python",
   "nbconvert_exporter": "python",
   "pygments_lexer": "ipython3",
   "version": "3.7.7"
  }
 },
 "nbformat": 4,
 "nbformat_minor": 2
}
