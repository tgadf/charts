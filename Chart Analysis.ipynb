{
 "cells": [
  {
   "cell_type": "markdown",
   "metadata": {},
   "source": [
    "# Chart Analysis Functions"
   ]
  },
  {
   "cell_type": "code",
   "execution_count": 14,
   "metadata": {},
   "outputs": [
    {
     "name": "stdout",
     "output_type": "stream",
     "text": [
      "The autoreload extension is already loaded. To reload it, use:\n",
      "  %reload_ext autoreload\n"
     ]
    },
    {
     "data": {
      "text/html": [
       "<style>.container { width:100% !important; }</style>"
      ],
      "text/plain": [
       "<IPython.core.display.HTML object>"
      ]
     },
     "metadata": {},
     "output_type": "display_data"
    },
    {
     "data": {
      "text/html": [
       "<style>div.output_area{max-height:10000px;overflow:scroll;}</style>"
      ],
      "text/plain": [
       "<IPython.core.display.HTML object>"
      ]
     },
     "metadata": {},
     "output_type": "display_data"
    },
    {
     "name": "stdout",
     "output_type": "stream",
     "text": [
      "Python: 3.7.7 (default, Mar 26 2020, 10:32:53) \n",
      "[Clang 4.0.1 (tags/RELEASE_401/final)]\n",
      "Notebook Last Run Initiated: 2021-02-15 15:40:26.610861\n"
     ]
    }
   ],
   "source": [
    "## Basic stuff\n",
    "%load_ext autoreload\n",
    "%autoreload\n",
    "\n",
    "from IPython.core.display import display, HTML\n",
    "display(HTML(\"<style>.container { width:100% !important; }</style>\"))\n",
    "display(HTML(\"\"\"<style>div.output_area{max-height:10000px;overflow:scroll;}</style>\"\"\"))\n",
    "#IPython.Cell.options_default.cm_config.lineNumbers = true;\n",
    "\n",
    "################################################################################\n",
    "## Python Version\n",
    "################################################################################\n",
    "import sys\n",
    "\n",
    "\n",
    "################################################################################\n",
    "## General Stuff\n",
    "################################################################################\n",
    "from multiprocessing import Pool\n",
    "from tqdm import tqdm\n",
    "\n",
    "\n",
    "################################################################################\n",
    "## Util Stuff\n",
    "################################################################################\n",
    "from timeUtils import clock, elapsed\n",
    "from ioUtils import saveFile, getFile\n",
    "\n",
    "\n",
    "################################################################################\n",
    "## Music DB\n",
    "################################################################################\n",
    "from mainDB import mainDB\n",
    "from musicDBMap import musicDBMap\n",
    "from masterDBMatchClass import masterDBMatchClass\n",
    "from matchDBArtist import matchDBArtist\n",
    "\n",
    "\n",
    "################################################################################\n",
    "## Music Names\n",
    "################################################################################\n",
    "from masterArtistNameDB import masterArtistNameDB\n",
    "\n",
    "\n",
    "################################################################################\n",
    "## Chart Stuff\n",
    "################################################################################\n",
    "from artistIgnores import getArtistIgnores\n",
    "from billboardData import billboardData\n",
    "from top40Data import top40Data\n",
    "from spotifyData import spotifyData\n",
    "from chartArtistAlbumData import chartArtistAlbumData\n",
    "from chartUtils import *\n",
    "from extraArtists import extraKnownArtists\n",
    "\n",
    "\n",
    "################################################################################\n",
    "## Pandas Stuff\n",
    "################################################################################\n",
    "import pandas as pd\n",
    "from pandas import DataFrame\n",
    "pd.set_option('display.max_rows', 500)\n",
    "pd.set_option('display.max_columns', 500)\n",
    "pd.set_option('display.width', 1000)\n",
    "\n",
    "print(\"Python: {0}\".format(sys.version))\n",
    "import datetime as dt\n",
    "start = dt.datetime.now()\n",
    "print(\"Notebook Last Run Initiated: \"+str(start))"
   ]
  },
  {
   "cell_type": "markdown",
   "metadata": {},
   "source": [
    "# Rename Input Data"
   ]
  },
  {
   "cell_type": "code",
   "execution_count": null,
   "metadata": {},
   "outputs": [],
   "source": [
    "updateMultiDB(2)"
   ]
  },
  {
   "cell_type": "code",
   "execution_count": 2,
   "metadata": {},
   "outputs": [
    {
     "name": "stdout",
     "output_type": "stream",
     "text": [
      "========================= masterArtistNameDB =========================\n",
      "  Loading data from /Users/tgadfort/opt/anaconda3/envs/py37/musicnames/mainArtistNameDB.p\n",
      "  There are currently 7519 artist keys.\n",
      "  There are currently 8788 renamed artist keys.\n",
      "========================= masterArtistNameDB =========================\n",
      "  Loading data from /Users/tgadfort/opt/anaconda3/envs/py37/musicnames/multiArtistNameDB.p\n",
      "  There are currently 147 artist keys.\n",
      "  There are currently 153 renamed artist keys.\n"
     ]
    }
   ],
   "source": [
    "manDB      = masterArtistNameDB(\"main\", init=False)\n",
    "multimanDB = masterArtistNameDB(\"multi\", init=False)\n",
    "\n",
    "def updateMultiDB(step=1):\n",
    "    if step == 1:\n",
    "        tmpmanDB = masterArtistNameDB(\"multi\", init=True)\n",
    "        tmpmanDB.forceReload(getFile(\"multi.yaml\"))\n",
    "        tmpmanDB.checkForRecursives()\n",
    "        \n",
    "    if step == 2:\n",
    "        tmpmanDB = masterArtistNameDB(\"multi\", init=True)\n",
    "        tmpmanDB.forceReload(getFile(\"multi.yaml\"))\n",
    "        tmpmanDB.save()\n",
    "        \n",
    "        multimanDB = masterArtistNameDB(\"multi\", init=False)\n",
    "        saveFile(idata=multimanDB.getRenames(), ifile=\"multi.yaml\")\n",
    "\n",
    "def updateManDB(step=1):\n",
    "    if step == 1:\n",
    "        tmpmanDB = masterArtistNameDB(\"main\", init=True)\n",
    "        tmpmanDB.forceReload(getFile(\"main.yaml\"))\n",
    "        tmpmanDB.checkForRecursives()\n",
    "\n",
    "    if step == 2:\n",
    "        tmpmanDB = masterArtistNameDB(\"main\", init=True)\n",
    "        tmpmanDB.forceReload(getFile(\"main.yaml\"))\n",
    "        tmpmanDB.save()\n",
    "        \n",
    "        manDB = masterArtistNameDB(\"main\", init=False)\n",
    "        saveFile(idata=manDB.getRenames(), ifile=\"main.yaml\")\n",
    "        \n",
    "    if step == 3:\n",
    "        tmpmanDB = masterArtistNameDB(\"main\", init=False)\n",
    "        tmpmanDB.addRenames(getFile(\"relDBRenames2.yaml\"))\n",
    "        tmpmanDB.checkForRecursives()\n",
    "        \n",
    "    if step == 4:\n",
    "        tmpmanDB = masterArtistNameDB(\"main\", init=False)\n",
    "        tmpmanDB.addRenames(getFile(\"relDBRenames2.yaml\"))\n",
    "        tmpmanDB.save()\n",
    "        \n",
    "        manDB = masterArtistNameDB(\"main\", init=False)\n",
    "        saveFile(idata=manDB.getRenames(), ifile=\"main.yaml\")\n",
    "        \n",
    "    \n",
    "    _, _ = clock(\"Last Ran\")"
   ]
  },
  {
   "cell_type": "code",
   "execution_count": null,
   "metadata": {},
   "outputs": [],
   "source": [
    "updateMultiDB(2)"
   ]
  },
  {
   "cell_type": "markdown",
   "metadata": {},
   "source": [
    "# Reverse Chart Lookup"
   ]
  },
  {
   "cell_type": "code",
   "execution_count": null,
   "metadata": {},
   "outputs": [],
   "source": [
    "updateMultiDB(1)"
   ]
  },
  {
   "cell_type": "code",
   "execution_count": null,
   "metadata": {},
   "outputs": [],
   "source": [
    "updateMultiDB(2)"
   ]
  },
  {
   "cell_type": "code",
   "execution_count": null,
   "metadata": {},
   "outputs": [],
   "source": [
    "updateManDB(1)"
   ]
  },
  {
   "cell_type": "code",
   "execution_count": null,
   "metadata": {},
   "outputs": [],
   "source": [
    "updateManDB(2)"
   ]
  },
  {
   "cell_type": "code",
   "execution_count": null,
   "metadata": {
    "scrolled": true
   },
   "outputs": [],
   "source": [
    "if False:\n",
    "    from multiArtist import multiartist\n",
    "    mularts  = multiartist(cutoff=0.9, discdata=None, exact=False)\n",
    "    mularts.setKnownMultiDelimArtists(getFile(\"../multiartist/knownMultiArtists.yaml\"))\n",
    "    knownMultiArtists = getFile(\"../multiartist/knownMultiArtists.yaml\")\n",
    "    print(len(knownMultiArtists),\"Known Artists\")\n",
    "\n",
    "    ignoresComp = ['Soundtrack', 'Various Artists', 'Original Broadway Cast Recording', 'Read-Along','Veggietales', 'Pokemon', \n",
    "                   'Barney', 'Walt Disney Read-Along', 'The Powerpuff Girls',\n",
    "                   'Superstar Kidz', 'Original Cast', 'Original Cast Recording']\n",
    "    ignores = ignoresComp    \n",
    "\n",
    "    def matchArtist(artistName):\n",
    "        subNames = mularts.getArtistNames(artistName)\n",
    "        result = {subName: mdbmap.isKnownByName(subName) for subName in subNames}\n",
    "        for subName in result.keys():\n",
    "            if subName in ignores:\n",
    "                result[subName] = True\n",
    "        return result\n",
    "\n",
    "\n",
    "    for chartName in chartDFs.keys():\n",
    "        try:\n",
    "            chartDFs[chartName]['DB'] = chartDFs[chartName]['RenamedArtist'].apply(matchArtist)\n",
    "        except:\n",
    "            print(\"Error with {0}\".format(chartName))"
   ]
  },
  {
   "cell_type": "code",
   "execution_count": null,
   "metadata": {},
   "outputs": [],
   "source": [
    "vals = {}\n",
    "for chartName in chartDFs.keys():\n",
    "    try:\n",
    "        vals[chartName] = chartDFs[chartName][~chartDFs[chartName][\"DB\"].apply(lambda x: all(x.values()))].shape[0]\n",
    "    except:\n",
    "        pass\n",
    "from pandas import Series"
   ]
  },
  {
   "cell_type": "code",
   "execution_count": null,
   "metadata": {},
   "outputs": [],
   "source": [
    "Series(vals).sort_values(ascending=False)"
   ]
  },
  {
   "cell_type": "code",
   "execution_count": null,
   "metadata": {},
   "outputs": [],
   "source": [
    "mdbmap.isKnownByName(\"Salt-N-Pepa\")"
   ]
  },
  {
   "cell_type": "code",
   "execution_count": null,
   "metadata": {},
   "outputs": [],
   "source": []
  },
  {
   "cell_type": "code",
   "execution_count": null,
   "metadata": {},
   "outputs": [],
   "source": [
    "chartDF = chartDFs[\"vinyl-albums\"]\n",
    "def getMissingArtists(chartDF):\n",
    "    missing = chartDF[~chartDF[\"DB\"].apply(lambda x: all(x.values()))]\n",
    "    return list(set(getFlatList(missing[\"DB\"].apply(lambda x: [k for k,v in x.items() if v is False]))))\n",
    "getMissingArtists(chartDF)"
   ]
  },
  {
   "cell_type": "code",
   "execution_count": null,
   "metadata": {},
   "outputs": [],
   "source": [
    "def getMissingArtists(chartDF):\n",
    "    ichartDF[~chartDF[\"DB\"].apply(lambda x: all(x.values()))]"
   ]
  },
  {
   "cell_type": "code",
   "execution_count": null,
   "metadata": {},
   "outputs": [],
   "source": [
    "chartName = \"independent-albums\"\n",
    "chartDFs[chartName][~chartDFs[chartName][\"DB\"].apply(lambda x: all(x.values()))]"
   ]
  },
  {
   "cell_type": "code",
   "execution_count": null,
   "metadata": {},
   "outputs": [],
   "source": [
    "bMap = {}\n",
    "for chartTitle,chartName in initMap.items():\n",
    "    newName = newMap.get(chartTitle)\n",
    "    if newName is not None:\n",
    "        bMap[newName] = chartName\n"
   ]
  },
  {
   "cell_type": "code",
   "execution_count": null,
   "metadata": {},
   "outputs": [],
   "source": [
    "saveFile(ifile=\"billboardMapping.p\", idata=bMap)"
   ]
  },
  {
   "cell_type": "code",
   "execution_count": null,
   "metadata": {},
   "outputs": [],
   "source": [
    "bMap = getFile(\"billboardMapping.p\")"
   ]
  },
  {
   "cell_type": "code",
   "execution_count": null,
   "metadata": {},
   "outputs": [],
   "source": []
  },
  {
   "cell_type": "code",
   "execution_count": null,
   "metadata": {},
   "outputs": [],
   "source": []
  },
  {
   "cell_type": "markdown",
   "metadata": {
    "heading_collapsed": true
   },
   "source": [
    "# Top40 Data"
   ]
  },
  {
   "cell_type": "code",
   "execution_count": null,
   "metadata": {
    "hidden": true
   },
   "outputs": [],
   "source": [
    "%load_ext autoreload\n",
    "%autoreload\n",
    "from top40Data import top40Data\n",
    "td = top40Data(minYear=1, maxYear=2021)\n",
    "td.setChartUsage(rank=[0,1,2,3,4,5,6])\n",
    "td.setDBRenames(manDB)\n",
    "td.setMultiDBRenames(multimanDB)\n",
    "td.setFullChartData()\n",
    "td.setArtistAlbumData()\n",
    "td.saveArtistAlbumData()\n",
    "td.saveFullChartData()\n",
    "\n",
    "_, _ = clock(\"Last Run\")"
   ]
  },
  {
   "cell_type": "markdown",
   "metadata": {
    "heading_collapsed": true
   },
   "source": [
    "# Billboard Data"
   ]
  },
  {
   "cell_type": "code",
   "execution_count": null,
   "metadata": {
    "hidden": true
   },
   "outputs": [],
   "source": [
    "%load_ext autoreload\n",
    "%autoreload\n",
    "from billboardData import billboardData\n",
    "bd = billboardData(minYear=1, maxYear=2021)\n",
    "bd.setChartUsage(rank=[0,1,2,3,4,5,6,7,8])\n",
    "bd.setDBRenames(manDB)\n",
    "bd.setMultiDBRenames(multimanDB)\n",
    "bd.setFullChartData()\n",
    "bd.setArtistAlbumData()\n",
    "\n",
    "bd.saveArtistAlbumData()\n",
    "bd.saveFullChartData()\n",
    "\n",
    "_, _ = clock(\"Last Run\")"
   ]
  },
  {
   "cell_type": "markdown",
   "metadata": {},
   "source": [
    "# BillboardYE Data"
   ]
  },
  {
   "cell_type": "code",
   "execution_count": null,
   "metadata": {},
   "outputs": [],
   "source": [
    "%load_ext autoreload\n",
    "%autoreload\n",
    "from billboardYE import billboardYE\n",
    "bYE = billboardYE(minYear=1, maxYear=2021)\n",
    "bYE.setChartUsage(rank=[0,1,2,3,4,5,6,7]) #,6,7])\n",
    "bYE.setDBRenames(manDB)\n",
    "bYE.setFullChartData()\n",
    "bYE.setArtistAlbumData()\n",
    "\n",
    "bYE.saveFullChartData()\n",
    "bYE.saveArtistAlbumData()\n",
    "\n",
    "_, _ = clock(\"Last Run\")"
   ]
  },
  {
   "cell_type": "markdown",
   "metadata": {},
   "source": [
    "# MusicVF"
   ]
  },
  {
   "cell_type": "code",
   "execution_count": null,
   "metadata": {},
   "outputs": [],
   "source": [
    "%load_ext autoreload\n",
    "%autoreload\n",
    "from musicVFData import musicVFData\n",
    "mvf = musicVFData(minYear=1, maxYear=2021)\n",
    "mvf.setDBRenames(manDB)\n",
    "mvf.setMultiDBRenames(multimanDB)\n",
    "mvf.setChartUsage(rank=[0])\n",
    "mvf.setFullChartData()\n",
    "mvf.setArtistAlbumData()\n",
    "mvf.saveArtistAlbumData()\n",
    "mvf.saveFullChartData()\n",
    "_, _ = clock(\"Last Run\")"
   ]
  },
  {
   "cell_type": "markdown",
   "metadata": {},
   "source": [
    "# Spotify Code"
   ]
  },
  {
   "cell_type": "code",
   "execution_count": null,
   "metadata": {},
   "outputs": [],
   "source": [
    "%load_ext autoreload\n",
    "%autoreload\n",
    "from spotifyData import spotifyData\n",
    "sd = spotifyData(minYear=1, maxYear=2021)\n",
    "sd.parse()"
   ]
  },
  {
   "cell_type": "code",
   "execution_count": 197,
   "metadata": {},
   "outputs": [
    {
     "name": "stdout",
     "output_type": "stream",
     "text": [
      "The autoreload extension is already loaded. To reload it, use:\n",
      "  %reload_ext autoreload\n",
      "Using Charts For Rank 13\n",
      "    Categories: ['world']\n",
      "\tChart: world\n",
      "  Using 1 Charts\n",
      "Using 1 Charts For Rank 13\n",
      "=== ChartUsage ===\n",
      "  Using Charts (Rank=[13]): ['regional-global-weekly']\n",
      "Found 68 summary files\n",
      "  Using regional-global-weekly\n",
      "Renamed 972 single artists\n",
      "Saving 409 Artist Album Data to currentSpotifyArtistAlbumData.p\n",
      "Saving data to currentSpotifyArtistAlbumData.p\n",
      "  --> This file is 23.1kB.\n",
      "Saved data to currentSpotifyArtistAlbumData.p\n",
      "  --> This file is 23.1kB.\n",
      "Saving 409 Full Artist Data\n",
      "Saving data to currentSpotifyFullChartArtistAlbumData.p\n",
      "  --> This file is 34.6kB.\n",
      "Saved data to currentSpotifyFullChartArtistAlbumData.p\n",
      "  --> This file is 34.6kB.\n",
      "Current Time is Tue Feb 16, 2021 12:58:04 for Last Run\n"
     ]
    }
   ],
   "source": [
    "%load_ext autoreload\n",
    "%autoreload\n",
    "from spotifyData import spotifyData\n",
    "sd = spotifyData(minYear=1, maxYear=2021)\n",
    "sd.setDBRenames(manDB)\n",
    "sd.setMultiDBRenames(multimanDB)\n",
    "sd.setChartUsage(rank=[13]) #,1,2,3,4,5,7,8,9,10,11,12])\n",
    "sd.setFullChartData()\n",
    "sd.setArtistAlbumData()\n",
    "sd.saveArtistAlbumData()\n",
    "sd.saveFullChartData()\n",
    "_, _ = clock(\"Last Run\")"
   ]
  },
  {
   "cell_type": "code",
   "execution_count": null,
   "metadata": {},
   "outputs": [],
   "source": [
    "updateManDB(2)"
   ]
  },
  {
   "cell_type": "markdown",
   "metadata": {},
   "source": [
    "# Load MainDB"
   ]
  },
  {
   "cell_type": "code",
   "execution_count": 4,
   "metadata": {},
   "outputs": [
    {
     "name": "stdout",
     "output_type": "stream",
     "text": [
      "=========================   discogs   =========================\n",
      "=========================   allmusic   =========================\n",
      "=========================   musicbrainz   =========================\n",
      "=========================   lastfm   =========================\n",
      "=========================   rateyourmusic   =========================\n",
      "=========================   deezer   =========================\n",
      "=========================   albumoftheyear   =========================\n",
      "=========================   genius   =========================\n",
      "=========================   kworbspotify   =========================\n",
      "=========================   kworbyoutube   =========================\n",
      "=========================   kworbitunes   =========================\n",
      "=========================   discogs   =========================\n",
      "Summary Statistics For DB: Discogs\n",
      "    Using Known Artists: False\n",
      "    Found 773808 ID -> Name entries\n",
      "    Found 703262 Name -> ID entries\n",
      "    Found 0 Albums\n",
      "=========================   allmusic   =========================\n",
      "Summary Statistics For DB: AllMusic\n",
      "    Using Known Artists: False\n",
      "    Found 143202 ID -> Name entries\n",
      "    Found 127491 Name -> ID entries\n",
      "    Found 841024 Albums\n",
      "=========================   musicbrainz   =========================\n",
      "Summary Statistics For DB: MusicBrainz\n",
      "    Using Known Artists: False\n",
      "    Found 233134 ID -> Name entries\n",
      "    Found 197936 Name -> ID entries\n",
      "    Found 0 Albums\n",
      "=========================   lastfm   =========================\n",
      "Summary Statistics For DB: LastFM\n",
      "    Using Known Artists: False\n",
      "    Found 17728 ID -> Name entries\n",
      "    Found 17612 Name -> ID entries\n",
      "    Found 206650 Albums\n",
      "=========================   rateyourmusic   =========================\n",
      "Summary Statistics For DB: RateYourMusic\n",
      "    Using Known Artists: False\n",
      "    Found 2246 ID -> Name entries\n",
      "    Found 1600 Name -> ID entries\n",
      "    Found 0 Albums\n",
      "=========================   deezer   =========================\n",
      "Summary Statistics For DB: Deezer\n",
      "    Using Known Artists: False\n",
      "    Found 11650 ID -> Name entries\n",
      "    Found 11516 Name -> ID entries\n",
      "    Found 0 Albums\n",
      "=========================   albumoftheyear   =========================\n",
      "Summary Statistics For DB: AlbumOfTheYear\n",
      "    Using Known Artists: False\n",
      "    Found 7655 ID -> Name entries\n",
      "    Found 7566 Name -> ID entries\n",
      "    Found 0 Albums\n",
      "=========================   genius   =========================\n",
      "Summary Statistics For DB: Genius\n",
      "    Using Known Artists: False\n",
      "    Found 371 ID -> Name entries\n",
      "    Found 367 Name -> ID entries\n",
      "    Found 1153 Albums\n",
      "=========================   kworbspotify   =========================\n",
      "Summary Statistics For DB: KWorbSpotify\n",
      "    Using Known Artists: False\n",
      "    Found 7122 ID -> Name entries\n",
      "    Found 7035 Name -> ID entries\n",
      "    Found 7122 Albums\n",
      "=========================   kworbyoutube   =========================\n",
      "Summary Statistics For DB: KWorbYouTube\n",
      "    Using Known Artists: False\n",
      "    Found 1472 ID -> Name entries\n",
      "    Found 1472 Name -> ID entries\n",
      "    Found 1433 Albums\n",
      "=========================   kworbitunes   =========================\n",
      "Summary Statistics For DB: KWorbiTunes\n",
      "    Using Known Artists: False\n",
      "    Found 7542 ID -> Name entries\n",
      "    Found 7521 Name -> ID entries\n",
      "    Found 0 Albums\n",
      "Current Time is Mon Feb 15, 2021 14:14:26 for Last Run\n"
     ]
    }
   ],
   "source": [
    "recreate = False\n",
    "if recreate:\n",
    "    maindb = mainDB(mdb=None, create=True, debug=True)\n",
    "    maindb.setDBArtists(recreate=False)\n",
    "    maindb = mainDB(mdb=None, create=False, debug=False)\n",
    "    maindb.loadDBDataMap()\n",
    "else:\n",
    "    maindb = mainDB(mdb=None, create=False, debug=False)\n",
    "    maindb.loadDBDataMap()    \n",
    "_, _ = clock(\"Last Run\")"
   ]
  },
  {
   "cell_type": "markdown",
   "metadata": {},
   "source": [
    "# Analyze Data"
   ]
  },
  {
   "cell_type": "code",
   "execution_count": 198,
   "metadata": {},
   "outputs": [
    {
     "name": "stdout",
     "output_type": "stream",
     "text": [
      "The autoreload extension is already loaded. To reload it, use:\n",
      "  %reload_ext autoreload\n",
      "chartArtistAlbumData(Spotify)\n",
      "Found 62 files.\n",
      "Adding 621 known multi delim artists.\n",
      "  Assigning 621 known multi-name artists\n",
      "========================= masterArtistNameDB =========================\n",
      "  Loading data from /Users/tgadfort/opt/anaconda3/envs/py37/musicnames/mainArtistNameDB.p\n",
      "  There are currently 7519 artist keys.\n",
      "  There are currently 8788 renamed artist keys.\n",
      "========================= masterArtistNameDB =========================\n",
      "  Loading data from /Users/tgadfort/opt/anaconda3/envs/py37/musicnames/multiArtistNameDB.p\n",
      "  There are currently 147 artist keys.\n",
      "  There are currently 153 renamed artist keys.\n",
      "There are 409 unique artists in artist albums data\n",
      "There are 409 newly unique artists in artist albums data\n",
      "Renamed 0 artists\n",
      "Renamed 0 artists (multi)\n",
      "There are 409    unique artist entries in the artist albums data\n",
      "There are 407    single artist entries in the artist albums data\n",
      "There are 2      multi artist entries in the artist albums data\n",
      "Renamed 0 multi artists\n",
      "There are 407    solo artist entries in the artist albums data\n",
      "There are 4      many artist entries in the artist albums data\n",
      "There are 411    full artist entries in the artist albums data\n"
     ]
    }
   ],
   "source": [
    "## Basic stuff\n",
    "%load_ext autoreload\n",
    "%autoreload\n",
    "from chartArtistAlbumData import chartArtistAlbumData\n",
    "\n",
    "\n",
    "singleArtistAlbumData = {}\n",
    "manyArtistAlbumData   = {}\n",
    "\n",
    "chartType = \"Spotify\"\n",
    "mType     = \"Full\"\n",
    "cad = chartArtistAlbumData(chartType, ignoreMultiNames=False)\n",
    "cad.createIndivArtistAlbumData()"
   ]
  },
  {
   "cell_type": "markdown",
   "metadata": {},
   "source": [
    "# Create Master Match Class"
   ]
  },
  {
   "cell_type": "code",
   "execution_count": 199,
   "metadata": {},
   "outputs": [],
   "source": [
    "def showMatchedStatus(chartType, mdbmaps, mdbmc):\n",
    "    print(\"Matched {0} / {1} Artists for {2} ChartType\".format(mdbmaps[chartType].getSize(), len(mdbmc.matchData[chartType]), chartType))\n",
    "    \n",
    "def showRemainingMatches(chartType, mdbmc):\n",
    "    print('='*100)\n",
    "    print(\"=\"*10,\"Artists That Were Not Tested (Low Albums)\",'='*10)\n",
    "    toMatch   = mdbmc.getDataToMatch(chartType, maxValues=10000, maxAlbums=100000, minAlbums=0, useKnown=True, ignores=ignoresList)\n",
    "    print(\"=\"*10,\"Previously Tested Artists Without A Match\",'='*10)\n",
    "    toMatch   = mdbmc.getDataToMatch(chartType, maxValues=10000, maxAlbums=100000, minAlbums=0, useKnown=False, dbMatches=0, ignores=ignoresList)\n",
    "    print('='*100)    \n",
    "    \n",
    "def analyzeMatches(maindb, mdbmaps, chartType, maxVal=1.0, diffVal=0.1):\n",
    "    dbRenames = {}\n",
    "    toget   = {}\n",
    "    togetID = {}\n",
    "    for primaryKey,artistName in mdbmaps[chartType].getArtists().items():\n",
    "        primaryArtistName = artistName\n",
    "        artistData = mdbmaps[chartType].getArtistDataByKey(primaryKey)\n",
    "        for db,dbID in artistData.getDict().items():\n",
    "            if db in [\"DatPiff\", \"MetalStorm\", \"CDandLP\", \"AceBootlegs\", \"RockCorner\", \"MusicStack\"]:\n",
    "                continue\n",
    "            if dbID is not None:\n",
    "                secondaryArtistName = maindb.getArtistDBNameFromID(db, dbID)\n",
    "                if secondaryArtistName is None:\n",
    "                    if toget.get(db) is None:\n",
    "                        toget[db] = []\n",
    "                        togetID[db] = {}\n",
    "                    toget[db].append(primaryArtistName)\n",
    "                    togetID[db][dbID] = primaryArtistName\n",
    "                    continue\n",
    "                s = SequenceMatcher(None, primaryArtistName, secondaryArtistName)\n",
    "                ratio = s.ratio()\n",
    "                maxRatio = maxVal\n",
    "                if ratio >= maxRatio:\n",
    "                    continue\n",
    "\n",
    "                if ratio >= maxRatio-diffVal:\n",
    "                    if dbRenames.get(secondaryArtistName) is not None:\n",
    "                        if dbRenames[secondaryArtistName] == primaryArtistName:\n",
    "                            continue\n",
    "                        else:\n",
    "                            pass\n",
    "                    dbRenames[secondaryArtistName] = primaryArtistName\n",
    "                    print(\"[{0: <30} {1: <4} {2: >30}] \\t --> ({3}) {4} / {5} ({6})\".format(primaryArtistName,round(ratio,2),secondaryArtistName,chartType,primaryKey,dbID,db))\n",
    "\n",
    "\n",
    "    print(\"Found {0} artists to get.\".format(len(toget)))\n",
    "    print(\"Found {0} artists to rename.\".format(len(dbRenames)))\n",
    "    return toget, togetID, dbRenames    \n",
    "    \n",
    "def removeDBRenames(mdbmaps, chartType, dbRenames):\n",
    "    for k,v in dbRenames.items():\n",
    "        kKey = mdbmaps[chartType].getPrimaryKey(artistName=k, artistID=None)\n",
    "        if kKey is not None:\n",
    "            mdbmaps[chartType].removeArtistByKey(kKey)\n",
    "\n",
    "        kKey = mdbmaps[chartType].getPrimaryKey(artistName=v, artistID=None)\n",
    "        if kKey is not None:\n",
    "            mdbmaps[chartType].removeArtistByKey(kKey)\n",
    "    mdbmaps[chartType].save()\n",
    "    \n",
    "    \n",
    "def analyzeRenames(manDB, dbRenames):\n",
    "    redos = {}\n",
    "    dels = []\n",
    "    if len(dbRenames) == 0:\n",
    "        print(\"Nothing to process.\")\n",
    "        return\n",
    "    for oldername,bestname in dbRenames.items():\n",
    "        if oldername in manDB.artistNameDB.keys() and bestname not in manDB.artistNameDB.keys():\n",
    "            print(oldername,bestname)\n",
    "\n",
    "            redos[bestname] = oldername\n",
    "            dels.append(oldername)\n",
    "            print('\\t',oldername,'\\t',bestname)\n",
    "\n",
    "    print(\"# Renames: {0}\".format(len(dbRenames)))\n",
    "    print(\"# Dels: {0}\".format(len(dels)))\n",
    "    for oldername in dels:\n",
    "        del dbRenames[oldername]\n",
    "\n",
    "    print(\"# Redos: {0}\".format(len(redos)))\n",
    "    dbRenames.update(redos)\n",
    "    print(\"# Renames: {0}\".format(len(dbRenames)))\n",
    "    saveFile(idata=dbRenames, ifile=\"relDBRenames2.yaml\")\n",
    "\n",
    "\n",
    "\n",
    "\n",
    "    def isAscii(ele):\n",
    "        return len(ele) == len(ele.encode())\n",
    "\n",
    "    dbRenames = getFile(\"relDBRenames2.yaml\")\n",
    "    redos = {}\n",
    "    dels = []\n",
    "    for k,v in dbRenames.items():    \n",
    "        if isAscii(v) and not isAscii(k):\n",
    "            if '’' in k or \"“\" in k:\n",
    "                continue\n",
    "            redos[v] = k\n",
    "            dels.append(k)\n",
    "            print('\\t',k,'\\t',v)\n",
    "    #print(len(dbRenames))\n",
    "    for k in dels:\n",
    "        del dbRenames[k]\n",
    "\n",
    "    #print(len(dbRenames))\n",
    "    dbRenames.update(redos)\n",
    "    #print(len(dbRenames))\n",
    "    saveFile(idata=dbRenames, ifile=\"relDBRenames2.yaml\")\n",
    "\n",
    "\n",
    "\n",
    "\n",
    "    dbRenames = getFile(\"relDBRenames2.yaml\")\n",
    "    redos = {}\n",
    "    dels = []\n",
    "    for k,v in dbRenames.items():    \n",
    "        if \" the \" in v and \" The \" in k:\n",
    "            if k == v.replace(\" the \", \" The \"):\n",
    "                redos[v] = k\n",
    "                dels.append(k)\n",
    "                print('\\t',k,'\\t',v)\n",
    "\n",
    "    #print(len(dbRenames))\n",
    "    for k in dels:\n",
    "        del dbRenames[k]\n",
    "\n",
    "    #print(len(dbRenames))\n",
    "    dbRenames.update(redos)\n",
    "    #print(len(dbRenames))\n",
    "    saveFile(idata=dbRenames, ifile=\"relDBRenames2.yaml\")\n",
    "\n",
    "\n",
    "\n",
    "\n",
    "    dbRenames = getFile(\"relDBRenames2.yaml\")\n",
    "    redos = {}\n",
    "    dels = []\n",
    "    for k,v in dbRenames.items():    \n",
    "        if '’' in v or \"“\" in v:\n",
    "            if not '’' in k and not \"“\" in v:\n",
    "                redos[v] = k\n",
    "                dels.append(k)\n",
    "                print('\\t',k,'\\t',v)\n",
    "\n",
    "    #print(len(dbRenames))\n",
    "    for k in dels:\n",
    "        del dbRenames[k]\n",
    "\n",
    "    #print(len(dbRenames))\n",
    "    dbRenames.update(redos)\n",
    "    #print(len(dbRenames))\n",
    "\n",
    "\n",
    "    saveFile(idata=dbRenames, ifile=\"relDBRenames2.yaml\")\n",
    "\n",
    "\n",
    "\n",
    "\n",
    "\n",
    "\n",
    "\n",
    "\n",
    "    def isAscii(ele):\n",
    "        return len(ele) == len(ele.encode())\n",
    "\n",
    "    dbRenames = getFile(\"relDBRenames2.yaml\")\n",
    "    redos = {}\n",
    "    dels = []\n",
    "    for k,v in dbRenames.items():    \n",
    "        if isAscii(v) and not isAscii(k):\n",
    "            if '’' in k or \"“\" in k:\n",
    "                continue\n",
    "            redos[v] = k\n",
    "            dels.append(k)\n",
    "            print('\\t',k,'\\t',v)\n",
    "    #print(len(dbRenames))\n",
    "    for k in dels:\n",
    "        del dbRenames[k]\n",
    "\n",
    "    #print(len(dbRenames))\n",
    "    dbRenames.update(redos)\n",
    "    #print(len(dbRenames))\n",
    "\n",
    "\n",
    "    saveFile(idata=dbRenames, ifile=\"relDBRenames2.yaml\")\n",
    "\n",
    "\n",
    "\n",
    "\n",
    "\n",
    "\n",
    "\n",
    "\n",
    "    dbRenames = getFile(\"relDBRenames2.yaml\")\n",
    "    redos = {}\n",
    "    dels = []\n",
    "    for k,v in dbRenames.items():    \n",
    "        if \" the \" in v and \" The \" in k:\n",
    "            if k == v.replace(\" the \", \" The \"):\n",
    "                redos[v] = k\n",
    "                dels.append(k)\n",
    "                print('\\t',k,'\\t',v)\n",
    "\n",
    "    #print(len(dbRenames))\n",
    "    for k in dels:\n",
    "        del dbRenames[k]\n",
    "\n",
    "    #print(len(dbRenames))\n",
    "    dbRenames.update(redos)\n",
    "    #print(len(dbRenames))\n",
    "\n",
    "\n",
    "    saveFile(idata=dbRenames, ifile=\"relDBRenames2.yaml\")\n",
    "\n",
    "\n",
    "\n",
    "\n",
    "\n",
    "\n",
    "\n",
    "    dbRenames = getFile(\"relDBRenames2.yaml\")\n",
    "    redos = {}\n",
    "    dels = []\n",
    "    for k,v in dbRenames.items():    \n",
    "        if '’' in v or \"“\" in v:\n",
    "            if not '’' in k and not \"“\" in v:\n",
    "                redos[v] = k\n",
    "                dels.append(k)\n",
    "                print('\\t',k,'\\t',v)\n",
    "\n",
    "    #print(len(dbRenames))\n",
    "    for k in dels:\n",
    "        del dbRenames[k]\n",
    "\n",
    "    #print(len(dbRenames))\n",
    "    dbRenames.update(redos)\n",
    "    #print(len(dbRenames))\n",
    "\n",
    "\n",
    "    saveFile(idata=dbRenames, ifile=\"relDBRenames2.yaml\")\n",
    "    #print(len(dbRenames))\n",
    "    \n",
    "    \n",
    "        \n",
    "    \n",
    "def manualAppends(toMatch, chartType, minAlbums=0, add=True):\n",
    "    if len(toMatch[chartType]) == 0:\n",
    "        print(\"Nothing to append...\")\n",
    "        return\n",
    "    \n",
    "    toMatchDF = DataFrame({item[0]: {\"ArtistName\": item[1][\"ArtistName\"], \"ArtistAlbums\": item[1][\"ArtistAlbums\"]} for item in toMatch[chartType]}).T\n",
    "    toMatchDF[\"NumAlbums\"] = toMatchDF[\"ArtistAlbums\"].apply(len)\n",
    "    toMatchDF = toMatchDF.sort_values(by=\"NumAlbums\", ascending=False)\n",
    "    \n",
    "    for idx,row in toMatchDF.iterrows():\n",
    "        if add:\n",
    "            artistName = row[\"ArtistName\"]\n",
    "            albumNames = row[\"ArtistAlbums\"]\n",
    "            nAlbums    = row[\"NumAlbums\"]\n",
    "            \n",
    "            if nAlbums < minAlbums:\n",
    "                continue\n",
    "            print(\"add{0}(mdbmaps, {1}, {2}, {3})   ### [{4}]\".format(\"AllMusic\", \"\\\"{0}\\\"\".format(chartType), \"\\\"{0}\\\"\".format(idx), \"\\\"{0}\\\"\".format(\"\"), artistName))\n",
    "            print(\"add{0}(mdbmaps, {1}, {2}, {3})    ### [{4}]\".format(\"Deezer\", \"\\\"{0}\\\"\".format(chartType), \"\\\"{0}\\\"\".format(idx), \"\\\"{0}\\\"\".format(\"\"), artistName))\n",
    "            print(\"### {0}\".format(\"  ,  \".join(albumNames)))\n",
    "            for albumName in albumNames:\n",
    "                print(\"### {0}  ---> [{1}]\".format(albumName, cad.getAlbumsData(albumName)))\n",
    "            print(\"\\n\")\n",
    "        else:\n",
    "            print(\"ignores.append(\\\"{0}\\\")\".format(artistName))\n",
    "            if \" & \" in artistName:\n",
    "                continue\n",
    "                print(\"ignores.append(\\\"{0}\\\")\".format(artistName))\n",
    "\n",
    "    print(\"mdbmaps[{0}].save()\".format(\"\\\"{0}\\\"\".format(chartType)))    \n",
    "    \n",
    "\n",
    "\n",
    "\n",
    "\n",
    "\n",
    "        \n",
    "def copyMapData(mdbmap):\n",
    "    return\n",
    "    mdbmap.saveCopy()\n",
    "\n",
    "def saveMapData(mdbmap, result_list):\n",
    "    for item in result_list:\n",
    "        primaryKey = item[0] \n",
    "        artistName = item[1]\n",
    "        artistID   = item[2]\n",
    "        mcs        = item[3]\n",
    "        mdbmap.addArtistByKey(primaryKey, artistName=artistName, artistID=artistID)\n",
    "        for db,mc in mcs.items():\n",
    "            matchID    = mc.matchID\n",
    "            matchScore = mc.matchScore\n",
    "            if matchID is not None:\n",
    "                mdbmap.addArtistDataByKey(primaryKey, db, matchID)\n",
    "\n",
    "    mdbmap.save()\n",
    "    \n",
    "\n",
    "def matchItAll(mdbmaps, thresholds, useAlbums=True, mdbmc=None, db=None, toMatch=None):\n",
    "    if toMatch is None:\n",
    "        toMatch   = mdbmc.getDataToMatch(db, maxValues=10000, maxAlbums=50000)\n",
    "\n",
    "    if len(toMatch) == 0:\n",
    "        return\n",
    "\n",
    "    num_processes = 3\n",
    "    if useAlbums is True:\n",
    "        func = matchDBArtistWithAlbums\n",
    "    else:\n",
    "        func = matchDBArtistWithoutAlbums\n",
    "    pfunc = partial(func, **thresholds) # Giving some arguments for kwargs\n",
    "    #argument_list = list(inputs.items()) # [random.randint(0, 100) for _ in range(num_jobs)]\n",
    "    dbName = list(toMatch.keys())[0]\n",
    "    copyMapData(mdbmaps[dbName])\n",
    "\n",
    "    argument_list = toMatch[dbName]\n",
    "    if len(argument_list) == 0:\n",
    "        return\n",
    "    print(\"Running imap multiprocessing for {0} artists ...\".format(len(argument_list)))\n",
    "    result_list = multiProc(func=pfunc, argument_list=argument_list,\n",
    "                                           num_processes=num_processes)\n",
    "\n",
    "\n",
    "    start, cmt = clock(\"Saving...\")\n",
    "    saveMapData(mdbmaps[dbName], result_list)\n",
    "    elapsed(start, cmt)\n",
    "    print(\"\\nSleeping for 10 seconds...\\n\")\n",
    "    #sleep(10)\n",
    "    \n",
    "    #mdbmc.matchMutualMaps()\n",
    "\n",
    "    \n",
    "def matchDBArtistWithoutAlbums(item, *args, **kwargs):\n",
    "    primaryKey = item[0]\n",
    "    artistData = item[1]\n",
    "    artistName   = artistData[\"ArtistName\"]\n",
    "    artistID     = primaryKey\n",
    "    artistAlbums = None\n",
    "    mdbMatcher = matchDBArtist(maindb)\n",
    "    mdbMatcher.setArtistInfo(artistName, artistID, artistAlbums)\n",
    "    mdbMatcher.setThresholds(matchNumArtistName=kwargs['numArtistName'], matchArtistNameCutoff=kwargs['artistNameCutoff'],\n",
    "                             matchArtistAlbumCutoff=kwargs['artistAlbumCutoff'], matchNumArtistAlbums=kwargs['numArtistAlbums'],\n",
    "                             matchScore=kwargs['score']),\n",
    "    mcs    = mdbMatcher.findPotentialArtistNameMatchesWithoutAlbums()\n",
    "    retval = [primaryKey,artistName,artistID,mcs]\n",
    "    return retval\n",
    "\n",
    "\n",
    "def matchDBArtistWithAlbums(item, *args, **kwargs):    \n",
    "    #time.sleep(0.0025)\n",
    "\n",
    "    \n",
    "    primaryKey = item[0]\n",
    "    artistData = item[1]\n",
    "    artistName   = artistData[\"ArtistName\"]\n",
    "    artistID     = primaryKey\n",
    "    artistAlbums = artistData[\"ArtistAlbums\"]\n",
    "    \n",
    "    mdbMatcher = matchDBArtist(maindb)\n",
    "    mdbMatcher.setArtistInfo(artistName, artistID, artistAlbums)\n",
    "    mdbMatcher.setThresholds(matchNumArtistName=kwargs['numArtistName'], matchArtistNameCutoff=kwargs['artistNameCutoff'], \n",
    "                             matchArtistAlbumCutoff=kwargs['artistAlbumCutoff'], matchNumArtistAlbums=kwargs['numArtistAlbums'],\n",
    "                             matchScore=kwargs['score'])\n",
    "    mcs    = mdbMatcher.findPotentialArtistAlbumMatches()\n",
    "    retval = [primaryKey,artistName,artistID,mcs]\n",
    "    return retval\n",
    "\n",
    "\n",
    "def multiProc(func, argument_list, num_processes):\n",
    "    pool = Pool(processes=num_processes)\n",
    "    result_list_tqdm = []\n",
    "    for result in tqdm(pool.imap(func=func, iterable=argument_list), total=len(argument_list)):\n",
    "        result_list_tqdm.append(result)\n",
    "    return result_list_tqdm"
   ]
  },
  {
   "cell_type": "markdown",
   "metadata": {},
   "source": [
    "# MDB Maps"
   ]
  },
  {
   "cell_type": "code",
   "execution_count": 200,
   "metadata": {},
   "outputs": [
    {
     "name": "stdout",
     "output_type": "stream",
     "text": [
      "ChartType = Spotify\n",
      "MType     = Full\n",
      "  Valid DBs: ['Discogs', 'AllMusic', 'MusicBrainz', 'AceBootlegs', 'RateYourMusic', 'LastFM', 'DatPiff', 'RockCorner', 'CDandLP', 'MusicStack', 'MetalStorm', 'Deezer', 'AppleMusic', 'AlbumOfTheYear', 'Genius', 'IHeart', 'KWorbSpotify', 'KWorbiTunes', 'KWorbYouTube']\n",
      "  Loaded 12290 previously matched entries\n",
      "Loading Artist Names\n",
      "========================= masterArtistNameDB =========================\n",
      "  Loading data from /Users/tgadfort/opt/anaconda3/envs/py37/musicnames/mainArtistNameDB.p\n",
      "  There are currently 7519 artist keys.\n",
      "  There are currently 8788 renamed artist keys.\n",
      "========================= masterArtistNameDB =========================\n",
      "  Loading data from /Users/tgadfort/opt/anaconda3/envs/py37/musicnames/multiArtistNameDB.p\n",
      "  There are currently 147 artist keys.\n",
      "  There are currently 153 renamed artist keys.\n",
      "  Setting matchData for Spotify\n"
     ]
    }
   ],
   "source": [
    "mdbmaps = {}\n",
    "print(\"ChartType = {0}\".format(chartType))\n",
    "print(\"MType     = {0}\".format(mType))\n",
    "mdbmaps[chartType] = musicDBMap(chartType, init=False, copy=False)\n",
    "mdbmc = masterDBMatchClass(maindb, mdbmaps)\n",
    "\n",
    "manDB      = masterArtistNameDB(\"main\", init=False)\n",
    "multimanDB = masterArtistNameDB(\"multi\", init=False)\n",
    "\n",
    "\n",
    "def reMatch(mdbmaps=mdbmaps, mdbmc=mdbmc, mtype=\"Single\"):\n",
    "    if mtype == \"Single\":\n",
    "        matchData = {mdbmaps[chartType].getPrimaryKey(artistName=artistName, artistID=None): {\"ArtistName\": artistName, \"ArtistAlbums\": artistAlbums} for artistName,artistAlbums in cad.getSingleArtistAlbumData().items()}\n",
    "        mdbmc.setDBMatchData(chartType, matchData)\n",
    "    elif mtype == \"Many\":\n",
    "        matchData = {mdbmaps[chartType].getPrimaryKey(artistName=artistName, artistID=None): {\"ArtistName\": artistName, \"ArtistAlbums\": artistAlbums} for artistName,artistAlbums in cad.getManyArtistAlbumData().items()}\n",
    "        mdbmc.setDBMatchData(chartType, matchData)\n",
    "    elif mtype == \"Full\":\n",
    "        matchData = {mdbmaps[chartType].getPrimaryKey(artistName=artistName, artistID=None): {\"ArtistName\": artistName, \"ArtistAlbums\": artistAlbums} for artistName,artistAlbums in cad.getFullArtistAlbumData().items()}\n",
    "        mdbmc.setDBMatchData(chartType, matchData)\n",
    "        \n",
    "reMatch(mtype=mType)"
   ]
  },
  {
   "cell_type": "markdown",
   "metadata": {},
   "source": [
    "## Master Ignore List"
   ]
  },
  {
   "cell_type": "code",
   "execution_count": 201,
   "metadata": {},
   "outputs": [],
   "source": [
    "ignoresList = [\"chartIgnores.yaml\"]\n",
    "ignoresList = []\n",
    "\n",
    "ignoresList = []\n",
    "ignoresList.append(\"Artists Stand Up To Cancer\")\n",
    "ignoresList.append(\"Cast Of Rent\")\n",
    "ignoresList.append(\"2006 Broadway Cast Recording\")\n",
    "ignoresList.append(\"Original Broadway Cast Of Dear Evan Hansen\")\n",
    "ignoresList.append(\"Various\")\n",
    "ignoresList.append(\"Various Artists\")\n",
    "ignoresList.append(\"Read-Along\")\n",
    "ignoresList.append(\"Varios Artistas\")\n",
    "ignoresList.append(\"Artists Against Bullying\")\n",
    "ignoresList.append(\"Varios\")\n",
    "ignoresList.append(\"Sleep Music Lullabies\")\n",
    "ignoresList.append(\"Yoga Meditation Tribe\")\n",
    "ignoresList.append(\"The Cast Of Stomp\")\n",
    "ignoresList.append(\"Quincy Jones Feat. The Cast Of Stomp/The Yes/No Productions\")\n",
    "ignoresList.append(\"Walt Disney Read-Along\")\n",
    "ignoresList.append(\"Classical Lullabies For Babies Academy\")\n",
    "ignoresList.append(\"Diverse\")\n",
    "ignoresList.append(\"Blandade Artister\")\n",
    "saveFile(idata=ignoresList, ifile=\"chartIgnoreArtists.yaml\")\n",
    "\n",
    "unknownList = []\n",
    "unknownList.append(\"Amil-lion\")\n",
    "unknownList.append(\"Yung Lito\")\n",
    "unknownList.append(\"Idols\")\n",
    "unknownList.append(\"X Factor Finalists\")\n",
    "unknownList.append(\"R\")\n",
    "unknownList.append(\"Malena\")\n",
    "unknownList.append(\"Neales\")\n",
    "unknownList.append(\"Incognito\")\n",
    "unknownList.append('\"Patches\" Stewart')\n",
    "unknownList.append(\"X Factor NZ Top 12\")\n",
    "saveFile(idata=unknownList, ifile=\"chartUnknownArtists.yaml\")\n",
    "\n",
    "internationalList = []\n",
    "internationalList.append(\"3robiu\")\n",
    "internationalList.append(\"Multi-interpretes\")\n",
    "internationalList.append(\"Mormon Tabernacle Choir/Orch. At Temple Square/Yoncheva/Mumford/Villazon/Terfel (Wilberg)\")\n",
    "internationalList.append(\"Villazon\")\n",
    "internationalList.append(\"Mumford\")\n",
    "internationalList.append(\"Vienna Philharmonic (Dudamel)\")\n",
    "internationalList.append(\"Louisville Orchestra (Abrams)\")\n",
    "internationalList += ['Eight Ranger', 'Yi Yang Qian Xi', \"ONE N' ONLY\", \"MoLa\", \"Sus Invitados\"]\n",
    "internationalList += ['Juanma Y Su Tuna Para Todo El Ano', 'NYC', 'Nogizaka 48', 'Sho Kiryuin from Golden Bomber']\n",
    "internationalList += ['The MONSTERS', 'ZERO-G', 'Huang Lige', 'Renzo', 'Bodan Shonen Dan', 'ST RISH', 'King Cream Soda']\n",
    "internationalList += ['Good Morning America', 'Hotta Ke BAND', 'Feng Jianyu', 'Stanley Most']\n",
    "internationalList += ['Cardiff City Fc', 'Leeds United Team', 'Monkey Hangerz']\n",
    "internationalList += ['Good Child Foundation', 'Neon Brotherhood', 'Rogue Souljahz']\n",
    "internationalList += ['GMC', 'Krossfade', 'Dave Howley', 'Toko', 'Y-not', 'Afro Music']\n",
    "internationalList += ['Husvenne', 'Maca Boy', 'Skyndeep', 'TwitterXmassingle', 'Julieanne Dineen', 'Julie-Anne Dineen', 'Anybodies']\n",
    "internationalList += [\"Miro\"] # Bulgaria\n",
    "internationalList += [\"Lama\", 'Vintaj', 'D-flow', 'U. Dumanska', 'Leonard', 'MARY', 'Naomi', 'IKE', 'FIESTA!', 'Francisco Loría']\n",
    "internationalList += ['SANARI', 'KIRA', 'Deep Ng', 'BOYZ', 'SEUNGRI', 'TLDK', 'Della', 'Dadado Huang', 'WONFU', 'DEN', 'PORTRAIT', '2T FLOW', 'GULF', 'VANGOE', 'DA 阿達']\n",
    "internationalList += ['Renan Almendarez Coello', 'Alfredo Ramirez Corral']\n",
    "internationalList += ['K-One', 'K.One', 'Miss Murphy', 'Bandits', 'Pop', 'Industry', 'Bigg Face', 'Atlas', 'Chico', 'Pictures', 'Jay-Jay Harvey']\n",
    "internationalList += ['Paw Justice', 'Jay-Jay Feeney', 'Guy Williams & Scribe', 'Dominic Harvey & Scribe']\n",
    "internationalList += ['Ole']\n",
    "\n",
    "saveFile(idata=internationalList, ifile=\"chartInternationalArtists.yaml\")\n",
    "\n",
    "tonewUnknownList  = ['Lil Adrei', 'The 7 Dimensions', 'HIXTAPE', 'Porky Slim']\n",
    "tonewUnknownList += ['SL', 'Sidemen', 'Mastermind', 'HOSH', 'Frosty']\n",
    "saveFile(idata=tonewUnknownList, ifile=\"chartToNewArtists.yaml\")\n",
    "\n",
    "{'Gabo Parisi':9846490}\n",
    "{'Rory & The Island': 1219224, 'Sean Og': 537158, \"Hoo Leeger\": 10908080}\n",
    "{'The Suspects and Guests': 5061058, \"Dennis Reed & Gap\": 15080705}\n",
    "{}\n",
    "\n",
    "{\"Eri Esittajia\": 243610}\n",
    "\n",
    "soundtrackList = ['Jul På Vesterbro', 'Troy & Gabriella']\n",
    "saveFile(idata=soundtrackList, ifile=\"chartSoundtrackArtists.yaml\")\n",
    "\n",
    "applemusicList  = ['Dutch','Deno','DHT','Sadbh']\n",
    "applemusicList += ['DDG', 'Lean Trap', 'MOLO', 'Amina']\n",
    "applemusicList += ['Rocket Girls 101', \"David Miles\", \"Cyril\"]\n",
    "applemusicList += [\"Camur\"]\n",
    "saveFile(idata=applemusicList, ifile=\"chartAppleMusicArtists.yaml\")\n",
    "\n",
    "ignoresList = [\"chartIgnoreArtists.yaml\", \"chartUnknownArtists.yaml\", \"chartInternationalArtists.yaml\",\n",
    "               \"chartToNewArtists.yaml\", \"chartAppleMusicArtists.yaml\", \"chartSoundtrackArtists.yaml\"]\n"
   ]
  },
  {
   "cell_type": "markdown",
   "metadata": {},
   "source": [
    "## Match Using Names And Albums"
   ]
  },
  {
   "cell_type": "code",
   "execution_count": 202,
   "metadata": {
    "scrolled": true
   },
   "outputs": [
    {
     "name": "stdout",
     "output_type": "stream",
     "text": [
      "========== 50\n",
      "========== 20\n",
      "========== 10\n",
      "========== 5\n",
      "========== 3\n",
      "========== 2\n",
      "========== 1\n",
      "  Setting matchData for Spotify\n",
      "Done.\n",
      "\n",
      "\n"
     ]
    }
   ],
   "source": [
    "for minAlbums,minAlbumsData in getIterItems().items():\n",
    "    print(\"=\"*10,minAlbums)\n",
    "    maxAlbums = minAlbumsData[\"Max\"]\n",
    "    maxValues = minAlbumsData[\"Vals\"]\n",
    "    for i in range(10):\n",
    "        toMatch   = mdbmc.getDataToMatch(chartType, maxValues=maxValues, maxAlbums=maxAlbums, minAlbums=minAlbums, ignores=ignoresList)\n",
    "        if len(toMatch[chartType]) == 0:\n",
    "            break\n",
    "        matchItAll(mdbmaps, getThresholds(minAlbums), toMatch=toMatch)\n",
    "reMatch(mtype=mType)\n",
    "print(\"Done.\\n\\n\")"
   ]
  },
  {
   "cell_type": "code",
   "execution_count": 203,
   "metadata": {},
   "outputs": [
    {
     "name": "stdout",
     "output_type": "stream",
     "text": [
      "Matched 12290 / 411 Artists for Spotify ChartType\n",
      "====================================================================================================\n",
      "========== Artists That Were Not Tested (Low Albums) ==========\n",
      "========== Previously Tested Artists Without A Match ==========\n",
      "====================================================================================================\n"
     ]
    }
   ],
   "source": [
    "showMatchedStatus(chartType, mdbmaps, mdbmc)\n",
    "showRemainingMatches(chartType, mdbmc)"
   ]
  },
  {
   "cell_type": "markdown",
   "metadata": {},
   "source": [
    "## Match Only Using Names (Artists Without A Previous Match)"
   ]
  },
  {
   "cell_type": "code",
   "execution_count": 204,
   "metadata": {},
   "outputs": [
    {
     "name": "stdout",
     "output_type": "stream",
     "text": [
      "  Setting matchData for Spotify\n"
     ]
    }
   ],
   "source": [
    "for i in range(1):\n",
    "    toMatch   = mdbmc.getDataToMatch(chartType, maxValues=10000, maxAlbums=100000, minAlbums=0, useKnown=False, dbMatches=0, ignores=ignoresList)\n",
    "    if len(toMatch[chartType]) == 0:\n",
    "        break\n",
    "    matchItAll(mdbmaps, getThresholdsWithoutAlbums(1.0), toMatch=toMatch, useAlbums=False)\n",
    "reMatch(mtype=mType)"
   ]
  },
  {
   "cell_type": "code",
   "execution_count": 205,
   "metadata": {},
   "outputs": [
    {
     "name": "stdout",
     "output_type": "stream",
     "text": [
      "Matched 12290 / 411 Artists for Spotify ChartType\n",
      "====================================================================================================\n",
      "========== Artists That Were Not Tested (Low Albums) ==========\n",
      "========== Previously Tested Artists Without A Match ==========\n",
      "====================================================================================================\n"
     ]
    }
   ],
   "source": [
    "showMatchedStatus(chartType, mdbmaps, mdbmc)\n",
    "showRemainingMatches(chartType, mdbmc)"
   ]
  },
  {
   "cell_type": "markdown",
   "metadata": {},
   "source": [
    "## Try To Match Artists That Were Not Previously Tested (Low Albums)"
   ]
  },
  {
   "cell_type": "code",
   "execution_count": 206,
   "metadata": {},
   "outputs": [
    {
     "name": "stdout",
     "output_type": "stream",
     "text": [
      "  Setting matchData for Spotify\n"
     ]
    }
   ],
   "source": [
    "toMatch   = mdbmc.getDataToMatch(chartType, maxValues=10000, maxAlbums=100000, minAlbums=0, useKnown=True, ignores=ignoresList)\n",
    "matchItAll(mdbmaps, getThresholdsWithoutAlbums(1.0), toMatch=toMatch, useAlbums=False)\n",
    "reMatch(mtype=mType)"
   ]
  },
  {
   "cell_type": "code",
   "execution_count": 207,
   "metadata": {},
   "outputs": [
    {
     "name": "stdout",
     "output_type": "stream",
     "text": [
      "Matched 12290 / 411 Artists for Spotify ChartType\n",
      "====================================================================================================\n",
      "========== Artists That Were Not Tested (Low Albums) ==========\n",
      "========== Previously Tested Artists Without A Match ==========\n",
      "====================================================================================================\n"
     ]
    }
   ],
   "source": [
    "showMatchedStatus(chartType, mdbmaps, mdbmc)\n",
    "showRemainingMatches(chartType, mdbmc)"
   ]
  },
  {
   "cell_type": "markdown",
   "metadata": {},
   "source": [
    "## Extra Artists Info"
   ]
  },
  {
   "cell_type": "code",
   "execution_count": 208,
   "metadata": {},
   "outputs": [],
   "source": [
    "#from extraArtists import extraKnownArtists\n",
    "#extraKnownArtists(mdbmaps, chartType)\n",
    "#showMatchedStatus(chartType, mdbmaps, mdbmc)\n",
    "#showRemainingMatches(chartType, mdbmc)"
   ]
  },
  {
   "cell_type": "markdown",
   "metadata": {},
   "source": [
    "#### Unmatched Artists"
   ]
  },
  {
   "cell_type": "code",
   "execution_count": 209,
   "metadata": {},
   "outputs": [
    {
     "data": {
      "text/plain": [
       "0"
      ]
     },
     "execution_count": 209,
     "metadata": {},
     "output_type": "execute_result"
    }
   ],
   "source": [
    "toMatch   = mdbmc.getDataToMatch(chartType, maxValues=10000, maxAlbums=100000, \n",
    "                                 minAlbums=0, useKnown=False, dbMatches=0, ignores=ignoresList)\n",
    "len(toMatch[chartType])"
   ]
  },
  {
   "cell_type": "markdown",
   "metadata": {},
   "source": [
    "# Manual Appends"
   ]
  },
  {
   "cell_type": "code",
   "execution_count": 36,
   "metadata": {},
   "outputs": [
    {
     "name": "stdout",
     "output_type": "stream",
     "text": [
      "['Joshua Bassett', 'DJ Scheme', 'Pedro CapÃ³', '16yrold', 'Sueco', 'BRELAND', 'Alicia Moffet', 'Skye', 'Josh Jips', 'Leoni Jut', 'Rube Claws', 'VIC MENSA', 'NEW CITY', 'Madalen Duke', 'Cassow', 'DiRTY RADiO', 'Bob Pressner', 'Christian Hudson', 'Vanic', 'Elijah Woods', 'Jamie Fine']\n"
     ]
    }
   ],
   "source": [
    "print([item[1][\"ArtistName\"] for item in toMatch[chartType]])"
   ]
  },
  {
   "cell_type": "code",
   "execution_count": 50,
   "metadata": {},
   "outputs": [
    {
     "name": "stdout",
     "output_type": "stream",
     "text": [
      "['Mimi Webb', 'Frisco', 'Morrisson', 'MizOrMac', 'Miniminter', 'Fekky', 'Kenny Allstar', 'Rv', 'TiÃ«sto', 'Josh Jips', 'Leoni Jut', 'Rube Claws', 'OSH', 'Koomz', 'Amelia Monét', 'Tranell', 'Alex Ross', 'Ralph Felix', 'David Campbell', 'Vidwaan Boon', 'Lea Heart', 'Ché-Fu', 'Lee Mvtthews', 'SACHI', 'Elektriches Weihnachtfest', 'Trill Ryan', 'TEEKS', 'Maimoa', 'J1', 'The Blue Jeans', 'Bob B. Soxx', 'Collectors', 'Henny', 'Zinny', 'AP']\n"
     ]
    }
   ],
   "source": [
    "print([item[1][\"ArtistName\"] for item in toMatch[chartType]])"
   ]
  },
  {
   "cell_type": "code",
   "execution_count": 65,
   "metadata": {},
   "outputs": [
    {
     "name": "stdout",
     "output_type": "stream",
     "text": [
      "['DJ JEEZY', 'Maya Berovic', 'Neptunica', 'Poptracker', 'Zappi', 'LZ27', 'Milan Stankovic', 'Standart Skill', 'Butrint Imeri', 'Tanja Savic', 'Monja Mari Achi', 'Die Hollerstauden', 'Claudius Vlasak', 'DJ Selecta', 'Klaus Peter', 'Ellis Adventure', 'Mortal Frame', 'DJ Greg V', 'Mister Claude', 'Little Strong', 'River Tyne', '4 Giants', 'Martina Kaiser', 'Patrick Knight', 'A Stritzi', 'Shlump', 'BENGELS', 'Stefanie Kloß', 'ARTY', 'Nullzweizwei', 'Koushino', '65Goonz', 'Pietro Basile', 'Sadri', '2ara', 'Provinz', 'Laas Unltd.', 'Z', 'HAMZO 500', 'Gewitter im Kopf', 'Erabi', 'Koosen', 'O.G.', 'Ramon Roselly', 'Senna Gammour', 'Maaf', 'Riccardo', 'ToTheMoon', 'Teddy Teclebrhan', 'Sipo', 'Joker Bratan', 'Bato', 'Dafina Zeqiri', 'Oflow', 'Dj Iljano', 'OFFTR3ND', 'F4ilure', 'Jasin Blanco', 'Pronto', 'Rocio Alvarez', 'Swiluu', 'Mimiks', 'LCone', 'Zwei Am Morge', 'Cricket', 'LIBA', 'Manillio', 'SHINSKY', 'Pappa Razzi', 'Carnie', 'Lily']\n"
     ]
    }
   ],
   "source": [
    "print([item[1][\"ArtistName\"] for item in toMatch[chartType]])"
   ]
  },
  {
   "cell_type": "code",
   "execution_count": 85,
   "metadata": {},
   "outputs": [
    {
     "name": "stdout",
     "output_type": "stream",
     "text": [
      "['Enula', 'Raffaele Renda', 'Aka 7even', 'Marïna', 'WØODY', 'Niko Pandetta', 'Cancun', 'Milano Ovest', 'Axos', 'Marta Daddato', 'Tosca', 'MARCO SENTIERI', 'Paolo Jannacci', 'Gabriella Martinelli', 'NOËP', 'Chakra', 'Greta Menchi', 'Rosalba', 'Sherol Dos Santos', 'Renza Castelli', 'Zano', 'Giovanni Caccamo', 'Lorenzo Baglioni', 'Ron', 'Mirkoeilcane', 'Renzo Rubino', 'Lorenzo Licitra', 'Andrea Radice', 'ROS', 'Raige', 'Maldestro', 'Francesco Guasti', 'Lesram', 'Bilton', 'joysad', 'Dioscures', 'Kanoé', 'GS', 'ISK', 'Osen', 'T Garcia', 'twinsmatic', 'DENZO', 'Kodes', 'Zikxo', 'Badjer', '404Billy', 'Kopp Johnson', 'Sirius', 'Seezy', 'Jahyanai King', 'Jaded', 'Nassi', 'DJ JEEZY', 'Wahlstedt', 'Don Criminals', 'Novi', '5HOW', 'Wikw', 'Goonew', 'Edo Ferragamo', 'Lost Identities', 'GioBulla', 'Roxx Remora', 'Otira', 'R3LL', 'Brooze', 'DASIC', 'DJ LeanGun', 'Toni der Assi', 'Maale Gars', 'Nevlo', 'Nosi', 'Chasey Negro', 'The FifthGuys', 'KOLIDESCOPES', 'Hanzy', 'thisisNAMASTE', 'Jared Moreno', 'Krozz', 'Boris Ayson', 'Alley', 'BROMYGO', 'Kroshwell', 'Nacho Fano', 'Kyd Knarly', 'EQRIC', '4Korners', 'Helen', 'KLOUD', 'Jason Thurell', 'Heuse', 'Lokyto', 'Clambake', 'Josh Stanley', 'Gazz', 'Brevin Kim', 'Dan Lemaire', 'Makasi', 'Mila Jam', 'Jeff Kush', 'EGalas', 'Uniekgrace', 'Basics', 'Camryn', 'Jay 305', 'NAZAAR', 'Benjin', 'VLS', 'Tom Berx', 'KNYD', 'Mark Melgo', 'EDGR', 'Neighbors', 'Jeyday', 'Flairo', 'FVR AVAY', 'Nicky Vaent', 'Vinni Wonka', 'Michael Wayne', 'Ricky Gazetta', 'Busta K', 'Prince Paris', 'Poorchoice', 'Blanke', 'Cytrax', 'Slue', 'Rex Stax', 'Brianna Mazzola', 'Meresha', 'GLDN', 'Simock', 'Ruben Pol', 'Those 2 Guys', 'Seorsia', 'Lennard Ellis', 'AXEC', 'SHANNI.', 'Sophia Treadway', 'Aysha Monet', 'Mystic Natives', 'Schuz', 'CRZY', 'Kalipzo', 'Dee Gomes', 'Lifetime Member', 'Tritan', 'teamwork.', 'The Unfits', 'The Him', 'Deadrose', 'JJ Hannon', 'Hones-T', 'Kyle Edwards;DJ Smallz 732', 'Kyle Edwards;Chris Bevrly', 'Miquela', 'Ian Erix', 'Chris Tyson', 'Dylan Diamond', 'Cal Scruby', 'Bandana', 'Lérica', 'Hard GZ', 'Aiman JR', 'Marc Seguí', 'Emanuel A', 'Yulien Oviedo', 'REYKO', 'FlowZeta', 'Joan Garrido', 'Damion Frost', 'Dave Zulueta', 'María Escarmiento', 'Pol Granch', 'Chica Sobresalto', 'Yung Sarria', 'Sebastián Cortés', 'TheGrefg', 'Paula Cendejas', 'Anaju', 'Eva B', 'Ankhal', 'Resistiré 2020', 'Samantha', 'Duo Dinamico', 'ARON', 'Javy Ramírez', 'Love Yi', 'Eklectico', 'Locoplaya', 'LUNA KI', 'Dylan Fuentes', 'Soge Culebra', 'Elilluminari', 'Sergio Ramos', 'Selecta', 'Kaze', 'Jirafa Rey', 'Paula Gonu', 'Yuawi', 'La Vida Moderna', 'Angeles', 'Tutto Duran', 'ICE', 'Dior', 'Goldkimono', 'Jeffrey Heesen', 'David Neres', 'Jjakoveertien', 'Rotjoch United', 'Wolfgang', 'Makkie', 'Joey Bravo', 'Jerra', 'Mario Cash', 'ValsBezig', 'Oualid', 'Team Rush Hour', 'DYSTINCT', 'Bigidagoe', 'KNALLER', 'Jordymone9', 'Pierrii', 'Matthy', 'Selma Omari', 'Frozen Fire', 'Akwasi', 'DJ Nazil', 'Pjotr', 'Trobi', 'Kevcody', 'Jayboogz', 'S10', 'The voice of Holland', 'Blow', 'Ares', 'Dv', 'Dylisa', 'Joel Beukers', 'Dana', 'DJ Wale', 'Souff', 'Floor Jansen', 'Paul Sinha', 'Lirical', 'Artistic Raw', 'LU BACH', 'Skiezo', 'Rene Karst', 'Jiri11', 'Nijo', 'MRD', 'Zoë-Jadha', 'Quatro Vision', 'Daniël Busser', 'F.I.', 'SuriBeats', 'Fabiola', 'Dave Roelvink', 'Iliass', 'Memphis Depay', 'Qucee', 'Shock Elias', 'Quessswho', 'RUGGED', 'Vonneke Bonneke', 'Scooby072', 'CJaye', '808milli', 'Bridde Boys', 'Lucass', 'Nesim Najih', 'Gebroeders Rossig', 'Anbu', 'Kid de Blits', 'Mael', 'Gamemeneer', 'Anu-D', 'BangBros', 'Milan Knol', 'Langesjaak', 'Darryl', 'Tavi Castro', 'Johnny Sellah', 'Minitrapper', 'Rabby Racks', 'RONDÉ', 'PLEUN', 'Angelo King', 'J1', 'Dean', 'Kellini', 'Fito', 'Waor', 'Natos', 'Prok', 'El High', 'Dayme', 'Diaz']\n"
     ]
    }
   ],
   "source": [
    "print([item[1][\"ArtistName\"] for item in toMatch[chartType]])"
   ]
  },
  {
   "cell_type": "code",
   "execution_count": 101,
   "metadata": {},
   "outputs": [
    {
     "name": "stdout",
     "output_type": "stream",
     "text": [
      "['Whyrun', 'Villi Neto', 'Gummi Tóta', 'Unnsteinn', 'Miquela', 'Ian Erix', 'Chris Tyson', 'Greifarnir', 'Magni', 'Vilhjálmur Vilhjálmss', 'Hreimur', 'Venjulegir Gaurar', 'Sigga Beinteins', 'Edda Heiðrún Backman', 'Eythor Ingi', 'VICTORIA', 'Ferðumst innanhúss', 'Ouse', 'R3SYNTH', 'fuse.', 'Scraby', 'Sharp Man', 'Br0med', 'krassasig', 'Háski', 'Andri Már', 'Shakespeare verður ástfanginn', 'Reynir', 'EVR3stNess', 'Kolassoid', 'Akeckee', 'ZENA', 'zalagasper', 'Eliot', 'Michael Rice', 'S!sters', 'Tulia', 'Srbuk', 'Jurijus', 'Sarah McTernan', 'Flosi V', 'Screamerboys', 'Egill Stolz', 'Helgi B', 'Stefán Karl Stefánsson', 'Bergur Leó', 'Caulfield', 'ZÖE', 'Youngcuzzoo', 'Óðinn Valdimarsson', \"J'adora\", 'Ieva Zasimauskaitė', 'Lea Sirk', 'DoReDoS', 'SuRie', 'Flosi', '$igmund', 'Snow Dept.', 'Ragga Holm', 'iDubbbz', 'Dihaj', 'Hovig', 'IMRI', 'Jana Burčeska', 'Slavko Kalezić', 'Rúnar Eff', 'Þórdís Birna Borgarsdóttir', 'Erna Mist Pétursdóttir', 'Rakel Pálsdóttir', 'Sara Farell', 'TheoFuego', 'Frans Harju', 'Helena Routa', 'The View', 'Hussa', 'Oskr', 'DJ Massimo', 'Kuohu', 'Henriguez', 'Lxandra', 'Knipi', 'Sara Chafak', 'Raaka-Aine', 'NICHOLAS X', 'KIKI 76', 'Xtojo', 'Mauton', 'VV', 'Tomi Amor', 'Antony Parviainen', 'Toni Kakko', 'Leyton Lake', 'Frances', 'Pajafella', 'ODE', 'Mikaveli', 'Romu', 'SANÉ', 'Tre Kronor', 'Samppa Linna', 'ILLSIGHT', 'JORI SJÖROOS', 'Paul Elias', 'Malka', 'Kauriinmetsästäjät', 'Julia Rautio', 'Nelli Milan', 'Vahtera', 'Blue Street Players', 'Ronja Mariela', 'Planet SAHH', 'Kerava', 'Kid1', 'Deata', 'SHE', 'City Street Jazz Band', 'Møtions', 'MIROxNIKI', 'Epelit', 'Pasa', 'KOI', 'Rácz Gergõ', 'VALMAR', 'Kasza Tibi', 'IstenEst', 'Nks', 'Bereczki Zoltán', 'HRflow', 'Mario Judah', 'Tiah', 'Apu', 'Carson Coma', 'Strongi', 'LMEN PRALA', 'Pamkutya', 'Vanek Andor', 'Misshmusic', 'USNK', 'Senkise', 'Horváth Tamás', 'Pixa', 'Filius Dei', 'Samuel Kim', 'JustVidman', 'Red Bull Pilvaker', 'Dé:Nash', 'Konyha', 'Hundred Sins', 'King Monroe', 'AKC Misi', 'ibbigang', 'New Level Empire', 'Berkes Olivér', 'Szakács Gergő', 'Zséda', 'TNT', 'Sipos Tamás', 'Radics Gigi', 'Soulwave', 'Zävodi', 'HoneyBeast', 'LYSA', 'Opitz Barbara', 'Kollányi Zsuzsi', 'Margaret Island', '30Y', 'Trifecta', 'Kindler Shah', 'Stolen Beat', 'Molnár István', 'Egs', 'Pøla', 'Elefánt', 'Kispál és a Borz', 'Ismerős Arcok', 'Szabó Balázs Bandája', 'Magneoton Sztarok', 'Dana', 'FIZIstyle', 'Grey256', 'Skwor', 'Wesome', 'Milion Plus', 'Refew', 'HILLS 97', 'P T K', 'Adam Ďurica', 'Fobia Kid', 'Dan Barta', 'Skardu', 'ONEMANSHOW Foundation', 'Adam Mišík', 'Reginald', 'Za100let', 'Amco', 'Redzed', 'MikeJePan', 'Johny Machette', 'Janek Ledecky', 'XINDL X', 'Nightwork', 'DJ Rusty', 'Berenika Kohoutová', 'SKiNNY BARBER', 'Maniak', 'Cypis', 'Hard Rico', 'Michal Hruza', 'ATMO Music', 'Porsche Boy', 'SpecialBeatz', 'DJ Kadr', 'Dětský sbor Camerata', 'LIL GRIPPIE', 'Hugo Toxxx', 'DeeThane', 'Martin Matys', 'Naflexx', 'Forgen', 'Vadak', 'FattyPillow', 'TVTwixx', 'Dětský sbor', 'Josh Jips', 'Leoni Jut', 'Tomas Klus', 'Jakub Děkan', 'JJ Hannon', 'Sofian Medjmedj', 'JCKPT', 'Annet X', '5NAPBACK', 'STIKSTOF', 'Sara Gold', 'Sylver', 'Double Pleasure', 'Kenn Colt', 'Liefde Voor Muziek voor Rode Neuzen Dag', 'Jjakoveertien', 'The Starlings', 'DJ Nazil', 'Sean Dhondt', 'Karen Damen', 'Peter Vanlaet', 'Yung Mavu', 'Seedy', 'J Pablo', 'Twin n Twice', 'Trobi', 'Mastachi', 'Sordal', 'Amanda Wittman', '404Billy', 'bvd kult', 'Silvy', 'DJ Licious', 'Curtis Alto', 'Tavi Castro', 'Nassi', 'Natalia', 'Tim Arisu', 'D5R', 'J1', 'Tilhet', 'pajut ja muut', 'Spacc', 'the Serpent', 'spacc', 'Freddie Shuman', 'Halloran', 'Kate', 'Lil G.', 'Jickson', 'Sheen', 'PJAY CZ', 'SK']\n"
     ]
    }
   ],
   "source": [
    "print([item[1][\"ArtistName\"] for item in toMatch[chartType]])"
   ]
  },
  {
   "cell_type": "code",
   "execution_count": 117,
   "metadata": {},
   "outputs": [
    {
     "name": "stdout",
     "output_type": "stream",
     "text": [
      "['Carl Knast', 'DIBSET', 'SunCity', 'Boris Laursen', 'Jamie Kamara', 'Børnemusik Dyrene', 'Awave', 'N3LLY', 'HAM fra Syd', 'Merro8', 'IBO', 'Berd', 'LayLay', 'Jesu Bankerz', 'Kristian Kjærlund', 'Alexander Husum', 'AMRO', 'Leprom', 'Karizman', 'Elvira Pitzner', 'VM Holdet', 'KING', 'Vkation', 'Tramper Torben', 'Place On Earth', 'Delahoia', 'Sandra Hussein', 'Soleima', 'Tore', 'Tiril', 'Henrik Blomme', 'Katie Keller', 'Salazar', 'Dj Guldsmed', 'Jytte', 'Lakserytteren', 'CHILI', 'MGP Allstarz 2017', 'Guldpige', 'JB', 'Euroo', 'Marti', 'Malaka', 'buller', 'Oskar Häggström', 'A36', 'Seedy', 'HON', 'SG Lewis', 'Style', 'Erik Lundin', 'Matte Caliste', '2.clock', 'Abidaz', 'Biggie Juke', 'Suzi P', '2M', '10an', 'Linda Olsson', 'Bailey Jehl', 'Four of Diamonds', 'Janice', 'The Mayries', 'Jelassi', 'Wild-Boy', 'Michael Rice', 'zalagasper', 'Herbert Munkhammar', 'Jonathan Johansson', 'Mila Crowell', 'Lionman', 'Leyton Lake', 'Amy Soonyoung', 'Tony Lieberman', 'Hallman', 'Max George', 'Ieva Zasimauskaitė', 'May Raya', 'Thomas Sekelius', 'Total Ape', 'Hovig', 'IMRI', 'Henrik Berggren', 'Les Gordons', 'Galavant', 'Blåsemafian', 'Jorn', 'Halva Priset', 'Ole Hartz', 'EMMY', 'Kristin Husøy', 'Magnus Bokn', 'S1sco', 'HAYES', 'Philip Emilio', 'Oskar Westerlin', 'Daskeladden', 'Kevin Boine', 'Torine', 'Roc Boyz', 'Yasmine San Miguel', 'Martin Heier', 'GoToGuy', 'GABIFUEGO', 'NALO', 'Drikkeleken', 'Simon Kleiveland', 'DMNDS', 'Matilda', 'B-Boy Myhre', 'Ida Celine', 'Kutoppen', 'Jonathan Floyd', 'Petter Northug Jr', 'Konen på torget', 'Bendik Brænne', 'Ulrike Hansen Døvigsen', 'Penthox', 'Bearson', 'Vilde og Anna', 'Dunisco', 'Future Duper', 'ARY', 'Adrees', 'Clairmont', 'Alex Ross', 'Serlina', 'Tunge Ferrari', 'Piateed', 'Olav Haust', 'Chris Haugan', 'Huemist', 'Ezzari', 'Louam', 'Alberto Ciccarini', 'ZadeKing', 'INDIIA', 'Jonas Benyoub', 'Swedum', 'Chad Cooper', 'Temmpo', 'Travelle', 'CASPR', 'Turab', 'Pojkarna', 'Marte Bratberg', 'Sara Farell', 'dePresno', 'DJ Anton', 'August Dahl', 'Atle', 'Maria Celin Strisland', 'EMIR', 'Maybon', 'Ella Lockert', 'Prebz Og Dennis', 'Stein Berge', 'Bendik', 'Lxandra', 'Tayla Parx', 'Yomi', 'Bad Geckos', 'Frank Løke', 'Hanne Mjøen', 'JRL', 'Marthe Wang', 'X Daniel', 'Øystein Hegvik', 'Meso', 'Henrix Borg', 'Kung Vladimir', 'DJ NorgeJodel', 'Mina Lund', 'Sirkel Sag', 'Juur', 'Triana Iglesias', 'INAP', 'ZL-Project', 'Mad.S', 'Ola Nordmann', 'Bernt Hulsker', 'Yung Potato', 'Thea Gudmundsen', 'Petter Pilgaard', 'Snow Boyz', 'Georgia Box', 'Britz', 'Kapteinen', 'NorthKid', 'Olympis', 'J1', 'the Dodos', 'Bea', 'Victoria', 'Dimitri Vangelis', 'Wyman', 'Halloran', 'Kate', 'Edgar', 'Meland', 'Skei', 'PT', 'Mannen', 'Zino', 'Eddy', 'Norway', 'Paradise Hotel']\n"
     ]
    }
   ],
   "source": [
    "print([item[1][\"ArtistName\"] for item in toMatch[chartType]])"
   ]
  },
  {
   "cell_type": "code",
   "execution_count": 133,
   "metadata": {},
   "outputs": [
    {
     "name": "stdout",
     "output_type": "stream",
     "text": [
      "['Kamal Khaira', 'Madhu Priya', 'Roll Rida', 'Raghav Chaitanya', 'Simran Kaur Dhadli', 'Khushank Dalal', 'Nimrat Khaira', 'Sickflip', 'Kulbir Jhinjer', 'Nirvair Pannu', 'Bhuvan Bam', 'Korala Maan', 'Tanzeel Khan', 'Sam C.S.', 'The Landers', 'Sanjith Hegde', 'Arun Dev Yadav', 'Sarath Santosh', 'Amruta Fadnavis', 'Happy Raikoti', 'Mickey J. Meyer', 'Rupinn', 'Nitin Mukesh', 'Tamir Bar', 'Orr Amrami Brockman', 'Tay G', 'Jimbo J', 'Teddy Neguse', \"100 First Songs' Participants\", 'Francis Duran', 'Glen Dean', 'Føx & the Hound', 'Sergio', 'Pako Ramirez', 'Young Wavee', 'דקל וקנין', 'Berg', 'Roy Kafri', 'ZENA', 'Asaf Goren', 'Ishay Levi', 'Avior Malasa', 'Yossi Shitrit', 'Gher', 'Michael Swissa', 'אבי פאנל', 'Katrix and Doron Beaton', 'Liron Amram', 'Omri 69 Segal', 'Buttering', 'Afroto', 'Ahmed Santa', 'Mido Gad', 'Angham', 'Barry', 'Ali Adora', 'Abo Lila', 'Emad Kamal', 'Karim Mohsen', 'Rain Sleepings Sounds', 'Limit 29', 'Rain Sound Studios', 'Alex Ran', 'Barachi', 'Idahams', 'Rc $pitta', 'Majid Almohandis', 'Overlord Bnjmnz', 'T-Krazie', 'Lady Sparkle', 'Dufflebag Cal', '7098', 'Ebx Music', 'ARNOLD', 'Luigui Bleand', 'Josh Milli', 'A-RealBeats', 'Dmvc Blvck', 'Shiah Maisel', 'TYTE', 'Terri Cann', 'damnboy!', 'Luca Testa', 'Assassin', 'FEYI', 'Jorge Pensi', 'Julius', 'Yedinci Ev', 'Lvbel C5', 'Karya Çandar', 'Cem Pilevneli', 'Kodes', 'Ahiyan', 'Maho G', 'Grup M. Şanlıel', 'Irem', 'Halil İbrahim Göker', 'Gökşin Derin', '90 BPM', 'Anıl Durmuş', 'Mansa Obi', 'Timuçin Esen', 'DJ LYAN', 'Medusa', 'İntizar', 'Özlem Akgüneş', 'Sibel Alaş', 'Güler Özince', 'Betül Demir', 'Atiye', 'Pentagram', 'Nigar Muharrem', 'Deniz Gürzumar', 'Asala Maleh', 'Killval', 'Mohamed AlSalim', 'Ahmed El Maslawy', 'Aburob', 'Akihiro Manabe', 'Rap AR Anime', 'Blvxb', 'Mohmood Al Ghaiath', 'Joseph Attieh', 'Humood AlKhudher', 'Real Recognize Rio', 'Lil Eazy', 'Archez', 'WESTSIDE BOOGIE', 'Lindiwe Mkhize', 'Jafar Al Ghazal', 'Haifa Wehbe', 'Konata Small', 'the Serpent']\n"
     ]
    }
   ],
   "source": [
    "print([item[1][\"ArtistName\"] for item in toMatch[chartType]])"
   ]
  },
  {
   "cell_type": "code",
   "execution_count": 149,
   "metadata": {},
   "outputs": [
    {
     "name": "stdout",
     "output_type": "stream",
     "text": [
      "['Sergi', 'La Mosca Tse-Tse', 'Marcos Menchaca', 'Gera MX', 'Heroes Del Silencio', 'Yuawi', 'Где Фантом?', 'Kara Kross', 'SEEMEE', 'PALC', 'ElyOtto', 'Dzharakhov', 'LIDA', 'G4OUR', 'CAPTOWN', 'Smoky Mo', 'Pacosp', 'IsaacMusic', 'Gunwest', 'Ямаджи', 'Armando Hernandez', 'Ryan Roy', 'Leebrian', 'DJ Goozo', 'LosPetitFellas', 'Dejota2021', 'Luisa Fernanda W', 'Koffee el Kafetero', 'Kenai', 'Sanluis', 'Martin Elías', 'Leo Mattioli', 'Tambó Tambó', 'Felix Gabriel', 'DJ Yayo', 'La Nueva Luna', 'Wanakin', 'Joleane', 'Joe Hasin', 'Miz Lina', 'Nadia Dan', 'Aida gean', 'Karl Michelson', 'Miles Kenn', 'Kennis Inn', 'Nickl Mons', 'Adam Dank', 'Justin Tomber', 'Edik', 'Dean Loo', 'Vitya AK', 'payton', 'Mitchel', 'Фикс', 'Gocata Kangal', 'VessoU', 'Togasang', 'Havenbled', 'Jamaicataxi7', \"Leron Rankin'\", 'Gcollectah', 'Crystal Byrd', 'Donika', 'Riko Band', 'LZ27', 'KNUX', 'MacShawn100', 'Nikki Luchese', 'FlameShadow', 'SayReal', 'NEEL', 'Leol', 'CashnOut Esco', 'StzCorp', 'VICTORIA', 'Ran Nishihara', 'Jamiryo', 'Josh Jips', 'Leoni Jut', 'Kindler Shah', 'Venata', 'Iskrata', 'Luca Testa', 'JJ Hannon', 'TIFFANY BYNOE', 'Hones-T', '13 Crowns', 'Exiled', 'iDubbbz', 'Kyle Edwards;Chris Bevrly', 'Kyle Edwards;DJ Smallz 732', 'Angerwolf', 'Miquela', 'Cassow', 'Ian Erix', 'Chris Tyson', 'Kid3rd', 'Dylan Diamond', 'Cal Scruby', 'Plamen', 'Ricegum', 'JRY', 'Fran Rozzano', 'Dowba Montana', 'Yiyo Zarante', 'Deiby Lceja', \"Leyenda Barrial Boy'z\", 'Jay Menez', 'Alex R.', 'El Chuape', 'Sergio Echenique', 'J Quiles', 'Lr Ley Del Rap', 'La Manta', 'Jonzmen', 'Hey Santana', 'Nico Clinico', 'Danay Suárez', 'El Batallon', \"D'Markuz\", 'Chystemc', 'La Sonora De Tommy Rey', 'Grupo Alegria', 'Agrupación Marilyn', 'Ak 4:20', 'Flor De Rap', 'joel music', 'Músicxs De Chile', 'Ankhal', 'Bayronfire', 'Conjunto Alerce', 'Daniel Munoz', 'Hector Pavez', 'Los de Ramon', 'Jorge Yanez', 'Julianno Sosa', 'Eyci and Cody', 'La Combo Tortuga', 'Mym', 'Leka el Poeta', 'Jona Camacho', 'Roberto Parra', 'Los Hidalgos', 'Hermanos Morales', 'Yulien Oviedo', 'Fiesta Huasa', 'Ballet Folklórico Alma Chilena', 'Power Peralta', 'Ronald El Killa', 'Marvell Boi', 'Romeo El Santo', 'Marvel B', 'Portavoz', 'Tracy McGrady', 'Paithon', 'Atomic Rose', 'Kazzabe', 'Steven Pineda', 'J Calix', 'Nassir Chahin', 'Nio Nassar', 'JWolfy', 'Juan Oliva', 'Angel Gutiérrez', 'Rodolfo Bueso', 'Jesus Aguilar', 'Macario Mejia', 'Los Bohemios', \"What's Up\", 'andrei', 'Sapte', 'Mario Fresh', 'Alberto Grasu', 'Iobagg', 'Oscar', 'Roxen', 'VUNK', 'Mario Judah', 'RAVA', 'Florian Rus', 'Super Ed', 'Lino Golden', '5GANG', 'Yakki', 'Dorian Popa', 'SICKOTOY', 'ADDA', 'Stefan Hrusca', 'Deliric', 'Jay Watts', 'Lola Brooke', 'Drew Allen', 'Corey Mekell', 'Mark Stam', 'Aerozen', 'boi the creator', 'Inyeewetrust', 'Son Orioz', 'Mr. Glasses', 'Subcarpaţi', 'Speak', 'Calinacho', 'NMW', 'El Nino', 'Ali Dolla$', 'TRISHES', 'Olivia Sabates', 'Doddy', 'Gloria Prince', 'P.M.', \"Beau'Joli\", 'Lovel', 'BAZOOKA', 'Chris Bones', 'DOC', 'Real Imaj', 'Knack', 'NxtSkool', 'Omar Courtz', 'Pitizion', 'Bebo Yau', 'Tres Dedos', 'Arevalo', 'Durako', 'Bombotunes', 'La Máquina Camaleón', 'Dennis Fernando', 'Navigator', 'Eshconinco', 'DeStorm', 'Dj Coss', 'Dancehall Word', 'Blaiz Fayah', 'DJ Kendo', 'GIMARIO', 'Alex Badilla', 'Pranz', 'Fátima Pinto', 'MAYKEL', 'SpecialBeatz', 'Porsche Boy', 'Frayer Flexking', 'Momo', 'Grey256', 'Fobia Kid', 'AstralKid22', 'Martin Agh', 'Duch', 'Pavol Habera', 'Lubomír Lipský', 'Dominika Mirgova', 'Janek Ledecky', 'Marie Rottrova', 'Robo Opatovsky', 'Luca Brassi10x', 'Cypis', 'ONEMANSHOW Foundation', 'Čis T', 'Adam Ďurica', 'LUISA', 'Radikal Chef', 'Šorty', 'KHANS', 'Milion Plus', 'Kruel', 'Redzed', 'Tina', 'Loko Loko', 'Falusko', 'Miko Floso', 'Taomi', 'Alan Murin', 'Nicholas Naison', 'Samuel Kim', 'Rida Radar', 'Mairee', 'Marián Kochanský', 'Simon Smith', 'Peter Simon', 'Naflexx', 'TKX', 'Slimso', 'Annet X', 'Ultrazvuk', 'For You Acapella', 'P.A.T.', 'DJ Rusty', 'Supa', 'Trifecta', 'Lukas Adamec', 'LYSA', 'Peter Pann', 'Deyvis Orosco', 'Cielo Torres', 'Maricarmen Marin', 'Armonia 10', 'Claveles de la Cumbia', 'Faraón Love Shady', 'Combinacion De La Habana', 'Temple Sour', 'Orquesta Caña Brava', 'Orquesta Bembé', 'Nicole Favre', 'Anna Carina', 'Susan Ochoa', 'Reggaeton bachata Hit', 'Dani Darcourt', 'VICE MENTA', 'Hnos Yaipen', 'DJ Krlos Berrospi', 'Orquesta Caribeños de Guadalupe', 'Marco Romero', 'DJ Luigi', \"Pelo D'Ambrosio\", 'Cruz', 'Mario Hart', 'Av. Larco', 'Orquesta Zaperoko del Callao', 'Korina Rivadeneira', 'BCA', 'Dubosky', 'El Codigo Kirkao', 'Robinho', 'Towers Mix', 'Señor Loop', 'Bobo', \"At' Fat\", 'Yemil', 'Kabliz', 'El Kid', 'Sofía Valdés', 'Chamaco', 'El Zeta', 'MOI MUSIC', 'Mista Bombo', 'Fulo El Yeyo', 'T.O.T', 'Robi Guid', 'El Boza', 'BARBEL', 'Jhon el Diver', 'Amindi', 'Los Topsys', 'Original Fat', 'Azhika', 'Rawayana', 'Real Phantom', 'Saulės Kliošas', '7th Block', 'Šventinis bankuchenas', 'Jessica Shy', 'Furytto', 'Keanu Blunt', 'Angelou', '2Kvėpavimas', 'Velvet', 'GJan', '335d', 'Flying Saucer Gang', 'Zoliukas', 'Solo Ansamblis', 'ilyTOMMY', 'Gebrasy', 'wavytunesz', 'Gabrielius Vagelis', 'Daddy Was a Milkman', 'Evgenya Redko', 'Eyedress', 'Beatrich', \"Radistai Dj's\", 'Monique', 'QV Trap', 'Shouse', 'Jovani', 'GAZIROVKA', 'Ieva Zasimauskaitė', '8 Kambarys', 'Alekna', 'Saulius Prūsaitis', 'Flash Voyage', 'SADBOI', 'Free Finga', 'Vidas Bareikis', 'Vaidas Baumila', 'Mark Les', 'senjasa', 'AREZRA', 'Kamaniu Silelis', 'jautì', 'Swertas', 'OSVISS', 'Abudu', 'NKSN', 'Kriminell', 'Gabrielė Vilkickytė', 'Monika LIU', 'MITCH RECORDS', 'Tinlicker', 'Monika Linkyte', 'On1Beat', 'Junior A', 'ba.', 'Мэвл', 'Audioiko', 'Rūta Loop', 'Monika Marija', 'MEANDI', '3-ий Январь', 'Radvilas RA', 'MR.Nuclear', 'Golden Parazyth', 'Iglė', 'zalagasper', 'Jurijus', 'Karolina Meschino', 'Carousel', 'ZENA', 'Eliot', 'S!sters', 'Srbuk', 'Michael Rice', 'Sarah McTernan', 'Ester Peony', 'Tulia', 'Garbanotas', 'Dog Collective', 'Lea Sirk', 'SuRie', 'Ieva ZasimauskaitÄ—', 'Laura Rizzotto', 'Eugent Bushpepa', 'DoReDoS', 'Hiperbole', 'Baltasis Kiras', 'Dihaj', 'IMRI', 'Hovig', 'Triana Park', 'Jana Burčeska', 'Timebelle', 'Artsvik', 'Kasia Moś', 'NAVIBAND', 'Tijana Bogicevic', 'Slavko Kalezić', 'Norma John', 'The View', 'Tim Legend', 'Garotihnio', 'Mariano Bermudez', 'Cuatro Pesos de Propina', 'Sonido Caracol', 'Karibe con K', 'Once Tiros', 'Chacho Ramos', 'Los Pikantes', 'Los Negroni', 'Buitres', 'Jotape', 'La Sandonga', 'Valeria Gau', 'Marcos da costa', 'Gian', 'Zeballos', 'Américo Young', 'Zanto', 'Blonda', 'CB Records Music', 'Arrancandonga', 'Miway', 'Edu Lombardo', 'Canario Luna', 'Mart', 'Sonido Cristal', 'Lafame', 'Sonido De La Costa', 'Urband', 'The Panas', 'Dessia el Otro', 'Halconizados de Amor', 'Corta La Bocha', 'Estrategas', 'DeGira', 'Tu Papa', 'Enero', 'RC BAND', 'Mala Tuya', 'La Mano Rancia', 'Los Verduleros', 'Cumbia Juan', 'Chili Fernandez', 'Japiaguar', 'Talento de Barrio', 'Noa - Noa', 'Escucha!', 'Samuray', 'Tropical Caribe De Los Hnos Loera', 'Los inquietos del vallenato', 'Pipa Para Tabaco', 'Tropical Caribe', 'La De Roberto', 'LaNuestra', 'Lenuel', 'Bryant Mayers', 'Joshua Dietrich', 'MC LEO', 'Lucas Cliff', 'Tierra Adentro', 'Afaz Natural', 'BB Nobre', 'Reggaetones', 'Villagrán Bolaños', 'Em Rossi', 'Drew Cole', 'Dj Maya', 'Manifiesto Urbano', 'Carin', 'StephenFlint24', 'ScottHall41', 'JulieHarder67', 'CarolAnderson88', 'MariaBrewer62', 'CecilDowns84', 'IsisWampler68', 'Temry', 'CynthiaGorecki58', 'S I', 'Sean Matsukawa', 'Midnight Office', 'D.K. Smith', 'Destripando la Historia', 'Akil Hamilton', 'Michele 69', 'Alan 1', 'Alan 2', 'Tuan Alto Sax', 'Doris Schmeler', 'Dorothea Berger', 'Adonis 88', 'TINA LTT', 'Adonis 66', 'Lucy Beahan', 'Veronica Effertz', 'Joseph Murray', 'SarahStiltner', 'Eula Glover', 'HenryNorrell', 'JamesPonder', 'TerryFerrell', 'Slender2003', 'The Face 1234', 'Indifferent2527', 'Lucky2135', 'Coldly1989', 'Vuvanhy1985', 'Wistful2010', 'Happy9282', 'Silence2001', 'Fragile1988', 'Comfortable5343', 'TonyJones', 'Magnolia1982', 'Sunset2002', 'Marty McKay', 'CaryLamb', 'RonTurner', 'JeffreyLewis', 'Weldon S. Kesterson', 'EdithFernandez', 'DianeKennedy', 'Michele 99', 'Doris 68', 'Harold 69', 'Harold 68', 'Doris 666', 'Haring 68', 'Dong Hung', 'Aria Ohlsson', 'DorisAlvarez', 'JillReece', 'PaulaSanchez', 'ChadCaver', 'AndreaRuby', 'VeraQuintana', 'GeorgeGoin', 'DanaHuntley', 'BennieNolen', 'LindaCourtney', 'MarySchroeter', 'SusanMiller', 'JanieReaves', 'SusanCarter', 'RickSpencer', 'PennyNakamura', 'LouChamberlain', 'micem', 'lil waii', 'NorsePrez', 'Chika Toro', 'YT', 'Anne Dorko', 'Vashoun Stjon', 'Talley', 'Catswithnicefaces', 'King V', 'Streetza Ria', '$hea Butta', 'Phillydark1', 'Xciryl', 'Legend Russell', 'Trilltypefella', 'Philip Anthony', 'Rockin Chefs', 'Tim Hustle', 'Tiny Tree', 'Tom. G', 'Michael Sterling', 'Flood District', 'Saviour3.0', 'OGK John', 'JOSEPH CHASE', 'His Kings', 'ThereGoJo', 'The ocn', 'SIXN', 'D14', 'Moonlight Young', 'Mizzery', 'Jeremy Voltz', 'Keith Lawsen', 'Thomas Deil', 'Samylon92', 'Melanie Weichl', 'Splash Danero', 'Decayer', 'Inas X', 'Mahkenna', 'Eastside Jody', 'Tripple 2', 'Raja Rose', 'Dragana Kosic', 'Christos Mavridis', 'Duo Guardabarranco', 'Zoragoza', 'Top Mixer Dj', 'Perrozompopo', 'Julio Melgar', 'Tayl G', 'Viento En Contra', 'Aliento', 'Los Abejorros', 'Danny Marin', 'be vis', 'Maciej Zielinski', 'Olszakumpel', 'Julia Rocka', 'Josef Bratan', 'Kamil Bednarek', '2K', 'Ania Dabrowska', 'Piotr Ziola', 'Popkiller Młode Wilki', 'Męskie Granie Orkiestra', 'Mela Koteluk', 'Daj To Głośniej', 'Muniek Staszczyk', 'DMN', 'Mlodyskiny', 'Syberia Tdw', 'Eis', 'Lanberry', 'Szymi Szyms', 'Kacper HTA', 'Jacuś', 'Szczyl', 'Julia Wieniawa', 'TUZZA Globale', 'Donguralesko', 'Fresh N Dope', 'WIP Bros', 'QueQuality', 'Marcin Maciejczak', 'Kacper Blonsky', 'Jetlagz', 'Stanisław Soyka', 'Edyta Gorniak', 'Katarzyna Cerekwicka', 'TGD', 'Roksana Węgiel', 'Young Slash', 'Lipa', 'Kamerzysta', 'Jacek Stachursky', 'Fisz Emade Tworzywo', 'Grzegorz Hyzy', 'Magda Steczkowska', 'Mate.O', 'Roan', 'Pamela Stone', 'Agnieszka Chylinska', 'Dj.Frodo', 'Podulka', 'Xxanaxx', 'Męskie Granie Orkiestra 2017', 'SexMasterka', 'LASERY', 'G-Girls', 'Aniceto Molina', 'Los Hermanos Flores', 'Orquesta Internacional Hermanos Flores', 'Comando Tiburon', 'Cumbias Viejitas', 'La Divaza', 'Planeet', 'Andrei Zevakin', 'Bru-C', 'Jüri Pootsmann', 'Grete Paia', 'Maian', 'NOËP', 'Heleza', 'Genka', 'marp$', 'KiROT', 'Raul Ojamaa', 'Jaagup Tuisk', 'kaw', 'Siimi', '372kaspar', 'WATEVA', 'Terminaator', 'Beatrice', 'Maxtract', 'Cityflash', 'Lemon Fight', 'Arop', 'Vajé', 'Leslie Da Bass', 'Öed', 'Sip€lga 14', 'Doc Ketamer', 'okeiokei', 'DJ Koze J', 'Red Tan', 'Paul Ereck', 'Emy Blu', 'Lumevärv', 'KOIT TOOME', 'silverrari', 'fenkii', 'Merilin Mälk', 'Merlyn Uusküla', 'Jozels', 'säm', 'Eleryn Tiit', 'Mr. Happyman', 'Ines', 'Uku Suviste', 'Cdeep', 'Frankie Animal', 'Egert Milder', 'Anett', 'STEFAN', 'INGER', 'Uudo Sepp', 'PSL', 'I AM THE STORM', 'Signs', 'Göki', 'Asena', 'Kerli Kivilaan', 'Xtra Basic', 'Kadiah', 'Sissi', 'Lacy Jay', 'Johanna Eendra', 'Daniel Levi', 'Indrek Ventmann', 'Metsakutsu', 'Miljardid', 'Karl-Kristjan', 'Iiris', 'Hoax', 'Whogaux', 'Angeelia', 'AZMA', 'Cruz Santa', 'CXB', 'LindaTirado', 'SummerFoster', 'Jason William', 'LauGadoi', 'EmilyZimmer', 'Grandha', 'Juan Solo', 'Mayte Flores', 'Luis Vega', 'Diego Merritt', '$ourJ', 'Singapūras Satīns', 'ansis', 'Zigfrīds Muktupāvels', 'Grafomaans', 'Intars Busulis', 'Prusax', 'rolands če', 'Bermudu Divstūris', 'OLAS', 'GACHO', 'Mesa', 'New Wavy', 'Sudden Lights', 'Aija Andrejeva', 'VIŅA', 'Kreisais Krasts', 'Adler Kotsba', 'Livi', 'Putnu Balle', 'Ingus Ulmanis', 'Bet Bet', 'Musiqq', 'Lauris Reiniks', 'Zvaigžņu koris', 'Projekts “Tev tuvumā”', 'Eināra Verro Vokālā Grupa', 'Otra Puse', 'Tev tuvumā', 'Fomins', 'Arturs Skrastins', 'Kiol', 'MBR', 'Emil', 'Forrest Hill', 'morgxn', 'The Key Rocks', 'Kenedi', 'Post Ironic State', 'Steven Rosvell', 'Dior', 'Perkons', 'Apvedceļš', 'Menuets', 'IGO', 'Jātnieki', 'Bruģis', 'Latgalīšu Reps', 'Ferrum', 'Hospitāļu iela', 'Jumis', \"Astro'n'out\", 'Autobuss debesis', 'Dālderi', 'Metronoms', 'Reinis Sējāns', 'Ainars Mielavs', 'Mart Inc.', 'Kastrācija', 'Sharlot', 'Samanta Tina', 'Trench Mafia Locco', 'Āris un Saulceris Ziemeļi', 'Luda', 'Lil Karlix', 'Edavārdi', 'Simon Riemann', 'London Richards', 'Matt B', 'Kaio Kane', '7eit', 'Fakts', 'MADARA', 'Markus Riva', 'Symon', 'Young DrA', 'Monsieur Job', 'MaWayy', 'Gotti Mirano', 'Nick Hissom', 'Los Profetas', 'Trashock', '24Heavy', 'Jvnior', 'And Then Came Fall', 'Ladotee', 'OFMB', 'Big Sim', 'Brian Ligon', 'Tinny Mafia', 'SAINTS', 'Danny Blue and the Old Socks', 'Hypothetical', 'BowlLane Slick', 'Najuah', 'DJ Smallz 732', 'Mariño', 'Lexz Pryde', 'Rod Maine', 'Tony Chevy', 'Ashley Lovechild', 'Stix', 'The Ludvig', 'Santa Danelevica', 'Miks Dukurs', 'Toms Kalderauskis', 'L.V. Lauris Valters', 'Crime Sea', 'Miks Galvanovskis', 'Ziemassvētku zvaigžņu koris', 'Su Orquesta', 'Su Apollo Sound', 'R.K.M', 'los Fundamentalistas del Aire Acondicionado', 'Waor', 'Natos', 'SAMMY', 'LESEN', 'Ivo', 'Peeva', 'Yomel', 'Silvia Infantas', 'Suro Solar', 'Camila Recabarren', 'Dash', 'Cangri', 'Urba', 'Don Medardo', 'Sus Players', 'Jickson', 'Sheen', 'Halloran', 'Kate', 'Josimar', 'Su Yambú', 'JOSIMAR', 'SU YAMBU', 'Samy', 'Beissoul', 'Einius', 'G', 'G Sindikatas', 'El Gucci', 'Su Banda', 'Tom', 'Collins', 'El High', 'Dayme', 'Néstor Ló', 'Feer', 'Lees', 'LEILAH SAFKA', 'FREDDY FENDER', 'Rafał Borzozowski', 'Małgorzata Burdzel', 'Sound`N`Grace', 'RL9', 'La Luz Roja De San Marcos', 'Mäx', 'Clicherik', 'Küberünnak', 'Karmo', 'The Sun', 'Andris Erglis', 'I MEAN LOVE', 'chris nov', 'CLYDE', 'Cherry']\n"
     ]
    }
   ],
   "source": [
    "print([item[1][\"ArtistName\"] for item in toMatch[chartType]])"
   ]
  },
  {
   "cell_type": "code",
   "execution_count": 164,
   "metadata": {},
   "outputs": [
    {
     "name": "stdout",
     "output_type": "stream",
     "text": [
      "['04 Limited Sazabys', 'SPiCYSOL', 'hachi', 'ACE COLLECTION', '稲村オーケストラ', 'PRODUCE 101 JAPAN', 'ヒプノシスマイク -A.R.B- (Division All Stars)', 'Whiteberry', 'CHIAKI SATO', 'AYA A.K.A PANDA', 'THE ORAL CIGARETTES', '浜田雅功と槇原敬之', 'Hypnosis Mic -D.R.B.- (MAD TRIGGER CREW)', 'Kinokoteikoku', \"The Urashima's\", 'Fumiya Fujii', 'Mone Kamishiraishi', 'Takehara Pistol', 'Ovall', 'Straightener', 'DOBERMAN INFINITY', '吳林峰', 'Panther Chan', 'Cath Wong', 'Yan Ting', 'Edan 呂爵安', 'my little airport', '石山街', 'Adason Lo', 'Thomas DGX YHL', '癲佬 dlo', 'Akano', 'YNW Jordan', 'Floating in Space - Project', 'Big Loso', 'Windy Guai', 'DNA', 'PBE PLUTO', 'Jt el Utility', 'Damián V', 'Sirvan Khosravi', '井谷俊二', 'MariKuroso', 'Mukaybin Mukayze', 'King Gunna', 'Zoee8', 'Bogart Bonales', 'Dennis Fernando', 'Friday Santana', 'Harj Savage', 'bruno livesax', 'JSnake', 'Keyzs-Sean Sparsfa', 'From Under Concrete Kings', 'ED LIIT', 'FAO>dino', 'Buunkin', 'Los Necesarios', 'TG', 'Phantom Caine', 'Molina Molina', 'Thee JAE', 'Kiian', 'DeAnna Stealth', 'Luca Natale', 'Marli Space', 'Torito', 'K Beezy', 'Rachel Mason', 'Abrina', 'LIL BLU£PRINT', 'Kamar Tachio', 'Juke', 'Bradley Mantha', 'Nuski Baby', 'Idahams', 'Duane Flames', 'J.Day', 'Grupo Okixem', 'Srene', 'RealDeal Berns', '3NIGMA', 'King Thateron', 'Said P.', 'ONSC', 'Levi Belle', 'Orphée La Fine', \"Niki's Project\", 'The Greywolf', 'Vaolight', 'MM', 'Lipford', 'Anzo Weiseil', \"YB D'nero\", 'Geek-TheHot', 'Cade Eliason', 'Acezz', 'Dario Puleo', 'Musas', 'Frank Briones', 'Moniris', 'Jalayan', 'Ghost Chili', 'JC the Don', 'Mark$man', 'Dsean', 'ViibesFromNetto', 'Fantasy', 'Hanujay', 'Poko', 'Nick Nittoli', 'DON Kilam', 'Michael Hodges', 'Maxim Schunk', 'T. McCrae', 'Preston Hudman', 'MASON', 'Hamah Music', 'zelinen', 'Big K. The Komik', 'Roma Vander', 'Aquarius Jones', 'Lil Trizzyverse', 'Profound Artist', 'Preston Hudman TG', 'SV Stallone', 'Sacal', 'Taylor Cash', 'Lexz Pryde', 'Malik Vadheim', 'Denver Grey', 'Sparksi', 'Hirotoshi Furuya', 'JR', 'Mike Plain', 'Mawat', 'Big Wade', 'Richi Drag', 'John Daniels Band', 'Shannon K', 'BiskBoy', 'Kram', 'Darren Michael Boyd', 'Juandisemo', 'Blohk$r33fa', 'The Notorious Rio', 'No More Vips Allowed', 'Mote Dogg', 'Lil Lee', 'Def Rock', 'Atômico Mc', 'Yady', 'Hk6od6ratt 44', 'Icy Sabbath', 'COSMO.', \"Lai'jhon Hawkins\", '徐天佑', 'Axel Thesleff', '曾樂彤', 'Datmaniac', 'Oda Kirkwood', 'Mayar Jenisk', 'Missing Seoul', 'WAVYVIBE', 'Chan Se Park', 'Hoang Muoi', 'Quang Long', 'Mr.Siro', 'NHD media', 'Khoi My', 'Hong Nhung', 'Chi Dan', 'Wanbi Tuan Anh', 'Phuong Dung', 'Fay', 'JSOL', 'DatKaa', 'T.R.I', 'Khói', 'Xuân Nghi', 'Phạm Toàn Thắng', 'JINU', 'Thinh Suy', 'Thanh Hung', 'S.T Sơn Thạch', 'Ai Phuong', 'DEAN', 'Linh Cáo', 'JayKii', 'Phạm Anh Duy', 'itsnk', 'Hoà Minzy', 'Hoang Minh Tuan', 'VA', 'Huu Khuong', 'Nhu Quynh', 'Luu Anh Loan', '菲道尔', 'GJ', '卓義峯', '曾博恩', 'Fang Wu', '唐禹哲', '劉以豪', 'TAEMIN', 'Trouze', '颜人中', 'Hua Chen Yu', 'ABAO', '莫宰羊', 'Sharon Kwan', 'Cindy Yen', 'PiA', 'Ruth Kueo', 'KUN', '采子', 'Zooey Wonder', '?te', '鄭興', '鍾明軒', '李佳歡', 'Enno Cheng', 'Barry Chen', '王貳浪', '老莫 ILL MO', 'SEJEONG', '謝博安', 'Trash', '王俊凱', 'Chyi Chin', 'Zhang Zhen Yue', '康樹龍', 'Evan Yo', '路嘉欣', 'AJ Mitchell', '陳雪燃', 'Ella Chen', 'TroutFresh', 'Queen Wei', '邵雨薇', 'Da Zhuang', '黃奕儒Ezu', '187INC', 'Fran', 'Meeia Foo', '安溥 anpu', '呂薔Amuyi', 'Highlight', '陶晶瑩', 'Christine Fan', 'Dongye Song', 'HUSH', '柯智棠', '陳珮茹', 'C.T.O', '楊培安', '肖懿航', 'Anni Hung', 'Crispy脆樂團', 'Sam Lee', 'MXM', '謝金燕', '林生祥', '馬雲', 'Yuzi Qin', 'YOONA', 'Suming', '陳惠婷', 'Deserts Chang', 'Soo Wincci', '小S', 'IT’S', 'Bolly', '老鬼團', 'Xian Zi', 'Twinko', '鄭興琦', 'Rain Lee', '簡弘亦', 'Tien Fu Chen', '嚴藝丹', '殷悅', 'SEOHYUN', 'Danupol Kaewkarn', 'THE RUBE', 'พีธ พีระ', 'DarkFace', 'ลำเพลิน วงศกร', 'VKL', 'Boy Sompob', \"Yes'sir Days\", 'ตุลานันท์ นรเศรษฐ์พิศาล', 'อ๊อฟ ชัยนนท์', 'ONEONE', 'Gx2', 'Valentina Ploy', 'Jay Phitiwat', 'ALREADY DEADD', 'ปรีชา ปัดภัย', 'Sweet Mullet', 'Crayon', 'Daily Vitamin', 'Napat Injaiuea', 'เด็กเลี้ยงควาย', 'TOSSAKAN', 'Jus2', 'MuchMellow', 'Gyeon', 'GT', 'Catherine', 'Kindler Shah', 'gugudan', 'เทิดศักดิ์ จันทร์ปาน', 'Aeh Syndrome', 'SummerWish', 'Memory Fabricators', 'น้อย พรู', 'T-BIGGEST', 'Yang Da Il', 'นนน กรภัทร์', 'Ruj Suparuj', 'Chaleeda', 'ไอซ์ ปรีชญา', 'The 38 Years Ago', 'PETITE', 'Tanatat Chaiyaat', 'Sukrit Wisetkaew', 'Alfred Sim', 'Robert Philip', '劉瑞琦', 'ATEEZ', '魏奇奇', 'Ashland Are', 'Mega Guar', 'Festi Baal', 'ABANGSAPAU', 'Benjamin Kheng', '曲肖冰', 'TheSmartLocal', 'Ayo97', 'Yung Raja', 'RRILEY', 'BIGDBANGLA', 'Fariz Jabba', 'MYRNE', 'brb.', 'Ffion', 'Rave Republic', 'Katherine Ho', 'Sezairi', 'Venessa Fernandez', 'Haneri', '小潘潘', 'Luqman Podolski', 'Neeta', 'CHA NI (SF9)', 'Astro 全体艺人', 'Harith Zazman', 'Najwa Latif', 'Irfan Haris', 'Tajul', \"As'ad Motawh\", 'Atmosfera', 'Putera Band', 'Sufi Rashid', 'Zizan Razak', 'Hez Hazmi', 'Dadilia Band', 'Aizat Amdan', 'NYK', 'Hyper Act', 'XPOSE', 'Achey', 'Yazid Izaham', 'Ayda Jebat', 'Aman Aziz', 'Ben Ladin', 'Amylea', 'Wani', 'Benzooloo', 'TreeHill', 'Sheryl Shazwanie', 'Isma Sane', 'Safiey Illias', 'Fieya Julia', 'Azarra Band', 'Eza Edmond', 'Adira Suhaimi', 'ALYPH', 'Talitha.', 'DOLLA', 'Ippo Hafiz', 'Shila Amzah', 'Datuk Sharifah Aini', 'Puan Sri Saloma', \"Dato' Sudirman\", 'Datuk Ahmad Jais', 'Noorkumalasari', 'Junainah', 'Tan Sri P. Ramlee', 'Aman Shah', 'Nyanyian Ramai', 'Azlina Aziz', 'Fazidah Joned', 'Sanisah Huri', 'Cenderawasih', 'Rosemaria', 'Aishah', 'Ning Baizura', 'GARD WUZGUT', 'The New Boyz', 'De Fam', 'Harry', 'Drama Band', 'STARLYTE', 'Dinda Permata', 'Kmy Kmo', 'Han Byul', 'Midnight Fusic', 'Kuizz', 'lost spaces', 'DAPHNE D調', 'Warner Music Malaysia All Star', 'Alextbh', 'Spuds', 'Julia Duclos', '邱诗凌', 'Fazura', 'Masdo', 'Santesh', 'Cherpen Band', 'Fara Hezel', 'Shaa', 'Fattah Amin', 'Khairil Johari Johar', 'Gamma1', 'Ezad Lazim', 'Harris Baba', 'Laudya Cynthia Bella', 'Black', 'Sakura Band', 'yui FLOWER FLOWER', 'ミゾベリョウ odol', 't', 'H Jungle', 'STEADY', 'CO.', 'The GoGo Tuner Family', 'Mike Mostert', 'Creme', 'Caf', 'E', 'SUPER JUNIOR-D', 'Ellina', 'The Majistret', 'Megat']\n"
     ]
    }
   ],
   "source": [
    "print([item[1][\"ArtistName\"] for item in toMatch[chartType]])"
   ]
  },
  {
   "cell_type": "code",
   "execution_count": 179,
   "metadata": {},
   "outputs": [
    {
     "name": "stdout",
     "output_type": "stream",
     "text": [
      "['DJ Stokie', 'Bok Van Blerk', 'Dj Obza', 'Blaqnick', 'Emtee', 'DJ Jaivane', 'Vhudie', 'Mthunzi', 'Loufi', 'ANATII', 'K.O', 'David Scott', 'ILuvJupiter', 'Busiswa', 'GeeSixFive', 'Costa Titch', \"Soweto's Finest\", 'Yanga Chief', 'Shane Eagle', 'Nija', 'Stillaround', 'Salatiel', 'Gemini Major', 'Midnight Meetings', 'ABS-CBN Music All Star', 'Jana Garcia', 'Brian Pepito', 'Geo Ong', 'Reese Lansangan', 'Amber Leigh Irish', 'Andrea Babierra', 'Kiana V', 'Hatemost', 'ItsOnlySkillz', 'TiÃ«sto', 'Ofili', 'Popayedi', 'Vercetti', 'Natassa Bofiliou', 'Ripen', 'Ethismos', 'Alcatrash', 'Konnie Metaxa', 'Young Tulio$', '12os Pithikos', 'Rio', 'Athliens', 'Kanon', 'Arva', 'Pournaras', 'Eaze', 'Natasha Kay', 'Smuggler', 'Joker Two-Face', 'ZENA', 'Eisvoleas', 'Efta', 'Panos Mouzourakis', 'Josh Jips', 'Leoni Jut', 'Rube Claws', 'Kindler Shah', 'Trifecta', 'JJ Hannon', 'Vangelis Kakouriotis', 'LYSA', 'Hovig', 'Dihaj', 'Madstreet', 'Khifnu', 'CHA NI (SF9)', 'Dhika Fawaz', 'YUJU', 'Keisya Levronka', 'Cannabis Club ATL', 'Karina Christy', 'Adrian Khalif', 'Maria Simorangkir', 'Aldo Longa', 'Ustad Jefri Al Buchori', 'Cassandra', 'Syakir Daulay', 'Acha Septriasa', 'Soundwave', 'Arnon', 'Ari Lasso dan Bunga Citra Lestari', 'Cuco', 'Crayon', 'YoWis Ben', 'Ghea Indrawari', 'Sandrina', 'Ramengvrl', 'Armand Maulana', 'Gisel', 'Dash Uciha', 'Aliando Syarief', 'Adam Mitchell', 'Kemal Palevi', 'Salshabilla', 'Inkonnu', 'Snor', 'Tagne', 'L7or', 'ElGrandeToto', 'Abdeelgha4', 'Smallx', 'Foufa Torino', 'Anys', 'Lsan L7or', 'kouz1', 'Tawsen', 'Cravata', 'ISSAM', 'Dada', 'Mok Saib', 'Djalil Palermo', 'Draganov', 'Mocci', 'Lbenj', 'Didine Canon 16', 'LFERDA', 'Hatim Ammor', 'Tiiwtiiw', 'Mehdi Mozayine', 'Madd', '7-Toun', 'Didou Parisien', 'OUENZA', 'Fat Mizzo', 'Dollypran', '21 Tach', 'Furelise', \"L'morphine\", 'Salma Rachid', 'Adil Assil', 'Moro', 'Mrabet', 'BrownY Original', 'Cheb Wahid', 'Loun', 'La Releve Maghreb', 'Lembawe9', 'Dioscures', 'SecondT3', 'Ayoub Africano', 'Anas', '7liwa', 'Cheb', 'Naar', 'DYSTINCT', 'Zakaria Ghafouli', 'Cheb Bello', 'Cheba Souad', 'Sanfara', 'Nouamane Belaiachi', 'Ihab Amir', 'Shayfeen', 'Qaayel', 'Cyborg', 'DJ Adel', 'MiniByte', 'Bouchra', 'Cheb Houssem', 'Ily', 'Jaylann', 'Aminux', 'Fnaire', 'Hind Ziadi', 'Aezaddy', 'Flenn', 'Shobee', 'A.L.A', 'Faycel Sghir', 'Cheb Akil', 'Liamsi', 'Drizzy', 'Ayoub Hamdaoui', 'Profit Za3im', 'Raste', 'Khtek', 'Yanso', 'Hablo', 'Mohamed Adly', 'Asmae', 'Skaymen', 'Tflow', 'Ali Ssamid', 'JenJoon', 'Barry', 'Zaynab', 'Nizoo', 'Cheb Djalil', 'Flipperachi', 'Master Sina', 'Cheb Bachir', 'Klay BBJ', 'Si Lemhaf', 'Artmasta', 'Cheba Warda', 'Manel Hadli', 'Hamouda', 'Dounia', 'H-Kayne', 'Faycal Mignon', 'Mido Belahbib', 'Psychoqueen', 'Youssef Aoutoul', 'Narco Polo', '7-toun', 'Bilal Sghir', 'Mo Temsamani', 'Anas Guzman', 'Imad Benaomar', 'Bad Flow', 'Ibtissam Tiskat', 'Adel Sweezy', 'Mr. Crazy', 'The S', 'Luigui Bleand', 'Chemsou Freeklane', 'Nizar Idil', 'Barachi', 'Spleux', 'Bilal Africano', 'Limit 29', 'Safae Hbirkou', 'Fayçal Mignon', 'Tortoz', 'Echbiy', 'Ghazir', 'Redone Berhil', 'D14', 'micem', 'lil waii', 'Kobb', 'Mathu', 'Hichem Smati', 'Savage Plug', 'Cheb Abbes', \"Moov'art\", 'Halloran', 'Kate']\n"
     ]
    }
   ],
   "source": [
    "print([item[1][\"ArtistName\"] for item in toMatch[chartType]])"
   ]
  },
  {
   "cell_type": "code",
   "execution_count": 195,
   "metadata": {},
   "outputs": [
    {
     "name": "stdout",
     "output_type": "stream",
     "text": [
      "['Biu do Piseiro', 'Nêgo Jhá', 'OIK', 'Camila Loures', 'DJ Pernambuco', 'Anne', 'Rafael Allmark', 'Maycon e Vinicius', 'Thiago Carvalho', 'Fernanda Salgado', 'Thascya', 'Gabriel Elias', 'Furacao Love', 'Seakret', 'Junior Lord', 'Yuri NR5', 'Greg Ferreira', 'Fumaxa', 'MOBBERS', 'Gama WNTD', 'Yung SpaceGhost', 'WUANT', 'xtinto', 'SYRO', 'Instinto 26', 'Kappa Jotta', 'WiNDOH', 'Aragão', 'Mizzy Miles', 'Gson', 'Timor YSF', 'Achero', \"Dino d'Santiago\", 'Lhast', 'LON3R JOHNY', 'Irina Barros', 'Minguito 283', 'Dream Boyz', 'Betsy David', 'Waze', 'Valas', 'Domi', 'Mastiksoul', 'João Sousa', 'Miguel Alves', 'Apollo G', 'ÁTOA', 'sora9k', 'Joint One', 'Vado Más Ki Ás', 'Chris Tamayo', 'ARTIGAZZ', 'Jvst Fly', 'GROGNation', 'Mota JR', 'YUZI', 'prettieboy johnson', 'Huzz', 'Ray Polanco', 'Sea', 'Kazzio', 'Ella Nor', 'ANDREZO', 'Mundo Segundo', 'Zara G', 'April Ivy', 'Wuant', 'Carlão', 'HMB', 'Yasmine', 'Ray', 'Maria Cecília', 'Xutos', 'Pontapés']\n"
     ]
    }
   ],
   "source": [
    "print([item[1][\"ArtistName\"] for item in toMatch[chartType]])"
   ]
  },
  {
   "cell_type": "code",
   "execution_count": null,
   "metadata": {},
   "outputs": [],
   "source": [
    "print([item[1][\"ArtistName\"] for item in toMatch[chartType]])"
   ]
  },
  {
   "cell_type": "code",
   "execution_count": 196,
   "metadata": {},
   "outputs": [
    {
     "name": "stdout",
     "output_type": "stream",
     "text": [
      "set1  =  21\n",
      "set2  =  35\n",
      "set3  =  71\n",
      "set4  =  299\n",
      "set5  =  276\n",
      "set6  =  207\n",
      "set7  =  133\n",
      "set10 =  966\n",
      "set11 =  456\n",
      "set12 =  242\n",
      "setP  =  2577\n",
      "set13 =  74\n",
      "set13 & setP =  0\n",
      "set13 - setP =  74\n",
      "['Chris Tamayo', 'Pontapés', 'Furacao Love', 'Mota JR', 'Ella Nor', \"Dino d'Santiago\", 'Jvst Fly', 'Rafael Allmark', 'Timor YSF', 'Mastiksoul', 'Sea', 'Zara G', 'Domi', 'HMB', 'Apollo G', 'Valas', 'Vado Más Ki Ás', 'Fernanda Salgado', 'xtinto', 'Gson', 'sora9k', 'Wuant', 'MOBBERS', 'WiNDOH', 'Miguel Alves', 'Maria Cecília', 'Seakret', 'Camila Loures', 'Yasmine', 'GROGNation', 'OIK', 'Maycon e Vinicius', 'SYRO', 'Instinto 26', 'Biu do Piseiro', 'Minguito 283', 'Ray Polanco', 'Dream Boyz', 'Mizzy Miles', 'Thascya', 'Junior Lord', 'Aragão', 'LON3R JOHNY', 'Kazzio', 'Ray', 'Huzz', 'Kappa Jotta', 'Achero', 'Yuri NR5', 'Gabriel Elias', 'João Sousa', 'Waze', 'April Ivy', 'Thiago Carvalho', 'Greg Ferreira', 'Yung SpaceGhost', 'Nêgo Jhá', 'Betsy David', 'ÁTOA', 'YUZI', 'Carlão', 'Joint One', 'DJ Pernambuco', 'WUANT', 'Fumaxa', 'Mundo Segundo', 'Irina Barros', 'Gama WNTD', 'Lhast', 'Anne', 'ANDREZO', 'Xutos', 'ARTIGAZZ', 'prettieboy johnson']\n"
     ]
    }
   ],
   "source": [
    "set1  = set(['Joshua Bassett', 'DJ Scheme', 'Pedro CapÃ³', '16yrold', 'Sueco', 'BRELAND', 'Alicia Moffet', 'Skye', 'Josh Jips', 'Leoni Jut', 'Rube Claws', 'VIC MENSA', 'NEW CITY', 'Madalen Duke', 'Cassow', 'DiRTY RADiO', 'Bob Pressner', 'Christian Hudson', 'Vanic', 'Elijah Woods', 'Jamie Fine'])\n",
    "set2  = set(['Mimi Webb', 'Frisco', 'Morrisson', 'MizOrMac', 'Miniminter', 'Fekky', 'Kenny Allstar', 'Rv', 'TiÃ«sto', 'Josh Jips', 'Leoni Jut', 'Rube Claws', 'OSH', 'Koomz', 'Amelia Monét', 'Tranell', 'Alex Ross', 'Ralph Felix', 'David Campbell', 'Vidwaan Boon', 'Lea Heart', 'Ché-Fu', 'Lee Mvtthews', 'SACHI', 'Elektriches Weihnachtfest', 'Trill Ryan', 'TEEKS', 'Maimoa', 'J1', 'The Blue Jeans', 'Bob B. Soxx', 'Collectors', 'Henny', 'Zinny', 'AP'])\n",
    "set3  = set(['DJ JEEZY', 'Maya Berovic', 'Neptunica', 'Poptracker', 'Zappi', 'LZ27', 'Milan Stankovic', 'Standart Skill', 'Butrint Imeri', 'Tanja Savic', 'Monja Mari Achi', 'Die Hollerstauden', 'Claudius Vlasak', 'DJ Selecta', 'Klaus Peter', 'Ellis Adventure', 'Mortal Frame', 'DJ Greg V', 'Mister Claude', 'Little Strong', 'River Tyne', '4 Giants', 'Martina Kaiser', 'Patrick Knight', 'A Stritzi', 'Shlump', 'BENGELS', 'Stefanie Kloß', 'ARTY', 'Nullzweizwei', 'Koushino', '65Goonz', 'Pietro Basile', 'Sadri', '2ara', 'Provinz', 'Laas Unltd.', 'Z', 'HAMZO 500', 'Gewitter im Kopf', 'Erabi', 'Koosen', 'O.G.', 'Ramon Roselly', 'Senna Gammour', 'Maaf', 'Riccardo', 'ToTheMoon', 'Teddy Teclebrhan', 'Sipo', 'Joker Bratan', 'Bato', 'Dafina Zeqiri', 'Oflow', 'Dj Iljano', 'OFFTR3ND', 'F4ilure', 'Jasin Blanco', 'Pronto', 'Rocio Alvarez', 'Swiluu', 'Mimiks', 'LCone', 'Zwei Am Morge', 'Cricket', 'LIBA', 'Manillio', 'SHINSKY', 'Pappa Razzi', 'Carnie', 'Lily'])\n",
    "set4  = set(['Enula', 'Raffaele Renda', 'Aka 7even', 'Marïna', 'WØODY', 'Niko Pandetta', 'Cancun', 'Milano Ovest', 'Axos', 'Marta Daddato', 'Tosca', 'MARCO SENTIERI', 'Paolo Jannacci', 'Gabriella Martinelli', 'NOËP', 'Chakra', 'Greta Menchi', 'Rosalba', 'Sherol Dos Santos', 'Renza Castelli', 'Zano', 'Giovanni Caccamo', 'Lorenzo Baglioni', 'Ron', 'Mirkoeilcane', 'Renzo Rubino', 'Lorenzo Licitra', 'Andrea Radice', 'ROS', 'Raige', 'Maldestro', 'Francesco Guasti', 'Lesram', 'Bilton', 'joysad', 'Dioscures', 'Kanoé', 'GS', 'ISK', 'Osen', 'T Garcia', 'twinsmatic', 'DENZO', 'Kodes', 'Zikxo', 'Badjer', '404Billy', 'Kopp Johnson', 'Sirius', 'Seezy', 'Jahyanai King', 'Jaded', 'Nassi', 'DJ JEEZY', 'Wahlstedt', 'Don Criminals', 'Novi', '5HOW', 'Wikw', 'Goonew', 'Edo Ferragamo', 'Lost Identities', 'GioBulla', 'Roxx Remora', 'Otira', 'R3LL', 'Brooze', 'DASIC', 'DJ LeanGun', 'Toni der Assi', 'Maale Gars', 'Nevlo', 'Nosi', 'Chasey Negro', 'The FifthGuys', 'KOLIDESCOPES', 'Hanzy', 'thisisNAMASTE', 'Jared Moreno', 'Krozz', 'Boris Ayson', 'Alley', 'BROMYGO', 'Kroshwell', 'Nacho Fano', 'Kyd Knarly', 'EQRIC', '4Korners', 'Helen', 'KLOUD', 'Jason Thurell', 'Heuse', 'Lokyto', 'Clambake', 'Josh Stanley', 'Gazz', 'Brevin Kim', 'Dan Lemaire', 'Makasi', 'Mila Jam', 'Jeff Kush', 'EGalas', 'Uniekgrace', 'Basics', 'Camryn', 'Jay 305', 'NAZAAR', 'Benjin', 'VLS', 'Tom Berx', 'KNYD', 'Mark Melgo', 'EDGR', 'Neighbors', 'Jeyday', 'Flairo', 'FVR AVAY', 'Nicky Vaent', 'Vinni Wonka', 'Michael Wayne', 'Ricky Gazetta', 'Busta K', 'Prince Paris', 'Poorchoice', 'Blanke', 'Cytrax', 'Slue', 'Rex Stax', 'Brianna Mazzola', 'Meresha', 'GLDN', 'Simock', 'Ruben Pol', 'Those 2 Guys', 'Seorsia', 'Lennard Ellis', 'AXEC', 'SHANNI.', 'Sophia Treadway', 'Aysha Monet', 'Mystic Natives', 'Schuz', 'CRZY', 'Kalipzo', 'Dee Gomes', 'Lifetime Member', 'Tritan', 'teamwork.', 'The Unfits', 'The Him', 'Deadrose', 'JJ Hannon', 'Hones-T', 'Kyle Edwards;DJ Smallz 732', 'Kyle Edwards;Chris Bevrly', 'Miquela', 'Ian Erix', 'Chris Tyson', 'Dylan Diamond', 'Cal Scruby', 'Bandana', 'Lérica', 'Hard GZ', 'Aiman JR', 'Marc Seguí', 'Emanuel A', 'Yulien Oviedo', 'REYKO', 'FlowZeta', 'Joan Garrido', 'Damion Frost', 'Dave Zulueta', 'María Escarmiento', 'Pol Granch', 'Chica Sobresalto', 'Yung Sarria', 'Sebastián Cortés', 'TheGrefg', 'Paula Cendejas', 'Anaju', 'Eva B', 'Ankhal', 'Resistiré 2020', 'Samantha', 'Duo Dinamico', 'ARON', 'Javy Ramírez', 'Love Yi', 'Eklectico', 'Locoplaya', 'LUNA KI', 'Dylan Fuentes', 'Soge Culebra', 'Elilluminari', 'Sergio Ramos', 'Selecta', 'Kaze', 'Jirafa Rey', 'Paula Gonu', 'Yuawi', 'La Vida Moderna', 'Angeles', 'Tutto Duran', 'ICE', 'Dior', 'Goldkimono', 'Jeffrey Heesen', 'David Neres', 'Jjakoveertien', 'Rotjoch United', 'Wolfgang', 'Makkie', 'Joey Bravo', 'Jerra', 'Mario Cash', 'ValsBezig', 'Oualid', 'Team Rush Hour', 'DYSTINCT', 'Bigidagoe', 'KNALLER', 'Jordymone9', 'Pierrii', 'Matthy', 'Selma Omari', 'Frozen Fire', 'Akwasi', 'DJ Nazil', 'Pjotr', 'Trobi', 'Kevcody', 'Jayboogz', 'S10', 'The voice of Holland', 'Blow', 'Ares', 'Dv', 'Dylisa', 'Joel Beukers', 'Dana', 'DJ Wale', 'Souff', 'Floor Jansen', 'Paul Sinha', 'Lirical', 'Artistic Raw', 'LU BACH', 'Skiezo', 'Rene Karst', 'Jiri11', 'Nijo', 'MRD', 'Zoë-Jadha', 'Quatro Vision', 'Daniël Busser', 'F.I.', 'SuriBeats', 'Fabiola', 'Dave Roelvink', 'Iliass', 'Memphis Depay', 'Qucee', 'Shock Elias', 'Quessswho', 'RUGGED', 'Vonneke Bonneke', 'Scooby072', 'CJaye', '808milli', 'Bridde Boys', 'Lucass', 'Nesim Najih', 'Gebroeders Rossig', 'Anbu', 'Kid de Blits', 'Mael', 'Gamemeneer', 'Anu-D', 'BangBros', 'Milan Knol', 'Langesjaak', 'Darryl', 'Tavi Castro', 'Johnny Sellah', 'Minitrapper', 'Rabby Racks', 'RONDÉ', 'PLEUN', 'Angelo King', 'J1', 'Dean', 'Kellini', 'Fito', 'Waor', 'Natos', 'Prok', 'El High', 'Dayme', 'Diaz'])\n",
    "set5  = set(['Whyrun', 'Villi Neto', 'Gummi Tóta', 'Unnsteinn', 'Miquela', 'Ian Erix', 'Chris Tyson', 'Greifarnir', 'Magni', 'Vilhjálmur Vilhjálmss', 'Hreimur', 'Venjulegir Gaurar', 'Sigga Beinteins', 'Edda Heiðrún Backman', 'Eythor Ingi', 'VICTORIA', 'Ferðumst innanhúss', 'Ouse', 'R3SYNTH', 'fuse.', 'Scraby', 'Sharp Man', 'Br0med', 'krassasig', 'Háski', 'Andri Már', 'Shakespeare verður ástfanginn', 'Reynir', 'EVR3stNess', 'Kolassoid', 'Akeckee', 'ZENA', 'zalagasper', 'Eliot', 'Michael Rice', 'S!sters', 'Tulia', 'Srbuk', 'Jurijus', 'Sarah McTernan', 'Flosi V', 'Screamerboys', 'Egill Stolz', 'Helgi B', 'Stefán Karl Stefánsson', 'Bergur Leó', 'Caulfield', 'ZÖE', 'Youngcuzzoo', 'Óðinn Valdimarsson', \"J'adora\", 'Ieva Zasimauskaitė', 'Lea Sirk', 'DoReDoS', 'SuRie', 'Flosi', '$igmund', 'Snow Dept.', 'Ragga Holm', 'iDubbbz', 'Dihaj', 'Hovig', 'IMRI', 'Jana Burčeska', 'Slavko Kalezić', 'Rúnar Eff', 'Þórdís Birna Borgarsdóttir', 'Erna Mist Pétursdóttir', 'Rakel Pálsdóttir', 'Sara Farell', 'TheoFuego', 'Frans Harju', 'Helena Routa', 'The View', 'Hussa', 'Oskr', 'DJ Massimo', 'Kuohu', 'Henriguez', 'Lxandra', 'Knipi', 'Sara Chafak', 'Raaka-Aine', 'NICHOLAS X', 'KIKI 76', 'Xtojo', 'Mauton', 'VV', 'Tomi Amor', 'Antony Parviainen', 'Toni Kakko', 'Leyton Lake', 'Frances', 'Pajafella', 'ODE', 'Mikaveli', 'Romu', 'SANÉ', 'Tre Kronor', 'Samppa Linna', 'ILLSIGHT', 'JORI SJÖROOS', 'Paul Elias', 'Malka', 'Kauriinmetsästäjät', 'Julia Rautio', 'Nelli Milan', 'Vahtera', 'Blue Street Players', 'Ronja Mariela', 'Planet SAHH', 'Kerava', 'Kid1', 'Deata', 'SHE', 'City Street Jazz Band', 'Møtions', 'MIROxNIKI', 'Epelit', 'Pasa', 'KOI', 'Rácz Gergõ', 'VALMAR', 'Kasza Tibi', 'IstenEst', 'Nks', 'Bereczki Zoltán', 'HRflow', 'Mario Judah', 'Tiah', 'Apu', 'Carson Coma', 'Strongi', 'LMEN PRALA', 'Pamkutya', 'Vanek Andor', 'Misshmusic', 'USNK', 'Senkise', 'Horváth Tamás', 'Pixa', 'Filius Dei', 'Samuel Kim', 'JustVidman', 'Red Bull Pilvaker', 'Dé:Nash', 'Konyha', 'Hundred Sins', 'King Monroe', 'AKC Misi', 'ibbigang', 'New Level Empire', 'Berkes Olivér', 'Szakács Gergő', 'Zséda', 'TNT', 'Sipos Tamás', 'Radics Gigi', 'Soulwave', 'Zävodi', 'HoneyBeast', 'LYSA', 'Opitz Barbara', 'Kollányi Zsuzsi', 'Margaret Island', '30Y', 'Trifecta', 'Kindler Shah', 'Stolen Beat', 'Molnár István', 'Egs', 'Pøla', 'Elefánt', 'Kispál és a Borz', 'Ismerős Arcok', 'Szabó Balázs Bandája', 'Magneoton Sztarok', 'Dana', 'FIZIstyle', 'Grey256', 'Skwor', 'Wesome', 'Milion Plus', 'Refew', 'HILLS 97', 'P T K', 'Adam Ďurica', 'Fobia Kid', 'Dan Barta', 'Skardu', 'ONEMANSHOW Foundation', 'Adam Mišík', 'Reginald', 'Za100let', 'Amco', 'Redzed', 'MikeJePan', 'Johny Machette', 'Janek Ledecky', 'XINDL X', 'Nightwork', 'DJ Rusty', 'Berenika Kohoutová', 'SKiNNY BARBER', 'Maniak', 'Cypis', 'Hard Rico', 'Michal Hruza', 'ATMO Music', 'Porsche Boy', 'SpecialBeatz', 'DJ Kadr', 'Dětský sbor Camerata', 'LIL GRIPPIE', 'Hugo Toxxx', 'DeeThane', 'Martin Matys', 'Naflexx', 'Forgen', 'Vadak', 'FattyPillow', 'TVTwixx', 'Dětský sbor', 'Josh Jips', 'Leoni Jut', 'Tomas Klus', 'Jakub Děkan', 'JJ Hannon', 'Sofian Medjmedj', 'JCKPT', 'Annet X', '5NAPBACK', 'STIKSTOF', 'Sara Gold', 'Sylver', 'Double Pleasure', 'Kenn Colt', 'Liefde Voor Muziek voor Rode Neuzen Dag', 'Jjakoveertien', 'The Starlings', 'DJ Nazil', 'Sean Dhondt', 'Karen Damen', 'Peter Vanlaet', 'Yung Mavu', 'Seedy', 'J Pablo', 'Twin n Twice', 'Trobi', 'Mastachi', 'Sordal', 'Amanda Wittman', '404Billy', 'bvd kult', 'Silvy', 'DJ Licious', 'Curtis Alto', 'Tavi Castro', 'Nassi', 'Natalia', 'Tim Arisu', 'D5R', 'J1', 'Tilhet', 'pajut ja muut', 'Spacc', 'the Serpent', 'spacc', 'Freddie Shuman', 'Halloran', 'Kate', 'Lil G.', 'Jickson', 'Sheen', 'PJAY CZ', 'SK'])\n",
    "set6  = set(['Carl Knast', 'DIBSET', 'SunCity', 'Boris Laursen', 'Jamie Kamara', 'Børnemusik Dyrene', 'Awave', 'N3LLY', 'HAM fra Syd', 'Merro8', 'IBO', 'Berd', 'LayLay', 'Jesu Bankerz', 'Kristian Kjærlund', 'Alexander Husum', 'AMRO', 'Leprom', 'Karizman', 'Elvira Pitzner', 'VM Holdet', 'KING', 'Vkation', 'Tramper Torben', 'Place On Earth', 'Delahoia', 'Sandra Hussein', 'Soleima', 'Tore', 'Tiril', 'Henrik Blomme', 'Katie Keller', 'Salazar', 'Dj Guldsmed', 'Jytte', 'Lakserytteren', 'CHILI', 'MGP Allstarz 2017', 'Guldpige', 'JB', 'Euroo', 'Marti', 'Malaka', 'buller', 'Oskar Häggström', 'A36', 'Seedy', 'HON', 'SG Lewis', 'Style', 'Erik Lundin', 'Matte Caliste', '2.clock', 'Abidaz', 'Biggie Juke', 'Suzi P', '2M', '10an', 'Linda Olsson', 'Bailey Jehl', 'Four of Diamonds', 'Janice', 'The Mayries', 'Jelassi', 'Wild-Boy', 'Michael Rice', 'zalagasper', 'Herbert Munkhammar', 'Jonathan Johansson', 'Mila Crowell', 'Lionman', 'Leyton Lake', 'Amy Soonyoung', 'Tony Lieberman', 'Hallman', 'Max George', 'Ieva Zasimauskaitė', 'May Raya', 'Thomas Sekelius', 'Total Ape', 'Hovig', 'IMRI', 'Henrik Berggren', 'Les Gordons', 'Galavant', 'Blåsemafian', 'Jorn', 'Halva Priset', 'Ole Hartz', 'EMMY', 'Kristin Husøy', 'Magnus Bokn', 'S1sco', 'HAYES', 'Philip Emilio', 'Oskar Westerlin', 'Daskeladden', 'Kevin Boine', 'Torine', 'Roc Boyz', 'Yasmine San Miguel', 'Martin Heier', 'GoToGuy', 'GABIFUEGO', 'NALO', 'Drikkeleken', 'Simon Kleiveland', 'DMNDS', 'Matilda', 'B-Boy Myhre', 'Ida Celine', 'Kutoppen', 'Jonathan Floyd', 'Petter Northug Jr', 'Konen på torget', 'Bendik Brænne', 'Ulrike Hansen Døvigsen', 'Penthox', 'Bearson', 'Vilde og Anna', 'Dunisco', 'Future Duper', 'ARY', 'Adrees', 'Clairmont', 'Alex Ross', 'Serlina', 'Tunge Ferrari', 'Piateed', 'Olav Haust', 'Chris Haugan', 'Huemist', 'Ezzari', 'Louam', 'Alberto Ciccarini', 'ZadeKing', 'INDIIA', 'Jonas Benyoub', 'Swedum', 'Chad Cooper', 'Temmpo', 'Travelle', 'CASPR', 'Turab', 'Pojkarna', 'Marte Bratberg', 'Sara Farell', 'dePresno', 'DJ Anton', 'August Dahl', 'Atle', 'Maria Celin Strisland', 'EMIR', 'Maybon', 'Ella Lockert', 'Prebz Og Dennis', 'Stein Berge', 'Bendik', 'Lxandra', 'Tayla Parx', 'Yomi', 'Bad Geckos', 'Frank Løke', 'Hanne Mjøen', 'JRL', 'Marthe Wang', 'X Daniel', 'Øystein Hegvik', 'Meso', 'Henrix Borg', 'Kung Vladimir', 'DJ NorgeJodel', 'Mina Lund', 'Sirkel Sag', 'Juur', 'Triana Iglesias', 'INAP', 'ZL-Project', 'Mad.S', 'Ola Nordmann', 'Bernt Hulsker', 'Yung Potato', 'Thea Gudmundsen', 'Petter Pilgaard', 'Snow Boyz', 'Georgia Box', 'Britz', 'Kapteinen', 'NorthKid', 'Olympis', 'J1', 'the Dodos', 'Bea', 'Victoria', 'Dimitri Vangelis', 'Wyman', 'Halloran', 'Kate', 'Edgar', 'Meland', 'Skei', 'PT', 'Mannen', 'Zino', 'Eddy', 'Norway', 'Paradise Hotel'])\n",
    "set7  = set(['Kamal Khaira', 'Madhu Priya', 'Roll Rida', 'Raghav Chaitanya', 'Simran Kaur Dhadli', 'Khushank Dalal', 'Nimrat Khaira', 'Sickflip', 'Kulbir Jhinjer', 'Nirvair Pannu', 'Bhuvan Bam', 'Korala Maan', 'Tanzeel Khan', 'Sam C.S.', 'The Landers', 'Sanjith Hegde', 'Arun Dev Yadav', 'Sarath Santosh', 'Amruta Fadnavis', 'Happy Raikoti', 'Mickey J. Meyer', 'Rupinn', 'Nitin Mukesh', 'Tamir Bar', 'Orr Amrami Brockman', 'Tay G', 'Jimbo J', 'Teddy Neguse', \"100 First Songs' Participants\", 'Francis Duran', 'Glen Dean', 'Føx & the Hound', 'Sergio', 'Pako Ramirez', 'Young Wavee', 'דקל וקנין', 'Berg', 'Roy Kafri', 'ZENA', 'Asaf Goren', 'Ishay Levi', 'Avior Malasa', 'Yossi Shitrit', 'Gher', 'Michael Swissa', 'אבי פאנל', 'Katrix and Doron Beaton', 'Liron Amram', 'Omri 69 Segal', 'Buttering', 'Afroto', 'Ahmed Santa', 'Mido Gad', 'Angham', 'Barry', 'Ali Adora', 'Abo Lila', 'Emad Kamal', 'Karim Mohsen', 'Rain Sleepings Sounds', 'Limit 29', 'Rain Sound Studios', 'Alex Ran', 'Barachi', 'Idahams', 'Rc $pitta', 'Majid Almohandis', 'Overlord Bnjmnz', 'T-Krazie', 'Lady Sparkle', 'Dufflebag Cal', '7098', 'Ebx Music', 'ARNOLD', 'Luigui Bleand', 'Josh Milli', 'A-RealBeats', 'Dmvc Blvck', 'Shiah Maisel', 'TYTE', 'Terri Cann', 'damnboy!', 'Luca Testa', 'Assassin', 'FEYI', 'Jorge Pensi', 'Julius', 'Yedinci Ev', 'Lvbel C5', 'Karya Çandar', 'Cem Pilevneli', 'Kodes', 'Ahiyan', 'Maho G', 'Grup M. Şanlıel', 'Irem', 'Halil İbrahim Göker', 'Gökşin Derin', '90 BPM', 'Anıl Durmuş', 'Mansa Obi', 'Timuçin Esen', 'DJ LYAN', 'Medusa', 'İntizar', 'Özlem Akgüneş', 'Sibel Alaş', 'Güler Özince', 'Betül Demir', 'Atiye', 'Pentagram', 'Nigar Muharrem', 'Deniz Gürzumar', 'Asala Maleh', 'Killval', 'Mohamed AlSalim', 'Ahmed El Maslawy', 'Aburob', 'Akihiro Manabe', 'Rap AR Anime', 'Blvxb', 'Mohmood Al Ghaiath', 'Joseph Attieh', 'Humood AlKhudher', 'Real Recognize Rio', 'Lil Eazy', 'Archez', 'WESTSIDE BOOGIE', 'Lindiwe Mkhize', 'Jafar Al Ghazal', 'Haifa Wehbe', 'Konata Small', 'the Serpent'])\n",
    "set10 = set(['Sergi', 'La Mosca Tse-Tse', 'Marcos Menchaca', 'Gera MX', 'Heroes Del Silencio', 'Yuawi', 'Где Фантом?', 'Kara Kross', 'SEEMEE', 'PALC', 'ElyOtto', 'Dzharakhov', 'LIDA', 'G4OUR', 'CAPTOWN', 'Smoky Mo', 'Pacosp', 'IsaacMusic', 'Gunwest', 'Ямаджи', 'Armando Hernandez', 'Ryan Roy', 'Leebrian', 'DJ Goozo', 'LosPetitFellas', 'Dejota2021', 'Luisa Fernanda W', 'Koffee el Kafetero', 'Kenai', 'Sanluis', 'Martin Elías', 'Leo Mattioli', 'Tambó Tambó', 'Felix Gabriel', 'DJ Yayo', 'La Nueva Luna', 'Wanakin', 'Joleane', 'Joe Hasin', 'Miz Lina', 'Nadia Dan', 'Aida gean', 'Karl Michelson', 'Miles Kenn', 'Kennis Inn', 'Nickl Mons', 'Adam Dank', 'Justin Tomber', 'Edik', 'Dean Loo', 'Vitya AK', 'payton', 'Mitchel', 'Фикс', 'Gocata Kangal', 'VessoU', 'Togasang', 'Havenbled', 'Jamaicataxi7', \"Leron Rankin'\", 'Gcollectah', 'Crystal Byrd', 'Donika', 'Riko Band', 'LZ27', 'KNUX', 'MacShawn100', 'Nikki Luchese', 'FlameShadow', 'SayReal', 'NEEL', 'Leol', 'CashnOut Esco', 'StzCorp', 'VICTORIA', 'Ran Nishihara', 'Jamiryo', 'Josh Jips', 'Leoni Jut', 'Kindler Shah', 'Venata', 'Iskrata', 'Luca Testa', 'JJ Hannon', 'TIFFANY BYNOE', 'Hones-T', '13 Crowns', 'Exiled', 'iDubbbz', 'Kyle Edwards;Chris Bevrly', 'Kyle Edwards;DJ Smallz 732', 'Angerwolf', 'Miquela', 'Cassow', 'Ian Erix', 'Chris Tyson', 'Kid3rd', 'Dylan Diamond', 'Cal Scruby', 'Plamen', 'Ricegum', 'JRY', 'Fran Rozzano', 'Dowba Montana', 'Yiyo Zarante', 'Deiby Lceja', \"Leyenda Barrial Boy'z\", 'Jay Menez', 'Alex R.', 'El Chuape', 'Sergio Echenique', 'J Quiles', 'Lr Ley Del Rap', 'La Manta', 'Jonzmen', 'Hey Santana', 'Nico Clinico', 'Danay Suárez', 'El Batallon', \"D'Markuz\", 'Chystemc', 'La Sonora De Tommy Rey', 'Grupo Alegria', 'Agrupación Marilyn', 'Ak 4:20', 'Flor De Rap', 'joel music', 'Músicxs De Chile', 'Ankhal', 'Bayronfire', 'Conjunto Alerce', 'Daniel Munoz', 'Hector Pavez', 'Los de Ramon', 'Jorge Yanez', 'Julianno Sosa', 'Eyci and Cody', 'La Combo Tortuga', 'Mym', 'Leka el Poeta', 'Jona Camacho', 'Roberto Parra', 'Los Hidalgos', 'Hermanos Morales', 'Yulien Oviedo', 'Fiesta Huasa', 'Ballet Folklórico Alma Chilena', 'Power Peralta', 'Ronald El Killa', 'Marvell Boi', 'Romeo El Santo', 'Marvel B', 'Portavoz', 'Tracy McGrady', 'Paithon', 'Atomic Rose', 'Kazzabe', 'Steven Pineda', 'J Calix', 'Nassir Chahin', 'Nio Nassar', 'JWolfy', 'Juan Oliva', 'Angel Gutiérrez', 'Rodolfo Bueso', 'Jesus Aguilar', 'Macario Mejia', 'Los Bohemios', \"What's Up\", 'andrei', 'Sapte', 'Mario Fresh', 'Alberto Grasu', 'Iobagg', 'Oscar', 'Roxen', 'VUNK', 'Mario Judah', 'RAVA', 'Florian Rus', 'Super Ed', 'Lino Golden', '5GANG', 'Yakki', 'Dorian Popa', 'SICKOTOY', 'ADDA', 'Stefan Hrusca', 'Deliric', 'Jay Watts', 'Lola Brooke', 'Drew Allen', 'Corey Mekell', 'Mark Stam', 'Aerozen', 'boi the creator', 'Inyeewetrust', 'Son Orioz', 'Mr. Glasses', 'Subcarpaţi', 'Speak', 'Calinacho', 'NMW', 'El Nino', 'Ali Dolla$', 'TRISHES', 'Olivia Sabates', 'Doddy', 'Gloria Prince', 'P.M.', \"Beau'Joli\", 'Lovel', 'BAZOOKA', 'Chris Bones', 'DOC', 'Real Imaj', 'Knack', 'NxtSkool', 'Omar Courtz', 'Pitizion', 'Bebo Yau', 'Tres Dedos', 'Arevalo', 'Durako', 'Bombotunes', 'La Máquina Camaleón', 'Dennis Fernando', 'Navigator', 'Eshconinco', 'DeStorm', 'Dj Coss', 'Dancehall Word', 'Blaiz Fayah', 'DJ Kendo', 'GIMARIO', 'Alex Badilla', 'Pranz', 'Fátima Pinto', 'MAYKEL', 'SpecialBeatz', 'Porsche Boy', 'Frayer Flexking', 'Momo', 'Grey256', 'Fobia Kid', 'AstralKid22', 'Martin Agh', 'Duch', 'Pavol Habera', 'Lubomír Lipský', 'Dominika Mirgova', 'Janek Ledecky', 'Marie Rottrova', 'Robo Opatovsky', 'Luca Brassi10x', 'Cypis', 'ONEMANSHOW Foundation', 'Čis T', 'Adam Ďurica', 'LUISA', 'Radikal Chef', 'Šorty', 'KHANS', 'Milion Plus', 'Kruel', 'Redzed', 'Tina', 'Loko Loko', 'Falusko', 'Miko Floso', 'Taomi', 'Alan Murin', 'Nicholas Naison', 'Samuel Kim', 'Rida Radar', 'Mairee', 'Marián Kochanský', 'Simon Smith', 'Peter Simon', 'Naflexx', 'TKX', 'Slimso', 'Annet X', 'Ultrazvuk', 'For You Acapella', 'P.A.T.', 'DJ Rusty', 'Supa', 'Trifecta', 'Lukas Adamec', 'LYSA', 'Peter Pann', 'Deyvis Orosco', 'Cielo Torres', 'Maricarmen Marin', 'Armonia 10', 'Claveles de la Cumbia', 'Faraón Love Shady', 'Combinacion De La Habana', 'Temple Sour', 'Orquesta Caña Brava', 'Orquesta Bembé', 'Nicole Favre', 'Anna Carina', 'Susan Ochoa', 'Reggaeton bachata Hit', 'Dani Darcourt', 'VICE MENTA', 'Hnos Yaipen', 'DJ Krlos Berrospi', 'Orquesta Caribeños de Guadalupe', 'Marco Romero', 'DJ Luigi', \"Pelo D'Ambrosio\", 'Cruz', 'Mario Hart', 'Av. Larco', 'Orquesta Zaperoko del Callao', 'Korina Rivadeneira', 'BCA', 'Dubosky', 'El Codigo Kirkao', 'Robinho', 'Towers Mix', 'Señor Loop', 'Bobo', \"At' Fat\", 'Yemil', 'Kabliz', 'El Kid', 'Sofía Valdés', 'Chamaco', 'El Zeta', 'MOI MUSIC', 'Mista Bombo', 'Fulo El Yeyo', 'T.O.T', 'Robi Guid', 'El Boza', 'BARBEL', 'Jhon el Diver', 'Amindi', 'Los Topsys', 'Original Fat', 'Azhika', 'Rawayana', 'Real Phantom', 'Saulės Kliošas', '7th Block', 'Šventinis bankuchenas', 'Jessica Shy', 'Furytto', 'Keanu Blunt', 'Angelou', '2Kvėpavimas', 'Velvet', 'GJan', '335d', 'Flying Saucer Gang', 'Zoliukas', 'Solo Ansamblis', 'ilyTOMMY', 'Gebrasy', 'wavytunesz', 'Gabrielius Vagelis', 'Daddy Was a Milkman', 'Evgenya Redko', 'Eyedress', 'Beatrich', \"Radistai Dj's\", 'Monique', 'QV Trap', 'Shouse', 'Jovani', 'GAZIROVKA', 'Ieva Zasimauskaitė', '8 Kambarys', 'Alekna', 'Saulius Prūsaitis', 'Flash Voyage', 'SADBOI', 'Free Finga', 'Vidas Bareikis', 'Vaidas Baumila', 'Mark Les', 'senjasa', 'AREZRA', 'Kamaniu Silelis', 'jautì', 'Swertas', 'OSVISS', 'Abudu', 'NKSN', 'Kriminell', 'Gabrielė Vilkickytė', 'Monika LIU', 'MITCH RECORDS', 'Tinlicker', 'Monika Linkyte', 'On1Beat', 'Junior A', 'ba.', 'Мэвл', 'Audioiko', 'Rūta Loop', 'Monika Marija', 'MEANDI', '3-ий Январь', 'Radvilas RA', 'MR.Nuclear', 'Golden Parazyth', 'Iglė', 'zalagasper', 'Jurijus', 'Karolina Meschino', 'Carousel', 'ZENA', 'Eliot', 'S!sters', 'Srbuk', 'Michael Rice', 'Sarah McTernan', 'Ester Peony', 'Tulia', 'Garbanotas', 'Dog Collective', 'Lea Sirk', 'SuRie', 'Ieva ZasimauskaitÄ—', 'Laura Rizzotto', 'Eugent Bushpepa', 'DoReDoS', 'Hiperbole', 'Baltasis Kiras', 'Dihaj', 'IMRI', 'Hovig', 'Triana Park', 'Jana Burčeska', 'Timebelle', 'Artsvik', 'Kasia Moś', 'NAVIBAND', 'Tijana Bogicevic', 'Slavko Kalezić', 'Norma John', 'The View', 'Tim Legend', 'Garotihnio', 'Mariano Bermudez', 'Cuatro Pesos de Propina', 'Sonido Caracol', 'Karibe con K', 'Once Tiros', 'Chacho Ramos', 'Los Pikantes', 'Los Negroni', 'Buitres', 'Jotape', 'La Sandonga', 'Valeria Gau', 'Marcos da costa', 'Gian', 'Zeballos', 'Américo Young', 'Zanto', 'Blonda', 'CB Records Music', 'Arrancandonga', 'Miway', 'Edu Lombardo', 'Canario Luna', 'Mart', 'Sonido Cristal', 'Lafame', 'Sonido De La Costa', 'Urband', 'The Panas', 'Dessia el Otro', 'Halconizados de Amor', 'Corta La Bocha', 'Estrategas', 'DeGira', 'Tu Papa', 'Enero', 'RC BAND', 'Mala Tuya', 'La Mano Rancia', 'Los Verduleros', 'Cumbia Juan', 'Chili Fernandez', 'Japiaguar', 'Talento de Barrio', 'Noa - Noa', 'Escucha!', 'Samuray', 'Tropical Caribe De Los Hnos Loera', 'Los inquietos del vallenato', 'Pipa Para Tabaco', 'Tropical Caribe', 'La De Roberto', 'LaNuestra', 'Lenuel', 'Bryant Mayers', 'Joshua Dietrich', 'MC LEO', 'Lucas Cliff', 'Tierra Adentro', 'Afaz Natural', 'BB Nobre', 'Reggaetones', 'Villagrán Bolaños', 'Em Rossi', 'Drew Cole', 'Dj Maya', 'Manifiesto Urbano', 'Carin', 'StephenFlint24', 'ScottHall41', 'JulieHarder67', 'CarolAnderson88', 'MariaBrewer62', 'CecilDowns84', 'IsisWampler68', 'Temry', 'CynthiaGorecki58', 'S I', 'Sean Matsukawa', 'Midnight Office', 'D.K. Smith', 'Destripando la Historia', 'Akil Hamilton', 'Michele 69', 'Alan 1', 'Alan 2', 'Tuan Alto Sax', 'Doris Schmeler', 'Dorothea Berger', 'Adonis 88', 'TINA LTT', 'Adonis 66', 'Lucy Beahan', 'Veronica Effertz', 'Joseph Murray', 'SarahStiltner', 'Eula Glover', 'HenryNorrell', 'JamesPonder', 'TerryFerrell', 'Slender2003', 'The Face 1234', 'Indifferent2527', 'Lucky2135', 'Coldly1989', 'Vuvanhy1985', 'Wistful2010', 'Happy9282', 'Silence2001', 'Fragile1988', 'Comfortable5343', 'TonyJones', 'Magnolia1982', 'Sunset2002', 'Marty McKay', 'CaryLamb', 'RonTurner', 'JeffreyLewis', 'Weldon S. Kesterson', 'EdithFernandez', 'DianeKennedy', 'Michele 99', 'Doris 68', 'Harold 69', 'Harold 68', 'Doris 666', 'Haring 68', 'Dong Hung', 'Aria Ohlsson', 'DorisAlvarez', 'JillReece', 'PaulaSanchez', 'ChadCaver', 'AndreaRuby', 'VeraQuintana', 'GeorgeGoin', 'DanaHuntley', 'BennieNolen', 'LindaCourtney', 'MarySchroeter', 'SusanMiller', 'JanieReaves', 'SusanCarter', 'RickSpencer', 'PennyNakamura', 'LouChamberlain', 'micem', 'lil waii', 'NorsePrez', 'Chika Toro', 'YT', 'Anne Dorko', 'Vashoun Stjon', 'Talley', 'Catswithnicefaces', 'King V', 'Streetza Ria', '$hea Butta', 'Phillydark1', 'Xciryl', 'Legend Russell', 'Trilltypefella', 'Philip Anthony', 'Rockin Chefs', 'Tim Hustle', 'Tiny Tree', 'Tom. G', 'Michael Sterling', 'Flood District', 'Saviour3.0', 'OGK John', 'JOSEPH CHASE', 'His Kings', 'ThereGoJo', 'The ocn', 'SIXN', 'D14', 'Moonlight Young', 'Mizzery', 'Jeremy Voltz', 'Keith Lawsen', 'Thomas Deil', 'Samylon92', 'Melanie Weichl', 'Splash Danero', 'Decayer', 'Inas X', 'Mahkenna', 'Eastside Jody', 'Tripple 2', 'Raja Rose', 'Dragana Kosic', 'Christos Mavridis', 'Duo Guardabarranco', 'Zoragoza', 'Top Mixer Dj', 'Perrozompopo', 'Julio Melgar', 'Tayl G', 'Viento En Contra', 'Aliento', 'Los Abejorros', 'Danny Marin', 'be vis', 'Maciej Zielinski', 'Olszakumpel', 'Julia Rocka', 'Josef Bratan', 'Kamil Bednarek', '2K', 'Ania Dabrowska', 'Piotr Ziola', 'Popkiller Młode Wilki', 'Męskie Granie Orkiestra', 'Mela Koteluk', 'Daj To Głośniej', 'Muniek Staszczyk', 'DMN', 'Mlodyskiny', 'Syberia Tdw', 'Eis', 'Lanberry', 'Szymi Szyms', 'Kacper HTA', 'Jacuś', 'Szczyl', 'Julia Wieniawa', 'TUZZA Globale', 'Donguralesko', 'Fresh N Dope', 'WIP Bros', 'QueQuality', 'Marcin Maciejczak', 'Kacper Blonsky', 'Jetlagz', 'Stanisław Soyka', 'Edyta Gorniak', 'Katarzyna Cerekwicka', 'TGD', 'Roksana Węgiel', 'Young Slash', 'Lipa', 'Kamerzysta', 'Jacek Stachursky', 'Fisz Emade Tworzywo', 'Grzegorz Hyzy', 'Magda Steczkowska', 'Mate.O', 'Roan', 'Pamela Stone', 'Agnieszka Chylinska', 'Dj.Frodo', 'Podulka', 'Xxanaxx', 'Męskie Granie Orkiestra 2017', 'SexMasterka', 'LASERY', 'G-Girls', 'Aniceto Molina', 'Los Hermanos Flores', 'Orquesta Internacional Hermanos Flores', 'Comando Tiburon', 'Cumbias Viejitas', 'La Divaza', 'Planeet', 'Andrei Zevakin', 'Bru-C', 'Jüri Pootsmann', 'Grete Paia', 'Maian', 'NOËP', 'Heleza', 'Genka', 'marp$', 'KiROT', 'Raul Ojamaa', 'Jaagup Tuisk', 'kaw', 'Siimi', '372kaspar', 'WATEVA', 'Terminaator', 'Beatrice', 'Maxtract', 'Cityflash', 'Lemon Fight', 'Arop', 'Vajé', 'Leslie Da Bass', 'Öed', 'Sip€lga 14', 'Doc Ketamer', 'okeiokei', 'DJ Koze J', 'Red Tan', 'Paul Ereck', 'Emy Blu', 'Lumevärv', 'KOIT TOOME', 'silverrari', 'fenkii', 'Merilin Mälk', 'Merlyn Uusküla', 'Jozels', 'säm', 'Eleryn Tiit', 'Mr. Happyman', 'Ines', 'Uku Suviste', 'Cdeep', 'Frankie Animal', 'Egert Milder', 'Anett', 'STEFAN', 'INGER', 'Uudo Sepp', 'PSL', 'I AM THE STORM', 'Signs', 'Göki', 'Asena', 'Kerli Kivilaan', 'Xtra Basic', 'Kadiah', 'Sissi', 'Lacy Jay', 'Johanna Eendra', 'Daniel Levi', 'Indrek Ventmann', 'Metsakutsu', 'Miljardid', 'Karl-Kristjan', 'Iiris', 'Hoax', 'Whogaux', 'Angeelia', 'AZMA', 'Cruz Santa', 'CXB', 'LindaTirado', 'SummerFoster', 'Jason William', 'LauGadoi', 'EmilyZimmer', 'Grandha', 'Juan Solo', 'Mayte Flores', 'Luis Vega', 'Diego Merritt', '$ourJ', 'Singapūras Satīns', 'ansis', 'Zigfrīds Muktupāvels', 'Grafomaans', 'Intars Busulis', 'Prusax', 'rolands če', 'Bermudu Divstūris', 'OLAS', 'GACHO', 'Mesa', 'New Wavy', 'Sudden Lights', 'Aija Andrejeva', 'VIŅA', 'Kreisais Krasts', 'Adler Kotsba', 'Livi', 'Putnu Balle', 'Ingus Ulmanis', 'Bet Bet', 'Musiqq', 'Lauris Reiniks', 'Zvaigžņu koris', 'Projekts “Tev tuvumā”', 'Eināra Verro Vokālā Grupa', 'Otra Puse', 'Tev tuvumā', 'Fomins', 'Arturs Skrastins', 'Kiol', 'MBR', 'Emil', 'Forrest Hill', 'morgxn', 'The Key Rocks', 'Kenedi', 'Post Ironic State', 'Steven Rosvell', 'Dior', 'Perkons', 'Apvedceļš', 'Menuets', 'IGO', 'Jātnieki', 'Bruģis', 'Latgalīšu Reps', 'Ferrum', 'Hospitāļu iela', 'Jumis', \"Astro'n'out\", 'Autobuss debesis', 'Dālderi', 'Metronoms', 'Reinis Sējāns', 'Ainars Mielavs', 'Mart Inc.', 'Kastrācija', 'Sharlot', 'Samanta Tina', 'Trench Mafia Locco', 'Āris un Saulceris Ziemeļi', 'Luda', 'Lil Karlix', 'Edavārdi', 'Simon Riemann', 'London Richards', 'Matt B', 'Kaio Kane', '7eit', 'Fakts', 'MADARA', 'Markus Riva', 'Symon', 'Young DrA', 'Monsieur Job', 'MaWayy', 'Gotti Mirano', 'Nick Hissom', 'Los Profetas', 'Trashock', '24Heavy', 'Jvnior', 'And Then Came Fall', 'Ladotee', 'OFMB', 'Big Sim', 'Brian Ligon', 'Tinny Mafia', 'SAINTS', 'Danny Blue and the Old Socks', 'Hypothetical', 'BowlLane Slick', 'Najuah', 'DJ Smallz 732', 'Mariño', 'Lexz Pryde', 'Rod Maine', 'Tony Chevy', 'Ashley Lovechild', 'Stix', 'The Ludvig', 'Santa Danelevica', 'Miks Dukurs', 'Toms Kalderauskis', 'L.V. Lauris Valters', 'Crime Sea', 'Miks Galvanovskis', 'Ziemassvētku zvaigžņu koris', 'Su Orquesta', 'Su Apollo Sound', 'R.K.M', 'los Fundamentalistas del Aire Acondicionado', 'Waor', 'Natos', 'SAMMY', 'LESEN', 'Ivo', 'Peeva', 'Yomel', 'Silvia Infantas', 'Suro Solar', 'Camila Recabarren', 'Dash', 'Cangri', 'Urba', 'Don Medardo', 'Sus Players', 'Jickson', 'Sheen', 'Halloran', 'Kate', 'Josimar', 'Su Yambú', 'JOSIMAR', 'SU YAMBU', 'Samy', 'Beissoul', 'Einius', 'G', 'G Sindikatas', 'El Gucci', 'Su Banda', 'Tom', 'Collins', 'El High', 'Dayme', 'Néstor Ló', 'Feer', 'Lees', 'LEILAH SAFKA', 'FREDDY FENDER', 'Rafał Borzozowski', 'Małgorzata Burdzel', 'Sound`N`Grace', 'RL9', 'La Luz Roja De San Marcos', 'Mäx', 'Clicherik', 'Küberünnak', 'Karmo', 'The Sun', 'Andris Erglis', 'I MEAN LOVE', 'chris nov', 'CLYDE', 'Cherry'])\n",
    "set11 = set(['04 Limited Sazabys', 'SPiCYSOL', 'hachi', 'ACE COLLECTION', '稲村オーケストラ', 'PRODUCE 101 JAPAN', 'ヒプノシスマイク -A.R.B- (Division All Stars)', 'Whiteberry', 'CHIAKI SATO', 'AYA A.K.A PANDA', 'THE ORAL CIGARETTES', '浜田雅功と槇原敬之', 'Hypnosis Mic -D.R.B.- (MAD TRIGGER CREW)', 'Kinokoteikoku', \"The Urashima's\", 'Fumiya Fujii', 'Mone Kamishiraishi', 'Takehara Pistol', 'Ovall', 'Straightener', 'DOBERMAN INFINITY', '吳林峰', 'Panther Chan', 'Cath Wong', 'Yan Ting', 'Edan 呂爵安', 'my little airport', '石山街', 'Adason Lo', 'Thomas DGX YHL', '癲佬 dlo', 'Akano', 'YNW Jordan', 'Floating in Space - Project', 'Big Loso', 'Windy Guai', 'DNA', 'PBE PLUTO', 'Jt el Utility', 'Damián V', 'Sirvan Khosravi', '井谷俊二', 'MariKuroso', 'Mukaybin Mukayze', 'King Gunna', 'Zoee8', 'Bogart Bonales', 'Dennis Fernando', 'Friday Santana', 'Harj Savage', 'bruno livesax', 'JSnake', 'Keyzs-Sean Sparsfa', 'From Under Concrete Kings', 'ED LIIT', 'FAO>dino', 'Buunkin', 'Los Necesarios', 'TG', 'Phantom Caine', 'Molina Molina', 'Thee JAE', 'Kiian', 'DeAnna Stealth', 'Luca Natale', 'Marli Space', 'Torito', 'K Beezy', 'Rachel Mason', 'Abrina', 'LIL BLU£PRINT', 'Kamar Tachio', 'Juke', 'Bradley Mantha', 'Nuski Baby', 'Idahams', 'Duane Flames', 'J.Day', 'Grupo Okixem', 'Srene', 'RealDeal Berns', '3NIGMA', 'King Thateron', 'Said P.', 'ONSC', 'Levi Belle', 'Orphée La Fine', \"Niki's Project\", 'The Greywolf', 'Vaolight', 'MM', 'Lipford', 'Anzo Weiseil', \"YB D'nero\", 'Geek-TheHot', 'Cade Eliason', 'Acezz', 'Dario Puleo', 'Musas', 'Frank Briones', 'Moniris', 'Jalayan', 'Ghost Chili', 'JC the Don', 'Mark$man', 'Dsean', 'ViibesFromNetto', 'Fantasy', 'Hanujay', 'Poko', 'Nick Nittoli', 'DON Kilam', 'Michael Hodges', 'Maxim Schunk', 'T. McCrae', 'Preston Hudman', 'MASON', 'Hamah Music', 'zelinen', 'Big K. The Komik', 'Roma Vander', 'Aquarius Jones', 'Lil Trizzyverse', 'Profound Artist', 'Preston Hudman TG', 'SV Stallone', 'Sacal', 'Taylor Cash', 'Lexz Pryde', 'Malik Vadheim', 'Denver Grey', 'Sparksi', 'Hirotoshi Furuya', 'JR', 'Mike Plain', 'Mawat', 'Big Wade', 'Richi Drag', 'John Daniels Band', 'Shannon K', 'BiskBoy', 'Kram', 'Darren Michael Boyd', 'Juandisemo', 'Blohk$r33fa', 'The Notorious Rio', 'No More Vips Allowed', 'Mote Dogg', 'Lil Lee', 'Def Rock', 'Atômico Mc', 'Yady', 'Hk6od6ratt 44', 'Icy Sabbath', 'COSMO.', \"Lai'jhon Hawkins\", '徐天佑', 'Axel Thesleff', '曾樂彤', 'Datmaniac', 'Oda Kirkwood', 'Mayar Jenisk', 'Missing Seoul', 'WAVYVIBE', 'Chan Se Park', 'Hoang Muoi', 'Quang Long', 'Mr.Siro', 'NHD media', 'Khoi My', 'Hong Nhung', 'Chi Dan', 'Wanbi Tuan Anh', 'Phuong Dung', 'Fay', 'JSOL', 'DatKaa', 'T.R.I', 'Khói', 'Xuân Nghi', 'Phạm Toàn Thắng', 'JINU', 'Thinh Suy', 'Thanh Hung', 'S.T Sơn Thạch', 'Ai Phuong', 'DEAN', 'Linh Cáo', 'JayKii', 'Phạm Anh Duy', 'itsnk', 'Hoà Minzy', 'Hoang Minh Tuan', 'VA', 'Huu Khuong', 'Nhu Quynh', 'Luu Anh Loan', '菲道尔', 'GJ', '卓義峯', '曾博恩', 'Fang Wu', '唐禹哲', '劉以豪', 'TAEMIN', 'Trouze', '颜人中', 'Hua Chen Yu', 'ABAO', '莫宰羊', 'Sharon Kwan', 'Cindy Yen', 'PiA', 'Ruth Kueo', 'KUN', '采子', 'Zooey Wonder', '?te', '鄭興', '鍾明軒', '李佳歡', 'Enno Cheng', 'Barry Chen', '王貳浪', '老莫 ILL MO', 'SEJEONG', '謝博安', 'Trash', '王俊凱', 'Chyi Chin', 'Zhang Zhen Yue', '康樹龍', 'Evan Yo', '路嘉欣', 'AJ Mitchell', '陳雪燃', 'Ella Chen', 'TroutFresh', 'Queen Wei', '邵雨薇', 'Da Zhuang', '黃奕儒Ezu', '187INC', 'Fran', 'Meeia Foo', '安溥 anpu', '呂薔Amuyi', 'Highlight', '陶晶瑩', 'Christine Fan', 'Dongye Song', 'HUSH', '柯智棠', '陳珮茹', 'C.T.O', '楊培安', '肖懿航', 'Anni Hung', 'Crispy脆樂團', 'Sam Lee', 'MXM', '謝金燕', '林生祥', '馬雲', 'Yuzi Qin', 'YOONA', 'Suming', '陳惠婷', 'Deserts Chang', 'Soo Wincci', '小S', 'IT’S', 'Bolly', '老鬼團', 'Xian Zi', 'Twinko', '鄭興琦', 'Rain Lee', '簡弘亦', 'Tien Fu Chen', '嚴藝丹', '殷悅', 'SEOHYUN', 'Danupol Kaewkarn', 'THE RUBE', 'พีธ พีระ', 'DarkFace', 'ลำเพลิน วงศกร', 'VKL', 'Boy Sompob', \"Yes'sir Days\", 'ตุลานันท์ นรเศรษฐ์พิศาล', 'อ๊อฟ ชัยนนท์', 'ONEONE', 'Gx2', 'Valentina Ploy', 'Jay Phitiwat', 'ALREADY DEADD', 'ปรีชา ปัดภัย', 'Sweet Mullet', 'Crayon', 'Daily Vitamin', 'Napat Injaiuea', 'เด็กเลี้ยงควาย', 'TOSSAKAN', 'Jus2', 'MuchMellow', 'Gyeon', 'GT', 'Catherine', 'Kindler Shah', 'gugudan', 'เทิดศักดิ์ จันทร์ปาน', 'Aeh Syndrome', 'SummerWish', 'Memory Fabricators', 'น้อย พรู', 'T-BIGGEST', 'Yang Da Il', 'นนน กรภัทร์', 'Ruj Suparuj', 'Chaleeda', 'ไอซ์ ปรีชญา', 'The 38 Years Ago', 'PETITE', 'Tanatat Chaiyaat', 'Sukrit Wisetkaew', 'Alfred Sim', 'Robert Philip', '劉瑞琦', 'ATEEZ', '魏奇奇', 'Ashland Are', 'Mega Guar', 'Festi Baal', 'ABANGSAPAU', 'Benjamin Kheng', '曲肖冰', 'TheSmartLocal', 'Ayo97', 'Yung Raja', 'RRILEY', 'BIGDBANGLA', 'Fariz Jabba', 'MYRNE', 'brb.', 'Ffion', 'Rave Republic', 'Katherine Ho', 'Sezairi', 'Venessa Fernandez', 'Haneri', '小潘潘', 'Luqman Podolski', 'Neeta', 'CHA NI (SF9)', 'Astro 全体艺人', 'Harith Zazman', 'Najwa Latif', 'Irfan Haris', 'Tajul', \"As'ad Motawh\", 'Atmosfera', 'Putera Band', 'Sufi Rashid', 'Zizan Razak', 'Hez Hazmi', 'Dadilia Band', 'Aizat Amdan', 'NYK', 'Hyper Act', 'XPOSE', 'Achey', 'Yazid Izaham', 'Ayda Jebat', 'Aman Aziz', 'Ben Ladin', 'Amylea', 'Wani', 'Benzooloo', 'TreeHill', 'Sheryl Shazwanie', 'Isma Sane', 'Safiey Illias', 'Fieya Julia', 'Azarra Band', 'Eza Edmond', 'Adira Suhaimi', 'ALYPH', 'Talitha.', 'DOLLA', 'Ippo Hafiz', 'Shila Amzah', 'Datuk Sharifah Aini', 'Puan Sri Saloma', \"Dato' Sudirman\", 'Datuk Ahmad Jais', 'Noorkumalasari', 'Junainah', 'Tan Sri P. Ramlee', 'Aman Shah', 'Nyanyian Ramai', 'Azlina Aziz', 'Fazidah Joned', 'Sanisah Huri', 'Cenderawasih', 'Rosemaria', 'Aishah', 'Ning Baizura', 'GARD WUZGUT', 'The New Boyz', 'De Fam', 'Harry', 'Drama Band', 'STARLYTE', 'Dinda Permata', 'Kmy Kmo', 'Han Byul', 'Midnight Fusic', 'Kuizz', 'lost spaces', 'DAPHNE D調', 'Warner Music Malaysia All Star', 'Alextbh', 'Spuds', 'Julia Duclos', '邱诗凌', 'Fazura', 'Masdo', 'Santesh', 'Cherpen Band', 'Fara Hezel', 'Shaa', 'Fattah Amin', 'Khairil Johari Johar', 'Gamma1', 'Ezad Lazim', 'Harris Baba', 'Laudya Cynthia Bella', 'Black', 'Sakura Band', 'yui FLOWER FLOWER', 'ミゾベリョウ odol', 't', 'H Jungle', 'STEADY', 'CO.', 'The GoGo Tuner Family', 'Mike Mostert', 'Creme', 'Caf', 'E', 'SUPER JUNIOR-D', 'Ellina', 'The Majistret', 'Megat'])\n",
    "set12 = set(['DJ Stokie', 'Bok Van Blerk', 'Dj Obza', 'Blaqnick', 'Emtee', 'DJ Jaivane', 'Vhudie', 'Mthunzi', 'Loufi', 'ANATII', 'K.O', 'David Scott', 'ILuvJupiter', 'Busiswa', 'GeeSixFive', 'Costa Titch', \"Soweto's Finest\", 'Yanga Chief', 'Shane Eagle', 'Nija', 'Stillaround', 'Salatiel', 'Gemini Major', 'Midnight Meetings', 'ABS-CBN Music All Star', 'Jana Garcia', 'Brian Pepito', 'Geo Ong', 'Reese Lansangan', 'Amber Leigh Irish', 'Andrea Babierra', 'Kiana V', 'Hatemost', 'ItsOnlySkillz', 'TiÃ«sto', 'Ofili', 'Popayedi', 'Vercetti', 'Natassa Bofiliou', 'Ripen', 'Ethismos', 'Alcatrash', 'Konnie Metaxa', 'Young Tulio$', '12os Pithikos', 'Rio', 'Athliens', 'Kanon', 'Arva', 'Pournaras', 'Eaze', 'Natasha Kay', 'Smuggler', 'Joker Two-Face', 'ZENA', 'Eisvoleas', 'Efta', 'Panos Mouzourakis', 'Josh Jips', 'Leoni Jut', 'Rube Claws', 'Kindler Shah', 'Trifecta', 'JJ Hannon', 'Vangelis Kakouriotis', 'LYSA', 'Hovig', 'Dihaj', 'Madstreet', 'Khifnu', 'CHA NI (SF9)', 'Dhika Fawaz', 'YUJU', 'Keisya Levronka', 'Cannabis Club ATL', 'Karina Christy', 'Adrian Khalif', 'Maria Simorangkir', 'Aldo Longa', 'Ustad Jefri Al Buchori', 'Cassandra', 'Syakir Daulay', 'Acha Septriasa', 'Soundwave', 'Arnon', 'Ari Lasso dan Bunga Citra Lestari', 'Cuco', 'Crayon', 'YoWis Ben', 'Ghea Indrawari', 'Sandrina', 'Ramengvrl', 'Armand Maulana', 'Gisel', 'Dash Uciha', 'Aliando Syarief', 'Adam Mitchell', 'Kemal Palevi', 'Salshabilla', 'Inkonnu', 'Snor', 'Tagne', 'L7or', 'ElGrandeToto', 'Abdeelgha4', 'Smallx', 'Foufa Torino', 'Anys', 'Lsan L7or', 'kouz1', 'Tawsen', 'Cravata', 'ISSAM', 'Dada', 'Mok Saib', 'Djalil Palermo', 'Draganov', 'Mocci', 'Lbenj', 'Didine Canon 16', 'LFERDA', 'Hatim Ammor', 'Tiiwtiiw', 'Mehdi Mozayine', 'Madd', '7-Toun', 'Didou Parisien', 'OUENZA', 'Fat Mizzo', 'Dollypran', '21 Tach', 'Furelise', \"L'morphine\", 'Salma Rachid', 'Adil Assil', 'Moro', 'Mrabet', 'BrownY Original', 'Cheb Wahid', 'Loun', 'La Releve Maghreb', 'Lembawe9', 'Dioscures', 'SecondT3', 'Ayoub Africano', 'Anas', '7liwa', 'Cheb', 'Naar', 'DYSTINCT', 'Zakaria Ghafouli', 'Cheb Bello', 'Cheba Souad', 'Sanfara', 'Nouamane Belaiachi', 'Ihab Amir', 'Shayfeen', 'Qaayel', 'Cyborg', 'DJ Adel', 'MiniByte', 'Bouchra', 'Cheb Houssem', 'Ily', 'Jaylann', 'Aminux', 'Fnaire', 'Hind Ziadi', 'Aezaddy', 'Flenn', 'Shobee', 'A.L.A', 'Faycel Sghir', 'Cheb Akil', 'Liamsi', 'Drizzy', 'Ayoub Hamdaoui', 'Profit Za3im', 'Raste', 'Khtek', 'Yanso', 'Hablo', 'Mohamed Adly', 'Asmae', 'Skaymen', 'Tflow', 'Ali Ssamid', 'JenJoon', 'Barry', 'Zaynab', 'Nizoo', 'Cheb Djalil', 'Flipperachi', 'Master Sina', 'Cheb Bachir', 'Klay BBJ', 'Si Lemhaf', 'Artmasta', 'Cheba Warda', 'Manel Hadli', 'Hamouda', 'Dounia', 'H-Kayne', 'Faycal Mignon', 'Mido Belahbib', 'Psychoqueen', 'Youssef Aoutoul', 'Narco Polo', '7-toun', 'Bilal Sghir', 'Mo Temsamani', 'Anas Guzman', 'Imad Benaomar', 'Bad Flow', 'Ibtissam Tiskat', 'Adel Sweezy', 'Mr. Crazy', 'The S', 'Luigui Bleand', 'Chemsou Freeklane', 'Nizar Idil', 'Barachi', 'Spleux', 'Bilal Africano', 'Limit 29', 'Safae Hbirkou', 'Fayçal Mignon', 'Tortoz', 'Echbiy', 'Ghazir', 'Redone Berhil', 'D14', 'micem', 'lil waii', 'Kobb', 'Mathu', 'Hichem Smati', 'Savage Plug', 'Cheb Abbes', \"Moov'art\", 'Halloran', 'Kate'])\n",
    "set13 = set(['Biu do Piseiro', 'Nêgo Jhá', 'OIK', 'Camila Loures', 'DJ Pernambuco', 'Anne', 'Rafael Allmark', 'Maycon e Vinicius', 'Thiago Carvalho', 'Fernanda Salgado', 'Thascya', 'Gabriel Elias', 'Furacao Love', 'Seakret', 'Junior Lord', 'Yuri NR5', 'Greg Ferreira', 'Fumaxa', 'MOBBERS', 'Gama WNTD', 'Yung SpaceGhost', 'WUANT', 'xtinto', 'SYRO', 'Instinto 26', 'Kappa Jotta', 'WiNDOH', 'Aragão', 'Mizzy Miles', 'Gson', 'Timor YSF', 'Achero', \"Dino d'Santiago\", 'Lhast', 'LON3R JOHNY', 'Irina Barros', 'Minguito 283', 'Dream Boyz', 'Betsy David', 'Waze', 'Valas', 'Domi', 'Mastiksoul', 'João Sousa', 'Miguel Alves', 'Apollo G', 'ÁTOA', 'sora9k', 'Joint One', 'Vado Más Ki Ás', 'Chris Tamayo', 'ARTIGAZZ', 'Jvst Fly', 'GROGNation', 'Mota JR', 'YUZI', 'prettieboy johnson', 'Huzz', 'Ray Polanco', 'Sea', 'Kazzio', 'Ella Nor', 'ANDREZO', 'Mundo Segundo', 'Zara G', 'April Ivy', 'Wuant', 'Carlão', 'HMB', 'Yasmine', 'Ray', 'Maria Cecília', 'Xutos', 'Pontapés'])\n",
    "setP  = set1.union(set2).union(set3).union(set4).union(set5).union(set6).union(set7).union(set10).union(set11).union(set12).union(set13)\n",
    "print('set1  = ',len(set1))\n",
    "print('set2  = ',len(set2))\n",
    "print('set3  = ',len(set3))\n",
    "print('set4  = ',len(set4))\n",
    "print('set5  = ',len(set5))\n",
    "print('set6  = ',len(set6))\n",
    "print('set7  = ',len(set7))\n",
    "print('set10 = ',len(set10))\n",
    "print('set11 = ',len(set11))\n",
    "print('set12 = ',len(set12))\n",
    "print('set13 = ',len(set13))\n",
    "print('setP  = ',len(setP))\n",
    "\n",
    "set14=set()\n",
    "\n",
    "print('set14 = ',len(set14))\n",
    "print('set14 & setP = ',len(set14.intersection(setP)))\n",
    "print('set14 - setP = ',len(set14.difference(setP)))\n",
    "toget=list(set14.difference(setP))\n",
    "print(toget)"
   ]
  },
  {
   "cell_type": "code",
   "execution_count": null,
   "metadata": {},
   "outputs": [],
   "source": [
    "addAllMusic(mdbmaps, \"Spotify\", \"d267166f6f192e4626b58ae273eb6313\", \"\")   ### [Jamie Fine]\n",
    "addDeezer(mdbmaps, \"Spotify\", \"d267166f6f192e4626b58ae273eb6313\", \"\")    ### [Jamie Fine]\n",
    "### Ain't Easy - THE LAUNCH  ,  Catchin Feels\n",
    "### Ain't Easy - THE LAUNCH  ---> [['Elijah Woods x Jamie Fine']]\n",
    "### Catchin Feels  ---> [['Elijah Woods x Jamie Fine']]\n",
    "\n",
    "\n",
    "addAllMusic(mdbmaps, \"Spotify\", \"26e4c8109b6b2a3bb8c9f5898b93187f\", \"\")   ### [Elijah Woods]\n",
    "addDeezer(mdbmaps, \"Spotify\", \"26e4c8109b6b2a3bb8c9f5898b93187f\", \"\")    ### [Elijah Woods]\n",
    "### Ain't Easy - THE LAUNCH  ,  Catchin Feels\n",
    "### Ain't Easy - THE LAUNCH  ---> [['Elijah Woods x Jamie Fine']]\n",
    "### Catchin Feels  ---> [['Elijah Woods x Jamie Fine']]\n",
    "\n",
    "\n",
    "addAllMusic(mdbmaps, \"Spotify\", \"7f47f9bcd04a663dd4c5b6cc23ce2fc4\", \"\")   ### [Sueco]\n",
    "addDeezer(mdbmaps, \"Spotify\", \"7f47f9bcd04a663dd4c5b6cc23ce2fc4\", \"\")    ### [Sueco]\n",
    "### fast (Remix) [feat. Offset & A Boogie Wit da Hoodie]  ,  fast\n",
    "### fast (Remix) [feat. Offset & A Boogie Wit da Hoodie]  ---> [['Sueco']]\n",
    "### fast  ---> [['Sueco']]\n",
    "\n",
    "\n",
    "addAllMusic(mdbmaps, \"Spotify\", \"d1b09e1ea18d6a92e651530bbc3755ea\", \"\")   ### [Alicia Moffet]\n",
    "addDeezer(mdbmaps, \"Spotify\", \"d1b09e1ea18d6a92e651530bbc3755ea\", \"\")    ### [Alicia Moffet]\n",
    "### Beautiful Scar  ,  Take Control\n",
    "### Beautiful Scar  ---> [['Alicia Moffet']]\n",
    "### Take Control  ---> [['Alicia Moffet']]\n",
    "\n",
    "\n",
    "addAllMusic(mdbmaps, \"Spotify\", \"920c63b4fcad01b381d646d6b8b365bc\", \"\")   ### [NEW CITY]\n",
    "addDeezer(mdbmaps, \"Spotify\", \"920c63b4fcad01b381d646d6b8b365bc\", \"\")    ### [NEW CITY]\n",
    "### Getting Closer\n",
    "### Getting Closer  ---> [['NEW CITY']]\n",
    "\n",
    "\n",
    "addAllMusic(mdbmaps, \"Spotify\", \"9ab59de7434b95bb68e6b9f0c5cff97e\", \"\")   ### [Vanic]\n",
    "addDeezer(mdbmaps, \"Spotify\", \"9ab59de7434b95bb68e6b9f0c5cff97e\", \"\")    ### [Vanic]\n",
    "### Too Soon (feat. Maty Noyes)\n",
    "### Too Soon (feat. Maty Noyes)  ---> [['Vanic']]\n",
    "\n",
    "\n",
    "addAllMusic(mdbmaps, \"Spotify\", \"dc6f8bc1cb6d39457937f5ed10418334\", \"\")   ### [Christian Hudson]\n",
    "addDeezer(mdbmaps, \"Spotify\", \"dc6f8bc1cb6d39457937f5ed10418334\", \"\")    ### [Christian Hudson]\n",
    "### Four Leaf Clover - Klowds Remix\n",
    "### Four Leaf Clover - Klowds Remix  ---> [['Christian Hudson']]\n",
    "\n",
    "\n",
    "addAllMusic(mdbmaps, \"Spotify\", \"ce5bb3d8056d6d971672242255a6d3b0\", \"\")   ### [Bob Pressner]\n",
    "addDeezer(mdbmaps, \"Spotify\", \"ce5bb3d8056d6d971672242255a6d3b0\", \"\")    ### [Bob Pressner]\n",
    "### American Dream\n",
    "### American Dream  ---> [['Bob Pressner']]\n",
    "\n",
    "\n",
    "addAllMusic(mdbmaps, \"Spotify\", \"26154d0d5295a4f04f64f0b7f1c0e067\", \"\")   ### [DiRTY RADiO]\n",
    "addDeezer(mdbmaps, \"Spotify\", \"26154d0d5295a4f04f64f0b7f1c0e067\", \"\")    ### [DiRTY RADiO]\n",
    "### True Love\n",
    "### True Love  ---> [['DiRTY RADiO']]\n",
    "\n",
    "\n",
    "addAllMusic(mdbmaps, \"Spotify\", \"180bff77810e1d08186cf125b5d7d353\", \"\")   ### [Cassow]\n",
    "addDeezer(mdbmaps, \"Spotify\", \"180bff77810e1d08186cf125b5d7d353\", \"\")    ### [Cassow]\n",
    "### La Brea\n",
    "### La Brea  ---> [['Cassow']]\n",
    "\n",
    "\n",
    "addAllMusic(mdbmaps, \"Spotify\", \"c12c928aa06f2f10507af4b3a2c9a934\", \"\")   ### [Madalen Duke]\n",
    "addDeezer(mdbmaps, \"Spotify\", \"c12c928aa06f2f10507af4b3a2c9a934\", \"\")    ### [Madalen Duke]\n",
    "### Gucci Store\n",
    "### Gucci Store  ---> [['Madalen Duke']]\n",
    "\n",
    "\n",
    "addAllMusic(mdbmaps, \"Spotify\", \"88759173674025cf8f480850e3ba4b0b\", \"\")   ### [Joshua Bassett]\n",
    "addDeezer(mdbmaps, \"Spotify\", \"88759173674025cf8f480850e3ba4b0b\", \"\")    ### [Joshua Bassett]\n",
    "### Lie Lie Lie\n",
    "### Lie Lie Lie  ---> [['Joshua Bassett']]\n",
    "\n",
    "\n",
    "addAllMusic(mdbmaps, \"Spotify\", \"2c7704262fe420489299bef485e21f10\", \"\")   ### [VIC MENSA]\n",
    "addDeezer(mdbmaps, \"Spotify\", \"2c7704262fe420489299bef485e21f10\", \"\")    ### [VIC MENSA]\n",
    "### Reverse (Ft. G-Eazy)\n",
    "### Reverse (Ft. G-Eazy)  ---> [['VIC MENSA']]\n",
    "\n",
    "\n",
    "addAllMusic(mdbmaps, \"Spotify\", \"2e7143f95646c1272401f710104716dd\", \"\")   ### [DJ Scheme]\n",
    "addDeezer(mdbmaps, \"Spotify\", \"2e7143f95646c1272401f710104716dd\", \"\")    ### [DJ Scheme]\n",
    "### Buck 50\n",
    "### Buck 50  ---> [['DJ Scheme']]\n",
    "\n",
    "\n",
    "addAllMusic(mdbmaps, \"Spotify\", \"f7e293bc32c1201e5a5a66fa535bf823\", \"\")   ### [Leoni Jut]\n",
    "addDeezer(mdbmaps, \"Spotify\", \"f7e293bc32c1201e5a5a66fa535bf823\", \"\")    ### [Leoni Jut]\n",
    "### I'LL BE THERE\n",
    "### I'LL BE THERE  ---> [['Leoni Jut']]\n",
    "\n",
    "\n",
    "addAllMusic(mdbmaps, \"Spotify\", \"835daa3012317c49c26a830e14b1e32b\", \"\")   ### [Josh Jips]\n",
    "addDeezer(mdbmaps, \"Spotify\", \"835daa3012317c49c26a830e14b1e32b\", \"\")    ### [Josh Jips]\n",
    "### Read\n",
    "### Read  ---> [['Josh Jips']]\n",
    "\n",
    "\n",
    "addAllMusic(mdbmaps, \"Spotify\", \"09d950789fd2315b5051dea856a6184f\", \"\")   ### [Skye]\n",
    "addDeezer(mdbmaps, \"Spotify\", \"09d950789fd2315b5051dea856a6184f\", \"\")    ### [Skye]\n",
    "### VOICES (feat. XXXTENTACION)\n",
    "### VOICES (feat. XXXTENTACION)  ---> [['Skye']]\n",
    "\n",
    "\n",
    "addAllMusic(mdbmaps, \"Spotify\", \"7de9d986161f1cce5810ffdb61615c31\", \"\")   ### [BRELAND]\n",
    "addDeezer(mdbmaps, \"Spotify\", \"7de9d986161f1cce5810ffdb61615c31\", \"\")    ### [BRELAND]\n",
    "### My Truck\n",
    "### My Truck  ---> [['BRELAND']]\n",
    "\n",
    "\n",
    "addAllMusic(mdbmaps, \"Spotify\", \"7d186492c45514c715a28e500a2f7735\", \"\")   ### [16yrold]\n",
    "addDeezer(mdbmaps, \"Spotify\", \"7d186492c45514c715a28e500a2f7735\", \"\")    ### [16yrold]\n",
    "### No Romance\n",
    "### No Romance  ---> [['16yrold']]\n",
    "\n",
    "\n",
    "addAllMusic(mdbmaps, \"Spotify\", \"016d228fa16eed569e6887bb0eaa996d\", \"\")   ### [Pedro CapÃ³]\n",
    "addDeezer(mdbmaps, \"Spotify\", \"016d228fa16eed569e6887bb0eaa996d\", \"\")    ### [Pedro CapÃ³]\n",
    "### Calma - Remix\n",
    "### Calma - Remix  ---> [['Pedro Capó', 'Pedro CapÃ³']]\n",
    "\n",
    "\n",
    "addAllMusic(mdbmaps, \"Spotify\", \"4dc90ffe02b116303dd4830d3f07a656\", \"\")   ### [Rube Claws]\n",
    "addDeezer(mdbmaps, \"Spotify\", \"4dc90ffe02b116303dd4830d3f07a656\", \"\")    ### [Rube Claws]\n",
    "### DANG\n",
    "### DANG  ---> [['Rube Claws']]\n",
    "\n",
    "\n",
    "mdbmaps[\"Spotify\"].save()"
   ]
  },
  {
   "cell_type": "code",
   "execution_count": 35,
   "metadata": {
    "scrolled": true
   },
   "outputs": [
    {
     "name": "stdout",
     "output_type": "stream",
     "text": [
      "addAllMusic(mdbmaps, \"Spotify\", \"d267166f6f192e4626b58ae273eb6313\", \"\")   ### [Jamie Fine]\n",
      "addDeezer(mdbmaps, \"Spotify\", \"d267166f6f192e4626b58ae273eb6313\", \"\")    ### [Jamie Fine]\n",
      "### Ain't Easy - THE LAUNCH  ,  Catchin Feels\n",
      "### Ain't Easy - THE LAUNCH  ---> [['Elijah Woods x Jamie Fine']]\n",
      "### Catchin Feels  ---> [['Elijah Woods x Jamie Fine']]\n",
      "\n",
      "\n",
      "addAllMusic(mdbmaps, \"Spotify\", \"26e4c8109b6b2a3bb8c9f5898b93187f\", \"\")   ### [Elijah Woods]\n",
      "addDeezer(mdbmaps, \"Spotify\", \"26e4c8109b6b2a3bb8c9f5898b93187f\", \"\")    ### [Elijah Woods]\n",
      "### Ain't Easy - THE LAUNCH  ,  Catchin Feels\n",
      "### Ain't Easy - THE LAUNCH  ---> [['Elijah Woods x Jamie Fine']]\n",
      "### Catchin Feels  ---> [['Elijah Woods x Jamie Fine']]\n",
      "\n",
      "\n",
      "addAllMusic(mdbmaps, \"Spotify\", \"7f47f9bcd04a663dd4c5b6cc23ce2fc4\", \"\")   ### [Sueco]\n",
      "addDeezer(mdbmaps, \"Spotify\", \"7f47f9bcd04a663dd4c5b6cc23ce2fc4\", \"\")    ### [Sueco]\n",
      "### fast (Remix) [feat. Offset & A Boogie Wit da Hoodie]  ,  fast\n",
      "### fast (Remix) [feat. Offset & A Boogie Wit da Hoodie]  ---> [['Sueco']]\n",
      "### fast  ---> [['Sueco']]\n",
      "\n",
      "\n",
      "addAllMusic(mdbmaps, \"Spotify\", \"d1b09e1ea18d6a92e651530bbc3755ea\", \"\")   ### [Alicia Moffet]\n",
      "addDeezer(mdbmaps, \"Spotify\", \"d1b09e1ea18d6a92e651530bbc3755ea\", \"\")    ### [Alicia Moffet]\n",
      "### Beautiful Scar  ,  Take Control\n",
      "### Beautiful Scar  ---> [['Alicia Moffet']]\n",
      "### Take Control  ---> [['Alicia Moffet']]\n",
      "\n",
      "\n",
      "addAllMusic(mdbmaps, \"Spotify\", \"920c63b4fcad01b381d646d6b8b365bc\", \"\")   ### [NEW CITY]\n",
      "addDeezer(mdbmaps, \"Spotify\", \"920c63b4fcad01b381d646d6b8b365bc\", \"\")    ### [NEW CITY]\n",
      "### Getting Closer\n",
      "### Getting Closer  ---> [['NEW CITY']]\n",
      "\n",
      "\n",
      "addAllMusic(mdbmaps, \"Spotify\", \"9ab59de7434b95bb68e6b9f0c5cff97e\", \"\")   ### [Vanic]\n",
      "addDeezer(mdbmaps, \"Spotify\", \"9ab59de7434b95bb68e6b9f0c5cff97e\", \"\")    ### [Vanic]\n",
      "### Too Soon (feat. Maty Noyes)\n",
      "### Too Soon (feat. Maty Noyes)  ---> [['Vanic']]\n",
      "\n",
      "\n",
      "addAllMusic(mdbmaps, \"Spotify\", \"dc6f8bc1cb6d39457937f5ed10418334\", \"\")   ### [Christian Hudson]\n",
      "addDeezer(mdbmaps, \"Spotify\", \"dc6f8bc1cb6d39457937f5ed10418334\", \"\")    ### [Christian Hudson]\n",
      "### Four Leaf Clover - Klowds Remix\n",
      "### Four Leaf Clover - Klowds Remix  ---> [['Christian Hudson']]\n",
      "\n",
      "\n",
      "addAllMusic(mdbmaps, \"Spotify\", \"ce5bb3d8056d6d971672242255a6d3b0\", \"\")   ### [Bob Pressner]\n",
      "addDeezer(mdbmaps, \"Spotify\", \"ce5bb3d8056d6d971672242255a6d3b0\", \"\")    ### [Bob Pressner]\n",
      "### American Dream\n",
      "### American Dream  ---> [['Bob Pressner']]\n",
      "\n",
      "\n",
      "addAllMusic(mdbmaps, \"Spotify\", \"26154d0d5295a4f04f64f0b7f1c0e067\", \"\")   ### [DiRTY RADiO]\n",
      "addDeezer(mdbmaps, \"Spotify\", \"26154d0d5295a4f04f64f0b7f1c0e067\", \"\")    ### [DiRTY RADiO]\n",
      "### True Love\n",
      "### True Love  ---> [['DiRTY RADiO']]\n",
      "\n",
      "\n",
      "addAllMusic(mdbmaps, \"Spotify\", \"180bff77810e1d08186cf125b5d7d353\", \"\")   ### [Cassow]\n",
      "addDeezer(mdbmaps, \"Spotify\", \"180bff77810e1d08186cf125b5d7d353\", \"\")    ### [Cassow]\n",
      "### La Brea\n",
      "### La Brea  ---> [['Cassow']]\n",
      "\n",
      "\n",
      "addAllMusic(mdbmaps, \"Spotify\", \"c12c928aa06f2f10507af4b3a2c9a934\", \"\")   ### [Madalen Duke]\n",
      "addDeezer(mdbmaps, \"Spotify\", \"c12c928aa06f2f10507af4b3a2c9a934\", \"\")    ### [Madalen Duke]\n",
      "### Gucci Store\n",
      "### Gucci Store  ---> [['Madalen Duke']]\n",
      "\n",
      "\n",
      "addAllMusic(mdbmaps, \"Spotify\", \"88759173674025cf8f480850e3ba4b0b\", \"\")   ### [Joshua Bassett]\n",
      "addDeezer(mdbmaps, \"Spotify\", \"88759173674025cf8f480850e3ba4b0b\", \"\")    ### [Joshua Bassett]\n",
      "### Lie Lie Lie\n",
      "### Lie Lie Lie  ---> [['Joshua Bassett']]\n",
      "\n",
      "\n",
      "addAllMusic(mdbmaps, \"Spotify\", \"2c7704262fe420489299bef485e21f10\", \"\")   ### [VIC MENSA]\n",
      "addDeezer(mdbmaps, \"Spotify\", \"2c7704262fe420489299bef485e21f10\", \"\")    ### [VIC MENSA]\n",
      "### Reverse (Ft. G-Eazy)\n",
      "### Reverse (Ft. G-Eazy)  ---> [['VIC MENSA']]\n",
      "\n",
      "\n",
      "addAllMusic(mdbmaps, \"Spotify\", \"2e7143f95646c1272401f710104716dd\", \"\")   ### [DJ Scheme]\n",
      "addDeezer(mdbmaps, \"Spotify\", \"2e7143f95646c1272401f710104716dd\", \"\")    ### [DJ Scheme]\n",
      "### Buck 50\n",
      "### Buck 50  ---> [['DJ Scheme']]\n",
      "\n",
      "\n",
      "addAllMusic(mdbmaps, \"Spotify\", \"f7e293bc32c1201e5a5a66fa535bf823\", \"\")   ### [Leoni Jut]\n",
      "addDeezer(mdbmaps, \"Spotify\", \"f7e293bc32c1201e5a5a66fa535bf823\", \"\")    ### [Leoni Jut]\n",
      "### I'LL BE THERE\n",
      "### I'LL BE THERE  ---> [['Leoni Jut']]\n",
      "\n",
      "\n",
      "addAllMusic(mdbmaps, \"Spotify\", \"835daa3012317c49c26a830e14b1e32b\", \"\")   ### [Josh Jips]\n",
      "addDeezer(mdbmaps, \"Spotify\", \"835daa3012317c49c26a830e14b1e32b\", \"\")    ### [Josh Jips]\n",
      "### Read\n",
      "### Read  ---> [['Josh Jips']]\n",
      "\n",
      "\n",
      "addAllMusic(mdbmaps, \"Spotify\", \"09d950789fd2315b5051dea856a6184f\", \"\")   ### [Skye]\n",
      "addDeezer(mdbmaps, \"Spotify\", \"09d950789fd2315b5051dea856a6184f\", \"\")    ### [Skye]\n",
      "### VOICES (feat. XXXTENTACION)\n",
      "### VOICES (feat. XXXTENTACION)  ---> [['Skye']]\n",
      "\n",
      "\n",
      "addAllMusic(mdbmaps, \"Spotify\", \"7de9d986161f1cce5810ffdb61615c31\", \"\")   ### [BRELAND]\n",
      "addDeezer(mdbmaps, \"Spotify\", \"7de9d986161f1cce5810ffdb61615c31\", \"\")    ### [BRELAND]\n",
      "### My Truck\n",
      "### My Truck  ---> [['BRELAND']]\n",
      "\n",
      "\n",
      "addAllMusic(mdbmaps, \"Spotify\", \"7d186492c45514c715a28e500a2f7735\", \"\")   ### [16yrold]\n",
      "addDeezer(mdbmaps, \"Spotify\", \"7d186492c45514c715a28e500a2f7735\", \"\")    ### [16yrold]\n",
      "### No Romance\n",
      "### No Romance  ---> [['16yrold']]\n",
      "\n",
      "\n",
      "addAllMusic(mdbmaps, \"Spotify\", \"016d228fa16eed569e6887bb0eaa996d\", \"\")   ### [Pedro CapÃ³]\n",
      "addDeezer(mdbmaps, \"Spotify\", \"016d228fa16eed569e6887bb0eaa996d\", \"\")    ### [Pedro CapÃ³]\n",
      "### Calma - Remix\n",
      "### Calma - Remix  ---> [['Pedro Capó', 'Pedro CapÃ³']]\n",
      "\n",
      "\n",
      "addAllMusic(mdbmaps, \"Spotify\", \"4dc90ffe02b116303dd4830d3f07a656\", \"\")   ### [Rube Claws]\n",
      "addDeezer(mdbmaps, \"Spotify\", \"4dc90ffe02b116303dd4830d3f07a656\", \"\")    ### [Rube Claws]\n",
      "### DANG\n",
      "### DANG  ---> [['Rube Claws']]\n",
      "\n",
      "\n",
      "mdbmaps[\"Spotify\"].save()\n"
     ]
    }
   ],
   "source": [
    "#https://www.hungama.com/albums/lang/russian/popular/\n",
    "#https://www.kkbox.com/hk/en/artist/FGNJ6VipM2tycJ0F0kas508K-index-1.html\n",
    "#https://kworb.net/itunes/extended.html\n",
    "#http://istanbulmusic.blogspot.com/2010/04/best-musicians-from-ecuador.html\n",
    "manualAppends(toMatch, chartType, minAlbums=0, add=True)"
   ]
  },
  {
   "cell_type": "markdown",
   "metadata": {},
   "source": [
    "# Extra Artists"
   ]
  },
  {
   "cell_type": "markdown",
   "metadata": {
    "heading_collapsed": true
   },
   "source": [
    "## Top40"
   ]
  },
  {
   "cell_type": "code",
   "execution_count": null,
   "metadata": {
    "hidden": true
   },
   "outputs": [],
   "source": [
    "#https://www.allmusic.com/artist/boa-mn0000322754\n",
    "addAllMusic(mdbmaps, \"Top40\", \"6dfb791d61d3dd8a44fa5b5c1c8dbde0\", \"mn0000322754\")   ### [Boa]\n",
    "addDeezer(mdbmaps, \"Top40\", \"6dfb791d61d3dd8a44fa5b5c1c8dbde0\", \"792\")    ### [Boa]\n",
    "addDeezer(mdbmaps, \"Top40\", \"688f28c172f877020462ae0dcd158f7d\", \"5337130\")    ### [Antytila]\n",
    "addDeezer(mdbmaps, \"Top40\", \"c4bfdaef6a75c5b92d4314bed5324ac9\", \"4251519\")    ### [V. Meladze]\n",
    "#https://www.discogs.com/artist/1027379-The-Gospellers\n",
    "addDiscogs(mdbmaps, \"Top40\", \"2874db4bf2285180da2878da30719d98\", \"1027379\")    ### [Gospellers]\n",
    "addDeezer(mdbmaps, \"Top40\", \"2874db4bf2285180da2878da30719d98\", \"7722644\")    ### [Gospellers]\n",
    "\n",
    "\n",
    "\n",
    "\n",
    "addDeezer(mdbmaps, \"Top40\", \"996dc2db2e60fc3de7a14828df795171\", \"10470285\")    ### [Z. E.]\n",
    "addDeezer(mdbmaps, \"Top40\", \"73ea300db5aa1c2154adfe42186a887e\", \"5418\")    ### [Ark]\n",
    "addDeezer(mdbmaps, \"Top40\", \"c29dd858b42c5e8d6caecd0302c47dfe\", \"9060182\")    ### [Hov 1]\n",
    "addDeezer(mdbmaps, \"Top40\", \"5127ec6e19c0a6008623adfad8b778c8\", \"72144882\")    ### [Moe]\n",
    "addDeezer(mdbmaps, \"Top40\", \"2bc0fe9eb315a876af7ff1b91988daf3\", \"4523116\")    ### [E.m.m.a.]\n",
    "addDeezer(mdbmaps, \"Top40\", \"919603bf283bab261d6607bea9234ce3\", \"75100\")    ### [Crashdiet]\n",
    "addDeezer(mdbmaps, \"Top40\", \"25c0271edadaa16ad11b4016508ad57c\", \"10540205\")    ### [Sebastian]\n",
    "addDiscogs(mdbmaps, \"Top40\", \"89946a817a31189393f24f92b32be466\", \"60136\")   ### [Catch]\n",
    "addDeezer(mdbmaps, \"Top40\", \"0b8ff2909d235838583a92b539b640ef\", \"1164412\")    ### [Floodgate]\n",
    "addDeezer(mdbmaps, \"Top40\", \"680c0282e232b1f64a3ef9d56da97275\", \"251483\")    ### [Wallstones]\n",
    "addDiscogs(mdbmaps, \"Top40\", \"cb4133f2381241be2ae73d3365e746e8\", \"3143651\")    ### [Honey]\n",
    "addDeezer(mdbmaps, \"Top40\", \"b59c32c628ceae2c2c6b59aacce5c3fe\", \"66502\")    ### [Nic]\n",
    "addDeezer(mdbmaps, \"Top40\", \"6269dc570069e12a96dddc0a674e4ff2\", \"75178\")    ### [Charlotte]\n",
    "addDeezer(mdbmaps, \"Top40\", \"b0e8915fa1946cafcbb743ec3f4a6ea9\", \"122866\")    ### [Charizma]\n",
    "addDeezer(mdbmaps, \"Top40\", \"afadfe17376050c150bb0f9cb78e4181\", \"64411\")    ### [Fame]\n",
    "addDeezer(mdbmaps, \"Top40\", \"5984fbaf75a5530e9a3319136ee014cf\", \"76721\")    ### [Dj Roine]\n",
    "addDiscogs(mdbmaps, \"Top40\", \"214906164a747a8ce969529a640b9eec\", \"346187\")   ### [Jeanette]\n",
    "addDeezer(mdbmaps, \"Top40\", \"214906164a747a8ce969529a640b9eec\", \"450752\")    ### [Jeanette]\n",
    "addDeezer(mdbmaps, \"Top40\", \"c652ef0598d18f7655b92b18d87b8bcd\", \"56449262\")    ### [Cuz]\n",
    "addAllMusic(mdbmaps, \"Top40\", \"89caf52a1eb268d2335ef2f09c39deb1\", \"mn0002185241\")   ### [H.e.a.t.]\n",
    "addDiscogs(mdbmaps, \"Top40\", \"89caf52a1eb268d2335ef2f09c39deb1\", \"1890182\")    ### [H.e.a.t.]\n",
    "addDeezer(mdbmaps, \"Top40\", \"336f4261abc48ea6247320a9b25885b0\", \"13720517\")    ### [Chris Klafford]\n",
    "addDeezer(mdbmaps, \"Top40\", \"5ae548889336487db92e7746dea26566\", \"513525\")    ### [Jay Smith]\n",
    "addDeezer(mdbmaps, \"Top40\", \"f412cf34b7f042c6e70017898a977805\", \"428632\")    ### [Jazzattacks]\n",
    "addDeezer(mdbmaps, \"Top40\", \"71bbc65fd1a58cfe3b7eab94bc666fe4\", \"4588048\")    ### [Ria Hall]\n",
    "addDiscogs(mdbmaps, \"Top40\", \"b1b3b97ec0478725400c7c8729607be9\", \"3037345\")    ### [Carol Anthony]\n",
    "addAllMusic(mdbmaps, \"Top40\", \"29c175308260a766645f88a48fda8cb5\", \"mn0002141576\")   ### [Sasha]\n",
    "addDeezer(mdbmaps, \"Top40\", \"ace5274eac9ac83ecc8be584f2f89678\", \"389681\")    ### [Jezabels]\n",
    "addAllMusic(mdbmaps, \"Top40\", \"9eb2641c9d801ac6a24cd6d40a99cfcc\", \"mn0001488122\")   ### [J.williams]\n",
    "addDeezer(mdbmaps, \"Top40\", \"9eb2641c9d801ac6a24cd6d40a99cfcc\", \"1226315\")    ### [J.williams]\n",
    "addDeezer(mdbmaps, \"Top40\", \"3b51465a51f53de3f9406c8c4084b9eb\", \"4771547\")    ### [Hannah]\n",
    "addDeezer(mdbmaps, \"Top40\", \"4660f8fef24f1de99d82c58cb6d558ae\", \"11373\")    ### [Solitaire]\n",
    "addDeezer(mdbmaps, \"Top40\", \"bad689c3aa55f468721a0f0e31e00490\", \"862972\")    ### [Knocks]\n",
    "addAllMusic(mdbmaps, \"Top40\", \"df7a414766c07b227b947fe19d735cca\", \"mn0000527296\")   ### [P.I.]\n",
    "addDeezer(mdbmaps, \"Top40\", \"ee1825b598532d857e97ba0c03a6c10b\", \"9049402\")    ### [They]\n",
    "addDeezer(mdbmaps, \"Top40\", \"bdf6a38ef1a824d2fbc71eb0866ec945\", \"5817516\")    ### [Kucka]\n",
    "addDeezer(mdbmaps, \"Top40\", \"4e61bdac79b1a4b86d16d9a0121b1a77\", \"1655320\")    ### [Tobtok]\n",
    "addDeezer(mdbmaps, \"Top40\", \"66eaf372536540197d6edb36afe6a9ce\", \"595\")    ### [Destiny`s Child]\n",
    "addDeezer(mdbmaps, \"Top40\", \"8b3f077c9506a80b91565e354f5939ec\", \"6756461\")    ### [Tony Ansell]\n",
    "addDeezer(mdbmaps, \"Top40\", \"4dbc5b8f4dabea79e3ae50712cb6a994\", \"2830461\")    ### [Yebba]\n",
    "addDeezer(mdbmaps, \"Top40\", \"6e9d556d993ea0981f932c68de4c1b77\", \"9852222\")    ### [Kelly Kiara]\n",
    "addDeezer(mdbmaps, \"Top40\", \"b80ed1fc4530c8fcc8e780deccf26b26\", \"5358213\")    ### [Tom Thum]\n",
    "addDeezer(mdbmaps, \"Top40\", \"96db126f7d9fb560896964cc9019cfc7\", \"5922055\")    ### [Montaigne]\n",
    "addDeezer(mdbmaps, \"Top40\", \"ddb7f9b0e8260c58c6f6829d149920a2\", \"5680005\")    ### [James Chatburn]\n",
    "addDeezer(mdbmaps, \"Top40\", \"7b58a1b910d5311157faf0d7ba943ffa\", \"6800529\")    ### [Benjamin Joseph]\n",
    "addDeezer(mdbmaps, \"Top40\", \"110294f1b077f24129fc995ebe23fbe8\", \"6514885\")    ### [Beau Ryan]\n",
    "addDeezer(mdbmaps, \"Top40\", \"620e410c22308e859ec128e1d31cd98f\", \"323884\")    ### [Pez]\n",
    "addDeezer(mdbmaps, \"Top40\", \"208619acbc541f424ed93ef7efd3f3cd\", \"6756463\")    ### [Peter Wall]\n",
    "addDeezer(mdbmaps, \"Top40\", \"6b56ba9a8034ebbfd087f70a7f702a1a\", \"4079487\")    ### [Ceekay Jones]\n",
    "addDeezer(mdbmaps, \"Top40\", \"04d84fa03fde087f3259c8bdc33752bf\", \"80523\")    ### [Tv Rock]\n",
    "addDeezer(mdbmaps, \"Top40\", \"1be93f066d18ad80f8bfd2e70f363c0b\", \"1697944\")    ### [Mt Raskil Preservation]\n",
    "addDeezer(mdbmaps, \"Top40\", \"ce801880919906527590fa4ddaa32c45\", \"1503955\")    ### [Musicians Of The Sydney Symphony]\n",
    "addDiscogs(mdbmaps, \"Top40\", \"f90e3b3a282edb1c217d6e0fcf997d6c\", \"2931966\")   ### [Prophet]\n",
    "addDeezer(mdbmaps, \"Top40\", \"f31c59cc71f57ef742aa0db40beb9b12\", \"280294\")    ### [B.o.b]\n",
    "addDeezer(mdbmaps, \"Top40\", \"5f5e50d6614f04aaefd4995dca22f6b0\", \"443623\")    ### [Jes Hudak]\n",
    "addDeezer(mdbmaps, \"Top40\", \"2176f53302606c207715827ebaa28e2a\", \"5523244\")    ### [George Krikes]\n",
    "addAllMusic(mdbmaps, \"Top40\", \"1ea871f975022d52aae6eab3e9f86e5e\", \"mn0000999409\")   ### [Geoffrey Gurrumul Yunupingu]\n",
    "addDeezer(mdbmaps, \"Top40\", \"5b4514a1943a8b0ecfc49c1feb0b95d7\", \"173576\")    ### [R Kelly]\n",
    "addDeezer(mdbmaps, \"Top40\", \"95f4e2183d8f5105c6f825eae0181a52\", \"11645017\")    ### [Mzwetwo]\n",
    "addDeezer(mdbmaps, \"Top40\", \"caf2a08a94f016a97e44a10130f3e3cf\", \"7374704\")    ### [G-Easy]\n",
    "addDeezer(mdbmaps, \"Top40\", \"897216c66805bf28461c18040b04b67b\", \"10173710\")    ### [Esther Elliott]\n",
    "addAllMusic(mdbmaps, \"Top40\", \"2f31f75ae3cb6d34dd619a1f3287b9ab\", \"mn0002135283\")   ### [Lz7]\n",
    "addDeezer(mdbmaps, \"Top40\", \"2f31f75ae3cb6d34dd619a1f3287b9ab\", \"532751\")    ### [Lz7]\n",
    "addDeezer(mdbmaps, \"Top40\", \"9993a84fddfdfd82804bbfed434d9885\", \"1825991\")    ### [Ruby Frost]\n",
    "addDeezer(mdbmaps, \"Top40\", \"b242e187ccc3073a56e38ae2ee55e650\", \"243446\")    ### [Drew]\n",
    "addDeezer(mdbmaps, \"Top40\", \"8e3afdb94e098cd079c307fb95c9218e\", \"4379877\")    ### [Spawnbreezie]\n",
    "addDeezer(mdbmaps, \"Top40\", \"c8f6f45297ea4a12ea03624a875a212e\", \"406155\")    ### [The Auckland Philharmonia Orchestra]\n",
    "addDiscogs(mdbmaps, \"Top40\", \"520556e00e6d980c7a428f88a6658c68\", \"5925200\")   ### [Jade Louise]\n",
    "addDeezer(mdbmaps, \"Top40\", \"2f953cbb100b34dcc4f2d90a8000eacc\", \"4877604\")    ### [Jessie G]\n",
    "addDeezer(mdbmaps, \"Top40\", \"7b1225826f059f0b7da7a22e128f37fb\", \"106014482\")    ### [Mike Puru]\n",
    "addDeezer(mdbmaps, \"Top40\", \"79024f1f81e52227802f50f57ad5523d\", \"1405492\")    ### [Seth Haapu]\n",
    "addDeezer(mdbmaps, \"Top40\", \"ec743dea831270125f51df1df5da8e42\", \"1182264\")    ### [Frisko]\n",
    "addDiscogs(mdbmaps, \"Top40\", \"d5df77c4abe71b7e73ced4bbc963a71f\", \"6231462\")   ### [Timesthree]\n",
    "addDeezer(mdbmaps, \"Top40\", \"d5df77c4abe71b7e73ced4bbc963a71f\", \"1658696\")    ### [Timesthree]\n",
    "addDeezer(mdbmaps, \"Top40\", \"eac8f9698979b290371bd2a392c661fc\", \"1226318\")    ### [Tiki]\n",
    "addDeezer(mdbmaps, \"Top40\", \"49230df907f220c6fc887f8b142492be\", \"85563822\")    ### [Starboy]\n",
    "addDeezer(mdbmaps, \"Top40\", \"fca25c35f21674eabb0671a206c03930\", \"208194\")    ### [Kin]\n",
    "addDeezer(mdbmaps, \"Top40\", \"4b4fd591656c8499d7d511fff78579b7\", \"11732531\")    ### [Pipe Down Project]\n",
    "addDeezer(mdbmaps, \"Top40\", \"ed0eefd23b87ef67f3d0dd9eadf6226b\", \"62745\")    ### [Arise]\n",
    "addDeezer(mdbmaps, \"Top40\", \"0e92ee4147f408112ff68c135d5202df\", \"8915798\")    ### [#kiwiscurebatten]\n",
    "addDeezer(mdbmaps, \"Top40\", \"7f25cab06931e5c754eb74229144ca3a\", \"1031587\")    ### [L. A. B.]\n",
    "addDiscogs(mdbmaps, \"Top40\", \"26c097ad9f7f55270b85ae02a22bb359\", \"266816\")   ### [Jack L]\n",
    "addDeezer(mdbmaps, \"Top40\", \"26c097ad9f7f55270b85ae02a22bb359\", \"1438219\")    ### [Jack L]\n",
    "addDeezer(mdbmaps, \"Top40\", \"dabd78a618b6ed0505657303ac766f81\", \"6788749\")    ### [Broken Hill]\n",
    "addDeezer(mdbmaps, \"Top40\", \"5a73b17da495da0dc6ac4fff5054f0b8\", \"292468\")    ### [Smash Proof]\n",
    "addAllMusic(mdbmaps, \"Top40\", \"00d5d59798eeffef591f272260b0bbcc\", \"mn0000124572\")   ### [Chuck-N-Blood]\n",
    "addAllMusic(mdbmaps, \"Top40\", \"21da687c5162d957e0e8aaa39eff1e80\", \"mn0003750925\")   ### [The Carters]\n",
    "addAllMusic(mdbmaps, \"Top40\", \"c00c9a5d2e3053716de9b79898cb5691\", \"mn0001225951\")   ### [Mustard]\n",
    "addAllMusic(mdbmaps, \"Top40\", \"78f1feb9204bce3173d42798bc9bcb91\", \"mn0001808325\")   ### [Kobe Bryant]\n",
    "addAllMusic(mdbmaps, \"Top40\", \"5edcd28a4505dc29e4edebd67052e614\", \"mn0000795894\")   ### [Dolla]\n",
    "addAllMusic(mdbmaps, \"Top40\", \"5a888aa5d5b0835533b2a73dd895b461\", \"mn0002528230\")   ### [DCUP]\n",
    "addAllMusic(mdbmaps, \"Top40\", \"7bcb752a835787affb80072d61387b22\", \"mn0001411030\")   ### [Hollis]\n",
    "addAllMusic(mdbmaps, \"Top40\", \"c0051ae12f6048a807213c44b434aa1d\", \"mn0003348925\")   ### [Jennifer Lawrence]\n",
    "addAllMusic(mdbmaps, \"Top40\", \"1f9b34897f6440e2484f1ac5e00953f7\", \"mn0003462822\")   ### [Gnash]\n",
    "addAllMusic(mdbmaps, \"Top40\", \"9d337e01e83fc2b9d9fcbd6930bfb107\", \"mn0003715465\")   ### [Casper Magico]\n",
    "addAllMusic(mdbmaps, \"Top40\", \"7670c11b0a85e757c3cd25e1cb4f0d2b\", \"mn0003496227\")   ### [Dakota]\n",
    "addAllMusic(mdbmaps, \"Top40\", \"29c175308260a766645f88a48fda8cb5\", \"mn0002141576\")   ### [Sasha]\n",
    "addAllMusic(mdbmaps, \"Top40\", \"20cf770061e851a2768a67afad49a089\", \"mn0001884165\")   ### [Chris Malinchak]\n",
    "addAllMusic(mdbmaps, \"Top40\", \"80891387fa9995ead4c3a41b8eb58cac\", \"mn0003165846\")   ### [Islove]\n",
    "addAllMusic(mdbmaps, \"Top40\", \"927d313b814225911b0cc45f6d101384\", \"mn0003525593\")   ### [Neales]\n",
    "addDiscogs(mdbmaps, \"Top40\", \"000a8119d7146d68b89c0a1190ec7e11\", \"7474592\")    ### [Young T & Bugsey]\n",
    "addDiscogs(mdbmaps, \"Top40\", \"8869a02f414bf8aa44ffa2491e057c18\", \"5690424\")    ### [Sile Seoige]\n",
    "addAllMusic(mdbmaps, \"Top40\", \"23766e9564639a78dd2aa4469c656e33\", \"mn0000186917\")   ### [Gabriella]\n",
    "addAllMusic(mdbmaps, \"Top40\", \"ee06f338805166cc652a5ffa29bfcaa4\", \"mn0000792831\")   ### [Shane Macgowan]\n",
    "addDiscogs(mdbmaps, \"Top40\", \"338160050dd8760f6e21fd314da0c262\", \"282163\")    ### [Glen Keating]\n",
    "addDiscogs(mdbmaps, \"Top40\", \"8f7bba2ad693b7bd7a54e9f5561df5fd\", \"670431\")    ### [Redone]\n",
    "addAllMusic(mdbmaps, \"Top40\", \"61e0cad6ba67b77cf03b21bdcc855000\", \"mn0001072817\")   ### [Ndubz]\n",
    "addAllMusic(mdbmaps, \"Top40\", \"8c59920da3b9afafbe8064702b8ae417\", \"mn0000866772\")   ### [Levada Louca]\n",
    "addAllMusic(mdbmaps, \"Top40\", \"f9902337667b007c4cb0bd56853d6f77\", \"mn0001499382\")   ### [Don Mescall]\n",
    "addDiscogs(mdbmaps, \"Top40\", \"3a78a66700126f076bc9880499d46098\", \"6754053\")    ### [Theresa Rex]\n",
    "addAllMusic(mdbmaps, \"Top40\", \"45ec0da62cf46f95d1d19d6477e15223\", \"mn0003492788\")   ### [Lewisham & Greenwich NHS Choir]\n",
    "addAllMusic(mdbmaps, \"Top40\", \"b3a0765a3d6a1f9b5f0218cc1a78167d\", \"mn0001585547\")   ### [DJ Champion]\n",
    "addAllMusic(mdbmaps, \"Top40\", \"4101fb8a2e7d70d355cb78bb670cafb2\", \"mn0000615641\")   ### [N Trance]\n",
    "addAllMusic(mdbmaps, \"Top40\", \"d4afc32b214e23fb75edc998fa24f102\", \"mn0000116049\")   ### [D'side]\n",
    "addAllMusic(mdbmaps, \"Top40\", \"0edfaa56ae9a7023ef89e6dc038b27e7\", \"mn0000556741\")   ### [Marshals]\n",
    "addDiscogs(mdbmaps, \"Top40\", \"ef5682c651f7c5295bc121ad58f18381\", \"1627595\")    ### [St. Julien]\n",
    "addAllMusic(mdbmaps, \"Top40\", \"50eab1669ad5105c900ba050d23f7b37\", \"mn0002085581\")   ### [Ruth-anne]\n",
    "addAllMusic(mdbmaps, \"Top40\", \"123b17da9b4f0bc068b6211be4ba6eeb\", \"mn0002334760\")   ### [Erick]\n",
    "addDiscogs(mdbmaps, \"Top40\", \"0f4330d2f262dae9ff367c6c07b07ebd\", \"1551192\")    ### [Temper Trap]\n",
    "addAllMusic(mdbmaps, \"Top40\", \"08de644904d4cf3503bdb90e1095eb0a\", \"mn0003330733\")   ### [High Hopes Choir]\n",
    "addAllMusic(mdbmaps, \"Top40\", \"1b7dbb15e26894ee42a4088cd348af5c\", \"mn0002840885\")   ### [Frankie Sandford]\n",
    "addAllMusic(mdbmaps, \"Top40\", \"7eac99ffb3a009020ae826491a7328a2\", \"mn0002300128\")   ### [Calvin Goldspink]\n",
    "addAllMusic(mdbmaps, \"Top40\", \"a937fec3aae407f22faf4d34080e3c53\", \"mn0001093965\")   ### [Frank Skinner]\n",
    "addAllMusic(mdbmaps, \"Top40\", \"3772bea79ec33ccc235bd5eb74ec4188\", \"mn0000662225\")   ### [H2O]\n",
    "addAllMusic(mdbmaps, \"Top40\", \"2bb54463a4b2619f4cddb21626fd43f3\", \"mn0000443133\")   ### [Donaeo]\n",
    "addDiscogs(mdbmaps, \"Top40\", \"5a56911227b3087c65fa0c64cfc22858\", \"7175745\")    ### [Rani]\n",
    "addAllMusic(mdbmaps, \"Top40\", \"b44c3d5c561812173cb1fadc6bbadad0\", \"mn0000663567\")   ### [Node]\n",
    "addAllMusic(mdbmaps, \"Top40\", \"94a91dcb424b476f725b107e3d561dd2\", \"mn0003085199\")   ### [A Typisk]\n",
    "addDiscogs(mdbmaps, \"Top40\", \"244b104a4ecf5d29056a30135da49164\", \"5558809\")    ### [Amanda]\n",
    "addDiscogs(mdbmaps, \"Top40\", \"9547f484677db99f07f0d2ce639fbcdb\", \"2644206\")    ### [KESI]\n",
    "addDiscogs(mdbmaps, \"Top40\", \"cf2ec7a5779606dc225eb1ff52a125b5\", \"610327\")    ### [Six]\n",
    "addDiscogs(mdbmaps, \"Top40\", \"682ff892fde0720742da7539be5cbfd4\", \"3769696\")    ### [Mellemfingamuzik]\n",
    "addDiscogs(mdbmaps, \"Top40\", \"964b8471bb5b3317ff80c658789fb5c6\", \"2178850\")    ### [Nadja Ga]\n",
    "addDiscogs(mdbmaps, \"Top40\", \"5702f798cedf95408e7998cae7160f75\", \"5094759\")    ### [Adhd]\n",
    "addDiscogs(mdbmaps, \"Top40\", \"5f6a0d2ee2e29501ee8668e87c668653\", \"8290907\")    ### [David O'connor]\n",
    "addDiscogs(mdbmaps, \"Top40\", \"be31dd84b00112c792101e2ed6bd66b3\", \"1086751\")    ### [Donna & Joe]\n",
    "addDiscogs(mdbmaps, \"Top40\", \"cec35a4d1e39f4804f0329f8a891b635\", \"606524\")    ### [Johnson]\n",
    "addDiscogs(mdbmaps, \"Top40\", \"00d39e303b291175cb7dc306b9316607\", \"1003686\")    ### [Kyla]\n",
    "addAllMusic(mdbmaps, \"Top40\", \"c2a35b01b931ff0ea34c41bb944ed7ad\", \"mn0000302025\")   ### [Rune Rk]\n",
    "addDiscogs(mdbmaps, \"Top40\", \"906b28e54bbb4b4cf8c91f488d978719\", \"5024518\")    ### [Emile Kruse]\n",
    "addDiscogs(mdbmaps, \"Top40\", \"b4ac9bf7c517d486d0dfbb31267e4d3f\", \"6257928\")    ### [Pattersutter]\n",
    "addAllMusic(mdbmaps, \"Top40\", \"ff33e0cca2bc86ca1c8aca2edf6ad878\", \"mn0000175401\")   ### [M.V.P.]\n",
    "addDiscogs(mdbmaps, \"Top40\", \"c3eb573746b90008c43fb9ed843e01c4\", \"396225\")    ### [U$o]\n",
    "addDiscogs(mdbmaps, \"Top40\", \"a5e6e308d31db00836b85dec9a28fac6\", \"120009\")    ### [lum]\n",
    "addDiscogs(mdbmaps, \"Top40\", \"9cc336f08daf6b60fdc7df51c4951cd7\", \"771237\")    ### [Soren Huss]\n",
    "addDiscogs(mdbmaps, \"Top40\", \"2f8ef80aa737b08ccbf4a4f597272dd4\", \"585244\")    ### [Jimmy Jorgensen]\n",
    "addDiscogs(mdbmaps, \"Top40\", \"9361a0dd987d763afb7ebda59733dd4b\", \"164681\")    ### [Michael Andr]\n",
    "addDiscogs(mdbmaps, \"Top40\", \"8c4759f7357435c07209f893bd031627\", \"500375\")    ### [Goleo Vi]\n",
    "addDiscogs(mdbmaps, \"Top40\", \"df5925386d5e772c54fab9c8ee4afc1a\", \"2449670\")    ### [Bjornskov]\n",
    "addDiscogs(mdbmaps, \"Top40\", \"ea6d8ca839c5321096bf52075b5913a3\", \"1091530\")    ### [Blaes Bukki]\n",
    "addAllMusic(mdbmaps, \"Top40\", \"dff7682d6b7f9e652467f1d387940420\", \"mn0002116244\")   ### [Michael Caro]\n",
    "addDiscogs(mdbmaps, \"Top40\", \"8293b2b928ccdcfda3a5b282235ed4ba\", \"489717\")    ### [L.o.c.]\n",
    "addAllMusic(mdbmaps, \"Top40\", \"f101734989e2fb6b8dd4f0192a44424e\", \"mn0001546498\")   ### [Sha]\n",
    "addDiscogs(mdbmaps, \"Top40\", \"c88659abef342c45aaeee57a7208f24b\", \"3871612\")    ### [Jimillian]\n",
    "addDiscogs(mdbmaps, \"Top40\", \"cde97ecc04c4fb0ab06efcceb6ba1766\", \"393367\")    ### [Monday]\n",
    "addDiscogs(mdbmaps, \"Top40\", \"f7a9e3bb639bf960c442d3854cc8e7f7\", \"709641\")    ### [Herrelandsholdet]\n",
    "addDiscogs(mdbmaps, \"Top40\", \"9c0415d6fbfcac5c210c5cb9cd921ffd\", \"4181123\")    ### [Fruhstuck Bei Stefanie]\n",
    "addAllMusic(mdbmaps, \"Top40\", \"56fb2c6c60bd0165fcec8d4622f92b80\", \"mn0002139381\")   ### [Buergermeister]\n",
    "addDiscogs(mdbmaps, \"Top40\", \"bb4ac57918a08f80cb48be770d9e9979\", \"5134105\")    ### [Cinco De Mayo]\n",
    "addDiscogs(mdbmaps, \"Top40\", \"853397c4ed3d2cd920a67cc9c17067f5\", \"1883733\")    ### [M0]\n",
    "addAllMusic(mdbmaps, \"Top40\", \"31c4d92d280c3a99ad3e1a44e9adaf5a\", \"mn0003793253\")   ### [Mathias Og Henriette]\n",
    "addAllMusic(mdbmaps, \"Top40\", \"0d437db44c23416f96cf5975535f221f\", \"mn0001963267\")   ### [B.a.n.g.e.r.s]\n",
    "addAllMusic(mdbmaps, \"Top40\", \"2c045db8ead27ec90b26be684dee48a8\", \"mn0002329134\")   ### [Blaojne]\n",
    "addDiscogs(mdbmaps, \"Top40\", \"2c045db8ead27ec90b26be684dee48a8\", \"100681\")    ### [Blaojne]\n",
    "addDiscogs(mdbmaps, \"Top40\", \"ce330beec86bfeb671dc2a2d08562025\", \"1943966\")    ### [Fresh]\n",
    "addDiscogs(mdbmaps, \"Top40\", \"396a9170c68a28370c6a415e5cb0acdd\", \"6119064\")    ### [LOTTE]\n",
    "addDiscogs(mdbmaps, \"Top40\", \"112cbf6ca3a878116b385274aa05438d\", \"1482382\")    ### [RAF]\n",
    "addDiscogs(mdbmaps, \"Top40\", \"a07c6ac1b552021b88cfd2e02e78ade3\", \"5072342\")    ### [Laura Van Den Elzen]\n",
    "addDiscogs(mdbmaps, \"Top40\", \"dce6aefe16db0f22d8509a37392fbda0\", \"34669\")    ### [Mia.]\n",
    "addDiscogs(mdbmaps, \"Top40\", \"a5d240665753e6ec5149a4cfec868fe1\", \"518132\")    ### [Black Fooss]\n",
    "addDiscogs(mdbmaps, \"Top40\", \"5016655838213c82095f3cd9941ab8a8\", \"86482\")    ### [J-luv]\n",
    "addDiscogs(mdbmaps, \"Top40\", \"014056a5b370a16da25725557f53497b\", \"1399728\")    ### [Zipfelbuben]\n",
    "addDiscogs(mdbmaps, \"Top40\", \"2cfa11ab68fa15392a28ba3473bfafd5\", \"1383823\")    ### [Dschungel-allstars 2009]\n",
    "addDiscogs(mdbmaps, \"Top40\", \"a9d6b7af886dba4eaa94ee0e6a0400f9\", \"264574\")    ### [The Frank and Walters]\n",
    "addAllMusic(mdbmaps, \"Top40\", \"c74211123c6662f96a81ef1dd607613b\", \"mn0003687505\")   ### [The Greatest Showman Ensemble]\n",
    "addDiscogs(mdbmaps, \"Top40\", \"977d879a9ef599db0179842a90eb0829\", \"2986568\")    ### [Nik & Ras]\n",
    "addAllMusic(mdbmaps, \"Top40\", \"27b4e2613c000e26afc0dcbf6ab8137a\", \"mn0001560738\")   ### [Milk & Honey]\n",
    "addDiscogs(mdbmaps, \"Top40\", \"27b4e2613c000e26afc0dcbf6ab8137a\", \"506822\")    ### [Milk & Honey]\n",
    "addDiscogs(mdbmaps, \"Top40\", \"4fb5ad8251f32ebc71a4caa19a79671c\", \"1404551\")    ### [Rald Schmitz]\n",
    "addDiscogs(mdbmaps, \"Top40\", \"35a5e92b985eb2530625c792eb8794fd\", \"2261153\")    ### [Ell & Nikki]\n",
    "addDiscogs(mdbmaps, \"Top40\", \"108e43f1076de906cdd8ba014d4b16ff\", \"2068922\")    ### [Bonez Mc]\n",
    "addDiscogs(mdbmaps, \"Top40\", \"225ac6dbdf0fffd4a9e113da51ca214d\", \"6081758\")    ### [Brudi30]\n",
    "addDiscogs(mdbmaps, \"Top40\", \"446d29ccb5a2a3de8ac79412defdc3b0\", \"4255795\")    ### [YouNotUs]\n",
    "addDiscogs(mdbmaps, \"Top40\", \"c3516450970181d37943c2cd92289bfd\", \"4367398\")    ### [Anthony]\n",
    "addDiscogs(mdbmaps, \"Top40\", \"df31d4c938e84e9804579b48368955ba\", \"4453381\")    ### [Eicka Jane]\n",
    "addDiscogs(mdbmaps, \"Top40\", \"5921f9df84764cd6c69a4f92a205f390\", \"7671579\")    ### [Lolo]\n",
    "addAllMusic(mdbmaps, \"Top40\", \"9be0a055a02f9facc0f0fb7fc693c793\", \"mn0000753347\")   ### [Snap!]\n",
    "addAllMusic(mdbmaps, \"Top40\", \"a0c07f2c1e5e8b60724c92fb83410552\", \"mn0003380067\")   ### [Coleman Hell]\n",
    "addDeezer(mdbmaps, \"Top40\", \"768af9dd3025f4e218099084284a501b\", \"54647592\")    ### [Mero]\n",
    "addDeezer(mdbmaps, \"Top40\", \"52752c575988eb5edea512020cec4858\", \"2211\")    ### [Nena]\n",
    "addDeezer(mdbmaps, \"Top40\", \"e309c2e3fc905eae304b71e10e82eb99\", \"75530\")    ### [Dream]\n",
    "addDeezer(mdbmaps, \"Top40\", \"8df03772e7cf5b3390e10574a0a90db2\", \"1407\")    ### [Frames]\n",
    "addDeezer(mdbmaps, \"Top40\", \"40841ab93e4bc05dbd354f23e76fa1ae\", \"537158\")    ### [Sean Og]\n",
    "addDeezer(mdbmaps, \"Top40\", \"1f50464766f3a9ce94f1754b0463ec8f\", \"182603\")    ### [Sarah]\n",
    "addDeezer(mdbmaps, \"Top40\", \"c3e16affa11432c13e8be7cc6c8d736b\", \"261212\")    ### [XX]\n",
    "addDeezer(mdbmaps, \"Top40\", \"fbf1e430c96f43c82045103a7c1407fd\", \"253597\")    ### [George Murphy]\n",
    "addDeezer(mdbmaps, \"Top40\", \"03ece6e9a07c0a5915cfe676a05567a2\", \"543560\")    ### [Kaka]\n",
    "addAllMusic(mdbmaps, \"Top40\", \"cdcec0b0558677aa394a85b105a3699c\", \"mn0000084053\")   ### [The Jam]\n",
    "addDeezer(mdbmaps, \"Top40\", \"cdcec0b0558677aa394a85b105a3699c\", \"3944\")    ### [The Jam]\n",
    "addDeezer(mdbmaps, \"Top40\", \"410637b6027dc82a2ce4a93308e58dca\", \"90401\")    ### [Aura]\n",
    "addAllMusic(mdbmaps, \"Top40\", \"91f266ac5ec2839f80f07b9c5385c524\", \"mn0000057556\")   ### [Bill & Gloria Gaither]\n",
    "addDeezer(mdbmaps, \"Top40\", \"856bd94164974e377d780028096bc128\", \"70715\")    ### [Martin]\n",
    "addDeezer(mdbmaps, \"Top40\", \"f9793851d6cb8247b6b003a729ce9dc6\", \"264387\")    ### [Nash]\n",
    "addDeezer(mdbmaps, \"Top40\", \"6f21b97f1010287aa78ee44d6046702f\", \"77424\")    ### [Karen]\n",
    "addDeezer(mdbmaps, \"Top40\", \"50201d87ecab39af8f2f0aabc1cffc24\", \"166116\")    ### [Jasmin]\n",
    "addDiscogs(mdbmaps, \"Top40\", \"f7c1455d4147cbf4dc094aa9c2a39356\", \"3594438\")    ### [Zoo]\n",
    "addAllMusic(mdbmaps, \"Top40\", \"35d8d65ac040e8756273c2f76884e5f5\", \"mn0003842449\")   ### [Beast Coast]\n",
    "addDeezer(mdbmaps, \"Top40\", \"c4d67d31024c80e72927ac50751161f7\", \"16891\")    ### [Nicole]\n",
    "addDiscogs(mdbmaps, \"Top40\", \"b1b3b97ec0478725400c7c8729607be9\", \"3037345\")    ### [Carol Anthony]\n",
    "addDeezer(mdbmaps, \"Top40\", \"154e9916e9dc4d52c6dcc9ea8c5934f7\", \"211032\")    ### [Departure]\n",
    "addDeezer(mdbmaps, \"Top40\", \"a52581e5c20a50979faeecde53d01381\", \"247134\")    ### [Yasmin]\n",
    "addDeezer(mdbmaps, \"Top40\", \"86058aed9a9a3acf13a9a98a36b7e7b1\", \"16065\")    ### [Louise]\n",
    "addDeezer(mdbmaps, \"Top40\", \"f4223a2e29ad572bdd62408309749e55\", \"4068228\")    ### [M.A.D.]\n",
    "addDeezer(mdbmaps, \"Top40\", \"dd0c42047d7063ec53285cda72c0610d\", \"3244121\")    ### [Tough Love]\n",
    "addDeezer(mdbmaps, \"Top40\", \"e29a4723271638f34847fc292ffa48c3\", \"271117\")    ### [James Fox]\n",
    "addDeezer(mdbmaps, \"Top40\", \"95b9824e26389cf67674f50cb242ef70\", \"205804\")    ### [Unk]\n",
    "addAllMusic(mdbmaps, \"Top40\", \"914aff29bbb33d9bd8742b9b8d7bbb7c\", \"mn0001453952\")   ### [Chima]\n",
    "addDeezer(mdbmaps, \"Top40\", \"914aff29bbb33d9bd8742b9b8d7bbb7c\", \"283635\")    ### [Chima]\n",
    "addDiscogs(mdbmaps, \"Top40\", \"9545ffea8117bf350955621bae797917\", \"39162\")   ### [Clever]\n",
    "addDeezer(mdbmaps, \"Top40\", \"9545ffea8117bf350955621bae797917\", \"1261918\")    ### [Clever]\n",
    "addDeezer(mdbmaps, \"Top40\", \"a0eaef106d85a20c4f40697e6be08ade\", \"1219224\")    ### [Rory & The Island]\n",
    "addDeezer(mdbmaps, \"Top40\", \"7b9aa21b6614e8381a912da660081515\", \"4791900\")    ### [Jordan Egan]\n",
    "addDeezer(mdbmaps, \"Top40\", \"6ce57bb13155b6a976267ae7fea24a81\", \"5061058\")    ### [The Suspects and Guests]\n",
    "addDiscogs(mdbmaps, \"Top40\", \"dc9afe97092e87a01ec4127299268b14\", \"97648\")    ### [Tone]\n",
    "addDeezer(mdbmaps, \"Top40\", \"331b04fbaf10fec210a976adb4b1d562\", \"62971\")    ### [Heavy]\n",
    "addDeezer(mdbmaps, \"Top40\", \"4534407ec1d2e60bd79803fcac70ddab\", \"5613402\")    ### [Jimmy Magee]\n",
    "addDeezer(mdbmaps, \"Top40\", \"93e2f319eb80a4d47ed7830e34472de8\", \"164956192\")    ### [Steffany Gretzinger]\n",
    "addDeezer(mdbmaps, \"Top40\", \"d027967af998dd89ee301fbfadc2a9c6\", \"7274\")    ### [Down]\n",
    "addDeezer(mdbmaps, \"Top40\", \"aaa8882482fb1c672c7048f6ad980017\", \"72652862\")    ### [Poppy Fields]\n",
    "addDeezer(mdbmaps, \"Top40\", \"84ea1e6425431af3e3c9132c3ef0dff2\", \"5359329\")    ### [Presentation Secondary School Clonmel]\n",
    "addDeezer(mdbmaps, \"Top40\", \"23a4949a6ef2a59b0a1992d55a5e7119\", \"100307\")    ### [Versatile]\n",
    "addDeezer(mdbmaps, \"Top40\", \"387f8b95bf312f4e1f06c3fa8a2e702d\", \"7204178\")    ### [The Zog Chorus]\n",
    "addDeezer(mdbmaps, \"Top40\", \"d571e0c4adaf9473e43a55048b524222\", \"248033\")    ### [Chuckie]\n",
    "addDeezer(mdbmaps, \"Top40\", \"83e36a7fbb4e47d90df2c7a5f41ceca5\", \"5283366\")    ### [Avener]\n",
    "addDiscogs(mdbmaps, \"Top40\", \"d8af7b562fb5b6896e9caf208a7631fe\", \"2500803\")    ### [Daisy Dares You]\n",
    "addDeezer(mdbmaps, \"Top40\", \"3771c6784980f14a97a79960df44683f\", \"7416924\")    ### [Emzee A]\n",
    "addDeezer(mdbmaps, \"Top40\", \"ea418f0376767c59aea193fb88f2fbed\", \"11807729\")    ### [Audrey Trainor]\n",
    "addDeezer(mdbmaps, \"Top40\", \"f39917252c23494a2bffc34608080e34\", \"4566327\")    ### [Edmee]\n",
    "addDeezer(mdbmaps, \"Top40\", \"13568fea713fb70f4a72987863820910\", \"67704502\")    ### [Paradise Hotel 2019]\n",
    "addDeezer(mdbmaps, \"Top40\", \"a552723762e26b8bf2ff3cf00abb742e\", \"76729\")    ### [Vera]\n",
    "addDeezer(mdbmaps, \"Top40\", \"e20047c96a03c801a7a761d639303baa\", \"105146\")    ### [Christina]\n",
    "addDeezer(mdbmaps, \"Top40\", \"747e53fad10278c0be9f12e5064e1a8a\", \"9435020\")    ### [Ung Cezar]\n",
    "addDeezer(mdbmaps, \"Top40\", \"59755826fe21e0d913917f38e519bd97\", \"4037981\")    ### [Trinidad James]\n",
    "addDiscogs(mdbmaps, \"Top40\", \"b091868e0d9e66c4f3cfc3d57c0e15c1\", \"6754464\")    ### [Pauline]\n",
    "addDiscogs(mdbmaps, \"Top40\", \"fdef672eb79aa1e42d68559231f9e91a\", \"2891027\")    ### [Contiez]\n",
    "addDiscogs(mdbmaps, \"Top40\", \"376424d25e7c667172ea571a9bd5ecf7\", \"34061\")   ### [DT8]\n",
    "addDeezer(mdbmaps, \"Top40\", \"376424d25e7c667172ea571a9bd5ecf7\", \"16653\")    ### [DT8]\n",
    "addDeezer(mdbmaps, \"Top40\", \"298dc80023436fd7d1327755dc0f3aea\", \"5406531\")    ### [Virginia To Vegas]\n",
    "addAllMusic(mdbmaps, \"Top40\", \"df7a414766c07b227b947fe19d735cca\", \"mn0000527296\")   ### [P.I.]\n",
    "addDiscogs(mdbmaps, \"Top40\", \"9ffc319f3524de0eb5857b3a041e89d8\", \"4115550\")   ### [Rin]\n",
    "addDiscogs(mdbmaps, \"Top40\", \"6c757d349b981f59ce15f8050351c33b\", \"286345\")   ### [Androids]\n",
    "addDiscogs(mdbmaps, \"Top40\", \"2580311e731b9bca913825f23a494d96\", \"4511617\")    ### [Alina]\n",
    "addDeezer(mdbmaps, \"Top40\", \"f8c6ee3fdec7c8e8d68666db7bd07a5b\", \"1217914\")    ### [Zion & Lennox]\n",
    "addDeezer(mdbmaps, \"Top40\", \"04b0ea321844b974fa623332ec9e81a8\", \"1234739\")    ### [Nadine]\n",
    "addDiscogs(mdbmaps, \"Top40\", \"5b813121e727842a70d17d40279c8060\", \"3915565\")    ### [Tieks]\n",
    "addDeezer(mdbmaps, \"Top40\", \"e6852c19581c5c2842941d6585011de8\", \"507529\")    ### [New Sunset Hotel]\n",
    "addDeezer(mdbmaps, \"Top40\", \"1ee6a7f79efe291ad8bc9ba50f14ee39\", \"110592\")    ### [Tarja]\n",
    "addDeezer(mdbmaps, \"Top40\", \"f70f7318448d90d9e2648fa729d0ccd9\", \"7569860\")    ### [Mendoza]\n",
    "addDeezer(mdbmaps, \"Top40\", \"87019c83d1d9002251d5e0123d73de2f\", \"4158299\")    ### [Ladywell Primary School]\n",
    "addDeezer(mdbmaps, \"Top40\", \"70fd12ba96ac516bed74bb1918828f96\", \"7215388\")    ### [Wealdstone Raider]\n",
    "addDeezer(mdbmaps, \"Top40\", \"18a4ef47c6e65a8cd0686f17dcb5a2d6\", \"458443\")    ### [Mike Sheridan]\n",
    "addDeezer(mdbmaps, \"Top40\", \"b6f0eeb7241d52315a563b41a83f03ab\", \"12544804\")    ### [LIV'n'G]\n",
    "addDeezer(mdbmaps, \"Top40\", \"3203329df817eab4fd383d2515def0c7\", \"61557012\")    ### [RSPB]\n",
    "addDeezer(mdbmaps, \"Top40\", \"3de5a67ac001eda9da009b4269f64d72\", \"84950802\")    ### [Tobi & Manny]\n",
    "addDeezer(mdbmaps, \"Top40\", \"8476f77796a006e9d4cbafa3404aebac\", \"55142\")    ### [Virgo]\n",
    "addDeezer(mdbmaps, \"Top40\", \"7befb4ecd12fe5e883dc1785be298dab\", \"134048\")    ### [Fabric Bent]\n",
    "addDiscogs(mdbmaps, \"Top40\", \"9d224a59b3df753402c55e6974c203b5\", \"1335584\")   ### [Eddy Bar]\n",
    "addDeezer(mdbmaps, \"Top40\", \"9d224a59b3df753402c55e6974c203b5\", \"152363\")    ### [Eddy Bar]\n",
    "addDeezer(mdbmaps, \"Top40\", \"c039dcafb38ef291cd3576f6f2d96498\", \"14492701\")    ### [Ransom]\n",
    "addDeezer(mdbmaps, \"Top40\", \"538d641f7c607731ce3c97de84888ddc\", \"10904\")    ### [Trooper]\n",
    "addAllMusic(mdbmaps, \"Top40\", \"576086654e3dac2a5660989c51366659\", \"mn0000043629\")   ### [Bushido Produziert Sonny Black]\n",
    "addDeezer(mdbmaps, \"Top40\", \"576086654e3dac2a5660989c51366659\", \"143975\")    ### [Bushido Produziert Sonny Black]\n",
    "addDeezer(mdbmaps, \"Top40\", \"d4e420120a039e03455ee8536740a0a0\", \"2128\")    ### [Goldfinger]\n",
    "addDeezer(mdbmaps, \"Top40\", \"d9de59336d2d408662aa03ad71e870b1\", \"4036827\")    ### [Andreas Kummert]\n",
    "addDeezer(mdbmaps, \"Top40\", \"5edc174fb5fefd278c05b53dbd1bd2e0\", \"14740207\")    ### [Prince Karma]\n",
    "addDeezer(mdbmaps, \"Top40\", \"603304c35dea9d2995f5ea307fc3e437\", \"5361924\")    ### [Judith Van Hel]\n",
    "addDeezer(mdbmaps, \"Top40\", \"18e08ec319bb5434ce1be10ede35b88d\", \"15224255\")    ### [KMN Gang]\n",
    "addDeezer(mdbmaps, \"Top40\", \"043c614068c79f134a62512dd92dd205\", \"4747977\")    ### [Meltem Acikgoz]\n",
    "addDeezer(mdbmaps, \"Top40\", \"f97c6800d97bc9b645de82758b1b616e\", \"4844456\")    ### [Minds Of 99]\n",
    "addDeezer(mdbmaps, \"Top40\", \"1f84610afa18b37896d9cb8c3ffb929a\", \"9356090\")    ### [POL1Z1STENS0HN]\n",
    "addAllMusic(mdbmaps, \"Top40\", \"7dbc379090f7843f537ea0df634b1aad\", \"mn0000748795\")   ### [Shifty]\n",
    "addDeezer(mdbmaps, \"Top40\", \"7dbc379090f7843f537ea0df634b1aad\", \"6677\")    ### [Shifty]\n",
    "addDeezer(mdbmaps, \"Top40\", \"a17bf82b0c99a5d6a9fdb61e1cba475b\", \"567150\")    ### [Leanne Moore]\n",
    "addDeezer(mdbmaps, \"Top40\", \"3a9adb2ba05512379660af30c4499d9e\", \"255246\")    ### [Seneca]\n",
    "addDeezer(mdbmaps, \"Top40\", \"18091df6740eb23606268e1fe70a832e\", \"262682\")    ### [Dustin The Turkey]\n",
    "addDeezer(mdbmaps, \"Top40\", \"ab0121020ea6f52f5dcc2b0ad8417684\", \"1569593\")    ### [Kanyu Tree]\n",
    "addDeezer(mdbmaps, \"Top40\", \"1feb0b498fd6b76e794cd4994499bd66\", \"471918\")    ### [Scuba Dice]\n",
    "addDeezer(mdbmaps, \"Top40\", \"3531e20a4eaab8cd5b085fc9605f6fba\", \"261093\")    ### [Martin Staunton Band]\n",
    "addDeezer(mdbmaps, \"Top40\", \"8d229bc5952f811627abcecf1a1d9f6d\", \"404641\")    ### [Soul Control]\n",
    "addAllMusic(mdbmaps, \"Top40\", \"c87cad8f7c42f2e678a0c18782869407\", \"mn0001951902\")   ### [Conway Sisters]\n",
    "addDeezer(mdbmaps, \"Top40\", \"c87cad8f7c42f2e678a0c18782869407\", \"5441329\")    ### [Conway Sisters]\n",
    "addDeezer(mdbmaps, \"Top40\", \"bf39144a5e6eb48401d5732ec4edddf4\", \"15811\")    ### [Delirious]\n",
    "addDeezer(mdbmaps, \"Top40\", \"d1029792b9078894873b1965b343540c\", \"262762\")    ### [Walls]\n",
    "addDiscogs(mdbmaps, \"Top40\", \"009bc268f4161c893c3469d0f475fa03\", \"393367\")    ### [The Revs]\n",
    "addDeezer(mdbmaps, \"Top40\", \"0166cabfe7594a261af1250ad91c5ebe\", \"3039\")    ### [Di-rect]\n",
    "addDeezer(mdbmaps, \"Top40\", \"79947bd82f85385cf579852761e3bcca\", \"5432668\")    ### [Grafa]\n",
    "addAllMusic(mdbmaps, \"Top40\", \"996dc2db2e60fc3de7a14828df795171\", \"mn0003729938\")   ### [Z. E.]\n",
    "addDeezer(mdbmaps, \"Top40\", \"73ea300db5aa1c2154adfe42186a887e\", \"5418\")    ### [Ark]\n",
    "addDeezer(mdbmaps, \"Top40\", \"c0e4ba1ede3532ccfde5b29e8aacc50b\", \"789194\")    ### [Skryabin]\n",
    "addDeezer(mdbmaps, \"Top40\", \"12a8a35953b0633264cd439f7dc723ad\", \"13244969\")    ### [Elias]\n",
    "addDiscogs(mdbmaps, \"Top40\", \"60044c2592b77d0e4a7d4df0d5fdcbba\", \"908078\")    ### [Julia Savicheva]\n",
    "addDiscogs(mdbmaps, \"Top40\", \"c8c1ade4a56b82b143856c2c590e3fc1\", \"369368\")    ### [Gola]\n",
    "addDiscogs(mdbmaps, \"Top40\", \"8422de1228cdf9aa9ee5888a858a98b1\", \"8707189\")   ### [Mihaela Fileva]\n",
    "addDeezer(mdbmaps, \"Top40\", \"8422de1228cdf9aa9ee5888a858a98b1\", \"5471912\")    ### [Mihaela Fileva]\n",
    "addDeezer(mdbmaps, \"Top40\", \"8e0a54291a8ae6add5c89ae6bd744591\", \"2077221\")    ### [Pavell]\n",
    "addDeezer(mdbmaps, \"Top40\", \"5793bffe6cf2b42fbcf5ecc4cdf66911\", \"4796386\")    ### [Venci Venc']\n",
    "addDeezer(mdbmaps, \"Top40\", \"e4a1ed07636cc650fcd92f2ee99a44fe\", \"1288678\")    ### [Lazza]\n",
    "addDeezer(mdbmaps, \"Top40\", \"c29dd858b42c5e8d6caecd0302c47dfe\", \"9060182\")    ### [Hov 1]\n",
    "addDeezer(mdbmaps, \"Top40\", \"981871e41d004689023b3867cca2003c\", \"4239461\")    ### [Maan]\n",
    "addDeezer(mdbmaps, \"Top40\", \"6eb8df7aacfb80b8a5aefbb8155dc13a\", \"247284\")    ### [George Sampanis]\n",
    "addDeezer(mdbmaps, \"Top40\", \"daf03202751046b2d8cc380e7535cc39\", \"529\")    ### [Raphael]\n",
    "addDeezer(mdbmaps, \"Top40\", \"8a65b04059e971e76dc736fcf1ab4dd2\", \"13440379\")    ### [Nino]\n",
    "addDeezer(mdbmaps, \"Top40\", \"1533082f4491090f90aa6f086be1b2b6\", \"4018571\")    ### [Arif]\n",
    "addDeezer(mdbmaps, \"Top40\", \"3e5169154b281b19469ce1fb806a3919\", \"795146\")    ### [Machete]\n",
    "addDeezer(mdbmaps, \"Top40\", \"cd5004d3b03507b93a5154c8f703ffb1\", \"1358419\")    ### [KataStrofe]\n",
    "addDeezer(mdbmaps, \"Top40\", \"f4c09b9cc9b7184e363a22d1a7565ef9\", \"176639\")    ### [Nitro]\n",
    "addDeezer(mdbmaps, \"Top40\", \"a2f3f9edf03e4bf85df289edf3084780\", \"58916452\")    ### [Dnoteondabeat]\n",
    "addDeezer(mdbmaps, \"Top40\", \"8bbd146262d01da925cec72df725f3cf\", \"11937599\")    ### [Blockparty]\n",
    "addDeezer(mdbmaps, \"Top40\", \"0d866c18af54941ec8f33ce3df4be902\", \"3848\")    ### [Elize]\n",
    "addDeezer(mdbmaps, \"Top40\", \"0c6423fdddb18f976061565d288baded\", \"1005065\")    ### [Como]\n",
    "addDiscogs(mdbmaps, \"Top40\", \"0f17d781876da4732563e43039aaaa8b\", \"448654\")   ### [L5 (Popstars)]\n",
    "addDeezer(mdbmaps, \"Top40\", \"ce3fbaee597ec5a524a308b812541f56\", \"214934\")    ### [Rebecca]\n",
    "addDeezer(mdbmaps, \"Top40\", \"ff69c3ee307619b22c2ee2969aea521d\", \"11328\")    ### [Dj Jose]\n",
    "addDiscogs(mdbmaps, \"Top40\", \"8f7b584aa940b5b8d46129956fee0c52\", \"2250857\")   ### [Vremia I Steklo]\n",
    "addDeezer(mdbmaps, \"Top40\", \"8f7b584aa940b5b8d46129956fee0c52\", \"4878214\")    ### [Vremia I Steklo]\n",
    "addDeezer(mdbmaps, \"Top40\", \"1af733e9abe9956b5d2ef9fdbb1ad764\", \"537741\")    ### [Grigoriy Leps]\n",
    "addDeezer(mdbmaps, \"Top40\", \"a2ee02d0ff400d2ec0d77d2aae27d098\", \"164423\")    ### [Stan]\n",
    "addDeezer(mdbmaps, \"Top40\", \"cb1a4cdd6178852f36aba64d12602d1a\", \"281011\")    ### [India Martinez]\n",
    "addDeezer(mdbmaps, \"Top40\", \"2fbb9be1f137d28d5d01a88b2a61c3a6\", \"1366660\")    ### [Taisiya Povaliy]\n",
    "addDeezer(mdbmaps, \"Top40\", \"43a4a6af3a411e6c9a24170f30c2815b\", \"13612387\")    ### [Maneskin]\n",
    "addDeezer(mdbmaps, \"Top40\", \"9318518ff509296fc43d312a9d65ff56\", \"101471\")    ### [Pegasus]\n",
    "addDeezer(mdbmaps, \"Top40\", \"0abaf01f580932db3646af80a6023868\", \"1710654\")    ### [Potap & Nastia]\n",
    "addAllMusic(mdbmaps, \"Top40\", \"e3b7acbc2078d13eafa2a765ce38115a\", \"mn0002080697\")   ### [Luttenberger & Klug]\n",
    "addDeezer(mdbmaps, \"Top40\", \"e3b7acbc2078d13eafa2a765ce38115a\", \"1495367\")    ### [Luttenberger & Klug]\n",
    "addAllMusic(mdbmaps, \"Top40\", \"760ffac9c884a2e8fabc13d4eb617e75\", \"mn0002744178\")   ### [Kevin]\n",
    "addDeezer(mdbmaps, \"Top40\", \"760ffac9c884a2e8fabc13d4eb617e75\", \"70615702\")    ### [Kevin]\n",
    "addAllMusic(mdbmaps, \"Top40\", \"c4bfdaef6a75c5b92d4314bed5324ac9\", \"mn0003060329\")   ### [V. Meladze]\n",
    "addDeezer(mdbmaps, \"Top40\", \"c4bfdaef6a75c5b92d4314bed5324ac9\", \"4251519\")    ### [V. Meladze]\n",
    "addDiscogs(mdbmaps, \"Top40\", \"c4bfdaef6a75c5b92d4314bed5324ac9\", \"753179\")\n",
    "addDeezer(mdbmaps, \"Top40\", \"299683e0e48d3508d34c59fd60d1c969\", \"6138354\")    ### [Lora Karadzhova]\n",
    "addAllMusic(mdbmaps, \"Top40\", \"9277fef69257e9c368980e44addab30d\", \"mn0002598754\")   ### [Tove Ostman Styrke]\n",
    "addDiscogs(mdbmaps, \"Top40\", \"9277fef69257e9c368980e44addab30d\", \"2023759\")    ### [Tove Ostman Styrke]\n",
    "addAllMusic(mdbmaps, \"Top40\", \"a2b07050b3a3158923a626ecd79a9a99\", \"mn0002764822\")\n",
    "addDiscogs(mdbmaps, \"Top40\", \"a2b07050b3a3158923a626ecd79a9a99\", \"2241934\")   ### [Maksim Barskih]\n",
    "addDeezer(mdbmaps, \"Top40\", \"a2b07050b3a3158923a626ecd79a9a99\", \"1365309\")    ### [Maksim Barskih]\n",
    "addDeezer(mdbmaps, \"Top40\", \"f5cfbe3d9410cd26c9f5db2f5d00e2af\", \"64976\")    ### [Yasin]\n",
    "addAllMusic(mdbmaps, \"Top40\", \"2da7b3559029e16c501f19f2ca9e1f3d\", \"mn0001509405\")   ### [Valeria]\n",
    "addDiscogs(mdbmaps, \"Top40\", \"2da7b3559029e16c501f19f2ca9e1f3d\", \"907332\")    ### [Valeria]\n",
    "addDeezer(mdbmaps, \"Top40\", \"71495276459b2c8d9319a4f23736b1fe\", \"4188612\")    ### [NeAngely]\n",
    "addDiscogs(mdbmaps, \"Top40\", \"df1a1cf249844e537d5f8e301999f050\", \"508430\")   ### [Romeo]\n",
    "addDeezer(mdbmaps, \"Top40\", \"df1a1cf249844e537d5f8e301999f050\", \"66510\")    ### [Romeo]\n",
    "addDiscogs(mdbmaps, \"Top40\", \"ddcae8e624e066c57c1a76f7a50c3be5\", \"5163802\")   ### [Pianoboy]\n",
    "addDeezer(mdbmaps, \"Top40\", \"ddcae8e624e066c57c1a76f7a50c3be5\", \"4444748\")    ### [Pianoboy]\n",
    "addDeezer(mdbmaps, \"Top40\", \"57dd82cd58ebc1ee03495e7111f68837\", \"69824902\")    ### [Adel]\n",
    "addDeezer(mdbmaps, \"Top40\", \"9790bfbf128c234ff3dfe9734a29112d\", \"3097771\")   ### [S. Tarabarova]\n",
    "addDiscogs(mdbmaps, \"Top40\", \"9790bfbf128c234ff3dfe9734a29112d\", \"3180922\")    ### [S. Tarabarova]\n",
    "addAllMusic(mdbmaps, \"Top40\", \"e87ca03c7907697d6b985a36efec96b3\", \"mn0000907539\")   ### [Dolcenera]\n",
    "addDeezer(mdbmaps, \"Top40\", \"e87ca03c7907697d6b985a36efec96b3\", \"77036\")    ### [Dolcenera]\n",
    "addDiscogs(mdbmaps, \"Top40\", \"1a1c4cd2bf4d0da1c3ac37eed6c5e6dd\", \"349539\")   ### [Seer]\n",
    "addDiscogs(mdbmaps, \"Top40\", \"479632c7dad0bc6491b1dc428c2f384b\", \"323925\")   ### [Carola]\n",
    "addDeezer(mdbmaps, \"Top40\", \"479632c7dad0bc6491b1dc428c2f384b\", \"9621\")    ### [Carola]\n",
    "addDeezer(mdbmaps, \"Top40\", \"1018fb9997d689d2cfbeb250cba1e0fc\", \"8731\")    ### [Erika]\n",
    "addAllMusic(mdbmaps, \"Top40\", \"74d19220f1e9035dc9be17ab0fa7d496\", \"mn0003059139\")   ### [Gradysi]\n",
    "addDeezer(mdbmaps, \"Top40\", \"5eb7994fa8fc5d454eb9975e8d0982b3\", \"8399\")    ### [Wigwam]\n",
    "addDeezer(mdbmaps, \"Top40\", \"ec7bcd247bd91b161fd3e236faf60113\", \"8359\")    ### [Laura]\n",
    "addDeezer(mdbmaps, \"Top40\", \"8cc666d82558e9a3801428ce9377e0cc\", \"243610\")    ### [Eri Esittajia]\n",
    "addDeezer(mdbmaps, \"Top40\", \"14035f38e39640c7b8a126848f15a17f\", \"6329\")    ### [Belinda]\n",
    "addDeezer(mdbmaps, \"Top40\", \"ace5274eac9ac83ecc8be584f2f89678\", \"389681\")    ### [Jezabels]\n",
    "addDeezer(mdbmaps, \"Top40\", \"f808aec316082282ad04c543ea7293fc\", \"1532710\")    ### [Gossling]\n",
    "addDeezer(mdbmaps, \"Top40\", \"8248a0d3d76dd9b6e989ed30758e1fdb\", \"7727636\")    ### [Young Tapz]\n",
    "addDeezer(mdbmaps, \"Top40\", \"9abfa0a95115150fa9854d05888b30ad\", \"323\")    ### [T-pain]\n",
    "addDeezer(mdbmaps, \"Top40\", \"9eb2641c9d801ac6a24cd6d40a99cfcc\", \"1226315\")    ### [J.williams]\n",
    "addDeezer(mdbmaps, \"Top40\", \"d8efa30039a62c84a5cd7aae07baaed4\", \"9388984\")    ### [Jess & Matt]\n",
    "addDeezer(mdbmaps, \"Top40\", \"3b51465a51f53de3f9406c8c4084b9eb\", \"4771547\")    ### [Hannah]\n",
    "addDeezer(mdbmaps, \"Top40\", \"ff33e0cca2bc86ca1c8aca2edf6ad878\", \"146348\")    ### [M.V.P.]\n",
    "addDeezer(mdbmaps, \"Top40\", \"7670c11b0a85e757c3cd25e1cb4f0d2b\", \"121457\")    ### [Dakota]\n",
    "addDeezer(mdbmaps, \"Top40\", \"aca525c6189a7e1746b237ac3c8e75f1\", \"241381\")    ### [OpShop]\n",
    "addDeezer(mdbmaps, \"Top40\", \"75addee6118eeea8b15dfa7d27a7bc56\", \"132842\")    ### [Gin]\n",
    "addDeezer(mdbmaps, \"Top40\", \"40841ab93e4bc05dbd354f23e76fa1ae\", \"537158\")    ### [Sean Og]\n",
    "addDeezer(mdbmaps, \"Top40\", \"8a8901e987f198d467979ba02675bf2a\", \"480089\")    ### [360]\n",
    "addDeezer(mdbmaps, \"Top40\", \"8b8ee2fa941154779a27093f715c82c1\", \"2476\")    ### [Whitlams]\n",
    "addDeezer(mdbmaps, \"Top40\", \"f1e6489254cab6f1fcbe17478f66812d\", \"9164\")    ### [Presets]\n",
    "addDeezer(mdbmaps, \"Top40\", \"4cbe8a7a881e6bbb1b2ad97de6caa28c\", \"76000\")    ### [Stellar]\n",
    "addDeezer(mdbmaps, \"Top40\", \"33db69043854dc72c7ae28f79e66b295\", \"134078\")    ### [Bleeders]\n",
    "addDeezer(mdbmaps, \"Top40\", \"5fbe502afaeea5cd3894fbbacc76d0f0\", \"72186\")    ### [Frontline]\n",
    "addAllMusic(mdbmaps, \"Top40\", \"8776b0955cc02e70c84df62f5d08783c\", \"mn0000288296\")   ### [k-os]\n",
    "addDeezer(mdbmaps, \"Top40\", \"8776b0955cc02e70c84df62f5d08783c\", \"1666\")    ### [k-os]\n",
    "addDeezer(mdbmaps, \"Top40\", \"34110bca84cc003cb7f9663d441b97f3\", \"404975\")    ### [Swiss]\n",
    "addDeezer(mdbmaps, \"Top40\", \"cf724ae1b389235411e9848ab2492b86\", \"1263309\")    ### [Jason Kerrison]\n",
    "addDeezer(mdbmaps, \"Top40\", \"92b769e55de140d27e26b4f52382dc3c\", \"4344203\")    ### [JGeek]\n",
    "addDeezer(mdbmaps, \"Top40\", \"fe6ff35dd5203e256dddc02fa796c5f6\", \"5611287\")    ### [Arise Church]\n",
    "addDeezer(mdbmaps, \"Top40\", \"b877108ea31ee744be61d4cf33ddf382\", \"4423398\")    ### [Lavina Williams]\n",
    "addDeezer(mdbmaps, \"Top40\", \"fd41667c368acecbf8d672b7afbed008\", \"476858\")    ### [Aftermath]\n",
    "addDeezer(mdbmaps, \"Top40\", \"3682bbc007fa90e18375fa5edb0c37b3\", \"76360\")    ### [Toya]\n",
    "addDeezer(mdbmaps, \"Top40\", \"4157b21887eedb61b04d15ae42183eae\", \"4757049\")    ### [Dolla & Skeet]\n",
    "addDeezer(mdbmaps, \"Top40\", \"a663ace511580671d69a6b3f916fe919\", \"1116771\")    ### [Catfish & The Bottlemen]\n",
    "addDiscogs(mdbmaps, \"Top40\", \"dc9afe97092e87a01ec4127299268b14\", \"97648\")    ### [Tone]\n",
    "addAllMusic(mdbmaps, \"Top40\", \"c0051ae12f6048a807213c44b434aa1d\", \"mn0003348925\")   ### [Jennifer Lawrence]\n",
    "addDeezer(mdbmaps, \"Top40\", \"c0051ae12f6048a807213c44b434aa1d\", \"7196728\")    ### [Jennifer Lawrence]\n",
    "\n",
    "mdbmaps[\"Top40\"].save()"
   ]
  },
  {
   "cell_type": "markdown",
   "metadata": {
    "heading_collapsed": true
   },
   "source": [
    "## BillboardYE"
   ]
  },
  {
   "cell_type": "code",
   "execution_count": null,
   "metadata": {
    "hidden": true
   },
   "outputs": [],
   "source": [
    "addDeezer(mdbmaps, \"BillboardYE\", \"52a0965785c941aa958b64dc50f3d972\", \"176485\")    ### [Fuego]\n",
    "addDeezer(mdbmaps, \"BillboardYE\", \"ccc783c2cd738ace20a5315e7d43e547\", \"3069\")    ### [Rakim]\n",
    "addDeezer(mdbmaps, \"BillboardYE\", \"edac53ed142896746b3bd4c681c12f64\", \"347454\")    ### [Tim / Berg]\n",
    "addDeezer(mdbmaps, \"BillboardYE\", \"a7fa9eedf990ab73ba0d7e60db65c95d\", \"9081\")    ### [Eric Prydz Vs. Floyd]\n",
    "addDeezer(mdbmaps, \"BillboardYE\", \"fbe56cc641e9d04e1b4fcdd924a9c8cc\", \"318079\")    ### [Carlos y Alejandra]\n",
    "\n",
    "addDeezer(mdbmaps, \"BillboardYE\", \"37f8c0772c31a769f56239563ad7b458\", \"6500875\")    ### [Anuel]\n",
    "addDeezer(mdbmaps, \"BillboardYE\", \"1c014b1998bb4fab0322f211eec0c611\", \"445119\")    ### [La Adictiva]\n",
    "addDeezer(mdbmaps, \"BillboardYE\", \"17d5bdd02ad4dee110445a03f919b8ac\", \"57843\")    ### [Marlon]\n",
    "addDeezer(mdbmaps, \"BillboardYE\", \"33ab8be62d65b7d75df716432b86336f\", \"240427\")    ### [Sky]\n",
    "addDeezer(mdbmaps, \"BillboardYE\", \"c133daae0111978ba09001d2e7de72f1\", \"5611\")    ### [Willie Colon]\n",
    "addDeezer(mdbmaps, \"BillboardYE\", \"6510784503b99747dfee77f5a079476d\", \"50683152\")    ### [Banda MS de Sergio Lizarraga\n",
    "addDeezer(mdbmaps, \"BillboardYE\", \"3f5ee815ed36b113db281ce7ed332da4\", \"71922\")    ### [Dino]\n",
    "addDeezer(mdbmaps, \"BillboardYE\", \"8046ee19ecf0576f13f6520114447c52\", \"325722\")    ### [James Lloyd]\n",
    "addDeezer(mdbmaps, \"BillboardYE\", \"73a58c444f3a947331cc0f62fff0cfd5\", \"628982\")    ### [Bastien Laval]\n",
    "addDeezer(mdbmaps, \"BillboardYE\", \"e28b088f9d859934e4e4cbb39c431199\", \"4948050\")    ### [Il Pomo d'Oro]\n",
    "addDeezer(mdbmaps, \"BillboardYE\", \"ef95f8a3355a4bbe43fceb8f72be7f9f\", \"145155\")    ### [Divino]\n",
    "addDeezer(mdbmaps, \"BillboardYE\", \"adc972062945092b4343017780b6c242\", \"4065944\")    ### [Hnos. Vega Jr.]\n",
    "addDeezer(mdbmaps, \"BillboardYE\", \"8e9f75d573db0b3fd1c5e8b48e3301cc\", \"4330924\")    ### [Codigo FN]\n",
    "\n",
    "addAllMusic(mdbmaps, \"BillboardYE\", \"0daf21abe59aac57d10e0fe76f304077\", \"mn0002686289\")   ### [Ben Williams]\n",
    "addDeezer(mdbmaps, \"BillboardYE\", \"0daf21abe59aac57d10e0fe76f304077\", \"485014\")    ### [Ben Williams]\n",
    "addDeezer(mdbmaps, \"BillboardYE\", \"093b82ff928d96dddbc505cd2f1ddb1f\", \"469114\")    ### [AB Quintanilla]\n",
    "addDeezer(mdbmaps, \"BillboardYE\", \"d98278206c2f7c2e6232599ee9cb6bc0\", \"145593\")    ### [Adam Holzman]\n",
    "addDeezer(mdbmaps, \"BillboardYE\", \"dd88591508a27fecc4b05c47f7d9698f\", \"108626102\")    ### [James F. Twyman]\n",
    "\n",
    "mdbmaps[\"BillboardYE\"].save()"
   ]
  },
  {
   "cell_type": "markdown",
   "metadata": {
    "heading_collapsed": true
   },
   "source": [
    "## Billboard"
   ]
  },
  {
   "cell_type": "code",
   "execution_count": null,
   "metadata": {
    "hidden": true
   },
   "outputs": [],
   "source": [
    "addDeezer(mdbmaps, \"Billboard\", \"4f617f7ae1994485f0c6fb1e739faa0f\", \"11064346\")    ### [Anibal de Gracia y Sus Invitados]\n",
    "\n",
    "addDeezer(mdbmaps, \"Billboard\", \"246d14ae520c0bd8adc50cb10538805a\", \"93555\")    ### [Lalo Rodriguez]\n",
    "addDeezer(mdbmaps, \"Billboard\", \"1f591df9ecc72cdbecc5ca37c953b722\", \"58203022\")    ### [Joe Sambo]\n",
    "addAllMusic(mdbmaps, \"Billboard\", \"0ac87a2703773df3ee90f35051976d6e\", \"mn0003205412\")   ### [Yuan Yawei]\n",
    "addDeezer(mdbmaps, \"Billboard\", \"5614aee754da6707437a67aba21ae97b\", \"9846490\")    ### [Gabo Parisi]\n",
    "addDeezer(mdbmaps, \"Billboard\", \"c751a299bc9b7926f25dd12c5c16c40b\", \"6459251\")    ### [Los de La Nazza]\n",
    "addDeezer(mdbmaps, \"Billboard\", \"f0ea2c0f6ed64d3d6bc31d1f381092b0\", \"5138573\")    ### [Cantor Yitzchak Meir Helfgot]\n",
    "addDeezer(mdbmaps, \"Billboard\", \"3c2a14f3f9126d17f7f2fdbfd3e04295\", \"5162473\")    ### [Joe Vasconcelos]\n",
    "addDeezer(mdbmaps, \"Billboard\", \"fa0c3060dc1ed49905865587788668b7\", \"4277041\")    ### [Hector]\n",
    "addDeezer(mdbmaps, \"Billboard\", \"d03d6af3ef8c0c4d1e104fe65d94cfb0\", \"111522992\")    ### [Matsuri Nine.]\n",
    "addDiscogs(mdbmaps, \"Billboard\", \"75d13abe72774129842a4beff75739ea\", \"7964912\")    ### [The Elovaters]\n",
    "addDeezer(mdbmaps, \"Billboard\", \"75d13abe72774129842a4beff75739ea\", \"11723379\")    ### [The Elovaters]\n",
    "addDeezer(mdbmaps, \"Billboard\", \"ae1cfe75bb6f91da7d223452168a3d59\", \"65634\")    ### [Vicious]\n",
    "addAllMusic(mdbmaps, \"Billboard\", \"1f6381c06850170b54c95e6a596ffb28\", \"mn0003782313\")   ### [Ken Tackey]\n",
    "addDeezer(mdbmaps, \"Billboard\", \"6b3628493b920913e8d550fd3eb75703\", \"10908080\")    ### [Hoo Leeger]\n",
    "addDeezer(mdbmaps, \"Billboard\", \"bee91a30c653a9d5146bdce553318cf4\", \"11975779\")    ### [Hwang ChiYeul]\n",
    "addAllMusic(mdbmaps, \"Billboard\", \"7270cf68e89cab0f5febe2edaed0b7d6\", \"mn0003487021\")   ### [Subaru Shibuya]\n",
    "addAllMusic(mdbmaps, \"Billboard\", \"42bb5146be764807cc62ea7cd44bff02\", \"mn0002503541\")   ### [CNBLUE]\n",
    "addDeezer(mdbmaps, \"Billboard\", \"42bb5146be764807cc62ea7cd44bff02\", \"1492698\")    ### [CNBLUE]\n",
    "addDeezer(mdbmaps, \"Billboard\", \"24d5cd50291e2b5c4c2eb9f3cddce277\", \"65336\")    ### [Fiji]\n",
    "addDeezer(mdbmaps, \"Billboard\", \"725c8f573f9f00fd36ea148172338bbc\", \"133611\")    ### [L'arc En Ciel]\n",
    "addAllMusic(mdbmaps, \"Billboard\", \"1d5e1f09e81138a1f8efc590f757fc8e\", \"mn0003255680\")   ### [Kakigoori]\n",
    "addDiscogs(mdbmaps, \"Billboard\", \"a626013386ca6bc138efacdf05aa7a96\", \"380314\")    ### [Mickey]\n",
    "\n",
    "addDeezer(mdbmaps, \"Billboard\", \"8cf125b4398ec24a60757a1ae0dbde6a\", \"100731\")    ### [Yuri]\n",
    "addDeezer(mdbmaps, \"Billboard\", \"1a437e23ad6fb8d3077e86589b52a1a3\", \"9029\")    ### [Lucero]\n",
    "addDeezer(mdbmaps, \"Billboard\", \"a1afb34f24048e019a601fbb42ae6180\", \"16319\")    ### [Banda El Recodo]\n",
    "addDeezer(mdbmaps, \"Billboard\", \"4b8310b8cd692ffb4a081e8bb4f69ed9\", \"16599\")    ### [Pandora]\n",
    "addDeezer(mdbmaps, \"Billboard\", \"e75095d73c04898447d4658e618263f3\", \"1641733\")    ### [Jessie Morales: El Original De La Sierra]\n",
    "addDeezer(mdbmaps, \"Billboard\", \"bff236756e7bf0dd73d59584e3e1bfe7\", \"4962433\")    ### [Rogelio Martinez \"EL RM\"]\n",
    "addDeezer(mdbmaps, \"Billboard\", \"c9e0e91d959d73ff5edfb706e6ffa684\", \"149\")    ### [iiO]\n",
    "addDeezer(mdbmaps, \"Billboard\", \"bb927e3aee770897812deb1e8ab31eae\", \"264210\")    ### [Anaís]\n",
    "addAllMusic(mdbmaps, \"Billboard\", \"ddc76b91c35812592603fed613d14f13\", \"mn0000392577\")   ### [R. Ayala]\n",
    "addDiscogs(mdbmaps, \"Billboard\", \"ddc76b91c35812592603fed613d14f13\", \"5845005\")    ### [R. Ayala]\n",
    "addDeezer(mdbmaps, \"Billboard\", \"ddc76b91c35812592603fed613d14f13\", \"115142\")    ### [R. Ayala]\n",
    "\n",
    "addDeezer(mdbmaps, \"Billboard\", \"878d720ee17c0c0a4ef8f071950f88f6\", \"17053\")    ### [Voyage]\n",
    "addDeezer(mdbmaps, \"Billboard\", \"d2122c257dd5b8a3c4c0ac06b2abd0e2\", \"78111\")    ### [The Chimes]\n",
    "addDeezer(mdbmaps, \"Billboard\", \"9ab14919e655dc9669042291d6771569\", \"7298\")    ### [Andy Bell]\n",
    "addDeezer(mdbmaps, \"Billboard\", \"6c9e35fa812bd11f2496be3aa1076cd2\", \"1436738\")    ### [Kimberly Davis]\n",
    "addDeezer(mdbmaps, \"Billboard\", \"a4952315ff2618cc4b878de65a4dfe6a\", \"494171\")    ### [Fever]\n",
    "addDeezer(mdbmaps, \"Billboard\", \"d79329a688889810aa7ee43aef41c59b\", \"975\")    ### [Lime]\n",
    "addDeezer(mdbmaps, \"Billboard\", \"e8b586570af23bcd228f54f4af667358\", \"10716495\")    ### [Slingshot]\n",
    "addDeezer(mdbmaps, \"Billboard\", \"37f4a4ef2c5a3db1176b0d514fc5ebf1\", \"264546\")    ### [Bingo Boys]\n",
    "addDeezer(mdbmaps, \"Billboard\", \"cafd8f2f1480ab5c07e5a677f94539a2\", \"149\")    ### [iio]\n",
    "addDeezer(mdbmaps, \"Billboard\", \"c858d2c428f54d66c563a498860fbf56\", \"184317\")    ### [Dany]\n",
    "addDeezer(mdbmaps, \"Billboard\", \"261a823373b1c2d3538e401b824a0705\", \"120034\")    ### [Gia]\n",
    "addDeezer(mdbmaps, \"Billboard\", \"52aac3cde8dbb07e987225096f7d3df7\", \"9710684\")    ### [GOODBOYS]\n",
    "\n",
    "addDeezer(mdbmaps, \"Billboard\", \"dd9ca9f1eec3ec7324764098928fa90a\", \"62490\")    ### [Nils]\n",
    "addDeezer(mdbmaps, \"Billboard\", \"8126b866ffdc150d799057c736ff708e\", \"577628\")    ### [Steve Oliver]\n",
    "addDeezer(mdbmaps, \"Billboard\", \"4eb35c41efdc8495ebca5e64cb723217\", \"4518873\")    ### [Jeff Ryan]\n",
    "addDeezer(mdbmaps, \"Billboard\", \"96aa7eddeddf7079189c5f9c2feb0378\", \"1594391\")    ### [Kim Scott]\n",
    "\n",
    "addDeezer(mdbmaps, \"Billboard\", \"a0ec3ffe08120ccf0c9b5345714a5c51\", \"2743\")    ### [LTD]\n",
    "addDiscogs(mdbmaps, \"Billboard\", \"fa00044058206494d4335094632fe4eb\", \"83751\")    ### [Boss]\n",
    "addDeezer(mdbmaps, \"Billboard\", \"9a0fdd63c4aa97fc9716413a6111c187\", \"148184\")    ### [Enchantment]\n",
    "addDeezer(mdbmaps, \"Billboard\", \"ef9d8e82a6937e87668db5702cd43b2f\", \"1816361\")    ### [UMC's]\n",
    "addDeezer(mdbmaps, \"Billboard\", \"71e904485de1ca65917eb99f886f9c4d\", \"69608322\")    ### [Marty]\n",
    "addDeezer(mdbmaps, \"Billboard\", \"7a85a9d8804e19413bab514f5f51dfb9\", \"8322164\")    ### [Donnie Trumpet & The Social Experiment]\n",
    "addDeezer(mdbmaps, \"Billboard\", \"4fdc8908f2ee7ad25e35f2ad9531c681\", \"15080705\")    ### [Dennis Reed & Gap]\n",
    "addDeezer(mdbmaps, \"Billboard\", \"6c999baddd68939e501aa0561d3e0eda\", \"4052173\")    ### [King Bach]\n",
    "addDeezer(mdbmaps, \"Billboard\", \"ba6cb719ca53bf4f57ecdcd6bd342bf5\", \"59927\")    ### [Magoo]\n",
    "addDeezer(mdbmaps, \"Billboard\", \"55be138b7b3faad5764a62dc13c9c402\", \"1236346\")    ### [John Reilly]\n",
    "addDeezer(mdbmaps, \"Billboard\", \"4ba36e510dd7bbd2009fb8ff90aa48c7\", \"1575744\")    ### [Francis & The Lights]\n",
    "addDeezer(mdbmaps, \"Billboard\", \"07c0deba90ed751e5c2ec92d0d60d7dd\", \"59218332\")    ### [Brooke Staten]\n",
    "\n",
    "addDeezer(mdbmaps, \"Billboard\", \"66dca5283eac29a7b8c9714ed919bb78\", \"442981\")    ### [Red Sun Rising]\n",
    "addDeezer(mdbmaps, \"Billboard\", \"7087547bca580c898106d8f7eb761f58\", \"251366\")    ### [Michael Peterson]\n",
    "addDeezer(mdbmaps, \"Billboard\", \"b470feb6f3d72bfae87a83e16dd83886\", \"76640\")    ### [Sons of the Desert]\n",
    "\n",
    "addDeezer(mdbmaps, \"Billboard\", \"a6fbf98a79a048834d50ce68d67ad442\", \"546\")    ### [Mya]\n",
    "addDeezer(mdbmaps, \"Billboard\", \"3bb7b26b6dee914d5d35651092ebbd38\", \"123941\")    ### [Questian Mark & The Mysterians]\n",
    "addDeezer(mdbmaps, \"Billboard\", \"c5281bc610aaf5fcb1be3ea9b5aef4a7\", \"1078918\")    ### [Bo Donaldson And The Heywoods]\n",
    "addDeezer(mdbmaps, \"Billboard\", \"ee476cb24bebb0cbe4d7061b0d33a707\", \"1533511\")    ### [Rock Star Supernova]\n",
    "addDeezer(mdbmaps, \"Billboard\", \"31aa5ad81b2a6342572b6bd54425deae\", \"390649\")    ### [Iration]\n",
    "addDeezer(mdbmaps, \"Billboard\", \"808c8b3a9909c7d7a3e5753792d1b995\", \"1225601\")    ### [LV]\n",
    "\n",
    "mdbmaps[\"Billboard\"].save()"
   ]
  },
  {
   "cell_type": "code",
   "execution_count": null,
   "metadata": {
    "hidden": true
   },
   "outputs": [],
   "source": [
    "updateManDB(2)"
   ]
  },
  {
   "cell_type": "code",
   "execution_count": null,
   "metadata": {
    "hidden": true,
    "scrolled": false
   },
   "outputs": [],
   "source": [
    "toMatchDF = DataFrame({item[0]: {\"ArtistName\": item[1][\"ArtistName\"], \"ArtistAlbums\": item[1][\"ArtistAlbums\"]} for item in toMatch[chartType]}).T\n",
    "toMatchDF[\"NumAlbums\"] = toMatchDF[\"ArtistAlbums\"].apply(len)\n",
    "toMatchDF = toMatchDF.sort_values(by=\"NumAlbums\", ascending=False)\n",
    "\n",
    "for idx,row in toMatchDF.iterrows():\n",
    "    artistName = row[\"ArtistName\"]\n",
    "    albumNames = row[\"ArtistAlbums\"]\n",
    "    nAlbums    = row[\"NumAlbums\"]\n",
    "    if nAlbums >= 1:\n",
    "        print(artistName,'\\t',nAlbums)\n",
    "    else:\n",
    "        break\n",
    "#https://kworb.net/itunes/extended.html\n",
    "\n"
   ]
  },
  {
   "cell_type": "markdown",
   "metadata": {},
   "source": [
    "# Renames"
   ]
  },
  {
   "cell_type": "code",
   "execution_count": null,
   "metadata": {},
   "outputs": [],
   "source": [
    "cad.getArtistData(\"Dream\")"
   ]
  },
  {
   "cell_type": "code",
   "execution_count": null,
   "metadata": {},
   "outputs": [],
   "source": [
    "toget, togetID, dbRenames = analyzeMatches(maindb, mdbmaps, chartType, maxVal=1.0, diffVal=1.0)\n",
    "analyzeRenames(manDB, dbRenames)"
   ]
  },
  {
   "cell_type": "code",
   "execution_count": null,
   "metadata": {},
   "outputs": [],
   "source": [
    "updateManDB(2)"
   ]
  },
  {
   "cell_type": "code",
   "execution_count": null,
   "metadata": {},
   "outputs": [],
   "source": [
    "togetID"
   ]
  },
  {
   "cell_type": "code",
   "execution_count": null,
   "metadata": {},
   "outputs": [],
   "source": [
    "from dbArtistsAllMusic import dbArtistsAllMusic\n",
    "from dbArtistsDiscogs import dbArtistsDiscogs\n",
    "dbAP = dbArtistsAllMusic()\n",
    "\n",
    "\n",
    "\n",
    "\n",
    "artistURLs=[\"https://www.allmusic.com/artist/heat-mn0002185241\"]\n",
    "for artistURL in artistURLs:\n",
    "    artistID=dbAP.dutils.getArtistID(artistURL)\n",
    "    savename=dbAP.dutils.getArtistSavename(artistID)\n",
    "    dbAP.dutils.downloadArtistURL(artistURL, savename)\n",
    "    \n",
    "dbAP = dbArtistsDiscogs()\n",
    "artistURLs=['https://www.discogs.com/artist/60136-Catch', 'https://www.discogs.com/artist/3143651-Honey-31', 'https://www.discogs.com/artist/346187-Jeanette-Biedermann']\n",
    "for artistURL in artistURLs:\n",
    "    artistID=dbAP.dutils.getArtistID(artistURL)\n",
    "    savename=dbAP.dutils.getArtistSavename(artistID)\n",
    "    dbAP.dutils.downloadArtistURL(artistURL, savename)\n",
    "\n",
    "#Artist ID [0003255680] is not a member of artistIDToName.\n",
    "#Artist ID [0002503541] is not a member of artistIDToName.\n",
    "#Artist ID [0003487021] is not a member of artistIDToName.\n",
    "#Artist ID [7964912] is not a member of artistIDToName.\n",
    "#Artist ID [0003205412] is not a member of artistIDToName."
   ]
  },
  {
   "cell_type": "code",
   "execution_count": null,
   "metadata": {},
   "outputs": [],
   "source": [
    "from dbArtistsDeezer import dbArtistsDeezer\n",
    "from time import sleep\n",
    "dbAP = dbArtistsDeezer()\n",
    "print(togetID.keys())\n",
    "for db in togetID.keys():\n",
    "    if db != \"Deezer\":\n",
    "        continue\n",
    "    for dbID,artistName in togetID[\"Deezer\"].items():\n",
    "        artistURL = dbAP.getArtistURL(dbID)\n",
    "        artistSavename = dbAP.dutils.getArtistSavename(dbID)\n",
    "        try:\n",
    "            dbAP.dutils.downloadArtistURL(artistURL, artistSavename, force=False, sleeptime=2)\n",
    "        except:\n",
    "            sleep(2)"
   ]
  },
  {
   "cell_type": "code",
   "execution_count": null,
   "metadata": {},
   "outputs": [],
   "source": [
    "updateManDB(4)"
   ]
  },
  {
   "cell_type": "code",
   "execution_count": null,
   "metadata": {},
   "outputs": [],
   "source": [
    "removeDBRenames(mdbmaps, chartType, dbRenames)"
   ]
  },
  {
   "cell_type": "code",
   "execution_count": null,
   "metadata": {},
   "outputs": [],
   "source": [
    "updateManDB(4)"
   ]
  },
  {
   "cell_type": "markdown",
   "metadata": {
    "heading_collapsed": true
   },
   "source": [
    "# Suffix"
   ]
  },
  {
   "cell_type": "code",
   "execution_count": null,
   "metadata": {
    "hidden": true
   },
   "outputs": [],
   "source": []
  },
  {
   "cell_type": "code",
   "execution_count": null,
   "metadata": {
    "hidden": true
   },
   "outputs": [],
   "source": [
    "\n",
    "\n",
    "mdbmaps[\"BillboardYE\"].save()"
   ]
  },
  {
   "cell_type": "code",
   "execution_count": null,
   "metadata": {
    "hidden": true
   },
   "outputs": [],
   "source": [
    "cad.getAlbumsData(\"George Frideric Handel: Messiah\")"
   ]
  },
  {
   "cell_type": "code",
   "execution_count": null,
   "metadata": {
    "hidden": true
   },
   "outputs": [],
   "source": [
    "updateManDB(2)"
   ]
  },
  {
   "cell_type": "code",
   "execution_count": null,
   "metadata": {
    "hidden": true
   },
   "outputs": [],
   "source": [
    "updateManDB(2)"
   ]
  },
  {
   "cell_type": "code",
   "execution_count": null,
   "metadata": {
    "hidden": true
   },
   "outputs": [],
   "source": []
  },
  {
   "cell_type": "code",
   "execution_count": null,
   "metadata": {
    "hidden": true
   },
   "outputs": [],
   "source": []
  },
  {
   "cell_type": "code",
   "execution_count": null,
   "metadata": {
    "hidden": true
   },
   "outputs": [],
   "source": []
  },
  {
   "cell_type": "code",
   "execution_count": null,
   "metadata": {
    "hidden": true
   },
   "outputs": [],
   "source": [
    "\n",
    "\n",
    "mdbmaps[\"BillboardYE\"].save()"
   ]
  },
  {
   "cell_type": "code",
   "execution_count": null,
   "metadata": {
    "hidden": true
   },
   "outputs": [],
   "source": []
  },
  {
   "cell_type": "code",
   "execution_count": null,
   "metadata": {
    "hidden": true
   },
   "outputs": [],
   "source": []
  },
  {
   "cell_type": "code",
   "execution_count": null,
   "metadata": {
    "hidden": true
   },
   "outputs": [],
   "source": [
    "updateManDB(2)"
   ]
  },
  {
   "cell_type": "code",
   "execution_count": null,
   "metadata": {
    "hidden": true
   },
   "outputs": [],
   "source": [
    "cad.getAlbumsData(\"Common Ground\")"
   ]
  },
  {
   "cell_type": "code",
   "execution_count": null,
   "metadata": {
    "hidden": true
   },
   "outputs": [],
   "source": [
    "updateManDB(2)"
   ]
  },
  {
   "cell_type": "markdown",
   "metadata": {
    "heading_collapsed": true
   },
   "source": [
    "# Analyze Matches"
   ]
  },
  {
   "cell_type": "code",
   "execution_count": null,
   "metadata": {
    "hidden": true
   },
   "outputs": [],
   "source": []
  },
  {
   "cell_type": "code",
   "execution_count": null,
   "metadata": {
    "hidden": true
   },
   "outputs": [],
   "source": []
  },
  {
   "cell_type": "code",
   "execution_count": null,
   "metadata": {
    "hidden": true
   },
   "outputs": [],
   "source": []
  },
  {
   "cell_type": "code",
   "execution_count": null,
   "metadata": {
    "hidden": true
   },
   "outputs": [],
   "source": []
  },
  {
   "cell_type": "code",
   "execution_count": null,
   "metadata": {
    "hidden": true
   },
   "outputs": [],
   "source": []
  },
  {
   "cell_type": "code",
   "execution_count": null,
   "metadata": {
    "hidden": true
   },
   "outputs": [],
   "source": [
    "1/0\n",
    "addAllMusic(mdbmaps, \"Top40\", \"b67c4a39d846b0e14fcda8299193701a\", \"mn0000417717\")   ### [Raybion Bros.]\n",
    "addDiscogs(mdbmaps, \"Top40\", \"b67c4a39d846b0e14fcda8299193701a\", \"2188194\")    ### [Raybion Bros.]\n",
    "### Butterfly Kisses\n",
    "\n",
    "addAllMusic(mdbmaps, \"Top40\", \"00d5d59798eeffef591f272260b0bbcc\", \"mn0000124572\")   ### [Chuck-N-Blood]\n",
    "### My Dogs\n",
    "\n",
    "addAllMusic(mdbmaps, \"Top40\", \"866a64f5a5e684f61aa573af7f63bc57\", \"mn0000233423\")   ### [Magoo]\n",
    "### Up Jumps Da Boogie\n",
    "\n",
    "addAllMusic(mdbmaps, \"Top40\", \"78f1feb9204bce3173d42798bc9bcb91\", \"mn0001808325\")   ### [Kobe Bryant]\n",
    "### Hold Me\n",
    "\n",
    "addAllMusic(mdbmaps, \"Top40\", \"d92e471232aa6a0bc4a03a49f16b0997\", \"mn0000186401\")   ### [Karen O.]\n",
    "addDiscogs(mdbmaps, \"Top40\", \"d92e471232aa6a0bc4a03a49f16b0997\", \"245778\")    ### [Karen O.]\n",
    "### Hello Tomorrow\n",
    "\n",
    "addAllMusic(mdbmaps, \"Top40\", \"5edcd28a4505dc29e4edebd67052e614\", \"mn0000795894\")   ### [Dolla]\n",
    "\n",
    "addAllMusic(mdbmaps, \"Top40\", \"7bcb752a835787affb80072d61387b22\", \"mn0001411030\")   ### [Hollis]\n",
    "### White Walls\n",
    "\n",
    "addAllMusic(mdbmaps, \"Top40\", \"c0051ae12f6048a807213c44b434aa1d\", \"mn0003348925\")   ### [Jennifer Lawrence]\n",
    "addDiscogs(mdbmaps, \"Top40\", \"c0051ae12f6048a807213c44b434aa1d\", \"4210193\")    ### [Jennifer Lawrence]\n",
    "### The Hanging Tree\n",
    "\n",
    "addAllMusic(mdbmaps, \"Top40\", \"083b67cc423fe5482eaf1412aebb65b3\", \"mn0003323773\")   ### [Lookas]\n",
    "addDiscogs(mdbmaps, \"Top40\", \"083b67cc423fe5482eaf1412aebb65b3\", \"3619379\")    ### [Lookas]\n",
    "### GDFR\n",
    "\n",
    "addAllMusic(mdbmaps, \"Top40\", \"f37bd04269e23d0c4c10c435a4f1dd7f\", \"mn0002943184\")   ### [Mnek]\n",
    "### Never Forget You  ,  So Good\n",
    "\n",
    "addAllMusic(mdbmaps, \"Top40\", \"1f9b34897f6440e2484f1ac5e00953f7\", \"mn0003462822\")   ### [Gnash]\n",
    "### I Hate U, I Love U  ,  Lights Down Low\n",
    "\n",
    "addAllMusic(mdbmaps, \"Top40\", \"f731f61bae9f9216f33f0cf76d403fee\", \"mn0000351749\")   ### [Royce Da 5'9]\n",
    "addDiscogs(mdbmaps, \"Top40\", \"f731f61bae9f9216f33f0cf76d403fee\", \"40792\")    ### [Royce Da 5'9]\n",
    "### Not Alike\n",
    "\n",
    "addAllMusic(mdbmaps, \"Top40\", \"296504ec4590a1522dcf6afb838fd6f4\", \"mn0003332851\")   ### [London On Da Track]\n",
    "### Numbers\n",
    "\n",
    "mdbmaps[\"Top40\"].save()"
   ]
  },
  {
   "cell_type": "code",
   "execution_count": null,
   "metadata": {
    "hidden": true
   },
   "outputs": [],
   "source": [
    "updateManDB(2)"
   ]
  },
  {
   "cell_type": "code",
   "execution_count": null,
   "metadata": {
    "hidden": true
   },
   "outputs": [],
   "source": [
    "updateManDB(4)"
   ]
  },
  {
   "cell_type": "code",
   "execution_count": null,
   "metadata": {
    "hidden": true
   },
   "outputs": [],
   "source": []
  },
  {
   "cell_type": "code",
   "execution_count": null,
   "metadata": {
    "hidden": true
   },
   "outputs": [],
   "source": [
    "print([item[1][\"ArtistName\"] for item in toMatch[\"Top40\"]])"
   ]
  },
  {
   "cell_type": "code",
   "execution_count": null,
   "metadata": {
    "hidden": true
   },
   "outputs": [],
   "source": []
  },
  {
   "cell_type": "code",
   "execution_count": null,
   "metadata": {
    "hidden": true
   },
   "outputs": [],
   "source": []
  },
  {
   "cell_type": "code",
   "execution_count": null,
   "metadata": {
    "hidden": true
   },
   "outputs": [],
   "source": []
  },
  {
   "cell_type": "code",
   "execution_count": null,
   "metadata": {
    "hidden": true
   },
   "outputs": [],
   "source": []
  },
  {
   "cell_type": "code",
   "execution_count": null,
   "metadata": {
    "hidden": true
   },
   "outputs": [],
   "source": []
  },
  {
   "cell_type": "code",
   "execution_count": null,
   "metadata": {
    "hidden": true
   },
   "outputs": [],
   "source": []
  },
  {
   "cell_type": "code",
   "execution_count": null,
   "metadata": {
    "hidden": true
   },
   "outputs": [],
   "source": []
  },
  {
   "cell_type": "code",
   "execution_count": null,
   "metadata": {
    "hidden": true
   },
   "outputs": [],
   "source": [
    "saveData = []\n",
    "for fullName in sorted(list(cad.manyArtists.keys())):\n",
    "    appendName = \" & \".join([\"[{0}]\".format(manDB.renamed(indivName)) for indivName in sorted(list(cad.manyArtists[fullName]))])\n",
    "    saveData.append([fullName, {\"Guess\": appendName, \"Truth\": ''}]) # = list(cad.manyArtists[fullName].keys())\n",
    "saveFile(idata=saveData, ifile=\"tmp.yaml\")"
   ]
  },
  {
   "cell_type": "code",
   "execution_count": null,
   "metadata": {
    "hidden": true
   },
   "outputs": [],
   "source": [
    "fixedData = getFile(\"tmp.yaml\")"
   ]
  },
  {
   "cell_type": "code",
   "execution_count": null,
   "metadata": {
    "hidden": true
   },
   "outputs": [],
   "source": [
    "multis = []\n",
    "multirenames = {}\n",
    "for item in fixedData:\n",
    "    if len(item[1][\"Truth\"]) > 0:\n",
    "        name = item[1][\"Truth\"]\n",
    "        if len(name.split(\"] & [\")) == 1:\n",
    "            multis.append(item[1][\"Truth\"][1:-1])\n",
    "        else:\n",
    "            rename = name[1:-1].split(\"] & [\")\n",
    "            multirenames[item[0]] = \" ::: \".join(rename)\n",
    "        \n",
    "print(\"Found {0} renames\".format(len(multirenames)))\n",
    "print(\"Found {0} multi-artists\".format(len(multis)))"
   ]
  },
  {
   "cell_type": "markdown",
   "metadata": {
    "hidden": true
   },
   "source": [
    "#### Save MultiArtists (if found)"
   ]
  },
  {
   "cell_type": "code",
   "execution_count": null,
   "metadata": {
    "hidden": true
   },
   "outputs": [],
   "source": [
    "knownFilename = \"../multiartist/knownMultiArtists.yaml\"\n",
    "knownMultis = getFile(knownFilename)\n",
    "print(len(multis))\n",
    "print(len(knownMultis))\n",
    "knownMultis += multis\n",
    "print(len(knownMultis))\n",
    "knownMultis = sorted(list(set(knownMultis)))\n",
    "print(len(knownMultis))\n",
    "saveFile(idata=knownMultis, ifile=knownFilename)"
   ]
  },
  {
   "cell_type": "markdown",
   "metadata": {
    "hidden": true
   },
   "source": [
    "#### Save multi renames (if needed)"
   ]
  },
  {
   "cell_type": "code",
   "execution_count": null,
   "metadata": {
    "hidden": true
   },
   "outputs": [],
   "source": [
    "multiManDB = masterArtistNameDB(\"multi\", init=False)\n",
    "#multiManDB.forceReload(getFile(\"main.yaml\"))\n",
    "multiManDB.addRenames(multirenames)"
   ]
  },
  {
   "cell_type": "code",
   "execution_count": null,
   "metadata": {
    "hidden": true
   },
   "outputs": [],
   "source": [
    "multiManDB = masterArtistNameDB(\"multi\", init=False)\n",
    "multiManDB.addRenames(multirenames)\n",
    "multiManDB.save()\n",
    "saveFile(idata=multiManDB.getRenames(), ifile=\"multi.yaml\")\n",
    "multiManDB = masterArtistNameDB(\"multi\", init=True)\n",
    "multiManDB.forceReload(getFile(\"multi.yaml\"))\n",
    "multiManDB.checkForRecursives()\n",
    "multiManDB = masterArtistNameDB(\"multi\", init=False)"
   ]
  },
  {
   "cell_type": "code",
   "execution_count": null,
   "metadata": {
    "hidden": true
   },
   "outputs": [],
   "source": [
    "#### Edit main.yaml (if needed)"
   ]
  },
  {
   "cell_type": "code",
   "execution_count": null,
   "metadata": {
    "hidden": true
   },
   "outputs": [],
   "source": []
  },
  {
   "cell_type": "code",
   "execution_count": null,
   "metadata": {
    "hidden": true
   },
   "outputs": [],
   "source": []
  },
  {
   "cell_type": "code",
   "execution_count": null,
   "metadata": {
    "hidden": true
   },
   "outputs": [],
   "source": []
  },
  {
   "cell_type": "code",
   "execution_count": null,
   "metadata": {
    "hidden": true
   },
   "outputs": [],
   "source": [
    "mdbmaps[\"Billboard\"].getDF()"
   ]
  },
  {
   "cell_type": "code",
   "execution_count": null,
   "metadata": {
    "hidden": true
   },
   "outputs": [],
   "source": []
  },
  {
   "cell_type": "code",
   "execution_count": null,
   "metadata": {
    "hidden": true
   },
   "outputs": [],
   "source": []
  },
  {
   "cell_type": "code",
   "execution_count": null,
   "metadata": {
    "hidden": true,
    "scrolled": false
   },
   "outputs": [],
   "source": [
    "mdf = mdbmaps[\"BillboardYE\"].getDF()\n",
    "mdf.shape\n",
    "#mdf[mdf[\"DBMatches\"] == 0]"
   ]
  },
  {
   "cell_type": "markdown",
   "metadata": {
    "heading_collapsed": true
   },
   "source": [
    "# Multi Match"
   ]
  },
  {
   "cell_type": "code",
   "execution_count": null,
   "metadata": {
    "hidden": true
   },
   "outputs": [],
   "source": []
  },
  {
   "cell_type": "code",
   "execution_count": null,
   "metadata": {
    "hidden": true
   },
   "outputs": [],
   "source": [
    "cad.getTypeArtistAlbumData(\"Joe Rene\")"
   ]
  },
  {
   "cell_type": "code",
   "execution_count": null,
   "metadata": {
    "hidden": true
   },
   "outputs": [],
   "source": [
    "toMatch[\"Billboard\"]"
   ]
  },
  {
   "cell_type": "code",
   "execution_count": null,
   "metadata": {
    "hidden": true
   },
   "outputs": [],
   "source": []
  },
  {
   "cell_type": "code",
   "execution_count": null,
   "metadata": {
    "hidden": true,
    "scrolled": false
   },
   "outputs": [],
   "source": [
    "manualAppends(cad, mType, toMatch, chartType, minAlbums=0, add=True)"
   ]
  },
  {
   "cell_type": "code",
   "execution_count": null,
   "metadata": {
    "hidden": true
   },
   "outputs": [],
   "source": [
    "mdbmc.getMasterDF(\"Billboard\")"
   ]
  },
  {
   "cell_type": "code",
   "execution_count": null,
   "metadata": {
    "hidden": true
   },
   "outputs": [],
   "source": []
  },
  {
   "cell_type": "code",
   "execution_count": null,
   "metadata": {
    "hidden": true
   },
   "outputs": [],
   "source": []
  },
  {
   "cell_type": "code",
   "execution_count": null,
   "metadata": {
    "hidden": true
   },
   "outputs": [],
   "source": [
    "matchItAll(mdbmaps, getThresholdsWithoutAlbums(0.85), toMatch=toMatch, useAlbums=False)\n",
    "reMatch()"
   ]
  },
  {
   "cell_type": "code",
   "execution_count": null,
   "metadata": {
    "hidden": true
   },
   "outputs": [],
   "source": [
    "#singleArtistAlbumData[\"Billboard\"]['Ernest']\n",
    "saveFile(idata=[x[1][\"ArtistName\"] for x in toMatch[\"Top40\"]], ifile=\"toget.p\")"
   ]
  },
  {
   "cell_type": "code",
   "execution_count": null,
   "metadata": {
    "hidden": true,
    "scrolled": true
   },
   "outputs": [],
   "source": []
  },
  {
   "cell_type": "markdown",
   "metadata": {
    "heading_collapsed": true
   },
   "source": [
    "# Find Near Artist Name Matches"
   ]
  },
  {
   "cell_type": "code",
   "execution_count": null,
   "metadata": {
    "hidden": true
   },
   "outputs": [],
   "source": [
    "toget, dbRenames = analyzeMatches(maindb, mdbmaps, chartType, maxVal=1.0, diffVal=1.0)"
   ]
  },
  {
   "cell_type": "code",
   "execution_count": null,
   "metadata": {
    "hidden": true
   },
   "outputs": [],
   "source": [
    "if len(dbRenames) > 0:\n",
    "    analyzeRenames(manDB, dbRenames)\n",
    "    # Test for overap with manDB\n",
    "\n",
    "    dbRenames = getFile(ifile=\"relDBRenames2.yaml\")\n",
    "    redos = {}\n",
    "    dels  = []\n",
    "    for oldername,bestname in dbRenames.items():\n",
    "        if oldername in manDB.artistNameDB.keys(): # and bestname not in manDB.artistNameDB.keys():\n",
    "            #print(\"Older=[{0}] \\t Best=[{1}]\".format(oldername,bestname))\n",
    "\n",
    "            redos[bestname] = oldername\n",
    "            dels.append(oldername)\n",
    "            #print('PROBLEM ({0} in master DB): \\t{1}  -->  {2}'.format(oldername, oldername, bestname))\n",
    "            try:\n",
    "                matchOlderData = mdbmaps[chartType].getArtistDataByName(oldername).getDict()\n",
    "            except:\n",
    "                matchOlderData = {}\n",
    "\n",
    "            try:\n",
    "                matchBestData  = mdbmaps[chartType].getArtistDataByName(bestname).getDict()\n",
    "            except:\n",
    "                matchBestData = {}\n",
    "\n",
    "            #print(\"Older: {0}\".format(matchOlderData))\n",
    "            #print(\"Best:  {0}\".format(matchBestData))\n",
    "            #print(\"\\n\")\n",
    "        else:\n",
    "            print(\"{0}: {1}\".format(oldername, bestname))\n",
    "\n",
    "    print(\"# Renames: {0}\".format(len(dbRenames)))\n",
    "    print(\"# Dels: {0}\".format(len(dels)))"
   ]
  },
  {
   "cell_type": "code",
   "execution_count": null,
   "metadata": {
    "hidden": true,
    "scrolled": false
   },
   "outputs": [],
   "source": [
    "manDB = masterArtistNameDB(\"main\", init=True)\n",
    "manDB.forceReload(getFile(\"main.yaml\"))\n",
    "manDB.addRenames(getFile(\"relDBRenames2.yaml\"))\n",
    "manDB.checkForRecursives()"
   ]
  },
  {
   "cell_type": "code",
   "execution_count": null,
   "metadata": {
    "hidden": true
   },
   "outputs": [],
   "source": [
    "manDB = masterArtistNameDB(\"main\", init=True)\n",
    "manDB.forceReload(getFile(\"main.yaml\"))\n",
    "manDB.addRenames(getFile(\"relDBRenames2.yaml\"))\n",
    "manDB.checkForRecursives()\n",
    "manDB.save()\n",
    "manDB = masterArtistNameDB(\"main\", init=False)\n",
    "saveFile(idata=manDB.dbRenames, ifile=\"main.yaml\")\n",
    "removeDBRenames(mdbmaps, chartType, dbRenames)"
   ]
  },
  {
   "cell_type": "code",
   "execution_count": null,
   "metadata": {
    "hidden": true
   },
   "outputs": [],
   "source": [
    "removeDBRenames(mdbmaps, chartType, dbRenames)"
   ]
  },
  {
   "cell_type": "code",
   "execution_count": null,
   "metadata": {
    "hidden": true
   },
   "outputs": [],
   "source": [
    "vals=\"\"\"\n",
    "[Sander Van Doom                0.9                Sander Van Doorn] \t --> (Top40) 27813b44b4282de50171e13adb4ebcf9 / 183267 (Discogs)\n",
    "\"\"\"\n",
    "\n",
    "lines=vals.split(\"\\n\")\n",
    "lines2=[x.split(\"({0}) \".format(chartType))[1] for x in lines if len(x) > 0]\n",
    "names2=[x.split(\"({0}) \".format(chartType))[0] for x in lines if len(x) > 0]\n",
    "lines3={x.split(\" / \")[0]: x[x.find(\"(\")+1:-1] for x in lines2}\n",
    "names3=[x.split(\"    \")[0].strip()[1:] for x in names2]\n",
    "if len(names3) != len(lines3):\n",
    "    raise ValueError(\"Err\")\n",
    "\n",
    "for i,(k,v) in enumerate(lines3.items()):\n",
    "    artistName = names3[i]\n",
    "    #print(\"mdbmaps[chartType].addArtistDataByID(\\'{0}\\', \\'{1}\\', \\'{2}\\')\".format(k,v,))\n",
    "    print(\"### ----> {0}\".format(artistName))\n",
    "    print(\"mdbmaps[chartType].addArtistDataByID(\\'{0}\\', \\'{1}\\', None)\".format(k,v))    \n",
    "    albums = singleArtistAlbumData[chartType][artistName]\n",
    "    print(\"### {0}\".format(\"  ,  \".join(albums)))\n",
    "    print(\"### ignores.append(\\\"{0}\\\")\".format(artistName))\n",
    "    print(\"\\n\")\n",
    "    \n",
    "    \n",
    "#mdbmaps[chartType].addArtistDataByID(\"e309c2e3fc905eae304b71e10e82eb99\", \"AllMusic\", '0000803469')\n",
    "print(\"\")\n",
    "print(\"mdbmaps[chartType].save()\")\n",
    "print(\"saveFile(idata=list(set(ignores)), ifile=\\\"chartIgnores.yaml\\\")\")"
   ]
  },
  {
   "cell_type": "code",
   "execution_count": null,
   "metadata": {
    "hidden": true
   },
   "outputs": [],
   "source": [
    "### ----> Sander Van Doom\n",
    "mdbmaps[chartType].addArtistDataByID('27813b44b4282de50171e13adb4ebcf9', 'Discogs', None)\n",
    "### Grasshopper\n",
    "### ignores.append(\"Sander Van Doom\")\n",
    "\n",
    "\n",
    "\n",
    "mdbmaps[chartType].save()\n",
    "saveFile(idata=list(set(ignores)), ifile=\"chartIgnores.yaml\")"
   ]
  },
  {
   "cell_type": "code",
   "execution_count": null,
   "metadata": {
    "hidden": true
   },
   "outputs": [],
   "source": [
    "toget"
   ]
  },
  {
   "cell_type": "markdown",
   "metadata": {
    "hidden": true
   },
   "source": [
    "****\n",
    "****\n",
    "****\n",
    "****"
   ]
  },
  {
   "cell_type": "markdown",
   "metadata": {
    "heading_collapsed": true
   },
   "source": [
    "# Multis"
   ]
  },
  {
   "cell_type": "code",
   "execution_count": null,
   "metadata": {
    "hidden": true
   },
   "outputs": [],
   "source": [
    "ignores.append('Daryl Hall & John Oates')"
   ]
  },
  {
   "cell_type": "code",
   "execution_count": null,
   "metadata": {
    "hidden": true
   },
   "outputs": [],
   "source": [
    "from multiArtist import multiartist\n",
    "mularts  = multiartist(cutoff=0.9, discdata=None, exact=False)\n",
    "knownMultiArtists = getFile(\"../multiartist/knownMultiArtists.yaml\")\n",
    "print(len(knownMultiArtists))\n",
    "print(len(mdbmaps[chartType].getArtists()))\n",
    "for idx,artistName in mdbmaps[chartType].getArtists().items():\n",
    "    N = mularts.getArtistNames(artistName)\n",
    "    if len(N) > 1:\n",
    "        result = {subName: mdbmaps[chartType].isKnownByName(subName) for subName in N}\n",
    "        if not any(result.values()):\n",
    "            knownMultiArtists.append(artistName)\n",
    "            #print(result)\n",
    "        #print(\"ignores.append(\\'{0}\\')\".format(artistName))\n",
    "\n",
    "print(len(knownMultiArtists))\n",
    "knownMultiArtists = list(set(knownMultiArtists))\n",
    "print(len(knownMultiArtists))\n",
    "        \n",
    "#saveFile(idata = sorted(knownMultiArtists), ifile=\"../multiartist/knownMultiArtists.yaml\")"
   ]
  },
  {
   "cell_type": "code",
   "execution_count": null,
   "metadata": {
    "hidden": true
   },
   "outputs": [],
   "source": [
    "ignores = getFile(\"chartIgnores.yaml\")\n",
    "dels = []\n",
    "for idx,artistName in mdbmaps[chartType].getArtists().items():\n",
    "    if artistName in ignores:\n",
    "        dels.append([idx,artistName])\n",
    "        \n",
    "print(len(dels))\n",
    "for idx,artistName in dels:\n",
    "    mdbmaps[chartType].removeArtistByID(idx)\n",
    "    \n",
    "mdbmaps[chartType].save()"
   ]
  },
  {
   "cell_type": "code",
   "execution_count": null,
   "metadata": {
    "hidden": true
   },
   "outputs": [],
   "source": [
    "len(dels)"
   ]
  },
  {
   "cell_type": "markdown",
   "metadata": {
    "heading_collapsed": true
   },
   "source": [
    "# Functions"
   ]
  },
  {
   "cell_type": "code",
   "execution_count": null,
   "metadata": {
    "hidden": true
   },
   "outputs": [],
   "source": [
    "class matchthresholds:\n",
    "    def __init__(self):\n",
    "        thresholds = {}\n",
    "        thresholds[1000] = {'numArtistName': 1, 'artistNameCutoff': 0.95, 'artistAlbumCutoff': 0.9, 'numArtistAlbums': int(200/8), 'score': 10.0}\n",
    "        thresholds[500]  = {'numArtistName': 1, 'artistNameCutoff': 0.95, 'artistAlbumCutoff': 0.9, 'numArtistAlbums': int(200/8), 'score': 5.0}\n",
    "        thresholds[200]  = {'numArtistName': 1, 'artistNameCutoff': 0.95, 'artistAlbumCutoff': 0.9, 'numArtistAlbums': int(200/8), 'score': 2.5}\n",
    "        thresholds[100]  = {'numArtistName': 1, 'artistNameCutoff': 0.95, 'artistAlbumCutoff': 0.9, 'numArtistAlbums': int(100/8), 'score': 1.5}\n",
    "        thresholds[50]   = {'numArtistName': 2, 'artistNameCutoff': 0.95, 'artistAlbumCutoff': 0.9, 'numArtistAlbums': int(50/8), 'score': 1.5}\n",
    "        thresholds[20]   = {'numArtistName': 2, 'artistNameCutoff': 0.95, 'artistAlbumCutoff': 0.9, 'numArtistAlbums': 3, 'score': 1.5}\n",
    "        thresholds[10]   = {'numArtistName': 5, 'artistNameCutoff': 0.90, 'artistAlbumCutoff': 0.9, 'numArtistAlbums': 2, 'score': 1.5}\n",
    "        thresholds[5]    = {'numArtistName': 5, 'artistNameCutoff': 0.90, 'artistAlbumCutoff': 0.9, 'numArtistAlbums': 2, 'score': 1.5}\n",
    "        thresholds[3]    = {'numArtistName': 5, 'artistNameCutoff': 0.90, 'artistAlbumCutoff': 0.9, 'numArtistAlbums': 2, 'score': 1.5}\n",
    "        thresholds[2]    = {'numArtistName': 5, 'artistNameCutoff': 0.90, 'artistAlbumCutoff': 0.9, 'numArtistAlbums': 1, 'score': 2.0}\n",
    "        thresholds[1]    = {'numArtistName': 5, 'artistNameCutoff': 0.90, 'artistAlbumCutoff': 0.9, 'numArtistAlbums': 1, 'score': 0.9}\n",
    "        self.thresholds = thresholds\n",
    "\n",
    "        iterItems = {20: {\"Max\": 50, \"Vals\": 100}}\n",
    "        iterItems.update({10: {\"Max\": 20, \"Vals\": 200}})\n",
    "        iterItems.update({50: {\"Max\": 10000, \"Vals\": 50}})\n",
    "        iterItems.update({5: {\"Max\": 10, \"Vals\": 250}})\n",
    "        iterItems.update({3: {\"Max\": 5, \"Vals\": 500}})\n",
    "        iterItems.update({2: {\"Max\": 3, \"Vals\": 500}})\n",
    "        iterItems.update({1: {\"Max\": 2, \"Vals\": 500}})\n",
    "        self.iterItems = iterItems\n",
    "\n",
    "        self.thresholdsNoAlbums = {'numArtistName': 5, 'artistNameCutoff': 0.9, 'artistAlbumCutoff': None, 'numArtistAlbums': None, 'score': None}\n",
    "    \n",
    "    def getThresholdsWithAlbums(self, minAlbums):\n",
    "        if self.thresholds.get(minAlbums) is not None:\n",
    "            return self.thresholds[minAlbums]\n",
    "        \n",
    "    def getThresholdsWithoutAlbums(self, cutoff):\n",
    "        self.thresholdsNoAlbums[\"artistNameCutoff\"] = cutoff\n",
    "        return self.thresholdsNoAlbums\n",
    "    \n",
    "    def getIterItems(self):\n",
    "        return self.iterItems\n",
    "        "
   ]
  },
  {
   "cell_type": "code",
   "execution_count": null,
   "metadata": {
    "hidden": true
   },
   "outputs": [],
   "source": [
    "from functools import partial\n",
    "from matchDBArtist import matchDBArtist\n",
    "\n",
    "class multimatch:\n",
    "    def __init__(self, maindb, mdbmc, debug=False):\n",
    "        self.debug  = debug\n",
    "        self.maindb = maindb\n",
    "        self.mdbmc  = mdbmc\n",
    "        \n",
    "        self.mt = matchthresholds()\n",
    "        \n",
    "        self.toMatch = None\n",
    "        self.dbName  = None\n",
    "        self.maxMatches = None\n",
    "        \n",
    "        self.matchFunc = {True: self.matchDBArtistWithAlbums, False: self.matchDBArtistWithoutAlbums}\n",
    "            \n",
    "        \n",
    "    def setMDBMap(self, dbName, mdbmap):\n",
    "        self.mdbmap = mdbmap\n",
    "        self.dbName = dbName\n",
    "    \n",
    "    \n",
    "    def setDataToMatch(self, toMatch):\n",
    "        if toMatch is not None:\n",
    "            self.toMatch = toMatch\n",
    "            \n",
    "            \n",
    "    def setMaxMatches(self, maxMatches):\n",
    "        self.maxMatches = maxMatches\n",
    "        \n",
    "        \n",
    "    ############################################################################################################\n",
    "    ## Set Data To Be Matched\n",
    "    ############################################################################################################\n",
    "    def setData(self, useAlbums=True, minAlbums=None, maxValues=None, cutoff=None):\n",
    "        self.useAlbums = useAlbums\n",
    "        print(\"HI\")\n",
    "        if useAlbums is True:\n",
    "            if minAlbums is not None:\n",
    "                self.thresholds = self.mt.getThresholdsWithAlbums(minAlbums)\n",
    "                iterItems = self.mt.getIterItems()[minAlbums]\n",
    "                maxAlbums = iterItems[\"Max\"]\n",
    "                if maxValues is None:\n",
    "                    maxValues = thresholds[\"Vals\"]\n",
    "\n",
    "                self.toMatch   = mdbmc.getDataToMatch(self.dbName, maxValues=maxValues, maxAlbums=maxAlbums, minAlbums=minAlbums, ignores=[])\n",
    "                print(\"Found {0} Artists To Match With Albums and Using Thresholds: {1}\".format(len(self.toMatch[self.dbName]), self.thresholds))\n",
    "            else:\n",
    "                raise ValueError(\"Must supply a minAlbums value\")\n",
    "        else:\n",
    "            self.thresholds = self.mt.getThresholdsWithoutAlbums(cutoff)\n",
    "            if maxValues is None:\n",
    "                maxValues = 100000\n",
    "            self.toMatch   = mdbmc.getDataToMatch(self.dbName, maxValues=maxValues, maxAlbums=100000, minAlbums=0, ignores=[])\n",
    "            print(\"Found {0} Artists To Match Without Albums and Without Using Thresholds\".format(len(self.toMatch[self.dbName])))\n",
    "            \n",
    "    \n",
    "    \n",
    "\n",
    "\n",
    "    def matchItAll(self):\n",
    "        num_processes = 3\n",
    "        func       = self.matchFunc[self.useAlbums]\n",
    "        thresholds = self.thresholds\n",
    "        pfunc = partial(func, **thresholds) # Giving some arguments for kwargs\n",
    "        argument_list = self.toMatch[self.dbName]\n",
    "        print(\"Args: \",argument_list)\n",
    "        \n",
    "        if len(argument_list) == 0:\n",
    "            return\n",
    "        print(\"Using {0} Matching Function\".format(pfunc))\n",
    "        print(\"Running imap multiprocessing for {0} artists ...\".format(len(argument_list)))\n",
    "        result_list = self.multiProc(func=pfunc, argument_list=argument_list,\n",
    "                                               num_processes=num_processes)\n",
    "        return result_list\n",
    "        \n",
    "\n",
    "    def matchDBArtistWithoutAlbums(self, item, *args, **kwargs):\n",
    "        return 1\n",
    "\n",
    "        print(\"Item ==>\",item)\n",
    "        1/0\n",
    "        primaryKey   = item[0]\n",
    "        artistData   = item[1]\n",
    "        artistName   = artistData[\"ArtistName\"]\n",
    "        artistID     = primaryKey\n",
    "        artistAlbums = None\n",
    "        mdbMatcher = matchDBArtist(self.maindb)\n",
    "        mdbMatcher.setArtistInfo(artistName, artistID, artistAlbums)\n",
    "        mdbMatcher.setThresholds(matchNumArtistName=kwargs['numArtistName'], matchArtistNameCutoff=kwargs['artistNameCutoff'],\n",
    "                                 matchArtistAlbumCutoff=kwargs['artistAlbumCutoff'], matchNumArtistAlbums=kwargs['numArtistAlbums'],\n",
    "                                 matchScore=kwargs['score']),\n",
    "        mcs    = mdbMatcher.findPotentialArtistNameMatchesWithoutAlbums()\n",
    "        retval = [primaryKey,artistName,artistID,mcs]\n",
    "        return retval\n",
    "\n",
    "\n",
    "    def matchDBArtistWithAlbums(self, item, *args, **kwargs):    \n",
    "        #time.sleep(0.0025)\n",
    "\n",
    "        return 1\n",
    "        print(\"Item ==>\",item)\n",
    "        1/0\n",
    "        \n",
    "\n",
    "        primaryKey   = item[0]\n",
    "        artistData   = item[1]\n",
    "        artistName   = artistData[\"ArtistName\"]\n",
    "        artistID     = primaryKey\n",
    "        artistAlbums = artistData[\"ArtistAlbums\"]\n",
    "\n",
    "        mdbMatcher = matchDBArtist(self.maindb)\n",
    "        mdbMatcher.setArtistInfo(artistName, artistID, artistAlbums)\n",
    "        mdbMatcher.setThresholds(matchNumArtistName=kwargs['numArtistName'], matchArtistNameCutoff=kwargs['artistNameCutoff'], \n",
    "                                 matchArtistAlbumCutoff=kwargs['artistAlbumCutoff'], matchNumArtistAlbums=kwargs['numArtistAlbums'],\n",
    "                                 matchScore=kwargs['score'])\n",
    "        mcs    = mdbMatcher.findPotentialArtistAlbumMatches()\n",
    "        retval = [primaryKey,artistName,artistID,mcs]\n",
    "        return retval\n",
    "\n",
    "\n",
    "    def multiProc(self, func, argument_list, num_processes):\n",
    "        pool = Pool(processes=num_processes)\n",
    "        result_list_tqdm = []\n",
    "        for result in tqdm(pool.imap(func=func, iterable=argument_list), total=len(argument_list)):\n",
    "            result_list_tqdm.append(result)\n",
    "        return result_list_tqdm\n"
   ]
  },
  {
   "cell_type": "code",
   "execution_count": null,
   "metadata": {
    "hidden": true
   },
   "outputs": [],
   "source": [
    "mm = multimatch(maindb, mdbmc)\n",
    "mm.setMDBMap(\"Billboard\", mdbmaps[\"Billboard\"])"
   ]
  },
  {
   "cell_type": "code",
   "execution_count": null,
   "metadata": {
    "hidden": true
   },
   "outputs": [],
   "source": [
    "mm.setData(useAlbums=True, minAlbums=10, maxValues=1)"
   ]
  },
  {
   "cell_type": "code",
   "execution_count": null,
   "metadata": {
    "hidden": true
   },
   "outputs": [],
   "source": [
    "mm.matchItAll()"
   ]
  },
  {
   "cell_type": "code",
   "execution_count": null,
   "metadata": {
    "hidden": true
   },
   "outputs": [],
   "source": [
    "ignoresList = [\"chartIgnores.yaml\"]\n",
    "for minAlbums,minAlbumsData in getIterItems().items():\n",
    "    print(\"=\"*10,minAlbums)\n",
    "    maxAlbums = minAlbumsData[\"Max\"]\n",
    "    maxValues = minAlbumsData[\"Vals\"]\n",
    "    for i in range(10):\n",
    "        toMatch   = mdbmc.getDataToMatch(chartType, maxValues=maxValues, maxAlbums=maxAlbums, minAlbums=minAlbums, ignores=ignoresList)\n",
    "        if len(toMatch[chartType]) == 0:\n",
    "            break\n",
    "        matchItAll(mdbmaps, getThresholds(minAlbums), toMatch=toMatch)\n",
    "        \n",
    "reMatch()\n",
    "print(\"Done.\\n\\n\")"
   ]
  },
  {
   "cell_type": "code",
   "execution_count": null,
   "metadata": {
    "hidden": true
   },
   "outputs": [],
   "source": []
  },
  {
   "cell_type": "code",
   "execution_count": null,
   "metadata": {
    "hidden": true
   },
   "outputs": [],
   "source": []
  },
  {
   "cell_type": "code",
   "execution_count": null,
   "metadata": {
    "hidden": true
   },
   "outputs": [],
   "source": []
  },
  {
   "cell_type": "code",
   "execution_count": null,
   "metadata": {
    "hidden": true
   },
   "outputs": [],
   "source": [
    "from billboardCharts import billboardCharts\n",
    "from fileUtils import getBasename, getDirname, getBaseFilename\n",
    "from timeUtils import clock, elapsed\n",
    "from webUtils import getHTML, getWebData\n",
    "from timeUtils import getDateTime, isDate\n",
    "from listUtils import getFlatList\n",
    "from ioUtils import saveJoblib, loadJoblib, saveFile, getFile\n",
    "from os.path import join\n",
    "from searchUtils import findExt\n",
    "import urllib\n",
    "from time import sleep\n",
    "from collections import Counter\n",
    "from artistIgnores import getArtistIgnores\n",
    "\n",
    "from billboardCharts import billboardCharts\n",
    "from top40Charts import top40Charts\n",
    "\n",
    "class billboardFiles:\n",
    "    def __init__(self, basedir):\n",
    "        self.basedir = basedir\n",
    "        self.source  = \"Billoard\"\n",
    "\n",
    "    def findFiles(self):\n",
    "        savedir = join(self.basedir, \"data\", \"billboard\", \"results\")\n",
    "        self.files   = findExt(savedir, ext='.p')\n",
    "        print(\"Found {0} {1} files.\".format(len(self.files), self.source))\n",
    "        self.files = {getBaseFilename(x).replace(\"/\", \" \"): x for x in self.files}\n",
    "        return self.files\n",
    "    \n",
    "    \n",
    "        for ifile in self.files:\n",
    "            fdata = getFile(ifile)\n",
    "            for chartName, cnameResults in fdata.items():\n",
    "                if chartName not in self.charts:\n",
    "                    continue\n",
    "    \n",
    "    \n",
    "class billboardFullChart:\n",
    "    def __init__(self, basedir, charts):\n",
    "        self.basedir = basedir\n",
    "        self.source  = \"Billboard\"\n",
    "        self.charts  = charts\n",
    "        self.tfiles  = billboardFiles(self.basedir)\n",
    "        self.files   = self.tfiles.findFiles()\n",
    "        \n",
    "        self.fullChartData = {}\n",
    "        \n",
    "    def filterFiles(self):\n",
    "        files = {}\n",
    "        for chartName, ifile in self.files.items():\n",
    "            if chartName in self.charts:\n",
    "                files[chartName] = ifile\n",
    "        print(\"Keeping {0}/{1} Charts\".format(len(files), len(self.files)))\n",
    "\n",
    "\n",
    "class top40files:\n",
    "    def __init__(self, basedir):\n",
    "        self.basedir = basedir\n",
    "        self.source  = \"Top40\"\n",
    "\n",
    "    def findFiles(self):\n",
    "        savedir = join(self.basedir, \"data\", \"top40\")\n",
    "        self.files   = findExt(savedir, ext='.p')         \n",
    "        print(\"Found {0} {1} files.\".format(len(self.files), self.source))\n",
    "        self.files = {getBaseFilename(x).replace(\"/\", \" \"): x for x in self.files}\n",
    "        return self.files\n",
    "    \n",
    "    \n",
    "class top40FullChart:\n",
    "    def __init__(self, basedir, charts):\n",
    "        self.basedir = basedir\n",
    "        self.source  = \"Top40\"\n",
    "        self.charts  = charts\n",
    "        self.tfiles  = top40files(self.basedir)\n",
    "        self.files   = self.tfiles.findFiles()\n",
    "        \n",
    "        self.fullChartData = {}\n",
    "        \n",
    "    def filterFiles(self):\n",
    "        files = {}\n",
    "        for chartName, ifile in self.files.items():\n",
    "            if chartName in self.charts:\n",
    "                files[chartName] = ifile\n",
    "        print(\"Keeping {0}/{1} Charts\".format(len(files), len(self.files)))\n",
    "\n",
    "\n",
    "class top40files:\n",
    "    def __init__(self, basedir):\n",
    "        self.basedir = basedir\n",
    "        self.source  = \"Top40\"\n",
    "\n",
    "    def findFiles(self):\n",
    "        savedir = join(self.basedir, \"data\", \"top40\")\n",
    "        self.files   = findExt(savedir, ext='.p')         \n",
    "        print(\"Found {0} {1} files.\".format(len(self.files), self.source))\n",
    "        self.files = {getBaseFilename(x).replace(\"/\", \" \"): x for x in self.files}\n",
    "        return self.files\n",
    "    \n",
    "    \n",
    "class top40FullChart:\n",
    "    def __init__(self, basedir, charts):\n",
    "        self.basedir = basedir\n",
    "        self.source  = \"Top40\"\n",
    "        self.charts  = charts\n",
    "        self.tfiles  = top40files(self.basedir)\n",
    "        self.files   = self.tfiles.findFiles()        \n",
    "        self.fullChartData = {}\n",
    "        \n",
    "    def filterFiles(self):\n",
    "        files = {}\n",
    "        for chartName, ifile in self.files.items():\n",
    "            if chartName in self.charts:\n",
    "                files[chartName] = ifile\n",
    "        print(\"Keeping {0}/{1} Charts\".format(len(files), len(self.files)))\n",
    "        \n",
    "    \n",
    "        \n",
    "    def setFullChartData(self):\n",
    "        fullChartData = {}\n",
    "        renameStats   = Counter()\n",
    "        \n",
    "        self.findFiles()\n",
    "        if len(self.files) == 0:\n",
    "            raise ValueError(\"There are no files. Something is wrong...\")\n",
    "        self.files = {getBaseFilename(x).replace(\"/\", \" \"): x for x in self.files}\n",
    "        \n",
    "        for chartName, ifile in self.files.items():\n",
    "            if chartName not in self.charts:\n",
    "                continue\n",
    "            print(\"==> {0: <40}\".format(chartName), end=\"\\t\")\n",
    "            #t40chart = top40chart(chartID, chartName, chartURL)\n",
    "            chartResults = getFile(ifile)\n",
    "\n",
    "            for date, values in chartResults.items():\n",
    "                if self.minYear is not None:\n",
    "                    if getDateTime(date).year < int(self.minYear):\n",
    "                        continue\n",
    "                if self.maxYear is not None:\n",
    "                    if getDateTime(date).year > int(self.maxYear):\n",
    "                        continue\n",
    "\n",
    "                        \n",
    "                for i,item in enumerate(values):\n",
    "                    artist = item[\"Artist\"]\n",
    "                    renamedArtist = artist\n",
    "                    for testArtist in self.artistRenames.keys():\n",
    "                        if artist.find(testArtist) != -1:\n",
    "                            tmp = renamedArtist\n",
    "                            renamedArtist = renamedArtist.replace(testArtist, self.artistRenames.get(testArtist))\n",
    "                            #print(\"{0}  <---- From ---- {1}\".format(renamedArtist, tmp))\n",
    "                            renameStats[renamedArtist] += 1\n",
    "                            artist = renamedArtist\n",
    "                    \n",
    "                    if self.dbRenames.get(artist) is not None:\n",
    "                        renamedArtist = self.dbRenames[artist]\n",
    "                        renameStats[renamedArtist] += 1\n",
    "                        artist = renamedArtist\n",
    "                    \n",
    "\n",
    "                    artist = artist.replace(\"\\r\", \"\")                    \n",
    "                    \n",
    "                    ignoreStatus = getArtistIgnores(artist)\n",
    "                    if ignoreStatus is False:\n",
    "                        continue\n",
    "                    \n",
    "                    album  = item[\"Album\"]\n",
    "                    if album in [\"Soundtrack\"]:\n",
    "                        continue\n",
    "\n",
    "                    if fullChartData.get(artist) is None:\n",
    "                        fullChartData[artist] = {\"Songs\": {}, \"Albums\": {}}\n",
    "                    if chartName.endswith(\"Albums\"):\n",
    "                        key = \"Albums\"\n",
    "                    else:\n",
    "                        key = \"Songs\"\n",
    "                    if fullChartData[artist][key].get(album) is None:\n",
    "                        fullChartData[artist][key][album] = {}\n",
    "                    if fullChartData[artist][key][album].get(chartName) is None:\n",
    "                        fullChartData[artist][key][album][chartName] = {}\n",
    "                    fullChartData[artist][key][album][chartName][date] = i\n",
    "            print(len(fullChartData))\n",
    "        self.fullChartData = fullChartData\n",
    "        \n",
    "        if self.artistRenames is not None:\n",
    "            print(\"Renamed {0} artists\".format(len(renameStats)))\n",
    "            print(\"Most Common Artists:\")\n",
    "            for item in renameStats.most_common(5):\n",
    "                print(item)\n",
    "\n",
    "\n",
    "class chartData:\n",
    "    def __init__(self, source, minYear=None, maxYear=None, country=None, debug=False):\n",
    "        debug=False    \n",
    "        self.source = source\n",
    "        \n",
    "        self.basedir  = \"/Volumes/Piggy/Charts/\"\n",
    "        self.basename = source\n",
    "        \n",
    "\n",
    "        try:\n",
    "            self.cts    = {\"Billboard\": billboardCharts(), \"Top40\": top40Charts()}[source]\n",
    "            self.cFiles = {\"Billboard\": billboard40files(self.basedir), \"Top40\": top40files(self.basedir)}[source]\n",
    "            self.files  = self.cFiles.findFiles()\n",
    "        except:\n",
    "            raise ValueError(\"Could not create charts data for {0}\".format(source))\n",
    "\n",
    "                        \n",
    "        self.charts = []\n",
    "            \n",
    "        self.minYear   = minYear\n",
    "        self.maxYear   = maxYear\n",
    "        \n",
    "        self.artistRenames   = {}\n",
    "        self.dbRenames       = {}\n",
    "\n",
    "        self.chartData       = {}\n",
    "        self.fullChartData   = {}\n",
    "        self.artistAlbumData = {}\n",
    "        \n",
    "        \n",
    "    #####################################################################################################################################\n",
    "    ## Artist Data\n",
    "    #####################################################################################################################################\n",
    "    def getArtists(self):\n",
    "        return list(self.artistAlbumData.keys())\n",
    "        \n",
    "        \n",
    "    \n",
    "    #####################################################################################################################################\n",
    "    ## Full Chart Data\n",
    "    #####################################################################################################################################\n",
    "    def getFullChartDataFilename(self):\n",
    "        ifile=\"current{0}FullChartArtistAlbumData.p\".format(self.basename)\n",
    "        return ifile\n",
    "\n",
    "    def getFullChartData(self):\n",
    "        return getFile(self.getFullChartDataFilename())\n",
    "        \n",
    "    def saveFullChartData(self):\n",
    "        print(\"Saving {0} Full Artist Data\".format(len(self.fullChartData)))\n",
    "        saveFile(idata=self.fullChartData, ifile=self.getFullChartDataFilename(), debug=True)        \n",
    "        \n",
    "        \n",
    "    \n",
    "    #####################################################################################################################################\n",
    "    ## Artist Album Data\n",
    "    #####################################################################################################################################\n",
    "    def getArtistAlbumDataFilename(self):\n",
    "        ifile=\"current{0}ArtistAlbumData.p\".format(self.basename)\n",
    "        return ifile\n",
    "    \n",
    "    def setArtistAlbumData(self):\n",
    "        self.artistAlbumData = {artist: list(artistData[\"Songs\"].keys()) + list(artistData[\"Albums\"].keys()) for artist,artistData in self.fullChartData.items()}\n",
    "        \n",
    "    \n",
    "    def getArtistAlbumData(self):\n",
    "        return getFile(self.getArtistAlbumDataFilename())\n",
    "        \n",
    "    def saveArtistAlbumData(self):\n",
    "        print(\"Saving {0} Artist Album Data to {1}\".format(len(self.artistAlbumData), self.getArtistAlbumDataFilename()))\n",
    "        saveFile(idata=self.artistAlbumData, ifile=self.getArtistAlbumDataFilename(), debug=True)  \n",
    "        \n",
    "        \n",
    "    \n",
    "    #####################################################################################################################################\n",
    "    ## Rename Data\n",
    "    #####################################################################################################################################        \n",
    "    def setRenames(self, artistRenames):\n",
    "        self.artistRenames = artistRenames\n",
    "        \n",
    "    def setDBRenames(self, dbRenames):\n",
    "        self.dbRenames = dbRenames\n",
    "        \n",
    "        \n",
    "    \n",
    "    #####################################################################################################################################\n",
    "    ## Find Files\n",
    "    #####################################################################################################################################\n",
    "    def setChartUsage(self, name=None, rank=None):\n",
    "        if rank is not None:\n",
    "            if isinstance(rank, list):\n",
    "                for item in rank:\n",
    "                    self.charts += self.cts.getChartsByRank(item)\n",
    "            elif isinstance(rank, int):\n",
    "                self.charts += self.cts.getChartsByRank(rank)\n",
    "        elif name is not None:\n",
    "            self.charts += self.cts.getCharts(name)\n",
    "        else:\n",
    "            self.charts = self.cts.getCharts(None)\n",
    "        if name is None:\n",
    "            name = \"None\"\n",
    "        print(\"  Using Charts ({0}): {1}\".format(name, self.charts))\n",
    "        \n",
    "        \n",
    "        \n",
    "                \n",
    "    #####################################################################################################################################\n",
    "    ## Set Artist Album Data\n",
    "    #####################################################################################################################################\n",
    "    def setArtistAlbumData(self):\n",
    "        self.artistAlbumData = {artist: list(artistData[\"Songs\"].keys()) + list(artistData[\"Albums\"].keys()) for artist,artistData in self.fullChartData.items()}\n",
    "        print(\"There are {0} unique artist entries\".format(len(self.artistAlbumData)))\n",
    "        \n",
    "\n",
    "    #####################################################################################################################################\n",
    "    ## Set Full Chart Data\n",
    "    #####################################################################################################################################\n",
    "    def setFullChartData(self):\n",
    "        {\"Billboard\": self.setFullChartDataBillboard(), \"Top40\": self.setFullChartDataTop40()}[self.source]\n",
    "    \n",
    "    def setFullChartDataBillboard(self):        \n",
    "        renameStats  = Counter()\n",
    "        chartCounter = Counter()\n",
    "        \n",
    "        if len(self.files) == 0:\n",
    "            raise ValueError(\"There are no files. Something is wrong...\")\n",
    "        \n",
    "        for ifile in self.files:\n",
    "            fdata = getFile(ifile)\n",
    "            for chartName, cnameResults in fdata.items():\n",
    "                if chartName not in self.charts:\n",
    "                    continue\n",
    "                \n",
    "                for date, dResults in cnameResults.items():\n",
    "                    if self.minYear is not None:\n",
    "                        if getDateTime(date).year < int(self.minYear):\n",
    "                            continue\n",
    "                    if self.maxYear is not None:\n",
    "                        if getDateTime(date).year > int(self.maxYear):\n",
    "                            continue\n",
    "                    stryear = getDateTime(date).year\n",
    "\n",
    "                    artist = dResults[\"Artist\"]\n",
    "\n",
    "                    renamedArtist = artist\n",
    "                    for testArtist in self.artistRenames.keys():\n",
    "                        if artist.find(testArtist) != -1:\n",
    "                            tmp = renamedArtist\n",
    "                            renamedArtist = renamedArtist.replace(testArtist, self.artistRenames.get(testArtist))\n",
    "                            #print(\"{0}  <---- From ---- {1}\".format(renamedArtist, tmp))\n",
    "                            renameStats[renamedArtist] += 1\n",
    "                            artist = renamedArtist \n",
    "                    \n",
    "                    if self.dbRenames.get(artist) is not None:\n",
    "                        renamedArtist = self.dbRenames[artist]\n",
    "                        renameStats[renamedArtist] += 1\n",
    "                        artist = renamedArtist  \n",
    "\n",
    "                    ignoreStatus = getArtistIgnores(artist)\n",
    "                    if ignoreStatus is False:\n",
    "                        continue\n",
    "\n",
    "\n",
    "                    chartCounter[chartName] += 1\n",
    "\n",
    "                    album  = dResults[\"Name\"]\n",
    "\n",
    "                    if self.chartData.get(artist) is None:\n",
    "                        self.chartData[artist] = Counter()\n",
    "                    self.chartData[artist][album] += 1\n",
    "                    \n",
    "                    if self.fullChartData.get(artist) is None:\n",
    "                        self.fullChartData[artist] = {\"Songs\": {}, \"Albums\": {}}\n",
    "                    if chartName.endswith(\"Albums\"):\n",
    "                        key = \"Albums\"\n",
    "                    else:\n",
    "                        key = \"Songs\"\n",
    "                    if self.fullChartData[artist][key].get(album) is None:\n",
    "                        self.fullChartData[artist][key][album] = {}\n",
    "                    if self.fullChartData[artist][key][album].get(chartName) is None:\n",
    "                        self.fullChartData[artist][key][album][chartName] = {}\n",
    "                    self.fullChartData[artist][key][album][chartName][date] = 0\n",
    "                #print(\"{0: <40}{1}\".format(\"{0}-{1}\".format(chartName,stryear),len(self.fullChartData)))\n",
    "                \n",
    "        \n",
    "    def setFullChartDataTop40(self):\n",
    "        fullChartData = {}\n",
    "        renameStats   = Counter()\n",
    "        \n",
    "        #self.findFiles()\n",
    "        if len(self.files) == 0:\n",
    "            raise ValueError(\"There are no files. Something is wrong...\")\n",
    "        self.files = {getBaseFilename(x).replace(\"/\", \" \"): x for x in self.files}\n",
    "        \n",
    "        for chartName, ifile in self.files.items():\n",
    "            if chartName not in self.charts:\n",
    "                continue\n",
    "            print(\"==> {0: <40}\".format(chartName), end=\"\\t\")\n",
    "            #t40chart = top40chart(chartID, chartName, chartURL)\n",
    "            chartResults = getFile(ifile)\n",
    "\n",
    "            for date, values in chartResults.items():\n",
    "                if self.minYear is not None:\n",
    "                    if getDateTime(date).year < int(self.minYear):\n",
    "                        continue\n",
    "                if self.maxYear is not None:\n",
    "                    if getDateTime(date).year > int(self.maxYear):\n",
    "                        continue\n",
    "\n",
    "                        \n",
    "                for i,item in enumerate(values):\n",
    "                    artist = item[\"Artist\"]\n",
    "                    renamedArtist = artist\n",
    "                    for testArtist in self.artistRenames.keys():\n",
    "                        if artist.find(testArtist) != -1:\n",
    "                            tmp = renamedArtist\n",
    "                            renamedArtist = renamedArtist.replace(testArtist, self.artistRenames.get(testArtist))\n",
    "                            #print(\"{0}  <---- From ---- {1}\".format(renamedArtist, tmp))\n",
    "                            renameStats[renamedArtist] += 1\n",
    "                            artist = renamedArtist\n",
    "                    \n",
    "                    if self.dbRenames.get(artist) is not None:\n",
    "                        renamedArtist = self.dbRenames[artist]\n",
    "                        renameStats[renamedArtist] += 1\n",
    "                        artist = renamedArtist\n",
    "                    \n",
    "\n",
    "                    artist = artist.replace(\"\\r\", \"\")                    \n",
    "                    \n",
    "                    ignoreStatus = getArtistIgnores(artist)\n",
    "                    if ignoreStatus is False:\n",
    "                        continue\n",
    "                    \n",
    "                    album  = item[\"Album\"]\n",
    "                    if album in [\"Soundtrack\"]:\n",
    "                        continue\n",
    "\n",
    "                    if fullChartData.get(artist) is None:\n",
    "                        fullChartData[artist] = {\"Songs\": {}, \"Albums\": {}}\n",
    "                    if chartName.endswith(\"Albums\"):\n",
    "                        key = \"Albums\"\n",
    "                    else:\n",
    "                        key = \"Songs\"\n",
    "                    if fullChartData[artist][key].get(album) is None:\n",
    "                        fullChartData[artist][key][album] = {}\n",
    "                    if fullChartData[artist][key][album].get(chartName) is None:\n",
    "                        fullChartData[artist][key][album][chartName] = {}\n",
    "                    fullChartData[artist][key][album][chartName][date] = i\n",
    "            print(len(fullChartData))\n",
    "        self.fullChartData = fullChartData\n",
    "        \n",
    "        if self.artistRenames is not None:\n",
    "            print(\"Renamed {0} artists\".format(len(renameStats)))\n",
    "            print(\"Most Common Artists:\")\n",
    "            for item in renameStats.most_common(5):\n",
    "                print(item)"
   ]
  }
 ],
 "metadata": {
  "kernelspec": {
   "display_name": "Python 3",
   "language": "python",
   "name": "python3"
  },
  "language_info": {
   "codemirror_mode": {
    "name": "ipython",
    "version": 3
   },
   "file_extension": ".py",
   "mimetype": "text/x-python",
   "name": "python",
   "nbconvert_exporter": "python",
   "pygments_lexer": "ipython3",
   "version": "3.7.7"
  },
  "toc": {
   "base_numbering": 1,
   "nav_menu": {},
   "number_sections": true,
   "sideBar": true,
   "skip_h1_title": false,
   "title_cell": "Table of Contents",
   "title_sidebar": "Contents",
   "toc_cell": false,
   "toc_position": {},
   "toc_section_display": true,
   "toc_window_display": false
  }
 },
 "nbformat": 4,
 "nbformat_minor": 2
}
